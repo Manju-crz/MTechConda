import pandas as pd
from prophet import Prophet
from sklearn.metrics import mean_absolute_error, mean_squared_error
import numpy as np
import matplotlib.pyplot as plt


df = pd.read_csv("train.csv")
df['Month'] = pd.to_datetime(df['Month'], format='%d-%m-%Y')
df = df.rename(columns={'Month': 'ds', 'Avg_sunspot_count': 'y'})


train_df = df[df['ds'] < '2001-01-01']
test_df = df[(df['ds'] >= '2001-01-01') & (df['ds'] <= '2010-12-01')]


model = Prophet(yearly_seasonality=True)
model.fit(train_df)


future = model.make_future_dataframe(periods=120, freq='MS')
forecast = model.predict(future)


forecast_test = forecast[(forecast['ds'] >= '2001-01-01') & (forecast['ds'] <= '2010-12-01')]
merged = forecast_test[['ds', 'yhat']].merge(test_df, on='ds')


mae = mean_absolute_error(merged['y'], merged['yhat'])
rmse = np.sqrt(mean_squared_error(merged['y'], merged['yhat']))
mape = np.mean(np.abs((merged['y'] - merged['yhat']) / merged['y'])) * 100


print(f"MAE: {mae:.2f}")
print(f"RMSE: {rmse:.2f}")
print(f"MAPE: {mape:.2f}%")


plt.figure(figsize=(12, 5))
plt.plot(merged['ds'], merged['y'], label='Actual')
plt.plot(merged['ds'], merged['yhat'], label='Predicted')
plt.title('Sunspot Count Forecast (2001–2010)')
plt.xlabel('Date')
plt.ylabel('Avg Sunspot Count')
plt.legend()
plt.grid(True)
plt.tight_layout()
plt.show()



