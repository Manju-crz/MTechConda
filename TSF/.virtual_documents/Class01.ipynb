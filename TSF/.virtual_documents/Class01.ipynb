import pandas as pd
import numpy as np
import matplotlib.pyplot as plt
import seaborn as sns








passengers = pd.read_csv("AirPassenger.csv")


passengers.head()


passengers.dtypes


passengers['Year-Month'] = pd.to_datetime(passengers['Year-Month'], format = '%Y-%b')


passengers.dtypes


ts_passengers = passengers.set_index('Year-Month')
ts_passengers.dtypes


ts_passengers.head()


ts_passengers['Pax']


ts_passengers.plot.line()





pip install yfinance


import yfinance as yf


ticker = 'GOOG'
google = yf.download(ticker, period = '3mo')





ts_google = google[('Close', 'GOOG')]
ts_google.head(10)





ts_google.index.min(), ts_google.index.max()


dates = pd.date_range(start='2024-12-09', end='2025-03-07', freq='1d')


df_google = pd.DataFrame(index = dates)


df_google['close'] = ts_google
df_google.head(10)


ts_google_new = df_google['close']
ts_google_new.head(10)





ts_google.resample(rule='1ME').sum()


ts_google.resample(rule='1d').mean().head(10)


ts_google_new = ts_google.resample(rule='1d').mean()


ts_google_new.plot.line()


ts_google_new.mean()


ts_google_imputed = ts_google_new.ffill()
#ts_google_imputed = ts_google_new.interpolate()
ts_google_imputed.head(10)


ts_google_imputed.plot.line()











df = pd.DataFrame(ts_passengers)
df['Pax_lag1'] = df['Pax'].shift(1)


df


df['Pax_lag2'] = df['Pax'].shift(2)
df


df.corr()


for i in range(1,20):
    df[f'Pax_lag{i}'] = df['Pax'].shift(i)
df.corr()


df.corr()['Pax'].plot.bar()





df = pd.DataFrame({'x': np.random.randn(1000)})


for i in range(1,20):
    df[f'x_lag{i}'] = df['x'].shift(i)


df.corr()['x'].plot.bar()





from statsmodels.graphics.tsaplots import plot_acf


df = pd.DataFrame({'x' : np.random.randn(1000)})


plot_acf(df['x']);


plot_acf(ts_google_imputed);








ts_passengers.shape


ts_passengers_train = ts_passengers[:100]
ts_passengers_test = ts_passengers[100:]


fig, ax = plt.subplots()
ts_passengers_train.plot.line(ax = ax)
ts_passengers_test.plot.line(ax = ax)
plt.legend(['Training data','testing data'])
plt.show()


ts_passengers.head()








from statsmodels.tsa.seasonal import seasonal_decompose


ts_comp = seasonal_decompose(
    ts_passengers_train, model = 'additive', period = 12
)
ts_comp.plot();








df_ma = pd.DataFrame(ts_passengers_train)
df_ma['ma_w3'] = df_ma['Pax'].rolling(3).mean()
df_ma['ma_w5'] = df_ma['Pax'].rolling(5).mean()
df_ma['ma_w7'] = df_ma['Pax'].rolling(7).mean()
df_ma['Pax'].plot.line()
df_ma['ma_w3'].plot.line()
df_ma['ma_w5'].plot.line()
df_ma['ma_w7'].plot.line()
plt.legend(['Original data','MA(3) data','MA(5) data','MA(7) data'])
plt.show()

















from statsmodels.tsa.api import SimpleExpSmoothing


model_ses = SimpleExpSmoothing(
    ts_passengers_train,
    initialization_method='estimated',
).fit(optimized=True)
model_ses.summary()


ts_passengers_pred = model_ses.forecast(steps=len(ts_passengers_test))


fig, ax = plt.subplots()
ts_passengers_train.plot.line(ax=ax)
ts_passengers_test.plot.line(ax=ax)
ts_passengers_pred.plot.line(ax=ax)
plt.legend(['Train data','Test data','Predicted data'])








from statsmodels.tsa.api import Holt


model_holt = Holt(
    ts_passengers_train,
    initialization_method='estimated',
).fit(optimized=True)
#model_ses.summary()


ts_passengers_pred = model_holt.forecast(steps=len(ts_passengers_test))





fig, ax = plt.subplots()
ts_passengers_train.plot.line(ax=ax)
ts_passengers_test.plot.line(ax=ax)
ts_passengers_pred.plot.line(ax=ax)
plt.legend(['Train data','Test data','Predicted data'])








from statsmodels.tsa.api import ExponentialSmoothing


model_holt__winters = ExponentialSmoothing(
    ts_passengers_train,
    initialization_method='estimated',
    trend = "add",
    seasonal = 'add'
).fit(optimized=True)
#model_ses.summary()


ts_passengers_pred = model_holt__winters.forecast(steps=len(ts_passengers_test))
fig, ax = plt.subplots()
ts_passengers_train.plot.line(ax=ax)
ts_passengers_test.plot.line(ax=ax)
ts_passengers_pred.plot.line(ax=ax)
plt.legend(['Train data','Test data','Predicted data'])


from sklearn.metrics import root_mean_squared_error
rmse = root_mean_squared_error(ts_passengers_test, ts_passengers_pred)
rmse





model_holt__winters = ExponentialSmoothing(
    ts_passengers_train,
    initialization_method='estimated',
    trend = "additive",
    seasonal = 'multiplicative'
).fit(optimized=True)
#model_ses.summary()
ts_passengers_pred = model_holt__winters.forecast(steps=len(ts_passengers_test))
fig, ax = plt.subplots()
ts_passengers_train.plot.line(ax=ax)
ts_passengers_test.plot.line(ax=ax)
ts_passengers_pred.plot.line(ax=ax)
plt.legend(['Train data','Test data','Predicted data'])
from sklearn.metrics import root_mean_squared_error
rmse = root_mean_squared_error(ts_passengers_test, ts_passengers_pred)
rmse




















Introduction to Statistical learning


































