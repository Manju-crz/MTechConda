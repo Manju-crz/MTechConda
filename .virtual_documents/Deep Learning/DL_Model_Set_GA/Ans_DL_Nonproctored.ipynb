import tensorflow as tf
from tensorflow.keras.preprocessing.image import ImageDataGenerator
from tensorflow.keras import layers, models







# Paths to data
train_dir = 'Dataset/Train'
valid_dir = 'Dataset/Valid'

# Step 1: Data preprocessing
train_datagen = ImageDataGenerator(rescale=1./255)   # Normalize pixels
valid_datagen = ImageDataGenerator(rescale=1./255)

# Step 2: Load images from directories
train_generator = train_datagen.flow_from_directory(
    train_dir,
    target_size=(128, 128),     # Resize all images to 128x128
    batch_size=32,
    class_mode='binary'         # Because it's binary classification
)

valid_generator = valid_datagen.flow_from_directory(
    valid_dir,
    target_size=(128, 128),
    batch_size=32,
    class_mode='binary'
)



model = models.Sequential([
    layers.Conv2D(32, (3, 3), activation='relu', input_shape=(128, 128, 3)),
    layers.MaxPooling2D(2, 2),
    
    layers.Conv2D(64, (3, 3), activation='relu'),
    layers.MaxPooling2D(2, 2),

    layers.Conv2D(128, (3, 3), activation='relu'),
    layers.MaxPooling2D(2, 2),
    
    layers.Flatten(),
    layers.Dense(128, activation='relu'),
    layers.Dense(1, activation='sigmoid')  # Binary classification
])



model.compile(
    optimizer='adam',
    loss='binary_crossentropy',
    metrics=['accuracy']
)



history = model.fit(
    train_generator,
    epochs=10,
    validation_data=valid_generator
)









# Evaluate
loss, acc = model.evaluate(valid_generator)
print(f"Validation Accuracy: {acc*100:.2f}%")

# Save if needed
# model.save("dog_vs_wolf_model.h5")




