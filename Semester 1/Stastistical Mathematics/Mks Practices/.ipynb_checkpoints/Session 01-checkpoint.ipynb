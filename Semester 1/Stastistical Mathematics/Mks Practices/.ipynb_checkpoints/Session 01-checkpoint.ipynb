{
 "cells": [
  {
   "cell_type": "code",
   "execution_count": 7,
   "id": "bb9d589b-f4f6-4b43-9c44-83ef21d97258",
   "metadata": {},
   "outputs": [
    {
     "data": {
      "text/html": [
       "<div>\n",
       "<style scoped>\n",
       "    .dataframe tbody tr th:only-of-type {\n",
       "        vertical-align: middle;\n",
       "    }\n",
       "\n",
       "    .dataframe tbody tr th {\n",
       "        vertical-align: top;\n",
       "    }\n",
       "\n",
       "    .dataframe thead th {\n",
       "        text-align: right;\n",
       "    }\n",
       "</style>\n",
       "<table border=\"1\" class=\"dataframe\">\n",
       "  <thead>\n",
       "    <tr style=\"text-align: right;\">\n",
       "      <th></th>\n",
       "      <th>order_id</th>\n",
       "      <th>item_id</th>\n",
       "      <th>product_id</th>\n",
       "      <th>quantity</th>\n",
       "      <th>list_price</th>\n",
       "      <th>discount</th>\n",
       "    </tr>\n",
       "  </thead>\n",
       "  <tbody>\n",
       "    <tr>\n",
       "      <th>0</th>\n",
       "      <td>1</td>\n",
       "      <td>1</td>\n",
       "      <td>20</td>\n",
       "      <td>1</td>\n",
       "      <td>599.99</td>\n",
       "      <td>0.20</td>\n",
       "    </tr>\n",
       "    <tr>\n",
       "      <th>1</th>\n",
       "      <td>1</td>\n",
       "      <td>2</td>\n",
       "      <td>8</td>\n",
       "      <td>2</td>\n",
       "      <td>1799.99</td>\n",
       "      <td>0.07</td>\n",
       "    </tr>\n",
       "    <tr>\n",
       "      <th>2</th>\n",
       "      <td>1</td>\n",
       "      <td>3</td>\n",
       "      <td>10</td>\n",
       "      <td>2</td>\n",
       "      <td>1549.00</td>\n",
       "      <td>0.05</td>\n",
       "    </tr>\n",
       "    <tr>\n",
       "      <th>3</th>\n",
       "      <td>1</td>\n",
       "      <td>4</td>\n",
       "      <td>16</td>\n",
       "      <td>2</td>\n",
       "      <td>599.99</td>\n",
       "      <td>0.05</td>\n",
       "    </tr>\n",
       "    <tr>\n",
       "      <th>4</th>\n",
       "      <td>1</td>\n",
       "      <td>5</td>\n",
       "      <td>4</td>\n",
       "      <td>1</td>\n",
       "      <td>2899.99</td>\n",
       "      <td>0.20</td>\n",
       "    </tr>\n",
       "    <tr>\n",
       "      <th>5</th>\n",
       "      <td>2</td>\n",
       "      <td>1</td>\n",
       "      <td>20</td>\n",
       "      <td>1</td>\n",
       "      <td>599.99</td>\n",
       "      <td>0.07</td>\n",
       "    </tr>\n",
       "    <tr>\n",
       "      <th>6</th>\n",
       "      <td>2</td>\n",
       "      <td>2</td>\n",
       "      <td>16</td>\n",
       "      <td>2</td>\n",
       "      <td>599.99</td>\n",
       "      <td>0.05</td>\n",
       "    </tr>\n",
       "    <tr>\n",
       "      <th>7</th>\n",
       "      <td>3</td>\n",
       "      <td>1</td>\n",
       "      <td>3</td>\n",
       "      <td>1</td>\n",
       "      <td>999.99</td>\n",
       "      <td>0.05</td>\n",
       "    </tr>\n",
       "    <tr>\n",
       "      <th>8</th>\n",
       "      <td>3</td>\n",
       "      <td>2</td>\n",
       "      <td>20</td>\n",
       "      <td>1</td>\n",
       "      <td>599.99</td>\n",
       "      <td>0.05</td>\n",
       "    </tr>\n",
       "    <tr>\n",
       "      <th>9</th>\n",
       "      <td>4</td>\n",
       "      <td>1</td>\n",
       "      <td>2</td>\n",
       "      <td>2</td>\n",
       "      <td>749.99</td>\n",
       "      <td>0.10</td>\n",
       "    </tr>\n",
       "    <tr>\n",
       "      <th>10</th>\n",
       "      <td>5</td>\n",
       "      <td>1</td>\n",
       "      <td>10</td>\n",
       "      <td>2</td>\n",
       "      <td>1549.00</td>\n",
       "      <td>0.05</td>\n",
       "    </tr>\n",
       "    <tr>\n",
       "      <th>11</th>\n",
       "      <td>5</td>\n",
       "      <td>2</td>\n",
       "      <td>17</td>\n",
       "      <td>1</td>\n",
       "      <td>429.00</td>\n",
       "      <td>0.07</td>\n",
       "    </tr>\n",
       "    <tr>\n",
       "      <th>12</th>\n",
       "      <td>5</td>\n",
       "      <td>3</td>\n",
       "      <td>26</td>\n",
       "      <td>1</td>\n",
       "      <td>599.99</td>\n",
       "      <td>0.07</td>\n",
       "    </tr>\n",
       "    <tr>\n",
       "      <th>13</th>\n",
       "      <td>6</td>\n",
       "      <td>1</td>\n",
       "      <td>18</td>\n",
       "      <td>1</td>\n",
       "      <td>449.00</td>\n",
       "      <td>0.07</td>\n",
       "    </tr>\n",
       "  </tbody>\n",
       "</table>\n",
       "</div>"
      ],
      "text/plain": [
       "    order_id  item_id  product_id  quantity  list_price  discount\n",
       "0          1        1          20         1      599.99      0.20\n",
       "1          1        2           8         2     1799.99      0.07\n",
       "2          1        3          10         2     1549.00      0.05\n",
       "3          1        4          16         2      599.99      0.05\n",
       "4          1        5           4         1     2899.99      0.20\n",
       "5          2        1          20         1      599.99      0.07\n",
       "6          2        2          16         2      599.99      0.05\n",
       "7          3        1           3         1      999.99      0.05\n",
       "8          3        2          20         1      599.99      0.05\n",
       "9          4        1           2         2      749.99      0.10\n",
       "10         5        1          10         2     1549.00      0.05\n",
       "11         5        2          17         1      429.00      0.07\n",
       "12         5        3          26         1      599.99      0.07\n",
       "13         6        1          18         1      449.00      0.07"
      ]
     },
     "execution_count": 7,
     "metadata": {},
     "output_type": "execute_result"
    }
   ],
   "source": [
    "import pandas as pd\n",
    "df = pd.read_csv('order_items.csv')\n",
    "df"
   ]
  },
  {
   "cell_type": "code",
   "execution_count": 11,
   "id": "773e91a1-fedd-460e-80fa-54c0d33063c6",
   "metadata": {},
   "outputs": [],
   "source": [
    "price = df.list_price"
   ]
  },
  {
   "cell_type": "code",
   "execution_count": 13,
   "id": "3e39250a-00b9-4775-8535-659d3da37ff4",
   "metadata": {},
   "outputs": [
    {
     "data": {
      "text/plain": [
       "1001.8499999999998"
      ]
     },
     "execution_count": 13,
     "metadata": {},
     "output_type": "execute_result"
    }
   ],
   "source": [
    "price.mean()"
   ]
  },
  {
   "cell_type": "code",
   "execution_count": 17,
   "id": "ca11b721-800c-43da-8096-c7a75cb97188",
   "metadata": {},
   "outputs": [
    {
     "data": {
      "text/plain": [
       "599.99"
      ]
     },
     "execution_count": 17,
     "metadata": {},
     "output_type": "execute_result"
    }
   ],
   "source": [
    "price.median()"
   ]
  },
  {
   "cell_type": "code",
   "execution_count": 23,
   "id": "87110988-9481-4c75-a29a-423e729bf395",
   "metadata": {},
   "outputs": [
    {
     "data": {
      "text/plain": [
       "11     429.00\n",
       "13     449.00\n",
       "0      599.99\n",
       "3      599.99\n",
       "5      599.99\n",
       "6      599.99\n",
       "8      599.99\n",
       "12     599.99\n",
       "9      749.99\n",
       "7      999.99\n",
       "2     1549.00\n",
       "10    1549.00\n",
       "1     1799.99\n",
       "4     2899.99\n",
       "Name: list_price, dtype: float64"
      ]
     },
     "execution_count": 23,
     "metadata": {},
     "output_type": "execute_result"
    }
   ],
   "source": [
    "price.sort_values(ascending = True)"
   ]
  },
  {
   "cell_type": "code",
   "execution_count": 25,
   "id": "7e422162-6096-4a1c-b367-c2537e6da30b",
   "metadata": {},
   "outputs": [
    {
     "data": {
      "text/plain": [
       "0    599.99\n",
       "Name: list_price, dtype: float64"
      ]
     },
     "execution_count": 25,
     "metadata": {},
     "output_type": "execute_result"
    }
   ],
   "source": [
    "price.mode()"
   ]
  },
  {
   "cell_type": "code",
   "execution_count": 27,
   "id": "6e95102a-6e75-447a-8392-740d1fa2ae0e",
   "metadata": {},
   "outputs": [
    {
     "data": {
      "text/plain": [
       "599.99"
      ]
     },
     "execution_count": 27,
     "metadata": {},
     "output_type": "execute_result"
    }
   ],
   "source": [
    "price.quantile(.25)"
   ]
  },
  {
   "cell_type": "code",
   "execution_count": 29,
   "id": "b9521182-70a9-4edc-9d70-9d3c5175f2f0",
   "metadata": {},
   "outputs": [
    {
     "data": {
      "text/plain": [
       "599.99"
      ]
     },
     "execution_count": 29,
     "metadata": {},
     "output_type": "execute_result"
    }
   ],
   "source": [
    "price.quantile(.50)"
   ]
  },
  {
   "cell_type": "code",
   "execution_count": 31,
   "id": "da33c17c-abdb-46e3-868e-d7d3843d4d2d",
   "metadata": {},
   "outputs": [
    {
     "data": {
      "text/plain": [
       "1411.7475"
      ]
     },
     "execution_count": 31,
     "metadata": {},
     "output_type": "execute_result"
    }
   ],
   "source": [
    "price.quantile(.75)"
   ]
  },
  {
   "cell_type": "code",
   "execution_count": 45,
   "id": "8f8ae21f-85c7-4f54-9bdb-ea44c21db3f8",
   "metadata": {},
   "outputs": [
    {
     "data": {
      "text/plain": [
       "0.1     494.297\n",
       "0.2     599.990\n",
       "0.3     599.990\n",
       "0.4     599.990\n",
       "0.5     599.990\n",
       "0.6     719.990\n",
       "0.7    1054.891\n",
       "0.8    1549.000\n",
       "0.9    1724.693\n",
       "Name: list_price, dtype: float64"
      ]
     },
     "execution_count": 45,
     "metadata": {},
     "output_type": "execute_result"
    }
   ],
   "source": [
    "deciles = price.quantile([0.1 * i for i in range(1, 10)])\n",
    "deciles"
   ]
  },
  {
   "cell_type": "code",
   "execution_count": 63,
   "id": "552944d2-492b-4031-b5c2-64b4b314557b",
   "metadata": {},
   "outputs": [
    {
     "data": {
      "text/plain": [
       "844.792"
      ]
     },
     "execution_count": 63,
     "metadata": {},
     "output_type": "execute_result"
    }
   ],
   "source": [
    "from scipy import stats\n",
    "stats.trim_mean(price, proportiontocut=0.20)"
   ]
  },
  {
   "cell_type": "code",
   "execution_count": 65,
   "id": "791d3cd0-79f7-444c-be0b-42bd392cf211",
   "metadata": {},
   "outputs": [
    {
     "data": {
      "text/plain": [
       "1001.8499999999998"
      ]
     },
     "execution_count": 65,
     "metadata": {},
     "output_type": "execute_result"
    }
   ],
   "source": [
    "price.mean()"
   ]
  },
  {
   "cell_type": "code",
   "execution_count": null,
   "id": "2c28fadd-7110-4fe2-b497-858655556f6b",
   "metadata": {},
   "outputs": [],
   "source": []
  },
  {
   "cell_type": "code",
   "execution_count": 67,
   "id": "ac4c9afe-fa70-43a7-932b-b182ba4181f6",
   "metadata": {},
   "outputs": [
    {
     "data": {
      "image/png": "[encoded data removed]",
      "text/plain": [
       "<Figure size 1000x600 with 1 Axes>"
      ]
     },
     "metadata": {},
     "output_type": "display_data"
    }
   ],
   "source": [
    "import pandas as pd\n",
    "import matplotlib.pyplot as plt\n",
    "\n",
    "# Sample data\n",
    "data = [5, 2, 9, 1, 5, 6, 3, 8, 4, 7, 3, 2, 5, 6, 8, 7, 9]\n",
    "\n",
    "# Create a pandas Series\n",
    "series = pd.Series(data)\n",
    "\n",
    "# Plotting the histogram\n",
    "plt.figure(figsize=(10, 6))\n",
    "plt.hist(series, bins=5, edgecolor='black', alpha=0.7)\n",
    "plt.title('Histogram of Data')\n",
    "plt.xlabel('Value')\n",
    "plt.ylabel('Frequency')\n",
    "plt.grid(axis='y')\n",
    "\n",
    "# Show the plot\n",
    "plt.show()\n"
   ]
  },
  {
   "cell_type": "code",
   "execution_count": null,
   "id": "632844c9-5f2f-4642-80b5-e4ddb5840d47",
   "metadata": {},
   "outputs": [],
   "source": []
  },
  {
   "cell_type": "code",
   "execution_count": 69,
   "id": "bfae30bb-4936-4a4c-91d2-7b51a0734f49",
   "metadata": {},
   "outputs": [
    {
     "data": {
      "image/png": "[encoded data removed]",
      "text/plain": [
       "<Figure size 1000x600 with 1 Axes>"
      ]
     },
     "metadata": {},
     "output_type": "display_data"
    }
   ],
   "source": [
    "import pandas as pd\n",
    "import matplotlib.pyplot as plt\n",
    "import seaborn as sns\n",
    "\n",
    "# Sample data\n",
    "data = [5, 2, 9, 1, 5, 6, 3, 8, 4, 7, 3, 2, 5, 6, 8, 7, 9]\n",
    "\n",
    "# Create a pandas Series\n",
    "series = pd.Series(data)\n",
    "\n",
    "# Set up the plot\n",
    "plt.figure(figsize=(10, 6))\n",
    "\n",
    "# Create a histogram with a density curve\n",
    "sns.histplot(series, bins=5, kde=True, color='skyblue', edgecolor='black', alpha=0.7)\n",
    "\n",
    "# Add titles and labels\n",
    "plt.title('Frequency Curve of Data')\n",
    "plt.xlabel('Value')\n",
    "plt.ylabel('Density')\n",
    "plt.grid(axis='y')\n",
    "\n",
    "# Show the plot\n",
    "plt.show()\n"
   ]
  },
  {
   "cell_type": "code",
   "execution_count": null,
   "id": "a873cccd-00ec-47bf-bbee-2f8ff190e3c6",
   "metadata": {},
   "outputs": [],
   "source": []
  },
  {
   "cell_type": "code",
   "execution_count": 71,
   "id": "b95d7d46-6939-4d02-88c7-93bd15843bef",
   "metadata": {},
   "outputs": [
    {
     "data": {
      "text/plain": [
       "500376.5450769228"
      ]
     },
     "execution_count": 71,
     "metadata": {},
     "output_type": "execute_result"
    }
   ],
   "source": [
    "price.var()"
   ]
  },
  {
   "cell_type": "code",
   "execution_count": 73,
   "id": "91162d26-4bb0-403d-b708-0a574bc1deef",
   "metadata": {},
   "outputs": [
    {
     "data": {
      "text/plain": [
       "707.3729886537391"
      ]
     },
     "execution_count": 73,
     "metadata": {},
     "output_type": "execute_result"
    }
   ],
   "source": [
    "price.std()"
   ]
  },
  {
   "cell_type": "code",
   "execution_count": 75,
   "id": "7e2444e9-2cb5-4b53-996e-3ed5770b2278",
   "metadata": {},
   "outputs": [
    {
     "data": {
      "text/plain": [
       "500376.54507692286"
      ]
     },
     "execution_count": 75,
     "metadata": {},
     "output_type": "execute_result"
    }
   ],
   "source": [
    "707.3729886537391 * 707.3729886537391"
   ]
  },
  {
   "cell_type": "code",
   "execution_count": 77,
   "id": "fdc60752-b566-44d6-9b2a-200ce2baa021",
   "metadata": {},
   "outputs": [
    {
     "name": "stdout",
     "output_type": "stream",
     "text": [
      "Sample Variance: 500376.5450769228\n",
      "Population Variance: 464635.363285714\n"
     ]
    }
   ],
   "source": [
    "sample_variance = price.var(ddof=1)  # Default, ddof=1\n",
    "print(\"Sample Variance:\", sample_variance)\n",
    "\n",
    "# Population variance\n",
    "population_variance = price.var(ddof=0)  # Set ddof=0 for population variance\n",
    "print(\"Population Variance:\", population_variance)"
   ]
  },
  {
   "cell_type": "code",
   "execution_count": null,
   "id": "17251404-17a5-4a14-a848-8cef1239247c",
   "metadata": {},
   "outputs": [],
   "source": []
  },
  {
   "cell_type": "code",
   "execution_count": null,
   "id": "ceefd497-2eb7-42f7-8e7f-170c86baeef1",
   "metadata": {},
   "outputs": [],
   "source": []
  },
  {
   "cell_type": "code",
   "execution_count": null,
   "id": "47e637f4-eaa8-42c1-938d-bd27406d9f91",
   "metadata": {},
   "outputs": [],
   "source": []
  },
  {
   "cell_type": "code",
   "execution_count": null,
   "id": "eaf497a5-c80c-4fbc-8542-a98b35bf179a",
   "metadata": {},
   "outputs": [],
   "source": []
  },
  {
   "cell_type": "code",
   "execution_count": null,
   "id": "74f8cca1-6134-4dbc-8e32-3d6f7745435f",
   "metadata": {},
   "outputs": [],
   "source": []
  },
  {
   "cell_type": "code",
   "execution_count": null,
   "id": "b4245c2f-2f17-4548-854e-a60299ef14c0",
   "metadata": {},
   "outputs": [],
   "source": []
  },
  {
   "cell_type": "code",
   "execution_count": null,
   "id": "e299d8ec-b861-4c56-85bc-6b89846a6413",
   "metadata": {},
   "outputs": [],
   "source": []
  },
  {
   "cell_type": "code",
   "execution_count": null,
   "id": "5db4bdf4-ad82-43b4-ab93-59baac6c8fbe",
   "metadata": {},
   "outputs": [],
   "source": []
  },
  {
   "cell_type": "code",
   "execution_count": null,
   "id": "735b439f-7b57-4471-9773-0f439e38c053",
   "metadata": {},
   "outputs": [],
   "source": []
  },
  {
   "cell_type": "code",
   "execution_count": null,
   "id": "d26a20a0-c16f-4692-a8de-99f6e71523cf",
   "metadata": {},
   "outputs": [],
   "source": []
  },
  {
   "cell_type": "code",
   "execution_count": null,
   "id": "2bc38645-fb6f-49e7-81df-b8439e1239cf",
   "metadata": {},
   "outputs": [],
   "source": []
  },
  {
   "cell_type": "code",
   "execution_count": null,
   "id": "cff508b1-7a8e-4cbd-bff6-1d59c67e6336",
   "metadata": {},
   "outputs": [],
   "source": []
  },
  {
   "cell_type": "code",
   "execution_count": null,
   "id": "47c63cbe-6aec-4df4-806c-75e4c6b2688a",
   "metadata": {},
   "outputs": [],
   "source": []
  },
  {
   "cell_type": "code",
   "execution_count": null,
   "id": "a8a9db99-7984-43d3-b7a8-829d0cd58920",
   "metadata": {},
   "outputs": [],
   "source": []
  }
 ],
 "metadata": {
  "kernelspec": {
   "display_name": "Python 3 (ipykernel)",
   "language": "python",
   "name": "python3"
  },
  "language_info": {
   "codemirror_mode": {
    "name": "ipython",
    "version": 3
   },
   "file_extension": ".py",
   "mimetype": "text/x-python",
   "name": "python",
   "nbconvert_exporter": "python",
   "pygments_lexer": "ipython3",
   "version": "3.12.4"
  }
 },
 "nbformat": 4,
 "nbformat_minor": 5
}
