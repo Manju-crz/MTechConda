{
 "cells": [
  {
   "cell_type": "code",
   "execution_count": 3,
   "id": "684b27ae-6d88-4228-b9da-791950dc5ad4",
   "metadata": {},
   "outputs": [],
   "source": [
    "import scipy.stats as st"
   ]
  },
  {
   "cell_type": "code",
   "execution_count": 5,
   "id": "41215bd1-7ca1-468a-907b-b19e0bd19b7a",
   "metadata": {},
   "outputs": [],
   "source": [
    "n=3\n",
    "p=0.5"
   ]
  },
  {
   "cell_type": "code",
   "execution_count": 9,
   "id": "448e662c-6141-42c6-9c45-38f9af9a7b2a",
   "metadata": {},
   "outputs": [
    {
     "data": {
      "text/plain": [
       "0.12499999999999999"
      ]
     },
     "execution_count": 9,
     "metadata": {},
     "output_type": "execute_result"
    }
   ],
   "source": [
    "st.binom.pmf(0,3,0.5)"
   ]
  },
  {
   "cell_type": "code",
   "execution_count": 13,
   "id": "cf8a25f0-7dc1-4db9-bfcd-d699783094b2",
   "metadata": {},
   "outputs": [
    {
     "data": {
      "application/javascript": [
       "\n",
       "        if (window._pyforest_update_imports_cell) { window._pyforest_update_imports_cell('import numpy as np'); }\n",
       "    "
      ],
      "text/plain": [
       "<IPython.core.display.Javascript object>"
      ]
     },
     "metadata": {},
     "output_type": "display_data"
    }
   ],
   "source": [
    "x = np.arange(0,4)"
   ]
  },
  {
   "cell_type": "code",
   "execution_count": 15,
   "id": "5bb95591-893a-42ee-80f9-892d9787574b",
   "metadata": {},
   "outputs": [
    {
     "data": {
      "text/plain": [
       "array([0.125, 0.375, 0.375, 0.125])"
      ]
     },
     "execution_count": 15,
     "metadata": {},
     "output_type": "execute_result"
    }
   ],
   "source": [
    "st.binom.pmf(x,3,0.5)"
   ]
  },
  {
   "cell_type": "code",
   "execution_count": 19,
   "id": "4ca7f81a-efe3-4dc7-8234-13f55fc1938c",
   "metadata": {},
   "outputs": [
    {
     "data": {
      "text/plain": [
       "array([0.125, 0.5  , 0.875, 1.   ])"
      ]
     },
     "execution_count": 19,
     "metadata": {},
     "output_type": "execute_result"
    }
   ],
   "source": [
    "st.binom.cdf(x,3,0.5)"
   ]
  },
  {
   "cell_type": "code",
   "execution_count": 23,
   "id": "9c6d32aa-f78d-4ff3-bf94-377f6229f0a2",
   "metadata": {},
   "outputs": [
    {
     "data": {
      "text/plain": [
       "array([1.   , 0.875, 0.5  , 0.125])"
      ]
     },
     "execution_count": 23,
     "metadata": {},
     "output_type": "execute_result"
    }
   ],
   "source": [
    "st.binom.sf(x-1,3,0.5)"
   ]
  },
  {
   "cell_type": "code",
   "execution_count": 25,
   "id": "0b697b43-98b9-4fa4-9621-14a42dd4a687",
   "metadata": {},
   "outputs": [
    {
     "data": {
      "text/plain": [
       "1.0"
      ]
     },
     "execution_count": 25,
     "metadata": {},
     "output_type": "execute_result"
    }
   ],
   "source": [
    "st.binom.cdf(1,3,0.5) + st.binom.sf(1,3,0.5)"
   ]
  },
  {
   "cell_type": "code",
   "execution_count": 27,
   "id": "115fa680-5cdb-4135-9839-922dd8bf0421",
   "metadata": {},
   "outputs": [
    {
     "data": {
      "text/plain": [
       "(1.5, 0.75)"
      ]
     },
     "execution_count": 27,
     "metadata": {},
     "output_type": "execute_result"
    }
   ],
   "source": [
    "st.binom.stats(n,p)"
   ]
  },
  {
   "cell_type": "code",
   "execution_count": null,
   "id": "8414185d-2610-48d0-934d-4e8f25f2dfbe",
   "metadata": {},
   "outputs": [],
   "source": []
  },
  {
   "cell_type": "code",
   "execution_count": 41,
   "id": "9c6498d1-aee8-40b7-b1f6-aa9cf52bc646",
   "metadata": {},
   "outputs": [],
   "source": [
    "p = 0.3\n",
    "n = 40\n",
    "##P(x=12)=?"
   ]
  },
  {
   "cell_type": "code",
   "execution_count": 43,
   "id": "69bcc839-483c-4c17-9e93-987532ff53a4",
   "metadata": {},
   "outputs": [
    {
     "data": {
      "text/plain": [
       "0.13657382060056145"
      ]
     },
     "execution_count": 43,
     "metadata": {},
     "output_type": "execute_result"
    }
   ],
   "source": [
    "## P(x=12)=?\n",
    "st.binom.pmf(12,n,p)"
   ]
  },
  {
   "cell_type": "code",
   "execution_count": 47,
   "id": "4f42b711-6f51-4d0c-ad7b-f734dac4c45f",
   "metadata": {},
   "outputs": [
    {
     "data": {
      "application/javascript": [
       "\n",
       "        if (window._pyforest_update_imports_cell) { window._pyforest_update_imports_cell('import numpy as np'); }\n",
       "    "
      ],
      "text/plain": [
       "<IPython.core.display.Javascript object>"
      ]
     },
     "metadata": {},
     "output_type": "display_data"
    },
    {
     "data": {
      "text/plain": [
       "0.19255175473517608"
      ]
     },
     "execution_count": 47,
     "metadata": {},
     "output_type": "execute_result"
    }
   ],
   "source": [
    "# what is the prob of purchase of min 15 customers purchase the product?\n",
    "x = np.arange(15,41)\n",
    "st.binom.pmf(x,n,p).sum()"
   ]
  },
  {
   "cell_type": "code",
   "execution_count": 51,
   "id": "a81a3abd-8aef-4514-84dc-2cde74ccbdc2",
   "metadata": {},
   "outputs": [
    {
     "data": {
      "text/plain": [
       "0.1925517547351756"
      ]
     },
     "execution_count": 51,
     "metadata": {},
     "output_type": "execute_result"
    }
   ],
   "source": [
    "1-st.binom.cdf(14,n,p)"
   ]
  },
  {
   "cell_type": "code",
   "execution_count": 53,
   "id": "3ed050e8-77b2-4867-aef2-9b0cab60f62e",
   "metadata": {},
   "outputs": [
    {
     "data": {
      "text/plain": [
       "0.19255175473517566"
      ]
     },
     "execution_count": 53,
     "metadata": {},
     "output_type": "execute_result"
    }
   ],
   "source": [
    "st.binom.sf(14,n,p)"
   ]
  },
  {
   "cell_type": "code",
   "execution_count": 55,
   "id": "2e256c86-1a6f-42e0-9c66-454b847d9cf2",
   "metadata": {},
   "outputs": [
    {
     "data": {
      "application/javascript": [
       "\n",
       "        if (window._pyforest_update_imports_cell) { window._pyforest_update_imports_cell('import numpy as np'); }\n",
       "    "
      ],
      "text/plain": [
       "<IPython.core.display.Javascript object>"
      ]
     },
     "metadata": {},
     "output_type": "display_data"
    },
    {
     "data": {
      "text/plain": [
       "0.19013239483804248"
      ]
     },
     "execution_count": 55,
     "metadata": {},
     "output_type": "execute_result"
    }
   ],
   "source": [
    "# What is the probability of 15-20 customers purchase the product?\n",
    "x = np.arange(15,21)\n",
    "st.binom.pmf(x,n,p).sum()"
   ]
  },
  {
   "cell_type": "code",
   "execution_count": 61,
   "id": "2055556c-b961-48e9-a086-eb013d4ae6e0",
   "metadata": {},
   "outputs": [
    {
     "data": {
      "text/plain": [
       "0.190132394838042"
      ]
     },
     "execution_count": 61,
     "metadata": {},
     "output_type": "execute_result"
    }
   ],
   "source": [
    "st.binom.cdf(20,n,p) - st.binom.cdf(14,n,p)"
   ]
  },
  {
   "cell_type": "code",
   "execution_count": 78,
   "id": "88e9c0e5-6ba8-4769-b0fb-4055d3d1a9f5",
   "metadata": {},
   "outputs": [
    {
     "data": {
      "application/javascript": [
       "\n",
       "        if (window._pyforest_update_imports_cell) { window._pyforest_update_imports_cell('import numpy as np\\nimport matplotlib.pyplot as plt'); }\n",
       "    "
      ],
      "text/plain": [
       "<IPython.core.display.Javascript object>"
      ]
     },
     "metadata": {},
     "output_type": "display_data"
    },
    {
     "data": {
      "application/javascript": [
       "\n",
       "        if (window._pyforest_update_imports_cell) { window._pyforest_update_imports_cell('import numpy as np\\nimport matplotlib.pyplot as plt'); }\n",
       "    "
      ],
      "text/plain": [
       "<IPython.core.display.Javascript object>"
      ]
     },
     "metadata": {},
     "output_type": "display_data"
    },
    {
     "data": {
      "application/javascript": [
       "\n",
       "        if (window._pyforest_update_imports_cell) { window._pyforest_update_imports_cell('import numpy as np\\nimport matplotlib.pyplot as plt'); }\n",
       "    "
      ],
      "text/plain": [
       "<IPython.core.display.Javascript object>"
      ]
     },
     "metadata": {},
     "output_type": "display_data"
    },
    {
     "data": {
      "image/png": "[encoded data removed]",
      "text/plain": [
       "<Figure size 640x480 with 1 Axes>"
      ]
     },
     "metadata": {},
     "output_type": "display_data"
    }
   ],
   "source": [
    "x = np.arange(0,41)\n",
    "pmf = st.binom.pmf(x,40,0.5)\n",
    "plt.bar(x,pmf)\n",
    "plt.show()"
   ]
  },
  {
   "cell_type": "code",
   "execution_count": 82,
   "id": "51520254-2797-4a10-88c0-74cf45e11e0b",
   "metadata": {},
   "outputs": [
    {
     "data": {
      "application/javascript": [
       "\n",
       "        if (window._pyforest_update_imports_cell) { window._pyforest_update_imports_cell('import numpy as np\\nimport matplotlib.pyplot as plt'); }\n",
       "    "
      ],
      "text/plain": [
       "<IPython.core.display.Javascript object>"
      ]
     },
     "metadata": {},
     "output_type": "display_data"
    },
    {
     "data": {
      "application/javascript": [
       "\n",
       "        if (window._pyforest_update_imports_cell) { window._pyforest_update_imports_cell('import numpy as np\\nimport matplotlib.pyplot as plt'); }\n",
       "    "
      ],
      "text/plain": [
       "<IPython.core.display.Javascript object>"
      ]
     },
     "metadata": {},
     "output_type": "display_data"
    },
    {
     "data": {
      "image/png": "[encoded data removed]",
      "text/plain": [
       "<Figure size 640x480 with 1 Axes>"
      ]
     },
     "metadata": {},
     "output_type": "display_data"
    }
   ],
   "source": [
    "cdf = st.binom.cdf(x,40,0.5)\n",
    "plt.bar(x,cdf)\n",
    "plt.show()"
   ]
  },
  {
   "cell_type": "code",
   "execution_count": null,
   "id": "f2776551-ed5f-4659-9d53-968f0d34eca3",
   "metadata": {},
   "outputs": [],
   "source": []
  },
  {
   "cell_type": "code",
   "execution_count": null,
   "id": "7a9ba7ee-09fe-4b5e-b38e-bc473dc50bff",
   "metadata": {},
   "outputs": [],
   "source": []
  },
  {
   "cell_type": "markdown",
   "id": "cc9a8607-ebc7-41fd-984d-56a0ee06e9d3",
   "metadata": {},
   "source": [
    "## Normal Distribution"
   ]
  },
  {
   "cell_type": "code",
   "execution_count": null,
   "id": "2584093f-1101-42f1-8ac2-275ef83d675b",
   "metadata": {},
   "outputs": [],
   "source": [
    "mean age = 35\n",
    "sd of age = 5\n",
    "i) P(x >= 40))=?\n",
    "ii) P(30 <= x <= 50)=?\n",
    "iii) P(x <= 40)=?"
   ]
  },
  {
   "cell_type": "code",
   "execution_count": 64,
   "id": "ea6d159f-c192-413e-af58-84d4a044e768",
   "metadata": {},
   "outputs": [],
   "source": [
    "mu = 35\n",
    "sigma = 5"
   ]
  },
  {
   "cell_type": "code",
   "execution_count": 66,
   "id": "66edeba8-ef57-460e-9080-280c93503ae8",
   "metadata": {},
   "outputs": [
    {
     "data": {
      "text/plain": [
       "0.15865525393145707"
      ]
     },
     "execution_count": 66,
     "metadata": {},
     "output_type": "execute_result"
    }
   ],
   "source": [
    "# P(X>=40) = ?\n",
    "st.norm.sf(40,mu,sigma)"
   ]
  },
  {
   "cell_type": "code",
   "execution_count": 68,
   "id": "56078f6a-8158-47df-9886-b18d83dbef89",
   "metadata": {},
   "outputs": [
    {
     "data": {
      "text/plain": [
       "0.8399948480369128"
      ]
     },
     "execution_count": 68,
     "metadata": {},
     "output_type": "execute_result"
    }
   ],
   "source": [
    "# P(30 <= x <= 50)=?\n",
    "st.norm.cdf(50, mu, sigma) - st.norm.cdf(30,mu,sigma)"
   ]
  },
  {
   "cell_type": "code",
   "execution_count": 70,
   "id": "07ad017f-e1fe-4e3e-9dab-5738d0bb80e1",
   "metadata": {},
   "outputs": [
    {
     "data": {
      "text/plain": [
       "0.8399948480369128"
      ]
     },
     "execution_count": 70,
     "metadata": {},
     "output_type": "execute_result"
    }
   ],
   "source": [
    "## using sf function\n",
    "st.norm.sf(30, mu, sigma) - st.norm.sf(50,mu,sigma)"
   ]
  },
  {
   "cell_type": "code",
   "execution_count": 74,
   "id": "51add327-d3ba-43ac-9bcf-4ab58e2be8ba",
   "metadata": {},
   "outputs": [
    {
     "data": {
      "text/plain": [
       "0.8399948480369128"
      ]
     },
     "execution_count": 74,
     "metadata": {},
     "output_type": "execute_result"
    }
   ],
   "source": [
    "## using both cdf and sf function\n",
    "1 - (st.norm.cdf(30, mu, sigma) + st.norm.sf(50,mu,sigma))"
   ]
  },
  {
   "cell_type": "code",
   "execution_count": 80,
   "id": "d5076ad8-57ff-44cf-88e6-a8bbe9feeb5f",
   "metadata": {},
   "outputs": [
    {
     "data": {
      "application/javascript": [
       "\n",
       "        if (window._pyforest_update_imports_cell) { window._pyforest_update_imports_cell('import numpy as np\\nimport matplotlib.pyplot as plt'); }\n",
       "    "
      ],
      "text/plain": [
       "<IPython.core.display.Javascript object>"
      ]
     },
     "metadata": {},
     "output_type": "display_data"
    },
    {
     "data": {
      "application/javascript": [
       "\n",
       "        if (window._pyforest_update_imports_cell) { window._pyforest_update_imports_cell('import numpy as np\\nimport matplotlib.pyplot as plt'); }\n",
       "    "
      ],
      "text/plain": [
       "<IPython.core.display.Javascript object>"
      ]
     },
     "metadata": {},
     "output_type": "display_data"
    },
    {
     "data": {
      "application/javascript": [
       "\n",
       "        if (window._pyforest_update_imports_cell) { window._pyforest_update_imports_cell('import numpy as np\\nimport matplotlib.pyplot as plt'); }\n",
       "    "
      ],
      "text/plain": [
       "<IPython.core.display.Javascript object>"
      ]
     },
     "metadata": {},
     "output_type": "display_data"
    },
    {
     "data": {
      "image/png": "[encoded data removed]",
      "text/plain": [
       "<Figure size 640x480 with 1 Axes>"
      ]
     },
     "metadata": {},
     "output_type": "display_data"
    }
   ],
   "source": [
    "x = np.arange(0,100,0.01)\n",
    "mu = 35\n",
    "sigma = 5\n",
    "pdf = st.norm.pdf(x,mu,sigma)\n",
    "plt.plot(x,pdf)\n",
    "plt.show()"
   ]
  },
  {
   "cell_type": "code",
   "execution_count": 84,
   "id": "b701a27f-50c8-4d6b-af2f-13c1dbffc1d0",
   "metadata": {},
   "outputs": [
    {
     "data": {
      "application/javascript": [
       "\n",
       "        if (window._pyforest_update_imports_cell) { window._pyforest_update_imports_cell('import numpy as np\\nimport matplotlib.pyplot as plt'); }\n",
       "    "
      ],
      "text/plain": [
       "<IPython.core.display.Javascript object>"
      ]
     },
     "metadata": {},
     "output_type": "display_data"
    },
    {
     "data": {
      "application/javascript": [
       "\n",
       "        if (window._pyforest_update_imports_cell) { window._pyforest_update_imports_cell('import numpy as np\\nimport matplotlib.pyplot as plt'); }\n",
       "    "
      ],
      "text/plain": [
       "<IPython.core.display.Javascript object>"
      ]
     },
     "metadata": {},
     "output_type": "display_data"
    },
    {
     "data": {
      "image/png": "[encoded data removed]",
      "text/plain": [
       "<Figure size 640x480 with 1 Axes>"
      ]
     },
     "metadata": {},
     "output_type": "display_data"
    }
   ],
   "source": [
    "cdf = st.norm.cdf(x,mu,sigma)\n",
    "plt.plot(x,cdf)\n",
    "plt.show()"
   ]
  },
  {
   "cell_type": "code",
   "execution_count": null,
   "id": "ef8a930c-9ce9-4754-9c23-3cd857ef706a",
   "metadata": {},
   "outputs": [],
   "source": []
  },
  {
   "cell_type": "code",
   "execution_count": null,
   "id": "650f28de-2044-4231-9955-382efae27377",
   "metadata": {},
   "outputs": [],
   "source": []
  },
  {
   "cell_type": "code",
   "execution_count": 86,
   "id": "5dc9f44e-be8f-4ff0-94a1-9ac804766e38",
   "metadata": {},
   "outputs": [
    {
     "data": {
      "text/plain": [
       "0.6826894921370859"
      ]
     },
     "execution_count": 86,
     "metadata": {},
     "output_type": "execute_result"
    }
   ],
   "source": [
    "# P(30 <= x <= 40)=? ## using cdf function : mu + 1 sigma\n",
    "st.norm.cdf(40, mu, sigma) - st.norm.cdf(30,mu,sigma)"
   ]
  },
  {
   "cell_type": "code",
   "execution_count": 88,
   "id": "65bb979f-e30f-4322-a9d4-080cbbfd64b6",
   "metadata": {},
   "outputs": [
    {
     "data": {
      "text/plain": [
       "0.9544997361036416"
      ]
     },
     "execution_count": 88,
     "metadata": {},
     "output_type": "execute_result"
    }
   ],
   "source": [
    "# P(25 <= x <= 45)=? ## using cdf function : mu + 2 sigma\n",
    "st.norm.cdf(45, mu, sigma) - st.norm.cdf(25,mu,sigma)"
   ]
  },
  {
   "cell_type": "code",
   "execution_count": 90,
   "id": "61bd5e7d-3a0f-4a1c-8d23-0aa6c3542f9f",
   "metadata": {},
   "outputs": [
    {
     "data": {
      "text/plain": [
       "0.9973002039367398"
      ]
     },
     "execution_count": 90,
     "metadata": {},
     "output_type": "execute_result"
    }
   ],
   "source": [
    "# P(20 <= x <= 50)=? ## using cdf function : mu + 3 sigma\n",
    "st.norm.cdf(50, mu, sigma) - st.norm.cdf(20,mu,sigma)"
   ]
  },
  {
   "cell_type": "code",
   "execution_count": null,
   "id": "2b563dda-70c6-4934-bec9-dc679a69d201",
   "metadata": {},
   "outputs": [],
   "source": []
  },
  {
   "cell_type": "markdown",
   "id": "586594e8-5e87-4368-8c5f-d8a73a55be57",
   "metadata": {},
   "source": [
    "## Standard normal distribution"
   ]
  },
  {
   "cell_type": "code",
   "execution_count": 93,
   "id": "6400a6b0-ba2a-4a32-b46f-66f8ae33579e",
   "metadata": {},
   "outputs": [
    {
     "data": {
      "text/plain": [
       "0.6826894921370859"
      ]
     },
     "execution_count": 93,
     "metadata": {},
     "output_type": "execute_result"
    }
   ],
   "source": [
    "# p (-1 <= Z <= 1) ## using cdf function : Z = +1\n",
    "st.norm.cdf(1,0,1) - st.norm.cdf(-1)"
   ]
  },
  {
   "cell_type": "code",
   "execution_count": 95,
   "id": "302a068b-14cc-4c3c-b7b5-f2c60b3d1802",
   "metadata": {},
   "outputs": [
    {
     "data": {
      "text/plain": [
       "0.9544997361036416"
      ]
     },
     "execution_count": 95,
     "metadata": {},
     "output_type": "execute_result"
    }
   ],
   "source": [
    "# p (-2 <= Z <= -2) ## using cdf function : Z = +-2\n",
    "st.norm.cdf(2) - st.norm.cdf(-2)"
   ]
  },
  {
   "cell_type": "code",
   "execution_count": 97,
   "id": "0a8ad1e4-1f74-415c-ab0a-7ca7bf3193cb",
   "metadata": {},
   "outputs": [
    {
     "data": {
      "text/plain": [
       "0.9973002039367398"
      ]
     },
     "execution_count": 97,
     "metadata": {},
     "output_type": "execute_result"
    }
   ],
   "source": [
    "# p (-3 <= Z <= -3) ## using cdf function : Z = +-3\n",
    "st.norm.cdf(3) - st.norm.cdf(-3)"
   ]
  },
  {
   "cell_type": "code",
   "execution_count": 101,
   "id": "99f6cabb-7b8d-41d8-979f-ba4f19e97d82",
   "metadata": {},
   "outputs": [
    {
     "data": {
      "text/plain": [
       "0.9999999980268246"
      ]
     },
     "execution_count": 101,
     "metadata": {},
     "output_type": "execute_result"
    }
   ],
   "source": [
    "# p (-6 <= Z <= -6) ## using cdf function : Z = +-6\n",
    "st.norm.cdf(6) - st.norm.cdf(-6)"
   ]
  },
  {
   "cell_type": "code",
   "execution_count": 105,
   "id": "7392f7cf-1f55-430e-bf99-6c4ba7dcd01b",
   "metadata": {},
   "outputs": [
    {
     "data": {
      "text/plain": [
       "0.001973175400848959"
      ]
     },
     "execution_count": 105,
     "metadata": {},
     "output_type": "execute_result"
    }
   ],
   "source": [
    "(1 - 0.9999999980268246) * 1000000"
   ]
  },
  {
   "cell_type": "code",
   "execution_count": 107,
   "id": "a73bfd7b-24ec-4948-8756-5223c1c83c20",
   "metadata": {},
   "outputs": [
    {
     "data": {
      "text/plain": [
       "0.9999966806497114"
      ]
     },
     "execution_count": 107,
     "metadata": {},
     "output_type": "execute_result"
    }
   ],
   "source": [
    "# p (-4.65 <= Z <= -4.65) ## using cdf function : Z = +-4.65\n",
    "st.norm.cdf(4.65) - st.norm.cdf(-4.65)"
   ]
  },
  {
   "cell_type": "code",
   "execution_count": null,
   "id": "ad862743-8794-4102-a076-bfc90d85173e",
   "metadata": {},
   "outputs": [],
   "source": []
  },
  {
   "cell_type": "code",
   "execution_count": 111,
   "id": "3a6b22f8-bcec-491a-b2b2-f30233cecbc2",
   "metadata": {},
   "outputs": [
    {
     "data": {
      "text/plain": [
       "33.733264484321005"
      ]
     },
     "execution_count": 111,
     "metadata": {},
     "output_type": "execute_result"
    }
   ],
   "source": [
    "# What is the minimum age of learners where 60% of them are, having that min age\n",
    "sf = 0.6\n",
    "mu = 35\n",
    "sigma = 5\n",
    "st.norm.isf(sf,mu,sigma)"
   ]
  },
  {
   "cell_type": "code",
   "execution_count": 113,
   "id": "312d033d-f325-40e6-a796-686bdcb1e669",
   "metadata": {},
   "outputs": [
    {
     "data": {
      "text/plain": [
       "38.37244875098041"
      ]
     },
     "execution_count": 113,
     "metadata": {},
     "output_type": "execute_result"
    }
   ],
   "source": [
    "# What is the maximum age of learners where 75% of them are, having that max age\n",
    "cdf = 0.75\n",
    "mu = 35\n",
    "sigma = 5\n",
    "st.norm.ppf(cdf,mu,sigma)"
   ]
  },
  {
   "cell_type": "code",
   "execution_count": null,
   "id": "e39ac17e-f7fa-43af-bfe7-e87c3ee56851",
   "metadata": {},
   "outputs": [],
   "source": []
  },
  {
   "cell_type": "code",
   "execution_count": null,
   "id": "cf4a55a3-0668-49b8-927f-9b24995d2585",
   "metadata": {},
   "outputs": [],
   "source": []
  },
  {
   "cell_type": "code",
   "execution_count": null,
   "id": "b1cbd819-b2c2-4b23-b8ac-e72daada03f0",
   "metadata": {},
   "outputs": [],
   "source": []
  },
  {
   "cell_type": "code",
   "execution_count": null,
   "id": "5aa0508b-5085-4991-9008-19193df1e276",
   "metadata": {},
   "outputs": [],
   "source": []
  }
 ],
 "metadata": {
  "kernelspec": {
   "display_name": "Python 3 (ipykernel)",
   "language": "python",
   "name": "python3"
  },
  "language_info": {
   "codemirror_mode": {
    "name": "ipython",
    "version": 3
   },
   "file_extension": ".py",
   "mimetype": "text/x-python",
   "name": "python",
   "nbconvert_exporter": "python",
   "pygments_lexer": "ipython3",
   "version": "3.12.4"
  }
 },
 "nbformat": 4,
 "nbformat_minor": 5
}
