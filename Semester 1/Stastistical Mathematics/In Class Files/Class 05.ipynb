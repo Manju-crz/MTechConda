{
 "cells": [
  {
   "cell_type": "code",
   "execution_count": 13,
   "id": "a351bb44-e200-4a1e-b871-da3e6990b4de",
   "metadata": {},
   "outputs": [],
   "source": [
    "import  pyforest\n",
    "import scipy.stats as st"
   ]
  },
  {
   "cell_type": "code",
   "execution_count": 4,
   "id": "f2e1b4c7-6419-4264-b26c-84a94f756831",
   "metadata": {},
   "outputs": [],
   "source": [
    "\n",
    "#The restraurant managers claims that the average total bill from his restaurant is $20\n",
    "#validate the claim at 95% level if confidence?\n"
   ]
  },
  {
   "cell_type": "code",
   "execution_count": 7,
   "id": "2ed55ae4-1a7d-4acc-a1c0-d151edd55e8b",
   "metadata": {},
   "outputs": [
    {
     "data": {
      "application/javascript": [
       "\n",
       "        if (window._pyforest_update_imports_cell) { window._pyforest_update_imports_cell('import seaborn as sns'); }\n",
       "    "
      ],
      "text/plain": [
       "<IPython.core.display.Javascript object>"
      ]
     },
     "metadata": {},
     "output_type": "display_data"
    }
   ],
   "source": [
    "df = sns.load_dataset('tips')"
   ]
  },
  {
   "cell_type": "code",
   "execution_count": 9,
   "id": "7463945c-27fb-4f34-940e-933af800b0cd",
   "metadata": {},
   "outputs": [
    {
     "data": {
      "application/javascript": [
       "\n",
       "        if (window._pyforest_update_imports_cell) { window._pyforest_update_imports_cell('import numpy as np\\nimport seaborn as sns'); }\n",
       "    "
      ],
      "text/plain": [
       "<IPython.core.display.Javascript object>"
      ]
     },
     "metadata": {},
     "output_type": "display_data"
    },
    {
     "data": {
      "text/plain": [
       "-0.37559294451919506"
      ]
     },
     "execution_count": 9,
     "metadata": {},
     "output_type": "execute_result"
    }
   ],
   "source": [
    "## Step 1: State null an dalternative hypothesis\n",
    "# H0: mu = 20\n",
    "# H1: mu !=20\n",
    "mu = 20\n",
    "\n",
    "## step 2: state or assume confidence level(95%) or level of significance(5%)\n",
    "alpha = 0.05 # 1-confidence level # 1-0.95\n",
    "\n",
    "## Step 3: find the test statistic from the sample data\n",
    "# z_stat = (xbar - mu)/(sigma/sqrt(n))\n",
    "\n",
    "xbar = df.total_bill.mean()\n",
    "n = len(df.total_bill)\n",
    "sigma = df.total_bill.std() # since pop std is not known assuming std as population std.\n",
    "std_error = sigma/ np.sqrt(n)\n",
    "z_stat = (xbar-mu)/std_error\n",
    "z_stat"
   ]
  },
  {
   "cell_type": "code",
   "execution_count": 15,
   "id": "fdff544d-c636-4590-a0ea-3ad9a7d4be5e",
   "metadata": {},
   "outputs": [
    {
     "data": {
      "text/plain": [
       "(18.668922839262997, 20.902962406638643)"
      ]
     },
     "execution_count": 15,
     "metadata": {},
     "output_type": "execute_result"
    }
   ],
   "source": [
    "# 95% confidence interval\n",
    "st.norm.interval(1-alpha, xbar, std_error)"
   ]
  },
  {
   "cell_type": "code",
   "execution_count": null,
   "id": "14849f39-4bf9-43d9-a715-410d91e35deb",
   "metadata": {},
   "outputs": [],
   "source": [
    "# Step 4 : find the critical values and compare test statistic; establish critical region"
   ]
  },
  {
   "cell_type": "code",
   "execution_count": 17,
   "id": "2bdf7bfc-b8fe-4b2a-8e44-28d875717109",
   "metadata": {},
   "outputs": [
    {
     "data": {
      "text/plain": [
       "1.9599639845400545"
      ]
     },
     "execution_count": 17,
     "metadata": {},
     "output_type": "execute_result"
    }
   ],
   "source": [
    "zalphaby2 = st.norm.isf(alpha/2)\n",
    "zalphaby2"
   ]
  },
  {
   "cell_type": "code",
   "execution_count": null,
   "id": "95926f12-8e5b-42b4-9376-0d4b3b871e50",
   "metadata": {},
   "outputs": [],
   "source": [
    "# Step 5 : Decision making of inferring on population\n",
    "# 1. Critical value approach(CVA)\n",
    "# If absolute value of z_statistics if abs(z_statistics) < abs(critical value) --> fail to reject null hypothesis H0\n",
    "# Else reject H0"
   ]
  },
  {
   "cell_type": "code",
   "execution_count": 19,
   "id": "f4b13bc8-f347-4d10-abe7-4da7bef69bb1",
   "metadata": {},
   "outputs": [],
   "source": [
    "#In the aboove problem abs(z_stat) = 0.375 < abs(zalphaby2) = 1.96 --> fail to reject H0\n",
    "#Hence we conclude that the claim is true @5% level of significance.\n",
    "\n",
    "# 2. Confidence Interval Approach (CIA)\n",
    "# If the assumed or hypothesis mean lies between the resepective confidence interval -->.\n",
    "# fail to rejecr H0, else reject H0\n",
    "\n",
    "## In the above problem the assumed mean -20 lies between 95% confidence interval (18.66 to 20/90)"
   ]
  },
  {
   "cell_type": "code",
   "execution_count": null,
   "id": "fedb4aba-fae1-4e9e-9e41-c1c0eb4daa2f",
   "metadata": {},
   "outputs": [],
   "source": [
    "## P- Value Approach (PVA)"
   ]
  },
  {
   "cell_type": "code",
   "execution_count": 21,
   "id": "ea64c84f-1af9-4cfa-8ccd-60150298082d",
   "metadata": {},
   "outputs": [
    {
     "data": {
      "text/plain": [
       "0.7072195368238168"
      ]
     },
     "execution_count": 21,
     "metadata": {},
     "output_type": "execute_result"
    }
   ],
   "source": [
    "pvalue = st.norm.cdf(z_stat) * 2\n",
    "pvalue"
   ]
  },
  {
   "cell_type": "code",
   "execution_count": null,
   "id": "ffc2a925-87b4-4bbe-9dbf-c6d78718ffbe",
   "metadata": {},
   "outputs": [],
   "source": []
  }
 ],
 "metadata": {
  "kernelspec": {
   "display_name": "Python 3 (ipykernel)",
   "language": "python",
   "name": "python3"
  },
  "language_info": {
   "codemirror_mode": {
    "name": "ipython",
    "version": 3
   },
   "file_extension": ".py",
   "mimetype": "text/x-python",
   "name": "python",
   "nbconvert_exporter": "python",
   "pygments_lexer": "ipython3",
   "version": "3.12.4"
  }
 },
 "nbformat": 4,
 "nbformat_minor": 5
}
