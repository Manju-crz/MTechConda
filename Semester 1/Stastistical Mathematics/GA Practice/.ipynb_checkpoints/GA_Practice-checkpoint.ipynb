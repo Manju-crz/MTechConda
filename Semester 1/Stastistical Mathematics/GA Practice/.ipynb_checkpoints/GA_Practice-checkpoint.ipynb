{
 "cells": [
  {
   "cell_type": "code",
   "execution_count": 3,
   "id": "b29dc5b9-f41d-4f54-8e68-1be306bcc9df",
   "metadata": {},
   "outputs": [
    {
     "name": "stdout",
     "output_type": "stream",
     "text": [
      "Calculated t-statistic: -1.164\n",
      "Critical t-value: 1.796\n",
      "Reject the null hypothesis\n"
     ]
    }
   ],
   "source": [
    "import scipy.stats as stats\n",
    "import math\n",
    "\n",
    "# Given data\n",
    "sample_mean = 42  # sample mean (x̄)\n",
    "population_mean = 46  # hypothesized population mean (μ₀)\n",
    "sample_std = 11.9  # sample standard deviation (s)\n",
    "sample_size = 12  # sample size (n)\n",
    "alpha = 0.05  # significance level\n",
    "\n",
    "# Calculate the t-statistic\n",
    "t_stat = (sample_mean - population_mean) / (sample_std / math.sqrt(sample_size))\n",
    "\n",
    "# Degrees of freedom\n",
    "df = sample_size - 1\n",
    "\n",
    "# Find the critical t-value for a one-tailed test at the given significance level\n",
    "t_critical = stats.t.ppf(1 - alpha, df)\n",
    "\n",
    "# Compare the t-statistic with the critical value\n",
    "if t_stat < t_critical:\n",
    "    result = \"Reject the null hypothesis\"\n",
    "else:\n",
    "    result = \"Fail to reject the null hypothesis\"\n",
    "\n",
    "# Output the results\n",
    "print(f\"Calculated t-statistic: {t_stat:.3f}\")\n",
    "print(f\"Critical t-value: {t_critical:.3f}\")\n",
    "print(result)\n"
   ]
  },
  {
   "cell_type": "code",
   "execution_count": null,
   "id": "31be3920-acf7-413a-9430-82d7984c2e14",
   "metadata": {},
   "outputs": [],
   "source": []
  }
 ],
 "metadata": {
  "kernelspec": {
   "display_name": "Python 3 (ipykernel)",
   "language": "python",
   "name": "python3"
  },
  "language_info": {
   "codemirror_mode": {
    "name": "ipython",
    "version": 3
   },
   "file_extension": ".py",
   "mimetype": "text/x-python",
   "name": "python",
   "nbconvert_exporter": "python",
   "pygments_lexer": "ipython3",
   "version": "3.12.4"
  }
 },
 "nbformat": 4,
 "nbformat_minor": 5
}
