{
 "cells": [
  {
   "cell_type": "code",
   "execution_count": 51,
   "id": "694725ea-5fda-433d-a12c-2b9e05d4c8ae",
   "metadata": {},
   "outputs": [
    {
     "data": {
      "application/javascript": [
       "\n",
       "        if (window._pyforest_update_imports_cell) { window._pyforest_update_imports_cell('import seaborn as sns'); }\n",
       "    "
      ],
      "text/plain": [
       "<IPython.core.display.Javascript object>"
      ]
     },
     "metadata": {},
     "output_type": "display_data"
    }
   ],
   "source": [
    "import  pyforest\n",
    "import scipy.stats as st\n",
    "df = sns.load_dataset('tips')"
   ]
  },
  {
   "cell_type": "code",
   "execution_count": 53,
   "id": "0d2d0141-bd83-49f7-8b13-043a98f5e34d",
   "metadata": {},
   "outputs": [
    {
     "name": "stdout",
     "output_type": "stream",
     "text": [
      "1.9599639845400545 1.962341461133449\n"
     ]
    }
   ],
   "source": [
    "# t and z disctributions\n",
    "n = 1000\n",
    "zalphaby2 = st.norm.isf(0.05/2)\n",
    "talphaby2 = st.t.isf(0.05/2, n-1)\n",
    "print(zalphaby2, talphaby2)"
   ]
  },
  {
   "cell_type": "code",
   "execution_count": 17,
   "id": "b62688ba-4dc4-45c6-886f-c76012d911af",
   "metadata": {},
   "outputs": [
    {
     "name": "stderr",
     "output_type": "stream",
     "text": [
      "C:\\Users\\manju\\AppData\\Local\\Temp\\ipykernel_3916\\2333883250.py:3: FutureWarning: The default of observed=False is deprecated and will be changed to True in a future version of pandas. Pass observed=False to retain current behavior or observed=True to adopt the future default and silence this warning.\n",
      "  df.groupby('time')['total_bill'].describe()\n"
     ]
    },
    {
     "data": {
      "text/html": [
       "<div>\n",
       "<style scoped>\n",
       "    .dataframe tbody tr th:only-of-type {\n",
       "        vertical-align: middle;\n",
       "    }\n",
       "\n",
       "    .dataframe tbody tr th {\n",
       "        vertical-align: top;\n",
       "    }\n",
       "\n",
       "    .dataframe thead th {\n",
       "        text-align: right;\n",
       "    }\n",
       "</style>\n",
       "<table border=\"1\" class=\"dataframe\">\n",
       "  <thead>\n",
       "    <tr style=\"text-align: right;\">\n",
       "      <th></th>\n",
       "      <th>count</th>\n",
       "      <th>mean</th>\n",
       "      <th>std</th>\n",
       "      <th>min</th>\n",
       "      <th>25%</th>\n",
       "      <th>50%</th>\n",
       "      <th>75%</th>\n",
       "      <th>max</th>\n",
       "    </tr>\n",
       "    <tr>\n",
       "      <th>time</th>\n",
       "      <th></th>\n",
       "      <th></th>\n",
       "      <th></th>\n",
       "      <th></th>\n",
       "      <th></th>\n",
       "      <th></th>\n",
       "      <th></th>\n",
       "      <th></th>\n",
       "    </tr>\n",
       "  </thead>\n",
       "  <tbody>\n",
       "    <tr>\n",
       "      <th>Lunch</th>\n",
       "      <td>68.0</td>\n",
       "      <td>17.168676</td>\n",
       "      <td>7.713882</td>\n",
       "      <td>7.51</td>\n",
       "      <td>12.2350</td>\n",
       "      <td>15.965</td>\n",
       "      <td>19.5325</td>\n",
       "      <td>43.11</td>\n",
       "    </tr>\n",
       "    <tr>\n",
       "      <th>Dinner</th>\n",
       "      <td>176.0</td>\n",
       "      <td>20.797159</td>\n",
       "      <td>9.142029</td>\n",
       "      <td>3.07</td>\n",
       "      <td>14.4375</td>\n",
       "      <td>18.390</td>\n",
       "      <td>25.2825</td>\n",
       "      <td>50.81</td>\n",
       "    </tr>\n",
       "  </tbody>\n",
       "</table>\n",
       "</div>"
      ],
      "text/plain": [
       "        count       mean       std   min      25%     50%      75%    max\n",
       "time                                                                     \n",
       "Lunch    68.0  17.168676  7.713882  7.51  12.2350  15.965  19.5325  43.11\n",
       "Dinner  176.0  20.797159  9.142029  3.07  14.4375  18.390  25.2825  50.81"
      ]
     },
     "execution_count": 17,
     "metadata": {},
     "output_type": "execute_result"
    }
   ],
   "source": [
    "#The restaurant manager is claiming that the avg total bill is greater in dinner rather than in lunch time.\n",
    "#Pls validate abd verify the above statement @5% level of significance?\n",
    "df.groupby('time')['total_bill'].describe()"
   ]
  },
  {
   "cell_type": "code",
   "execution_count": 55,
   "id": "eff2477d-f4d2-4f80-bc72-50a82fb77f7d",
   "metadata": {},
   "outputs": [],
   "source": [
    "tb_lunch = df[df.time=='Lunch']['total_bill']\n",
    "tb_dinner = df[df.time=='Dinner']['total_bill']"
   ]
  },
  {
   "cell_type": "code",
   "execution_count": 29,
   "id": "a14f3bab-a437-4e98-b526-63c84e2bf978",
   "metadata": {},
   "outputs": [
    {
     "data": {
      "application/javascript": [
       "\n",
       "        if (window._pyforest_update_imports_cell) { window._pyforest_update_imports_cell('import seaborn as sns'); }\n",
       "    "
      ],
      "text/plain": [
       "<IPython.core.display.Javascript object>"
      ]
     },
     "metadata": {},
     "output_type": "display_data"
    },
    {
     "name": "stderr",
     "output_type": "stream",
     "text": [
      "C:\\Users\\manju\\AppData\\Local\\Temp\\ipykernel_3916\\3743016658.py:1: UserWarning: \n",
      "\n",
      "`distplot` is a deprecated function and will be removed in seaborn v0.14.0.\n",
      "\n",
      "Please adapt your code to use either `displot` (a figure-level function with\n",
      "similar flexibility) or `histplot` (an axes-level function for histograms).\n",
      "\n",
      "For a guide to updating your code to use the new functions, please see\n",
      "https://gist.github.com/mwaskom/de44147ed2974457ad6372750bbe5751\n",
      "\n",
      "  sns.distplot(tb_lunch)\n"
     ]
    },
    {
     "data": {
      "text/plain": [
       "<Axes: xlabel='total_bill', ylabel='Density'>"
      ]
     },
     "execution_count": 29,
     "metadata": {},
     "output_type": "execute_result"
    },
    {
     "data": {
      "image/png": "[encoded data removed]",
      "text/plain": [
       "<Figure size 640x480 with 1 Axes>"
      ]
     },
     "metadata": {},
     "output_type": "display_data"
    }
   ],
   "source": [
    "sns.distplot(tb_lunch)"
   ]
  },
  {
   "cell_type": "code",
   "execution_count": 31,
   "id": "295ade46-0766-4bed-9fbf-7ab1aef8d720",
   "metadata": {},
   "outputs": [
    {
     "data": {
      "application/javascript": [
       "\n",
       "        if (window._pyforest_update_imports_cell) { window._pyforest_update_imports_cell('import seaborn as sns'); }\n",
       "    "
      ],
      "text/plain": [
       "<IPython.core.display.Javascript object>"
      ]
     },
     "metadata": {},
     "output_type": "display_data"
    },
    {
     "name": "stderr",
     "output_type": "stream",
     "text": [
      "C:\\Users\\manju\\AppData\\Local\\Temp\\ipykernel_3916\\1656472625.py:1: UserWarning: \n",
      "\n",
      "`distplot` is a deprecated function and will be removed in seaborn v0.14.0.\n",
      "\n",
      "Please adapt your code to use either `displot` (a figure-level function with\n",
      "similar flexibility) or `histplot` (an axes-level function for histograms).\n",
      "\n",
      "For a guide to updating your code to use the new functions, please see\n",
      "https://gist.github.com/mwaskom/de44147ed2974457ad6372750bbe5751\n",
      "\n",
      "  sns.distplot(tb_dinner)\n"
     ]
    },
    {
     "data": {
      "text/plain": [
       "<Axes: xlabel='total_bill', ylabel='Density'>"
      ]
     },
     "execution_count": 31,
     "metadata": {},
     "output_type": "execute_result"
    },
    {
     "data": {
      "image/png": "[encoded data removed]",
      "text/plain": [
       "<Figure size 640x480 with 1 Axes>"
      ]
     },
     "metadata": {},
     "output_type": "display_data"
    }
   ],
   "source": [
    "sns.distplot(tb_dinner)"
   ]
  },
  {
   "cell_type": "code",
   "execution_count": null,
   "id": "178cb0cc-bb51-480b-bac9-0b4554e56fa5",
   "metadata": {},
   "outputs": [],
   "source": []
  },
  {
   "cell_type": "code",
   "execution_count": 57,
   "id": "021164de-ca45-4675-9276-b04bea5659a3",
   "metadata": {},
   "outputs": [
    {
     "data": {
      "text/plain": [
       "LeveneResult(statistic=2.6906995489829337, pvalue=0.1022346107726258)"
      ]
     },
     "execution_count": 57,
     "metadata": {},
     "output_type": "execute_result"
    }
   ],
   "source": [
    "## Check the variance equality for the population data of lunch and dinner\n",
    "# H0: var_lunch = var_dinner\n",
    "# H1: var_lunch != var_dinner\n",
    "\n",
    "st.levene(tb_dinner, tb_lunch)\n"
   ]
  },
  {
   "cell_type": "code",
   "execution_count": null,
   "id": "9d638161-f0f0-4694-8ea7-b2f470eb9499",
   "metadata": {},
   "outputs": [],
   "source": [
    "# since p value (0.1) is > alpha (0.05) --> fail to reject H0\n",
    "# hence we can conclude that the population variance "
   ]
  },
  {
   "cell_type": "code",
   "execution_count": 59,
   "id": "ec54f437-23c6-46f4-aed7-f694e3dc2150",
   "metadata": {},
   "outputs": [
    {
     "data": {
      "text/plain": [
       "TtestResult(statistic=2.8976375218366424, pvalue=0.002052310703797837, df=242.0)"
      ]
     },
     "execution_count": 59,
     "metadata": {},
     "output_type": "execute_result"
    }
   ],
   "source": [
    "# Step 1: state your H0 and H1\n",
    "#H0 : mu_tb_dinner <= mu_tb_lunch\n",
    "#H1 : mu_tb_dinner <= mu_tb_lunch\n",
    "\n",
    "# Step 2: state your alpha\n",
    "alpha = 0.05\n",
    "\n",
    "## step  3 : fnd the test statistics\n",
    "st.ttest_ind(tb_dinner, tb_lunch, equal_var = True, alternative = 'greater')"
   ]
  },
  {
   "cell_type": "code",
   "execution_count": null,
   "id": "9dbafe1b-2b88-40cd-b727-21fbb8d05285",
   "metadata": {},
   "outputs": [],
   "source": []
  },
  {
   "cell_type": "code",
   "execution_count": null,
   "id": "7b3ba0f8-0339-4d96-b8f6-a70df26049e8",
   "metadata": {},
   "outputs": [],
   "source": [
    "# Second proboem for male female check!"
   ]
  },
  {
   "cell_type": "code",
   "execution_count": 41,
   "id": "c8bc0247-dae7-48da-ab71-5c7323273c3f",
   "metadata": {},
   "outputs": [],
   "source": [
    "tb_female = df[df.sex=='Female']['total_bill']\n",
    "tb_male = df[df.time=='Male']['total_bill']"
   ]
  },
  {
   "cell_type": "code",
   "execution_count": 61,
   "id": "5d831e56-1b85-4085-aae4-9f8a1d7e2f54",
   "metadata": {},
   "outputs": [
    {
     "name": "stderr",
     "output_type": "stream",
     "text": [
      "C:\\Users\\manju\\anaconda3\\Lib\\site-packages\\numpy\\core\\fromnumeric.py:3504: RuntimeWarning: Mean of empty slice.\n",
      "  return _methods._mean(a, axis=axis, dtype=dtype,\n",
      "C:\\Users\\manju\\anaconda3\\Lib\\site-packages\\numpy\\core\\_methods.py:129: RuntimeWarning: invalid value encountered in scalar divide\n",
      "  ret = ret.dtype.type(ret / rcount)\n"
     ]
    },
    {
     "data": {
      "text/plain": [
       "LeveneResult(statistic=nan, pvalue=nan)"
      ]
     },
     "execution_count": 61,
     "metadata": {},
     "output_type": "execute_result"
    }
   ],
   "source": [
    "st.levene(tb_male, tb_female)"
   ]
  },
  {
   "cell_type": "code",
   "execution_count": null,
   "id": "40ee5f2c-943b-4a0b-978d-c98330eb3485",
   "metadata": {},
   "outputs": [],
   "source": []
  },
  {
   "cell_type": "code",
   "execution_count": 45,
   "id": "8c2cf688-ef45-42a9-87c1-3c3672b9e8cc",
   "metadata": {},
   "outputs": [
    {
     "name": "stdout",
     "output_type": "stream",
     "text": [
      "1.1503493803760079 1.1510185974494533\n"
     ]
    }
   ],
   "source": [
    "n = 1000\n",
    "zalphaby2 = st.norm.isf(0.25/2)\n",
    "talphaby2 = st.t.isf(0.25/2, n-1)\n",
    "print(zalphaby2, talphaby2)"
   ]
  },
  {
   "cell_type": "code",
   "execution_count": 47,
   "id": "ff007b7f-e0c4-4cb9-85e7-f3a319408798",
   "metadata": {},
   "outputs": [
    {
     "data": {
      "text/plain": [
       "TtestResult(statistic=nan, pvalue=nan, df=nan)"
      ]
     },
     "execution_count": 47,
     "metadata": {},
     "output_type": "execute_result"
    }
   ],
   "source": [
    "alpha = 0.25\n",
    "\n",
    "## step  3 : fnd the test statistics\n",
    "st.ttest_ind(tb_female, tb_male, equal_var = True)"
   ]
  },
  {
   "cell_type": "code",
   "execution_count": null,
   "id": "ecd3ea22-3137-4f5f-90a0-68782884f861",
   "metadata": {},
   "outputs": [],
   "source": []
  },
  {
   "cell_type": "code",
   "execution_count": null,
   "id": "755c9a43-97e2-426b-ad4d-61125931716b",
   "metadata": {},
   "outputs": [],
   "source": []
  },
  {
   "cell_type": "code",
   "execution_count": 63,
   "id": "ec2b9a36-2710-470e-9ea1-1f1cdd1bcf8e",
   "metadata": {},
   "outputs": [],
   "source": [
    "# test the claim that the weight reduction program is effective in reduction of weight\n",
    "# with below sample data of people.\n",
    "#wt_before = np.array([90,87,67,99,110,88,78,77,97,100])\n",
    "#wt_after = np.array([80, 77, 77, 89, 90, 78, 78, 87, 87, 90])"
   ]
  },
  {
   "cell_type": "code",
   "execution_count": 65,
   "id": "abb30a80-a0a4-4a2b-bea2-4f3a0c334a92",
   "metadata": {},
   "outputs": [
    {
     "data": {
      "application/javascript": [
       "\n",
       "        if (window._pyforest_update_imports_cell) { window._pyforest_update_imports_cell('import seaborn as sns\\nimport numpy as np'); }\n",
       "    "
      ],
      "text/plain": [
       "<IPython.core.display.Javascript object>"
      ]
     },
     "metadata": {},
     "output_type": "display_data"
    },
    {
     "data": {
      "application/javascript": [
       "\n",
       "        if (window._pyforest_update_imports_cell) { window._pyforest_update_imports_cell('import seaborn as sns\\nimport numpy as np'); }\n",
       "    "
      ],
      "text/plain": [
       "<IPython.core.display.Javascript object>"
      ]
     },
     "metadata": {},
     "output_type": "display_data"
    }
   ],
   "source": [
    "wt_before = np.array([90,87,67,99,110,88,78,77,97,100])\n",
    "wt_after = np.array([80, 77, 77, 89, 90, 78, 78, 87, 87, 90])"
   ]
  },
  {
   "cell_type": "code",
   "execution_count": 69,
   "id": "7c6edabc-3582-4fb1-a00e-610c039d08ab",
   "metadata": {},
   "outputs": [
    {
     "data": {
      "application/javascript": [
       "\n",
       "        if (window._pyforest_update_imports_cell) { window._pyforest_update_imports_cell('import seaborn as sns\\nimport numpy as np'); }\n",
       "    "
      ],
      "text/plain": [
       "<IPython.core.display.Javascript object>"
      ]
     },
     "metadata": {},
     "output_type": "display_data"
    },
    {
     "data": {
      "application/javascript": [
       "\n",
       "        if (window._pyforest_update_imports_cell) { window._pyforest_update_imports_cell('import seaborn as sns\\nimport numpy as np'); }\n",
       "    "
      ],
      "text/plain": [
       "<IPython.core.display.Javascript object>"
      ]
     },
     "metadata": {},
     "output_type": "display_data"
    },
    {
     "name": "stdout",
     "output_type": "stream",
     "text": [
      "83.3 89.3\n"
     ]
    }
   ],
   "source": [
    "print(np.mean(wt_after), np.mean(wt_before))"
   ]
  },
  {
   "cell_type": "code",
   "execution_count": 77,
   "id": "43f1b143-9ba5-4b77-a5d2-2ac0725e6d29",
   "metadata": {},
   "outputs": [
    {
     "data": {
      "text/plain": [
       "array([ 10,  10, -10,  10,  20,  10,   0, -10,  10,  10])"
      ]
     },
     "execution_count": 77,
     "metadata": {},
     "output_type": "execute_result"
    }
   ],
   "source": [
    "diff = wt_before - wt_after\n",
    "diff"
   ]
  },
  {
   "cell_type": "code",
   "execution_count": 79,
   "id": "435bc001-38f1-4f68-a4e4-7e916d6bbd6b",
   "metadata": {},
   "outputs": [],
   "source": [
    "# Step 0: Assumption test\n",
    "## Normality test\n",
    "## Check the normality for the different tests\n",
    "## check the normality for difference values\n",
    "## Shapiro test : H0: pop data = normal ; H1: pop data != normal"
   ]
  },
  {
   "cell_type": "code",
   "execution_count": 81,
   "id": "795ba2ea-f8bd-402e-bb8c-f31c81b618f8",
   "metadata": {},
   "outputs": [
    {
     "data": {
      "text/plain": [
       "ShapiroResult(statistic=0.8007018955393095, pvalue=0.014786100185168585)"
      ]
     },
     "execution_count": 81,
     "metadata": {},
     "output_type": "execute_result"
    }
   ],
   "source": [
    "st.shapiro(diff)"
   ]
  },
  {
   "cell_type": "code",
   "execution_count": null,
   "id": "2965d4a7-d855-4cf8-85ae-11a060bcf86d",
   "metadata": {},
   "outputs": [],
   "source": [
    "## Since p value is (0.01) < alpha --> reject H0\n",
    "# hence we can conclude that the population data in not normal\n",
    "## So we have to proceedd for non parametric test."
   ]
  },
  {
   "cell_type": "code",
   "execution_count": 83,
   "id": "39b56b41-5000-4fe1-93aa-2461f487adfd",
   "metadata": {},
   "outputs": [],
   "source": [
    "## H0: pop median_diff < 0\n",
    "## H1: pop median_diff > 0"
   ]
  },
  {
   "cell_type": "code",
   "execution_count": 87,
   "id": "4cee414a-21cd-4f75-b486-11cc9285f540",
   "metadata": {},
   "outputs": [
    {
     "data": {
      "text/plain": [
       "WilcoxonResult(statistic=36.0, pvalue=0.0416322583317752)"
      ]
     },
     "execution_count": 87,
     "metadata": {},
     "output_type": "execute_result"
    }
   ],
   "source": [
    "st.wilcoxon(wt_before, wt_after, alternative='greater')"
   ]
  },
  {
   "cell_type": "code",
   "execution_count": null,
   "id": "27d174f3-d3b9-4f35-bcd0-58d35e471ced",
   "metadata": {},
   "outputs": [],
   "source": []
  },
  {
   "cell_type": "code",
   "execution_count": null,
   "id": "e3102126-8137-4dd0-8291-034a484bb5e8",
   "metadata": {},
   "outputs": [],
   "source": [
    "#3 in the above problem if we take alpha =0.01 (1%) the normality test will be passed"
   ]
  },
  {
   "cell_type": "code",
   "execution_count": 89,
   "id": "ff53d3ac-8e35-436e-82b1-57c972fa0b3c",
   "metadata": {},
   "outputs": [
    {
     "data": {
      "text/plain": [
       "TtestResult(statistic=1.9639610121239313, pvalue=0.04056309442292028, df=9)"
      ]
     },
     "execution_count": 89,
     "metadata": {},
     "output_type": "execute_result"
    }
   ],
   "source": [
    "## H0: mu_diff_wt <= 0\n",
    "## H1: mu_diff_wt > 0\n",
    "st.ttest_rel(wt_before, wt_after, alternative = 'greater')"
   ]
  },
  {
   "cell_type": "code",
   "execution_count": 91,
   "id": "d1a8db0f-d2a5-46b6-9d49-5113987c75bc",
   "metadata": {},
   "outputs": [
    {
     "ename": "AttributeError",
     "evalue": "module 'scipy.stats' has no attribute 'ttest_lsamp'",
     "output_type": "error",
     "traceback": [
      "\u001b[1;31m---------------------------------------------------------------------------\u001b[0m",
      "\u001b[1;31mAttributeError\u001b[0m                            Traceback (most recent call last)",
      "Cell \u001b[1;32mIn[91], line 1\u001b[0m\n\u001b[1;32m----> 1\u001b[0m st\u001b[38;5;241m.\u001b[39mttest_lsamp(diff, \u001b[38;5;241m0\u001b[39m, alternative \u001b[38;5;241m=\u001b[39m \u001b[38;5;124m'\u001b[39m\u001b[38;5;124mgreater\u001b[39m\u001b[38;5;124m'\u001b[39m)\n",
      "\u001b[1;31mAttributeError\u001b[0m: module 'scipy.stats' has no attribute 'ttest_lsamp'"
     ]
    }
   ],
   "source": [
    "st.ttest_lsamp(diff, 0, alternative = 'greater')"
   ]
  },
  {
   "cell_type": "code",
   "execution_count": null,
   "id": "1fb43d25-38a6-47d3-9096-ac8a696ac771",
   "metadata": {},
   "outputs": [],
   "source": [
    "# Since p value (0.04) > alpha(0/01) --> fail to rejdct H0;\n",
    "# Hence we can conclude that there is no much difference in te weight reduction.\n",
    "# the weight reduction program is not effective."
   ]
  },
  {
   "cell_type": "code",
   "execution_count": 93,
   "id": "5088cc69-ab15-47c4-a26c-ed19172a4861",
   "metadata": {},
   "outputs": [
    {
     "data": {
      "text/html": [
       "<div>\n",
       "<style scoped>\n",
       "    .dataframe tbody tr th:only-of-type {\n",
       "        vertical-align: middle;\n",
       "    }\n",
       "\n",
       "    .dataframe tbody tr th {\n",
       "        vertical-align: top;\n",
       "    }\n",
       "\n",
       "    .dataframe thead th {\n",
       "        text-align: right;\n",
       "    }\n",
       "</style>\n",
       "<table border=\"1\" class=\"dataframe\">\n",
       "  <thead>\n",
       "    <tr style=\"text-align: right;\">\n",
       "      <th></th>\n",
       "      <th>total_bill</th>\n",
       "      <th>tip</th>\n",
       "      <th>size</th>\n",
       "    </tr>\n",
       "  </thead>\n",
       "  <tbody>\n",
       "    <tr>\n",
       "      <th>total_bill</th>\n",
       "      <td>1.000000</td>\n",
       "      <td>0.675734</td>\n",
       "      <td>0.598315</td>\n",
       "    </tr>\n",
       "    <tr>\n",
       "      <th>tip</th>\n",
       "      <td>0.675734</td>\n",
       "      <td>1.000000</td>\n",
       "      <td>0.489299</td>\n",
       "    </tr>\n",
       "    <tr>\n",
       "      <th>size</th>\n",
       "      <td>0.598315</td>\n",
       "      <td>0.489299</td>\n",
       "      <td>1.000000</td>\n",
       "    </tr>\n",
       "  </tbody>\n",
       "</table>\n",
       "</div>"
      ],
      "text/plain": [
       "            total_bill       tip      size\n",
       "total_bill    1.000000  0.675734  0.598315\n",
       "tip           0.675734  1.000000  0.489299\n",
       "size          0.598315  0.489299  1.000000"
      ]
     },
     "execution_count": 93,
     "metadata": {},
     "output_type": "execute_result"
    }
   ],
   "source": [
    "# Is there a correlation between total bill and tip @ 5% level of significance?\n",
    "df.corr(numeric_only=True)\n",
    "# Correlation test (numerical vs numerical)\n",
    "\n",
    "\n"
   ]
  },
  {
   "cell_type": "code",
   "execution_count": 95,
   "id": "f7150ab6-da6d-48e2-b70f-aa640c5987d6",
   "metadata": {},
   "outputs": [
    {
     "data": {
      "text/plain": [
       "PearsonRResult(statistic=0.6757341092113642, pvalue=6.692470646864281e-34)"
      ]
     },
     "execution_count": 95,
     "metadata": {},
     "output_type": "execute_result"
    }
   ],
   "source": [
    "st.pearsonr(df.total_bill, df.tip)"
   ]
  },
  {
   "cell_type": "code",
   "execution_count": null,
   "id": "e9d3f474-dfb0-4161-95ed-901c9c7192a3",
   "metadata": {},
   "outputs": [],
   "source": [
    "# Correlation test (numerical vs numerical)"
   ]
  },
  {
   "cell_type": "code",
   "execution_count": 97,
   "id": "c0f48d7c-3d40-462d-8974-9875e970a606",
   "metadata": {},
   "outputs": [
    {
     "data": {
      "text/plain": [
       "SignificanceResult(statistic=0.8098769172646004, pvalue=0.00451267151370922)"
      ]
     },
     "execution_count": 97,
     "metadata": {},
     "output_type": "execute_result"
    }
   ],
   "source": [
    "st.spearmanr(wt_after, wt_before)"
   ]
  },
  {
   "cell_type": "code",
   "execution_count": 99,
   "id": "3a493305-76aa-45c9-a7c1-c3c78db1b98e",
   "metadata": {},
   "outputs": [],
   "source": [
    "## Multiple samples test of mean (analysis of variance - ANOVA)"
   ]
  },
  {
   "cell_type": "code",
   "execution_count": 101,
   "id": "37154e52-a08e-4c41-9ddc-b5c57183be95",
   "metadata": {},
   "outputs": [
    {
     "data": {
      "text/html": [
       "<div>\n",
       "<style scoped>\n",
       "    .dataframe tbody tr th:only-of-type {\n",
       "        vertical-align: middle;\n",
       "    }\n",
       "\n",
       "    .dataframe tbody tr th {\n",
       "        vertical-align: top;\n",
       "    }\n",
       "\n",
       "    .dataframe thead th {\n",
       "        text-align: right;\n",
       "    }\n",
       "</style>\n",
       "<table border=\"1\" class=\"dataframe\">\n",
       "  <thead>\n",
       "    <tr style=\"text-align: right;\">\n",
       "      <th></th>\n",
       "      <th>total_bill</th>\n",
       "      <th>tip</th>\n",
       "      <th>sex</th>\n",
       "      <th>smoker</th>\n",
       "      <th>day</th>\n",
       "      <th>time</th>\n",
       "      <th>size</th>\n",
       "    </tr>\n",
       "  </thead>\n",
       "  <tbody>\n",
       "    <tr>\n",
       "      <th>0</th>\n",
       "      <td>16.99</td>\n",
       "      <td>1.01</td>\n",
       "      <td>Female</td>\n",
       "      <td>No</td>\n",
       "      <td>Sun</td>\n",
       "      <td>Dinner</td>\n",
       "      <td>2</td>\n",
       "    </tr>\n",
       "    <tr>\n",
       "      <th>1</th>\n",
       "      <td>10.34</td>\n",
       "      <td>1.66</td>\n",
       "      <td>Male</td>\n",
       "      <td>No</td>\n",
       "      <td>Sun</td>\n",
       "      <td>Dinner</td>\n",
       "      <td>3</td>\n",
       "    </tr>\n",
       "    <tr>\n",
       "      <th>2</th>\n",
       "      <td>21.01</td>\n",
       "      <td>3.50</td>\n",
       "      <td>Male</td>\n",
       "      <td>No</td>\n",
       "      <td>Sun</td>\n",
       "      <td>Dinner</td>\n",
       "      <td>3</td>\n",
       "    </tr>\n",
       "    <tr>\n",
       "      <th>3</th>\n",
       "      <td>23.68</td>\n",
       "      <td>3.31</td>\n",
       "      <td>Male</td>\n",
       "      <td>No</td>\n",
       "      <td>Sun</td>\n",
       "      <td>Dinner</td>\n",
       "      <td>2</td>\n",
       "    </tr>\n",
       "    <tr>\n",
       "      <th>4</th>\n",
       "      <td>24.59</td>\n",
       "      <td>3.61</td>\n",
       "      <td>Female</td>\n",
       "      <td>No</td>\n",
       "      <td>Sun</td>\n",
       "      <td>Dinner</td>\n",
       "      <td>4</td>\n",
       "    </tr>\n",
       "  </tbody>\n",
       "</table>\n",
       "</div>"
      ],
      "text/plain": [
       "   total_bill   tip     sex smoker  day    time  size\n",
       "0       16.99  1.01  Female     No  Sun  Dinner     2\n",
       "1       10.34  1.66    Male     No  Sun  Dinner     3\n",
       "2       21.01  3.50    Male     No  Sun  Dinner     3\n",
       "3       23.68  3.31    Male     No  Sun  Dinner     2\n",
       "4       24.59  3.61  Female     No  Sun  Dinner     4"
      ]
     },
     "execution_count": 101,
     "metadata": {},
     "output_type": "execute_result"
    }
   ],
   "source": [
    "df.head(5)"
   ]
  },
  {
   "cell_type": "code",
   "execution_count": null,
   "id": "02f29f2f-9cb2-41b7-9ca6-0206d40623a0",
   "metadata": {},
   "outputs": [],
   "source": []
  },
  {
   "cell_type": "code",
   "execution_count": 103,
   "id": "418e6f67-9c1b-4337-b110-47cfb6f953ae",
   "metadata": {},
   "outputs": [
    {
     "name": "stderr",
     "output_type": "stream",
     "text": [
      "C:\\Users\\manju\\AppData\\Local\\Temp\\ipykernel_3916\\1342129577.py:2: FutureWarning: The default of observed=False is deprecated and will be changed to True in a future version of pandas. Pass observed=False to retain current behavior or observed=True to adopt the future default and silence this warning.\n",
      "  df.groupby('day')['total_bill'].describe()\n"
     ]
    },
    {
     "data": {
      "text/html": [
       "<div>\n",
       "<style scoped>\n",
       "    .dataframe tbody tr th:only-of-type {\n",
       "        vertical-align: middle;\n",
       "    }\n",
       "\n",
       "    .dataframe tbody tr th {\n",
       "        vertical-align: top;\n",
       "    }\n",
       "\n",
       "    .dataframe thead th {\n",
       "        text-align: right;\n",
       "    }\n",
       "</style>\n",
       "<table border=\"1\" class=\"dataframe\">\n",
       "  <thead>\n",
       "    <tr style=\"text-align: right;\">\n",
       "      <th></th>\n",
       "      <th>count</th>\n",
       "      <th>mean</th>\n",
       "      <th>std</th>\n",
       "      <th>min</th>\n",
       "      <th>25%</th>\n",
       "      <th>50%</th>\n",
       "      <th>75%</th>\n",
       "      <th>max</th>\n",
       "    </tr>\n",
       "    <tr>\n",
       "      <th>day</th>\n",
       "      <th></th>\n",
       "      <th></th>\n",
       "      <th></th>\n",
       "      <th></th>\n",
       "      <th></th>\n",
       "      <th></th>\n",
       "      <th></th>\n",
       "      <th></th>\n",
       "    </tr>\n",
       "  </thead>\n",
       "  <tbody>\n",
       "    <tr>\n",
       "      <th>Thur</th>\n",
       "      <td>62.0</td>\n",
       "      <td>17.682742</td>\n",
       "      <td>7.886170</td>\n",
       "      <td>7.51</td>\n",
       "      <td>12.4425</td>\n",
       "      <td>16.20</td>\n",
       "      <td>20.1550</td>\n",
       "      <td>43.11</td>\n",
       "    </tr>\n",
       "    <tr>\n",
       "      <th>Fri</th>\n",
       "      <td>19.0</td>\n",
       "      <td>17.151579</td>\n",
       "      <td>8.302660</td>\n",
       "      <td>5.75</td>\n",
       "      <td>12.0950</td>\n",
       "      <td>15.38</td>\n",
       "      <td>21.7500</td>\n",
       "      <td>40.17</td>\n",
       "    </tr>\n",
       "    <tr>\n",
       "      <th>Sat</th>\n",
       "      <td>87.0</td>\n",
       "      <td>20.441379</td>\n",
       "      <td>9.480419</td>\n",
       "      <td>3.07</td>\n",
       "      <td>13.9050</td>\n",
       "      <td>18.24</td>\n",
       "      <td>24.7400</td>\n",
       "      <td>50.81</td>\n",
       "    </tr>\n",
       "    <tr>\n",
       "      <th>Sun</th>\n",
       "      <td>76.0</td>\n",
       "      <td>21.410000</td>\n",
       "      <td>8.832122</td>\n",
       "      <td>7.25</td>\n",
       "      <td>14.9875</td>\n",
       "      <td>19.63</td>\n",
       "      <td>25.5975</td>\n",
       "      <td>48.17</td>\n",
       "    </tr>\n",
       "  </tbody>\n",
       "</table>\n",
       "</div>"
      ],
      "text/plain": [
       "      count       mean       std   min      25%    50%      75%    max\n",
       "day                                                                   \n",
       "Thur   62.0  17.682742  7.886170  7.51  12.4425  16.20  20.1550  43.11\n",
       "Fri    19.0  17.151579  8.302660  5.75  12.0950  15.38  21.7500  40.17\n",
       "Sat    87.0  20.441379  9.480419  3.07  13.9050  18.24  24.7400  50.81\n",
       "Sun    76.0  21.410000  8.832122  7.25  14.9875  19.63  25.5975  48.17"
      ]
     },
     "execution_count": 103,
     "metadata": {},
     "output_type": "execute_result"
    }
   ],
   "source": [
    "# test the claim that the avergae total bill varies from Thu to Sun @ 1 %\n",
    "df.groupby('day')['total_bill'].describe()"
   ]
  },
  {
   "cell_type": "code",
   "execution_count": 107,
   "id": "67786742-d31b-4249-a951-b3330bdfac7c",
   "metadata": {},
   "outputs": [],
   "source": [
    "tb_Thu = df[df.day=='Thur']['total_bill']\n",
    "tb_Fri = df[df.day=='Fri']['total_bill']\n",
    "tb_Sat = df[df.day=='Sat']['total_bill']\n",
    "tb_Sun = df[df.day=='Sun']['total_bill']"
   ]
  },
  {
   "cell_type": "code",
   "execution_count": 109,
   "id": "71d13554-4ed3-437a-ad5b-2923fa797d52",
   "metadata": {},
   "outputs": [
    {
     "data": {
      "text/plain": [
       "ShapiroResult(statistic=0.8957935173266691, pvalue=0.04085649671549424)"
      ]
     },
     "execution_count": 109,
     "metadata": {},
     "output_type": "execute_result"
    }
   ],
   "source": [
    "## Normality test : only fri total bill to be tested\n",
    "st.shapiro(tb_Fri)"
   ]
  },
  {
   "cell_type": "code",
   "execution_count": null,
   "id": "898f4a92-ca28-48f2-a807-a202fb234bb3",
   "metadata": {},
   "outputs": [],
   "source": [
    "# since p value (0.04) > alpha(0.01) --> fail to reject H0;\n",
    "# Hence we can conclude that data is normal"
   ]
  },
  {
   "cell_type": "code",
   "execution_count": null,
   "id": "5b2113ac-8fd3-439e-bb6d-706caf40eeed",
   "metadata": {},
   "outputs": [],
   "source": []
  }
 ],
 "metadata": {
  "kernelspec": {
   "display_name": "Python 3 (ipykernel)",
   "language": "python",
   "name": "python3"
  },
  "language_info": {
   "codemirror_mode": {
    "name": "ipython",
    "version": 3
   },
   "file_extension": ".py",
   "mimetype": "text/x-python",
   "name": "python",
   "nbconvert_exporter": "python",
   "pygments_lexer": "ipython3",
   "version": "3.12.4"
  }
 },
 "nbformat": 4,
 "nbformat_minor": 5
}
