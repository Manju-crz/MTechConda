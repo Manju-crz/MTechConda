{
  "cells": [
    {
      "cell_type": "markdown",
      "id": "cc263720",
      "metadata": {
        "id": "cc263720"
      },
      "source": [
        "The data set given for the project is from \"https://archive beta.ics.uci.edu/ml/datasets/productivity+prediction+of+garment+employees\"  and is cited as Productivity Prediction of Garment Employees. (2020). UCI Machine Learning Repository. . The data file is attached as csv file. The following are details being provided . The data contains details on actual productivty of a garment industry, the data has been recorded on a day to day basis from the year 2015 to almost year end of 2015. Each quarter represents one week in a month. The days beyond 28 days are considered as quarter 5 which can be ignored. The data set at first needs to be examined and the structure of the data set needs to be understood. The data has been recorded in terms of the following details\n",
        "    1. Date\n",
        "    2. Quarter (Four Quarters)\n",
        "    3. Department (Sewing and Finishing)\n",
        "    4. Day (Please note the way data is recorded is that based on a dept and productivity is recorded for various lines in each dept, hence you would find multiple productivity recorded for each combination of vairables such as team, dept, smv, date)\n",
        "    5. Team\n",
        "    6. Targeted_Producitivity (Target which needs to be achieved)\n",
        "    7. SMV (Standard Minute Value) : Standard time for a Task in this case you can take standard time to complete a garment\n",
        "    8. WIP (Work in progress)\n",
        "    9. Over_time\n",
        "    10. Incentive\n",
        "    11. Idle_time\n",
        "    12. Idle_men (Idle workers)\n",
        "    13. no_of_style_change\n",
        "    14. no_of_workers\n",
        "    15. Actual_Producitivity\n",
        "The aim is of this project is to obtain an understanding of the data and decipher the relationship among the variables, understanding what possible variables can affect producivity which can be whether overtime or team size or number of worker or department type or a day (like monday ect...) ect.. have an effect.\n",
        "\n",
        "Suppose the manager is interested in the following questions\n",
        "\n",
        "Exploratory Data Analysis & Descriptive Statistics\n",
        "\n",
        "1. Basic Summary statistics of the data for the numerical variables\n",
        "2. basic Summary of the data for the number of working days, count of quarters in the year\n",
        "3. Mean and standard deviation of actual producivity for every quarter and Histogram plot of actual productivity based on every quarter and conclusion accordingly\n",
        "4. Number count for sewing and finishing department\n",
        "5. Mean and standard deviation of actual producivity for sewing and finishing Histogram plot of actual productivity based on both department and conclusion accordingly\n",
        "6. Number count for  teams, smv across the year\n",
        "7. Histogram & Box plot of actual productivity based on all working days, team size, quarterts and  Conclude accordingly\n",
        "8. Find correlation matrix and draw heat map for all variables\n",
        "9. Conclude (Is the company able to meet target, are they giving incentives based on producitivity, does overtime have any effect on productivity)\n",
        "10. Find the correlation between actual and target productivity for every quarter and for every department. What do you conclude\n",
        "11. Based on the above details of EDA and Descriptive statisitcs analysis what would you say could be the possible factors which can affect producitivity.\n",
        "\n",
        "Hypothesis Testing\n",
        "\n",
        "12. Test using Z test (take a random sample of more than 30 and assume sigma =.1) whether the finishing department has achieved more acheived producitivity than .75 for a standard deviation of .1. State your null and alternative hypothesis. alpha value is .05\n",
        "\n",
        "13. Test using Z test(take a random sample of more than 30 and assume sigma =.1) whether the sewing department has achieved more producitivit than .75 for a standard deviation of .1. State your null and alternative hypothesis. alpha value is .05.\n",
        "\n",
        "14. Conduct a two sample t test (take a random sample more than 30) to check whether the finishing department has achieved more actual productivtiy than sewing     department. State your null and alternative hypothesis\n",
        "\n",
        "15. Conduct a two sample t (take a random sample less than 30) test to check whether the finishing department has achieved obtained higher incentive than sewing department, state your null and alternative hypothesis. In case test fails for normality check, then take a sample more than 30.\n",
        "\n",
        "16. The manager has asked you to classifiy low productivity as less than .5, medium between .5 and less than .75 and higher\n",
        "    as greater than or equal to .75. He believes that the percentage of  actual producvity  in  sewing departemnt for   \n",
        "    person classified as low is 30%, for medium is 40% and for high is 30%. USing chi square test can you prove whether his\n",
        "    hypothesis is right or not\n",
        "\n",
        "17. Based on the EDA analysis the manager has decided to find out whether different quarters are having an impact on actual productivity. Assuming normality of data conduct an analysis accordingly Conduct an ANOVA for comparing productivity for Quarter1, Quarter2, Quarter3, Quarter 4 and accordingly conclude (Assume data is normally distributed)\n",
        "\n",
        "18. In case the manager is interested whether day and quarters have an impact on actual producitivity, provide an analysis and identify which factors play a role in affecting productivty\n",
        "\n",
        "19. Based on 17 eliminate one of the variabes which is not significant and reconduct analysis using deparment as another variable, what do you conclude.\n",
        "\n",
        "20. Based on EDA and Hypothesis would you aggree or disaggree with the finding, also in addition summarize the findings based on both analysis and provide a recommendation on what you can thinking on improving the producitivity."
      ]
    },
    {
      "cell_type": "code",
      "execution_count": null,
      "id": "796c912d",
      "metadata": {
        "id": "796c912d"
      },
      "outputs": [],
      "source": [
        "import numpy as np\n",
        "import pandas as pd\n",
        "import seaborn as sns\n",
        "import matplotlib.pyplot as plt\n",
        "import scipy.stats as stats\n",
        "from scipy.stats import f_oneway\n",
        "# import statsmodels\n",
        "import statsmodels.api as sm\n",
        "from statsmodels.formula.api import ols\n",
        "from statsmodels.stats.anova import anova_lm\n",
        "# import the functions to perform Chi-square tests\n",
        "from scipy.stats import chi2_contingency\n",
        "from scipy.stats import chi2\n",
        "from scipy.stats import chisquare"
      ]
    },
    {
      "cell_type": "code",
      "execution_count": null,
      "id": "e46e9d79",
      "metadata": {
        "id": "e46e9d79"
      },
      "outputs": [],
      "source": []
    },
    {
      "cell_type": "markdown",
      "id": "60ef4eb2",
      "metadata": {
        "id": "60ef4eb2"
      },
      "source": [
        "Exploratory Data Analysis & Descriptive Statistics\n",
        "\n",
        "1. Basic Summary statistics of the data for the numerical variables\n",
        "2. basic Summary of the data for the number of working days, count of quarters in the year\n",
        "3. Mean and standard deviation of actual producivity for every quarter and Histogram plot of actual productivity based on every quarter and conclusion accordingly\n",
        "4. Number count for sewing and finishing department\n",
        "5. Mean and standard deviation of actual producivity for sewing and finishing Histogram plot of actual productivity based on both department and conclusion accordingly\n",
        "6. Number count for  teams, smv across the year\n",
        "7. Histogram & Box plot of actual productivity based on all working days, team size, quarterts and  Conclude accordingly\n",
        "8. Find correlation matrix and draw heat map for all variables\n",
        "9. Conclude (Is the company able to meet target, are they giving incentives based on producitivity, does overtime have any effect on productivity)\n",
        "10. Find the correlation between actual and target productivity for every quarter and for every department. What do you conclude\n",
        "11. Based on the above details of EDA and Descriptive statisitcs analysis what would you say could be the possible factors which can affect producitivity."
      ]
    },
    {
      "cell_type": "code",
      "execution_count": null,
      "id": "b481e77b",
      "metadata": {
        "id": "b481e77b"
      },
      "outputs": [],
      "source": [
        "#1"
      ]
    },
    {
      "cell_type": "code",
      "execution_count": null,
      "id": "a886427d",
      "metadata": {
        "id": "a886427d"
      },
      "outputs": [],
      "source": [
        "#2"
      ]
    },
    {
      "cell_type": "code",
      "execution_count": null,
      "id": "f58c9687",
      "metadata": {
        "id": "f58c9687"
      },
      "outputs": [],
      "source": [
        "#3"
      ]
    },
    {
      "cell_type": "code",
      "execution_count": null,
      "id": "fd89e0ee",
      "metadata": {
        "id": "fd89e0ee"
      },
      "outputs": [],
      "source": [
        "#4"
      ]
    },
    {
      "cell_type": "code",
      "execution_count": null,
      "id": "787ab616",
      "metadata": {
        "id": "787ab616"
      },
      "outputs": [],
      "source": [
        "#5"
      ]
    },
    {
      "cell_type": "code",
      "execution_count": null,
      "id": "0b115fa2",
      "metadata": {
        "id": "0b115fa2"
      },
      "outputs": [],
      "source": [
        "#6"
      ]
    },
    {
      "cell_type": "code",
      "execution_count": null,
      "id": "e26330de",
      "metadata": {
        "id": "e26330de"
      },
      "outputs": [],
      "source": [
        "#7"
      ]
    },
    {
      "cell_type": "code",
      "execution_count": null,
      "id": "fc931c0e",
      "metadata": {
        "id": "fc931c0e"
      },
      "outputs": [],
      "source": [
        "#8"
      ]
    },
    {
      "cell_type": "code",
      "execution_count": null,
      "id": "0d9b8267",
      "metadata": {
        "id": "0d9b8267"
      },
      "outputs": [],
      "source": [
        "#9"
      ]
    },
    {
      "cell_type": "code",
      "execution_count": null,
      "id": "d641d2c0",
      "metadata": {
        "id": "d641d2c0"
      },
      "outputs": [],
      "source": [
        "#10"
      ]
    },
    {
      "cell_type": "code",
      "execution_count": null,
      "id": "3f83376a",
      "metadata": {
        "id": "3f83376a"
      },
      "outputs": [],
      "source": [
        "#11"
      ]
    },
    {
      "cell_type": "markdown",
      "id": "f2dea8fc",
      "metadata": {
        "id": "f2dea8fc"
      },
      "source": [
        "Hypothesis Testing\n",
        "\n",
        "12. Test using Z test (take a random sample of more than 30 and assume sigma =.1) whether the finishing department has achieved more acheived producitivity than .75 for a standard deviation of .1. State your null and alternative hypothesis. alpha value is .05\n",
        "\n",
        "13. Test using Z test(take a random sample of more than 30 and assume sigma =.1) whether the sewing department has achieved more producitivit than .75 for a standard deviation of .1. State your null and alternative hypothesis. alpha value is .05.\n",
        "\n",
        "14. Conduct a two sample t test (take a random sample more than 30) to check whether the finishing department has achieved more actual productivtiy than sewing     department. State your null and alternative hypothesis\n",
        "\n",
        "15. Conduct a two sample t (take a random sample less than 30) test to check whether the finishing department has achieved obtained higher incentive than sewing department, state your null and alternative hypothesis. In case test fails for normality check, then take a sample more than 30.\n",
        "\n",
        "16. The manager has asked you to classifiy low productivity as less than .5, medium between .5 and less than .75 and higher\n",
        "    as greater than or equal to .75. He believes that the percentage of  actual producvity  in  sewing departemnt for   \n",
        "    person classified as low is 30%, for medium is 40% and for high is 30%. USing chi square test can you prove whether his\n",
        "    hypothesis is right or not\n",
        "\n",
        "17. Based on the EDA analysis the manager has decided to find out whether different quarters are having an impact on actual productivity. Assuming normality of data conduct an analysis accordingly Conduct an ANOVA for comparing productivity for Quarter1, Quarter2, Quarter3, Quarter 4 and accordingly conclude (Assume data is normally distributed)\n",
        "\n",
        "18. In case the manager is interested whether day and quarters have an impact on actual producitivity, provide an analysis and identify which factors play a role in affecting productivty\n",
        "\n",
        "19. Based on 17 eliminate one of the variabes which is not significant and reconduct analysis using deparment as another variable, what do you conclude.\n",
        "\n",
        "20. Based on EDA and Hypothesis would you aggree or disaggree with the finding, also in addition summarize the findings based on both analysis and provide a recommendation on what you can thinking on improving the producitivity.\n"
      ]
    },
    {
      "cell_type": "code",
      "execution_count": null,
      "id": "a79f440c",
      "metadata": {
        "id": "a79f440c"
      },
      "outputs": [],
      "source": [
        "#12"
      ]
    },
    {
      "cell_type": "code",
      "execution_count": null,
      "id": "c324218b",
      "metadata": {
        "id": "c324218b"
      },
      "outputs": [],
      "source": [
        "#13"
      ]
    },
    {
      "cell_type": "code",
      "execution_count": null,
      "id": "eee7e80d",
      "metadata": {
        "id": "eee7e80d"
      },
      "outputs": [],
      "source": [
        "#14"
      ]
    },
    {
      "cell_type": "code",
      "execution_count": null,
      "id": "66713691",
      "metadata": {
        "id": "66713691"
      },
      "outputs": [],
      "source": [
        "#15"
      ]
    },
    {
      "cell_type": "code",
      "execution_count": null,
      "id": "adff4c92",
      "metadata": {
        "id": "adff4c92"
      },
      "outputs": [],
      "source": [
        "#16"
      ]
    },
    {
      "cell_type": "code",
      "execution_count": null,
      "id": "710b45b8",
      "metadata": {
        "id": "710b45b8"
      },
      "outputs": [],
      "source": [
        "#17"
      ]
    },
    {
      "cell_type": "code",
      "execution_count": null,
      "id": "f89b45aa",
      "metadata": {
        "id": "f89b45aa"
      },
      "outputs": [],
      "source": [
        "#18"
      ]
    },
    {
      "cell_type": "code",
      "execution_count": null,
      "id": "82499496",
      "metadata": {
        "id": "82499496"
      },
      "outputs": [],
      "source": [
        "#19"
      ]
    },
    {
      "cell_type": "code",
      "execution_count": null,
      "id": "c3143877",
      "metadata": {
        "id": "c3143877"
      },
      "outputs": [],
      "source": [
        "#20"
      ]
    },
    {
      "cell_type": "code",
      "execution_count": null,
      "id": "309fb25c",
      "metadata": {
        "id": "309fb25c"
      },
      "outputs": [],
      "source": [
        "#21"
      ]
    }
  ],
  "metadata": {
    "kernelspec": {
      "display_name": "Python 3 (ipykernel)",
      "language": "python",
      "name": "python3"
    },
    "language_info": {
      "codemirror_mode": {
        "name": "ipython",
        "version": 3
      },
      "file_extension": ".py",
      "mimetype": "text/x-python",
      "name": "python",
      "nbconvert_exporter": "python",
      "pygments_lexer": "ipython3",
      "version": "3.10.7"
    },
    "colab": {
      "provenance": []
    }
  },
  "nbformat": 4,
  "nbformat_minor": 5
}