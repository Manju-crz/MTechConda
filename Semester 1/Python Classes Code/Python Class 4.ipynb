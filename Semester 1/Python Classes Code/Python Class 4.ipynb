{
 "cells": [
  {
   "cell_type": "markdown",
   "id": "43db4756-a265-48e6-8de4-8774bb93aedc",
   "metadata": {},
   "source": [
    "## Anonymous Functions"
   ]
  },
  {
   "cell_type": "code",
   "execution_count": 9,
   "id": "386d33d7-3b96-4e69-8009-da1f225f77a5",
   "metadata": {},
   "outputs": [
    {
     "data": {
      "text/plain": [
       "[100, 300, 500, 700, 900]"
      ]
     },
     "execution_count": 9,
     "metadata": {},
     "output_type": "execute_result"
    }
   ],
   "source": [
    "mlist = [1,3,5,7,9]\n",
    "mobj = map(lambda m:m*100, mlist)\n",
    "list(mobj)"
   ]
  },
  {
   "cell_type": "code",
   "execution_count": 11,
   "id": "7915b9c3-f095-419b-ba87-9150c926afd3",
   "metadata": {},
   "outputs": [
    {
     "name": "stdout",
     "output_type": "stream",
     "text": [
      "[132, 132, 132, 201]\n"
     ]
    }
   ],
   "source": [
    "marks1 = [44,44,44,67]\n",
    "marks2 = [44,44,44,67]\n",
    "marks3 = [44,44,44,67]\n",
    "mobj = map(lambda m1,m2,m3 : m1+m2+m3, marks1, marks2, marks3)\n",
    "print(list(mobj))"
   ]
  },
  {
   "cell_type": "markdown",
   "id": "386df1d5-5a13-4ca2-8d34-928030a49572",
   "metadata": {},
   "source": [
    "## List Comprehension"
   ]
  },
  {
   "cell_type": "code",
   "execution_count": 18,
   "id": "24714469-9c17-4c3a-8fc6-e27b1e9422ed",
   "metadata": {},
   "outputs": [
    {
     "name": "stdout",
     "output_type": "stream",
     "text": [
      "[1, 4, 9, 16, 25]\n"
     ]
    }
   ],
   "source": [
    "# Given list of numbers, create a list of square of numbers\n",
    "\n",
    "nmlist = [1,2,3,4,5]\n",
    "sqlist = []\n",
    "\n",
    "for n in nmlist :\n",
    "    r = n * n\n",
    "    sqlist.append(r)\n",
    "print(sqlist)"
   ]
  },
  {
   "cell_type": "code",
   "execution_count": 20,
   "id": "243f113b-7726-43ed-98cd-40a7cb9a9420",
   "metadata": {},
   "outputs": [
    {
     "name": "stdout",
     "output_type": "stream",
     "text": [
      "[1, 4, 9, 16, 25]\n"
     ]
    }
   ],
   "source": [
    "nmlist = [1,2,3,4,5]\n",
    "sqlist = [n**2 for n in nmlist]\n",
    "print(sqlist)"
   ]
  },
  {
   "cell_type": "code",
   "execution_count": 26,
   "id": "1ce190f5-1edd-4f26-89b2-639721b22fe0",
   "metadata": {},
   "outputs": [
    {
     "name": "stdout",
     "output_type": "stream",
     "text": [
      "[1, 4, 27, 16, 125]\n"
     ]
    }
   ],
   "source": [
    "# Given list of numbers, create a list of square of numbers and cube\n",
    "\n",
    "nmlist = [1,2,3,4,5]\n",
    "rlist = []\n",
    "\n",
    "for n in nmlist :\n",
    "    if(n % 2 == 0) :\n",
    "        r = n * n\n",
    "    else :\n",
    "        r = n ** 3\n",
    "    rlist.append(r)\n",
    "print(rlist)"
   ]
  },
  {
   "cell_type": "code",
   "execution_count": 28,
   "id": "32baa3f0-dfb9-41e4-970b-dd96c4f32c30",
   "metadata": {},
   "outputs": [
    {
     "name": "stdout",
     "output_type": "stream",
     "text": [
      "[1, 4, 27, 16, 125]\n"
     ]
    }
   ],
   "source": [
    "nmlist = [1,2,3,4,5]\n",
    "sqlist = [n**2 if(n % 2 == 0) else n**3 for n in nmlist]\n",
    "print(sqlist)"
   ]
  },
  {
   "cell_type": "code",
   "execution_count": 36,
   "id": "f0b44989-d16c-46da-acc8-4099ec927bf3",
   "metadata": {},
   "outputs": [
    {
     "name": "stdout",
     "output_type": "stream",
     "text": [
      "[2, 4]\n",
      "[2, 4]\n"
     ]
    }
   ],
   "source": [
    "# Have even and odd numbers seperately\n",
    "nmlist = [1,2,3,4,5]\n",
    "evenlist = []\n",
    "\n",
    "for n in nmlist :\n",
    "    if(n % 2 == 0) :\n",
    "        evenlist.append(n)\n",
    "print(evenlist)\n",
    "\n",
    "evenlist1 = [n*1 for n in nmlist if n%2 == 0]\n",
    "print(evenlist1)\n",
    "\n",
    "\n"
   ]
  },
  {
   "cell_type": "code",
   "execution_count": 38,
   "id": "02de59f4-44a7-45c3-a616-cb8d87f59dc9",
   "metadata": {},
   "outputs": [
    {
     "name": "stdout",
     "output_type": "stream",
     "text": [
      "[(23, 'C'), (435, 'H'), (54, 'M')]\n"
     ]
    }
   ],
   "source": [
    "tlist = [23,435,54]\n",
    "tflist = [(t,'C') if t<30 else (t, 'M') if t>30 and t<60 else (t,'H') for t in tlist]\n",
    "print (tflist)"
   ]
  },
  {
   "cell_type": "code",
   "execution_count": 42,
   "id": "12b3cad2-a458-4554-ba5a-b79e1a7845ba",
   "metadata": {},
   "outputs": [
    {
     "name": "stdout",
     "output_type": "stream",
     "text": [
      "[('u1', 'p1'), ('u1', 'p2'), ('u1', 'p3'), ('u2', 'p1'), ('u2', 'p2'), ('u2', 'p3'), ('u3', 'p1'), ('u3', 'p2'), ('u3', 'p3')]\n"
     ]
    }
   ],
   "source": [
    "ulist = ['u1', 'u2', 'u3']\n",
    "plist = ['p1', 'p2', 'p3']\n",
    "uplist = [(u,p) for u in ulist for p in plist]\n",
    "print(uplist)"
   ]
  },
  {
   "cell_type": "code",
   "execution_count": 48,
   "id": "a666c038-4b44-474e-9e67-98bf013f2f7d",
   "metadata": {},
   "outputs": [
    {
     "name": "stdout",
     "output_type": "stream",
     "text": [
      "[('u1', 'p1'), ('u1', 'p2'), ('u3', 'p1'), ('u3', 'p2')]\n"
     ]
    }
   ],
   "source": [
    "ulist = ['u1', 'u2', 'u3']\n",
    "plist = ['p1', 'p2', 'p3']\n",
    "uplist = [(u,p) for u in ulist if u!='u2' for p in plist if p!='p3']\n",
    "print(uplist)"
   ]
  },
  {
   "cell_type": "markdown",
   "id": "19379ebf-5557-4382-b76e-dd4baf906342",
   "metadata": {},
   "source": [
    "### Scope"
   ]
  },
  {
   "cell_type": "code",
   "execution_count": 89,
   "id": "397ffa3e-1f64-4a06-847b-7cc6d8b47c6a",
   "metadata": {},
   "outputs": [
    {
     "name": "stdout",
     "output_type": "stream",
     "text": [
      "debug1 111 222\n",
      "debug2 111 111111111 333 444\n",
      "locals {'v3': 333, 'v4': 444}\n",
      "debug2 111 111111111 555 666\n"
     ]
    }
   ],
   "source": [
    "g1 = 111;\n",
    "g2 = 222;\n",
    "v3 = 555\n",
    "v4 = 666\n",
    "def mf99(v3) :\n",
    "    global g2\n",
    "    v4 = 444\n",
    "    g2 = 111111111\n",
    "    print('debug2', g1,g2,v3,v4)\n",
    "    print('locals', locals())\n",
    "\n",
    "print('debug1',g1,g2)\n",
    "mf99(333)\n",
    "print('debug2', g1,g2,v3,v4)"
   ]
  },
  {
   "cell_type": "markdown",
   "id": "a0a9bb8e-e1f8-4b17-bbf1-6daaf9d0d89b",
   "metadata": {},
   "source": [
    "## Recursion"
   ]
  },
  {
   "cell_type": "code",
   "execution_count": 100,
   "id": "ba6b8fb0-6b98-49ba-b355-a882af71af5b",
   "metadata": {},
   "outputs": [
    {
     "name": "stdout",
     "output_type": "stream",
     "text": [
      "Boss don't enter negative numbers\n",
      "None\n"
     ]
    }
   ],
   "source": [
    "def factorial(n):\n",
    "    if(n < 0) :\n",
    "        print(\"Boss don't enter negative numbers\")\n",
    "        return\n",
    "    if(n ==0) :\n",
    "        return 1;\n",
    "    return n * factorial(n-1)\n",
    "\n",
    "x = factorial(-2)\n",
    "print(x)\n"
   ]
  },
  {
   "cell_type": "markdown",
   "id": "abaa17d0-b9b7-49d4-8721-6a09a5dc397c",
   "metadata": {},
   "source": [
    "# NUMPY"
   ]
  },
  {
   "cell_type": "code",
   "execution_count": 105,
   "id": "2024e5ef-43bc-414b-ab43-5a351a194cde",
   "metadata": {},
   "outputs": [],
   "source": [
    "import numpy as np"
   ]
  },
  {
   "cell_type": "code",
   "execution_count": 131,
   "id": "b8eb317f-037e-4a56-a43c-75154a62e504",
   "metadata": {},
   "outputs": [
    {
     "name": "stdout",
     "output_type": "stream",
     "text": [
      "<class 'numpy.ndarray'>\n",
      "1\n",
      "(5,)\n",
      "5\n",
      "1\n",
      "int8\n",
      "[10 20 30 40 50]\n"
     ]
    }
   ],
   "source": [
    "# Single dimensional array\n",
    "mylist1 = [10,20,30,40,50]\n",
    "n1 = np.array(mylist1, dtype = np.int8)\n",
    "print(type(n1))\n",
    "print(n1.ndim)\n",
    "print(n1.shape)\n",
    "print(n1.size)\n",
    "print(n1.itemsize) # in bytes\n",
    "print(n1.dtype)\n",
    "print(n1)"
   ]
  },
  {
   "cell_type": "code",
   "execution_count": 138,
   "id": "b9da7ec5-af26-4585-8d2a-879f5690e216",
   "metadata": {},
   "outputs": [
    {
     "name": "stdout",
     "output_type": "stream",
     "text": [
      "<class 'numpy.ndarray'>\n",
      "2\n",
      "(2, 3)\n",
      "6\n",
      "1\n",
      "int8\n",
      "[[10 20 30]\n",
      " [40 50 60]]\n"
     ]
    }
   ],
   "source": [
    "# Two dimensional array\n",
    "mylist1 = [[10,20, 30],[40,50,60]]\n",
    "n1 = np.array(mylist1, dtype = np.int8)\n",
    "print(type(n1))\n",
    "print(n1.ndim)\n",
    "print(n1.shape)\n",
    "print(n1.size)\n",
    "print(n1.itemsize) # in bytes\n",
    "print(n1.dtype)\n",
    "print(n1)"
   ]
  },
  {
   "cell_type": "code",
   "execution_count": 140,
   "id": "83b38ab4-3e70-4e95-beb4-e30dcb8db19f",
   "metadata": {},
   "outputs": [
    {
     "data": {
      "text/plain": [
       "array([0, 1, 2, 3, 4, 5, 6, 7, 8, 9])"
      ]
     },
     "execution_count": 140,
     "metadata": {},
     "output_type": "execute_result"
    }
   ],
   "source": [
    "np.arange(10)"
   ]
  },
  {
   "cell_type": "code",
   "execution_count": 142,
   "id": "72808219-5290-4e1a-8fdb-f7cd7ffbdfcc",
   "metadata": {},
   "outputs": [
    {
     "data": {
      "text/plain": [
       "array([10, 11, 12, 13, 14, 15, 16, 17, 18])"
      ]
     },
     "execution_count": 142,
     "metadata": {},
     "output_type": "execute_result"
    }
   ],
   "source": [
    "np.arange(10,19) # Always return a one dimensional array"
   ]
  },
  {
   "cell_type": "code",
   "execution_count": 144,
   "id": "664c1e94-2c38-4719-a0e0-96eec5f7439d",
   "metadata": {},
   "outputs": [
    {
     "data": {
      "text/plain": [
       "array([10.1, 12.4, 14.7, 17. , 19.3])"
      ]
     },
     "execution_count": 144,
     "metadata": {},
     "output_type": "execute_result"
    }
   ],
   "source": [
    "np.arange(10.1,20.9,2.3)"
   ]
  },
  {
   "cell_type": "code",
   "execution_count": 154,
   "id": "e2c01375-7b9f-4fcf-96c4-f3f13e714837",
   "metadata": {},
   "outputs": [
    {
     "name": "stdout",
     "output_type": "stream",
     "text": [
      "[[ 0  1  2  3]\n",
      " [ 4  5  6  7]\n",
      " [ 8  9 10 11]\n",
      " [12 13 14 15]\n",
      " [16 17 18 19]\n",
      " [20 21 22 23]]\n",
      "(6, 4)\n"
     ]
    }
   ],
   "source": [
    "n64 = np.arange(24).reshape(6,4)\n",
    "print(n64)\n",
    "print(np.shape(n64))"
   ]
  },
  {
   "cell_type": "code",
   "execution_count": 174,
   "id": "84ef3b9a-6d5c-4a53-bdf4-f2e87f80e6db",
   "metadata": {},
   "outputs": [
    {
     "name": "stdout",
     "output_type": "stream",
     "text": [
      "[0 1 2 3 4 5]\n",
      "[[0 1 2 3 4 5]]\n"
     ]
    }
   ],
   "source": [
    "n6 = np.arange(6)\n",
    "print (n6)\n",
    "print(n6.reshape(1,6))"
   ]
  },
  {
   "cell_type": "code",
   "execution_count": 180,
   "id": "faf329f8-941e-4d2f-ace2-691739146ea6",
   "metadata": {},
   "outputs": [
    {
     "data": {
      "text/plain": [
       "array([[   0,    1,    2, ...,    5,    6,    7],\n",
       "       [   8,    9,   10, ...,   13,   14,   15],\n",
       "       [  16,   17,   18, ...,   21,   22,   23],\n",
       "       ...,\n",
       "       [2024, 2025, 2026, ..., 2029, 2030, 2031],\n",
       "       [2032, 2033, 2034, ..., 2037, 2038, 2039],\n",
       "       [2040, 2041, 2042, ..., 2045, 2046, 2047]])"
      ]
     },
     "execution_count": 180,
     "metadata": {},
     "output_type": "execute_result"
    }
   ],
   "source": [
    "np.arange(2048).reshape(-1,8)\n"
   ]
  },
  {
   "cell_type": "code",
   "execution_count": 256,
   "id": "d32fe73d-a918-4f9e-b07f-bd8ca065689d",
   "metadata": {},
   "outputs": [
    {
     "data": {
      "text/plain": [
       "array([[54, 57, 74, 77],\n",
       "       [77, 19, 93, 31],\n",
       "       [46, 97, 80, 98],\n",
       "       [98, 22, 68, 75],\n",
       "       [49, 97, 56, 98],\n",
       "       [91, 47, 35, 87]])"
      ]
     },
     "execution_count": 256,
     "metadata": {},
     "output_type": "execute_result"
    }
   ],
   "source": [
    "np.random.seed(0)\n",
    "n64 = np.random.randint(low=10, high=100, size=(6,4))\n",
    "n64"
   ]
  },
  {
   "cell_type": "code",
   "execution_count": 258,
   "id": "308dc9bc-ddaf-4c12-8ec3-22660ff0ac30",
   "metadata": {},
   "outputs": [
    {
     "data": {
      "text/plain": [
       "array([[1., 1., 1., 1.],\n",
       "       [1., 1., 1., 1.],\n",
       "       [1., 1., 1., 1.]])"
      ]
     },
     "execution_count": 258,
     "metadata": {},
     "output_type": "execute_result"
    }
   ],
   "source": [
    "np.ones(shape=(3,4))"
   ]
  },
  {
   "cell_type": "code",
   "execution_count": 262,
   "id": "4e91f195-e593-4efc-b336-0528ff46156e",
   "metadata": {},
   "outputs": [
    {
     "data": {
      "text/plain": [
       "array([[1., 0., 0., 0., 0.],\n",
       "       [0., 1., 0., 0., 0.],\n",
       "       [0., 0., 1., 0., 0.],\n",
       "       [0., 0., 0., 1., 0.],\n",
       "       [0., 0., 0., 0., 1.]])"
      ]
     },
     "execution_count": 262,
     "metadata": {},
     "output_type": "execute_result"
    }
   ],
   "source": [
    "np.identity(5)"
   ]
  },
  {
   "cell_type": "code",
   "execution_count": 266,
   "id": "7b40c69c-7545-4c36-92e6-90b75a106a00",
   "metadata": {},
   "outputs": [
    {
     "name": "stdout",
     "output_type": "stream",
     "text": [
      "['ALLOW_THREADS', 'BUFSIZE', 'CLIP', 'DataSource', 'ERR_CALL', 'ERR_DEFAULT', 'ERR_IGNORE', 'ERR_LOG', 'ERR_PRINT', 'ERR_RAISE', 'ERR_WARN', 'FLOATING_POINT_SUPPORT', 'FPE_DIVIDEBYZERO', 'FPE_INVALID', 'FPE_OVERFLOW', 'FPE_UNDERFLOW', 'False_', 'Inf', 'Infinity', 'MAXDIMS', 'MAY_SHARE_BOUNDS', 'MAY_SHARE_EXACT', 'NAN', 'NINF', 'NZERO', 'NaN', 'PINF', 'PZERO', 'RAISE', 'RankWarning', 'SHIFT_DIVIDEBYZERO', 'SHIFT_INVALID', 'SHIFT_OVERFLOW', 'SHIFT_UNDERFLOW', 'ScalarType', 'True_', 'UFUNC_BUFSIZE_DEFAULT', 'UFUNC_PYVALS_NAME', 'WRAP', '_CopyMode', '_NoValue', '_UFUNC_API', '__NUMPY_SETUP__', '__all__', '__builtins__', '__cached__', '__config__', '__deprecated_attrs__', '__dir__', '__doc__', '__expired_functions__', '__file__', '__former_attrs__', '__future_scalars__', '__getattr__', '__loader__', '__name__', '__package__', '__path__', '__spec__', '__version__', '_add_newdoc_ufunc', '_builtins', '_distributor_init', '_financial_names', '_get_promotion_state', '_globals', '_int_extended_msg', '_mat', '_no_nep50_warning', '_pyinstaller_hooks_dir', '_pytesttester', '_set_promotion_state', '_specific_msg', '_typing', '_using_numpy2_behavior', '_utils', 'abs', 'absolute', 'add', 'add_docstring', 'add_newdoc', 'add_newdoc_ufunc', 'all', 'allclose', 'alltrue', 'amax', 'amin', 'angle', 'any', 'append', 'apply_along_axis', 'apply_over_axes', 'arange', 'arccos', 'arccosh', 'arcsin', 'arcsinh', 'arctan', 'arctan2', 'arctanh', 'argmax', 'argmin', 'argpartition', 'argsort', 'argwhere', 'around', 'array', 'array2string', 'array_equal', 'array_equiv', 'array_repr', 'array_split', 'array_str', 'asanyarray', 'asarray', 'asarray_chkfinite', 'ascontiguousarray', 'asfarray', 'asfortranarray', 'asmatrix', 'atleast_1d', 'atleast_2d', 'atleast_3d', 'average', 'bartlett', 'base_repr', 'binary_repr', 'bincount', 'bitwise_and', 'bitwise_not', 'bitwise_or', 'bitwise_xor', 'blackman', 'block', 'bmat', 'bool_', 'broadcast', 'broadcast_arrays', 'broadcast_shapes', 'broadcast_to', 'busday_count', 'busday_offset', 'busdaycalendar', 'byte', 'byte_bounds', 'bytes_', 'c_', 'can_cast', 'cast', 'cbrt', 'cdouble', 'ceil', 'cfloat', 'char', 'character', 'chararray', 'choose', 'clip', 'clongdouble', 'clongfloat', 'column_stack', 'common_type', 'compare_chararrays', 'compat', 'complex128', 'complex64', 'complex_', 'complexfloating', 'compress', 'concatenate', 'conj', 'conjugate', 'convolve', 'copy', 'copysign', 'copyto', 'corrcoef', 'correlate', 'cos', 'cosh', 'count_nonzero', 'cov', 'cross', 'csingle', 'ctypeslib', 'cumprod', 'cumproduct', 'cumsum', 'datetime64', 'datetime_as_string', 'datetime_data', 'deg2rad', 'degrees', 'delete', 'deprecate', 'deprecate_with_doc', 'diag', 'diag_indices', 'diag_indices_from', 'diagflat', 'diagonal', 'diff', 'digitize', 'disp', 'divide', 'divmod', 'dot', 'double', 'dsplit', 'dstack', 'dtype', 'dtypes', 'e', 'ediff1d', 'einsum', 'einsum_path', 'emath', 'empty', 'empty_like', 'equal', 'errstate', 'euler_gamma', 'exceptions', 'exp', 'exp2', 'expand_dims', 'expm1', 'expm1x', 'extract', 'eye', 'fabs', 'fastCopyAndTranspose', 'fft', 'fill_diagonal', 'find_common_type', 'finfo', 'fix', 'flatiter', 'flatnonzero', 'flexible', 'flip', 'fliplr', 'flipud', 'float16', 'float32', 'float64', 'float_', 'float_power', 'floating', 'floor', 'floor_divide', 'fmax', 'fmin', 'fmod', 'format_float_positional', 'format_float_scientific', 'format_parser', 'frexp', 'from_dlpack', 'frombuffer', 'fromfile', 'fromfunction', 'fromiter', 'frompyfunc', 'fromregex', 'fromstring', 'full', 'full_like', 'gcd', 'generic', 'genfromtxt', 'geomspace', 'get_array_wrap', 'get_include', 'get_printoptions', 'getbufsize', 'geterr', 'geterrcall', 'geterrobj', 'gradient', 'greater', 'greater_equal', 'half', 'hamming', 'hanning', 'heaviside', 'histogram', 'histogram2d', 'histogram_bin_edges', 'histogramdd', 'hsplit', 'hstack', 'hypot', 'i0', 'identity', 'iinfo', 'imag', 'in1d', 'index_exp', 'indices', 'inexact', 'inf', 'info', 'infty', 'inner', 'insert', 'int16', 'int32', 'int64', 'int8', 'int_', 'intc', 'integer', 'interp', 'intersect1d', 'intp', 'invert', 'is_busday', 'isclose', 'iscomplex', 'iscomplexobj', 'isfinite', 'isfortran', 'isin', 'isinf', 'isnan', 'isnat', 'isneginf', 'isposinf', 'isreal', 'isrealobj', 'isscalar', 'issctype', 'issubclass_', 'issubdtype', 'issubsctype', 'iterable', 'ix_', 'kaiser', 'kron', 'lcm', 'ldexp', 'left_shift', 'less', 'less_equal', 'lexsort', 'lib', 'linalg', 'linspace', 'little_endian', 'load', 'loadtxt', 'log', 'log10', 'log1p', 'log2', 'logaddexp', 'logaddexp2', 'logical_and', 'logical_not', 'logical_or', 'logical_xor', 'logspace', 'longcomplex', 'longdouble', 'longfloat', 'longlong', 'lookfor', 'ma', 'mask_indices', 'mat', 'matmul', 'matrix', 'max', 'maximum', 'maximum_sctype', 'may_share_memory', 'mean', 'median', 'memmap', 'meshgrid', 'mgrid', 'min', 'min_scalar_type', 'minimum', 'mintypecode', 'mod', 'modf', 'moveaxis', 'msort', 'multiply', 'nan', 'nan_to_num', 'nanargmax', 'nanargmin', 'nancumprod', 'nancumsum', 'nanmax', 'nanmean', 'nanmedian', 'nanmin', 'nanpercentile', 'nanprod', 'nanquantile', 'nanstd', 'nansum', 'nanvar', 'nbytes', 'ndarray', 'ndenumerate', 'ndim', 'ndindex', 'nditer', 'negative', 'nested_iters', 'newaxis', 'nextafter', 'nonzero', 'not_equal', 'numarray', 'number', 'obj2sctype', 'object_', 'ogrid', 'oldnumeric', 'ones', 'ones_like', 'outer', 'packbits', 'pad', 'partition', 'percentile', 'pi', 'piecewise', 'place', 'poly', 'poly1d', 'polyadd', 'polyder', 'polydiv', 'polyfit', 'polyint', 'polymul', 'polynomial', 'polysub', 'polyval', 'positive', 'power', 'printoptions', 'prod', 'product', 'promote_types', 'ptp', 'put', 'put_along_axis', 'putmask', 'quantile', 'r_', 'rad2deg', 'radians', 'random', 'ravel', 'ravel_multi_index', 'real', 'real_if_close', 'rec', 'recarray', 'recfromcsv', 'recfromtxt', 'reciprocal', 'record', 'remainder', 'repeat', 'require', 'reshape', 'resize', 'result_type', 'right_shift', 'rint', 'roll', 'rollaxis', 'roots', 'rot90', 'round', 'round_', 'row_stack', 's_', 'safe_eval', 'save', 'savetxt', 'savez', 'savez_compressed', 'sctype2char', 'sctypeDict', 'sctypes', 'searchsorted', 'select', 'set_numeric_ops', 'set_printoptions', 'set_string_function', 'setbufsize', 'setdiff1d', 'seterr', 'seterrcall', 'seterrobj', 'setxor1d', 'shape', 'shares_memory', 'short', 'show_config', 'show_runtime', 'sign', 'signbit', 'signedinteger', 'sin', 'sinc', 'single', 'singlecomplex', 'sinh', 'size', 'sometrue', 'sort', 'sort_complex', 'source', 'spacing', 'split', 'sqrt', 'square', 'squeeze', 'stack', 'std', 'str_', 'string_', 'subtract', 'sum', 'swapaxes', 'take', 'take_along_axis', 'tan', 'tanh', 'tensordot', 'test', 'testing', 'tile', 'timedelta64', 'trace', 'tracemalloc_domain', 'transpose', 'trapz', 'tri', 'tril', 'tril_indices', 'tril_indices_from', 'trim_zeros', 'triu', 'triu_indices', 'triu_indices_from', 'true_divide', 'trunc', 'typecodes', 'typename', 'typing', 'ubyte', 'ufunc', 'uint', 'uint16', 'uint32', 'uint64', 'uint8', 'uintc', 'uintp', 'ulonglong', 'unicode_', 'union1d', 'unique', 'unpackbits', 'unravel_index', 'unsignedinteger', 'unwrap', 'ushort', 'vander', 'var', 'vdot', 'vectorize', 'version', 'void', 'vsplit', 'vstack', 'where', 'who', 'zeros', 'zeros_like']\n"
     ]
    }
   ],
   "source": [
    "print(dir(np))"
   ]
  },
  {
   "cell_type": "markdown",
   "id": "d143d4db-3d84-4afd-87e6-d3494494b686",
   "metadata": {},
   "source": [
    "## Extraction"
   ]
  },
  {
   "cell_type": "code",
   "execution_count": 271,
   "id": "6e62e4ce-7b87-4683-9064-a92d94f9af11",
   "metadata": {},
   "outputs": [
    {
     "data": {
      "text/plain": [
       "array([[82, 19, 30, 90, 79, 89, 57, 74, 92],\n",
       "       [98, 59, 39, 29, 29, 24, 49, 42, 75],\n",
       "       [19, 67, 42, 41, 84, 33, 45, 85, 65],\n",
       "       [38, 44, 10, 10, 46, 63, 15, 48, 27],\n",
       "       [89, 14, 52, 68, 41, 11, 75, 51, 67],\n",
       "       [45, 21, 56, 92, 10, 24, 63, 22, 52],\n",
       "       [94, 85, 78, 16, 78, 57, 13, 86, 62],\n",
       "       [88, 25, 30, 68, 33, 89, 23, 95, 58]])"
      ]
     },
     "execution_count": 271,
     "metadata": {},
     "output_type": "execute_result"
    }
   ],
   "source": [
    "\n",
    "c23 = np.random.randint(low=10, high = 100, size=(8,9))\n",
    "c23"
   ]
  },
  {
   "cell_type": "code",
   "execution_count": 283,
   "id": "9092afbd-51e2-4f65-91fb-e406089aca01",
   "metadata": {},
   "outputs": [
    {
     "data": {
      "text/plain": [
       "array([[98, 59, 39, 29, 29, 24, 49, 42, 75],\n",
       "       [38, 44, 10, 10, 46, 63, 15, 48, 27],\n",
       "       [45, 21, 56, 92, 10, 24, 63, 22, 52],\n",
       "       [88, 25, 30, 68, 33, 89, 23, 95, 58]])"
      ]
     },
     "execution_count": 283,
     "metadata": {},
     "output_type": "execute_result"
    }
   ],
   "source": [
    "c23[1::2]"
   ]
  },
  {
   "cell_type": "code",
   "execution_count": 293,
   "id": "412c1e9b-b1c5-4d99-bd7a-0ad4ee68b71d",
   "metadata": {},
   "outputs": [
    {
     "data": {
      "text/plain": [
       "array([[42, 41, 84, 33],\n",
       "       [10, 10, 46, 63],\n",
       "       [52, 68, 41, 11],\n",
       "       [56, 92, 10, 24]])"
      ]
     },
     "execution_count": 293,
     "metadata": {},
     "output_type": "execute_result"
    }
   ],
   "source": [
    "c23[2:6, 2:6]"
   ]
  },
  {
   "cell_type": "code",
   "execution_count": 295,
   "id": "32d22019-5d15-4c93-bf36-370fc6ce8511",
   "metadata": {},
   "outputs": [
    {
     "data": {
      "text/plain": [
       "array([[82, 19, 30, 90, 79, 89, 57, 74, 92],\n",
       "       [98, 59, 39, 29, 29, 24, 49, 42, 75],\n",
       "       [88, 25, 30, 68, 33, 89, 23, 95, 58],\n",
       "       [94, 85, 78, 16, 78, 57, 13, 86, 62]])"
      ]
     },
     "execution_count": 295,
     "metadata": {},
     "output_type": "execute_result"
    }
   ],
   "source": [
    "c23[[0,1,-1,-2]]"
   ]
  },
  {
   "cell_type": "code",
   "execution_count": 297,
   "id": "f85eca69-002b-4171-a4f0-923b4f361aff",
   "metadata": {},
   "outputs": [
    {
     "data": {
      "text/plain": [
       "8"
      ]
     },
     "execution_count": 297,
     "metadata": {},
     "output_type": "execute_result"
    }
   ],
   "source": [
    "len(c23)"
   ]
  },
  {
   "cell_type": "code",
   "execution_count": 299,
   "id": "32ea6bca-ab22-4c9d-becf-d76dab9a10fb",
   "metadata": {},
   "outputs": [
    {
     "data": {
      "text/plain": [
       "array([[82, 19, 30, 90, 79, 89, 57, 74, 92],\n",
       "       [98, 59, 39, 29, 29, 24, 49, 42, 75],\n",
       "       [94, 85, 78, 16, 78, 57, 13, 86, 62],\n",
       "       [88, 25, 30, 68, 33, 89, 23, 95, 58]])"
      ]
     },
     "execution_count": 299,
     "metadata": {},
     "output_type": "execute_result"
    }
   ],
   "source": [
    "c23[[0,1,len(c23)-2,len(c23)-1]]"
   ]
  },
  {
   "cell_type": "code",
   "execution_count": 307,
   "id": "9bcdbfeb-c15c-47ab-8483-85eb1d32d694",
   "metadata": {},
   "outputs": [
    {
     "data": {
      "text/plain": [
       "array([[82, 19, 30, 90, 79, 89, 57, 74, 92],\n",
       "       [98, 59, 39, 29, 29, 24, 49, 42, 75],\n",
       "       [19, 67, 42, 41, 84, 33, 45, 85, 65],\n",
       "       [38, 44, 10, 10, 46, 63, 15, 48, 27],\n",
       "       [89, 14, 52, 68, 41, 11, 75, 51, 67],\n",
       "       [45, 21, 56, 92, 10, 24, 63, 22, 52],\n",
       "       [94, 85, 78, 16, 78, 57, 13, 86, 62],\n",
       "       [88, 25, 30, 68, 33, 89, 23, 95, 58]])"
      ]
     },
     "execution_count": 307,
     "metadata": {},
     "output_type": "execute_result"
    }
   ],
   "source": [
    "c23"
   ]
  },
  {
   "cell_type": "code",
   "execution_count": 309,
   "id": "574a4a28-bea3-4827-ac62-ef9574e53c1e",
   "metadata": {},
   "outputs": [
    {
     "data": {
      "text/plain": [
       "array([41, 27])"
      ]
     },
     "execution_count": 309,
     "metadata": {},
     "output_type": "execute_result"
    }
   ],
   "source": [
    "c23[[2,3],[3,-1]]"
   ]
  },
  {
   "cell_type": "code",
   "execution_count": 311,
   "id": "aad67980-0dd3-4d1c-958d-60e9a41fb951",
   "metadata": {},
   "outputs": [
    {
     "data": {
      "text/plain": [
       "array([[30, 79, 57],\n",
       "       [39, 29, 49],\n",
       "       [42, 84, 45],\n",
       "       [10, 46, 15],\n",
       "       [52, 41, 75],\n",
       "       [56, 10, 63],\n",
       "       [78, 78, 13],\n",
       "       [30, 33, 23]])"
      ]
     },
     "execution_count": 311,
     "metadata": {},
     "output_type": "execute_result"
    }
   ],
   "source": [
    "c23[:, [2,4,6]]"
   ]
  },
  {
   "cell_type": "code",
   "execution_count": 315,
   "id": "f8cad263-e115-4d40-a727-b5ea275c570a",
   "metadata": {},
   "outputs": [
    {
     "data": {
      "text/plain": [
       "array([[89],\n",
       "       [24],\n",
       "       [33],\n",
       "       [63],\n",
       "       [11],\n",
       "       [24],\n",
       "       [57],\n",
       "       [89]])"
      ]
     },
     "execution_count": 315,
     "metadata": {},
     "output_type": "execute_result"
    }
   ],
   "source": [
    "c23[:, [5]]"
   ]
  },
  {
   "cell_type": "code",
   "execution_count": 317,
   "id": "175a1af2-f15a-47c6-a802-01fb92c4abe5",
   "metadata": {},
   "outputs": [
    {
     "data": {
      "text/plain": [
       "array([89, 24, 33, 63, 11, 24, 57, 89])"
      ]
     },
     "execution_count": 317,
     "metadata": {},
     "output_type": "execute_result"
    }
   ],
   "source": [
    "c23[:, 5]"
   ]
  },
  {
   "cell_type": "code",
   "execution_count": 321,
   "id": "7af0043e-6418-49a5-95e1-96df7e4f2494",
   "metadata": {},
   "outputs": [
    {
     "data": {
      "text/plain": [
       "9"
      ]
     },
     "execution_count": 321,
     "metadata": {},
     "output_type": "execute_result"
    }
   ],
   "source": [
    "c23.shape[-1]"
   ]
  },
  {
   "cell_type": "code",
   "execution_count": 346,
   "id": "ab689d15-15db-4437-9ad2-d74d59768881",
   "metadata": {},
   "outputs": [
    {
     "name": "stdout",
     "output_type": "stream",
     "text": [
      "[array([[ True, False,  True,  True, False, False, False,  True,  True],\n",
      "       [ True, False, False, False, False,  True, False,  True, False],\n",
      "       [False, False,  True, False,  True, False, False, False, False],\n",
      "       [ True,  True,  True,  True,  True, False, False,  True, False],\n",
      "       [False,  True,  True,  True, False, False, False, False, False],\n",
      "       [False, False,  True,  True,  True,  True, False,  True,  True],\n",
      "       [ True, False,  True,  True,  True, False, False,  True,  True],\n",
      "       [ True, False,  True,  True, False, False, False, False,  True]])]\n"
     ]
    }
   ],
   "source": [
    "mask1 = [c23>50]\n",
    "#print(mask1)\n",
    "mask2 = [c23 % 2 == 0]\n",
    "print(mask2)"
   ]
  },
  {
   "cell_type": "code",
   "execution_count": 350,
   "id": "abe0a0a8-7d83-469c-bd8e-658b967e1919",
   "metadata": {},
   "outputs": [
    {
     "data": {
      "text/plain": [
       "array([82, 90, 74, 92, 98, 84, 52, 68, 56, 92, 52, 94, 78, 78, 86, 62, 88,\n",
       "       68, 58])"
      ]
     },
     "execution_count": 350,
     "metadata": {},
     "output_type": "execute_result"
    }
   ],
   "source": [
    "c23[(c23 % 2 == 0) & (c23>50)]"
   ]
  },
  {
   "cell_type": "code",
   "execution_count": 360,
   "id": "f7c9b557-e19b-4b16-8411-74e647bd8008",
   "metadata": {},
   "outputs": [
    {
     "name": "stdout",
     "output_type": "stream",
     "text": [
      "[[1000   19 1000 1000   79   89   57 1000 1000]\n",
      " [1000   59   39   29   29 1000   49 1000   75]\n",
      " [  19   67 1000   41 1000   33   45   85   65]\n",
      " [1000 1000 1000 1000 1000   63   15 1000   27]\n",
      " [  89 1000 1000 1000   41   11   75   51   67]\n",
      " [  45   21 1000 1000 1000 1000   63 1000 1000]\n",
      " [1000   85 1000 1000 1000   57   13 1000 1000]\n",
      " [1000   25 1000 1000   33   89   23   95 1000]]\n"
     ]
    }
   ],
   "source": [
    "c23[(c23 % 2 == 0)] = 1000\n",
    "print(c23)"
   ]
  }
 ],
 "metadata": {
  "kernelspec": {
   "display_name": "Python 3 (ipykernel)",
   "language": "python",
   "name": "python3"
  },
  "language_info": {
   "codemirror_mode": {
    "name": "ipython",
    "version": 3
   },
   "file_extension": ".py",
   "mimetype": "text/x-python",
   "name": "python",
   "nbconvert_exporter": "python",
   "pygments_lexer": "ipython3",
   "version": "3.12.4"
  }
 },
 "nbformat": 4,
 "nbformat_minor": 5
}
