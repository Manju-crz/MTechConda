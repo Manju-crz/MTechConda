{
 "cells": [
  {
   "cell_type": "code",
   "execution_count": 2,
   "id": "a0f3f9dc-1d95-4d0f-8d8c-f4ab9c185294",
   "metadata": {},
   "outputs": [
    {
     "data": {
      "text/plain": [
       "20"
      ]
     },
     "execution_count": 2,
     "metadata": {},
     "output_type": "execute_result"
    }
   ],
   "source": [
    "20"
   ]
  },
  {
   "cell_type": "code",
   "execution_count": 14,
   "id": "c876f946-41d7-4388-95fc-9fe98e690066",
   "metadata": {},
   "outputs": [
    {
     "name": "stdout",
     "output_type": "stream",
     "text": [
      "<class 'int'>\n"
     ]
    }
   ],
   "source": [
    "a = 20\n",
    "print (type(a))"
   ]
  },
  {
   "cell_type": "code",
   "execution_count": 18,
   "id": "7e1dc8ca-b00d-4459-badf-e31ef48e6e9f",
   "metadata": {},
   "outputs": [
    {
     "name": "stdout",
     "output_type": "stream",
     "text": [
      "['False', 'None', 'True', 'and', 'as', 'assert', 'async', 'await', 'break', 'class', 'continue', 'def', 'del', 'elif', 'else', 'except', 'finally', 'for', 'from', 'global', 'if', 'import', 'in', 'is', 'lambda', 'nonlocal', 'not', 'or', 'pass', 'raise', 'return', 'try', 'while', 'with', 'yield']\n"
     ]
    }
   ],
   "source": [
    "import keyword\n",
    "print (keyword.kwlist)"
   ]
  },
  {
   "cell_type": "code",
   "execution_count": 40,
   "id": "a354e125-3a01-45fa-8d93-2dda1eae800d",
   "metadata": {},
   "outputs": [
    {
     "name": "stdin",
     "output_type": "stream",
     "text": [
      "Enter the current temperature :  22\n"
     ]
    },
    {
     "name": "stdout",
     "output_type": "stream",
     "text": [
      "It's normal\n"
     ]
    }
   ],
   "source": [
    "def tempCondition (temp) :\n",
    "    if temp > 99 :\n",
    "        print (\"It's hot!!\")\n",
    "    elif temp > 66 and temp <= 99 :\n",
    "        print (\"Its moderate!!\")\n",
    "    else :\n",
    "        print (\"It's normal\")\n",
    "\n",
    "tempCondition(int(input(\"Enter the current temperature : \")))"
   ]
  },
  {
   "cell_type": "code",
   "execution_count": 58,
   "id": "73f9b731-cf39-4ca3-af88-835ab595284b",
   "metadata": {},
   "outputs": [
    {
     "name": "stdout",
     "output_type": "stream",
     "text": [
      "nmlkjihgfedcba\n"
     ]
    }
   ],
   "source": [
    "myStr = \"abcdefghijklmn\"\n",
    "##print (myStr[-2:-8:-2])\n",
    "##print (myStr[2:5:8])\n",
    "print (myStr[::-1])"
   ]
  },
  {
   "cell_type": "code",
   "execution_count": 60,
   "id": "eaec81e5-290d-434e-af36-81a1fa74fde9",
   "metadata": {},
   "outputs": [
    {
     "data": {
      "text/plain": [
       "True"
      ]
     },
     "execution_count": 60,
     "metadata": {},
     "output_type": "execute_result"
    }
   ],
   "source": [
    "'good' in \"this good books\""
   ]
  },
  {
   "cell_type": "code",
   "execution_count": 64,
   "id": "f6a5fe2b-3e85-4060-b962-99737e25b4f6",
   "metadata": {},
   "outputs": [
    {
     "name": "stdout",
     "output_type": "stream",
     "text": [
      "True\n"
     ]
    }
   ],
   "source": [
    "var = 'good' not in \"this superb books\"\n",
    "print (var)"
   ]
  },
  {
   "cell_type": "code",
   "execution_count": 66,
   "id": "344f0704-ce6d-4bbc-a508-8e59f88934e1",
   "metadata": {},
   "outputs": [
    {
     "name": "stdout",
     "output_type": "stream",
     "text": [
      "['__add__', '__class__', '__contains__', '__delattr__', '__dir__', '__doc__', '__eq__', '__format__', '__ge__', '__getattribute__', '__getitem__', '__getnewargs__', '__getstate__', '__gt__', '__hash__', '__init__', '__init_subclass__', '__iter__', '__le__', '__len__', '__lt__', '__mod__', '__mul__', '__ne__', '__new__', '__reduce__', '__reduce_ex__', '__repr__', '__rmod__', '__rmul__', '__setattr__', '__sizeof__', '__str__', '__subclasshook__', 'capitalize', 'casefold', 'center', 'count', 'encode', 'endswith', 'expandtabs', 'find', 'format', 'format_map', 'index', 'isalnum', 'isalpha', 'isascii', 'isdecimal', 'isdigit', 'isidentifier', 'islower', 'isnumeric', 'isprintable', 'isspace', 'istitle', 'isupper', 'join', 'ljust', 'lower', 'lstrip', 'maketrans', 'partition', 'removeprefix', 'removesuffix', 'replace', 'rfind', 'rindex', 'rjust', 'rpartition', 'rsplit', 'rstrip', 'split', 'splitlines', 'startswith', 'strip', 'swapcase', 'title', 'translate', 'upper', 'zfill']\n"
     ]
    }
   ],
   "source": [
    "print(dir(str))"
   ]
  },
  {
   "cell_type": "code",
   "execution_count": 68,
   "id": "fb2420a6-d980-424c-8e4f-9b67762cd6f6",
   "metadata": {},
   "outputs": [
    {
     "name": "stdout",
     "output_type": "stream",
     "text": [
      "['__abs__', '__add__', '__and__', '__bool__', '__ceil__', '__class__', '__delattr__', '__dir__', '__divmod__', '__doc__', '__eq__', '__float__', '__floor__', '__floordiv__', '__format__', '__ge__', '__getattribute__', '__getnewargs__', '__getstate__', '__gt__', '__hash__', '__index__', '__init__', '__init_subclass__', '__int__', '__invert__', '__le__', '__lshift__', '__lt__', '__mod__', '__mul__', '__ne__', '__neg__', '__new__', '__or__', '__pos__', '__pow__', '__radd__', '__rand__', '__rdivmod__', '__reduce__', '__reduce_ex__', '__repr__', '__rfloordiv__', '__rlshift__', '__rmod__', '__rmul__', '__ror__', '__round__', '__rpow__', '__rrshift__', '__rshift__', '__rsub__', '__rtruediv__', '__rxor__', '__setattr__', '__sizeof__', '__str__', '__sub__', '__subclasshook__', '__truediv__', '__trunc__', '__xor__', 'as_integer_ratio', 'bit_count', 'bit_length', 'conjugate', 'denominator', 'from_bytes', 'imag', 'is_integer', 'numerator', 'real', 'to_bytes']\n"
     ]
    }
   ],
   "source": [
    "print(dir(int))"
   ]
  },
  {
   "cell_type": "code",
   "execution_count": 70,
   "id": "b63becba-1475-46dd-91d8-50400f2b8b17",
   "metadata": {},
   "outputs": [
    {
     "name": "stdout",
     "output_type": "stream",
     "text": [
      "Help on built-in function dir in module builtins:\n",
      "\n",
      "dir(...)\n",
      "    Show attributes of an object.\n",
      "\n",
      "    If called without an argument, return the names in the current scope.\n",
      "    Else, return an alphabetized list of names comprising (some of) the attributes\n",
      "    of the given object, and of attributes reachable from it.\n",
      "    If the object supplies a method named __dir__, it will be used; otherwise\n",
      "    the default dir() logic is used and returns:\n",
      "      for a module object: the module's attributes.\n",
      "      for a class object:  its attributes, and recursively the attributes\n",
      "        of its bases.\n",
      "      for any other object: its attributes, its class's attributes, and\n",
      "        recursively the attributes of its class's base classes.\n",
      "\n"
     ]
    }
   ],
   "source": [
    "help(dir)"
   ]
  },
  {
   "cell_type": "code",
   "execution_count": 72,
   "id": "aacecc93-88a2-4a87-b21a-d70e6248ce70",
   "metadata": {},
   "outputs": [
    {
     "name": "stdout",
     "output_type": "stream",
     "text": [
      "['__add__', '__class__', '__class_getitem__', '__contains__', '__delattr__', '__dir__', '__doc__', '__eq__', '__format__', '__ge__', '__getattribute__', '__getitem__', '__getnewargs__', '__getstate__', '__gt__', '__hash__', '__init__', '__init_subclass__', '__iter__', '__le__', '__len__', '__lt__', '__mul__', '__ne__', '__new__', '__reduce__', '__reduce_ex__', '__repr__', '__rmul__', '__setattr__', '__sizeof__', '__str__', '__subclasshook__', 'count', 'index']\n"
     ]
    }
   ],
   "source": [
    "print(dir(tuple))"
   ]
  },
  {
   "cell_type": "code",
   "execution_count": 74,
   "id": "27f0b71b-4ccf-425f-89b9-5ac5e93583c5",
   "metadata": {},
   "outputs": [
    {
     "name": "stdout",
     "output_type": "stream",
     "text": [
      "['__add__', '__class__', '__class_getitem__', '__contains__', '__delattr__', '__delitem__', '__dir__', '__doc__', '__eq__', '__format__', '__ge__', '__getattribute__', '__getitem__', '__getstate__', '__gt__', '__hash__', '__iadd__', '__imul__', '__init__', '__init_subclass__', '__iter__', '__le__', '__len__', '__lt__', '__mul__', '__ne__', '__new__', '__reduce__', '__reduce_ex__', '__repr__', '__reversed__', '__rmul__', '__setattr__', '__setitem__', '__sizeof__', '__str__', '__subclasshook__', 'append', 'clear', 'copy', 'count', 'extend', 'index', 'insert', 'pop', 'remove', 'reverse', 'sort']\n"
     ]
    }
   ],
   "source": [
    "print(dir(list))"
   ]
  },
  {
   "cell_type": "code",
   "execution_count": 76,
   "id": "049d3c86-e141-4868-ad44-75296472aa75",
   "metadata": {},
   "outputs": [
    {
     "name": "stdout",
     "output_type": "stream",
     "text": [
      "['__call__', '__class__', '__delattr__', '__dir__', '__doc__', '__eq__', '__format__', '__ge__', '__getattribute__', '__getstate__', '__gt__', '__hash__', '__init__', '__init_subclass__', '__le__', '__lt__', '__module__', '__name__', '__ne__', '__new__', '__qualname__', '__reduce__', '__reduce_ex__', '__repr__', '__self__', '__setattr__', '__sizeof__', '__str__', '__subclasshook__', '__text_signature__']\n"
     ]
    }
   ],
   "source": [
    "print(dir(dir))"
   ]
  },
  {
   "cell_type": "code",
   "execution_count": 82,
   "id": "41433b0a-df94-4e5c-9607-24236c096d95",
   "metadata": {},
   "outputs": [
    {
     "name": "stdout",
     "output_type": "stream",
     "text": [
      "kims bims sims rims\n"
     ]
    }
   ],
   "source": [
    "ms1 = \"king bing sing ring\"\n",
    "ms2 = ms1.replace(\"ng\", \"ms\")\n",
    "print (ms2)"
   ]
  },
  {
   "cell_type": "code",
   "execution_count": 84,
   "id": "a0e97e83-21af-4166-99f3-ed12934f9e00",
   "metadata": {},
   "outputs": [
    {
     "name": "stdout",
     "output_type": "stream",
     "text": [
      "kims bing sing ring\n"
     ]
    }
   ],
   "source": [
    "ms1 = \"king bing sing ring\"\n",
    "ms2 = ms1.replace(\"ng\", \"ms\", 1)\n",
    "print (ms2)"
   ]
  },
  {
   "cell_type": "code",
   "execution_count": 86,
   "id": "b9a6d59a-8142-479e-8898-ae4dc0363129",
   "metadata": {},
   "outputs": [
    {
     "name": "stdout",
     "output_type": "stream",
     "text": [
      "kims bims sims rims\n"
     ]
    }
   ],
   "source": [
    "ms1 = \"king bing sing ring\"\n",
    "ms2 = ms1.replace(\"ng\", \"ms\", 5)\n",
    "print (ms2)"
   ]
  },
  {
   "cell_type": "markdown",
   "id": "291351f4-e3b2-4c71-9080-b64b8fa14105",
   "metadata": {},
   "source": [
    "String.find"
   ]
  },
  {
   "cell_type": "markdown",
   "id": "921ce031-7c41-4bd2-918f-454174321791",
   "metadata": {},
   "source": [
    "String Find"
   ]
  },
  {
   "cell_type": "code",
   "execution_count": null,
   "id": "776f4476-d9c5-4efe-b088-3ffb178b53f3",
   "metadata": {},
   "outputs": [],
   "source": []
  },
  {
   "cell_type": "markdown",
   "id": "ac7a63f5-349b-42c1-b10e-b4bf9d287651",
   "metadata": {},
   "source": [
    "# String Find"
   ]
  },
  {
   "cell_type": "code",
   "execution_count": 97,
   "id": "382ef6d9-2abb-4286-b0d3-80df2c1d93ef",
   "metadata": {},
   "outputs": [
    {
     "name": "stdout",
     "output_type": "stream",
     "text": [
      "19\n"
     ]
    }
   ],
   "source": [
    "ms1 = \"National Stock Exchage\"\n",
    "index = ms1.find(\"a\")\n",
    "index = ms1.rfind(\"a\")\n",
    "print (index)"
   ]
  },
  {
   "cell_type": "code",
   "execution_count": 103,
   "id": "8409088e-7efe-4e5c-941c-967349ff7a07",
   "metadata": {},
   "outputs": [
    {
     "name": "stdout",
     "output_type": "stream",
     "text": [
      "True\n"
     ]
    }
   ],
   "source": [
    "ms1 = \"NationalStockExchage333\"\n",
    "print (ms1.isalnum())"
   ]
  },
  {
   "cell_type": "code",
   "execution_count": 105,
   "id": "fe5d235e-a77b-4599-92bd-0ec36839e4aa",
   "metadata": {},
   "outputs": [
    {
     "data": {
      "text/plain": [
       "'national_stock_exchange'"
      ]
     },
     "execution_count": 105,
     "metadata": {},
     "output_type": "execute_result"
    }
   ],
   "source": [
    "mystrList = ['national', 'stock', 'exchange']\n",
    "\"_\".join(mystrList)"
   ]
  },
  {
   "cell_type": "code",
   "execution_count": 107,
   "id": "48de1bac-f6e8-4dc6-a70a-0640047aab14",
   "metadata": {},
   "outputs": [
    {
     "data": {
      "text/plain": [
       "'national_stock_exchange'"
      ]
     },
     "execution_count": 107,
     "metadata": {},
     "output_type": "execute_result"
    }
   ],
   "source": [
    "mystrList = ('national', 'stock', 'exchange')\n",
    "\"_\".join(mystrList)"
   ]
  },
  {
   "cell_type": "code",
   "execution_count": null,
   "id": "bbfe97de-e15b-40ea-a70c-abd94659608b",
   "metadata": {},
   "outputs": [],
   "source": []
  },
  {
   "cell_type": "code",
   "execution_count": null,
   "id": "68a3a218-31b4-4718-8e62-82fc30717efd",
   "metadata": {},
   "outputs": [],
   "source": []
  },
  {
   "cell_type": "code",
   "execution_count": null,
   "id": "b9e87aa7-6bde-468b-b5cb-c7ba660bfbf7",
   "metadata": {},
   "outputs": [],
   "source": []
  },
  {
   "cell_type": "code",
   "execution_count": null,
   "id": "4f323db1-c8c3-4b7e-a4ef-658ca7a76932",
   "metadata": {},
   "outputs": [],
   "source": []
  },
  {
   "cell_type": "code",
   "execution_count": null,
   "id": "117e9661-9354-4c81-9965-f50de3b7f81b",
   "metadata": {},
   "outputs": [],
   "source": []
  },
  {
   "cell_type": "code",
   "execution_count": null,
   "id": "e2e8a847-f020-40f8-ae0b-b1cd6042a07f",
   "metadata": {},
   "outputs": [],
   "source": []
  },
  {
   "cell_type": "code",
   "execution_count": null,
   "id": "7634f67c-5552-4f01-9d12-bd236d10fa74",
   "metadata": {},
   "outputs": [],
   "source": []
  },
  {
   "cell_type": "code",
   "execution_count": null,
   "id": "b3f104d7-ee4c-4fe9-9dad-18cb87e46cc1",
   "metadata": {},
   "outputs": [],
   "source": []
  },
  {
   "cell_type": "code",
   "execution_count": null,
   "id": "d0ca1ac9-2f5f-4fe0-beac-17517e92403e",
   "metadata": {},
   "outputs": [],
   "source": []
  },
  {
   "cell_type": "code",
   "execution_count": null,
   "id": "410f9c8b-58ac-4942-909b-629074737fd8",
   "metadata": {},
   "outputs": [],
   "source": []
  },
  {
   "cell_type": "code",
   "execution_count": null,
   "id": "20b8cbd1-418e-482d-b3bb-070da290fed0",
   "metadata": {},
   "outputs": [],
   "source": []
  },
  {
   "cell_type": "code",
   "execution_count": null,
   "id": "0e633e13-e74f-413a-88f2-2f8e1d69cb66",
   "metadata": {},
   "outputs": [],
   "source": []
  },
  {
   "cell_type": "code",
   "execution_count": null,
   "id": "15a211be-6357-4758-8735-b0b881f21da4",
   "metadata": {},
   "outputs": [],
   "source": []
  },
  {
   "cell_type": "code",
   "execution_count": null,
   "id": "a059136d-4a6c-4446-8622-04a173bbfb7b",
   "metadata": {},
   "outputs": [],
   "source": []
  },
  {
   "cell_type": "code",
   "execution_count": null,
   "id": "eecb9086-9bfb-4e9b-a807-11fd85bbc429",
   "metadata": {},
   "outputs": [],
   "source": []
  },
  {
   "cell_type": "code",
   "execution_count": null,
   "id": "7102e808-14b4-454a-b610-0c635786b6da",
   "metadata": {},
   "outputs": [],
   "source": []
  },
  {
   "cell_type": "code",
   "execution_count": null,
   "id": "39c94ef3-486c-45f5-8712-4f22fe9425f6",
   "metadata": {},
   "outputs": [],
   "source": []
  },
  {
   "cell_type": "code",
   "execution_count": null,
   "id": "f999c8c6-3dd2-4207-9b10-a63438f2887f",
   "metadata": {},
   "outputs": [],
   "source": []
  },
  {
   "cell_type": "code",
   "execution_count": null,
   "id": "58dacbe2-f8df-48c3-8585-7fdb203ac12d",
   "metadata": {},
   "outputs": [],
   "source": []
  },
  {
   "cell_type": "code",
   "execution_count": null,
   "id": "b0620169-9cec-4139-9dc3-b9b1df7e5f71",
   "metadata": {},
   "outputs": [],
   "source": []
  },
  {
   "cell_type": "code",
   "execution_count": null,
   "id": "c5e1b873-a7dd-4185-893f-2ba1b4fe243a",
   "metadata": {},
   "outputs": [],
   "source": []
  },
  {
   "cell_type": "code",
   "execution_count": null,
   "id": "41428830-622b-4887-bfed-b0ea780ee92c",
   "metadata": {},
   "outputs": [],
   "source": []
  },
  {
   "cell_type": "code",
   "execution_count": null,
   "id": "63a73902-adbd-47df-b100-1fa93e7bfdc5",
   "metadata": {},
   "outputs": [],
   "source": []
  },
  {
   "cell_type": "code",
   "execution_count": null,
   "id": "b24c15d5-ec33-4e75-9787-217d3f349a88",
   "metadata": {},
   "outputs": [],
   "source": []
  },
  {
   "cell_type": "code",
   "execution_count": null,
   "id": "34396739-c501-4e16-b349-d0c179bad141",
   "metadata": {},
   "outputs": [],
   "source": []
  },
  {
   "cell_type": "code",
   "execution_count": null,
   "id": "36fda161-5858-4900-8999-bc8690e81823",
   "metadata": {},
   "outputs": [],
   "source": []
  },
  {
   "cell_type": "code",
   "execution_count": null,
   "id": "bd6730d4-dd5d-4f31-9af9-2b05ebe4ab14",
   "metadata": {},
   "outputs": [],
   "source": []
  },
  {
   "cell_type": "code",
   "execution_count": null,
   "id": "5c7768f5-cf3f-4763-bad2-bc7cad997d74",
   "metadata": {},
   "outputs": [],
   "source": []
  },
  {
   "cell_type": "code",
   "execution_count": null,
   "id": "09dc4b28-f4c4-4ef1-b5ad-8b291747e97f",
   "metadata": {},
   "outputs": [],
   "source": []
  },
  {
   "cell_type": "code",
   "execution_count": null,
   "id": "ad109d62-23a0-42d7-a132-175cea1136d3",
   "metadata": {},
   "outputs": [],
   "source": []
  },
  {
   "cell_type": "code",
   "execution_count": null,
   "id": "572383e1-4292-44f3-98f4-b523a30c682c",
   "metadata": {},
   "outputs": [],
   "source": []
  }
 ],
 "metadata": {
  "kernelspec": {
   "display_name": "Python 3 (ipykernel)",
   "language": "python",
   "name": "python3"
  },
  "language_info": {
   "codemirror_mode": {
    "name": "ipython",
    "version": 3
   },
   "file_extension": ".py",
   "mimetype": "text/x-python",
   "name": "python",
   "nbconvert_exporter": "python",
   "pygments_lexer": "ipython3",
   "version": "3.12.4"
  }
 },
 "nbformat": 4,
 "nbformat_minor": 5
}
