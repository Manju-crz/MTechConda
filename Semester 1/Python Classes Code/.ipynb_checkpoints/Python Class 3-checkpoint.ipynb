{
 "cells": [
  {
   "cell_type": "code",
   "execution_count": 1,
   "id": "adbaa355-14a9-4a4e-a4b3-22229dece84d",
   "metadata": {},
   "outputs": [
    {
     "data": {
      "text/plain": [
       "{'Bank': 'SBI', 'Branch': 'MGROAD', 'State': 'Dehli'}"
      ]
     },
     "execution_count": 1,
     "metadata": {},
     "output_type": "execute_result"
    }
   ],
   "source": [
    "mf1 = {\"Bank\" : \"SBI\", \"Branch\" : \"MGROAD\", \"State\" : \"Dehli\"}\n",
    "mf1"
   ]
  },
  {
   "cell_type": "code",
   "execution_count": 15,
   "id": "c2073679-e868-42b2-8f69-bac253301e13",
   "metadata": {},
   "outputs": [
    {
     "data": {
      "text/plain": [
       "'Kar'"
      ]
     },
     "execution_count": 15,
     "metadata": {},
     "output_type": "execute_result"
    }
   ],
   "source": [
    "mf1.setdefault(\"State1\", \"Kar\")"
   ]
  },
  {
   "cell_type": "code",
   "execution_count": 17,
   "id": "a7692c12-e104-41d3-a842-e70c562fedcf",
   "metadata": {},
   "outputs": [
    {
     "data": {
      "text/plain": [
       "{'Bank': 'SBI', 'Branch': 'MGROAD', 'State': 'Dehli', 'State1': 'Kar'}"
      ]
     },
     "execution_count": 17,
     "metadata": {},
     "output_type": "execute_result"
    }
   ],
   "source": [
    "mf1"
   ]
  },
  {
   "cell_type": "code",
   "execution_count": null,
   "id": "eeaf7ac9-4c30-4b72-bf90-8ecb7b39f88f",
   "metadata": {},
   "outputs": [],
   "source": []
  },
  {
   "cell_type": "code",
   "execution_count": 37,
   "id": "0d9f1a75-39c6-4584-af45-166accb2c205",
   "metadata": {},
   "outputs": [
    {
     "name": "stdout",
     "output_type": "stream",
     "text": [
      "<zip object at 0x000001EC7EF1C5C0>\n",
      "<class 'zip'>\n",
      "[('bank', 'SBI'), ('branch', 'MGRoad'), ('state', 'Karnataka')]\n",
      "[('bank', 'SBI'), ('branch', 'MGRoad'), ('state', 'Karnataka')]\n"
     ]
    }
   ],
   "source": [
    "klist = [\"bank\", \"branch\", \"state\"]\n",
    "vlist = [\"SBI\", \"MGRoad\", \"Karnataka\"]\n",
    "z = zip(klist, vlist)\n",
    "print(z)\n",
    "print(type(z))\n",
    "kvlist = list(z)\n",
    "print(kvlist)\n",
    "print(kvlist)"
   ]
  },
  {
   "cell_type": "markdown",
   "id": "bf483be7-1e97-4033-aada-00c6493b5e38",
   "metadata": {},
   "source": [
    "SET"
   ]
  },
  {
   "cell_type": "code",
   "execution_count": 43,
   "id": "b2b05135-c366-4322-9f11-8864c8458a4a",
   "metadata": {},
   "outputs": [],
   "source": [
    "ms3 = set()"
   ]
  },
  {
   "cell_type": "code",
   "execution_count": 45,
   "id": "13f5f691-da4d-45c4-9111-7f70b31c04c7",
   "metadata": {},
   "outputs": [],
   "source": [
    "ms3.add(20)"
   ]
  },
  {
   "cell_type": "code",
   "execution_count": 49,
   "id": "13d1622d-86ac-42c6-a9a3-0edb3205c325",
   "metadata": {},
   "outputs": [],
   "source": [
    "ms3.add(\"Hello\")"
   ]
  },
  {
   "cell_type": "code",
   "execution_count": 55,
   "id": "bcd1bb59-585b-441a-9030-d748fcc68e36",
   "metadata": {},
   "outputs": [
    {
     "data": {
      "text/plain": [
       "{'a', 'c', 'd', 'e', 'h', 'i', 'n', 'o', 'p', 's', 't', 'y'}"
      ]
     },
     "execution_count": 55,
     "metadata": {},
     "output_type": "execute_result"
    }
   ],
   "source": [
    "ms4 = set(\"pythondatascience\")\n",
    "ms4"
   ]
  },
  {
   "cell_type": "markdown",
   "id": "f103346f-51fb-46ea-bf22-8e3b17bafea7",
   "metadata": {},
   "source": [
    "## Decision Making"
   ]
  },
  {
   "cell_type": "code",
   "execution_count": 70,
   "id": "24ab6f01-7c65-4769-9afe-b8d85bebbe6b",
   "metadata": {},
   "outputs": [
    {
     "name": "stdout",
     "output_type": "stream",
     "text": [
      "valid voter\n"
     ]
    }
   ],
   "source": [
    "age = 26\n",
    "if age >= 18 :\n",
    "    result = \"valid voter\"\n",
    "else :\n",
    "    result = \"Invliad voter\"\n",
    "print(result)"
   ]
  },
  {
   "cell_type": "code",
   "execution_count": 74,
   "id": "6fa37cf0-8f8c-458f-9099-2e720add5ec4",
   "metadata": {},
   "outputs": [
    {
     "name": "stdout",
     "output_type": "stream",
     "text": [
      "valid voter\n"
     ]
    }
   ],
   "source": [
    "result = \"valid voter\" if age >=18 else \"Invalid voter\"\n",
    "print(result)"
   ]
  },
  {
   "cell_type": "code",
   "execution_count": 76,
   "id": "ef6070d3-1e97-4861-85ea-8ff8c4228916",
   "metadata": {},
   "outputs": [
    {
     "name": "stdout",
     "output_type": "stream",
     "text": [
      "It's hot\n"
     ]
    }
   ],
   "source": [
    "temp = 99\n",
    "if (temp < 30):\n",
    "    result = \"It is cold\"\n",
    "elif (temp > 30 and temp < 60) :\n",
    "    result = \"It is moderate\"\n",
    "else :\n",
    "    result = \"It's hot\"\n",
    "print(result)\n"
   ]
  },
  {
   "cell_type": "code",
   "execution_count": 78,
   "id": "474f13c9-7d89-4f60-9199-0ba5b3c98ca6",
   "metadata": {},
   "outputs": [
    {
     "name": "stdout",
     "output_type": "stream",
     "text": [
      "It's hot\n"
     ]
    }
   ],
   "source": [
    "temp_feel = \"It is cold\" if (temp < 30) else \"It is moderate\" if (temp > 30 and temp < 60) else \"It's hot\"\n",
    "print(temp_feel)"
   ]
  },
  {
   "cell_type": "markdown",
   "id": "c620d352-3fff-4e40-a875-d4c97f5b0bbb",
   "metadata": {},
   "source": [
    "## "
   ]
  },
  {
   "cell_type": "markdown",
   "id": "37fae865-3854-459a-bb26-236156b2b837",
   "metadata": {},
   "source": [
    "## "
   ]
  },
  {
   "cell_type": "markdown",
   "id": "483c694d-292f-4e88-8495-0f4b01de9c25",
   "metadata": {},
   "source": [
    "## LOOPS"
   ]
  },
  {
   "cell_type": "code",
   "execution_count": 83,
   "id": "11f7e28a-b8cb-4dfe-8455-f6efaf597a2b",
   "metadata": {},
   "outputs": [
    {
     "name": "stdout",
     "output_type": "stream",
     "text": [
      "20\n",
      "21\n",
      "22\n",
      "23\n",
      "24\n",
      "25\n",
      "26\n",
      "27\n",
      "28\n",
      "29\n",
      "Done\n"
     ]
    }
   ],
   "source": [
    "n1 = 20\n",
    "n2 = 30\n",
    "\n",
    "while n1< n2 :\n",
    "    print (n1)\n",
    "    n1 = n1 + 1\n",
    "print('Done')"
   ]
  },
  {
   "cell_type": "code",
   "execution_count": 89,
   "id": "6b053541-91ff-47d4-888e-04f2d174c143",
   "metadata": {},
   "outputs": [
    {
     "name": "stdout",
     "output_type": "stream",
     "text": [
      "[0, 1, 2, 3, 4, 5, 6, 7, 8]\n"
     ]
    }
   ],
   "source": [
    "print ( list(range(0,9)) )"
   ]
  },
  {
   "cell_type": "code",
   "execution_count": 93,
   "id": "2b592a30-aef1-4f24-b733-de2bc66718c8",
   "metadata": {},
   "outputs": [
    {
     "name": "stdout",
     "output_type": "stream",
     "text": [
      "p\n",
      "y\n",
      "t\n",
      "h\n",
      "o\n",
      "n\n",
      "Done2\n"
     ]
    }
   ],
   "source": [
    "for letter in \"python\" :\n",
    "    print (letter)\n",
    "print(\"Done2\")"
   ]
  },
  {
   "cell_type": "code",
   "execution_count": 139,
   "id": "18ce3f88-579f-4678-b9fc-c728ce604833",
   "metadata": {},
   "outputs": [
    {
     "name": "stdout",
     "output_type": "stream",
     "text": [
      "Bank\n",
      "SBI\n",
      "Branch\n",
      "MGRoad\n",
      "State\n",
      "Karnataka\n"
     ]
    }
   ],
   "source": [
    "md1 = {\"Bank\" : \"SBI\", \"Branch\" : \"MGRoad\", \"State\" : \"Karnataka\"}\n",
    "\n",
    "for k,v in md1.items():\n",
    "    print(k)\n",
    "    print(v)\n"
   ]
  },
  {
   "cell_type": "code",
   "execution_count": 124,
   "id": "eee867f4-8c70-4884-a252-5543ce0eff75",
   "metadata": {},
   "outputs": [
    {
     "name": "stdout",
     "output_type": "stream",
     "text": [
      "0 p\n",
      "1 y\n",
      "2 t\n",
      "3 h\n",
      "4 o\n",
      "5 n\n"
     ]
    }
   ],
   "source": [
    "for index, value in enumerate('python'):\n",
    "    print(index,value)"
   ]
  },
  {
   "cell_type": "code",
   "execution_count": 132,
   "id": "26a601c6-7e34-4e1e-98d0-9273e3eb9676",
   "metadata": {},
   "outputs": [
    {
     "name": "stdout",
     "output_type": "stream",
     "text": [
      "[1, 3]\n"
     ]
    }
   ],
   "source": [
    "def strfundall (user_string, user_element):\n",
    "    indexlist = []\n",
    "    for index, value in enumerate(user_string):\n",
    "        if value == user_element:\n",
    "            indexlist.append(index)\n",
    "    return indexlist\n",
    "print (strfundall(\"data\", 'a'))"
   ]
  },
  {
   "cell_type": "markdown",
   "id": "0f2c6303-c575-4790-8c44-e5c997c3aa8c",
   "metadata": {},
   "source": [
    "\"data\".rfind(\"a\")"
   ]
  },
  {
   "cell_type": "markdown",
   "id": "fc2aa482-d094-43e6-b43e-54b46f93c512",
   "metadata": {},
   "source": [
    "## Lambda"
   ]
  },
  {
   "cell_type": "code",
   "execution_count": 149,
   "id": "6b68b6fe-04de-45dd-b9b2-85d42e79adf7",
   "metadata": {},
   "outputs": [
    {
     "name": "stdout",
     "output_type": "stream",
     "text": [
      "Odd\n"
     ]
    }
   ],
   "source": [
    "def isEvenOdd(num) :\n",
    "    if(num % 2 == 0):\n",
    "        return \"Even\"\n",
    "    else :\n",
    "        return \"Odd\"\n",
    "print (isEvenOdd(3))"
   ]
  },
  {
   "cell_type": "code",
   "execution_count": 159,
   "id": "c6a01b86-87c0-4e3f-9482-90449be55a11",
   "metadata": {},
   "outputs": [
    {
     "name": "stdout",
     "output_type": "stream",
     "text": [
      "Even\n"
     ]
    }
   ],
   "source": [
    "isEvenOdd1 = lambda p0: \"Even\" if p0%2==0 else \"Odd\"\n",
    "print (isEvenOdd1(2))"
   ]
  },
  {
   "cell_type": "code",
   "execution_count": 157,
   "id": "e11a1670-cb3c-4f5a-8330-3c28a54256c3",
   "metadata": {},
   "outputs": [
    {
     "ename": "NameError",
     "evalue": "name 'p0' is not defined",
     "output_type": "error",
     "traceback": [
      "\u001b[1;31m---------------------------------------------------------------------------\u001b[0m",
      "\u001b[1;31mNameError\u001b[0m                                 Traceback (most recent call last)",
      "Cell \u001b[1;32mIn[157], line 1\u001b[0m\n\u001b[1;32m----> 1\u001b[0m isEvenOdd2 \u001b[38;5;241m=\u001b[39m \u001b[38;5;124m\"\u001b[39m\u001b[38;5;124mEven\u001b[39m\u001b[38;5;124m\"\u001b[39m \u001b[38;5;28;01mif\u001b[39;00m p0\u001b[38;5;241m%\u001b[39m\u001b[38;5;241m2\u001b[39m\u001b[38;5;241m==\u001b[39m\u001b[38;5;241m0\u001b[39m \u001b[38;5;28;01melse\u001b[39;00m \u001b[38;5;124m\"\u001b[39m\u001b[38;5;124mOdd\u001b[39m\u001b[38;5;124m\"\u001b[39m\n\u001b[0;32m      2\u001b[0m \u001b[38;5;28mprint\u001b[39m (isEvenOdd2)\n",
      "\u001b[1;31mNameError\u001b[0m: name 'p0' is not defined"
     ]
    }
   ],
   "source": []
  },
  {
   "cell_type": "code",
   "execution_count": null,
   "id": "f680445a-7a6f-4536-baa8-9b2cc9d436db",
   "metadata": {},
   "outputs": [],
   "source": []
  }
 ],
 "metadata": {
  "kernelspec": {
   "display_name": "Python 3 (ipykernel)",
   "language": "python",
   "name": "python3"
  },
  "language_info": {
   "codemirror_mode": {
    "name": "ipython",
    "version": 3
   },
   "file_extension": ".py",
   "mimetype": "text/x-python",
   "name": "python",
   "nbconvert_exporter": "python",
   "pygments_lexer": "ipython3",
   "version": "3.12.4"
  }
 },
 "nbformat": 4,
 "nbformat_minor": 5
}
