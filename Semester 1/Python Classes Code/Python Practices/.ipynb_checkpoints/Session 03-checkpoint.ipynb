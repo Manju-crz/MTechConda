{
 "cells": [
  {
   "cell_type": "markdown",
   "id": "a9f9adc8-da5d-48dd-adde-9eab7550c031",
   "metadata": {
    "jp-MarkdownHeadingCollapsed": true
   },
   "source": [
    "# User Defined Functions"
   ]
  },
  {
   "cell_type": "code",
   "execution_count": null,
   "id": "4bc9dfe9-a4b8-4560-90ee-7c4b260a57f8",
   "metadata": {},
   "outputs": [],
   "source": [
    "# Built In Functions\n",
    "# print\n",
    "# input\n",
    "# Strings, Collections - casting"
   ]
  },
  {
   "cell_type": "code",
   "execution_count": null,
   "id": "b5ee3326-bd95-4424-bfaf-d510753506d4",
   "metadata": {},
   "outputs": [],
   "source": [
    "# User Defined Functions\n",
    "\n",
    "#def <function_name> (<list of arguments>) :\n",
    " #   return <values>"
   ]
  },
  {
   "cell_type": "code",
   "execution_count": 14,
   "id": "31951528-5b53-4da5-ac30-78c407e93d9b",
   "metadata": {},
   "outputs": [
    {
     "name": "stdout",
     "output_type": "stream",
     "text": [
      "clsof100 is 37.77777777777778\n",
      "clsof150 is 65.55555555555556\n"
     ]
    }
   ],
   "source": [
    "def fhr_to_celsius(temp):\n",
    "    celsius = (temp-32) * (5/9)\n",
    "    return celsius\n",
    "    \n",
    "clsof100 = fhr_to_celsius(100)\n",
    "clsof150 = fhr_to_celsius(150)\n",
    "\n",
    "print(\"clsof100 is\", clsof100)\n",
    "print(\"clsof150 is\", clsof150)\n"
   ]
  },
  {
   "cell_type": "code",
   "execution_count": 16,
   "id": "a1b6d3b2-f8ae-4a08-9a28-468bbb64f478",
   "metadata": {},
   "outputs": [
    {
     "name": "stdout",
     "output_type": "stream",
     "text": [
      "sacsd  savfsdc sdcsd csd c sd c sdcdsc xd cx c xc\n"
     ]
    }
   ],
   "source": [
    "def hello() :\n",
    "    print(\"sacsd  savfsdc sdcsd csd c sd c sdcdsc xd cx c xc\")\n",
    "\n",
    "hello()\n"
   ]
  },
  {
   "cell_type": "code",
   "execution_count": 18,
   "id": "37988ce1-91ef-41a0-ab6f-bb81a7b4e6e8",
   "metadata": {},
   "outputs": [
    {
     "data": {
      "text/plain": [
       "'\\nTypes of Function Arguments\\n\\n\\n'"
      ]
     },
     "execution_count": 18,
     "metadata": {},
     "output_type": "execute_result"
    }
   ],
   "source": [
    "\"\"\"\n",
    "Types of Function Arguments\n",
    "1. Required Arguments\n",
    "2. Keyword Arguments\n",
    "3. Default Arguments\n",
    "4. Variable Length Arguments\n",
    "\"\"\"\n"
   ]
  },
  {
   "cell_type": "code",
   "execution_count": 32,
   "id": "20fe4a20-285f-40a7-93a0-c6c563a73858",
   "metadata": {},
   "outputs": [
    {
     "name": "stdout",
     "output_type": "stream",
     "text": [
      "Hi Manju How are you?\n"
     ]
    },
    {
     "ename": "TypeError",
     "evalue": "greet() missing 1 required positional argument: 'name'",
     "output_type": "error",
     "traceback": [
      "\u001b[1;31m---------------------------------------------------------------------------\u001b[0m",
      "\u001b[1;31mTypeError\u001b[0m                                 Traceback (most recent call last)",
      "Cell \u001b[1;32mIn[32], line 6\u001b[0m\n\u001b[0;32m      3\u001b[0m     \u001b[38;5;28mprint\u001b[39m(\u001b[38;5;124m\"\u001b[39m\u001b[38;5;124mHi\u001b[39m\u001b[38;5;124m\"\u001b[39m, name, \u001b[38;5;124m\"\u001b[39m\u001b[38;5;124mHow are you?\u001b[39m\u001b[38;5;124m\"\u001b[39m)\n\u001b[0;32m      5\u001b[0m greet(\u001b[38;5;124m\"\u001b[39m\u001b[38;5;124mManju\u001b[39m\u001b[38;5;124m\"\u001b[39m)\n\u001b[1;32m----> 6\u001b[0m greet()\n",
      "\u001b[1;31mTypeError\u001b[0m: greet() missing 1 required positional argument: 'name'"
     ]
    }
   ],
   "source": [
    "# Required Arguments\n",
    "def greet(name) :\n",
    "    print(\"Hi\", name, \"How are you?\")\n",
    "\n",
    "greet(\"Manju\")\n",
    "greet()"
   ]
  },
  {
   "cell_type": "code",
   "execution_count": 58,
   "id": "9aaadf64-40ce-4abc-8740-53ce968d01ca",
   "metadata": {},
   "outputs": [
    {
     "name": "stdout",
     "output_type": "stream",
     "text": [
      "Hi Manju Happy to know you working as SE\n"
     ]
    }
   ],
   "source": [
    "# Keyword Arguments\n",
    "def express(name, designation, age, dob) :\n",
    "    print(\"Hi\", name, \"Happy to know you working as\", designation)\n",
    "#express(\"manju\", \"SE\")\n",
    "\n",
    "express(\"Manju\", age = 23, dob = '23-23-32', designation=\"SE\")\n"
   ]
  },
  {
   "cell_type": "code",
   "execution_count": 84,
   "id": "2794f5b7-48cf-4a21-bebe-18b17ed7f4d5",
   "metadata": {},
   "outputs": [
    {
     "name": "stdout",
     "output_type": "stream",
     "text": [
      "([12, 43, 23], {3, 4, 5})\n",
      "<class 'tuple'>\n"
     ]
    }
   ],
   "source": [
    "# Variable Length Arguments\n",
    "def myvalues(*num) :\n",
    "    print(num)\n",
    "    print(type(num))\n",
    "myvalues([12,43,23],{3,4,5})\n"
   ]
  },
  {
   "cell_type": "code",
   "execution_count": 98,
   "id": "388a7c33-98c8-4253-806f-1514088f22da",
   "metadata": {},
   "outputs": [
    {
     "name": "stdout",
     "output_type": "stream",
     "text": [
      "Hi manju nice to know know as a  SE\n"
     ]
    }
   ],
   "source": [
    "# Default Arguments\n",
    "def sayhi(name, designation='SE') :\n",
    "    print(\"Hi\", name, \"nice to know know as a \", designation)\n",
    "sayhi('manju')"
   ]
  },
  {
   "cell_type": "code",
   "execution_count": null,
   "id": "d1933e12-11ce-4669-9c02-637a63cad5f2",
   "metadata": {},
   "outputs": [],
   "source": []
  },
  {
   "cell_type": "markdown",
   "id": "2f060765-5540-46ad-8c41-da1380818621",
   "metadata": {
    "jp-MarkdownHeadingCollapsed": true
   },
   "source": [
    "# Variable Scope"
   ]
  },
  {
   "cell_type": "code",
   "execution_count": null,
   "id": "7f3ee7a0-f8dd-4539-84bc-b0dcf5b72403",
   "metadata": {},
   "outputs": [],
   "source": []
  },
  {
   "cell_type": "code",
   "execution_count": 105,
   "id": "dac7d185-0fc6-422f-905b-7bbfddb36c66",
   "metadata": {},
   "outputs": [
    {
     "name": "stdout",
     "output_type": "stream",
     "text": [
      "manju\n"
     ]
    },
    {
     "ename": "NameError",
     "evalue": "name 'name' is not defined",
     "output_type": "error",
     "traceback": [
      "\u001b[1;31m---------------------------------------------------------------------------\u001b[0m",
      "\u001b[1;31mNameError\u001b[0m                                 Traceback (most recent call last)",
      "Cell \u001b[1;32mIn[105], line 6\u001b[0m\n\u001b[0;32m      3\u001b[0m     \u001b[38;5;28mprint\u001b[39m(name)\n\u001b[0;32m      5\u001b[0m local_scope()\n\u001b[1;32m----> 6\u001b[0m \u001b[38;5;28mprint\u001b[39m(name)\n",
      "\u001b[1;31mNameError\u001b[0m: name 'name' is not defined"
     ]
    }
   ],
   "source": [
    "def local_scope() :\n",
    "    name = 'manju'\n",
    "    print(name)\n",
    "    \n",
    "local_scope()\n",
    "print(name)"
   ]
  },
  {
   "cell_type": "code",
   "execution_count": 113,
   "id": "ceacc9a2-eddf-4005-a910-8140a83632e2",
   "metadata": {},
   "outputs": [
    {
     "name": "stdout",
     "output_type": "stream",
     "text": [
      "local name manju\n",
      "global name manju\n"
     ]
    }
   ],
   "source": [
    "name = 'manju'\n",
    "def global_scope() :\n",
    "    name = 'manju'\n",
    "    print(\"local name\",name)\n",
    "    \n",
    "global_scope()\n",
    "print('global name',name)"
   ]
  },
  {
   "cell_type": "code",
   "execution_count": 119,
   "id": "6001d88e-17b3-423d-9af3-43f824126383",
   "metadata": {},
   "outputs": [
    {
     "name": "stdout",
     "output_type": "stream",
     "text": [
      "local name manju - main enclosed\n",
      "inner local name manju - inner local\n",
      "global name manju - global\n"
     ]
    }
   ],
   "source": [
    "name = 'manju - global'\n",
    "def enclosed_scope() :\n",
    "    name = 'manju - main enclosed'\n",
    "    print(\"local name\",name)\n",
    "    def inner_local() :\n",
    "        name = 'manju - inner local'\n",
    "        print(\"inner local name\",name)\n",
    "    inner_local()\n",
    "\n",
    "enclosed_scope()\n",
    "print('global name',name)"
   ]
  },
  {
   "cell_type": "code",
   "execution_count": 155,
   "id": "67be271a-77bf-43c5-b6ac-26701d47629a",
   "metadata": {},
   "outputs": [
    {
     "name": "stdout",
     "output_type": "stream",
     "text": [
      "local name manju - enclosed\n",
      "inner local's global name manju - enclosed\n",
      "global name manju - global\n"
     ]
    }
   ],
   "source": [
    "name = 'manju - global'\n",
    "def enclosed_scope() :\n",
    "    name = 'manju - enclosed'\n",
    "    print(\"local name\",name)\n",
    "    def inner_local() :\n",
    "        nonlocal name\n",
    "        print(\"inner local's global name\",name)\n",
    "    inner_local()\n",
    "\n",
    "enclosed_scope()\n",
    "print('global name',name)"
   ]
  },
  {
   "cell_type": "code",
   "execution_count": null,
   "id": "4eb4ef51-a354-44c0-9684-40510e41398c",
   "metadata": {},
   "outputs": [],
   "source": []
  },
  {
   "cell_type": "markdown",
   "id": "fd1aed94-62b8-40b8-b0cd-4cdfafa7bf71",
   "metadata": {
    "jp-MarkdownHeadingCollapsed": true
   },
   "source": [
    "# Lambda Functions"
   ]
  },
  {
   "cell_type": "code",
   "execution_count": null,
   "id": "a46c851a-1e2f-4cbf-9aa9-a4b1942780ea",
   "metadata": {},
   "outputs": [],
   "source": [
    "# anonymous (there is no names to the functions)\n",
    "# lambda is a keyword\n",
    "# No def keyword ; No return keyword"
   ]
  },
  {
   "cell_type": "code",
   "execution_count": null,
   "id": "db03403b-c509-4889-a2f9-8e5295468aab",
   "metadata": {},
   "outputs": [],
   "source": [
    "# lambda arguments : expression"
   ]
  },
  {
   "cell_type": "code",
   "execution_count": 160,
   "id": "76418cb2-89a9-48d4-b60c-f81d5a9e3735",
   "metadata": {},
   "outputs": [
    {
     "name": "stdout",
     "output_type": "stream",
     "text": [
      "5\n"
     ]
    }
   ],
   "source": [
    "def sum(a, b) :\n",
    "    return (a + b)\n",
    "print(sum(2,3))"
   ]
  },
  {
   "cell_type": "code",
   "execution_count": 172,
   "id": "c4026c0b-c8fb-47df-b6cc-d25e439b3a8d",
   "metadata": {},
   "outputs": [
    {
     "name": "stdout",
     "output_type": "stream",
     "text": [
      "4\n"
     ]
    }
   ],
   "source": [
    "sumval = lambda a,b : (a + b)\n",
    "print (sumval(2,2))"
   ]
  },
  {
   "cell_type": "code",
   "execution_count": 182,
   "id": "4797c9af-3f5f-46b0-ba74-2a0ca80e8efa",
   "metadata": {},
   "outputs": [
    {
     "name": "stdout",
     "output_type": "stream",
     "text": [
      "manju\n"
     ]
    }
   ],
   "source": [
    "name = \"manju\"\n",
    "val = lambda : name\n",
    "print (val())"
   ]
  },
  {
   "cell_type": "code",
   "execution_count": 192,
   "id": "4363cdf3-0887-4b4b-baf6-dc568ddf03f8",
   "metadata": {},
   "outputs": [
    {
     "name": "stdout",
     "output_type": "stream",
     "text": [
      "[2, 3, 3, 2, 5]\n"
     ]
    }
   ],
   "source": [
    "val = lambda a,b : a + b\n",
    "print (val([2,3],[3,2,5]))"
   ]
  },
  {
   "cell_type": "markdown",
   "id": "84b6fc54-5c86-40e7-a451-74eb7fd40fe2",
   "metadata": {},
   "source": [
    "### The lambda function with map()"
   ]
  },
  {
   "cell_type": "code",
   "execution_count": null,
   "id": "f21e3fee-9607-407a-a1e9-be534a6e9f79",
   "metadata": {},
   "outputs": [],
   "source": [
    "# map(lambda_expression, sequence)"
   ]
  },
  {
   "cell_type": "code",
   "execution_count": 225,
   "id": "18c21337-4a31-4c67-9bb6-3fb35b8baf1f",
   "metadata": {},
   "outputs": [
    {
     "data": {
      "text/plain": [
       "[(23, 34, 23, 34), [11, 12, 13, 10, 11, 12, 13, 10]]"
      ]
     },
     "execution_count": 225,
     "metadata": {},
     "output_type": "execute_result"
    }
   ],
   "source": [
    "lst = [11,12,13,10]\n",
    "tl = (23,34)\n",
    "resultedlst = list(map(lambda a : a * 2, (tl,lst)))\n",
    "resultedlst"
   ]
  },
  {
   "cell_type": "code",
   "execution_count": 227,
   "id": "1e1053f8-00a3-4cdd-8384-4169694eeb9c",
   "metadata": {},
   "outputs": [],
   "source": [
    "lst = [3,4,7,10]\n",
    "lst2 = lst * 2"
   ]
  },
  {
   "cell_type": "code",
   "execution_count": 229,
   "id": "d2869e24-4a50-492a-ac6f-de789633064b",
   "metadata": {},
   "outputs": [
    {
     "data": {
      "text/plain": [
       "[3, 4, 7, 10, 3, 4, 7, 10]"
      ]
     },
     "execution_count": 229,
     "metadata": {},
     "output_type": "execute_result"
    }
   ],
   "source": [
    "lst2"
   ]
  },
  {
   "cell_type": "code",
   "execution_count": null,
   "id": "92a91281-d0c4-4f76-9353-1daefb522380",
   "metadata": {},
   "outputs": [],
   "source": []
  },
  {
   "cell_type": "markdown",
   "id": "7b0d238c-45a0-43d7-bac1-4cb7b765f2e0",
   "metadata": {},
   "source": [
    "### The lambda function with filter()"
   ]
  },
  {
   "cell_type": "code",
   "execution_count": null,
   "id": "4b94eff4-30e0-430b-b15a-2bef5969341c",
   "metadata": {},
   "outputs": [],
   "source": [
    "# filter(lambda_expression, sequence)"
   ]
  },
  {
   "cell_type": "code",
   "execution_count": 240,
   "id": "b1869120-4641-4768-8018-e7debfbbb042",
   "metadata": {},
   "outputs": [
    {
     "data": {
      "text/plain": [
       "[12, 10]"
      ]
     },
     "execution_count": 240,
     "metadata": {},
     "output_type": "execute_result"
    }
   ],
   "source": [
    "lst = [11,12,13,10]\n",
    "\n",
    "filteredlst = list(filter(lambda a : a % 2 == 0, lst))\n",
    "filteredlst"
   ]
  },
  {
   "cell_type": "code",
   "execution_count": null,
   "id": "3d72a8a1-c7b7-45a0-a108-f7c4656ad1e9",
   "metadata": {},
   "outputs": [],
   "source": []
  },
  {
   "cell_type": "markdown",
   "id": "3bf44502-6a09-4335-a43b-a48b2343c8de",
   "metadata": {},
   "source": [
    "### The lambda function with reduce()"
   ]
  },
  {
   "cell_type": "code",
   "execution_count": null,
   "id": "4cbda24b-7665-4e04-a5f2-e87909009b7d",
   "metadata": {},
   "outputs": [],
   "source": [
    "# reduce(lambda_expression, sequence)"
   ]
  },
  {
   "cell_type": "code",
   "execution_count": 247,
   "id": "f9449b0b-3326-47bb-971d-ef01ed0e3762",
   "metadata": {},
   "outputs": [
    {
     "data": {
      "text/plain": [
       "22"
      ]
     },
     "execution_count": 247,
     "metadata": {},
     "output_type": "execute_result"
    }
   ],
   "source": [
    "lst =[3,5,2,6,6]\n",
    "\n",
    "from functools import reduce\n",
    "\n",
    "reduce(lambda a,b : a+b, lst)\n"
   ]
  },
  {
   "cell_type": "code",
   "execution_count": 251,
   "id": "99536e9b-614b-4884-b5ab-4782cbcd815d",
   "metadata": {},
   "outputs": [
    {
     "data": {
      "text/plain": [
       "6"
      ]
     },
     "execution_count": 251,
     "metadata": {},
     "output_type": "execute_result"
    }
   ],
   "source": [
    "reduce(lambda a,b : a+b, range(0,4))"
   ]
  },
  {
   "cell_type": "code",
   "execution_count": 253,
   "id": "7cf769ae-c856-4934-8d52-38766d6409c5",
   "metadata": {},
   "outputs": [
    {
     "data": {
      "text/plain": [
       "8"
      ]
     },
     "execution_count": 253,
     "metadata": {},
     "output_type": "execute_result"
    }
   ],
   "source": [
    "tl = (4,2,6,1,8)\n",
    "reduce(lambda a,b : a if(a>b) else b, tl)\n",
    "\n"
   ]
  },
  {
   "cell_type": "code",
   "execution_count": null,
   "id": "01fa535a-9edb-4a87-8ca2-32004be5b66f",
   "metadata": {},
   "outputs": [],
   "source": []
  },
  {
   "cell_type": "markdown",
   "id": "603e4278-ed03-47c4-8138-77d961624893",
   "metadata": {},
   "source": [
    "### The lambda function with accumulate()"
   ]
  },
  {
   "cell_type": "code",
   "execution_count": null,
   "id": "8339d1d5-0e3c-4d27-9737-6d8db2e5ee27",
   "metadata": {},
   "outputs": [],
   "source": [
    "# accumulate(sequence, lambda_expression)"
   ]
  },
  {
   "cell_type": "code",
   "execution_count": 263,
   "id": "49d049af-8626-40ff-b327-9f5da9e8487e",
   "metadata": {},
   "outputs": [
    {
     "data": {
      "text/plain": [
       "[0, 1, 3, 6, 10, 15]"
      ]
     },
     "execution_count": 263,
     "metadata": {},
     "output_type": "execute_result"
    }
   ],
   "source": [
    "from itertools import accumulate\n",
    "nums = list(range(6))\n",
    "list(accumulate(nums, lambda x,y : x+y))"
   ]
  },
  {
   "cell_type": "code",
   "execution_count": null,
   "id": "a4a60f23-a146-40e3-a9b7-a01a1fe42e53",
   "metadata": {},
   "outputs": [],
   "source": []
  },
  {
   "cell_type": "code",
   "execution_count": null,
   "id": "a0201dff-dc36-4022-811e-263aa46fc501",
   "metadata": {},
   "outputs": [],
   "source": []
  },
  {
   "cell_type": "markdown",
   "id": "7463df9c-75b6-49eb-be60-70ba314a8281",
   "metadata": {
    "jp-MarkdownHeadingCollapsed": true
   },
   "source": [
    "# Recursive Functions"
   ]
  },
  {
   "cell_type": "code",
   "execution_count": 10,
   "id": "bd9a33ba-423c-4688-9773-cbce0b738bf5",
   "metadata": {},
   "outputs": [
    {
     "data": {
      "text/plain": [
       "120"
      ]
     },
     "execution_count": 10,
     "metadata": {},
     "output_type": "execute_result"
    }
   ],
   "source": [
    "def factorial(num) :\n",
    "    if num == 1 :\n",
    "        return 1\n",
    "    result = num * factorial(num-1)\n",
    "    return result\n",
    "factorial(5)\n"
   ]
  },
  {
   "cell_type": "code",
   "execution_count": 20,
   "id": "af5f5d6d-cfb2-4c2c-a4e8-9b22f00df86e",
   "metadata": {},
   "outputs": [
    {
     "name": "stdout",
     "output_type": "stream",
     "text": [
      "3\n"
     ]
    }
   ],
   "source": [
    "def fibonacci(n):\n",
    "    # Base case: return n for the first two numbers of the sequence\n",
    "    if n <= 1:\n",
    "        return n\n",
    "    # Recursive case: sum of the two preceding numbers\n",
    "    return fibonacci(n - 1) + fibonacci(n - 2)\n",
    "\n",
    "# Test cases\n",
    "print(fibonacci(4))  # Output should be 5"
   ]
  },
  {
   "cell_type": "code",
   "execution_count": null,
   "id": "af1b5b6c-e55b-46cf-bd31-d0965860fbf3",
   "metadata": {},
   "outputs": [],
   "source": []
  },
  {
   "cell_type": "code",
   "execution_count": null,
   "id": "523b7cd3-3210-46f2-b215-64ec87d63f3e",
   "metadata": {},
   "outputs": [],
   "source": []
  },
  {
   "cell_type": "code",
   "execution_count": null,
   "id": "a8f36630-a0e1-48e7-90b0-4b23a0d24068",
   "metadata": {},
   "outputs": [],
   "source": []
  },
  {
   "cell_type": "code",
   "execution_count": null,
   "id": "a7286c81-c80f-47f0-a38a-298f1bc88f4f",
   "metadata": {},
   "outputs": [],
   "source": []
  },
  {
   "cell_type": "code",
   "execution_count": null,
   "id": "a46f09dd-3949-4877-80a8-58bc55794df7",
   "metadata": {},
   "outputs": [],
   "source": []
  },
  {
   "cell_type": "code",
   "execution_count": null,
   "id": "c038a201-9541-45d0-871a-1d40dec938eb",
   "metadata": {},
   "outputs": [],
   "source": []
  },
  {
   "cell_type": "code",
   "execution_count": null,
   "id": "b31ce013-d617-44f0-8d47-7ed356da94ec",
   "metadata": {},
   "outputs": [],
   "source": []
  },
  {
   "cell_type": "code",
   "execution_count": null,
   "id": "751197bd-962d-4e26-8dcc-46747ca7437f",
   "metadata": {},
   "outputs": [],
   "source": []
  },
  {
   "cell_type": "code",
   "execution_count": null,
   "id": "daba2753-d107-4440-8234-0ffe9bcfca22",
   "metadata": {},
   "outputs": [],
   "source": []
  },
  {
   "cell_type": "code",
   "execution_count": null,
   "id": "dea8cd33-38cb-4fe5-be66-69e6d882d422",
   "metadata": {},
   "outputs": [],
   "source": []
  },
  {
   "cell_type": "code",
   "execution_count": null,
   "id": "d7424fd4-70f9-4ca3-ad89-5e2b02dc3d93",
   "metadata": {},
   "outputs": [],
   "source": []
  },
  {
   "cell_type": "code",
   "execution_count": null,
   "id": "5e4b0f28-2b28-4e98-80a9-b6b9cabec72d",
   "metadata": {},
   "outputs": [],
   "source": []
  },
  {
   "cell_type": "code",
   "execution_count": null,
   "id": "1ee2e999-56b4-405f-9fd3-cc48a8e6226d",
   "metadata": {},
   "outputs": [],
   "source": []
  },
  {
   "cell_type": "code",
   "execution_count": null,
   "id": "0c0635fd-5459-47f1-a3ca-ab377282830a",
   "metadata": {},
   "outputs": [],
   "source": []
  },
  {
   "cell_type": "code",
   "execution_count": null,
   "id": "e8ee9b59-9939-487d-979c-ee4cab4046e7",
   "metadata": {},
   "outputs": [],
   "source": []
  },
  {
   "cell_type": "code",
   "execution_count": null,
   "id": "80bca845-10d2-4434-a753-9617516ef244",
   "metadata": {},
   "outputs": [],
   "source": []
  },
  {
   "cell_type": "code",
   "execution_count": null,
   "id": "df1d0311-a4f7-4d40-9e2b-baba4b250dba",
   "metadata": {},
   "outputs": [],
   "source": []
  },
  {
   "cell_type": "code",
   "execution_count": null,
   "id": "8fd4e1aa-dce5-41e4-81c9-d5902d5ec818",
   "metadata": {},
   "outputs": [],
   "source": []
  },
  {
   "cell_type": "code",
   "execution_count": null,
   "id": "0b814f3f-e937-4747-8a27-307a89bffc23",
   "metadata": {},
   "outputs": [],
   "source": []
  },
  {
   "cell_type": "code",
   "execution_count": null,
   "id": "e6e949c3-0a45-476f-9091-1a50bb8bb7ef",
   "metadata": {},
   "outputs": [],
   "source": []
  },
  {
   "cell_type": "code",
   "execution_count": null,
   "id": "18f236fa-6be7-42e1-b0c4-baab8b07d4ed",
   "metadata": {},
   "outputs": [],
   "source": []
  },
  {
   "cell_type": "code",
   "execution_count": null,
   "id": "6fdff154-7b80-4d2a-a6bc-086d5304a4b2",
   "metadata": {},
   "outputs": [],
   "source": []
  },
  {
   "cell_type": "code",
   "execution_count": null,
   "id": "4e5644d2-559d-4fc3-8cb3-d733b85121a3",
   "metadata": {},
   "outputs": [],
   "source": []
  },
  {
   "cell_type": "code",
   "execution_count": null,
   "id": "61efc980-306a-48a8-a32f-03fd6e27b8ad",
   "metadata": {},
   "outputs": [],
   "source": []
  },
  {
   "cell_type": "code",
   "execution_count": null,
   "id": "211cdc22-d662-4348-a766-5321288b5347",
   "metadata": {},
   "outputs": [],
   "source": []
  },
  {
   "cell_type": "code",
   "execution_count": null,
   "id": "b6f9dc6c-ff46-430e-8447-f6d6391681a1",
   "metadata": {},
   "outputs": [],
   "source": []
  },
  {
   "cell_type": "code",
   "execution_count": null,
   "id": "64bf27c9-a2c9-41aa-99f8-d40d873d66b1",
   "metadata": {},
   "outputs": [],
   "source": []
  },
  {
   "cell_type": "code",
   "execution_count": null,
   "id": "7aad6cc3-f9ec-477f-a518-c3fba838f030",
   "metadata": {},
   "outputs": [],
   "source": []
  },
  {
   "cell_type": "code",
   "execution_count": null,
   "id": "45c54413-aae8-4c4f-a33e-eda5e03e0e1f",
   "metadata": {},
   "outputs": [],
   "source": []
  },
  {
   "cell_type": "code",
   "execution_count": null,
   "id": "93eaddd7-0bf5-4898-aaca-c4abd6ad7015",
   "metadata": {},
   "outputs": [],
   "source": []
  },
  {
   "cell_type": "code",
   "execution_count": null,
   "id": "5ada51fc-9596-4982-98a9-70bc84e6060a",
   "metadata": {},
   "outputs": [],
   "source": []
  },
  {
   "cell_type": "code",
   "execution_count": null,
   "id": "47ba15b7-d7b3-4ce6-b516-6beeed7bc9fb",
   "metadata": {},
   "outputs": [],
   "source": []
  },
  {
   "cell_type": "code",
   "execution_count": null,
   "id": "80ac005a-f208-4eb1-b0a7-639a3e63ba43",
   "metadata": {},
   "outputs": [],
   "source": []
  },
  {
   "cell_type": "code",
   "execution_count": null,
   "id": "e9a436d8-3014-4a5b-8b7f-ea1ccdd34db9",
   "metadata": {},
   "outputs": [],
   "source": []
  },
  {
   "cell_type": "code",
   "execution_count": null,
   "id": "4dd5b5fe-e38d-49de-81c0-87f5a8c1b127",
   "metadata": {},
   "outputs": [],
   "source": []
  },
  {
   "cell_type": "code",
   "execution_count": null,
   "id": "f4aef209-3eb9-4ea0-be5f-71017914e000",
   "metadata": {},
   "outputs": [],
   "source": []
  },
  {
   "cell_type": "code",
   "execution_count": null,
   "id": "c46c2198-7679-41f7-b7b6-30eb5e857523",
   "metadata": {},
   "outputs": [],
   "source": []
  },
  {
   "cell_type": "code",
   "execution_count": null,
   "id": "18c1fdc8-e873-41ef-83ff-ced55daf6f7d",
   "metadata": {},
   "outputs": [],
   "source": []
  },
  {
   "cell_type": "code",
   "execution_count": null,
   "id": "be520a78-66d5-4ce6-8753-66d854cf26c2",
   "metadata": {},
   "outputs": [],
   "source": []
  },
  {
   "cell_type": "code",
   "execution_count": null,
   "id": "b6a4b3ab-232e-4d05-9b60-314300ca9a0a",
   "metadata": {},
   "outputs": [],
   "source": []
  },
  {
   "cell_type": "code",
   "execution_count": null,
   "id": "91a0c650-5466-4b78-93b8-c90fbeab4973",
   "metadata": {},
   "outputs": [],
   "source": []
  },
  {
   "cell_type": "code",
   "execution_count": null,
   "id": "86a3402b-df81-40a5-8571-c5688449be9c",
   "metadata": {},
   "outputs": [],
   "source": []
  },
  {
   "cell_type": "code",
   "execution_count": null,
   "id": "e6b0f82e-27d6-486a-a232-5be65055ae5b",
   "metadata": {},
   "outputs": [],
   "source": []
  },
  {
   "cell_type": "code",
   "execution_count": null,
   "id": "a7f34b45-7086-4c8e-a53d-5ba0d990fcf9",
   "metadata": {},
   "outputs": [],
   "source": []
  },
  {
   "cell_type": "code",
   "execution_count": null,
   "id": "021a3a37-331e-4836-838c-d3c6ab07001c",
   "metadata": {},
   "outputs": [],
   "source": []
  },
  {
   "cell_type": "code",
   "execution_count": null,
   "id": "b2f386d6-aa7c-495b-8b3f-b48d1b1e03dc",
   "metadata": {},
   "outputs": [],
   "source": []
  },
  {
   "cell_type": "code",
   "execution_count": null,
   "id": "bc84b4a5-549e-4e0f-9085-2f823a118147",
   "metadata": {},
   "outputs": [],
   "source": []
  },
  {
   "cell_type": "code",
   "execution_count": null,
   "id": "f5bd66b2-6e32-43e3-b657-5d6e9118d5fb",
   "metadata": {},
   "outputs": [],
   "source": []
  },
  {
   "cell_type": "code",
   "execution_count": null,
   "id": "fabdb872-fe1c-4b92-9729-b60902f446dc",
   "metadata": {},
   "outputs": [],
   "source": []
  },
  {
   "cell_type": "code",
   "execution_count": null,
   "id": "0f83b942-0142-4fec-9d24-8d86998c4611",
   "metadata": {},
   "outputs": [],
   "source": []
  },
  {
   "cell_type": "code",
   "execution_count": null,
   "id": "2f111ca8-65e1-408f-aec4-c17c908f1be3",
   "metadata": {},
   "outputs": [],
   "source": []
  },
  {
   "cell_type": "code",
   "execution_count": null,
   "id": "7d8b1084-831b-45d8-9ed1-9ab681e71e61",
   "metadata": {},
   "outputs": [],
   "source": []
  },
  {
   "cell_type": "code",
   "execution_count": null,
   "id": "42fc1a61-bdc0-4e15-be65-b4dc34d08c77",
   "metadata": {},
   "outputs": [],
   "source": []
  },
  {
   "cell_type": "code",
   "execution_count": null,
   "id": "280a4f52-9925-4583-9962-efb8c471ce06",
   "metadata": {},
   "outputs": [],
   "source": []
  },
  {
   "cell_type": "code",
   "execution_count": null,
   "id": "2c1f9c63-ed5c-492b-9307-0b39da29317d",
   "metadata": {},
   "outputs": [],
   "source": []
  },
  {
   "cell_type": "code",
   "execution_count": null,
   "id": "dca2aa68-774b-4570-aeac-e030b8f316af",
   "metadata": {},
   "outputs": [],
   "source": []
  },
  {
   "cell_type": "code",
   "execution_count": null,
   "id": "8325efcf-84e8-437d-b404-b146f3d552e9",
   "metadata": {},
   "outputs": [],
   "source": []
  },
  {
   "cell_type": "code",
   "execution_count": null,
   "id": "530bd2d1-3565-4b4c-adcf-95cdfd14e5c7",
   "metadata": {},
   "outputs": [],
   "source": []
  },
  {
   "cell_type": "code",
   "execution_count": null,
   "id": "5f26cc26-7912-4d69-af52-049bd2fee6bc",
   "metadata": {},
   "outputs": [],
   "source": []
  },
  {
   "cell_type": "code",
   "execution_count": null,
   "id": "9587cee9-69a1-4817-8598-9abe25e6ac1d",
   "metadata": {},
   "outputs": [],
   "source": []
  },
  {
   "cell_type": "code",
   "execution_count": null,
   "id": "f1ea4dfd-841d-4038-b489-8f999e71821b",
   "metadata": {},
   "outputs": [],
   "source": []
  },
  {
   "cell_type": "code",
   "execution_count": null,
   "id": "fd412378-fb32-48fc-9578-87cb70b6a537",
   "metadata": {},
   "outputs": [],
   "source": []
  },
  {
   "cell_type": "code",
   "execution_count": null,
   "id": "d39055f2-a532-4405-a6a2-044a72683fcc",
   "metadata": {},
   "outputs": [],
   "source": []
  },
  {
   "cell_type": "code",
   "execution_count": null,
   "id": "a1b2033c-2972-4235-934e-b9c01de17a1e",
   "metadata": {},
   "outputs": [],
   "source": []
  },
  {
   "cell_type": "code",
   "execution_count": null,
   "id": "7b6c6a4b-5bfe-40e5-8430-705f017ce10d",
   "metadata": {},
   "outputs": [],
   "source": []
  },
  {
   "cell_type": "code",
   "execution_count": null,
   "id": "9e12f66a-c001-4760-838d-f5af137c82ef",
   "metadata": {},
   "outputs": [],
   "source": []
  },
  {
   "cell_type": "code",
   "execution_count": null,
   "id": "24e7543b-3e34-45e3-85be-57fdfdc6d69e",
   "metadata": {},
   "outputs": [],
   "source": []
  },
  {
   "cell_type": "code",
   "execution_count": null,
   "id": "42a66a03-3bd6-4ac9-b7a7-d1be0572e67e",
   "metadata": {},
   "outputs": [],
   "source": []
  },
  {
   "cell_type": "code",
   "execution_count": null,
   "id": "bfd5c999-fb68-4141-a4aa-08ea763ab2b7",
   "metadata": {},
   "outputs": [],
   "source": []
  },
  {
   "cell_type": "code",
   "execution_count": null,
   "id": "33cd1e7e-de7a-4574-9418-cae52899e5c8",
   "metadata": {},
   "outputs": [],
   "source": []
  },
  {
   "cell_type": "code",
   "execution_count": null,
   "id": "c8d24a4c-fbf2-443a-b3d5-6a23510b7d8b",
   "metadata": {},
   "outputs": [],
   "source": []
  },
  {
   "cell_type": "code",
   "execution_count": null,
   "id": "7cc77ef6-3308-4e7b-8559-5d372ba542a7",
   "metadata": {},
   "outputs": [],
   "source": []
  },
  {
   "cell_type": "code",
   "execution_count": null,
   "id": "0e62ea7e-95cf-4a3e-9051-efc9818411e9",
   "metadata": {},
   "outputs": [],
   "source": []
  },
  {
   "cell_type": "code",
   "execution_count": null,
   "id": "22a1b290-18e4-4628-9fa5-d8f90fb398ab",
   "metadata": {},
   "outputs": [],
   "source": []
  },
  {
   "cell_type": "code",
   "execution_count": null,
   "id": "14e03673-a954-4408-94ef-e63b08684814",
   "metadata": {},
   "outputs": [],
   "source": []
  },
  {
   "cell_type": "code",
   "execution_count": null,
   "id": "ccdda9e9-08f7-4018-b3fb-9b11f0813e28",
   "metadata": {},
   "outputs": [],
   "source": []
  },
  {
   "cell_type": "code",
   "execution_count": null,
   "id": "e2480385-1131-4287-ba83-2a18a4ddeb81",
   "metadata": {},
   "outputs": [],
   "source": []
  },
  {
   "cell_type": "code",
   "execution_count": null,
   "id": "724412df-96f5-47e8-9f59-1125b73e9baa",
   "metadata": {},
   "outputs": [],
   "source": []
  },
  {
   "cell_type": "code",
   "execution_count": null,
   "id": "0a5761b0-8cfa-4dfe-92fb-6aa764027a15",
   "metadata": {},
   "outputs": [],
   "source": []
  },
  {
   "cell_type": "code",
   "execution_count": null,
   "id": "432fc5f1-5d18-4a1c-8570-b8ddee7a7fee",
   "metadata": {},
   "outputs": [],
   "source": []
  },
  {
   "cell_type": "code",
   "execution_count": null,
   "id": "f786e55e-4387-4b5c-a20d-bbb1985331ab",
   "metadata": {},
   "outputs": [],
   "source": []
  },
  {
   "cell_type": "code",
   "execution_count": null,
   "id": "9e10ebf2-aaef-492f-a868-2b8791d7b9d4",
   "metadata": {},
   "outputs": [],
   "source": []
  },
  {
   "cell_type": "code",
   "execution_count": null,
   "id": "2edb8e4b-169a-498e-ba74-fab066da7861",
   "metadata": {},
   "outputs": [],
   "source": []
  },
  {
   "cell_type": "code",
   "execution_count": null,
   "id": "3875e99d-4337-4ae1-8eeb-c80b625f822e",
   "metadata": {},
   "outputs": [],
   "source": []
  },
  {
   "cell_type": "code",
   "execution_count": null,
   "id": "941c5127-9f9f-404c-848f-3bd57508f308",
   "metadata": {},
   "outputs": [],
   "source": []
  },
  {
   "cell_type": "code",
   "execution_count": null,
   "id": "5d9dd333-7b6a-4e4c-9e60-c9bd446ea0cd",
   "metadata": {},
   "outputs": [],
   "source": []
  },
  {
   "cell_type": "code",
   "execution_count": null,
   "id": "d239c006-4f7e-4836-a085-5ce5a209e95c",
   "metadata": {},
   "outputs": [],
   "source": []
  },
  {
   "cell_type": "code",
   "execution_count": null,
   "id": "783f8db0-3e00-44de-886a-6a08de12e693",
   "metadata": {},
   "outputs": [],
   "source": []
  },
  {
   "cell_type": "code",
   "execution_count": null,
   "id": "7d502c56-c917-474c-86db-2ffe880a5b32",
   "metadata": {},
   "outputs": [],
   "source": []
  },
  {
   "cell_type": "code",
   "execution_count": null,
   "id": "624782ee-c5d3-4777-ab0a-030f2d7db9cd",
   "metadata": {},
   "outputs": [],
   "source": []
  },
  {
   "cell_type": "code",
   "execution_count": null,
   "id": "3e59833f-e558-4e79-a442-9978106b1a82",
   "metadata": {},
   "outputs": [],
   "source": []
  },
  {
   "cell_type": "code",
   "execution_count": null,
   "id": "3a3a4d23-89b7-42bc-9edf-d7233234b202",
   "metadata": {},
   "outputs": [],
   "source": []
  },
  {
   "cell_type": "code",
   "execution_count": null,
   "id": "62b85c9e-a13c-49b6-aa03-780f4ce572e4",
   "metadata": {},
   "outputs": [],
   "source": []
  },
  {
   "cell_type": "code",
   "execution_count": null,
   "id": "7f42a4d7-3f0b-4fda-a8cd-5510c5cbf9ba",
   "metadata": {},
   "outputs": [],
   "source": []
  },
  {
   "cell_type": "code",
   "execution_count": null,
   "id": "81dfe702-4051-45cb-b4d5-2caf86d609b7",
   "metadata": {},
   "outputs": [],
   "source": []
  },
  {
   "cell_type": "code",
   "execution_count": null,
   "id": "e6558383-6de7-4549-9691-f9eed71bebcb",
   "metadata": {},
   "outputs": [],
   "source": []
  },
  {
   "cell_type": "code",
   "execution_count": null,
   "id": "4e2bd43e-89bc-4de4-b8dd-5cfc11b36105",
   "metadata": {},
   "outputs": [],
   "source": []
  },
  {
   "cell_type": "code",
   "execution_count": null,
   "id": "bd9982ad-f938-43fc-b65d-d1fb3fd7e9fd",
   "metadata": {},
   "outputs": [],
   "source": []
  },
  {
   "cell_type": "code",
   "execution_count": null,
   "id": "3bf18b19-d72c-4662-8c96-36e7ab21cf26",
   "metadata": {},
   "outputs": [],
   "source": []
  },
  {
   "cell_type": "code",
   "execution_count": null,
   "id": "5ff4c40c-df17-4cc4-b3f8-e05e00ed62c7",
   "metadata": {},
   "outputs": [],
   "source": []
  },
  {
   "cell_type": "code",
   "execution_count": null,
   "id": "2d4bd185-d0a2-4c3d-8937-9676a6644092",
   "metadata": {},
   "outputs": [],
   "source": []
  },
  {
   "cell_type": "code",
   "execution_count": null,
   "id": "400d6f05-84d8-47cf-bc25-f28369a733a8",
   "metadata": {},
   "outputs": [],
   "source": []
  },
  {
   "cell_type": "code",
   "execution_count": null,
   "id": "deb95290-64c7-4326-8c6a-70a45fd20ad9",
   "metadata": {},
   "outputs": [],
   "source": []
  }
 ],
 "metadata": {
  "kernelspec": {
   "display_name": "Python 3 (ipykernel)",
   "language": "python",
   "name": "python3"
  },
  "language_info": {
   "codemirror_mode": {
    "name": "ipython",
    "version": 3
   },
   "file_extension": ".py",
   "mimetype": "text/x-python",
   "name": "python",
   "nbconvert_exporter": "python",
   "pygments_lexer": "ipython3",
   "version": "3.12.4"
  }
 },
 "nbformat": 4,
 "nbformat_minor": 5
}
