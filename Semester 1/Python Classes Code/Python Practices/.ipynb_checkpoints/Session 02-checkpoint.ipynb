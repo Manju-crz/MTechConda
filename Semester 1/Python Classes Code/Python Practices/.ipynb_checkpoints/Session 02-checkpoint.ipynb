{
 "cells": [
  {
   "cell_type": "markdown",
   "id": "69f56496-3caf-499c-9f65-335dd3847973",
   "metadata": {
    "jp-MarkdownHeadingCollapsed": true
   },
   "source": [
    "# Conditional Statements "
   ]
  },
  {
   "cell_type": "code",
   "execution_count": null,
   "id": "d8eb4ec1-acbf-44fd-ae96-010554dd7565",
   "metadata": {},
   "outputs": [],
   "source": [
    "# if statement\n",
    "# if-else statement\n",
    "# if elif else statement\n",
    "# nested if-else"
   ]
  },
  {
   "cell_type": "markdown",
   "id": "1df23cfd-dc3a-484c-9b91-c3ac8d4ae2d5",
   "metadata": {
    "jp-MarkdownHeadingCollapsed": true
   },
   "source": [
    "# Loops"
   ]
  },
  {
   "cell_type": "code",
   "execution_count": 1,
   "id": "ab2204e9-fcef-481e-9058-04ee3a336706",
   "metadata": {},
   "outputs": [
    {
     "name": "stdout",
     "output_type": "stream",
     "text": [
      "10\n",
      "30\n"
     ]
    }
   ],
   "source": [
    "l1 = [10,20,30]\n",
    "\n",
    "for n in l1 :\n",
    "    if(n != 20) :\n",
    "        print(n)\n",
    "    "
   ]
  },
  {
   "cell_type": "code",
   "execution_count": 7,
   "id": "49760b5e-256c-448f-9443-85999103a5af",
   "metadata": {},
   "outputs": [],
   "source": [
    "str = 'mkspractices'\n",
    "st = set()\n",
    "for s in str :\n",
    "    st.add(s)\n",
    "st2 = {3,6,2,4}"
   ]
  },
  {
   "cell_type": "code",
   "execution_count": 25,
   "id": "76e128c8-9045-4b8b-80d2-92758c7b6e80",
   "metadata": {},
   "outputs": [
    {
     "data": {
      "text/plain": [
       "{2, 3, 4, 6}"
      ]
     },
     "execution_count": 25,
     "metadata": {},
     "output_type": "execute_result"
    }
   ],
   "source": [
    "st2"
   ]
  },
  {
   "cell_type": "code",
   "execution_count": 27,
   "id": "f243f30c-f21d-4584-8930-07c1c9add5ad",
   "metadata": {},
   "outputs": [
    {
     "data": {
      "text/plain": [
       "set"
      ]
     },
     "execution_count": 27,
     "metadata": {},
     "output_type": "execute_result"
    }
   ],
   "source": [
    "type(st2)"
   ]
  },
  {
   "cell_type": "code",
   "execution_count": 21,
   "id": "7ff62a17-9ccf-4a44-a25f-6af51defcfde",
   "metadata": {},
   "outputs": [
    {
     "data": {
      "text/plain": [
       "{'a', 'c', 'e', 'i', 'k', 'm', 'p', 'r', 's', 't'}"
      ]
     },
     "execution_count": 21,
     "metadata": {},
     "output_type": "execute_result"
    }
   ],
   "source": [
    "st"
   ]
  },
  {
   "cell_type": "code",
   "execution_count": 31,
   "id": "4ada9f0b-070a-4b93-9d6d-9d9a326b3efb",
   "metadata": {},
   "outputs": [
    {
     "name": "stdout",
     "output_type": "stream",
     "text": [
      "1\n",
      "2\n",
      "3\n",
      "4\n",
      "5\n",
      "6\n",
      "7\n",
      "8\n",
      "9\n",
      "10\n"
     ]
    }
   ],
   "source": [
    "n = 1\n",
    "while n<=10 :\n",
    "    print(n)\n",
    "    n += 1;"
   ]
  },
  {
   "cell_type": "code",
   "execution_count": 3,
   "id": "4296fc44-893f-4111-b5ae-25deafced3d4",
   "metadata": {},
   "outputs": [
    {
     "name": "stdout",
     "output_type": "stream",
     "text": [
      "10\n",
      "20\n",
      "30\n"
     ]
    }
   ],
   "source": [
    "i = 0\n",
    "while (i < len(l1)) :\n",
    "    print(l1[i])\n",
    "    i += 1"
   ]
  },
  {
   "cell_type": "code",
   "execution_count": 9,
   "id": "7b3ed404-aafe-431d-8ef4-0c77f1939a2a",
   "metadata": {},
   "outputs": [
    {
     "name": "stdout",
     "output_type": "stream",
     "text": [
      "2\n",
      "3\n",
      "4\n",
      "6\n"
     ]
    }
   ],
   "source": [
    "for n in st2:\n",
    "    print(n)"
   ]
  },
  {
   "cell_type": "code",
   "execution_count": 13,
   "id": "7e6fc1cc-1067-46b7-9edf-f2e1e66bc544",
   "metadata": {},
   "outputs": [
    {
     "name": "stdout",
     "output_type": "stream",
     "text": [
      "1\n",
      "2\n",
      "3\n",
      "4\n",
      "5\n"
     ]
    }
   ],
   "source": [
    "# Create a set with some values\n",
    "my_set = {1, 2, 3, 4, 5}\n",
    "\n",
    "# Create an iterator for the set\n",
    "iterator = iter(my_set)\n",
    "\n",
    "# Use a while loop to iterate through the set\n",
    "while True:\n",
    "    try:\n",
    "        # Get the next value from the iterator\n",
    "        value = next(iterator)\n",
    "        # Print the value\n",
    "        print(value)\n",
    "    except StopIteration:\n",
    "        # Break the loop when there are no more items\n",
    "        break\n"
   ]
  },
  {
   "cell_type": "code",
   "execution_count": null,
   "id": "b9303121-7be6-4d5e-a4e8-bce092c1ab10",
   "metadata": {},
   "outputs": [],
   "source": [
    "# Create a set with some values\n",
    "my_set = {11, 32, 13, 54, 45}\n",
    "\n",
    "# Create an iterator for the set\n",
    "iterator = iter(my_set)\n",
    "\n",
    "# Use a while loop to iterate through the set\n",
    "while True:\n",
    "    try:\n",
    "        # Get the next value from the iterator\n",
    "        value = next(iterator)\n",
    "        # Print the value\n",
    "        print(value)\n",
    "    except StopIteration:\n",
    "        # Break the loop when there are no more items\n",
    "        break\n"
   ]
  },
  {
   "cell_type": "code",
   "execution_count": 19,
   "id": "9bd43842-7d59-44e9-a62b-3a01167d32d1",
   "metadata": {},
   "outputs": [
    {
     "name": "stdout",
     "output_type": "stream",
     "text": [
      "List 1\n",
      "1\n",
      "2\n",
      "3\n",
      "List 2\n",
      "2\n",
      "4\n",
      "5\n",
      "List 3\n",
      "asd\n",
      "warew\n",
      "List 4\n",
      "a\n",
      "s\n",
      "d\n"
     ]
    }
   ],
   "source": [
    "l2 = [[1,2,3],[2,4,5],['asd', 'warew'],['a','s','d']]\n",
    "counter = 1;\n",
    "for l in l2:\n",
    "    print(\"List\",counter)\n",
    "    for n in l :\n",
    "        print(n)\n",
    "    counter += 1;"
   ]
  },
  {
   "cell_type": "code",
   "execution_count": 31,
   "id": "cefa2e3f-9766-4a39-85f7-2deda7fe9637",
   "metadata": {},
   "outputs": [
    {
     "name": "stdout",
     "output_type": "stream",
     "text": [
      "9\n",
      "18\n",
      "27\n",
      "36\n",
      "45\n",
      "54\n",
      "63\n",
      "72\n",
      "81\n",
      "90\n"
     ]
    }
   ],
   "source": [
    "for i in range(1, 11) :\n",
    "    print (9 * i)"
   ]
  },
  {
   "cell_type": "code",
   "execution_count": 39,
   "id": "f7e733f4-aeeb-4b8e-b0b9-6dc0d67b6bab",
   "metadata": {},
   "outputs": [
    {
     "data": {
      "text/plain": [
       "dict"
      ]
     },
     "execution_count": 39,
     "metadata": {},
     "output_type": "execute_result"
    }
   ],
   "source": [
    "student = {'name' : 'sdfsf', 'age' : 23, 'contactnumber' : '71263721'}\n",
    "type(student)"
   ]
  },
  {
   "cell_type": "code",
   "execution_count": 54,
   "id": "49e0c3fd-083c-420c-a668-6b25e9551981",
   "metadata": {},
   "outputs": [
    {
     "name": "stdout",
     "output_type": "stream",
     "text": [
      "sdfsf\n",
      "23\n",
      "71263721\n"
     ]
    }
   ],
   "source": [
    "for item in student:\n",
    "    #print(item)\n",
    "    print(student[item])"
   ]
  },
  {
   "cell_type": "code",
   "execution_count": 58,
   "id": "a7ab3dad-592f-4a9f-ad87-57775708bf75",
   "metadata": {},
   "outputs": [
    {
     "name": "stdout",
     "output_type": "stream",
     "text": [
      "sdfsf\n",
      "23\n",
      "71263721\n"
     ]
    }
   ],
   "source": [
    "for item in student.values():\n",
    "    print(item)"
   ]
  },
  {
   "cell_type": "code",
   "execution_count": 60,
   "id": "3e34098d-2209-49d0-bf4a-854a7c0f181d",
   "metadata": {},
   "outputs": [
    {
     "data": {
      "text/plain": [
       "dict_values(['sdfsf', 23, '71263721'])"
      ]
     },
     "execution_count": 60,
     "metadata": {},
     "output_type": "execute_result"
    }
   ],
   "source": [
    "student.values()"
   ]
  },
  {
   "cell_type": "code",
   "execution_count": 62,
   "id": "7e3ed50c-2d9a-458b-a9a8-b8b03502587a",
   "metadata": {},
   "outputs": [
    {
     "data": {
      "text/plain": [
       "dict_keys(['name', 'age', 'contactnumber'])"
      ]
     },
     "execution_count": 62,
     "metadata": {},
     "output_type": "execute_result"
    }
   ],
   "source": [
    "student.keys()"
   ]
  },
  {
   "cell_type": "code",
   "execution_count": 64,
   "id": "599b2024-be0e-4c32-ad41-24629922fdf2",
   "metadata": {},
   "outputs": [
    {
     "data": {
      "text/plain": [
       "dict_items([('name', 'sdfsf'), ('age', 23), ('contactnumber', '71263721')])"
      ]
     },
     "execution_count": 64,
     "metadata": {},
     "output_type": "execute_result"
    }
   ],
   "source": [
    "student.items()"
   ]
  },
  {
   "cell_type": "code",
   "execution_count": 66,
   "id": "9e9e5b03-1b26-4caf-b0aa-a596d21bcb85",
   "metadata": {},
   "outputs": [
    {
     "name": "stdout",
     "output_type": "stream",
     "text": [
      "name = sdfsf\n",
      "age = 23\n",
      "contactnumber = 71263721\n"
     ]
    }
   ],
   "source": [
    "for k,v in student.items():\n",
    "    print(k, '=', v)"
   ]
  },
  {
   "cell_type": "code",
   "execution_count": null,
   "id": "bc8d251d-5c4b-4eff-8b1c-208c32b8aa41",
   "metadata": {},
   "outputs": [],
   "source": []
  },
  {
   "cell_type": "code",
   "execution_count": null,
   "id": "fc365ce3-4621-41cf-b9ea-ebcda2340360",
   "metadata": {},
   "outputs": [],
   "source": [
    "#break\n",
    "#continue"
   ]
  },
  {
   "cell_type": "code",
   "execution_count": 68,
   "id": "e703f4f6-6a9c-4703-845b-ec3842d50912",
   "metadata": {},
   "outputs": [
    {
     "data": {
      "text/plain": [
       "[10, 20, 30]"
      ]
     },
     "execution_count": 68,
     "metadata": {},
     "output_type": "execute_result"
    }
   ],
   "source": [
    "l1"
   ]
  },
  {
   "cell_type": "code",
   "execution_count": 72,
   "id": "a6d3f56d-ffdd-4ad1-877c-f46b54c55f6e",
   "metadata": {},
   "outputs": [
    {
     "name": "stdout",
     "output_type": "stream",
     "text": [
      "10\n"
     ]
    }
   ],
   "source": [
    "for l in l1 :\n",
    "    if(l == 20) :\n",
    "        break;\n",
    "    print(l)"
   ]
  },
  {
   "cell_type": "markdown",
   "id": "3d7a15ca-3ed9-48e4-a8a1-28b2a2579759",
   "metadata": {
    "jp-MarkdownHeadingCollapsed": true
   },
   "source": [
    "# List Comprehension"
   ]
  },
  {
   "cell_type": "code",
   "execution_count": 79,
   "id": "33f27019-d108-41cd-9046-2e04ca41959d",
   "metadata": {},
   "outputs": [],
   "source": [
    "lst = []\n",
    "for i in range(1,11):\n",
    "    lst.append(i*5)"
   ]
  },
  {
   "cell_type": "code",
   "execution_count": 81,
   "id": "b37fbe05-b1f4-4f37-804f-a09df0bd64be",
   "metadata": {},
   "outputs": [
    {
     "data": {
      "text/plain": [
       "[5, 10, 15, 20, 25, 30, 35, 40, 45, 50]"
      ]
     },
     "execution_count": 81,
     "metadata": {},
     "output_type": "execute_result"
    }
   ],
   "source": [
    "lst"
   ]
  },
  {
   "cell_type": "code",
   "execution_count": 83,
   "id": "7d70dc2b-7a86-43ac-872f-b3fc349b7674",
   "metadata": {},
   "outputs": [],
   "source": [
    "# comprehension\n",
    "tableof5 = [i * 5 for i in range(1,11)]"
   ]
  },
  {
   "cell_type": "code",
   "execution_count": 85,
   "id": "4eb2a8d8-55f7-40e3-97cf-0e3f04d56276",
   "metadata": {},
   "outputs": [
    {
     "data": {
      "text/plain": [
       "[5, 10, 15, 20, 25, 30, 35, 40, 45, 50]"
      ]
     },
     "execution_count": 85,
     "metadata": {},
     "output_type": "execute_result"
    }
   ],
   "source": [
    "tableof5"
   ]
  },
  {
   "cell_type": "code",
   "execution_count": 87,
   "id": "9226924e-01ad-49f3-a7e8-6ff34943bdcf",
   "metadata": {},
   "outputs": [],
   "source": [
    "# comprehension\n",
    "tableof5 = [i * 5 for i in l1]"
   ]
  },
  {
   "cell_type": "code",
   "execution_count": 89,
   "id": "c91d72c9-dae7-4f68-847d-1eae095d34d7",
   "metadata": {},
   "outputs": [
    {
     "data": {
      "text/plain": [
       "[50, 100, 150]"
      ]
     },
     "execution_count": 89,
     "metadata": {},
     "output_type": "execute_result"
    }
   ],
   "source": [
    "tableof5"
   ]
  },
  {
   "cell_type": "code",
   "execution_count": 93,
   "id": "e8b8433c-0610-41b6-b505-8baec731fb8d",
   "metadata": {},
   "outputs": [
    {
     "data": {
      "text/plain": [
       "['m', 'p', 'p', 'f', 'd', 's']"
      ]
     },
     "execution_count": 93,
     "metadata": {},
     "output_type": "execute_result"
    }
   ],
   "source": [
    "# comprehension\n",
    "words = [\"mks\", \"practices\", \"python\", \"for\", \"data\", \"science\"]\n",
    "extractedlist = [w[0] for w in words]\n",
    "extractedlist"
   ]
  },
  {
   "cell_type": "code",
   "execution_count": 109,
   "id": "bdc407ce-a5c8-4015-b5e6-df44b52c1e1f",
   "metadata": {},
   "outputs": [
    {
     "data": {
      "text/plain": [
       "{1: 'mks', 2: 'practices', 3: 'python', 4: 'for', 5: 'data', 6: 'science'}"
      ]
     },
     "execution_count": 109,
     "metadata": {},
     "output_type": "execute_result"
    }
   ],
   "source": [
    "\n",
    "words = [\"mks\", \"practices\", \"python\", \"for\", \"data\", \"science\"]\n",
    "number = [1,2,3,4,5,6]\n",
    "resultdict = {}\n",
    "i = 1;\n",
    "for w in words:\n",
    "    resultdict[i] = w\n",
    "    i += 1\n",
    "resultdict"
   ]
  },
  {
   "cell_type": "code",
   "execution_count": 111,
   "id": "2ae5f3ad-1ddf-4c8e-8b38-e9f77711986a",
   "metadata": {},
   "outputs": [
    {
     "data": {
      "text/plain": [
       "dict"
      ]
     },
     "execution_count": 111,
     "metadata": {},
     "output_type": "execute_result"
    }
   ],
   "source": [
    "type(resultdict)"
   ]
  },
  {
   "cell_type": "code",
   "execution_count": 135,
   "id": "6b688c07-39dd-45f2-b250-20d5aca9f0b6",
   "metadata": {},
   "outputs": [
    {
     "data": {
      "text/plain": [
       "[(1, 'mks'),\n",
       " (1, 'practices'),\n",
       " (1, 'python'),\n",
       " (1, 'for'),\n",
       " (1, 'data'),\n",
       " (1, 'science'),\n",
       " (2, 'mks'),\n",
       " (2, 'practices'),\n",
       " (2, 'python'),\n",
       " (2, 'for'),\n",
       " (2, 'data'),\n",
       " (2, 'science'),\n",
       " (3, 'mks'),\n",
       " (3, 'practices'),\n",
       " (3, 'python'),\n",
       " (3, 'for'),\n",
       " (3, 'data'),\n",
       " (3, 'science')]"
      ]
     },
     "execution_count": 135,
     "metadata": {},
     "output_type": "execute_result"
    }
   ],
   "source": [
    "# comprehension\n",
    "words = [\"mks\", \"practices\", \"python\", \"for\", \"data\", \"science\"]\n",
    "number = [1,2,3]\n",
    "resultedlist = []\n",
    "for i in number:\n",
    "    for w in words:\n",
    "        resultedlist.append((i,w))\n",
    "resultedlist = [(i,w) for i in number for w in words]\n",
    "resultedlist"
   ]
  },
  {
   "cell_type": "code",
   "execution_count": 147,
   "id": "9b460993-b332-4525-a360-def99f600f86",
   "metadata": {},
   "outputs": [
    {
     "data": {
      "text/plain": [
       "[10, 30]"
      ]
     },
     "execution_count": 147,
     "metadata": {},
     "output_type": "execute_result"
    }
   ],
   "source": [
    "newlist = []\n",
    "for l in l1 :\n",
    "    if(l != 20) :\n",
    "        newlist.append(l)\n",
    "\n",
    "newlist = [l for l in l1 if(l != 20)]\n",
    "newlist"
   ]
  },
  {
   "cell_type": "code",
   "execution_count": null,
   "id": "91d3b313-4a07-44c4-b452-8af63e6497d3",
   "metadata": {},
   "outputs": [],
   "source": []
  },
  {
   "cell_type": "code",
   "execution_count": null,
   "id": "a5ad38a2-ba61-472d-bd8c-5f9d1764b6f0",
   "metadata": {},
   "outputs": [],
   "source": []
  },
  {
   "cell_type": "code",
   "execution_count": null,
   "id": "3b618210-9b87-4c4b-b146-fa3658546b3c",
   "metadata": {},
   "outputs": [],
   "source": []
  },
  {
   "cell_type": "code",
   "execution_count": null,
   "id": "6b863688-493a-4425-938f-f359de77863f",
   "metadata": {},
   "outputs": [],
   "source": []
  },
  {
   "cell_type": "code",
   "execution_count": null,
   "id": "5f69b4d1-23c6-4d9b-8e06-b0607ec02a5e",
   "metadata": {},
   "outputs": [],
   "source": []
  },
  {
   "cell_type": "code",
   "execution_count": null,
   "id": "4615922e-fbe7-4a45-8bda-92f78dd42b5f",
   "metadata": {},
   "outputs": [],
   "source": []
  },
  {
   "cell_type": "code",
   "execution_count": null,
   "id": "67212f79-8293-45e6-84d0-e53b63081518",
   "metadata": {},
   "outputs": [],
   "source": []
  },
  {
   "cell_type": "code",
   "execution_count": null,
   "id": "3336e274-8dcc-4187-b3a7-c0e6fad26d0b",
   "metadata": {},
   "outputs": [],
   "source": []
  },
  {
   "cell_type": "code",
   "execution_count": null,
   "id": "92b6f097-57b1-4a7a-b255-7208615e25c2",
   "metadata": {},
   "outputs": [],
   "source": []
  },
  {
   "cell_type": "code",
   "execution_count": null,
   "id": "f50c4eb5-ceab-49d0-94fb-6aa5b0eea5da",
   "metadata": {},
   "outputs": [],
   "source": []
  },
  {
   "cell_type": "code",
   "execution_count": null,
   "id": "161239f8-72b9-4fc0-b289-f082e96b1dc1",
   "metadata": {},
   "outputs": [],
   "source": []
  },
  {
   "cell_type": "code",
   "execution_count": null,
   "id": "7fa29e82-8caa-494c-bd26-8d06788cc8e5",
   "metadata": {},
   "outputs": [],
   "source": []
  },
  {
   "cell_type": "code",
   "execution_count": null,
   "id": "40b73ee2-d16d-4b8a-8095-8fb7073dac7e",
   "metadata": {},
   "outputs": [],
   "source": []
  },
  {
   "cell_type": "code",
   "execution_count": null,
   "id": "49773fde-8944-44a2-8041-4eafd50971c3",
   "metadata": {},
   "outputs": [],
   "source": []
  },
  {
   "cell_type": "code",
   "execution_count": null,
   "id": "f873010d-cc1a-44d0-9d75-6d0be59de473",
   "metadata": {},
   "outputs": [],
   "source": []
  },
  {
   "cell_type": "code",
   "execution_count": null,
   "id": "f9918c15-c9bd-4a64-82d1-1df221158dd0",
   "metadata": {},
   "outputs": [],
   "source": []
  },
  {
   "cell_type": "code",
   "execution_count": null,
   "id": "aee9d588-2858-41ca-bd6e-35ad93658f70",
   "metadata": {},
   "outputs": [],
   "source": []
  },
  {
   "cell_type": "code",
   "execution_count": null,
   "id": "ea322964-1d1d-4b75-916b-e050c0c1044c",
   "metadata": {},
   "outputs": [],
   "source": []
  },
  {
   "cell_type": "code",
   "execution_count": null,
   "id": "c11b6384-1e40-4373-9981-23fde1d80547",
   "metadata": {},
   "outputs": [],
   "source": []
  },
  {
   "cell_type": "code",
   "execution_count": null,
   "id": "19607b62-c8f3-4b51-8370-f13846840dbd",
   "metadata": {},
   "outputs": [],
   "source": []
  },
  {
   "cell_type": "code",
   "execution_count": null,
   "id": "b6f11ca6-a41a-4467-a889-bb3d9a7a4809",
   "metadata": {},
   "outputs": [],
   "source": []
  },
  {
   "cell_type": "code",
   "execution_count": null,
   "id": "834769d7-1d15-42dc-90a7-ae3de999c3ab",
   "metadata": {},
   "outputs": [],
   "source": []
  },
  {
   "cell_type": "code",
   "execution_count": null,
   "id": "a80a8fad-3bce-477a-a7ff-1222be370e69",
   "metadata": {},
   "outputs": [],
   "source": []
  },
  {
   "cell_type": "code",
   "execution_count": null,
   "id": "3480a781-edbc-4d15-9ef7-7a44f3dc5a2c",
   "metadata": {},
   "outputs": [],
   "source": []
  },
  {
   "cell_type": "code",
   "execution_count": null,
   "id": "9fd333ab-ef29-4ad7-bdf2-0dab0825de13",
   "metadata": {},
   "outputs": [],
   "source": []
  },
  {
   "cell_type": "code",
   "execution_count": null,
   "id": "c86242a5-e62c-4ffd-9593-ae6cf26800f2",
   "metadata": {},
   "outputs": [],
   "source": []
  },
  {
   "cell_type": "code",
   "execution_count": null,
   "id": "d8b5a9fc-8db8-43f4-b846-a21ce96e3ae0",
   "metadata": {},
   "outputs": [],
   "source": []
  },
  {
   "cell_type": "code",
   "execution_count": null,
   "id": "246c6b82-8342-470e-a66f-4455d1eba6c0",
   "metadata": {},
   "outputs": [],
   "source": []
  },
  {
   "cell_type": "code",
   "execution_count": null,
   "id": "986063da-1139-4c89-8706-8bdf8c34e75c",
   "metadata": {},
   "outputs": [],
   "source": []
  },
  {
   "cell_type": "code",
   "execution_count": null,
   "id": "c8bd4e9f-a86f-4026-9844-bc098daf5ba2",
   "metadata": {},
   "outputs": [],
   "source": []
  },
  {
   "cell_type": "code",
   "execution_count": null,
   "id": "e0e3f93e-f891-44e9-8a91-c3ea9b512a5b",
   "metadata": {},
   "outputs": [],
   "source": []
  },
  {
   "cell_type": "code",
   "execution_count": null,
   "id": "28db0c2c-4ba2-44db-aa5b-4122fb1ab039",
   "metadata": {},
   "outputs": [],
   "source": []
  },
  {
   "cell_type": "code",
   "execution_count": null,
   "id": "ab1ac681-3a8c-4ca5-8e7a-01247896ca5d",
   "metadata": {},
   "outputs": [],
   "source": []
  },
  {
   "cell_type": "code",
   "execution_count": null,
   "id": "80f0c782-29c7-400b-b3d3-df2a60cca79a",
   "metadata": {},
   "outputs": [],
   "source": []
  },
  {
   "cell_type": "code",
   "execution_count": null,
   "id": "3a5dcc78-480a-4886-9056-f60f1e03dbc9",
   "metadata": {},
   "outputs": [],
   "source": []
  },
  {
   "cell_type": "code",
   "execution_count": null,
   "id": "e6c0f8ca-819c-46c2-9a06-e0bc8946de51",
   "metadata": {},
   "outputs": [],
   "source": []
  },
  {
   "cell_type": "code",
   "execution_count": null,
   "id": "42190b78-bdee-4d8e-8257-7cee57ebd1c3",
   "metadata": {},
   "outputs": [],
   "source": []
  },
  {
   "cell_type": "code",
   "execution_count": null,
   "id": "c63d350d-0940-4d22-afdc-1f6676b99b33",
   "metadata": {},
   "outputs": [],
   "source": []
  },
  {
   "cell_type": "code",
   "execution_count": null,
   "id": "604b6c64-6f14-43f8-b0cd-e4aaa010fdea",
   "metadata": {},
   "outputs": [],
   "source": []
  },
  {
   "cell_type": "code",
   "execution_count": null,
   "id": "d0b3f87c-39f4-4c90-b78f-deca1eb053a3",
   "metadata": {},
   "outputs": [],
   "source": []
  },
  {
   "cell_type": "code",
   "execution_count": null,
   "id": "ce13d845-123f-48f4-9440-a18d11d76aa3",
   "metadata": {},
   "outputs": [],
   "source": []
  },
  {
   "cell_type": "code",
   "execution_count": null,
   "id": "c7f244a4-db4c-4425-952d-8e011c1132d4",
   "metadata": {},
   "outputs": [],
   "source": []
  },
  {
   "cell_type": "code",
   "execution_count": null,
   "id": "ef072550-04d6-4843-8333-b7d3d9772842",
   "metadata": {},
   "outputs": [],
   "source": []
  },
  {
   "cell_type": "code",
   "execution_count": null,
   "id": "d50ca097-c8df-4d46-bdfd-25f9525fbf6c",
   "metadata": {},
   "outputs": [],
   "source": []
  },
  {
   "cell_type": "code",
   "execution_count": null,
   "id": "f016ad90-31fd-4ceb-a1db-1f52a85e18e5",
   "metadata": {},
   "outputs": [],
   "source": []
  },
  {
   "cell_type": "code",
   "execution_count": null,
   "id": "9aff69ae-aa80-43c5-8663-69422f4ae153",
   "metadata": {},
   "outputs": [],
   "source": []
  },
  {
   "cell_type": "code",
   "execution_count": null,
   "id": "124e207c-f55c-4a73-9d52-8a2ee8355d9e",
   "metadata": {},
   "outputs": [],
   "source": []
  },
  {
   "cell_type": "code",
   "execution_count": null,
   "id": "2c0923c5-053c-4fb1-99ad-11cfd26229ff",
   "metadata": {},
   "outputs": [],
   "source": []
  },
  {
   "cell_type": "code",
   "execution_count": null,
   "id": "7bac1de2-2615-447a-9382-50e1e5e50188",
   "metadata": {},
   "outputs": [],
   "source": []
  },
  {
   "cell_type": "code",
   "execution_count": null,
   "id": "05319e45-a717-4943-beaf-d4f8878230d4",
   "metadata": {},
   "outputs": [],
   "source": []
  },
  {
   "cell_type": "code",
   "execution_count": null,
   "id": "da60aa1f-2299-4a48-9f4f-03b98aa903d1",
   "metadata": {},
   "outputs": [],
   "source": []
  },
  {
   "cell_type": "code",
   "execution_count": null,
   "id": "4e91879f-21a1-41a0-9b48-3d2ac8e8592f",
   "metadata": {},
   "outputs": [],
   "source": []
  },
  {
   "cell_type": "code",
   "execution_count": null,
   "id": "bb4edf66-5cea-4e8a-9552-eb13cf74379e",
   "metadata": {},
   "outputs": [],
   "source": []
  },
  {
   "cell_type": "code",
   "execution_count": null,
   "id": "8c959d0f-5324-4a6e-8f61-be95b2608b32",
   "metadata": {},
   "outputs": [],
   "source": []
  },
  {
   "cell_type": "code",
   "execution_count": null,
   "id": "38a353a3-695e-4990-b0a0-a4394f9b424a",
   "metadata": {},
   "outputs": [],
   "source": []
  }
 ],
 "metadata": {
  "kernelspec": {
   "display_name": "Python 3 (ipykernel)",
   "language": "python",
   "name": "python3"
  },
  "language_info": {
   "codemirror_mode": {
    "name": "ipython",
    "version": 3
   },
   "file_extension": ".py",
   "mimetype": "text/x-python",
   "name": "python",
   "nbconvert_exporter": "python",
   "pygments_lexer": "ipython3",
   "version": "3.12.4"
  }
 },
 "nbformat": 4,
 "nbformat_minor": 5
}
