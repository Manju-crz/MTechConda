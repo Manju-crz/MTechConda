{
 "cells": [
  {
   "cell_type": "code",
   "execution_count": 5,
   "id": "aa045b31-7725-4b3a-9840-ce9c8444f3d4",
   "metadata": {},
   "outputs": [
    {
     "name": "stdout",
     "output_type": "stream",
     "text": [
      "No Python documentation found for 'numpy.concatenation'.\n",
      "Use help() to get the interactive help utility.\n",
      "Use help(str) for help on the str class.\n",
      "\n"
     ]
    }
   ],
   "source": [
    "help(\"numpy.concatenation\")"
   ]
  },
  {
   "cell_type": "code",
   "execution_count": 7,
   "id": "9e74ed50-0222-4594-9a1c-2b64d6f212e6",
   "metadata": {},
   "outputs": [],
   "source": [
    "import numpy as np"
   ]
  },
  {
   "cell_type": "code",
   "execution_count": 9,
   "id": "f9ed5653-92aa-45bf-b8ae-ff13443030af",
   "metadata": {},
   "outputs": [],
   "source": [
    "np1 = np.arange(0,4)\n",
    "np2 = np.arange(4,8)"
   ]
  },
  {
   "cell_type": "code",
   "execution_count": 23,
   "id": "f0f307b1-0090-410f-9a3e-038c70a9bf61",
   "metadata": {},
   "outputs": [
    {
     "data": {
      "text/plain": [
       "array([[0, 1, 2, 3],\n",
       "       [4, 5, 6, 7]])"
      ]
     },
     "execution_count": 23,
     "metadata": {},
     "output_type": "execute_result"
    }
   ],
   "source": [
    "np3 = np.stack([np1, np2])\n",
    "np3"
   ]
  },
  {
   "cell_type": "code",
   "execution_count": null,
   "id": "8e1acb8a-9b2f-43fe-a198-bccf44e8e8eb",
   "metadata": {},
   "outputs": [],
   "source": []
  },
  {
   "cell_type": "code",
   "execution_count": 53,
   "id": "2287e23d-aade-4dfb-ac6d-f121df76ff0c",
   "metadata": {},
   "outputs": [],
   "source": [
    "np4 = np.arange(0,8).reshape(2,2,2)"
   ]
  },
  {
   "cell_type": "code",
   "execution_count": 55,
   "id": "ac48f800-cc0b-4556-b268-a38429a8c022",
   "metadata": {},
   "outputs": [
    {
     "data": {
      "text/plain": [
       "[array([[[0],\n",
       "         [2]],\n",
       " \n",
       "        [[4],\n",
       "         [6]]]),\n",
       " array([[[1],\n",
       "         [3]],\n",
       " \n",
       "        [[5],\n",
       "         [7]]])]"
      ]
     },
     "execution_count": 55,
     "metadata": {},
     "output_type": "execute_result"
    }
   ],
   "source": [
    "np.dsplit(np4,2)"
   ]
  },
  {
   "cell_type": "code",
   "execution_count": null,
   "id": "427492b1-6006-4467-a1a3-da4059251114",
   "metadata": {},
   "outputs": [],
   "source": []
  },
  {
   "cell_type": "code",
   "execution_count": null,
   "id": "bd301722-8769-4b50-84b3-b8049eece939",
   "metadata": {},
   "outputs": [],
   "source": []
  },
  {
   "cell_type": "code",
   "execution_count": null,
   "id": "cfbeab2a-f391-4abc-851a-a48fe8d56580",
   "metadata": {},
   "outputs": [],
   "source": []
  },
  {
   "cell_type": "code",
   "execution_count": null,
   "id": "ca76a12e-d257-4145-869a-c172293f81ce",
   "metadata": {},
   "outputs": [],
   "source": []
  },
  {
   "cell_type": "code",
   "execution_count": null,
   "id": "b6f4eef4-413e-4481-ad2c-66aec11b362c",
   "metadata": {},
   "outputs": [],
   "source": []
  },
  {
   "cell_type": "code",
   "execution_count": null,
   "id": "a3db0052-f00e-4667-a6ab-100c99a183be",
   "metadata": {},
   "outputs": [],
   "source": []
  },
  {
   "cell_type": "code",
   "execution_count": null,
   "id": "f0435c72-50d2-42f4-9046-3161c15c6979",
   "metadata": {},
   "outputs": [],
   "source": []
  },
  {
   "cell_type": "code",
   "execution_count": null,
   "id": "07356081-31c4-4b9e-bfee-916698f98cd5",
   "metadata": {},
   "outputs": [],
   "source": []
  },
  {
   "cell_type": "code",
   "execution_count": null,
   "id": "3bbaebb3-6994-4610-aa8c-8de6ddfcb30c",
   "metadata": {},
   "outputs": [],
   "source": []
  },
  {
   "cell_type": "code",
   "execution_count": null,
   "id": "c13b88bd-fcd2-4192-b543-3c58dd6ff269",
   "metadata": {},
   "outputs": [],
   "source": []
  },
  {
   "cell_type": "code",
   "execution_count": null,
   "id": "b47d7260-84e5-4725-b41b-ab8e4dcf2bf7",
   "metadata": {},
   "outputs": [],
   "source": []
  },
  {
   "cell_type": "code",
   "execution_count": null,
   "id": "20d3bade-17ca-4b53-b875-99acd7e2503c",
   "metadata": {},
   "outputs": [],
   "source": []
  },
  {
   "cell_type": "code",
   "execution_count": null,
   "id": "8fbfc348-4a89-4f45-aec9-3e02d31ee882",
   "metadata": {},
   "outputs": [],
   "source": []
  },
  {
   "cell_type": "code",
   "execution_count": null,
   "id": "52497097-613d-4c01-b0c7-0bb7d19217a8",
   "metadata": {},
   "outputs": [],
   "source": []
  },
  {
   "cell_type": "code",
   "execution_count": null,
   "id": "03e89cda-fe4a-4056-996d-3929d8809f27",
   "metadata": {},
   "outputs": [],
   "source": []
  },
  {
   "cell_type": "code",
   "execution_count": null,
   "id": "998dcae2-f5ef-47b0-bd9f-d3744ec3e53d",
   "metadata": {},
   "outputs": [],
   "source": []
  },
  {
   "cell_type": "code",
   "execution_count": null,
   "id": "80fea6d7-fc13-4135-833c-b50c27821a0e",
   "metadata": {},
   "outputs": [],
   "source": []
  },
  {
   "cell_type": "code",
   "execution_count": null,
   "id": "347ebca3-cadc-4743-b229-9a407338bf9c",
   "metadata": {},
   "outputs": [],
   "source": []
  }
 ],
 "metadata": {
  "kernelspec": {
   "display_name": "Python 3 (ipykernel)",
   "language": "python",
   "name": "python3"
  },
  "language_info": {
   "codemirror_mode": {
    "name": "ipython",
    "version": 3
   },
   "file_extension": ".py",
   "mimetype": "text/x-python",
   "name": "python",
   "nbconvert_exporter": "python",
   "pygments_lexer": "ipython3",
   "version": "3.12.4"
  }
 },
 "nbformat": 4,
 "nbformat_minor": 5
}
