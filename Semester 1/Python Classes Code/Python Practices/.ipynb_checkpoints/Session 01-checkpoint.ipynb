{
 "cells": [
  {
   "cell_type": "markdown",
   "id": "2c06397e-fecc-4a5e-a799-00b267868c1c",
   "metadata": {
    "jp-MarkdownHeadingCollapsed": true
   },
   "source": [
    "# Python Data types"
   ]
  },
  {
   "cell_type": "code",
   "execution_count": 2,
   "id": "aba249a8-bd3c-4fac-a4f0-0dc8c56c979d",
   "metadata": {},
   "outputs": [],
   "source": [
    "# String, Numerics, Boolean, None, Collection\n",
    "# Numerics - Integer, float, complex\n",
    "# Collection - List, Tuple, Dictionary, Set"
   ]
  },
  {
   "cell_type": "code",
   "execution_count": 4,
   "id": "ead3a9ee-2dd1-483a-8e3a-9a011c4344ec",
   "metadata": {},
   "outputs": [],
   "source": [
    "age = 28\n",
    "name = 'Manju'"
   ]
  },
  {
   "cell_type": "code",
   "execution_count": 6,
   "id": "8ab8f40d-a0e8-4f0f-bffc-639a7694be96",
   "metadata": {},
   "outputs": [],
   "source": [
    "flag = True"
   ]
  },
  {
   "cell_type": "code",
   "execution_count": 8,
   "id": "86a87ab3-849d-4850-bbe9-ab90aad1bc88",
   "metadata": {},
   "outputs": [
    {
     "data": {
      "text/plain": [
       "True"
      ]
     },
     "execution_count": 8,
     "metadata": {},
     "output_type": "execute_result"
    }
   ],
   "source": [
    "flag"
   ]
  },
  {
   "cell_type": "code",
   "execution_count": 10,
   "id": "18e13264-73fd-4087-8beb-7b00cc3ca302",
   "metadata": {},
   "outputs": [
    {
     "data": {
      "text/plain": [
       "28"
      ]
     },
     "execution_count": 10,
     "metadata": {},
     "output_type": "execute_result"
    }
   ],
   "source": [
    "age"
   ]
  },
  {
   "cell_type": "code",
   "execution_count": 12,
   "id": "4ae86c06-12bf-4e17-9525-a34c6240baa2",
   "metadata": {},
   "outputs": [
    {
     "data": {
      "text/plain": [
       "'Manju'"
      ]
     },
     "execution_count": 12,
     "metadata": {},
     "output_type": "execute_result"
    }
   ],
   "source": [
    "name"
   ]
  },
  {
   "cell_type": "code",
   "execution_count": 14,
   "id": "2959148c-c23e-491b-a613-3b97243e2530",
   "metadata": {},
   "outputs": [
    {
     "data": {
      "text/plain": [
       "bool"
      ]
     },
     "execution_count": 14,
     "metadata": {},
     "output_type": "execute_result"
    }
   ],
   "source": [
    "type(flag)"
   ]
  },
  {
   "cell_type": "code",
   "execution_count": 16,
   "id": "58288bed-83c1-4005-acb9-0961c6ccd32b",
   "metadata": {},
   "outputs": [
    {
     "data": {
      "text/plain": [
       "int"
      ]
     },
     "execution_count": 16,
     "metadata": {},
     "output_type": "execute_result"
    }
   ],
   "source": [
    "type(age)"
   ]
  },
  {
   "cell_type": "code",
   "execution_count": 18,
   "id": "a9c9d32b-9581-45b5-9000-0d6349c7fe20",
   "metadata": {},
   "outputs": [
    {
     "data": {
      "text/plain": [
       "str"
      ]
     },
     "execution_count": 18,
     "metadata": {},
     "output_type": "execute_result"
    }
   ],
   "source": [
    "type(name)"
   ]
  },
  {
   "cell_type": "code",
   "execution_count": 20,
   "id": "2762410c-70bf-4fdb-9adc-7dc43d67cbe9",
   "metadata": {},
   "outputs": [],
   "source": [
    "weight = 5.600"
   ]
  },
  {
   "cell_type": "code",
   "execution_count": 24,
   "id": "a001cd3e-aff3-4e60-b278-0064e79d8b72",
   "metadata": {},
   "outputs": [
    {
     "data": {
      "text/plain": [
       "5.6"
      ]
     },
     "execution_count": 24,
     "metadata": {},
     "output_type": "execute_result"
    }
   ],
   "source": [
    "weight"
   ]
  },
  {
   "cell_type": "code",
   "execution_count": 26,
   "id": "52fc948a-3c53-4738-b16e-62a7958058ae",
   "metadata": {},
   "outputs": [
    {
     "data": {
      "text/plain": [
       "float"
      ]
     },
     "execution_count": 26,
     "metadata": {},
     "output_type": "execute_result"
    }
   ],
   "source": [
    "type(weight)"
   ]
  },
  {
   "cell_type": "code",
   "execution_count": 28,
   "id": "59efee16-6f2a-470e-9938-336655da656d",
   "metadata": {},
   "outputs": [],
   "source": [
    "x = complex(2,3)"
   ]
  },
  {
   "cell_type": "code",
   "execution_count": 30,
   "id": "7b2280da-9716-4110-8506-48d59d014405",
   "metadata": {},
   "outputs": [
    {
     "data": {
      "text/plain": [
       "(2+3j)"
      ]
     },
     "execution_count": 30,
     "metadata": {},
     "output_type": "execute_result"
    }
   ],
   "source": [
    "x"
   ]
  },
  {
   "cell_type": "code",
   "execution_count": 32,
   "id": "1441a24b-f257-4dac-a324-adcde5eb999e",
   "metadata": {},
   "outputs": [],
   "source": [
    "y = complex(45)"
   ]
  },
  {
   "cell_type": "code",
   "execution_count": 34,
   "id": "550d2c6a-44b9-4865-b483-985d83208c56",
   "metadata": {},
   "outputs": [
    {
     "data": {
      "text/plain": [
       "(45+0j)"
      ]
     },
     "execution_count": 34,
     "metadata": {},
     "output_type": "execute_result"
    }
   ],
   "source": [
    "y"
   ]
  },
  {
   "cell_type": "code",
   "execution_count": 36,
   "id": "9cfbafc0-2b5c-4e8d-b384-f6c589a4f5b4",
   "metadata": {},
   "outputs": [
    {
     "data": {
      "text/plain": [
       "complex"
      ]
     },
     "execution_count": 36,
     "metadata": {},
     "output_type": "execute_result"
    }
   ],
   "source": [
    "type(x)"
   ]
  },
  {
   "cell_type": "markdown",
   "id": "40babf59-241d-45ff-92af-1c513d42adab",
   "metadata": {
    "jp-MarkdownHeadingCollapsed": true
   },
   "source": [
    "### Implicit and Explicit Conversion"
   ]
  },
  {
   "cell_type": "code",
   "execution_count": null,
   "id": "6661f1d8-3920-4232-ab52-cd964f18b13c",
   "metadata": {},
   "outputs": [],
   "source": []
  },
  {
   "cell_type": "code",
   "execution_count": 38,
   "id": "29c3ee7b-e3b4-4d6a-b73e-61731b246cfa",
   "metadata": {},
   "outputs": [],
   "source": [
    "a = 10"
   ]
  },
  {
   "cell_type": "code",
   "execution_count": 40,
   "id": "45007dcb-eb82-4720-a8fc-7b438cf029e4",
   "metadata": {},
   "outputs": [],
   "source": [
    "b=20.2343"
   ]
  },
  {
   "cell_type": "code",
   "execution_count": 42,
   "id": "e3aaa464-6c13-4da9-b69b-b6e0e3f2cdbb",
   "metadata": {},
   "outputs": [
    {
     "data": {
      "text/plain": [
       "30.2343"
      ]
     },
     "execution_count": 42,
     "metadata": {},
     "output_type": "execute_result"
    }
   ],
   "source": [
    "a+b"
   ]
  },
  {
   "cell_type": "code",
   "execution_count": 44,
   "id": "4037fa4c-7cab-4101-a3bc-48a08162d888",
   "metadata": {},
   "outputs": [
    {
     "name": "stdout",
     "output_type": "stream",
     "text": [
      "30.2343\n"
     ]
    }
   ],
   "source": [
    "c = a+b\n",
    "print(c)"
   ]
  },
  {
   "cell_type": "code",
   "execution_count": 46,
   "id": "cb0ade4d-1e7d-486d-8b11-630d8cc950d8",
   "metadata": {},
   "outputs": [
    {
     "data": {
      "text/plain": [
       "float"
      ]
     },
     "execution_count": 46,
     "metadata": {},
     "output_type": "execute_result"
    }
   ],
   "source": [
    "type(c)"
   ]
  },
  {
   "cell_type": "code",
   "execution_count": 59,
   "id": "d5228e9d-3ae0-4b90-9444-cb0d3dd352fb",
   "metadata": {},
   "outputs": [
    {
     "name": "stdout",
     "output_type": "stream",
     "text": [
      "118\n"
     ]
    }
   ],
   "source": [
    "price = 100\n",
    "gst = '18'\n",
    "total = price + int(gst)\n",
    "print(total)"
   ]
  },
  {
   "cell_type": "markdown",
   "id": "4638c686-ced1-44fb-a6c4-2613dfb4df49",
   "metadata": {
    "jp-MarkdownHeadingCollapsed": true
   },
   "source": [
    "### Type Casting"
   ]
  },
  {
   "cell_type": "code",
   "execution_count": null,
   "id": "5e4442f8-ba3e-437e-af43-e05d2ed9370a",
   "metadata": {},
   "outputs": [],
   "source": [
    "# int() float() str() bool()"
   ]
  },
  {
   "cell_type": "code",
   "execution_count": 62,
   "id": "bfb4f7fc-1edf-4411-8a8e-2be8af0a0b4b",
   "metadata": {},
   "outputs": [],
   "source": [
    "value = 23424.2342"
   ]
  },
  {
   "cell_type": "code",
   "execution_count": 64,
   "id": "3de2e41d-301b-4e98-a63e-092dfca15048",
   "metadata": {},
   "outputs": [
    {
     "data": {
      "text/plain": [
       "23424"
      ]
     },
     "execution_count": 64,
     "metadata": {},
     "output_type": "execute_result"
    }
   ],
   "source": [
    "int(value)"
   ]
  },
  {
   "cell_type": "code",
   "execution_count": 66,
   "id": "e57fc8d2-871e-47d7-beaa-55e70c2bebdb",
   "metadata": {},
   "outputs": [
    {
     "data": {
      "text/plain": [
       "28.0"
      ]
     },
     "execution_count": 66,
     "metadata": {},
     "output_type": "execute_result"
    }
   ],
   "source": [
    "age = 28\n",
    "float(age)"
   ]
  },
  {
   "cell_type": "code",
   "execution_count": 68,
   "id": "6703b02f-b844-4e76-9ad0-db3fcfc56868",
   "metadata": {},
   "outputs": [],
   "source": [
    "a = 0"
   ]
  },
  {
   "cell_type": "code",
   "execution_count": 70,
   "id": "992ce505-12de-46b9-a638-28212c87a224",
   "metadata": {},
   "outputs": [
    {
     "data": {
      "text/plain": [
       "False"
      ]
     },
     "execution_count": 70,
     "metadata": {},
     "output_type": "execute_result"
    }
   ],
   "source": [
    "bool(a)"
   ]
  },
  {
   "cell_type": "code",
   "execution_count": 72,
   "id": "1721b14b-e7a8-46e7-ae5d-2efc8dd71a40",
   "metadata": {},
   "outputs": [],
   "source": [
    "a = 'asd'"
   ]
  },
  {
   "cell_type": "code",
   "execution_count": 74,
   "id": "a6a9ed4a-9b6c-4569-9b01-3da61d1eb1f6",
   "metadata": {},
   "outputs": [
    {
     "data": {
      "text/plain": [
       "True"
      ]
     },
     "execution_count": 74,
     "metadata": {},
     "output_type": "execute_result"
    }
   ],
   "source": [
    "bool(a)"
   ]
  },
  {
   "cell_type": "code",
   "execution_count": 90,
   "id": "a9f0958a-a376-4e6e-8a15-dac1943ae0a6",
   "metadata": {},
   "outputs": [],
   "source": [
    "a = 'False'"
   ]
  },
  {
   "cell_type": "code",
   "execution_count": 92,
   "id": "733e28a0-93ca-40da-8e2c-8b14a8ad532f",
   "metadata": {},
   "outputs": [
    {
     "data": {
      "text/plain": [
       "str"
      ]
     },
     "execution_count": 92,
     "metadata": {},
     "output_type": "execute_result"
    }
   ],
   "source": [
    "type(a)"
   ]
  },
  {
   "cell_type": "code",
   "execution_count": 94,
   "id": "bc558f4d-15c9-4c8c-88e8-f13c2e90104d",
   "metadata": {},
   "outputs": [
    {
     "data": {
      "text/plain": [
       "True"
      ]
     },
     "execution_count": 94,
     "metadata": {},
     "output_type": "execute_result"
    }
   ],
   "source": [
    "bool(a)"
   ]
  },
  {
   "cell_type": "markdown",
   "id": "907dbb83-ace3-422b-9105-cf4557449d16",
   "metadata": {
    "jp-MarkdownHeadingCollapsed": true
   },
   "source": [
    "# Function"
   ]
  },
  {
   "cell_type": "code",
   "execution_count": null,
   "id": "1492010a-f1e5-4e35-8e37-cb3e0d611708",
   "metadata": {},
   "outputs": [],
   "source": [
    "# add(a,b)"
   ]
  },
  {
   "cell_type": "code",
   "execution_count": 97,
   "id": "e6186c6e-bc7a-4add-8de6-8c2a3ebd2f87",
   "metadata": {},
   "outputs": [
    {
     "name": "stdout",
     "output_type": "stream",
     "text": [
      "Hello World\n"
     ]
    }
   ],
   "source": [
    "print('Hello World')"
   ]
  },
  {
   "cell_type": "code",
   "execution_count": 99,
   "id": "68fa9e46-5b3c-4ae3-9fe2-c281139b2b47",
   "metadata": {},
   "outputs": [
    {
     "name": "stdout",
     "output_type": "stream",
     "text": [
      "Hi Manju\n"
     ]
    }
   ],
   "source": [
    "print('Hi', 'Manju')"
   ]
  },
  {
   "cell_type": "code",
   "execution_count": 101,
   "id": "e60774c2-6982-47dd-9c6f-671b19da66e3",
   "metadata": {},
   "outputs": [],
   "source": [
    "msg = 'Hi', 'Manju'"
   ]
  },
  {
   "cell_type": "code",
   "execution_count": 103,
   "id": "4e657a3d-4cc0-4ab6-9742-9625cf9a11d1",
   "metadata": {},
   "outputs": [
    {
     "data": {
      "text/plain": [
       "('Hi', 'Manju')"
      ]
     },
     "execution_count": 103,
     "metadata": {},
     "output_type": "execute_result"
    }
   ],
   "source": [
    "msg"
   ]
  },
  {
   "cell_type": "code",
   "execution_count": 111,
   "id": "5bd20b96-0e5e-40df-adc7-0bc8e846e58b",
   "metadata": {},
   "outputs": [
    {
     "name": "stdout",
     "output_type": "stream",
     "text": [
      "Hi Manju\n",
      "\n",
      "\n",
      "How are you?\n"
     ]
    }
   ],
   "source": [
    "print('Hi', 'Manju')\n",
    "print('\\n')\n",
    "print('How are you?')"
   ]
  },
  {
   "cell_type": "code",
   "execution_count": 127,
   "id": "2054265a-09a4-436c-9f26-9cbfb71e6dfa",
   "metadata": {},
   "outputs": [
    {
     "name": "stdout",
     "output_type": "stream",
     "text": [
      "Hi\n"
     ]
    }
   ],
   "source": [
    "print(\"Hi\")"
   ]
  },
  {
   "cell_type": "code",
   "execution_count": 131,
   "id": "d8327097-25f4-4d1b-acae-25037cb667e9",
   "metadata": {},
   "outputs": [
    {
     "name": "stdout",
     "output_type": "stream",
     "text": [
      "I am Manjunath, My age is 28\n"
     ]
    }
   ],
   "source": [
    "print('I am Manjunath, My age is', 28)"
   ]
  },
  {
   "cell_type": "code",
   "execution_count": 137,
   "id": "31a21119-5cdf-4c24-8f1b-0c592f691e64",
   "metadata": {},
   "outputs": [],
   "source": [
    "msg = 'Hi ' + 'Manju'"
   ]
  },
  {
   "cell_type": "code",
   "execution_count": 139,
   "id": "f726a145-db39-4840-a2c2-2c43182eda92",
   "metadata": {},
   "outputs": [
    {
     "data": {
      "text/plain": [
       "'Hi Manju'"
      ]
     },
     "execution_count": 139,
     "metadata": {},
     "output_type": "execute_result"
    }
   ],
   "source": [
    "msg"
   ]
  },
  {
   "cell_type": "code",
   "execution_count": 147,
   "id": "a4eac47d-4e2b-4ead-9b13-d065c83bd797",
   "metadata": {},
   "outputs": [],
   "source": [
    "msg = 'I am Manjunath, My age is ' + str(28)"
   ]
  },
  {
   "cell_type": "code",
   "execution_count": 232,
   "id": "e878506c-048d-472e-aba3-521dbd533eda",
   "metadata": {},
   "outputs": [
    {
     "data": {
      "text/plain": [
       "'I am Manjunath, My age is 28'"
      ]
     },
     "execution_count": 232,
     "metadata": {},
     "output_type": "execute_result"
    }
   ],
   "source": [
    "msg"
   ]
  },
  {
   "cell_type": "code",
   "execution_count": 234,
   "id": "a5451e54-fb14-49f5-8c53-c462f6af4405",
   "metadata": {},
   "outputs": [
    {
     "name": "stdin",
     "output_type": "stream",
     "text": [
      "What is your name? manju\n"
     ]
    },
    {
     "name": "stdout",
     "output_type": "stream",
     "text": [
      "Nice to meet you  manju\n"
     ]
    }
   ],
   "source": [
    "yourname = input(\"What is your name?\")\n",
    "print(\"Nice to meet you\", yourname)"
   ]
  },
  {
   "cell_type": "code",
   "execution_count": 236,
   "id": "317f8414-d381-41e9-bca6-a11dd5af664f",
   "metadata": {},
   "outputs": [
    {
     "name": "stdin",
     "output_type": "stream",
     "text": [
      "What is your age? 12\n"
     ]
    },
    {
     "name": "stdout",
     "output_type": "stream",
     "text": [
      "12\n"
     ]
    }
   ],
   "source": [
    "age = input(\"What is your age?\")\n",
    "print(age)"
   ]
  },
  {
   "cell_type": "code",
   "execution_count": 242,
   "id": "4b33855a-ccf0-4efb-b7a1-752d98c5f63c",
   "metadata": {},
   "outputs": [
    {
     "data": {
      "text/plain": [
       "13"
      ]
     },
     "execution_count": 242,
     "metadata": {},
     "output_type": "execute_result"
    }
   ],
   "source": [
    "int(age) + 1"
   ]
  },
  {
   "cell_type": "markdown",
   "id": "1fc5e079-46fa-4f7f-a385-954e7ade5f44",
   "metadata": {
    "jp-MarkdownHeadingCollapsed": true
   },
   "source": [
    "# Python operators"
   ]
  },
  {
   "cell_type": "code",
   "execution_count": null,
   "id": "bc1e4ee2-e8a2-4196-a1bf-08c4742c27d0",
   "metadata": {},
   "outputs": [],
   "source": [
    "# Arithmetic Operators : + , -, *, /, //, %, **\n",
    "# Relations operators : < , >, <=, >=, ==, !=\n",
    "# Logical operators : And, Or, Not\n",
    "# Special operators : in , not in\n",
    "# Bitwise operators : & , |\n",
    "# Assignment operators : += , -= , *= , /= , %= , **= , //="
   ]
  },
  {
   "cell_type": "code",
   "execution_count": 152,
   "id": "d6925dc5-9c84-4809-8648-2c759e52fe8c",
   "metadata": {},
   "outputs": [
    {
     "data": {
      "text/plain": [
       "5.0"
      ]
     },
     "execution_count": 152,
     "metadata": {},
     "output_type": "execute_result"
    }
   ],
   "source": [
    "a = 50\n",
    "b = 10\n",
    "\n",
    "a/b"
   ]
  },
  {
   "cell_type": "code",
   "execution_count": 154,
   "id": "1c7797d5-c4de-43fe-8365-105729888a97",
   "metadata": {},
   "outputs": [
    {
     "data": {
      "text/plain": [
       "0"
      ]
     },
     "execution_count": 154,
     "metadata": {},
     "output_type": "execute_result"
    }
   ],
   "source": [
    "a%b"
   ]
  },
  {
   "cell_type": "code",
   "execution_count": 160,
   "id": "3a257194-4c75-4ef5-b218-ee9e3e7b39e9",
   "metadata": {},
   "outputs": [
    {
     "data": {
      "text/plain": [
       "125"
      ]
     },
     "execution_count": 160,
     "metadata": {},
     "output_type": "execute_result"
    }
   ],
   "source": [
    "base = 5\n",
    "exponent = 3\n",
    "result = base ** exponent\n",
    "result"
   ]
  },
  {
   "cell_type": "code",
   "execution_count": 162,
   "id": "bdda0bd2-0e72-44cb-b236-9684dc4e2a55",
   "metadata": {
    "collapsed": true,
    "jupyter": {
     "outputs_hidden": true
    }
   },
   "outputs": [
    {
     "ename": "SyntaxError",
     "evalue": "cannot assign to literal here. Maybe you meant '==' instead of '='? (814398681.py, line 1)",
     "output_type": "error",
     "traceback": [
      "\u001b[1;36m  Cell \u001b[1;32mIn[162], line 1\u001b[1;36m\u001b[0m\n\u001b[1;33m    1 = 1\u001b[0m\n\u001b[1;37m    ^\u001b[0m\n\u001b[1;31mSyntaxError\u001b[0m\u001b[1;31m:\u001b[0m cannot assign to literal here. Maybe you meant '==' instead of '='?\n"
     ]
    }
   ],
   "source": [
    "1 = 1"
   ]
  },
  {
   "cell_type": "code",
   "execution_count": 164,
   "id": "86fab650-a2a7-4fa8-a195-621cb66c4796",
   "metadata": {},
   "outputs": [
    {
     "data": {
      "text/plain": [
       "True"
      ]
     },
     "execution_count": 164,
     "metadata": {},
     "output_type": "execute_result"
    }
   ],
   "source": [
    "1 == 1"
   ]
  },
  {
   "cell_type": "code",
   "execution_count": 166,
   "id": "e16686bd-2a58-4c47-913e-0c3ff234bb91",
   "metadata": {},
   "outputs": [],
   "source": [
    "base = exponent"
   ]
  },
  {
   "cell_type": "code",
   "execution_count": 168,
   "id": "a143c934-5742-40af-a60d-87dca97f7a7e",
   "metadata": {},
   "outputs": [
    {
     "data": {
      "text/plain": [
       "3"
      ]
     },
     "execution_count": 168,
     "metadata": {},
     "output_type": "execute_result"
    }
   ],
   "source": [
    "base"
   ]
  },
  {
   "cell_type": "code",
   "execution_count": 172,
   "id": "325a2ff1-5b08-46fb-8024-76edc5957a1c",
   "metadata": {},
   "outputs": [
    {
     "data": {
      "text/plain": [
       "False"
      ]
     },
     "execution_count": 172,
     "metadata": {},
     "output_type": "execute_result"
    }
   ],
   "source": [
    "base != exponent"
   ]
  },
  {
   "cell_type": "code",
   "execution_count": 174,
   "id": "61a54ce1-00c8-4786-8311-bc7f989b9164",
   "metadata": {},
   "outputs": [
    {
     "data": {
      "text/plain": [
       "5"
      ]
     },
     "execution_count": 174,
     "metadata": {},
     "output_type": "execute_result"
    }
   ],
   "source": [
    "a//b"
   ]
  },
  {
   "cell_type": "code",
   "execution_count": 176,
   "id": "876beb72-9ca2-4b48-905e-ed8efbd91817",
   "metadata": {},
   "outputs": [
    {
     "data": {
      "text/plain": [
       "5.0"
      ]
     },
     "execution_count": 176,
     "metadata": {},
     "output_type": "execute_result"
    }
   ],
   "source": [
    "a/b"
   ]
  },
  {
   "cell_type": "code",
   "execution_count": 178,
   "id": "6f4551f2-ee71-46ea-b325-324472864294",
   "metadata": {},
   "outputs": [
    {
     "data": {
      "text/plain": [
       "50"
      ]
     },
     "execution_count": 178,
     "metadata": {},
     "output_type": "execute_result"
    }
   ],
   "source": [
    "a"
   ]
  },
  {
   "cell_type": "code",
   "execution_count": 180,
   "id": "c3b7027b-2e29-4b73-a4d1-680318f46c38",
   "metadata": {},
   "outputs": [
    {
     "data": {
      "text/plain": [
       "10"
      ]
     },
     "execution_count": 180,
     "metadata": {},
     "output_type": "execute_result"
    }
   ],
   "source": [
    "b"
   ]
  },
  {
   "cell_type": "code",
   "execution_count": 182,
   "id": "84927868-2bc9-4405-b914-2bbed3e788e4",
   "metadata": {},
   "outputs": [
    {
     "data": {
      "text/plain": [
       "3"
      ]
     },
     "execution_count": 182,
     "metadata": {},
     "output_type": "execute_result"
    }
   ],
   "source": [
    "base"
   ]
  },
  {
   "cell_type": "code",
   "execution_count": 184,
   "id": "d058d0ba-a17b-483b-a6e9-78fc4eb7c45e",
   "metadata": {},
   "outputs": [
    {
     "data": {
      "text/plain": [
       "3"
      ]
     },
     "execution_count": 184,
     "metadata": {},
     "output_type": "execute_result"
    }
   ],
   "source": [
    "exponent"
   ]
  },
  {
   "cell_type": "code",
   "execution_count": 200,
   "id": "e57c09d9-86b6-4a38-b9df-1ce8db072140",
   "metadata": {},
   "outputs": [
    {
     "data": {
      "text/plain": [
       "True"
      ]
     },
     "execution_count": 200,
     "metadata": {},
     "output_type": "execute_result"
    }
   ],
   "source": [
    "not False"
   ]
  },
  {
   "cell_type": "code",
   "execution_count": 202,
   "id": "f74417d3-dbdb-44b7-a945-7d1f1d7a0791",
   "metadata": {},
   "outputs": [],
   "source": [
    "a = 10,20,30"
   ]
  },
  {
   "cell_type": "code",
   "execution_count": 204,
   "id": "71812cd8-5afa-44eb-92c0-9d71772d63a1",
   "metadata": {},
   "outputs": [
    {
     "data": {
      "text/plain": [
       "(10, 20, 30)"
      ]
     },
     "execution_count": 204,
     "metadata": {},
     "output_type": "execute_result"
    }
   ],
   "source": [
    "a"
   ]
  },
  {
   "cell_type": "code",
   "execution_count": 212,
   "id": "6dd963e8-2645-419b-bff6-d3451512a211",
   "metadata": {},
   "outputs": [
    {
     "data": {
      "text/plain": [
       "False"
      ]
     },
     "execution_count": 212,
     "metadata": {},
     "output_type": "execute_result"
    }
   ],
   "source": [
    "10 not in a"
   ]
  },
  {
   "cell_type": "code",
   "execution_count": null,
   "id": "648375f0-7fe4-497e-8e21-ad4f65ea7d48",
   "metadata": {},
   "outputs": [],
   "source": [
    "& - and ; | - or"
   ]
  },
  {
   "cell_type": "code",
   "execution_count": 216,
   "id": "79cdfd14-c6d9-4d7e-ad47-2250c3922e9d",
   "metadata": {},
   "outputs": [],
   "source": [
    "a=50"
   ]
  },
  {
   "cell_type": "code",
   "execution_count": 218,
   "id": "4613f1aa-907b-4292-a08b-7670e73034b6",
   "metadata": {},
   "outputs": [
    {
     "data": {
      "text/plain": [
       "True"
      ]
     },
     "execution_count": 218,
     "metadata": {},
     "output_type": "execute_result"
    }
   ],
   "source": [
    "(a>b) & (a>base)"
   ]
  },
  {
   "cell_type": "code",
   "execution_count": 220,
   "id": "3565bb6e-2250-4463-8272-1c7090721159",
   "metadata": {},
   "outputs": [],
   "source": [
    "a+=b"
   ]
  },
  {
   "cell_type": "code",
   "execution_count": 222,
   "id": "02f935a7-34ec-4a5f-b69d-3486a52ebbd3",
   "metadata": {},
   "outputs": [
    {
     "data": {
      "text/plain": [
       "60"
      ]
     },
     "execution_count": 222,
     "metadata": {},
     "output_type": "execute_result"
    }
   ],
   "source": [
    "a"
   ]
  },
  {
   "cell_type": "code",
   "execution_count": 224,
   "id": "b0eba69b-a877-44ae-a303-f255f405ae39",
   "metadata": {},
   "outputs": [],
   "source": [
    "a = 20\n",
    "b = 10\n",
    "a = a + b"
   ]
  },
  {
   "cell_type": "code",
   "execution_count": 226,
   "id": "5e85c547-382d-4778-a0e9-8623a1716689",
   "metadata": {},
   "outputs": [
    {
     "data": {
      "text/plain": [
       "30"
      ]
     },
     "execution_count": 226,
     "metadata": {},
     "output_type": "execute_result"
    }
   ],
   "source": [
    "a"
   ]
  },
  {
   "cell_type": "code",
   "execution_count": 230,
   "id": "36d4dbb2-fbdf-428c-b898-d187bf1f5d9f",
   "metadata": {},
   "outputs": [
    {
     "name": "stdout",
     "output_type": "stream",
     "text": [
      "11\n"
     ]
    }
   ],
   "source": [
    "a = 22\n",
    "b = 11\n",
    "a -= b\n",
    "print(a)"
   ]
  },
  {
   "cell_type": "markdown",
   "id": "a4cdd6ab-2a41-463a-ad4e-cd7f9ae4d15f",
   "metadata": {
    "jp-MarkdownHeadingCollapsed": true
   },
   "source": [
    "# Data Slicing"
   ]
  },
  {
   "cell_type": "code",
   "execution_count": 245,
   "id": "64cb5275-6921-49ba-bb0d-70925fef9c3d",
   "metadata": {},
   "outputs": [],
   "source": [
    "value = 'mkspratices'"
   ]
  },
  {
   "cell_type": "code",
   "execution_count": 247,
   "id": "c1f5f590-55bc-4f11-aae7-ed97fd42327b",
   "metadata": {},
   "outputs": [
    {
     "data": {
      "text/plain": [
       "'mks'"
      ]
     },
     "execution_count": 247,
     "metadata": {},
     "output_type": "execute_result"
    }
   ],
   "source": [
    "value[0:3]"
   ]
  },
  {
   "cell_type": "code",
   "execution_count": 249,
   "id": "9de1856f-4676-4e19-a589-634b61edc545",
   "metadata": {},
   "outputs": [
    {
     "data": {
      "text/plain": [
       "'mkspratices'"
      ]
     },
     "execution_count": 249,
     "metadata": {},
     "output_type": "execute_result"
    }
   ],
   "source": [
    "value[:]"
   ]
  },
  {
   "cell_type": "code",
   "execution_count": 261,
   "id": "458cfc71-811e-4b4b-8b8b-a4d08cac3e33",
   "metadata": {},
   "outputs": [
    {
     "data": {
      "text/plain": [
       "'msrt'"
      ]
     },
     "execution_count": 261,
     "metadata": {},
     "output_type": "execute_result"
    }
   ],
   "source": [
    "value[0:7:2]"
   ]
  },
  {
   "cell_type": "code",
   "execution_count": 263,
   "id": "ba6623de-2835-41da-afae-ec5c561b595e",
   "metadata": {},
   "outputs": [
    {
     "data": {
      "text/plain": [
       "'p'"
      ]
     },
     "execution_count": 263,
     "metadata": {},
     "output_type": "execute_result"
    }
   ],
   "source": [
    "value[3]"
   ]
  },
  {
   "cell_type": "code",
   "execution_count": 273,
   "id": "6c8b8b38-3b25-4a78-8fb1-ccccdf4a0183",
   "metadata": {},
   "outputs": [],
   "source": [
    "value = 'Ihavebeenpractingpythontodayfromearylmorning'"
   ]
  },
  {
   "cell_type": "code",
   "execution_count": 275,
   "id": "8f95507e-9eb9-4382-999b-8916810d93dd",
   "metadata": {},
   "outputs": [
    {
     "data": {
      "text/plain": [
       "44"
      ]
     },
     "execution_count": 275,
     "metadata": {},
     "output_type": "execute_result"
    }
   ],
   "source": [
    "len(value)"
   ]
  },
  {
   "cell_type": "code",
   "execution_count": 287,
   "id": "83d6a438-a315-4b59-bf5b-fe516fda5796",
   "metadata": {},
   "outputs": [
    {
     "data": {
      "text/plain": [
       "'hygicrnee'"
      ]
     },
     "execution_count": 287,
     "metadata": {},
     "output_type": "execute_result"
    }
   ],
   "source": [
    "value[20:2:-2]"
   ]
  },
  {
   "cell_type": "code",
   "execution_count": 291,
   "id": "f90d2f20-24f8-44be-85ca-8f10893e0f4f",
   "metadata": {},
   "outputs": [
    {
     "data": {
      "text/plain": [
       "'gninromylraemorfyadotnohtypgnitcarpneebevahI'"
      ]
     },
     "execution_count": 291,
     "metadata": {},
     "output_type": "execute_result"
    }
   ],
   "source": [
    "value[::-1]"
   ]
  },
  {
   "cell_type": "code",
   "execution_count": 295,
   "id": "8299c8cf-0595-4d0e-977d-b78480ab5e3c",
   "metadata": {},
   "outputs": [
    {
     "data": {
      "text/plain": [
       "'rlymorni'"
      ]
     },
     "execution_count": 295,
     "metadata": {},
     "output_type": "execute_result"
    }
   ],
   "source": [
    "value[-10:-2]"
   ]
  },
  {
   "cell_type": "code",
   "execution_count": 303,
   "id": "1aaa78b7-324d-4556-a189-e0ba16ec33e1",
   "metadata": {},
   "outputs": [],
   "source": [
    "value = 'I have been practing python today from early morning'"
   ]
  },
  {
   "cell_type": "code",
   "execution_count": 311,
   "id": "056e9b5a-0380-4cad-a497-4f4763f3ce29",
   "metadata": {},
   "outputs": [],
   "source": [
    "value = value.replace('early morning', 'mid day')"
   ]
  },
  {
   "cell_type": "code",
   "execution_count": 313,
   "id": "9e3d0c61-6d54-4cd1-9384-5e6cfbe39d01",
   "metadata": {},
   "outputs": [
    {
     "data": {
      "text/plain": [
       "'I have been practing python today from mid day'"
      ]
     },
     "execution_count": 313,
     "metadata": {},
     "output_type": "execute_result"
    }
   ],
   "source": [
    "value"
   ]
  },
  {
   "cell_type": "code",
   "execution_count": 315,
   "id": "29bd7623-9e3d-4718-a940-01f298790495",
   "metadata": {},
   "outputs": [
    {
     "data": {
      "text/plain": [
       "'I HAVE BEEN PRACTING PYTHON TODAY FROM MID DAY'"
      ]
     },
     "execution_count": 315,
     "metadata": {},
     "output_type": "execute_result"
    }
   ],
   "source": [
    "value.upper()"
   ]
  },
  {
   "cell_type": "code",
   "execution_count": 317,
   "id": "8a9eb0fd-6d98-40db-8966-86e1d1b5301b",
   "metadata": {},
   "outputs": [
    {
     "data": {
      "text/plain": [
       "'i have been practing python today from mid day'"
      ]
     },
     "execution_count": 317,
     "metadata": {},
     "output_type": "execute_result"
    }
   ],
   "source": [
    "value.lower()"
   ]
  },
  {
   "cell_type": "code",
   "execution_count": 319,
   "id": "46e7ecb4-6138-4ec3-9d36-dae6cb5a6576",
   "metadata": {},
   "outputs": [
    {
     "data": {
      "text/plain": [
       "'I have been practing python today from mid day'"
      ]
     },
     "execution_count": 319,
     "metadata": {},
     "output_type": "execute_result"
    }
   ],
   "source": [
    "value"
   ]
  },
  {
   "cell_type": "code",
   "execution_count": 321,
   "id": "d6e1c267-4d09-4b6c-8441-fab411cc41db",
   "metadata": {},
   "outputs": [],
   "source": [
    "value = 'I have been practing python today from early morning'"
   ]
  },
  {
   "cell_type": "code",
   "execution_count": 323,
   "id": "ddbc22cb-babf-4199-8f20-35f14f69f573",
   "metadata": {},
   "outputs": [
    {
     "data": {
      "text/plain": [
       "'I Have Been Practing Python Today From Early Morning'"
      ]
     },
     "execution_count": 323,
     "metadata": {},
     "output_type": "execute_result"
    }
   ],
   "source": [
    "value.title()"
   ]
  },
  {
   "cell_type": "code",
   "execution_count": 325,
   "id": "7dedd8c2-d287-4fcd-89c0-c7dec8ccf360",
   "metadata": {},
   "outputs": [
    {
     "data": {
      "text/plain": [
       "'10-08-2024'"
      ]
     },
     "execution_count": 325,
     "metadata": {},
     "output_type": "execute_result"
    }
   ],
   "source": [
    "todaydate = \"10\", \"08\", \"2024\"\n",
    "sep = '-'\n",
    "sep.join(todaydate)"
   ]
  },
  {
   "cell_type": "code",
   "execution_count": 327,
   "id": "4972ff14-0980-4dce-a6bf-34c3fefbe0c6",
   "metadata": {},
   "outputs": [
    {
     "data": {
      "text/plain": [
       "['I',\n",
       " 'have',\n",
       " 'been',\n",
       " 'practing',\n",
       " 'python',\n",
       " 'today',\n",
       " 'from',\n",
       " 'early',\n",
       " 'morning']"
      ]
     },
     "execution_count": 327,
     "metadata": {},
     "output_type": "execute_result"
    }
   ],
   "source": [
    "value.split(' ')"
   ]
  },
  {
   "cell_type": "code",
   "execution_count": 329,
   "id": "7091d499-87c2-422d-86f0-da73a7cceb67",
   "metadata": {},
   "outputs": [
    {
     "data": {
      "text/plain": [
       "'asdaed asdasd'"
      ]
     },
     "execution_count": 329,
     "metadata": {},
     "output_type": "execute_result"
    }
   ],
   "source": [
    "value = \"**asdaed asdasd***\"\n",
    "value.strip(\"*\")"
   ]
  },
  {
   "cell_type": "markdown",
   "id": "7496317a-2622-4829-91c0-5ad1bf58042e",
   "metadata": {
    "jp-MarkdownHeadingCollapsed": true
   },
   "source": [
    "# Python Control flow"
   ]
  },
  {
   "cell_type": "code",
   "execution_count": null,
   "id": "0f1ff5b8-7dd3-4998-8ae3-725729ab8429",
   "metadata": {},
   "outputs": [],
   "source": [
    "# Conditional statements - if -elif \n",
    "# Loops - for while\n",
    "# Function calls"
   ]
  },
  {
   "cell_type": "code",
   "execution_count": 348,
   "id": "09e90095-ca9f-4d23-8379-a7d169cd241f",
   "metadata": {},
   "outputs": [
    {
     "name": "stdout",
     "output_type": "stream",
     "text": [
      "Senior citizen\n"
     ]
    }
   ],
   "source": [
    "age = 61\n",
    "\n",
    "if(age<18) :\n",
    "    print(\"Junior\")\n",
    "elif (age>=18 and age <35) :\n",
    "    print(\"Youth\")\n",
    "elif (age>=35 and age <60) :\n",
    "    print(\"Middle age\")\n",
    "else :\n",
    "    print(\"Senior citizen\")\n"
   ]
  },
  {
   "cell_type": "code",
   "execution_count": null,
   "id": "84aae7d0-e883-45c3-8366-c9b50cfb2f82",
   "metadata": {},
   "outputs": [],
   "source": []
  },
  {
   "cell_type": "code",
   "execution_count": 364,
   "id": "158b5413-11f8-421c-ab1f-9debf7a1e19c",
   "metadata": {},
   "outputs": [
    {
     "name": "stdout",
     "output_type": "stream",
     "text": [
      "2\n",
      "4\n",
      "6\n",
      "8\n",
      "10\n",
      "12\n",
      "14\n",
      "16\n",
      "18\n",
      "20\n",
      "I value is 11\n"
     ]
    }
   ],
   "source": [
    "\n",
    "n = 2\n",
    "i = 1\n",
    "while(i<=10) :\n",
    "    r = n * i\n",
    "    print(r)\n",
    "    i += 1\n",
    "\n",
    "print(\"I value is\", i)"
   ]
  },
  {
   "cell_type": "code",
   "execution_count": 368,
   "id": "c5c351bf-a376-4c05-8543-0a43a20c15f8",
   "metadata": {},
   "outputs": [],
   "source": [
    "n = range(0,10)"
   ]
  },
  {
   "cell_type": "code",
   "execution_count": 370,
   "id": "90bbc2f7-e0c7-4898-87de-52395b86fb2e",
   "metadata": {},
   "outputs": [
    {
     "data": {
      "text/plain": [
       "range(0, 10)"
      ]
     },
     "execution_count": 370,
     "metadata": {},
     "output_type": "execute_result"
    }
   ],
   "source": [
    "n"
   ]
  },
  {
   "cell_type": "code",
   "execution_count": 374,
   "id": "40516786-3955-4e22-8837-970071c2e9e3",
   "metadata": {},
   "outputs": [
    {
     "name": "stdout",
     "output_type": "stream",
     "text": [
      "0\n",
      "1\n",
      "2\n",
      "3\n",
      "4\n",
      "5\n",
      "6\n",
      "7\n",
      "8\n",
      "9\n",
      "45\n"
     ]
    }
   ],
   "source": [
    "sum = 0\n",
    "for i in n :\n",
    "    print(i)\n",
    "    sum = sum + i\n",
    "print(sum)\n"
   ]
  },
  {
   "cell_type": "code",
   "execution_count": 376,
   "id": "57bc14e3-1560-4ebd-91a6-1d5385e43d3e",
   "metadata": {},
   "outputs": [
    {
     "data": {
      "text/plain": [
       "range(1, 10)"
      ]
     },
     "execution_count": 376,
     "metadata": {},
     "output_type": "execute_result"
    }
   ],
   "source": [
    "range(1, 10)"
   ]
  },
  {
   "cell_type": "code",
   "execution_count": 384,
   "id": "d5707148-7501-4bed-9a67-b29fca108892",
   "metadata": {},
   "outputs": [
    {
     "name": "stdout",
     "output_type": "stream",
     "text": [
      "25\n",
      "36\n",
      "49\n",
      "64\n",
      "81\n"
     ]
    }
   ],
   "source": [
    "n = range(5, 10)\n",
    "for i in n :\n",
    "    print(i*i)"
   ]
  },
  {
   "cell_type": "markdown",
   "id": "490c466b-d591-4f8b-89d5-9b5550acc19b",
   "metadata": {
    "jp-MarkdownHeadingCollapsed": true
   },
   "source": [
    "# Collection Objects"
   ]
  },
  {
   "cell_type": "code",
   "execution_count": null,
   "id": "42c9b0f6-336d-4ef1-9938-09722bbfeb40",
   "metadata": {},
   "outputs": [],
   "source": [
    "# List , Tuple , Set , Dictionary"
   ]
  },
  {
   "cell_type": "markdown",
   "id": "c803c11c-37cf-45e1-b9e3-4c016a0413c3",
   "metadata": {
    "jp-MarkdownHeadingCollapsed": true
   },
   "source": [
    "## List"
   ]
  },
  {
   "cell_type": "code",
   "execution_count": null,
   "id": "f306aa9d-af73-48ec-9815-6a2c30f69885",
   "metadata": {},
   "outputs": [],
   "source": []
  },
  {
   "cell_type": "code",
   "execution_count": 394,
   "id": "3cbceca7-e361-4ed8-a2b6-6fb86dffc2c5",
   "metadata": {},
   "outputs": [
    {
     "name": "stdout",
     "output_type": "stream",
     "text": [
      "2\n"
     ]
    }
   ],
   "source": [
    "n = range(1,20)\n",
    "print(n[1])"
   ]
  },
  {
   "cell_type": "code",
   "execution_count": 398,
   "id": "74b65825-e2ae-4438-9aaf-2d6566d67884",
   "metadata": {},
   "outputs": [
    {
     "data": {
      "text/plain": [
       "['Karntataka', 'Kerala', 'Maharashtra']"
      ]
     },
     "execution_count": 398,
     "metadata": {},
     "output_type": "execute_result"
    }
   ],
   "source": [
    "states = [\"Karntataka\", \"Kerala\", \"Maharashtra\"]\n",
    "states"
   ]
  },
  {
   "cell_type": "code",
   "execution_count": 400,
   "id": "31b8a6fe-b259-41d9-91f6-351d127a4fc7",
   "metadata": {},
   "outputs": [
    {
     "data": {
      "text/plain": [
       "'Karntataka'"
      ]
     },
     "execution_count": 400,
     "metadata": {},
     "output_type": "execute_result"
    }
   ],
   "source": [
    "states[0]"
   ]
  },
  {
   "cell_type": "code",
   "execution_count": 402,
   "id": "5b495fde-2f89-4489-8a94-2f6bb28695be",
   "metadata": {},
   "outputs": [
    {
     "data": {
      "text/plain": [
       "'Kerala'"
      ]
     },
     "execution_count": 402,
     "metadata": {},
     "output_type": "execute_result"
    }
   ],
   "source": [
    "states[1]"
   ]
  },
  {
   "cell_type": "code",
   "execution_count": 404,
   "id": "6bbbb005-6593-4d20-b292-f214562389db",
   "metadata": {},
   "outputs": [
    {
     "data": {
      "text/plain": [
       "'Maharashtra'"
      ]
     },
     "execution_count": 404,
     "metadata": {},
     "output_type": "execute_result"
    }
   ],
   "source": [
    "states[2]"
   ]
  },
  {
   "cell_type": "code",
   "execution_count": 408,
   "id": "b9004a1e-4771-43e2-a8cc-af64b94531f7",
   "metadata": {},
   "outputs": [],
   "source": [
    "states1 = [\"Karnataka\", \"Kerala\", \"Maharashtra\"]\n",
    "states2 = [\"Punjab\", \"Gujarath\", \"Rajasthan\"]"
   ]
  },
  {
   "cell_type": "code",
   "execution_count": 410,
   "id": "0dab74c4-66bf-4c60-b078-20dc6e6a0761",
   "metadata": {},
   "outputs": [
    {
     "data": {
      "text/plain": [
       "['Karnataka', 'Kerala', 'Maharashtra']"
      ]
     },
     "execution_count": 410,
     "metadata": {},
     "output_type": "execute_result"
    }
   ],
   "source": [
    "states1"
   ]
  },
  {
   "cell_type": "code",
   "execution_count": 412,
   "id": "16316fd7-db09-443b-895d-7edc8846fe0b",
   "metadata": {},
   "outputs": [
    {
     "data": {
      "text/plain": [
       "['Punjab', 'Gujarath', 'Rajasthan']"
      ]
     },
     "execution_count": 412,
     "metadata": {},
     "output_type": "execute_result"
    }
   ],
   "source": [
    "states2"
   ]
  },
  {
   "cell_type": "code",
   "execution_count": 414,
   "id": "b70ee905-f09e-48b4-a752-c58abe89c5c8",
   "metadata": {},
   "outputs": [
    {
     "name": "stdout",
     "output_type": "stream",
     "text": [
      "['Karnataka', 'Kerala', 'Maharashtra', 'Punjab', 'Gujarath', 'Rajasthan']\n"
     ]
    }
   ],
   "source": [
    "print(states1 + states2)"
   ]
  },
  {
   "cell_type": "code",
   "execution_count": 416,
   "id": "13bbbe50-f630-4eaf-9f32-81d51f3c6a0d",
   "metadata": {},
   "outputs": [
    {
     "data": {
      "text/plain": [
       "['Karnataka', 'Kerala', 'Maharashtra', 'Punjab', 'Gujarath', 'Rajasthan']"
      ]
     },
     "execution_count": 416,
     "metadata": {},
     "output_type": "execute_result"
    }
   ],
   "source": [
    "consolidatedStates = states1 + states2\n",
    "consolidatedStates"
   ]
  },
  {
   "cell_type": "code",
   "execution_count": 418,
   "id": "a61c919c-0541-4bdf-bf70-6bdd1347a028",
   "metadata": {},
   "outputs": [
    {
     "name": "stdout",
     "output_type": "stream",
     "text": [
      "[12, 2313, 324, 443, 435, 4356, 23, 65]\n"
     ]
    }
   ],
   "source": [
    "n1 = [12,2313,324,443]\n",
    "n2 = [435,4356,23,65]\n",
    "print(n1+n2)"
   ]
  },
  {
   "cell_type": "code",
   "execution_count": 420,
   "id": "930bc3e6-e894-45d7-9a2d-8a733ab452b9",
   "metadata": {},
   "outputs": [],
   "source": [
    "n1.sort()"
   ]
  },
  {
   "cell_type": "code",
   "execution_count": 422,
   "id": "565f723a-f0c8-468d-9f1a-6e500093a92c",
   "metadata": {},
   "outputs": [
    {
     "data": {
      "text/plain": [
       "[12, 324, 443, 2313]"
      ]
     },
     "execution_count": 422,
     "metadata": {},
     "output_type": "execute_result"
    }
   ],
   "source": [
    "n1"
   ]
  },
  {
   "cell_type": "code",
   "execution_count": 424,
   "id": "f30da7f3-d688-4ee4-9383-bcf0e91dff4b",
   "metadata": {},
   "outputs": [],
   "source": [
    "states2.sort()"
   ]
  },
  {
   "cell_type": "code",
   "execution_count": 426,
   "id": "a787c1bc-b4da-425f-a297-43c4f05025db",
   "metadata": {},
   "outputs": [
    {
     "data": {
      "text/plain": [
       "['Gujarath', 'Punjab', 'Rajasthan']"
      ]
     },
     "execution_count": 426,
     "metadata": {},
     "output_type": "execute_result"
    }
   ],
   "source": [
    "states2"
   ]
  },
  {
   "cell_type": "code",
   "execution_count": 438,
   "id": "ab117a44-236d-4b05-a509-5ac3585b68f1",
   "metadata": {},
   "outputs": [
    {
     "data": {
      "text/plain": [
       "['Maharashtra', 'Kerala', 'Karnataka']"
      ]
     },
     "execution_count": 438,
     "metadata": {},
     "output_type": "execute_result"
    }
   ],
   "source": [
    "sortedStates1 = sorted(states1, reverse = True)\n",
    "sortedStates1"
   ]
  },
  {
   "cell_type": "code",
   "execution_count": 434,
   "id": "605cae57-9021-4555-ac06-54c38fc7f47c",
   "metadata": {},
   "outputs": [
    {
     "data": {
      "text/plain": [
       "['Gujarath', 'Punjab', 'Rajasthan']"
      ]
     },
     "execution_count": 434,
     "metadata": {},
     "output_type": "execute_result"
    }
   ],
   "source": [
    "sortedStates2"
   ]
  },
  {
   "cell_type": "code",
   "execution_count": 440,
   "id": "77510007-50ee-4778-8e12-c39add2cbed7",
   "metadata": {},
   "outputs": [
    {
     "data": {
      "text/plain": [
       "[12, 324, 443, 2313]"
      ]
     },
     "execution_count": 440,
     "metadata": {},
     "output_type": "execute_result"
    }
   ],
   "source": [
    "n1"
   ]
  },
  {
   "cell_type": "code",
   "execution_count": 442,
   "id": "b1e183e5-5025-46fc-8780-88c71b499aa2",
   "metadata": {},
   "outputs": [
    {
     "name": "stdout",
     "output_type": "stream",
     "text": [
      "False\n"
     ]
    }
   ],
   "source": [
    "print(10 in n1)"
   ]
  },
  {
   "cell_type": "code",
   "execution_count": 448,
   "id": "83744971-8135-49e5-a310-1cd4ef9455f2",
   "metadata": {},
   "outputs": [
    {
     "name": "stdout",
     "output_type": "stream",
     "text": [
      "[12, 324, 443, 2313]\n",
      "[12, 324, 443, 2313]\n",
      "[12, 324, 443, 2313]\n",
      "[12, 324, 443, 2313]\n"
     ]
    }
   ],
   "source": [
    "for i in n1 :\n",
    "    print(n1)"
   ]
  },
  {
   "cell_type": "code",
   "execution_count": 450,
   "id": "2f2e4acb-74e0-468d-a435-2892479b73fc",
   "metadata": {},
   "outputs": [
    {
     "data": {
      "text/plain": [
       "2313"
      ]
     },
     "execution_count": 450,
     "metadata": {},
     "output_type": "execute_result"
    }
   ],
   "source": [
    "max(n1)"
   ]
  },
  {
   "cell_type": "code",
   "execution_count": 452,
   "id": "a4a7cd22-9783-4d54-8b3e-49864f83c744",
   "metadata": {},
   "outputs": [
    {
     "data": {
      "text/plain": [
       "12"
      ]
     },
     "execution_count": 452,
     "metadata": {},
     "output_type": "execute_result"
    }
   ],
   "source": [
    "min(n1)"
   ]
  },
  {
   "cell_type": "code",
   "execution_count": 454,
   "id": "4ce2c68d-560e-461b-baea-3a61f6ff3c80",
   "metadata": {},
   "outputs": [
    {
     "data": {
      "text/plain": [
       "4"
      ]
     },
     "execution_count": 454,
     "metadata": {},
     "output_type": "execute_result"
    }
   ],
   "source": [
    "len(n1)"
   ]
  },
  {
   "cell_type": "code",
   "execution_count": 462,
   "id": "47617a7b-d8fd-4165-bd1d-27273cb868d1",
   "metadata": {},
   "outputs": [
    {
     "data": {
      "text/plain": [
       "list"
      ]
     },
     "execution_count": 462,
     "metadata": {},
     "output_type": "execute_result"
    }
   ],
   "source": [
    "str1 = \"mkspractices\"\n",
    "c1 = list(str1)\n",
    "type(c1)"
   ]
  },
  {
   "cell_type": "code",
   "execution_count": 464,
   "id": "fe505cd3-ec56-461e-8ab2-68ab43b8954f",
   "metadata": {},
   "outputs": [],
   "source": [
    "c1.append('x')"
   ]
  },
  {
   "cell_type": "code",
   "execution_count": 466,
   "id": "8165d4eb-c408-4f39-a6d6-e42250b02951",
   "metadata": {},
   "outputs": [
    {
     "data": {
      "text/plain": [
       "['m', 'k', 's', 'p', 'r', 'a', 'c', 't', 'i', 'c', 'e', 's', 'x']"
      ]
     },
     "execution_count": 466,
     "metadata": {},
     "output_type": "execute_result"
    }
   ],
   "source": [
    "c1"
   ]
  },
  {
   "cell_type": "code",
   "execution_count": 468,
   "id": "34f954ab-70d3-414d-954c-ac88fd757b32",
   "metadata": {},
   "outputs": [],
   "source": [
    "c1.clear()"
   ]
  },
  {
   "cell_type": "code",
   "execution_count": 474,
   "id": "9548d60e-72f4-49ca-8594-ae0dbf773f2b",
   "metadata": {},
   "outputs": [
    {
     "data": {
      "text/plain": [
       "['m', 'k', 's', 'p', 'r', 'a', 'c', 't', 'i', 'c', 'e', 's']"
      ]
     },
     "execution_count": 474,
     "metadata": {},
     "output_type": "execute_result"
    }
   ],
   "source": [
    "str1 = \"mkspractices\"\n",
    "c1 = list(str1)\n",
    "c1"
   ]
  },
  {
   "cell_type": "code",
   "execution_count": 478,
   "id": "78e1b8f3-2291-4d26-b42f-d400f0f6a3e1",
   "metadata": {},
   "outputs": [
    {
     "data": {
      "text/plain": [
       "2"
      ]
     },
     "execution_count": 478,
     "metadata": {},
     "output_type": "execute_result"
    }
   ],
   "source": [
    "c1.count('s')"
   ]
  },
  {
   "cell_type": "code",
   "execution_count": 480,
   "id": "1e049801-9a45-4578-9231-fc03223cc527",
   "metadata": {},
   "outputs": [
    {
     "data": {
      "text/plain": [
       "[12, 324, 443, 2313]"
      ]
     },
     "execution_count": 480,
     "metadata": {},
     "output_type": "execute_result"
    }
   ],
   "source": [
    "n1"
   ]
  },
  {
   "cell_type": "code",
   "execution_count": 482,
   "id": "f187aadd-4fd3-406c-86c0-e469304c6d39",
   "metadata": {},
   "outputs": [
    {
     "data": {
      "text/plain": [
       "[435, 4356, 23, 65]"
      ]
     },
     "execution_count": 482,
     "metadata": {},
     "output_type": "execute_result"
    }
   ],
   "source": [
    "n2"
   ]
  },
  {
   "cell_type": "code",
   "execution_count": 484,
   "id": "74d9cf6e-6324-41a0-9625-2acbb97f2001",
   "metadata": {},
   "outputs": [],
   "source": [
    "n1.extend(n2)"
   ]
  },
  {
   "cell_type": "code",
   "execution_count": 486,
   "id": "26e7cb58-8417-4854-aa3e-4142112ed1b5",
   "metadata": {},
   "outputs": [
    {
     "data": {
      "text/plain": [
       "[12, 324, 443, 2313, 435, 4356, 23, 65]"
      ]
     },
     "execution_count": 486,
     "metadata": {},
     "output_type": "execute_result"
    }
   ],
   "source": [
    "n1"
   ]
  },
  {
   "cell_type": "code",
   "execution_count": 488,
   "id": "ab86114d-0217-4ecc-bb51-5627f5dee7cc",
   "metadata": {},
   "outputs": [
    {
     "data": {
      "text/plain": [
       "3"
      ]
     },
     "execution_count": 488,
     "metadata": {},
     "output_type": "execute_result"
    }
   ],
   "source": [
    "n1.index(2313)"
   ]
  },
  {
   "cell_type": "code",
   "execution_count": 494,
   "id": "d36bbae2-3b0a-4783-8764-6e14186da6b8",
   "metadata": {},
   "outputs": [],
   "source": [
    "n1.insert(2, 10)"
   ]
  },
  {
   "cell_type": "code",
   "execution_count": 496,
   "id": "26d8829d-1daa-4b6d-803c-01bc558af687",
   "metadata": {},
   "outputs": [
    {
     "data": {
      "text/plain": [
       "[12, 324, 10, 443, 2313, 435, 4356, 23, 65]"
      ]
     },
     "execution_count": 496,
     "metadata": {},
     "output_type": "execute_result"
    }
   ],
   "source": [
    "n1"
   ]
  },
  {
   "cell_type": "code",
   "execution_count": 502,
   "id": "786bb9dc-7cbb-4b00-ad16-adfd54ccc25e",
   "metadata": {},
   "outputs": [
    {
     "data": {
      "text/plain": [
       "65"
      ]
     },
     "execution_count": 502,
     "metadata": {},
     "output_type": "execute_result"
    }
   ],
   "source": [
    "n1.pop()"
   ]
  },
  {
   "cell_type": "code",
   "execution_count": 504,
   "id": "ffd74d0f-fe79-43be-8e22-79a57a6b08c0",
   "metadata": {},
   "outputs": [
    {
     "data": {
      "text/plain": [
       "[12, 324, 443, 2313, 435, 4356, 23]"
      ]
     },
     "execution_count": 504,
     "metadata": {},
     "output_type": "execute_result"
    }
   ],
   "source": [
    "n1"
   ]
  },
  {
   "cell_type": "code",
   "execution_count": 506,
   "id": "2bb910ac-0841-41c7-b116-e723bb63f1c6",
   "metadata": {},
   "outputs": [],
   "source": [
    "n1.reverse()"
   ]
  },
  {
   "cell_type": "code",
   "execution_count": 508,
   "id": "0101ce78-884e-4b77-a299-4409b8d089ad",
   "metadata": {},
   "outputs": [
    {
     "data": {
      "text/plain": [
       "[23, 4356, 435, 2313, 443, 324, 12]"
      ]
     },
     "execution_count": 508,
     "metadata": {},
     "output_type": "execute_result"
    }
   ],
   "source": [
    "n1"
   ]
  },
  {
   "cell_type": "code",
   "execution_count": 510,
   "id": "b1368204-0f9d-46ad-af8b-2256218ff0a7",
   "metadata": {},
   "outputs": [
    {
     "data": {
      "text/plain": [
       "['m', 'k', 's', 'p', 'r', 'a', 'c', 't', 'i', 'c', 'e', 's']"
      ]
     },
     "execution_count": 510,
     "metadata": {},
     "output_type": "execute_result"
    }
   ],
   "source": [
    "c1"
   ]
  },
  {
   "cell_type": "code",
   "execution_count": 512,
   "id": "2cc8642a-4b16-4696-8871-900aebfcabc2",
   "metadata": {},
   "outputs": [
    {
     "name": "stdout",
     "output_type": "stream",
     "text": [
      "mkspractices\n"
     ]
    }
   ],
   "source": [
    "result = \"\"\n",
    "for i in c1 :\n",
    "    result += i\n",
    "print(result)"
   ]
  },
  {
   "cell_type": "code",
   "execution_count": 514,
   "id": "d72b4738-147d-450e-aecd-c4dc1d46969f",
   "metadata": {},
   "outputs": [],
   "source": [
    "result1 = \"\".join(c1)"
   ]
  },
  {
   "cell_type": "code",
   "execution_count": 520,
   "id": "996481a8-f665-4746-a828-68d8128e80b0",
   "metadata": {},
   "outputs": [
    {
     "data": {
      "text/plain": [
       "'mkspractices'"
      ]
     },
     "execution_count": 520,
     "metadata": {},
     "output_type": "execute_result"
    }
   ],
   "source": [
    "result1"
   ]
  },
  {
   "cell_type": "code",
   "execution_count": 526,
   "id": "c1f7549b-34ea-41ec-add7-abe8537582c8",
   "metadata": {},
   "outputs": [
    {
     "data": {
      "text/plain": [
       "False"
      ]
     },
     "execution_count": 526,
     "metadata": {},
     "output_type": "execute_result"
    }
   ],
   "source": [
    "n1 == n2"
   ]
  },
  {
   "cell_type": "code",
   "execution_count": 558,
   "id": "6dcb4c4b-dd66-418a-9097-c5cc85619fdd",
   "metadata": {},
   "outputs": [
    {
     "data": {
      "text/plain": [
       "['p', 'r']"
      ]
     },
     "execution_count": 558,
     "metadata": {},
     "output_type": "execute_result"
    }
   ],
   "source": [
    "c1[3:5]"
   ]
  },
  {
   "cell_type": "code",
   "execution_count": 568,
   "id": "15f34969-81b0-4daf-85b2-855acbfd2ec5",
   "metadata": {},
   "outputs": [
    {
     "data": {
      "text/plain": [
       "['s', 'e', 'c', 'i', 't', 'c', 'a', 'r', 'p', 's', 'k', 'm']"
      ]
     },
     "execution_count": 568,
     "metadata": {},
     "output_type": "execute_result"
    }
   ],
   "source": [
    "c1[::-1]"
   ]
  },
  {
   "cell_type": "code",
   "execution_count": null,
   "id": "6f292bfc-46b1-49fe-9996-fbf820af814f",
   "metadata": {},
   "outputs": [],
   "source": []
  },
  {
   "cell_type": "code",
   "execution_count": null,
   "id": "332a5773-fe13-49a1-9d47-ca30e550cad1",
   "metadata": {},
   "outputs": [],
   "source": []
  },
  {
   "cell_type": "code",
   "execution_count": null,
   "id": "a4d88e26-113d-4924-acda-082743ffb8b9",
   "metadata": {},
   "outputs": [],
   "source": []
  },
  {
   "cell_type": "markdown",
   "id": "acab2a9b-17a1-4d50-8012-bdd4ca0e2aad",
   "metadata": {
    "jp-MarkdownHeadingCollapsed": true
   },
   "source": [
    "## Tuples"
   ]
  },
  {
   "cell_type": "code",
   "execution_count": 530,
   "id": "a3a0efd4-5027-48a1-9d64-9d783dc966b0",
   "metadata": {},
   "outputs": [],
   "source": [
    "t1 = (100,200,\"asdf\")"
   ]
  },
  {
   "cell_type": "code",
   "execution_count": 540,
   "id": "1a922846-279a-4415-9225-c121928e7e74",
   "metadata": {},
   "outputs": [
    {
     "data": {
      "text/plain": [
       "200"
      ]
     },
     "execution_count": 540,
     "metadata": {},
     "output_type": "execute_result"
    }
   ],
   "source": [
    "t1[-2]"
   ]
  },
  {
   "cell_type": "code",
   "execution_count": 546,
   "id": "7bc800a3-8ae8-4f10-b720-259e18b72727",
   "metadata": {},
   "outputs": [],
   "source": [
    "t2 = (55,77,\"23f\")"
   ]
  },
  {
   "cell_type": "code",
   "execution_count": 548,
   "id": "3d1fbd27-1b8b-475e-9ef1-7fdbffde4fad",
   "metadata": {},
   "outputs": [
    {
     "data": {
      "text/plain": [
       "(100, 200, 'asdf', 55, 77, '23f')"
      ]
     },
     "execution_count": 548,
     "metadata": {},
     "output_type": "execute_result"
    }
   ],
   "source": [
    "t1 + t2"
   ]
  },
  {
   "cell_type": "code",
   "execution_count": 550,
   "id": "1d3104c1-cb19-4fad-9f43-70c560daa4fa",
   "metadata": {},
   "outputs": [],
   "source": [
    "t3 = t1 + t2"
   ]
  },
  {
   "cell_type": "code",
   "execution_count": 552,
   "id": "26449545-e470-43b0-a80e-8f12c8872cc9",
   "metadata": {},
   "outputs": [
    {
     "data": {
      "text/plain": [
       "(100, 200, 'asdf', 55, 77, '23f')"
      ]
     },
     "execution_count": 552,
     "metadata": {},
     "output_type": "execute_result"
    }
   ],
   "source": [
    "t3"
   ]
  },
  {
   "cell_type": "code",
   "execution_count": 554,
   "id": "b28eeced-978f-4da9-8c6b-450d678046b4",
   "metadata": {},
   "outputs": [
    {
     "data": {
      "text/plain": [
       "'23f'"
      ]
     },
     "execution_count": 554,
     "metadata": {},
     "output_type": "execute_result"
    }
   ],
   "source": [
    "t3[5]"
   ]
  },
  {
   "cell_type": "code",
   "execution_count": 560,
   "id": "5c644193-ea72-4224-9628-24be82658de6",
   "metadata": {},
   "outputs": [
    {
     "data": {
      "text/plain": [
       "(200, 55)"
      ]
     },
     "execution_count": 560,
     "metadata": {},
     "output_type": "execute_result"
    }
   ],
   "source": [
    "t3[1:5:2]"
   ]
  },
  {
   "cell_type": "code",
   "execution_count": 566,
   "id": "4960ef79-806f-40ca-b584-41ec33c6d95e",
   "metadata": {},
   "outputs": [
    {
     "data": {
      "text/plain": [
       "('23f', 77, 55, 'asdf', 200, 100)"
      ]
     },
     "execution_count": 566,
     "metadata": {},
     "output_type": "execute_result"
    }
   ],
   "source": [
    "t3[::-1]"
   ]
  },
  {
   "cell_type": "code",
   "execution_count": 578,
   "id": "23975343-023b-4bec-b162-d27096170ae2",
   "metadata": {},
   "outputs": [],
   "source": [
    "t4 = t3 * 2"
   ]
  },
  {
   "cell_type": "code",
   "execution_count": 580,
   "id": "cd4d9906-f07c-41ab-9ae9-7050ff263990",
   "metadata": {},
   "outputs": [
    {
     "data": {
      "text/plain": [
       "(100, 200, 'asdf', 55, 77, '23f', 100, 200, 'asdf', 55, 77, '23f')"
      ]
     },
     "execution_count": 580,
     "metadata": {},
     "output_type": "execute_result"
    }
   ],
   "source": [
    "t4"
   ]
  },
  {
   "cell_type": "code",
   "execution_count": 582,
   "id": "c9073d78-f5d9-44e5-bb4e-49fd1b0ad09e",
   "metadata": {},
   "outputs": [
    {
     "name": "stdout",
     "output_type": "stream",
     "text": [
      "100\n",
      "200\n",
      "asdf\n",
      "55\n",
      "77\n",
      "23f\n",
      "100\n",
      "200\n",
      "asdf\n",
      "55\n",
      "77\n",
      "23f\n"
     ]
    }
   ],
   "source": [
    "for i in t4 :\n",
    "    print(i)"
   ]
  },
  {
   "cell_type": "code",
   "execution_count": 584,
   "id": "ea5c0fa1-97ce-4d35-8a7b-9f1e17108d9f",
   "metadata": {},
   "outputs": [
    {
     "ename": "TypeError",
     "evalue": "'>' not supported between instances of 'str' and 'int'",
     "output_type": "error",
     "traceback": [
      "\u001b[1;31m---------------------------------------------------------------------------\u001b[0m",
      "\u001b[1;31mTypeError\u001b[0m                                 Traceback (most recent call last)",
      "Cell \u001b[1;32mIn[584], line 1\u001b[0m\n\u001b[1;32m----> 1\u001b[0m \u001b[38;5;28mmax\u001b[39m(t4)\n",
      "\u001b[1;31mTypeError\u001b[0m: '>' not supported between instances of 'str' and 'int'"
     ]
    }
   ],
   "source": [
    "max(t4)"
   ]
  },
  {
   "cell_type": "code",
   "execution_count": 586,
   "id": "831ff086-c359-4941-aa79-e86ac3ab412a",
   "metadata": {},
   "outputs": [],
   "source": [
    "t1 = (3,54,4,656,43,34,265,67)"
   ]
  },
  {
   "cell_type": "code",
   "execution_count": 588,
   "id": "aa884a93-959e-4955-9f89-25915cf313de",
   "metadata": {},
   "outputs": [
    {
     "data": {
      "text/plain": [
       "656"
      ]
     },
     "execution_count": 588,
     "metadata": {},
     "output_type": "execute_result"
    }
   ],
   "source": [
    "max(t1)"
   ]
  },
  {
   "cell_type": "code",
   "execution_count": 590,
   "id": "9e17030e-1cb0-4d60-bf4c-e7636d238040",
   "metadata": {},
   "outputs": [
    {
     "data": {
      "text/plain": [
       "3"
      ]
     },
     "execution_count": 590,
     "metadata": {},
     "output_type": "execute_result"
    }
   ],
   "source": [
    "min(t1)"
   ]
  },
  {
   "cell_type": "code",
   "execution_count": 592,
   "id": "020dd194-7fa6-4ba8-90cd-0b86f10cfdd2",
   "metadata": {},
   "outputs": [
    {
     "data": {
      "text/plain": [
       "8"
      ]
     },
     "execution_count": 592,
     "metadata": {},
     "output_type": "execute_result"
    }
   ],
   "source": [
    "len(t1)"
   ]
  },
  {
   "cell_type": "code",
   "execution_count": 596,
   "id": "3d7b1200-c59e-48fa-9c65-0404e6cb9e6a",
   "metadata": {},
   "outputs": [
    {
     "data": {
      "text/plain": [
       "[656, 265, 67, 54, 43, 34, 4, 3]"
      ]
     },
     "execution_count": 596,
     "metadata": {},
     "output_type": "execute_result"
    }
   ],
   "source": [
    "sorted(t1, reverse = True)"
   ]
  },
  {
   "cell_type": "markdown",
   "id": "a59b6274-a8cc-464c-8d10-c16d33572be5",
   "metadata": {
    "jp-MarkdownHeadingCollapsed": true
   },
   "source": [
    "## Dictionary"
   ]
  },
  {
   "cell_type": "code",
   "execution_count": null,
   "id": "bc55acea-5215-4b83-895d-c98bab64d38d",
   "metadata": {},
   "outputs": [],
   "source": []
  },
  {
   "cell_type": "code",
   "execution_count": null,
   "id": "3e535c61-0934-4bca-ad8d-4df2a59f5985",
   "metadata": {},
   "outputs": [],
   "source": []
  },
  {
   "cell_type": "code",
   "execution_count": 600,
   "id": "32981d3b-5076-4a9a-83b7-233e4c137add",
   "metadata": {},
   "outputs": [],
   "source": [
    "districtsOfStates = {\n",
    "    'Goa' : 'Margoa',\n",
    "    'Karnataka' : ['Bidar', 'Kalaburgi', 'Vijayapura']\n",
    "}"
   ]
  },
  {
   "cell_type": "code",
   "execution_count": 602,
   "id": "9bc750c7-fda3-489a-8fae-a4002c8aa80b",
   "metadata": {},
   "outputs": [
    {
     "data": {
      "text/plain": [
       "{'Goa': 'Margoa', 'Karnataka': ['Bidar', 'Kalaburgi', 'Vijayapura']}"
      ]
     },
     "execution_count": 602,
     "metadata": {},
     "output_type": "execute_result"
    }
   ],
   "source": [
    "districtsOfStates"
   ]
  },
  {
   "cell_type": "code",
   "execution_count": 604,
   "id": "b8bf97a7-2c19-4f13-8faa-6cbb0ccab652",
   "metadata": {},
   "outputs": [],
   "source": [
    "product = {\n",
    "    \"name\" : \"shoes\",\n",
    "    \"price\" : 5000,\n",
    "    \"quantity\" : 100\n",
    "}"
   ]
  },
  {
   "cell_type": "code",
   "execution_count": 606,
   "id": "e37918c7-3427-4197-9464-aaebc1a51a28",
   "metadata": {},
   "outputs": [
    {
     "data": {
      "text/plain": [
       "{'name': 'shoes', 'price': 5000, 'quantity': 100}"
      ]
     },
     "execution_count": 606,
     "metadata": {},
     "output_type": "execute_result"
    }
   ],
   "source": [
    "product"
   ]
  },
  {
   "cell_type": "code",
   "execution_count": 608,
   "id": "e03bcf92-4e35-40e0-a8ae-310c8f990080",
   "metadata": {},
   "outputs": [
    {
     "data": {
      "text/plain": [
       "'Margoa'"
      ]
     },
     "execution_count": 608,
     "metadata": {},
     "output_type": "execute_result"
    }
   ],
   "source": [
    "districtsOfStates['Goa']"
   ]
  },
  {
   "cell_type": "code",
   "execution_count": 610,
   "id": "b74758d6-9a41-465d-affb-035fcc02bcaf",
   "metadata": {},
   "outputs": [
    {
     "data": {
      "text/plain": [
       "{'Goa': 'Margoa', 'Karnataka': ['Bidar', 'Kalaburgi', 'Vijayapura']}"
      ]
     },
     "execution_count": 610,
     "metadata": {},
     "output_type": "execute_result"
    }
   ],
   "source": [
    "districtsOfStates"
   ]
  },
  {
   "cell_type": "code",
   "execution_count": 612,
   "id": "2000a9b1-1ef2-4e1c-8102-1290a35f9b94",
   "metadata": {},
   "outputs": [
    {
     "data": {
      "text/plain": [
       "['Bidar', 'Kalaburgi', 'Vijayapura']"
      ]
     },
     "execution_count": 612,
     "metadata": {},
     "output_type": "execute_result"
    }
   ],
   "source": [
    "districtsOfStates['Karnataka']"
   ]
  },
  {
   "cell_type": "code",
   "execution_count": 614,
   "id": "1ce6609b-f0f7-4710-bb80-fc651d5b9168",
   "metadata": {},
   "outputs": [
    {
     "data": {
      "text/plain": [
       "3"
      ]
     },
     "execution_count": 614,
     "metadata": {},
     "output_type": "execute_result"
    }
   ],
   "source": [
    "len(product)"
   ]
  },
  {
   "cell_type": "code",
   "execution_count": 616,
   "id": "871d9b54-dc08-4e9d-9b84-4c5b8810805f",
   "metadata": {},
   "outputs": [
    {
     "data": {
      "text/plain": [
       "2"
      ]
     },
     "execution_count": 616,
     "metadata": {},
     "output_type": "execute_result"
    }
   ],
   "source": [
    "len(districtsOfStates)"
   ]
  },
  {
   "cell_type": "code",
   "execution_count": 624,
   "id": "60ad6d1a-d64d-414b-b979-ae5253137c1f",
   "metadata": {},
   "outputs": [
    {
     "data": {
      "text/plain": [
       "{'Bidar': 5,\n",
       " 'Kalaburgi': 9,\n",
       " 'Vijayapura': 10,\n",
       " 'asdsa': 5,\n",
       " 'asdasdasd': 9,\n",
       " 'Bangalore': 9,\n",
       " 'Mandya': 6}"
      ]
     },
     "execution_count": 624,
     "metadata": {},
     "output_type": "execute_result"
    }
   ],
   "source": [
    "cities = ['Bidar', 'Kalaburgi', 'Vijayapura', 'asdsa', 'asdasdasd', 'Bangalore', 'asdsa', 'Mandya']\n",
    "citiesDictionary = {}\n",
    "\n",
    "for city in cities:\n",
    "    citiesDictionary[city] = len(city)\n",
    "citiesDictionary"
   ]
  },
  {
   "cell_type": "code",
   "execution_count": 626,
   "id": "92354c43-965f-4410-a6fe-ec5336d48b02",
   "metadata": {},
   "outputs": [],
   "source": [
    "#defaultdict\n",
    "\n",
    "from collections import defaultdict\n"
   ]
  },
  {
   "cell_type": "code",
   "execution_count": 628,
   "id": "327517e8-3788-4dd9-ae5a-a0319a78815c",
   "metadata": {},
   "outputs": [],
   "source": [
    "msg = 'Mks Practices leaning python for data science'"
   ]
  },
  {
   "cell_type": "code",
   "execution_count": 630,
   "id": "13912109-0431-49f5-8c4c-7d685eebe533",
   "metadata": {},
   "outputs": [
    {
     "data": {
      "text/plain": [
       "'Mks Practices leaning python for data science'"
      ]
     },
     "execution_count": 630,
     "metadata": {},
     "output_type": "execute_result"
    }
   ],
   "source": [
    "msg"
   ]
  },
  {
   "cell_type": "code",
   "execution_count": 638,
   "id": "223ed1e9-2ec9-4e9f-97f8-1423236d88cc",
   "metadata": {},
   "outputs": [],
   "source": [
    "msglist = msg.split()"
   ]
  },
  {
   "cell_type": "code",
   "execution_count": 634,
   "id": "1d15fe06-2bbe-45fe-a5b3-8084ced362e2",
   "metadata": {},
   "outputs": [],
   "source": [
    "dd = defaultdict(int)"
   ]
  },
  {
   "cell_type": "code",
   "execution_count": 636,
   "id": "f7bdd8b0-cbf8-42bd-a678-cdb7f7e2630a",
   "metadata": {},
   "outputs": [
    {
     "data": {
      "text/plain": [
       "defaultdict(int, {})"
      ]
     },
     "execution_count": 636,
     "metadata": {},
     "output_type": "execute_result"
    }
   ],
   "source": [
    "dd"
   ]
  },
  {
   "cell_type": "code",
   "execution_count": 640,
   "id": "150ca752-3800-4c4c-a51f-787265e70c8c",
   "metadata": {},
   "outputs": [],
   "source": [
    "for i in msglist :\n",
    "    dd[i] += 1"
   ]
  },
  {
   "cell_type": "code",
   "execution_count": 642,
   "id": "c3e7f70b-e401-49a9-9992-481eb3e30561",
   "metadata": {},
   "outputs": [
    {
     "data": {
      "text/plain": [
       "defaultdict(int,\n",
       "            {'Mks': 1,\n",
       "             'Practices': 1,\n",
       "             'leaning': 1,\n",
       "             'python': 1,\n",
       "             'for': 1,\n",
       "             'data': 1,\n",
       "             'science': 1})"
      ]
     },
     "execution_count": 642,
     "metadata": {},
     "output_type": "execute_result"
    }
   ],
   "source": [
    "dd"
   ]
  },
  {
   "cell_type": "code",
   "execution_count": 644,
   "id": "8251708c-48d0-4fcc-aab3-66f822330d38",
   "metadata": {},
   "outputs": [],
   "source": [
    "dd['txt'] = 2"
   ]
  },
  {
   "cell_type": "code",
   "execution_count": 646,
   "id": "23fa5f57-51aa-4e7c-91b8-a61661674a72",
   "metadata": {},
   "outputs": [
    {
     "data": {
      "text/plain": [
       "defaultdict(int,\n",
       "            {'Mks': 1,\n",
       "             'Practices': 1,\n",
       "             'leaning': 1,\n",
       "             'python': 1,\n",
       "             'for': 1,\n",
       "             'data': 1,\n",
       "             'science': 1,\n",
       "             'txt': 2})"
      ]
     },
     "execution_count": 646,
     "metadata": {},
     "output_type": "execute_result"
    }
   ],
   "source": [
    "dd"
   ]
  },
  {
   "cell_type": "code",
   "execution_count": 648,
   "id": "ce87df6f-6712-4fc3-9bcd-37fd11623248",
   "metadata": {},
   "outputs": [],
   "source": [
    "dd['txt1'] = 'asd'"
   ]
  },
  {
   "cell_type": "code",
   "execution_count": 650,
   "id": "f26146be-8030-4afb-974a-27f5eb3729cc",
   "metadata": {},
   "outputs": [
    {
     "data": {
      "text/plain": [
       "defaultdict(int,\n",
       "            {'Mks': 1,\n",
       "             'Practices': 1,\n",
       "             'leaning': 1,\n",
       "             'python': 1,\n",
       "             'for': 1,\n",
       "             'data': 1,\n",
       "             'science': 1,\n",
       "             'txt': 2,\n",
       "             'txt1': 'asd'})"
      ]
     },
     "execution_count": 650,
     "metadata": {},
     "output_type": "execute_result"
    }
   ],
   "source": [
    "dd"
   ]
  },
  {
   "cell_type": "code",
   "execution_count": 652,
   "id": "b4577e68-6c2e-4dea-8fd3-fc2113c2320a",
   "metadata": {},
   "outputs": [
    {
     "data": {
      "text/plain": [
       "defaultdict(int,\n",
       "            {'Mks': 1,\n",
       "             'Practices': 1,\n",
       "             'leaning': 1,\n",
       "             'python': 1,\n",
       "             'for': 1,\n",
       "             'data': 1,\n",
       "             'science': 1,\n",
       "             'txt': 2,\n",
       "             'txt1': 'asd'})"
      ]
     },
     "execution_count": 652,
     "metadata": {},
     "output_type": "execute_result"
    }
   ],
   "source": [
    "dd"
   ]
  },
  {
   "cell_type": "code",
   "execution_count": 654,
   "id": "647e262f-615d-4781-9fed-e71a7ca8774d",
   "metadata": {},
   "outputs": [
    {
     "data": {
      "text/plain": [
       "collections.defaultdict"
      ]
     },
     "execution_count": 654,
     "metadata": {},
     "output_type": "execute_result"
    }
   ],
   "source": [
    "defaultdict"
   ]
  },
  {
   "cell_type": "code",
   "execution_count": 656,
   "id": "b8ee88af-49a6-4a90-bd94-65752af29399",
   "metadata": {},
   "outputs": [
    {
     "name": "stdout",
     "output_type": "stream",
     "text": [
      "{'h': 1, 'e': 1, 'l': 2, 'o': 1}\n"
     ]
    }
   ],
   "source": [
    "string = \"hello\"\n",
    "\n",
    "# Using a regular dictionary\n",
    "char_count = {}\n",
    "\n",
    "for char in string:\n",
    "    if char in char_count:\n",
    "        char_count[char] += 1\n",
    "    else:\n",
    "        char_count[char] = 1\n",
    "\n",
    "print(char_count)\n"
   ]
  },
  {
   "cell_type": "code",
   "execution_count": null,
   "id": "2de34793-1841-44ba-93df-902c51497f46",
   "metadata": {},
   "outputs": [],
   "source": [
    "from collections import defaultdict\n",
    "\n",
    "string = \"hello\"\n",
    "\n",
    "# Using defaultdict with int as the default factory\n",
    "char_count = defaultdict(int)\n",
    "\n",
    "for char in string:\n",
    "    char_count[char] += 1\n",
    "\n",
    "print(char_count)  # Output: defaultdict(<class 'int'>, {'h': 1, 'e': 1, 'l': 2, 'o': 1})\n"
   ]
  },
  {
   "cell_type": "code",
   "execution_count": 658,
   "id": "9c7d0ab3-5415-42a7-ad55-afb97b37b9ce",
   "metadata": {},
   "outputs": [],
   "source": [
    "char_count.clear()"
   ]
  },
  {
   "cell_type": "code",
   "execution_count": 660,
   "id": "f91ad6eb-3bb2-42ae-a258-f8d87db64788",
   "metadata": {},
   "outputs": [
    {
     "data": {
      "text/plain": [
       "{}"
      ]
     },
     "execution_count": 660,
     "metadata": {},
     "output_type": "execute_result"
    }
   ],
   "source": [
    "char_count"
   ]
  },
  {
   "cell_type": "code",
   "execution_count": 662,
   "id": "9271f9a9-d0cf-42ca-bfd9-11e52b6d9fbb",
   "metadata": {},
   "outputs": [
    {
     "data": {
      "text/plain": [
       "{'Bidar': 5,\n",
       " 'Kalaburgi': 9,\n",
       " 'Vijayapura': 10,\n",
       " 'asdsa': 5,\n",
       " 'asdasdasd': 9,\n",
       " 'Bangalore': 9,\n",
       " 'Mandya': 6}"
      ]
     },
     "execution_count": 662,
     "metadata": {},
     "output_type": "execute_result"
    }
   ],
   "source": [
    "citiesDictionary"
   ]
  },
  {
   "cell_type": "code",
   "execution_count": 664,
   "id": "4a66f6af-6407-4a86-ad2c-2859f923b992",
   "metadata": {},
   "outputs": [
    {
     "data": {
      "text/plain": [
       "['Bidar',\n",
       " 'Kalaburgi',\n",
       " 'Vijayapura',\n",
       " 'asdsa',\n",
       " 'asdasdasd',\n",
       " 'Bangalore',\n",
       " 'asdsa',\n",
       " 'Mandya']"
      ]
     },
     "execution_count": 664,
     "metadata": {},
     "output_type": "execute_result"
    }
   ],
   "source": [
    "cities"
   ]
  },
  {
   "cell_type": "code",
   "execution_count": 666,
   "id": "0907a765-12cb-4882-8b79-536598d3ad64",
   "metadata": {},
   "outputs": [
    {
     "data": {
      "text/plain": [
       "'asdsa'"
      ]
     },
     "execution_count": 666,
     "metadata": {},
     "output_type": "execute_result"
    }
   ],
   "source": [
    "cities.pop(6)"
   ]
  },
  {
   "cell_type": "code",
   "execution_count": 668,
   "id": "aba33a6d-88cd-48b3-bb40-c2de0a486daa",
   "metadata": {},
   "outputs": [
    {
     "data": {
      "text/plain": [
       "'asdasdasd'"
      ]
     },
     "execution_count": 668,
     "metadata": {},
     "output_type": "execute_result"
    }
   ],
   "source": [
    "cities.pop(4)"
   ]
  },
  {
   "cell_type": "code",
   "execution_count": 670,
   "id": "e582287a-fce0-436c-aa75-0b2b086143db",
   "metadata": {},
   "outputs": [
    {
     "data": {
      "text/plain": [
       "'asdsa'"
      ]
     },
     "execution_count": 670,
     "metadata": {},
     "output_type": "execute_result"
    }
   ],
   "source": [
    "cities.pop(3)"
   ]
  },
  {
   "cell_type": "code",
   "execution_count": 672,
   "id": "12aae4f4-12f2-4f62-a932-0b36ed4933a5",
   "metadata": {},
   "outputs": [
    {
     "data": {
      "text/plain": [
       "['Bidar', 'Kalaburgi', 'Vijayapura', 'Bangalore', 'Mandya']"
      ]
     },
     "execution_count": 672,
     "metadata": {},
     "output_type": "execute_result"
    }
   ],
   "source": [
    "cities"
   ]
  },
  {
   "cell_type": "code",
   "execution_count": 674,
   "id": "f79cc9ec-ba45-4239-a040-97c25dd096ce",
   "metadata": {},
   "outputs": [
    {
     "data": {
      "text/plain": [
       "{'Bidar': 5,\n",
       " 'Kalaburgi': 9,\n",
       " 'Vijayapura': 10,\n",
       " 'asdsa': 5,\n",
       " 'asdasdasd': 9,\n",
       " 'Bangalore': 9,\n",
       " 'Mandya': 6}"
      ]
     },
     "execution_count": 674,
     "metadata": {},
     "output_type": "execute_result"
    }
   ],
   "source": [
    "citiesDictionary"
   ]
  },
  {
   "cell_type": "code",
   "execution_count": 676,
   "id": "10cdd5cb-3c6b-4ce0-b69e-02f9be2a050c",
   "metadata": {},
   "outputs": [],
   "source": [
    "cities2dict = dict.fromkeys(cities)"
   ]
  },
  {
   "cell_type": "code",
   "execution_count": 678,
   "id": "53745005-5e9b-4d44-91eb-2fb914c4056b",
   "metadata": {},
   "outputs": [
    {
     "data": {
      "text/plain": [
       "{'Bidar': None,\n",
       " 'Kalaburgi': None,\n",
       " 'Vijayapura': None,\n",
       " 'Bangalore': None,\n",
       " 'Mandya': None}"
      ]
     },
     "execution_count": 678,
     "metadata": {},
     "output_type": "execute_result"
    }
   ],
   "source": [
    "cities2dict"
   ]
  },
  {
   "cell_type": "code",
   "execution_count": 680,
   "id": "0fb61515-232e-4c61-bde3-a7a597ef3b13",
   "metadata": {},
   "outputs": [
    {
     "data": {
      "text/plain": [
       "dict_items([('Bidar', 5), ('Kalaburgi', 9), ('Vijayapura', 10), ('asdsa', 5), ('asdasdasd', 9), ('Bangalore', 9), ('Mandya', 6)])"
      ]
     },
     "execution_count": 680,
     "metadata": {},
     "output_type": "execute_result"
    }
   ],
   "source": [
    "citiesDictionary.items()"
   ]
  },
  {
   "cell_type": "code",
   "execution_count": 682,
   "id": "4851b4f3-bb57-4432-be4d-0730212f4bfe",
   "metadata": {},
   "outputs": [
    {
     "data": {
      "text/plain": [
       "dict_keys(['Bidar', 'Kalaburgi', 'Vijayapura', 'asdsa', 'asdasdasd', 'Bangalore', 'Mandya'])"
      ]
     },
     "execution_count": 682,
     "metadata": {},
     "output_type": "execute_result"
    }
   ],
   "source": [
    "citiesDictionary.keys()"
   ]
  },
  {
   "cell_type": "code",
   "execution_count": 684,
   "id": "9a6d2559-e514-40d5-ae7a-22fbdc3dea7d",
   "metadata": {},
   "outputs": [
    {
     "data": {
      "text/plain": [
       "dict_values([5, 9, 10, 5, 9, 9, 6])"
      ]
     },
     "execution_count": 684,
     "metadata": {},
     "output_type": "execute_result"
    }
   ],
   "source": [
    "citiesDictionary.values()"
   ]
  },
  {
   "cell_type": "code",
   "execution_count": 686,
   "id": "967577ae-e9fe-4261-a73f-bb27e0087c7d",
   "metadata": {},
   "outputs": [],
   "source": [
    "citiesDictionary.setdefault('Gadag')"
   ]
  },
  {
   "cell_type": "code",
   "execution_count": 688,
   "id": "2ea6d61d-9154-4ce2-a6a7-56c9ab2a341a",
   "metadata": {},
   "outputs": [
    {
     "data": {
      "text/plain": [
       "{'Bidar': 5,\n",
       " 'Kalaburgi': 9,\n",
       " 'Vijayapura': 10,\n",
       " 'asdsa': 5,\n",
       " 'asdasdasd': 9,\n",
       " 'Bangalore': 9,\n",
       " 'Mandya': 6,\n",
       " 'Gadag': None}"
      ]
     },
     "execution_count": 688,
     "metadata": {},
     "output_type": "execute_result"
    }
   ],
   "source": [
    "citiesDictionary"
   ]
  },
  {
   "cell_type": "code",
   "execution_count": 690,
   "id": "cae45bc3-1b96-4c9c-be41-f52750b39038",
   "metadata": {},
   "outputs": [],
   "source": [
    "citiesDictionary['hubli'] = None"
   ]
  },
  {
   "cell_type": "code",
   "execution_count": 692,
   "id": "dc0b1048-92f1-4c2e-bd7f-7bd8df298d61",
   "metadata": {},
   "outputs": [
    {
     "data": {
      "text/plain": [
       "{'Bidar': 5,\n",
       " 'Kalaburgi': 9,\n",
       " 'Vijayapura': 10,\n",
       " 'asdsa': 5,\n",
       " 'asdasdasd': 9,\n",
       " 'Bangalore': 9,\n",
       " 'Mandya': 6,\n",
       " 'Gadag': None,\n",
       " 'hubli': None}"
      ]
     },
     "execution_count": 692,
     "metadata": {},
     "output_type": "execute_result"
    }
   ],
   "source": [
    "citiesDictionary"
   ]
  },
  {
   "cell_type": "code",
   "execution_count": 694,
   "id": "cbe260b6-eb08-47b4-a335-b5cdad87215b",
   "metadata": {},
   "outputs": [],
   "source": [
    "citiesDictionary.update(cities2dict)"
   ]
  },
  {
   "cell_type": "code",
   "execution_count": 696,
   "id": "fca6a5bc-645f-4b94-934e-6cf9a3a7dd52",
   "metadata": {},
   "outputs": [
    {
     "data": {
      "text/plain": [
       "{'Bidar': None,\n",
       " 'Kalaburgi': None,\n",
       " 'Vijayapura': None,\n",
       " 'asdsa': 5,\n",
       " 'asdasdasd': 9,\n",
       " 'Bangalore': None,\n",
       " 'Mandya': None,\n",
       " 'Gadag': None,\n",
       " 'hubli': None}"
      ]
     },
     "execution_count": 696,
     "metadata": {},
     "output_type": "execute_result"
    }
   ],
   "source": [
    "citiesDictionary"
   ]
  },
  {
   "cell_type": "markdown",
   "id": "664ba8ca-932d-4e79-8456-ad8e3ef66cbc",
   "metadata": {
    "jp-MarkdownHeadingCollapsed": true
   },
   "source": [
    "## Sets"
   ]
  },
  {
   "cell_type": "code",
   "execution_count": 6,
   "id": "8a0aa31a-d25e-4cd9-8ae3-199635a80e4d",
   "metadata": {},
   "outputs": [
    {
     "data": {
      "text/plain": [
       "{2, 3, 4, 5, 6}"
      ]
     },
     "execution_count": 6,
     "metadata": {},
     "output_type": "execute_result"
    }
   ],
   "source": [
    "l1 = [3,4,2,3,6,5]\n",
    "s1 = set(l1)\n",
    "s1"
   ]
  },
  {
   "cell_type": "code",
   "execution_count": 8,
   "id": "de6d41a6-1e6c-4389-b68e-839396e4f80d",
   "metadata": {},
   "outputs": [],
   "source": [
    "s2 = {6,4,3,7,8}"
   ]
  },
  {
   "cell_type": "code",
   "execution_count": 10,
   "id": "17fbea2a-d970-43c0-9667-4a88725b34e0",
   "metadata": {},
   "outputs": [
    {
     "data": {
      "text/plain": [
       "set"
      ]
     },
     "execution_count": 10,
     "metadata": {},
     "output_type": "execute_result"
    }
   ],
   "source": [
    "type(s1)"
   ]
  },
  {
   "cell_type": "code",
   "execution_count": 12,
   "id": "d268fa01-d84f-497c-9984-7a8c7a9f0569",
   "metadata": {},
   "outputs": [
    {
     "data": {
      "text/plain": [
       "set"
      ]
     },
     "execution_count": 12,
     "metadata": {},
     "output_type": "execute_result"
    }
   ],
   "source": [
    "type(s2)"
   ]
  },
  {
   "cell_type": "code",
   "execution_count": 14,
   "id": "1c0de5cc-1842-4272-82d4-830c52a9ab66",
   "metadata": {},
   "outputs": [
    {
     "data": {
      "text/plain": [
       "{2, 3, 4, 5, 6}"
      ]
     },
     "execution_count": 14,
     "metadata": {},
     "output_type": "execute_result"
    }
   ],
   "source": [
    "s1"
   ]
  },
  {
   "cell_type": "code",
   "execution_count": 16,
   "id": "e877f572-f903-4b1e-b56b-ee009811e213",
   "metadata": {},
   "outputs": [
    {
     "data": {
      "text/plain": [
       "{3, 4, 6, 7, 8}"
      ]
     },
     "execution_count": 16,
     "metadata": {},
     "output_type": "execute_result"
    }
   ],
   "source": [
    "s2"
   ]
  },
  {
   "cell_type": "code",
   "execution_count": 18,
   "id": "ce770fec-8611-430a-a8d8-b8b68cca3e10",
   "metadata": {},
   "outputs": [],
   "source": [
    "s3 = {'d', 'we', None}"
   ]
  },
  {
   "cell_type": "code",
   "execution_count": 20,
   "id": "0ad28ec7-8611-4222-97cc-6dbf783117ef",
   "metadata": {},
   "outputs": [
    {
     "data": {
      "text/plain": [
       "{None, 'd', 'we'}"
      ]
     },
     "execution_count": 20,
     "metadata": {},
     "output_type": "execute_result"
    }
   ],
   "source": [
    "s3"
   ]
  },
  {
   "cell_type": "code",
   "execution_count": 22,
   "id": "9c50ffe4-c059-46e7-b6ae-121ba9bd87e7",
   "metadata": {},
   "outputs": [],
   "source": [
    "s4 = {4, 1, None}"
   ]
  },
  {
   "cell_type": "code",
   "execution_count": 24,
   "id": "c8320e1a-cd18-4988-bc68-9d74835b9a37",
   "metadata": {},
   "outputs": [
    {
     "data": {
      "text/plain": [
       "{1, 4, None}"
      ]
     },
     "execution_count": 24,
     "metadata": {},
     "output_type": "execute_result"
    }
   ],
   "source": [
    "s4"
   ]
  },
  {
   "cell_type": "code",
   "execution_count": 26,
   "id": "304e6487-b50b-46a3-a750-146703893f71",
   "metadata": {},
   "outputs": [
    {
     "data": {
      "text/plain": [
       "{2, 3, 4, 5, 6}"
      ]
     },
     "execution_count": 26,
     "metadata": {},
     "output_type": "execute_result"
    }
   ],
   "source": [
    "s1"
   ]
  },
  {
   "cell_type": "code",
   "execution_count": 28,
   "id": "b09c0e6f-4d0f-4808-90cf-20bc33e05e22",
   "metadata": {},
   "outputs": [
    {
     "data": {
      "text/plain": [
       "{3, 4, 6, 7, 8}"
      ]
     },
     "execution_count": 28,
     "metadata": {},
     "output_type": "execute_result"
    }
   ],
   "source": [
    "s2"
   ]
  },
  {
   "cell_type": "code",
   "execution_count": 30,
   "id": "cc24c166-f368-46f5-a812-3c27e896c139",
   "metadata": {},
   "outputs": [],
   "source": [
    "uniquenumbers = s1.union(s2)"
   ]
  },
  {
   "cell_type": "code",
   "execution_count": 32,
   "id": "c32b5279-45b9-421a-83d8-147715b839eb",
   "metadata": {},
   "outputs": [
    {
     "data": {
      "text/plain": [
       "{2, 3, 4, 5, 6, 7, 8}"
      ]
     },
     "execution_count": 32,
     "metadata": {},
     "output_type": "execute_result"
    }
   ],
   "source": [
    "uniquenumbers"
   ]
  },
  {
   "cell_type": "code",
   "execution_count": 34,
   "id": "080ca8e2-49f6-49f4-ad12-78ee341e9739",
   "metadata": {},
   "outputs": [],
   "source": [
    "isnumbers = s1.intersection(s2)"
   ]
  },
  {
   "cell_type": "code",
   "execution_count": 36,
   "id": "daca5c3b-6574-4524-a44b-094de0122973",
   "metadata": {},
   "outputs": [
    {
     "data": {
      "text/plain": [
       "{3, 4, 6}"
      ]
     },
     "execution_count": 36,
     "metadata": {},
     "output_type": "execute_result"
    }
   ],
   "source": [
    "isnumbers"
   ]
  },
  {
   "cell_type": "code",
   "execution_count": 38,
   "id": "cf760ea0-497f-46d6-a02d-a21cd31bd5b1",
   "metadata": {},
   "outputs": [
    {
     "data": {
      "text/plain": [
       "{2, 3, 4, 5, 6}"
      ]
     },
     "execution_count": 38,
     "metadata": {},
     "output_type": "execute_result"
    }
   ],
   "source": [
    "t1 = (3,4,2,3,6,5)\n",
    "s4 = set(t1)\n",
    "s1"
   ]
  },
  {
   "cell_type": "code",
   "execution_count": 40,
   "id": "64c5f08a-e548-409e-8a1a-7c4d7dc3971a",
   "metadata": {},
   "outputs": [
    {
     "data": {
      "text/plain": [
       "5"
      ]
     },
     "execution_count": 40,
     "metadata": {},
     "output_type": "execute_result"
    }
   ],
   "source": [
    "len(s1)"
   ]
  },
  {
   "cell_type": "code",
   "execution_count": 42,
   "id": "0707c810-9ec3-47f8-8b42-83059272a7a7",
   "metadata": {},
   "outputs": [
    {
     "data": {
      "text/plain": [
       "6"
      ]
     },
     "execution_count": 42,
     "metadata": {},
     "output_type": "execute_result"
    }
   ],
   "source": [
    "max(s1)"
   ]
  },
  {
   "cell_type": "code",
   "execution_count": 44,
   "id": "04648dec-36ae-4945-bc4f-33c3bf343b0b",
   "metadata": {},
   "outputs": [
    {
     "data": {
      "text/plain": [
       "2"
      ]
     },
     "execution_count": 44,
     "metadata": {},
     "output_type": "execute_result"
    }
   ],
   "source": [
    "min(s1)"
   ]
  },
  {
   "cell_type": "code",
   "execution_count": 46,
   "id": "907ad2d2-ead9-438d-bdc1-079be79b9bc9",
   "metadata": {},
   "outputs": [
    {
     "data": {
      "text/plain": [
       "2"
      ]
     },
     "execution_count": 46,
     "metadata": {},
     "output_type": "execute_result"
    }
   ],
   "source": [
    "s1.pop()"
   ]
  },
  {
   "cell_type": "code",
   "execution_count": 48,
   "id": "82231567-2d2e-49cd-98a5-33cffd038ae9",
   "metadata": {},
   "outputs": [
    {
     "data": {
      "text/plain": [
       "{3, 4, 5, 6}"
      ]
     },
     "execution_count": 48,
     "metadata": {},
     "output_type": "execute_result"
    }
   ],
   "source": [
    "s1"
   ]
  },
  {
   "cell_type": "code",
   "execution_count": 50,
   "id": "1d351ed2-865f-43aa-a13c-c4175779eb09",
   "metadata": {},
   "outputs": [
    {
     "data": {
      "text/plain": [
       "3"
      ]
     },
     "execution_count": 50,
     "metadata": {},
     "output_type": "execute_result"
    }
   ],
   "source": [
    "s1.pop()"
   ]
  },
  {
   "cell_type": "code",
   "execution_count": 52,
   "id": "018d30d0-79e1-4ec0-87eb-8e6f333017d5",
   "metadata": {},
   "outputs": [
    {
     "data": {
      "text/plain": [
       "4"
      ]
     },
     "execution_count": 52,
     "metadata": {},
     "output_type": "execute_result"
    }
   ],
   "source": [
    "s1.pop()"
   ]
  },
  {
   "cell_type": "code",
   "execution_count": 54,
   "id": "d362f3d9-cf95-41b5-8aa9-44e5512b294b",
   "metadata": {},
   "outputs": [
    {
     "data": {
      "text/plain": [
       "5"
      ]
     },
     "execution_count": 54,
     "metadata": {},
     "output_type": "execute_result"
    }
   ],
   "source": [
    "s1.pop()"
   ]
  },
  {
   "cell_type": "code",
   "execution_count": 56,
   "id": "71806cb7-107a-4499-a37b-424a85fff6d9",
   "metadata": {},
   "outputs": [
    {
     "data": {
      "text/plain": [
       "{6}"
      ]
     },
     "execution_count": 56,
     "metadata": {},
     "output_type": "execute_result"
    }
   ],
   "source": [
    "s1"
   ]
  },
  {
   "cell_type": "code",
   "execution_count": 62,
   "id": "a065a394-2c93-4dfd-bfed-d304d482915f",
   "metadata": {},
   "outputs": [],
   "source": [
    "s1.add(3)"
   ]
  },
  {
   "cell_type": "code",
   "execution_count": 72,
   "id": "e1b2c0bd-e26e-4803-8993-29e3607bd380",
   "metadata": {},
   "outputs": [
    {
     "data": {
      "text/plain": [
       "True"
      ]
     },
     "execution_count": 72,
     "metadata": {},
     "output_type": "execute_result"
    }
   ],
   "source": [
    "3 in s1"
   ]
  },
  {
   "cell_type": "code",
   "execution_count": 74,
   "id": "cf686c35-181f-4c30-bddb-a516eda88712",
   "metadata": {},
   "outputs": [
    {
     "data": {
      "text/plain": [
       "False"
      ]
     },
     "execution_count": 74,
     "metadata": {},
     "output_type": "execute_result"
    }
   ],
   "source": [
    "4 in s1"
   ]
  },
  {
   "cell_type": "code",
   "execution_count": null,
   "id": "d68b2c5b-18a9-4020-a6da-0024d6975a47",
   "metadata": {},
   "outputs": [],
   "source": []
  },
  {
   "cell_type": "code",
   "execution_count": null,
   "id": "6f20b358-e4fd-40b7-86a1-8e1cacc1b3b4",
   "metadata": {},
   "outputs": [],
   "source": []
  },
  {
   "cell_type": "code",
   "execution_count": null,
   "id": "082f80ce-ace7-49a8-a7bc-84a7ed070a0b",
   "metadata": {},
   "outputs": [],
   "source": []
  },
  {
   "cell_type": "code",
   "execution_count": null,
   "id": "4e3bbd36-e1f5-46e4-bd41-f27646928a74",
   "metadata": {},
   "outputs": [],
   "source": []
  },
  {
   "cell_type": "code",
   "execution_count": null,
   "id": "6b4391a3-a230-4306-b8bf-5bd7c2590bff",
   "metadata": {},
   "outputs": [],
   "source": []
  },
  {
   "cell_type": "code",
   "execution_count": null,
   "id": "0d0ef0e5-f5d4-4343-a7e8-4e1df1b3f5fa",
   "metadata": {},
   "outputs": [],
   "source": []
  },
  {
   "cell_type": "code",
   "execution_count": null,
   "id": "6f84c8fc-d022-4865-b962-1a8cca2f8122",
   "metadata": {},
   "outputs": [],
   "source": [
    "\n",
    "\n",
    "\n"
   ]
  },
  {
   "cell_type": "code",
   "execution_count": null,
   "id": "7b3d10c9-ce45-489e-b871-9b39a8f1806a",
   "metadata": {},
   "outputs": [],
   "source": []
  },
  {
   "cell_type": "code",
   "execution_count": null,
   "id": "6e9d853b-63b3-4b1e-bfc3-62337e4ec3e7",
   "metadata": {},
   "outputs": [],
   "source": []
  },
  {
   "cell_type": "code",
   "execution_count": null,
   "id": "ac174f0e-c3ab-4f7e-8c36-969634db2be0",
   "metadata": {},
   "outputs": [],
   "source": []
  },
  {
   "cell_type": "code",
   "execution_count": null,
   "id": "40315cfc-db99-4a32-87e2-c775ad9f1d4e",
   "metadata": {},
   "outputs": [],
   "source": []
  },
  {
   "cell_type": "code",
   "execution_count": null,
   "id": "230237ef-0726-437a-b26a-2c7e7b82109d",
   "metadata": {},
   "outputs": [],
   "source": []
  },
  {
   "cell_type": "code",
   "execution_count": null,
   "id": "3b8708d3-24f0-48c1-8aaa-603551bd0d62",
   "metadata": {},
   "outputs": [],
   "source": []
  },
  {
   "cell_type": "code",
   "execution_count": null,
   "id": "1a929314-1373-4d83-9fcf-64dc31a28077",
   "metadata": {},
   "outputs": [],
   "source": []
  },
  {
   "cell_type": "code",
   "execution_count": null,
   "id": "ea644ac8-a580-40ee-a152-c4e578162915",
   "metadata": {},
   "outputs": [],
   "source": []
  },
  {
   "cell_type": "code",
   "execution_count": null,
   "id": "f67fe361-f742-45ad-b308-b36561279d05",
   "metadata": {},
   "outputs": [],
   "source": []
  },
  {
   "cell_type": "code",
   "execution_count": null,
   "id": "8fad8ed0-8cbb-4cf0-990a-7ab955d11be4",
   "metadata": {},
   "outputs": [],
   "source": []
  },
  {
   "cell_type": "code",
   "execution_count": null,
   "id": "42d257ce-01c8-42c0-adaa-03f83a0f2aaa",
   "metadata": {},
   "outputs": [],
   "source": []
  },
  {
   "cell_type": "code",
   "execution_count": null,
   "id": "621af5b4-90c8-48b4-a3c0-e1c90d8c9333",
   "metadata": {},
   "outputs": [],
   "source": []
  },
  {
   "cell_type": "code",
   "execution_count": null,
   "id": "b00e7042-c09a-4ccb-98f5-87e005ff718a",
   "metadata": {},
   "outputs": [],
   "source": []
  },
  {
   "cell_type": "code",
   "execution_count": null,
   "id": "071342bd-354e-420a-8e7b-8d136946828f",
   "metadata": {},
   "outputs": [],
   "source": []
  },
  {
   "cell_type": "code",
   "execution_count": null,
   "id": "802518c9-b856-426b-84a1-dc2a6430919e",
   "metadata": {},
   "outputs": [],
   "source": []
  },
  {
   "cell_type": "code",
   "execution_count": null,
   "id": "9f939feb-1758-42ed-a0e4-bd36a5d20e96",
   "metadata": {},
   "outputs": [],
   "source": []
  },
  {
   "cell_type": "code",
   "execution_count": null,
   "id": "8417697b-3147-4a60-a976-37a796005fee",
   "metadata": {},
   "outputs": [],
   "source": []
  },
  {
   "cell_type": "code",
   "execution_count": null,
   "id": "4391a22f-d489-4e99-9774-ede0979c0373",
   "metadata": {},
   "outputs": [],
   "source": []
  },
  {
   "cell_type": "code",
   "execution_count": null,
   "id": "95f0959f-e2d7-4464-bb1a-11243b07ecdf",
   "metadata": {},
   "outputs": [],
   "source": []
  },
  {
   "cell_type": "code",
   "execution_count": null,
   "id": "a36294d3-41d5-4ab4-b140-4188524cc4e8",
   "metadata": {},
   "outputs": [],
   "source": []
  },
  {
   "cell_type": "code",
   "execution_count": null,
   "id": "8bc330b1-0e3f-4651-83de-8dd5c8537bf8",
   "metadata": {},
   "outputs": [],
   "source": []
  },
  {
   "cell_type": "code",
   "execution_count": null,
   "id": "3b98e528-218e-42e7-ab00-fce4a6154c38",
   "metadata": {},
   "outputs": [],
   "source": []
  },
  {
   "cell_type": "code",
   "execution_count": null,
   "id": "24f5698c-6221-47c3-a6c2-25beab521995",
   "metadata": {},
   "outputs": [],
   "source": []
  },
  {
   "cell_type": "code",
   "execution_count": null,
   "id": "e5559ea8-bed1-42df-944b-6ecdbb13f991",
   "metadata": {},
   "outputs": [],
   "source": []
  },
  {
   "cell_type": "code",
   "execution_count": null,
   "id": "ea9b4c63-96a3-46cf-8456-b5adab3407ff",
   "metadata": {},
   "outputs": [],
   "source": []
  },
  {
   "cell_type": "code",
   "execution_count": null,
   "id": "01438f92-cec7-4966-82ca-9d83b61f27b4",
   "metadata": {},
   "outputs": [],
   "source": []
  },
  {
   "cell_type": "code",
   "execution_count": null,
   "id": "ed567429-1942-4138-92d0-8c9a1c0cdbed",
   "metadata": {},
   "outputs": [],
   "source": []
  },
  {
   "cell_type": "code",
   "execution_count": null,
   "id": "276f6681-cdd9-4caf-b883-882fd8d6e7cb",
   "metadata": {},
   "outputs": [],
   "source": []
  },
  {
   "cell_type": "code",
   "execution_count": null,
   "id": "f1965dc0-d610-4a9c-ae5c-3b3be3967835",
   "metadata": {},
   "outputs": [],
   "source": []
  },
  {
   "cell_type": "code",
   "execution_count": null,
   "id": "cf598336-6ca4-4cf7-befe-914a9da4a741",
   "metadata": {},
   "outputs": [],
   "source": []
  },
  {
   "cell_type": "code",
   "execution_count": null,
   "id": "9daf19f0-22f5-4f99-b1a7-1644d496835c",
   "metadata": {},
   "outputs": [],
   "source": []
  },
  {
   "cell_type": "code",
   "execution_count": null,
   "id": "6d6efb51-c7f8-4d01-bf8e-f3037f6524e9",
   "metadata": {},
   "outputs": [],
   "source": []
  },
  {
   "cell_type": "code",
   "execution_count": null,
   "id": "65d050cd-2d11-45f3-be8a-ae961ad5da2d",
   "metadata": {},
   "outputs": [],
   "source": []
  },
  {
   "cell_type": "code",
   "execution_count": null,
   "id": "2299b4fd-cf27-40bd-a2c2-cdf0053ff71c",
   "metadata": {},
   "outputs": [],
   "source": []
  },
  {
   "cell_type": "code",
   "execution_count": null,
   "id": "0d7b3485-714c-427d-a510-c417ea47d684",
   "metadata": {},
   "outputs": [],
   "source": []
  },
  {
   "cell_type": "code",
   "execution_count": null,
   "id": "748007e0-f019-490a-a177-f212bcb5a16d",
   "metadata": {},
   "outputs": [],
   "source": []
  },
  {
   "cell_type": "code",
   "execution_count": null,
   "id": "210d2c24-bf69-44c8-9461-39e275f6f70e",
   "metadata": {},
   "outputs": [],
   "source": []
  },
  {
   "cell_type": "code",
   "execution_count": null,
   "id": "98cd5685-5698-4288-9c30-8b1b7fc9aab3",
   "metadata": {},
   "outputs": [],
   "source": []
  },
  {
   "cell_type": "code",
   "execution_count": null,
   "id": "d010e2f3-5470-496b-87ed-92b7ba66cf04",
   "metadata": {},
   "outputs": [],
   "source": []
  },
  {
   "cell_type": "code",
   "execution_count": null,
   "id": "1662055f-26a3-47a1-af8f-3613d7a55c74",
   "metadata": {},
   "outputs": [],
   "source": []
  },
  {
   "cell_type": "code",
   "execution_count": null,
   "id": "01bc7ee8-9031-48e1-8c18-4829f4a6e274",
   "metadata": {},
   "outputs": [],
   "source": []
  },
  {
   "cell_type": "code",
   "execution_count": null,
   "id": "13dbdc91-5ac8-4dbd-bcbc-09848145088d",
   "metadata": {},
   "outputs": [],
   "source": []
  },
  {
   "cell_type": "code",
   "execution_count": null,
   "id": "4ff662bf-d7bd-4b1e-9afe-f742b54e4403",
   "metadata": {},
   "outputs": [],
   "source": []
  },
  {
   "cell_type": "code",
   "execution_count": null,
   "id": "90f84952-6e0c-422c-974f-6be652885948",
   "metadata": {},
   "outputs": [],
   "source": []
  },
  {
   "cell_type": "code",
   "execution_count": null,
   "id": "907a3298-aab2-47af-8539-c073c24e6f3f",
   "metadata": {},
   "outputs": [],
   "source": []
  },
  {
   "cell_type": "code",
   "execution_count": null,
   "id": "331ca8ef-28d8-471f-8943-8e40c13aa478",
   "metadata": {},
   "outputs": [],
   "source": []
  },
  {
   "cell_type": "code",
   "execution_count": null,
   "id": "0452477d-0e01-4b8d-9bd6-f6f676c821f3",
   "metadata": {},
   "outputs": [],
   "source": []
  },
  {
   "cell_type": "code",
   "execution_count": null,
   "id": "86a8bcb0-73fc-4754-9562-63de48902511",
   "metadata": {},
   "outputs": [],
   "source": []
  },
  {
   "cell_type": "code",
   "execution_count": null,
   "id": "d75b764b-4906-4d5f-b838-2b6173c20c19",
   "metadata": {},
   "outputs": [],
   "source": []
  },
  {
   "cell_type": "code",
   "execution_count": null,
   "id": "ede5d83a-799d-46c8-b574-d708dc6ddac1",
   "metadata": {},
   "outputs": [],
   "source": []
  },
  {
   "cell_type": "code",
   "execution_count": null,
   "id": "5fef539f-01ca-496d-b8d1-f672edb1c608",
   "metadata": {},
   "outputs": [],
   "source": []
  },
  {
   "cell_type": "code",
   "execution_count": null,
   "id": "1224c54f-d073-4d00-a009-874d68adcad0",
   "metadata": {},
   "outputs": [],
   "source": []
  },
  {
   "cell_type": "code",
   "execution_count": null,
   "id": "306ecff8-5456-40f3-ac4c-4d3b0a235e8e",
   "metadata": {},
   "outputs": [],
   "source": []
  },
  {
   "cell_type": "code",
   "execution_count": null,
   "id": "e8ace0de-d549-4b53-8893-4aa29e01aa4a",
   "metadata": {},
   "outputs": [],
   "source": []
  },
  {
   "cell_type": "code",
   "execution_count": null,
   "id": "4ba23976-4913-4293-83c9-04bbdfa491b3",
   "metadata": {},
   "outputs": [],
   "source": []
  },
  {
   "cell_type": "code",
   "execution_count": null,
   "id": "6692335b-9d7e-49bf-b087-bd4f41f8dcf6",
   "metadata": {},
   "outputs": [],
   "source": []
  },
  {
   "cell_type": "code",
   "execution_count": null,
   "id": "b5853f8b-6cfd-4b19-846f-6a99a911e948",
   "metadata": {},
   "outputs": [],
   "source": []
  },
  {
   "cell_type": "code",
   "execution_count": null,
   "id": "4e89bf02-14d8-4529-9ec5-0b5306cd599b",
   "metadata": {},
   "outputs": [],
   "source": []
  },
  {
   "cell_type": "code",
   "execution_count": null,
   "id": "a30c8406-039a-41cc-bb8a-d4dc55f95329",
   "metadata": {},
   "outputs": [],
   "source": []
  },
  {
   "cell_type": "code",
   "execution_count": null,
   "id": "0ef1d4b3-36ac-413a-ac45-0da56c9631f6",
   "metadata": {},
   "outputs": [],
   "source": []
  },
  {
   "cell_type": "code",
   "execution_count": null,
   "id": "8db00f38-3cd6-4958-8a5e-26b79227c38e",
   "metadata": {},
   "outputs": [],
   "source": []
  },
  {
   "cell_type": "code",
   "execution_count": null,
   "id": "1a2ca2ae-4d5c-421a-b94c-06272aa90d08",
   "metadata": {},
   "outputs": [],
   "source": []
  },
  {
   "cell_type": "code",
   "execution_count": null,
   "id": "2043873b-eddd-498d-85ba-a90eedd7a57b",
   "metadata": {},
   "outputs": [],
   "source": []
  },
  {
   "cell_type": "code",
   "execution_count": null,
   "id": "56c4d33b-d7cb-4a84-9c6a-e53ca8ea328a",
   "metadata": {},
   "outputs": [],
   "source": []
  },
  {
   "cell_type": "code",
   "execution_count": null,
   "id": "1f96fddd-dec6-4e1c-95ab-4228f54f5fee",
   "metadata": {},
   "outputs": [],
   "source": []
  },
  {
   "cell_type": "code",
   "execution_count": null,
   "id": "5fcceeb3-d0bc-49b5-8f29-ce91cb098ec4",
   "metadata": {},
   "outputs": [],
   "source": []
  },
  {
   "cell_type": "code",
   "execution_count": null,
   "id": "05f7c25c-85b5-43c8-9022-3ae3a600bd46",
   "metadata": {},
   "outputs": [],
   "source": []
  },
  {
   "cell_type": "code",
   "execution_count": null,
   "id": "a9474294-bfac-4bf3-88ec-46d099a1f91c",
   "metadata": {},
   "outputs": [],
   "source": []
  },
  {
   "cell_type": "code",
   "execution_count": null,
   "id": "b6fe0f23-2512-4374-a6bc-1d710bea0611",
   "metadata": {},
   "outputs": [],
   "source": []
  },
  {
   "cell_type": "code",
   "execution_count": null,
   "id": "61276f1e-3185-4694-bdf9-055c552d5bd4",
   "metadata": {},
   "outputs": [],
   "source": []
  },
  {
   "cell_type": "code",
   "execution_count": null,
   "id": "6dc27662-51e5-434e-8c91-c69ec72305c6",
   "metadata": {},
   "outputs": [],
   "source": []
  },
  {
   "cell_type": "code",
   "execution_count": null,
   "id": "31215332-9b6a-4eed-bfcd-048a09bedee0",
   "metadata": {},
   "outputs": [],
   "source": []
  },
  {
   "cell_type": "code",
   "execution_count": null,
   "id": "12eea6e6-2edf-4cd9-927c-323166f57f71",
   "metadata": {},
   "outputs": [],
   "source": []
  },
  {
   "cell_type": "code",
   "execution_count": null,
   "id": "8b88f85d-046d-44cf-a521-704fbced0fa0",
   "metadata": {},
   "outputs": [],
   "source": []
  },
  {
   "cell_type": "code",
   "execution_count": null,
   "id": "568efdc0-4cf7-4733-a97d-b679c2cab1b2",
   "metadata": {},
   "outputs": [],
   "source": []
  },
  {
   "cell_type": "code",
   "execution_count": null,
   "id": "2c01319a-3b77-433c-b4aa-d2b70d3823c0",
   "metadata": {},
   "outputs": [],
   "source": []
  },
  {
   "cell_type": "code",
   "execution_count": null,
   "id": "0a954987-ea23-4ba6-a11a-0c3d9456e5eb",
   "metadata": {},
   "outputs": [],
   "source": []
  },
  {
   "cell_type": "code",
   "execution_count": null,
   "id": "82377863-604c-40c5-ae48-9854fc340ffb",
   "metadata": {},
   "outputs": [],
   "source": []
  },
  {
   "cell_type": "code",
   "execution_count": null,
   "id": "6c8c902d-e839-4614-add9-d851bacb96e8",
   "metadata": {},
   "outputs": [],
   "source": []
  },
  {
   "cell_type": "code",
   "execution_count": null,
   "id": "bf026c83-32d7-488d-89c9-bb82bdf35656",
   "metadata": {},
   "outputs": [],
   "source": []
  },
  {
   "cell_type": "code",
   "execution_count": null,
   "id": "709187e6-9c7a-44a2-b41f-ea06c36dda0a",
   "metadata": {},
   "outputs": [],
   "source": []
  },
  {
   "cell_type": "code",
   "execution_count": null,
   "id": "7aed9573-8d76-4de0-adf3-6302befd7e99",
   "metadata": {},
   "outputs": [],
   "source": []
  },
  {
   "cell_type": "code",
   "execution_count": null,
   "id": "313cbe81-9615-4720-8a64-62ea96e19e73",
   "metadata": {},
   "outputs": [],
   "source": []
  },
  {
   "cell_type": "code",
   "execution_count": null,
   "id": "30171d86-ee85-481b-9edd-702b392865f1",
   "metadata": {},
   "outputs": [],
   "source": []
  },
  {
   "cell_type": "code",
   "execution_count": null,
   "id": "746f5451-e1a8-476e-8aa2-0f7fa1bfd04f",
   "metadata": {},
   "outputs": [],
   "source": []
  },
  {
   "cell_type": "code",
   "execution_count": null,
   "id": "8e35bbbf-4fd3-4ab5-8ab6-d7f5d18bbbfa",
   "metadata": {},
   "outputs": [],
   "source": []
  },
  {
   "cell_type": "code",
   "execution_count": null,
   "id": "17487aa1-74cb-4060-9e4c-c68ab10f45a4",
   "metadata": {},
   "outputs": [],
   "source": []
  },
  {
   "cell_type": "code",
   "execution_count": null,
   "id": "ef350106-9608-4512-a401-f1517d8f5b60",
   "metadata": {},
   "outputs": [],
   "source": []
  },
  {
   "cell_type": "code",
   "execution_count": null,
   "id": "9daeb4fa-0752-4ed8-86c6-80c8394a798d",
   "metadata": {},
   "outputs": [],
   "source": []
  },
  {
   "cell_type": "code",
   "execution_count": null,
   "id": "9de70af5-1c9d-4ec8-a940-16ddc94938f1",
   "metadata": {},
   "outputs": [],
   "source": []
  },
  {
   "cell_type": "code",
   "execution_count": null,
   "id": "7567b4cf-0814-430e-8524-14855c7dfdef",
   "metadata": {},
   "outputs": [],
   "source": []
  },
  {
   "cell_type": "code",
   "execution_count": null,
   "id": "ddef566f-5baa-4078-9fb3-2f5b4485c37e",
   "metadata": {},
   "outputs": [],
   "source": []
  },
  {
   "cell_type": "code",
   "execution_count": null,
   "id": "c0326ec7-c334-49d1-b87b-af2b25d0f349",
   "metadata": {},
   "outputs": [],
   "source": []
  },
  {
   "cell_type": "code",
   "execution_count": null,
   "id": "588d845d-5884-4754-b015-9d41ec546d45",
   "metadata": {},
   "outputs": [],
   "source": []
  }
 ],
 "metadata": {
  "kernelspec": {
   "display_name": "Python 3 (ipykernel)",
   "language": "python",
   "name": "python3"
  },
  "language_info": {
   "codemirror_mode": {
    "name": "ipython",
    "version": 3
   },
   "file_extension": ".py",
   "mimetype": "text/x-python",
   "name": "python",
   "nbconvert_exporter": "python",
   "pygments_lexer": "ipython3",
   "version": "3.12.4"
  }
 },
 "nbformat": 4,
 "nbformat_minor": 5
}
