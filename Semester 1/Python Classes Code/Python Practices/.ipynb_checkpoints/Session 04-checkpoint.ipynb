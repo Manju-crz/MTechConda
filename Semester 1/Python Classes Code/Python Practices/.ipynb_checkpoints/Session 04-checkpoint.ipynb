{
 "cells": [
  {
   "cell_type": "markdown",
   "id": "0558e42f-fae2-4869-aa40-c704b1bd1914",
   "metadata": {},
   "source": [
    "# Python NumPy"
   ]
  },
  {
   "cell_type": "code",
   "execution_count": 3,
   "id": "3eef73d6-28ea-4546-9350-d1037e2383dd",
   "metadata": {},
   "outputs": [],
   "source": [
    "\"\"\"\n",
    "> Number Python\n",
    "> Used for - Mathematical and scientific computations which contains\n",
    "    multi-dimensional arrays and matrices\n",
    "> Also provides module called linalg which contains functions like - det, eig, norm ..\n",
    "    to apply linear algebra on numpy array\n",
    "> Numpy array is an central structure of the numpy library.\n",
    "    It is an n-dimensional array object containing rows and columns\n",
    "\"\"\"\n"
   ]
  },
  {
   "cell_type": "code",
   "execution_count": 5,
   "id": "db8ba3f7-4c2a-4437-8530-c5505435fd7f",
   "metadata": {},
   "outputs": [
    {
     "name": "stdout",
     "output_type": "stream",
     "text": [
      "Requirement already satisfied: numpy in c:\\users\\manju\\anaconda3\\lib\\site-packages (1.26.4)\n"
     ]
    }
   ],
   "source": [
    "!pip install numpy"
   ]
  },
  {
   "cell_type": "code",
   "execution_count": 61,
   "id": "f165168e-eee6-4f89-b4b7-d4280c8c3495",
   "metadata": {},
   "outputs": [],
   "source": [
    "import numpy as np"
   ]
  },
  {
   "cell_type": "code",
   "execution_count": null,
   "id": "c0c69b66-cfdb-48a6-9b49-a2e23102eab2",
   "metadata": {},
   "outputs": [],
   "source": []
  },
  {
   "cell_type": "code",
   "execution_count": 11,
   "id": "576a7339-1180-44e2-aa17-a880af95df9f",
   "metadata": {},
   "outputs": [
    {
     "data": {
      "text/plain": [
       "[2, 3, 5, 4]"
      ]
     },
     "execution_count": 11,
     "metadata": {},
     "output_type": "execute_result"
    }
   ],
   "source": [
    "list1 = [2,3,5,4]\n",
    "list1"
   ]
  },
  {
   "cell_type": "code",
   "execution_count": 15,
   "id": "f09478bb-808b-45a6-b4a8-761b8df935e6",
   "metadata": {},
   "outputs": [],
   "source": [
    "arr1 = np.array(list1)"
   ]
  },
  {
   "cell_type": "code",
   "execution_count": 19,
   "id": "164f0d8e-4df1-4d51-9a1a-4b20d0304a5c",
   "metadata": {},
   "outputs": [
    {
     "data": {
      "text/plain": [
       "array([2, 3, 5, 4])"
      ]
     },
     "execution_count": 19,
     "metadata": {},
     "output_type": "execute_result"
    }
   ],
   "source": [
    "arr1"
   ]
  },
  {
   "cell_type": "code",
   "execution_count": 21,
   "id": "f88ff4e4-3ddc-4dd6-ae3b-a54e20d6d06f",
   "metadata": {},
   "outputs": [
    {
     "data": {
      "text/plain": [
       "array([0., 0., 0., 0.])"
      ]
     },
     "execution_count": 21,
     "metadata": {},
     "output_type": "execute_result"
    }
   ],
   "source": [
    "np.zeros(shape = 4)"
   ]
  },
  {
   "cell_type": "code",
   "execution_count": 29,
   "id": "01f5a04f-e834-4c46-86f4-c484e294dc47",
   "metadata": {},
   "outputs": [
    {
     "data": {
      "text/plain": [
       "array([1., 1., 1., 1., 1., 1., 1., 1., 1., 1.])"
      ]
     },
     "execution_count": 29,
     "metadata": {},
     "output_type": "execute_result"
    }
   ],
   "source": [
    "np.ones(shape = 10)"
   ]
  },
  {
   "cell_type": "code",
   "execution_count": 45,
   "id": "5028baf8-692d-4b67-98d8-b7b5074271aa",
   "metadata": {},
   "outputs": [
    {
     "data": {
      "text/plain": [
       "array([0.74396728, 0.64607834, 0.45165712, 0.01277103, 0.41948936,\n",
       "       0.57917524, 0.54942291, 0.19683055, 0.73267556, 0.12847216])"
      ]
     },
     "execution_count": 45,
     "metadata": {},
     "output_type": "execute_result"
    }
   ],
   "source": [
    "np.random.random(10)"
   ]
  },
  {
   "cell_type": "code",
   "execution_count": 47,
   "id": "fc778a38-9336-40e2-8769-d6f183b1bde4",
   "metadata": {},
   "outputs": [
    {
     "data": {
      "text/plain": [
       "array([[0.30728134, 0.91304947, 0.98958062, 0.37292236, 0.38640373],\n",
       "       [0.20260617, 0.95220774, 0.41819127, 0.33664689, 0.99835035],\n",
       "       [0.88283667, 0.51600877, 0.98255347, 0.59183892, 0.22271726],\n",
       "       [0.85716414, 0.76863433, 0.31512408, 0.69621113, 0.71445488]])"
      ]
     },
     "execution_count": 47,
     "metadata": {},
     "output_type": "execute_result"
    }
   ],
   "source": [
    "np.random.rand(4, 5)"
   ]
  },
  {
   "cell_type": "code",
   "execution_count": 179,
   "id": "f4337ab2-b5eb-4f3b-bace-c03d0b49ce25",
   "metadata": {},
   "outputs": [
    {
     "data": {
      "text/plain": [
       "array([[[-0.0795259 ,  1.05577204],\n",
       "        [ 0.89151356,  2.15168606],\n",
       "        [-1.44905307,  0.89547631],\n",
       "        [ 0.51201659, -0.29481588]],\n",
       "\n",
       "       [[ 1.17402592,  0.55182906],\n",
       "        [ 0.62586093,  0.7935703 ],\n",
       "        [-0.87009157,  0.46268463],\n",
       "        [-0.21139602, -1.02938438]],\n",
       "\n",
       "       [[ 1.44771686,  0.8692729 ],\n",
       "        [-1.08455632,  1.63587875],\n",
       "        [-0.31207004,  0.19461659],\n",
       "        [ 2.35482333, -0.60256894]]])"
      ]
     },
     "execution_count": 179,
     "metadata": {},
     "output_type": "execute_result"
    }
   ],
   "source": [
    "np.random.randn(3, 4, 2)"
   ]
  },
  {
   "cell_type": "code",
   "execution_count": 63,
   "id": "1528b5a9-d02f-4c23-89ab-1dda356ee89b",
   "metadata": {},
   "outputs": [
    {
     "data": {
      "text/plain": [
       "3"
      ]
     },
     "execution_count": 63,
     "metadata": {},
     "output_type": "execute_result"
    }
   ],
   "source": [
    "np.random.randint(3, 4)"
   ]
  },
  {
   "cell_type": "code",
   "execution_count": 67,
   "id": "48fb6117-d2ce-4c69-ac34-60bde29aaa49",
   "metadata": {},
   "outputs": [
    {
     "data": {
      "text/plain": [
       "2"
      ]
     },
     "execution_count": 67,
     "metadata": {},
     "output_type": "execute_result"
    }
   ],
   "source": [
    "np.random.randint(3)"
   ]
  },
  {
   "cell_type": "code",
   "execution_count": 69,
   "id": "90f52a1f-9412-48dc-9483-36a98704fea2",
   "metadata": {},
   "outputs": [
    {
     "data": {
      "text/plain": [
       "0"
      ]
     },
     "execution_count": 69,
     "metadata": {},
     "output_type": "execute_result"
    }
   ],
   "source": [
    "np.random.randint(3)"
   ]
  },
  {
   "cell_type": "code",
   "execution_count": 71,
   "id": "d0d11bdd-24b4-4760-af64-520c960d1a64",
   "metadata": {},
   "outputs": [
    {
     "data": {
      "text/plain": [
       "0"
      ]
     },
     "execution_count": 71,
     "metadata": {},
     "output_type": "execute_result"
    }
   ],
   "source": [
    "np.random.randint(3)"
   ]
  },
  {
   "cell_type": "code",
   "execution_count": 73,
   "id": "2db10053-c8ff-4608-941c-801135dcbd53",
   "metadata": {},
   "outputs": [
    {
     "data": {
      "text/plain": [
       "2"
      ]
     },
     "execution_count": 73,
     "metadata": {},
     "output_type": "execute_result"
    }
   ],
   "source": [
    "np.random.randint(3)"
   ]
  },
  {
   "cell_type": "code",
   "execution_count": 75,
   "id": "4e20d2dd-d407-463a-8d44-43a030558c07",
   "metadata": {},
   "outputs": [
    {
     "data": {
      "text/plain": [
       "0"
      ]
     },
     "execution_count": 75,
     "metadata": {},
     "output_type": "execute_result"
    }
   ],
   "source": [
    "np.random.randint(3)"
   ]
  },
  {
   "cell_type": "code",
   "execution_count": 77,
   "id": "b6d1499b-0c54-4082-a4c1-721e22983113",
   "metadata": {},
   "outputs": [
    {
     "data": {
      "text/plain": [
       "0"
      ]
     },
     "execution_count": 77,
     "metadata": {},
     "output_type": "execute_result"
    }
   ],
   "source": [
    "np.random.randint(3)"
   ]
  },
  {
   "cell_type": "code",
   "execution_count": 79,
   "id": "4a736469-9fa3-4a51-a3ad-9c5a182cc6d9",
   "metadata": {},
   "outputs": [
    {
     "data": {
      "text/plain": [
       "0"
      ]
     },
     "execution_count": 79,
     "metadata": {},
     "output_type": "execute_result"
    }
   ],
   "source": [
    "np.random.randint(3)"
   ]
  },
  {
   "cell_type": "code",
   "execution_count": 81,
   "id": "8f2947ed-6760-4bf0-beb5-007f3c662250",
   "metadata": {},
   "outputs": [
    {
     "data": {
      "text/plain": [
       "2"
      ]
     },
     "execution_count": 81,
     "metadata": {},
     "output_type": "execute_result"
    }
   ],
   "source": [
    "np.random.randint(3)"
   ]
  },
  {
   "cell_type": "code",
   "execution_count": 83,
   "id": "62483f8c-07d0-43b6-827d-3d80c3c89947",
   "metadata": {},
   "outputs": [
    {
     "data": {
      "text/plain": [
       "4"
      ]
     },
     "execution_count": 83,
     "metadata": {},
     "output_type": "execute_result"
    }
   ],
   "source": [
    "np.random.randint(3, 9)"
   ]
  },
  {
   "cell_type": "code",
   "execution_count": 85,
   "id": "d78f107c-e26f-49e2-b59e-757e2fd14e40",
   "metadata": {},
   "outputs": [
    {
     "data": {
      "text/plain": [
       "4"
      ]
     },
     "execution_count": 85,
     "metadata": {},
     "output_type": "execute_result"
    }
   ],
   "source": [
    "np.random.randint(3, 9)"
   ]
  },
  {
   "cell_type": "code",
   "execution_count": 87,
   "id": "9f58a581-8a2a-44b5-9d29-d568adf227bc",
   "metadata": {},
   "outputs": [
    {
     "data": {
      "text/plain": [
       "6"
      ]
     },
     "execution_count": 87,
     "metadata": {},
     "output_type": "execute_result"
    }
   ],
   "source": [
    "np.random.randint(3, 9)"
   ]
  },
  {
   "cell_type": "code",
   "execution_count": 89,
   "id": "1a32724a-0452-4b3d-b387-aeeaa8e6f231",
   "metadata": {},
   "outputs": [
    {
     "data": {
      "text/plain": [
       "4"
      ]
     },
     "execution_count": 89,
     "metadata": {},
     "output_type": "execute_result"
    }
   ],
   "source": [
    "np.random.randint(3, 9)"
   ]
  },
  {
   "cell_type": "code",
   "execution_count": 91,
   "id": "f2b67bdb-2d25-4d4c-a18e-03c96d1be003",
   "metadata": {},
   "outputs": [
    {
     "data": {
      "text/plain": [
       "5"
      ]
     },
     "execution_count": 91,
     "metadata": {},
     "output_type": "execute_result"
    }
   ],
   "source": [
    "np.random.randint(3, 9)"
   ]
  },
  {
   "cell_type": "code",
   "execution_count": 93,
   "id": "29296537-850e-4641-9e28-12f2df2fc367",
   "metadata": {},
   "outputs": [
    {
     "data": {
      "text/plain": [
       "5"
      ]
     },
     "execution_count": 93,
     "metadata": {},
     "output_type": "execute_result"
    }
   ],
   "source": [
    "np.random.randint(3, 9)"
   ]
  },
  {
   "cell_type": "code",
   "execution_count": 111,
   "id": "87f89efa-17c3-4c5c-b3fc-592816c16d42",
   "metadata": {},
   "outputs": [
    {
     "data": {
      "text/plain": [
       "array([5, 7, 3, 5])"
      ]
     },
     "execution_count": 111,
     "metadata": {},
     "output_type": "execute_result"
    }
   ],
   "source": [
    "np.random.randint(3, 9, 4)"
   ]
  },
  {
   "cell_type": "code",
   "execution_count": 181,
   "id": "c9c6ac22-d26e-4b3b-8eb4-be98e4d9aaf0",
   "metadata": {},
   "outputs": [
    {
     "data": {
      "text/plain": [
       "array([ 3,  5,  7,  9, 11])"
      ]
     },
     "execution_count": 181,
     "metadata": {},
     "output_type": "execute_result"
    }
   ],
   "source": [
    "np.arange(3, 12, 2)"
   ]
  },
  {
   "cell_type": "code",
   "execution_count": 183,
   "id": "013ab9ec-195a-4c72-8b09-db627ae66746",
   "metadata": {},
   "outputs": [
    {
     "data": {
      "text/plain": [
       "array([0, 1, 2, 3])"
      ]
     },
     "execution_count": 183,
     "metadata": {},
     "output_type": "execute_result"
    }
   ],
   "source": [
    "np.arange(4)"
   ]
  },
  {
   "cell_type": "code",
   "execution_count": null,
   "id": "71057e75-709f-40c1-a3cb-bc851d3e8ae5",
   "metadata": {},
   "outputs": [],
   "source": []
  },
  {
   "cell_type": "markdown",
   "id": "875ef75a-1d8a-422f-bf57-4c8941b0c0f9",
   "metadata": {
    "jp-MarkdownHeadingCollapsed": true
   },
   "source": [
    "### Attributes of Array"
   ]
  },
  {
   "cell_type": "code",
   "execution_count": null,
   "id": "f6ede1e5-3fa7-41b3-bcb0-514614adeeac",
   "metadata": {},
   "outputs": [],
   "source": [
    "# size\n",
    "# intemsize\n",
    "# shape\n",
    "# ndim\n",
    "# dtype"
   ]
  },
  {
   "cell_type": "code",
   "execution_count": 175,
   "id": "8c8714fb-66ed-4da2-ad87-c7ec70bbd0c3",
   "metadata": {},
   "outputs": [],
   "source": [
    "array1 = np.array([2,4.6,99,7,2,6, 7.8, 2.4])"
   ]
  },
  {
   "cell_type": "code",
   "execution_count": 141,
   "id": "a23866e9-a2cd-4e31-a8b8-7b4898d9ebba",
   "metadata": {},
   "outputs": [
    {
     "data": {
      "text/plain": [
       "8"
      ]
     },
     "execution_count": 141,
     "metadata": {},
     "output_type": "execute_result"
    }
   ],
   "source": [
    "array1.size"
   ]
  },
  {
   "cell_type": "code",
   "execution_count": 143,
   "id": "f15546cf-ef07-4fca-9a75-976d52a4a652",
   "metadata": {},
   "outputs": [
    {
     "data": {
      "text/plain": [
       "4"
      ]
     },
     "execution_count": 143,
     "metadata": {},
     "output_type": "execute_result"
    }
   ],
   "source": [
    "array1.itemsize"
   ]
  },
  {
   "cell_type": "code",
   "execution_count": 147,
   "id": "c9c1287e-81ac-4757-89e7-647ac5cfe4d0",
   "metadata": {},
   "outputs": [
    {
     "data": {
      "text/plain": [
       "(8,)"
      ]
     },
     "execution_count": 147,
     "metadata": {},
     "output_type": "execute_result"
    }
   ],
   "source": [
    "array1.shape"
   ]
  },
  {
   "cell_type": "code",
   "execution_count": 155,
   "id": "c4c3cf52-99e6-4de9-abae-aa91fcfb37f8",
   "metadata": {},
   "outputs": [],
   "source": [
    "array2 = np.array([(2,4,99,7),(2,6,78,24)])"
   ]
  },
  {
   "cell_type": "code",
   "execution_count": 157,
   "id": "30aa89c2-6297-40e7-aceb-a12ff27833c7",
   "metadata": {},
   "outputs": [
    {
     "data": {
      "text/plain": [
       "8"
      ]
     },
     "execution_count": 157,
     "metadata": {},
     "output_type": "execute_result"
    }
   ],
   "source": [
    "array2.size"
   ]
  },
  {
   "cell_type": "code",
   "execution_count": 159,
   "id": "61986ebf-a7fe-4280-8146-8e53be2efcce",
   "metadata": {},
   "outputs": [
    {
     "data": {
      "text/plain": [
       "4"
      ]
     },
     "execution_count": 159,
     "metadata": {},
     "output_type": "execute_result"
    }
   ],
   "source": [
    "array2.itemsize"
   ]
  },
  {
   "cell_type": "code",
   "execution_count": 161,
   "id": "45ef4ea0-dd87-4c88-aba7-ae1f9bd8c523",
   "metadata": {},
   "outputs": [
    {
     "data": {
      "text/plain": [
       "(2, 4)"
      ]
     },
     "execution_count": 161,
     "metadata": {},
     "output_type": "execute_result"
    }
   ],
   "source": [
    "array2.shape"
   ]
  },
  {
   "cell_type": "code",
   "execution_count": 163,
   "id": "d2427dfa-4b1b-429d-86d1-7f17b61ec17a",
   "metadata": {},
   "outputs": [],
   "source": [
    "array3 = np.array([(2,4,99,7),(2,6,78,24),(3,3,3,3)])"
   ]
  },
  {
   "cell_type": "code",
   "execution_count": 165,
   "id": "802468fc-a801-4bd3-ba7b-df78eaad4385",
   "metadata": {},
   "outputs": [
    {
     "data": {
      "text/plain": [
       "(3, 4)"
      ]
     },
     "execution_count": 165,
     "metadata": {},
     "output_type": "execute_result"
    }
   ],
   "source": [
    "array3.shape"
   ]
  },
  {
   "cell_type": "code",
   "execution_count": 167,
   "id": "b1dc94d7-272c-432c-bb78-a397d964fb54",
   "metadata": {},
   "outputs": [
    {
     "data": {
      "text/plain": [
       "1"
      ]
     },
     "execution_count": 167,
     "metadata": {},
     "output_type": "execute_result"
    }
   ],
   "source": [
    "array1.ndim"
   ]
  },
  {
   "cell_type": "code",
   "execution_count": 169,
   "id": "94dc882b-6fa4-4704-81d0-b83b51a51421",
   "metadata": {},
   "outputs": [
    {
     "data": {
      "text/plain": [
       "2"
      ]
     },
     "execution_count": 169,
     "metadata": {},
     "output_type": "execute_result"
    }
   ],
   "source": [
    "array2.ndim"
   ]
  },
  {
   "cell_type": "code",
   "execution_count": 171,
   "id": "d46ac4dc-c0fc-45d3-88d3-304a6d3664d1",
   "metadata": {},
   "outputs": [
    {
     "data": {
      "text/plain": [
       "2"
      ]
     },
     "execution_count": 171,
     "metadata": {},
     "output_type": "execute_result"
    }
   ],
   "source": [
    "array3.ndim"
   ]
  },
  {
   "cell_type": "code",
   "execution_count": 173,
   "id": "c6069d7a-1cee-4718-9730-0d7bdac2114e",
   "metadata": {},
   "outputs": [
    {
     "data": {
      "text/plain": [
       "dtype('int32')"
      ]
     },
     "execution_count": 173,
     "metadata": {},
     "output_type": "execute_result"
    }
   ],
   "source": [
    "array3.dtype"
   ]
  },
  {
   "cell_type": "code",
   "execution_count": 177,
   "id": "9e4b6e1b-8772-4379-a147-f5f365a412be",
   "metadata": {},
   "outputs": [
    {
     "data": {
      "text/plain": [
       "dtype('float64')"
      ]
     },
     "execution_count": 177,
     "metadata": {},
     "output_type": "execute_result"
    }
   ],
   "source": [
    "array1.dtype"
   ]
  },
  {
   "cell_type": "code",
   "execution_count": 201,
   "id": "60efa8bc-39f0-4d92-88ed-381ec2222f4c",
   "metadata": {},
   "outputs": [],
   "source": [
    "array4 = np.random.randn(2, 3, 4)"
   ]
  },
  {
   "cell_type": "code",
   "execution_count": 203,
   "id": "6b5f347b-62a4-49d8-a425-38c4c1190da6",
   "metadata": {},
   "outputs": [
    {
     "data": {
      "text/plain": [
       "3"
      ]
     },
     "execution_count": 203,
     "metadata": {},
     "output_type": "execute_result"
    }
   ],
   "source": [
    "array4.ndim"
   ]
  },
  {
   "cell_type": "code",
   "execution_count": 205,
   "id": "f8e0d32a-417c-45f7-8fc0-9d84ff183223",
   "metadata": {},
   "outputs": [
    {
     "data": {
      "text/plain": [
       "array([[[-0.71254131,  0.86924509, -1.29529068, -0.64166286],\n",
       "        [-0.83613203,  0.13105897,  0.18146332,  0.01943249],\n",
       "        [-0.58046769, -1.35474792, -0.64740715, -0.30297867]],\n",
       "\n",
       "       [[ 1.58717112, -0.66315752, -0.56524058, -1.24514268],\n",
       "        [-0.30154541, -0.21664584,  1.27992206,  0.82803034],\n",
       "        [ 0.407218  , -0.89686313,  1.44878947, -0.17162434]]])"
      ]
     },
     "execution_count": 205,
     "metadata": {},
     "output_type": "execute_result"
    }
   ],
   "source": [
    "array4"
   ]
  },
  {
   "cell_type": "code",
   "execution_count": null,
   "id": "72d9602d-765b-400a-8be2-42f5eb071649",
   "metadata": {},
   "outputs": [],
   "source": []
  },
  {
   "cell_type": "markdown",
   "id": "78b889aa-49c9-44a3-9d35-5b271be84747",
   "metadata": {},
   "source": [
    "### reshape()"
   ]
  },
  {
   "cell_type": "code",
   "execution_count": 218,
   "id": "6a7137c2-46b4-4f9c-b309-0e4d0621cce6",
   "metadata": {},
   "outputs": [],
   "source": [
    "array5 = np.array([(2,3),(4,5),(6,7)])"
   ]
  },
  {
   "cell_type": "code",
   "execution_count": 220,
   "id": "d548614c-1071-4a3f-b588-545fb59ad0f7",
   "metadata": {},
   "outputs": [
    {
     "data": {
      "text/plain": [
       "array([[2, 3],\n",
       "       [4, 5],\n",
       "       [6, 7]])"
      ]
     },
     "execution_count": 220,
     "metadata": {},
     "output_type": "execute_result"
    }
   ],
   "source": [
    "array5"
   ]
  },
  {
   "cell_type": "code",
   "execution_count": 222,
   "id": "74d086de-e8c2-49ce-90da-97a8bba910d5",
   "metadata": {},
   "outputs": [],
   "source": [
    "reshapedarray5 = array5.reshape(2,3)"
   ]
  },
  {
   "cell_type": "code",
   "execution_count": 224,
   "id": "38516a21-3564-4cf0-8a13-5ec5024be619",
   "metadata": {},
   "outputs": [
    {
     "data": {
      "text/plain": [
       "array([[2, 3, 4],\n",
       "       [5, 6, 7]])"
      ]
     },
     "execution_count": 224,
     "metadata": {},
     "output_type": "execute_result"
    }
   ],
   "source": [
    "reshapedarray5"
   ]
  },
  {
   "cell_type": "code",
   "execution_count": null,
   "id": "cb0001e9-b1d4-4cd6-b208-355619f5d43e",
   "metadata": {},
   "outputs": [],
   "source": []
  },
  {
   "cell_type": "markdown",
   "id": "049d07f5-ae91-445b-bdc3-aa903d388eb1",
   "metadata": {},
   "source": [
    "### Indexing of an Array"
   ]
  },
  {
   "cell_type": "code",
   "execution_count": 227,
   "id": "ebc35feb-a888-4b84-9ab1-86aab88bdb2e",
   "metadata": {},
   "outputs": [
    {
     "data": {
      "text/plain": [
       "array([ 2. ,  4.6, 99. ,  7. ,  2. ,  6. ,  7.8,  2.4])"
      ]
     },
     "execution_count": 227,
     "metadata": {},
     "output_type": "execute_result"
    }
   ],
   "source": [
    "array1"
   ]
  },
  {
   "cell_type": "code",
   "execution_count": 233,
   "id": "42f50bc5-449c-455b-a529-8cc457d70422",
   "metadata": {},
   "outputs": [
    {
     "data": {
      "text/plain": [
       "6.0"
      ]
     },
     "execution_count": 233,
     "metadata": {},
     "output_type": "execute_result"
    }
   ],
   "source": [
    "array1[5]"
   ]
  },
  {
   "cell_type": "code",
   "execution_count": 237,
   "id": "61a3b41d-f63a-4bee-aeb4-4801b326bd57",
   "metadata": {},
   "outputs": [
    {
     "data": {
      "text/plain": [
       "7.8"
      ]
     },
     "execution_count": 237,
     "metadata": {},
     "output_type": "execute_result"
    }
   ],
   "source": [
    "array1[-2]"
   ]
  },
  {
   "cell_type": "code",
   "execution_count": 239,
   "id": "58e03429-6000-4fb3-aa78-5f34f1f7f22b",
   "metadata": {},
   "outputs": [
    {
     "data": {
      "text/plain": [
       "array([[ 2,  4, 99,  7],\n",
       "       [ 2,  6, 78, 24]])"
      ]
     },
     "execution_count": 239,
     "metadata": {},
     "output_type": "execute_result"
    }
   ],
   "source": [
    "array2"
   ]
  },
  {
   "cell_type": "code",
   "execution_count": 243,
   "id": "0ee4f307-cb4a-409b-aa89-c1278a179ea4",
   "metadata": {},
   "outputs": [],
   "source": [
    "array6 = np.array([(2,3,1),(4,3,6)])"
   ]
  },
  {
   "cell_type": "code",
   "execution_count": 245,
   "id": "b105cfbc-4d3d-4bd7-8ac5-e55b9a71ca33",
   "metadata": {},
   "outputs": [
    {
     "data": {
      "text/plain": [
       "array([[2, 3, 1],\n",
       "       [4, 3, 6]])"
      ]
     },
     "execution_count": 245,
     "metadata": {},
     "output_type": "execute_result"
    }
   ],
   "source": [
    "array6"
   ]
  },
  {
   "cell_type": "code",
   "execution_count": 247,
   "id": "003f6bb2-554a-4e14-bc2e-fd00b14de555",
   "metadata": {},
   "outputs": [
    {
     "data": {
      "text/plain": [
       "2"
      ]
     },
     "execution_count": 247,
     "metadata": {},
     "output_type": "execute_result"
    }
   ],
   "source": [
    "array6.ndim"
   ]
  },
  {
   "cell_type": "code",
   "execution_count": 249,
   "id": "5c2fbcac-0157-4719-bed4-ea7a696fc3a1",
   "metadata": {},
   "outputs": [
    {
     "data": {
      "text/plain": [
       "array([2, 3, 1])"
      ]
     },
     "execution_count": 249,
     "metadata": {},
     "output_type": "execute_result"
    }
   ],
   "source": [
    "array6[0]"
   ]
  },
  {
   "cell_type": "code",
   "execution_count": 251,
   "id": "4400b416-a498-4eaa-a9a4-cdbe30cc4016",
   "metadata": {},
   "outputs": [
    {
     "data": {
      "text/plain": [
       "array([4, 3, 6])"
      ]
     },
     "execution_count": 251,
     "metadata": {},
     "output_type": "execute_result"
    }
   ],
   "source": [
    "array6[1]"
   ]
  },
  {
   "cell_type": "code",
   "execution_count": 253,
   "id": "8e7e9b3d-90e3-42e6-8dc9-d5ea976c74cb",
   "metadata": {},
   "outputs": [
    {
     "data": {
      "text/plain": [
       "3"
      ]
     },
     "execution_count": 253,
     "metadata": {},
     "output_type": "execute_result"
    }
   ],
   "source": [
    "array6[0][1]"
   ]
  },
  {
   "cell_type": "code",
   "execution_count": 255,
   "id": "262ff1a1-e01f-4ed6-8a9d-06b75ce3ca32",
   "metadata": {},
   "outputs": [],
   "source": [
    "array7 = np.array([(2,3,1,6,3),(4,3,6,8,8)])"
   ]
  },
  {
   "cell_type": "code",
   "execution_count": 257,
   "id": "80afd5a8-4e32-4488-a40b-f8d5f017a06e",
   "metadata": {},
   "outputs": [
    {
     "data": {
      "text/plain": [
       "array([[2, 3, 1, 6, 3],\n",
       "       [4, 3, 6, 8, 8]])"
      ]
     },
     "execution_count": 257,
     "metadata": {},
     "output_type": "execute_result"
    }
   ],
   "source": [
    "array7"
   ]
  },
  {
   "cell_type": "code",
   "execution_count": 259,
   "id": "ada581f4-2d3d-48ad-aa86-e1996c6ea38f",
   "metadata": {},
   "outputs": [
    {
     "data": {
      "text/plain": [
       "array([2, 3, 1, 6, 3])"
      ]
     },
     "execution_count": 259,
     "metadata": {},
     "output_type": "execute_result"
    }
   ],
   "source": [
    "array7[0]"
   ]
  },
  {
   "cell_type": "code",
   "execution_count": 263,
   "id": "1cb14452-0e1a-4ffa-9924-31e41f853dab",
   "metadata": {},
   "outputs": [
    {
     "data": {
      "text/plain": [
       "array([2, 3, 1, 6])"
      ]
     },
     "execution_count": 263,
     "metadata": {},
     "output_type": "execute_result"
    }
   ],
   "source": [
    "array7[0][0:4]"
   ]
  },
  {
   "cell_type": "code",
   "execution_count": 273,
   "id": "db03ab3b-039a-4893-aeee-ac9cb14149e7",
   "metadata": {},
   "outputs": [
    {
     "data": {
      "text/plain": [
       "array([1, 3])"
      ]
     },
     "execution_count": 273,
     "metadata": {},
     "output_type": "execute_result"
    }
   ],
   "source": [
    "array7[0][2::2]"
   ]
  },
  {
   "cell_type": "code",
   "execution_count": null,
   "id": "05359edb-fa9e-4109-8038-311868337a49",
   "metadata": {},
   "outputs": [],
   "source": []
  },
  {
   "cell_type": "markdown",
   "id": "f6aade2a-49d3-4d65-9867-607636b18e44",
   "metadata": {},
   "source": [
    "### Comparison Operations"
   ]
  },
  {
   "cell_type": "code",
   "execution_count": 276,
   "id": "c15a1259-758c-4e68-a24b-98b2ac0d2f10",
   "metadata": {},
   "outputs": [
    {
     "data": {
      "text/plain": [
       "array([ 2. ,  4.6, 99. ,  7. ,  2. ,  6. ,  7.8,  2.4])"
      ]
     },
     "execution_count": 276,
     "metadata": {},
     "output_type": "execute_result"
    }
   ],
   "source": [
    "array1"
   ]
  },
  {
   "cell_type": "code",
   "execution_count": 278,
   "id": "1aaa1d6a-3f43-4519-9ce9-7595597ee802",
   "metadata": {},
   "outputs": [
    {
     "data": {
      "text/plain": [
       "array([[ 2,  4, 99,  7],\n",
       "       [ 2,  6, 78, 24]])"
      ]
     },
     "execution_count": 278,
     "metadata": {},
     "output_type": "execute_result"
    }
   ],
   "source": [
    "array2"
   ]
  },
  {
   "cell_type": "code",
   "execution_count": 280,
   "id": "2e41e452-2216-4106-975d-27edfedc89ea",
   "metadata": {},
   "outputs": [
    {
     "data": {
      "text/plain": [
       "array([[ 2,  4, 99,  7],\n",
       "       [ 2,  6, 78, 24],\n",
       "       [ 3,  3,  3,  3]])"
      ]
     },
     "execution_count": 280,
     "metadata": {},
     "output_type": "execute_result"
    }
   ],
   "source": [
    "array3"
   ]
  },
  {
   "cell_type": "code",
   "execution_count": 282,
   "id": "e92136d1-ce7f-41c4-ad4f-75398687743b",
   "metadata": {},
   "outputs": [
    {
     "data": {
      "text/plain": [
       "array([[[-0.71254131,  0.86924509, -1.29529068, -0.64166286],\n",
       "        [-0.83613203,  0.13105897,  0.18146332,  0.01943249],\n",
       "        [-0.58046769, -1.35474792, -0.64740715, -0.30297867]],\n",
       "\n",
       "       [[ 1.58717112, -0.66315752, -0.56524058, -1.24514268],\n",
       "        [-0.30154541, -0.21664584,  1.27992206,  0.82803034],\n",
       "        [ 0.407218  , -0.89686313,  1.44878947, -0.17162434]]])"
      ]
     },
     "execution_count": 282,
     "metadata": {},
     "output_type": "execute_result"
    }
   ],
   "source": [
    "array4"
   ]
  },
  {
   "cell_type": "code",
   "execution_count": 284,
   "id": "cc16ffa9-7e1e-471d-bdbe-73262a9edac1",
   "metadata": {},
   "outputs": [
    {
     "data": {
      "text/plain": [
       "array([[2, 3],\n",
       "       [4, 5],\n",
       "       [6, 7]])"
      ]
     },
     "execution_count": 284,
     "metadata": {},
     "output_type": "execute_result"
    }
   ],
   "source": [
    "array5"
   ]
  },
  {
   "cell_type": "code",
   "execution_count": 286,
   "id": "c4f57068-94c2-4015-890c-f3405401b87c",
   "metadata": {},
   "outputs": [
    {
     "data": {
      "text/plain": [
       "array([[2, 3, 1],\n",
       "       [4, 3, 6]])"
      ]
     },
     "execution_count": 286,
     "metadata": {},
     "output_type": "execute_result"
    }
   ],
   "source": [
    "array6"
   ]
  },
  {
   "cell_type": "code",
   "execution_count": 288,
   "id": "58af9154-835f-4f09-a01c-066f6c3c3f04",
   "metadata": {},
   "outputs": [
    {
     "data": {
      "text/plain": [
       "array([[2, 3, 1, 6, 3],\n",
       "       [4, 3, 6, 8, 8]])"
      ]
     },
     "execution_count": 288,
     "metadata": {},
     "output_type": "execute_result"
    }
   ],
   "source": [
    "array7"
   ]
  },
  {
   "cell_type": "code",
   "execution_count": 290,
   "id": "d6b1aa2a-9b4a-4cd8-9ec3-49c47d0b284d",
   "metadata": {},
   "outputs": [
    {
     "data": {
      "text/plain": [
       "array([ 2. ,  4.6, 99. ,  7. ,  2. ,  6. ,  7.8,  2.4])"
      ]
     },
     "execution_count": 290,
     "metadata": {},
     "output_type": "execute_result"
    }
   ],
   "source": [
    "array1"
   ]
  },
  {
   "cell_type": "code",
   "execution_count": 292,
   "id": "ad146ea5-e643-4494-ac9a-499183e42ab9",
   "metadata": {},
   "outputs": [
    {
     "data": {
      "text/plain": [
       "array([ True, False, False, False,  True,  True, False, False])"
      ]
     },
     "execution_count": 292,
     "metadata": {},
     "output_type": "execute_result"
    }
   ],
   "source": [
    "array1 % 2 == 0"
   ]
  },
  {
   "cell_type": "code",
   "execution_count": 294,
   "id": "063e719b-e6a4-4e68-8da7-aca589bab56d",
   "metadata": {},
   "outputs": [
    {
     "data": {
      "text/plain": [
       "array([False, False,  True,  True, False,  True,  True, False])"
      ]
     },
     "execution_count": 294,
     "metadata": {},
     "output_type": "execute_result"
    }
   ],
   "source": [
    "array1 > 5"
   ]
  },
  {
   "cell_type": "code",
   "execution_count": 298,
   "id": "edbf3cf1-e609-4ca7-b9d5-33ff0ec2246f",
   "metadata": {},
   "outputs": [],
   "source": []
  },
  {
   "cell_type": "markdown",
   "id": "c2aa6408-f740-4b35-a3d8-03e401969a21",
   "metadata": {},
   "source": [
    "### Arithmetic operations between 2 arrays"
   ]
  },
  {
   "cell_type": "code",
   "execution_count": 301,
   "id": "1be925c4-8887-4567-8d72-fbe05964611f",
   "metadata": {},
   "outputs": [],
   "source": [
    "arr11 = np.array([2,3,4,5])\n",
    "arr12 = np.array([4,2,6,4])"
   ]
  },
  {
   "cell_type": "code",
   "execution_count": 303,
   "id": "9fd931e2-5272-49bc-b45d-57a60015ff8f",
   "metadata": {},
   "outputs": [
    {
     "data": {
      "text/plain": [
       "array([ 6,  5, 10,  9])"
      ]
     },
     "execution_count": 303,
     "metadata": {},
     "output_type": "execute_result"
    }
   ],
   "source": [
    "arr11 + arr12"
   ]
  },
  {
   "cell_type": "code",
   "execution_count": 305,
   "id": "9fdd46d9-ffaf-4212-beff-2ae13b002af5",
   "metadata": {},
   "outputs": [
    {
     "data": {
      "text/plain": [
       "array([-2,  1, -2,  1])"
      ]
     },
     "execution_count": 305,
     "metadata": {},
     "output_type": "execute_result"
    }
   ],
   "source": [
    "arr11 - arr12"
   ]
  },
  {
   "cell_type": "code",
   "execution_count": 307,
   "id": "25da6d32-4f5a-47a0-b233-44e0d9a1ea1a",
   "metadata": {},
   "outputs": [
    {
     "data": {
      "text/plain": [
       "array([ 8,  6, 24, 20])"
      ]
     },
     "execution_count": 307,
     "metadata": {},
     "output_type": "execute_result"
    }
   ],
   "source": [
    "arr11 * arr12"
   ]
  },
  {
   "cell_type": "code",
   "execution_count": 309,
   "id": "3aa33b9a-c7db-41e0-99ed-21cb441d8268",
   "metadata": {},
   "outputs": [
    {
     "data": {
      "text/plain": [
       "array([0.5       , 1.5       , 0.66666667, 1.25      ])"
      ]
     },
     "execution_count": 309,
     "metadata": {},
     "output_type": "execute_result"
    }
   ],
   "source": [
    "arr11 / arr12"
   ]
  },
  {
   "cell_type": "code",
   "execution_count": 311,
   "id": "e4a9eb36-7d92-4390-9a2d-f79079ea8c0e",
   "metadata": {},
   "outputs": [],
   "source": [
    "arr12 = np.array([[2,3,4],[3,3,4],[2,4,6]])\n",
    "arr13 = np.array([[4,3,1],[4,3,2],[3,4,2]])\n"
   ]
  },
  {
   "cell_type": "code",
   "execution_count": 313,
   "id": "95fa84d8-9e65-43c9-b140-04d63254bfb8",
   "metadata": {},
   "outputs": [
    {
     "data": {
      "text/plain": [
       "array([[6, 6, 5],\n",
       "       [7, 6, 6],\n",
       "       [5, 8, 8]])"
      ]
     },
     "execution_count": 313,
     "metadata": {},
     "output_type": "execute_result"
    }
   ],
   "source": [
    "arr12 + arr13"
   ]
  },
  {
   "cell_type": "code",
   "execution_count": 315,
   "id": "245ed15e-3353-4039-8a18-aff0ffe16ad7",
   "metadata": {},
   "outputs": [
    {
     "data": {
      "text/plain": [
       "array([[-2,  0,  3],\n",
       "       [-1,  0,  2],\n",
       "       [-1,  0,  4]])"
      ]
     },
     "execution_count": 315,
     "metadata": {},
     "output_type": "execute_result"
    }
   ],
   "source": [
    "arr12 - arr13"
   ]
  },
  {
   "cell_type": "code",
   "execution_count": 317,
   "id": "b8996e2b-c122-49cc-9266-e6c06f185054",
   "metadata": {},
   "outputs": [
    {
     "data": {
      "text/plain": [
       "array([[ 8,  9,  4],\n",
       "       [12,  9,  8],\n",
       "       [ 6, 16, 12]])"
      ]
     },
     "execution_count": 317,
     "metadata": {},
     "output_type": "execute_result"
    }
   ],
   "source": [
    "arr12 * arr13"
   ]
  },
  {
   "cell_type": "code",
   "execution_count": 319,
   "id": "6c7cb3b6-08ca-496d-a529-f6dd0a4920ed",
   "metadata": {},
   "outputs": [
    {
     "data": {
      "text/plain": [
       "array([[0.5       , 1.        , 4.        ],\n",
       "       [0.75      , 1.        , 2.        ],\n",
       "       [0.66666667, 1.        , 3.        ]])"
      ]
     },
     "execution_count": 319,
     "metadata": {},
     "output_type": "execute_result"
    }
   ],
   "source": [
    "arr12 / arr13"
   ]
  },
  {
   "cell_type": "code",
   "execution_count": 321,
   "id": "9416d1bf-94b8-4f46-bc53-38ccc6595740",
   "metadata": {},
   "outputs": [
    {
     "data": {
      "text/plain": [
       "array([[2, 3, 4],\n",
       "       [3, 3, 4],\n",
       "       [2, 4, 6]])"
      ]
     },
     "execution_count": 321,
     "metadata": {},
     "output_type": "execute_result"
    }
   ],
   "source": [
    "arr12"
   ]
  },
  {
   "cell_type": "code",
   "execution_count": 323,
   "id": "95a3c769-d433-42c0-83de-370b4455a0be",
   "metadata": {},
   "outputs": [
    {
     "data": {
      "text/plain": [
       "array([[4, 3, 1],\n",
       "       [4, 3, 2],\n",
       "       [3, 4, 2]])"
      ]
     },
     "execution_count": 323,
     "metadata": {},
     "output_type": "execute_result"
    }
   ],
   "source": [
    "arr13"
   ]
  },
  {
   "cell_type": "code",
   "execution_count": 325,
   "id": "287c40c6-3f54-49b8-9d0a-304e8f39ef33",
   "metadata": {},
   "outputs": [
    {
     "data": {
      "text/plain": [
       "array([[32, 31, 16],\n",
       "       [36, 34, 17],\n",
       "       [42, 42, 22]])"
      ]
     },
     "execution_count": 325,
     "metadata": {},
     "output_type": "execute_result"
    }
   ],
   "source": [
    "arr12.dot(arr13)"
   ]
  },
  {
   "cell_type": "code",
   "execution_count": 327,
   "id": "8dae413c-5aae-4eb4-a5c7-98984a9fd3b8",
   "metadata": {},
   "outputs": [
    {
     "data": {
      "text/plain": [
       "array([[ 8,  9,  4],\n",
       "       [12,  9,  8],\n",
       "       [ 6, 16, 12]])"
      ]
     },
     "execution_count": 327,
     "metadata": {},
     "output_type": "execute_result"
    }
   ],
   "source": [
    "arr12 * arr13"
   ]
  },
  {
   "cell_type": "markdown",
   "id": "7e9d5d48-c38c-4e69-9a4c-351e592d427d",
   "metadata": {},
   "source": [
    "### dot function"
   ]
  },
  {
   "cell_type": "code",
   "execution_count": 329,
   "id": "1aa77691-b0bf-4874-aab6-4e817ec2d9cf",
   "metadata": {},
   "outputs": [
    {
     "data": {
      "text/plain": [
       "array([[32, 31, 16],\n",
       "       [36, 34, 17],\n",
       "       [42, 42, 22]])"
      ]
     },
     "execution_count": 329,
     "metadata": {},
     "output_type": "execute_result"
    }
   ],
   "source": [
    "arr12.dot(arr13)"
   ]
  },
  {
   "cell_type": "code",
   "execution_count": 331,
   "id": "bbd084e2-b6ad-40be-a152-12caf5c621c1",
   "metadata": {},
   "outputs": [
    {
     "data": {
      "text/plain": [
       "array([[2, 3, 4],\n",
       "       [3, 3, 4],\n",
       "       [2, 4, 6]])"
      ]
     },
     "execution_count": 331,
     "metadata": {},
     "output_type": "execute_result"
    }
   ],
   "source": [
    "arr12"
   ]
  },
  {
   "cell_type": "code",
   "execution_count": 333,
   "id": "51564558-e454-453b-a199-8f76752190be",
   "metadata": {},
   "outputs": [
    {
     "data": {
      "text/plain": [
       "array([[4, 3, 1],\n",
       "       [4, 3, 2],\n",
       "       [3, 4, 2]])"
      ]
     },
     "execution_count": 333,
     "metadata": {},
     "output_type": "execute_result"
    }
   ],
   "source": [
    "arr13"
   ]
  },
  {
   "cell_type": "code",
   "execution_count": 335,
   "id": "b69906d1-f8b8-4840-a269-71b31c051fa4",
   "metadata": {},
   "outputs": [
    {
     "data": {
      "text/plain": [
       "array([[32, 31, 16],\n",
       "       [36, 34, 17],\n",
       "       [42, 42, 22]])"
      ]
     },
     "execution_count": 335,
     "metadata": {},
     "output_type": "execute_result"
    }
   ],
   "source": [
    "arr12.dot(arr13)"
   ]
  },
  {
   "cell_type": "code",
   "execution_count": null,
   "id": "f08db6a2-7bb7-47c0-8718-6579ce36d835",
   "metadata": {},
   "outputs": [],
   "source": []
  },
  {
   "cell_type": "markdown",
   "id": "5614cf0c-402f-4451-847b-a2135500dd8b",
   "metadata": {},
   "source": [
    "### Arithmetic functions"
   ]
  },
  {
   "cell_type": "code",
   "execution_count": 343,
   "id": "6072d74b-2f65-476f-acf9-3be49d2fe108",
   "metadata": {},
   "outputs": [
    {
     "data": {
      "text/plain": [
       "array([2, 3, 4, 5])"
      ]
     },
     "execution_count": 343,
     "metadata": {},
     "output_type": "execute_result"
    }
   ],
   "source": [
    "arr11"
   ]
  },
  {
   "cell_type": "code",
   "execution_count": 345,
   "id": "28a847a9-256e-4a6e-9391-a0607b9af1c0",
   "metadata": {},
   "outputs": [
    {
     "data": {
      "text/plain": [
       "14"
      ]
     },
     "execution_count": 345,
     "metadata": {},
     "output_type": "execute_result"
    }
   ],
   "source": [
    "arr11.sum()"
   ]
  },
  {
   "cell_type": "code",
   "execution_count": 347,
   "id": "8a283742-f2be-4864-accc-2e98dded43c8",
   "metadata": {},
   "outputs": [
    {
     "data": {
      "text/plain": [
       "2"
      ]
     },
     "execution_count": 347,
     "metadata": {},
     "output_type": "execute_result"
    }
   ],
   "source": [
    "arr11.min()"
   ]
  },
  {
   "cell_type": "code",
   "execution_count": 349,
   "id": "9be6a180-5f00-40d5-a9cc-ff49dcdd69f9",
   "metadata": {},
   "outputs": [
    {
     "data": {
      "text/plain": [
       "5"
      ]
     },
     "execution_count": 349,
     "metadata": {},
     "output_type": "execute_result"
    }
   ],
   "source": [
    "arr11.max()"
   ]
  },
  {
   "cell_type": "code",
   "execution_count": 351,
   "id": "acfaca04-df48-46cd-9d9c-9fee19e5a31f",
   "metadata": {},
   "outputs": [
    {
     "data": {
      "text/plain": [
       "array([ 4,  9, 16, 25], dtype=int32)"
      ]
     },
     "execution_count": 351,
     "metadata": {},
     "output_type": "execute_result"
    }
   ],
   "source": [
    "np.power(arr11, 2)"
   ]
  },
  {
   "cell_type": "code",
   "execution_count": null,
   "id": "f70f1ebc-6fa8-4241-9bad-649020b9a61b",
   "metadata": {},
   "outputs": [],
   "source": []
  },
  {
   "cell_type": "markdown",
   "id": "ba57e282-df88-46a5-a5a5-c4d4f937a7d3",
   "metadata": {},
   "source": [
    "### Concatenate arrays"
   ]
  },
  {
   "cell_type": "code",
   "execution_count": 354,
   "id": "30b68647-afa3-407b-be12-c89da1dba541",
   "metadata": {},
   "outputs": [
    {
     "data": {
      "text/plain": [
       "array([2, 3, 4, 5])"
      ]
     },
     "execution_count": 354,
     "metadata": {},
     "output_type": "execute_result"
    }
   ],
   "source": [
    "arr11"
   ]
  },
  {
   "cell_type": "code",
   "execution_count": 356,
   "id": "94693158-a3f3-40de-a06c-96ed978d8f70",
   "metadata": {},
   "outputs": [
    {
     "data": {
      "text/plain": [
       "array([[2, 3, 4],\n",
       "       [3, 3, 4],\n",
       "       [2, 4, 6]])"
      ]
     },
     "execution_count": 356,
     "metadata": {},
     "output_type": "execute_result"
    }
   ],
   "source": [
    "arr12"
   ]
  },
  {
   "cell_type": "code",
   "execution_count": 358,
   "id": "4a550db1-5cc1-4037-8514-367404d3d93d",
   "metadata": {},
   "outputs": [
    {
     "data": {
      "text/plain": [
       "array([[4, 3, 1],\n",
       "       [4, 3, 2],\n",
       "       [3, 4, 2]])"
      ]
     },
     "execution_count": 358,
     "metadata": {},
     "output_type": "execute_result"
    }
   ],
   "source": [
    "arr13"
   ]
  },
  {
   "cell_type": "code",
   "execution_count": 360,
   "id": "73ecd347-bf98-4869-8011-1b9242170cb6",
   "metadata": {},
   "outputs": [],
   "source": [
    "arr10 = np.array([5, 8, 1, 1])"
   ]
  },
  {
   "cell_type": "code",
   "execution_count": 362,
   "id": "373f3005-542a-42d7-9f13-f9c5b1cae029",
   "metadata": {},
   "outputs": [
    {
     "data": {
      "text/plain": [
       "array([5, 8, 1, 1])"
      ]
     },
     "execution_count": 362,
     "metadata": {},
     "output_type": "execute_result"
    }
   ],
   "source": [
    "arr10"
   ]
  },
  {
   "cell_type": "code",
   "execution_count": 364,
   "id": "3b9024a5-bb53-4eed-a95c-c218320d2d62",
   "metadata": {},
   "outputs": [
    {
     "data": {
      "text/plain": [
       "array([2, 3, 4, 5])"
      ]
     },
     "execution_count": 364,
     "metadata": {},
     "output_type": "execute_result"
    }
   ],
   "source": [
    "arr11"
   ]
  },
  {
   "cell_type": "code",
   "execution_count": 370,
   "id": "92465cea-0891-4e87-be2a-966e6be4c942",
   "metadata": {},
   "outputs": [
    {
     "data": {
      "text/plain": [
       "array([5, 8, 1, 1, 2, 3, 4, 5])"
      ]
     },
     "execution_count": 370,
     "metadata": {},
     "output_type": "execute_result"
    }
   ],
   "source": [
    "np.concatenate([arr10, arr11])"
   ]
  },
  {
   "cell_type": "code",
   "execution_count": 372,
   "id": "a55d9a9b-caed-4f6d-85fe-79bd52dcee20",
   "metadata": {},
   "outputs": [
    {
     "data": {
      "text/plain": [
       "array([[ 2,  4, 99,  7],\n",
       "       [ 2,  6, 78, 24]])"
      ]
     },
     "execution_count": 372,
     "metadata": {},
     "output_type": "execute_result"
    }
   ],
   "source": [
    "array2"
   ]
  },
  {
   "cell_type": "code",
   "execution_count": 374,
   "id": "1bbc7037-2234-4256-86a8-9fb7f5bae174",
   "metadata": {},
   "outputs": [
    {
     "data": {
      "text/plain": [
       "array([[ 2,  4, 99,  7],\n",
       "       [ 2,  6, 78, 24],\n",
       "       [ 3,  3,  3,  3]])"
      ]
     },
     "execution_count": 374,
     "metadata": {},
     "output_type": "execute_result"
    }
   ],
   "source": [
    "array3"
   ]
  },
  {
   "cell_type": "code",
   "execution_count": 376,
   "id": "396ade98-136e-47cc-b7a6-0c858b91d0eb",
   "metadata": {},
   "outputs": [
    {
     "data": {
      "text/plain": [
       "array([[ 2,  4, 99,  7],\n",
       "       [ 2,  6, 78, 24],\n",
       "       [ 2,  4, 99,  7],\n",
       "       [ 2,  6, 78, 24],\n",
       "       [ 3,  3,  3,  3]])"
      ]
     },
     "execution_count": 376,
     "metadata": {},
     "output_type": "execute_result"
    }
   ],
   "source": [
    "np.concatenate([array2, array3])"
   ]
  },
  {
   "cell_type": "code",
   "execution_count": 384,
   "id": "18d59fb7-24c3-450d-a1a2-23b969c4f607",
   "metadata": {},
   "outputs": [
    {
     "data": {
      "text/plain": [
       "array([[ 2,  4, 99,  7],\n",
       "       [ 2,  6, 78, 24],\n",
       "       [ 2,  4, 99,  7],\n",
       "       [ 2,  6, 78, 24],\n",
       "       [ 3,  3,  3,  3]])"
      ]
     },
     "execution_count": 384,
     "metadata": {},
     "output_type": "execute_result"
    }
   ],
   "source": [
    "np.concatenate([array2, array3])"
   ]
  },
  {
   "cell_type": "code",
   "execution_count": null,
   "id": "671c909e-272c-4327-9436-8b91d0c0933f",
   "metadata": {},
   "outputs": [],
   "source": []
  },
  {
   "cell_type": "markdown",
   "id": "67c79b54-da74-4ddc-8d23-9fa0c895b7cc",
   "metadata": {},
   "source": [
    "### Stacking"
   ]
  },
  {
   "cell_type": "code",
   "execution_count": null,
   "id": "0e445856-76ae-459a-843a-fd35468b0822",
   "metadata": {},
   "outputs": [],
   "source": [
    "# stack()"
   ]
  },
  {
   "cell_type": "code",
   "execution_count": 390,
   "id": "9afee1a9-d8ff-42b2-9f38-3f4e7d99df9a",
   "metadata": {},
   "outputs": [],
   "source": [
    "arr21 = np.array([[1,2],[3,4]])"
   ]
  },
  {
   "cell_type": "code",
   "execution_count": 392,
   "id": "55117c0a-602e-46b9-9e2e-b0d3a62a9551",
   "metadata": {},
   "outputs": [
    {
     "data": {
      "text/plain": [
       "array([[1, 2],\n",
       "       [3, 4]])"
      ]
     },
     "execution_count": 392,
     "metadata": {},
     "output_type": "execute_result"
    }
   ],
   "source": [
    "arr21"
   ]
  },
  {
   "cell_type": "code",
   "execution_count": 394,
   "id": "a08fb5a2-6892-4099-ae47-86817fa0f60c",
   "metadata": {},
   "outputs": [],
   "source": [
    "arr22 = np.array([[5,6],[7,8]])"
   ]
  },
  {
   "cell_type": "code",
   "execution_count": 396,
   "id": "3e486a5d-433b-434c-9174-78091cc8c3f3",
   "metadata": {},
   "outputs": [
    {
     "data": {
      "text/plain": [
       "array([[5, 6],\n",
       "       [7, 8]])"
      ]
     },
     "execution_count": 396,
     "metadata": {},
     "output_type": "execute_result"
    }
   ],
   "source": [
    "arr22"
   ]
  },
  {
   "cell_type": "code",
   "execution_count": 398,
   "id": "bcf081b3-3ad9-45f7-bc4c-1d2a4e0218b4",
   "metadata": {},
   "outputs": [
    {
     "data": {
      "text/plain": [
       "array([[[1, 2],\n",
       "        [3, 4]],\n",
       "\n",
       "       [[5, 6],\n",
       "        [7, 8]]])"
      ]
     },
     "execution_count": 398,
     "metadata": {},
     "output_type": "execute_result"
    }
   ],
   "source": [
    "np.stack([arr21, arr22])"
   ]
  },
  {
   "cell_type": "code",
   "execution_count": 400,
   "id": "c2638b32-480f-4c91-a79d-309fb527988c",
   "metadata": {},
   "outputs": [
    {
     "data": {
      "text/plain": [
       "array([[1, 2],\n",
       "       [3, 4],\n",
       "       [5, 6],\n",
       "       [7, 8]])"
      ]
     },
     "execution_count": 400,
     "metadata": {},
     "output_type": "execute_result"
    }
   ],
   "source": [
    "np.concatenate([arr21, arr22])"
   ]
  },
  {
   "cell_type": "code",
   "execution_count": 402,
   "id": "8f5a2ba2-07bb-44a4-ad43-4cd8a05b87b1",
   "metadata": {},
   "outputs": [
    {
     "data": {
      "text/plain": [
       "array([[1, 2, 5, 6],\n",
       "       [3, 4, 7, 8]])"
      ]
     },
     "execution_count": 402,
     "metadata": {},
     "output_type": "execute_result"
    }
   ],
   "source": [
    "np.hstack([arr21, arr22])"
   ]
  },
  {
   "cell_type": "code",
   "execution_count": 404,
   "id": "330fcf77-ad6f-4be4-ae3e-0f926c43dd36",
   "metadata": {},
   "outputs": [
    {
     "data": {
      "text/plain": [
       "array([[1, 2],\n",
       "       [3, 4],\n",
       "       [5, 6],\n",
       "       [7, 8]])"
      ]
     },
     "execution_count": 404,
     "metadata": {},
     "output_type": "execute_result"
    }
   ],
   "source": [
    "np.vstack([arr21, arr22])"
   ]
  },
  {
   "cell_type": "code",
   "execution_count": 406,
   "id": "f6213b06-4927-47d6-9a0d-49c31f73f0de",
   "metadata": {},
   "outputs": [
    {
     "data": {
      "text/plain": [
       "array([[[1, 5],\n",
       "        [2, 6]],\n",
       "\n",
       "       [[3, 7],\n",
       "        [4, 8]]])"
      ]
     },
     "execution_count": 406,
     "metadata": {},
     "output_type": "execute_result"
    }
   ],
   "source": [
    "np.dstack([arr21, arr22])"
   ]
  },
  {
   "cell_type": "code",
   "execution_count": null,
   "id": "a2083ece-802b-4d4d-af64-ea5159668c08",
   "metadata": {},
   "outputs": [],
   "source": []
  },
  {
   "cell_type": "code",
   "execution_count": 408,
   "id": "1dc974c8-c45b-412e-9ba1-885662499c7d",
   "metadata": {},
   "outputs": [
    {
     "data": {
      "text/plain": [
       "array([[1, 2, 5, 6],\n",
       "       [3, 4, 7, 8]])"
      ]
     },
     "execution_count": 408,
     "metadata": {},
     "output_type": "execute_result"
    }
   ],
   "source": [
    "np.column_stack([arr21, arr22])"
   ]
  },
  {
   "cell_type": "code",
   "execution_count": 410,
   "id": "323e9726-946f-4928-a450-44ac81e7234c",
   "metadata": {},
   "outputs": [],
   "source": [
    "arr23 = np.array([2,3])\n",
    "arr24 = np.array([4,5])\n"
   ]
  },
  {
   "cell_type": "code",
   "execution_count": 412,
   "id": "0b82634a-51e8-41cb-9e45-5e5109c72ab2",
   "metadata": {},
   "outputs": [
    {
     "data": {
      "text/plain": [
       "array([[2, 4],\n",
       "       [3, 5]])"
      ]
     },
     "execution_count": 412,
     "metadata": {},
     "output_type": "execute_result"
    }
   ],
   "source": [
    "np.column_stack([arr23, arr24])"
   ]
  },
  {
   "cell_type": "code",
   "execution_count": null,
   "id": "e5228d53-e40c-4836-b6d1-2d2784bf4061",
   "metadata": {},
   "outputs": [],
   "source": []
  },
  {
   "cell_type": "markdown",
   "id": "53de0ca3-5a6c-4e96-995a-54a2e9bf0af5",
   "metadata": {},
   "source": [
    "### block() function"
   ]
  },
  {
   "cell_type": "code",
   "execution_count": 415,
   "id": "b5be1419-02be-467d-9cbc-5a7d84bb020c",
   "metadata": {},
   "outputs": [],
   "source": [
    "arr31 = np.zeros((2,2))\n",
    "arr32 = np.ones((2,2))\n",
    "arr33 = np.ones((2,2))\n",
    "arr34 = np.zeros((2,2))"
   ]
  },
  {
   "cell_type": "code",
   "execution_count": 417,
   "id": "966a4cb6-361c-4d10-b76f-7bf52225c726",
   "metadata": {},
   "outputs": [
    {
     "data": {
      "text/plain": [
       "array([[0., 0., 1., 1.],\n",
       "       [0., 0., 1., 1.],\n",
       "       [1., 1., 0., 0.],\n",
       "       [1., 1., 0., 0.]])"
      ]
     },
     "execution_count": 417,
     "metadata": {},
     "output_type": "execute_result"
    }
   ],
   "source": [
    "np.block([[arr31, arr33],[arr32, arr34]])"
   ]
  },
  {
   "cell_type": "code",
   "execution_count": null,
   "id": "301b7a0e-88e4-40be-bf4e-9831e192ffa5",
   "metadata": {},
   "outputs": [],
   "source": []
  },
  {
   "cell_type": "markdown",
   "id": "2eb91840-14ac-4185-9410-101db154b7c1",
   "metadata": {},
   "source": [
    "### split fucntions"
   ]
  },
  {
   "cell_type": "code",
   "execution_count": 420,
   "id": "0e281fe3-6deb-4b2d-969b-84a2241069aa",
   "metadata": {},
   "outputs": [
    {
     "data": {
      "text/plain": [
       "array([ 2. ,  4.6, 99. ,  7. ,  2. ,  6. ,  7.8,  2.4])"
      ]
     },
     "execution_count": 420,
     "metadata": {},
     "output_type": "execute_result"
    }
   ],
   "source": [
    "array1"
   ]
  },
  {
   "cell_type": "code",
   "execution_count": 424,
   "id": "59fcb86b-00a8-4b83-bed6-80df948e8b0c",
   "metadata": {},
   "outputs": [
    {
     "data": {
      "text/plain": [
       "[array([ 2. ,  4.6, 99. ,  7. ]), array([2. , 6. , 7.8, 2.4])]"
      ]
     },
     "execution_count": 424,
     "metadata": {},
     "output_type": "execute_result"
    }
   ],
   "source": [
    "np.split(array1, 2)"
   ]
  },
  {
   "cell_type": "code",
   "execution_count": 426,
   "id": "aebbe163-06f5-4bf4-9f66-4ac5e87fc83a",
   "metadata": {},
   "outputs": [
    {
     "data": {
      "text/plain": [
       "[array([2.]), array([ 4.6, 99. ]), array([7. , 2. , 6. , 7.8, 2.4])]"
      ]
     },
     "execution_count": 426,
     "metadata": {},
     "output_type": "execute_result"
    }
   ],
   "source": [
    "np.split(array1, [1,3])"
   ]
  },
  {
   "cell_type": "code",
   "execution_count": 428,
   "id": "44acac2b-1382-4a66-b0c1-933e40f4f149",
   "metadata": {},
   "outputs": [
    {
     "data": {
      "text/plain": [
       "[array([ 2. ,  4.6, 99. ]), array([7., 2.]), array([6. , 7.8, 2.4])]"
      ]
     },
     "execution_count": 428,
     "metadata": {},
     "output_type": "execute_result"
    }
   ],
   "source": [
    "np.split(array1, [3,5])"
   ]
  },
  {
   "cell_type": "code",
   "execution_count": null,
   "id": "47b05b61-8905-4993-8301-c2800db69a24",
   "metadata": {},
   "outputs": [],
   "source": []
  },
  {
   "cell_type": "code",
   "execution_count": 433,
   "id": "f12174b2-bb98-44f4-bd19-1eb197dbe41e",
   "metadata": {},
   "outputs": [
    {
     "data": {
      "text/plain": [
       "[array([ 2. ,  4.6, 99. ]), array([7., 2., 6.]), array([7.8, 2.4])]"
      ]
     },
     "execution_count": 433,
     "metadata": {},
     "output_type": "execute_result"
    }
   ],
   "source": [
    "np.array_split(array1, 3)"
   ]
  },
  {
   "cell_type": "code",
   "execution_count": null,
   "id": "6a0a1dde-00ea-47f2-8b71-b01f2624c35c",
   "metadata": {},
   "outputs": [],
   "source": []
  },
  {
   "cell_type": "code",
   "execution_count": 443,
   "id": "ba62b9c9-1197-4891-b244-9e1bed26f22a",
   "metadata": {},
   "outputs": [
    {
     "data": {
      "text/plain": [
       "list"
      ]
     },
     "execution_count": 443,
     "metadata": {},
     "output_type": "execute_result"
    }
   ],
   "source": [
    "arr = np.hsplit(array1, 2)\n",
    "type(arr)"
   ]
  },
  {
   "cell_type": "code",
   "execution_count": 449,
   "id": "88591f66-0a07-4a58-a6fc-fa433560f260",
   "metadata": {},
   "outputs": [
    {
     "data": {
      "text/plain": [
       "[array([[ 2,  4, 99,  7]]), array([[ 2,  6, 78, 24]])]"
      ]
     },
     "execution_count": 449,
     "metadata": {},
     "output_type": "execute_result"
    }
   ],
   "source": [
    "np.vsplit(array2, 2)"
   ]
  },
  {
   "cell_type": "code",
   "execution_count": 451,
   "id": "12b6fc77-949f-43ae-92b2-d445ea15cb2e",
   "metadata": {},
   "outputs": [
    {
     "data": {
      "text/plain": [
       "array([[ 2,  4, 99,  7],\n",
       "       [ 2,  6, 78, 24]])"
      ]
     },
     "execution_count": 451,
     "metadata": {},
     "output_type": "execute_result"
    }
   ],
   "source": [
    "array2"
   ]
  },
  {
   "cell_type": "code",
   "execution_count": 455,
   "id": "bf97dd90-6d02-410e-8772-59d07dc6878b",
   "metadata": {},
   "outputs": [],
   "source": [
    "arr4 = np.arange(16).reshape(2,4,2)"
   ]
  },
  {
   "cell_type": "code",
   "execution_count": 457,
   "id": "e674211d-d580-4dc1-aa8b-354fdaa6d1ee",
   "metadata": {},
   "outputs": [
    {
     "data": {
      "text/plain": [
       "array([[[ 0,  1],\n",
       "        [ 2,  3],\n",
       "        [ 4,  5],\n",
       "        [ 6,  7]],\n",
       "\n",
       "       [[ 8,  9],\n",
       "        [10, 11],\n",
       "        [12, 13],\n",
       "        [14, 15]]])"
      ]
     },
     "execution_count": 457,
     "metadata": {},
     "output_type": "execute_result"
    }
   ],
   "source": [
    "arr4"
   ]
  },
  {
   "cell_type": "code",
   "execution_count": 459,
   "id": "a1936f18-173e-44ac-a3dd-645244a20a83",
   "metadata": {},
   "outputs": [
    {
     "data": {
      "text/plain": [
       "[array([[[ 0],\n",
       "         [ 2],\n",
       "         [ 4],\n",
       "         [ 6]],\n",
       " \n",
       "        [[ 8],\n",
       "         [10],\n",
       "         [12],\n",
       "         [14]]]),\n",
       " array([[[ 1],\n",
       "         [ 3],\n",
       "         [ 5],\n",
       "         [ 7]],\n",
       " \n",
       "        [[ 9],\n",
       "         [11],\n",
       "         [13],\n",
       "         [15]]])]"
      ]
     },
     "execution_count": 459,
     "metadata": {},
     "output_type": "execute_result"
    }
   ],
   "source": [
    "np.dsplit(arr4, 2)"
   ]
  },
  {
   "cell_type": "code",
   "execution_count": null,
   "id": "efb6ec8c-51a4-4572-ad52-af1e8f3b7266",
   "metadata": {},
   "outputs": [],
   "source": []
  },
  {
   "cell_type": "markdown",
   "id": "0c5ebedb-89fb-4db4-9a94-9dca7f8f03f1",
   "metadata": {},
   "source": [
    "### Iterating an Array"
   ]
  },
  {
   "cell_type": "code",
   "execution_count": 462,
   "id": "0e1f2125-4498-443c-84e0-5ccc7de6a262",
   "metadata": {},
   "outputs": [
    {
     "data": {
      "text/plain": [
       "array([ 2. ,  4.6, 99. ,  7. ,  2. ,  6. ,  7.8,  2.4])"
      ]
     },
     "execution_count": 462,
     "metadata": {},
     "output_type": "execute_result"
    }
   ],
   "source": [
    "array1"
   ]
  },
  {
   "cell_type": "code",
   "execution_count": 466,
   "id": "6940a07e-3031-48d7-9654-098f0289cd36",
   "metadata": {},
   "outputs": [
    {
     "name": "stdout",
     "output_type": "stream",
     "text": [
      "2.0\n",
      "4.6\n",
      "99.0\n",
      "7.0\n",
      "2.0\n",
      "6.0\n",
      "7.8\n",
      "2.4\n"
     ]
    }
   ],
   "source": [
    "for i in array1 :\n",
    "    print(i)"
   ]
  },
  {
   "cell_type": "code",
   "execution_count": 468,
   "id": "fd0e110b-0bf6-42f3-a92a-b79524bfc3a3",
   "metadata": {},
   "outputs": [
    {
     "data": {
      "text/plain": [
       "array([[ 2,  4, 99,  7],\n",
       "       [ 2,  6, 78, 24]])"
      ]
     },
     "execution_count": 468,
     "metadata": {},
     "output_type": "execute_result"
    }
   ],
   "source": [
    "array2"
   ]
  },
  {
   "cell_type": "code",
   "execution_count": 472,
   "id": "1bbd47eb-3d8b-4764-bba6-d015e1ef1d40",
   "metadata": {},
   "outputs": [
    {
     "name": "stdout",
     "output_type": "stream",
     "text": [
      "2\n",
      "4\n",
      "99\n",
      "7\n",
      "2\n",
      "6\n",
      "78\n",
      "24\n"
     ]
    }
   ],
   "source": [
    "for i in array2 :\n",
    "    for j in i :\n",
    "        print(j)"
   ]
  },
  {
   "cell_type": "code",
   "execution_count": null,
   "id": "6cfc7d10-420a-458a-9c16-89ef4eb0a222",
   "metadata": {},
   "outputs": [],
   "source": []
  },
  {
   "cell_type": "markdown",
   "id": "58faeef1-77d3-44c8-ba2a-1c126d74623e",
   "metadata": {},
   "source": [
    "#### nditer() function"
   ]
  },
  {
   "cell_type": "code",
   "execution_count": 475,
   "id": "d645bc53-305e-47ee-9617-10d528b73811",
   "metadata": {},
   "outputs": [
    {
     "data": {
      "text/plain": [
       "array([ 2. ,  4.6, 99. ,  7. ,  2. ,  6. ,  7.8,  2.4])"
      ]
     },
     "execution_count": 475,
     "metadata": {},
     "output_type": "execute_result"
    }
   ],
   "source": [
    "array1"
   ]
  },
  {
   "cell_type": "code",
   "execution_count": 479,
   "id": "99c302ce-20aa-45fa-8785-bb05a96a17db",
   "metadata": {},
   "outputs": [
    {
     "data": {
      "text/plain": [
       "array([4.000e+00, 2.116e+01, 9.801e+03, 4.900e+01, 4.000e+00, 3.600e+01,\n",
       "       6.084e+01, 5.760e+00])"
      ]
     },
     "execution_count": 479,
     "metadata": {},
     "output_type": "execute_result"
    }
   ],
   "source": [
    "for value in np.nditer(array1, op_flags=['readwrite']) :\n",
    "    value[...] = value**2\n",
    "array1"
   ]
  },
  {
   "cell_type": "code",
   "execution_count": null,
   "id": "761d6b75-d3fb-4dc0-a983-e20b03380b4b",
   "metadata": {},
   "outputs": [],
   "source": []
  },
  {
   "cell_type": "code",
   "execution_count": null,
   "id": "71024756-95bd-4a35-b626-b731342ccd68",
   "metadata": {},
   "outputs": [],
   "source": []
  },
  {
   "cell_type": "code",
   "execution_count": null,
   "id": "781b99f5-e8a7-4268-b67e-2a9b587d8e5e",
   "metadata": {},
   "outputs": [],
   "source": []
  },
  {
   "cell_type": "code",
   "execution_count": null,
   "id": "e486d0ef-4be9-40c2-9900-536b3f905272",
   "metadata": {},
   "outputs": [],
   "source": []
  },
  {
   "cell_type": "code",
   "execution_count": null,
   "id": "8e8d8d9d-6f05-4989-84cc-f9cdeb9cc8ad",
   "metadata": {},
   "outputs": [],
   "source": []
  },
  {
   "cell_type": "code",
   "execution_count": null,
   "id": "8f348847-9601-4656-ae82-d241f1059297",
   "metadata": {},
   "outputs": [],
   "source": []
  },
  {
   "cell_type": "code",
   "execution_count": null,
   "id": "dd31fa19-e2b2-410b-94d3-eea3b40ad484",
   "metadata": {},
   "outputs": [],
   "source": []
  },
  {
   "cell_type": "code",
   "execution_count": null,
   "id": "0d54aa3e-fa79-4859-a776-e4c63dd84e30",
   "metadata": {},
   "outputs": [],
   "source": []
  },
  {
   "cell_type": "code",
   "execution_count": null,
   "id": "a16058b0-6b8c-4c55-b5eb-d3bb9da06c10",
   "metadata": {},
   "outputs": [],
   "source": []
  },
  {
   "cell_type": "code",
   "execution_count": null,
   "id": "e6b7f58b-ce69-4f67-b325-988b270c20be",
   "metadata": {},
   "outputs": [],
   "source": []
  },
  {
   "cell_type": "code",
   "execution_count": null,
   "id": "1eaa6bcf-1963-432d-a1c4-8217af6f906c",
   "metadata": {},
   "outputs": [],
   "source": []
  },
  {
   "cell_type": "code",
   "execution_count": null,
   "id": "d4449490-b577-488c-9761-03f1345e5f8d",
   "metadata": {},
   "outputs": [],
   "source": []
  },
  {
   "cell_type": "code",
   "execution_count": null,
   "id": "522719f6-b2ed-46b7-a7cf-da721822e0a7",
   "metadata": {},
   "outputs": [],
   "source": []
  },
  {
   "cell_type": "code",
   "execution_count": null,
   "id": "cc8a0604-eb9d-4306-bee2-92e4953d04fa",
   "metadata": {},
   "outputs": [],
   "source": []
  },
  {
   "cell_type": "code",
   "execution_count": null,
   "id": "9ef59fef-740e-4cd4-8ce4-b556334e09ed",
   "metadata": {},
   "outputs": [],
   "source": []
  },
  {
   "cell_type": "code",
   "execution_count": null,
   "id": "61a370d7-3a5f-4c24-88b7-7872afd9e78e",
   "metadata": {},
   "outputs": [],
   "source": []
  },
  {
   "cell_type": "code",
   "execution_count": null,
   "id": "c7805de6-1722-46b0-b5b5-5ea7128c1f55",
   "metadata": {},
   "outputs": [],
   "source": []
  },
  {
   "cell_type": "code",
   "execution_count": null,
   "id": "db09f014-604e-4095-9ddc-8e0cf651d899",
   "metadata": {},
   "outputs": [],
   "source": []
  },
  {
   "cell_type": "code",
   "execution_count": null,
   "id": "4fcf60fd-bc78-4b75-962a-15f21d147f55",
   "metadata": {},
   "outputs": [],
   "source": []
  },
  {
   "cell_type": "code",
   "execution_count": null,
   "id": "73c270f4-9079-4eae-89ef-fc0e97574a8c",
   "metadata": {},
   "outputs": [],
   "source": []
  },
  {
   "cell_type": "code",
   "execution_count": null,
   "id": "8cda4e0d-5a3c-4b5c-afdc-6a9281830884",
   "metadata": {},
   "outputs": [],
   "source": []
  },
  {
   "cell_type": "code",
   "execution_count": null,
   "id": "41dbcb75-4333-4a5d-ab92-34ea3f51d116",
   "metadata": {},
   "outputs": [],
   "source": []
  },
  {
   "cell_type": "code",
   "execution_count": null,
   "id": "7c6e841a-6f55-4659-81c1-8fde41ca9c3d",
   "metadata": {},
   "outputs": [],
   "source": []
  },
  {
   "cell_type": "code",
   "execution_count": null,
   "id": "fd0f2a83-0a99-4e54-8788-48781a57de23",
   "metadata": {},
   "outputs": [],
   "source": []
  },
  {
   "cell_type": "code",
   "execution_count": null,
   "id": "579f1367-f904-47fb-a1b0-893de3fc2e6d",
   "metadata": {},
   "outputs": [],
   "source": []
  },
  {
   "cell_type": "code",
   "execution_count": null,
   "id": "9f4046d4-56de-45e0-8d89-0054941c8105",
   "metadata": {},
   "outputs": [],
   "source": []
  },
  {
   "cell_type": "code",
   "execution_count": null,
   "id": "87ec886f-d7b6-46e0-ba23-7a15546f1835",
   "metadata": {},
   "outputs": [],
   "source": []
  },
  {
   "cell_type": "code",
   "execution_count": null,
   "id": "2534098a-abf7-4afa-b357-dcf0fee4e8f2",
   "metadata": {},
   "outputs": [],
   "source": []
  },
  {
   "cell_type": "code",
   "execution_count": null,
   "id": "f45beebf-246e-4848-9739-de037744f3dc",
   "metadata": {},
   "outputs": [],
   "source": []
  },
  {
   "cell_type": "code",
   "execution_count": null,
   "id": "3226ca58-8ed0-457f-820b-ad37a1cb73bb",
   "metadata": {},
   "outputs": [],
   "source": []
  },
  {
   "cell_type": "code",
   "execution_count": null,
   "id": "1720194d-4a9d-4230-810d-d03a0d5770be",
   "metadata": {},
   "outputs": [],
   "source": []
  },
  {
   "cell_type": "code",
   "execution_count": null,
   "id": "bd0637a3-a3d9-41c5-9dbe-8b24910374db",
   "metadata": {},
   "outputs": [],
   "source": []
  },
  {
   "cell_type": "code",
   "execution_count": null,
   "id": "1b9f2eb3-9253-468f-8700-bbfb1cefa91b",
   "metadata": {},
   "outputs": [],
   "source": []
  },
  {
   "cell_type": "code",
   "execution_count": null,
   "id": "06d9c52a-3eca-4c1c-901b-d7c3db764490",
   "metadata": {},
   "outputs": [],
   "source": []
  },
  {
   "cell_type": "code",
   "execution_count": null,
   "id": "cd995694-06da-41af-bdc5-32afe4d1a2c5",
   "metadata": {},
   "outputs": [],
   "source": []
  },
  {
   "cell_type": "code",
   "execution_count": null,
   "id": "afc95ce5-4f8c-46d4-baa9-9ce6dcb46b6b",
   "metadata": {},
   "outputs": [],
   "source": []
  },
  {
   "cell_type": "code",
   "execution_count": null,
   "id": "c4b3c33d-7c19-465b-8fed-a18e6e8ee178",
   "metadata": {},
   "outputs": [],
   "source": []
  },
  {
   "cell_type": "code",
   "execution_count": null,
   "id": "6edf333a-df1e-4ef5-bbd8-11cb17406a77",
   "metadata": {},
   "outputs": [],
   "source": []
  },
  {
   "cell_type": "code",
   "execution_count": null,
   "id": "48d5563c-f794-4258-8dc2-faf567b0f47c",
   "metadata": {},
   "outputs": [],
   "source": []
  },
  {
   "cell_type": "code",
   "execution_count": null,
   "id": "09da246a-6596-4ff1-ba45-633cea694e2d",
   "metadata": {},
   "outputs": [],
   "source": []
  },
  {
   "cell_type": "code",
   "execution_count": null,
   "id": "eba0c287-346a-4fe4-b927-cdd33e2a4743",
   "metadata": {},
   "outputs": [],
   "source": []
  },
  {
   "cell_type": "code",
   "execution_count": null,
   "id": "2143edf8-ab78-40ad-a79d-47c746d3ba00",
   "metadata": {},
   "outputs": [],
   "source": []
  },
  {
   "cell_type": "code",
   "execution_count": null,
   "id": "83865eab-cd81-4dfd-ac05-ea8e1400c4cb",
   "metadata": {},
   "outputs": [],
   "source": []
  },
  {
   "cell_type": "code",
   "execution_count": null,
   "id": "3cf28d78-a064-42cc-8265-43a5ff2037ba",
   "metadata": {},
   "outputs": [],
   "source": []
  },
  {
   "cell_type": "code",
   "execution_count": null,
   "id": "0381ab34-2a60-4910-986e-6e29f2eaaac6",
   "metadata": {},
   "outputs": [],
   "source": []
  },
  {
   "cell_type": "code",
   "execution_count": null,
   "id": "6ee5e407-b24e-4594-b9ea-70a799406fab",
   "metadata": {},
   "outputs": [],
   "source": []
  }
 ],
 "metadata": {
  "kernelspec": {
   "display_name": "Python 3 (ipykernel)",
   "language": "python",
   "name": "python3"
  },
  "language_info": {
   "codemirror_mode": {
    "name": "ipython",
    "version": 3
   },
   "file_extension": ".py",
   "mimetype": "text/x-python",
   "name": "python",
   "nbconvert_exporter": "python",
   "pygments_lexer": "ipython3",
   "version": "3.12.4"
  }
 },
 "nbformat": 4,
 "nbformat_minor": 5
}
