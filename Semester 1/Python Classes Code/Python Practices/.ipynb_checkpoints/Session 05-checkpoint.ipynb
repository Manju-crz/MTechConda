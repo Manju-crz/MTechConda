{
 "cells": [
  {
   "cell_type": "markdown",
   "id": "0558e42f-fae2-4869-aa40-c704b1bd1914",
   "metadata": {},
   "source": [
    "# Python Pandas"
   ]
  },
  {
   "cell_type": "code",
   "execution_count": 3,
   "id": "4ef80168-5988-4086-b6a5-b2a0ea468ff6",
   "metadata": {},
   "outputs": [
    {
     "name": "stdout",
     "output_type": "stream",
     "text": [
      "Requirement already satisfied: pandas in c:\\users\\manju\\anaconda3\\lib\\site-packages (2.2.2)\n",
      "Requirement already satisfied: numpy>=1.26.0 in c:\\users\\manju\\anaconda3\\lib\\site-packages (from pandas) (1.26.4)\n",
      "Requirement already satisfied: python-dateutil>=2.8.2 in c:\\users\\manju\\anaconda3\\lib\\site-packages (from pandas) (2.9.0.post0)\n",
      "Requirement already satisfied: pytz>=2020.1 in c:\\users\\manju\\anaconda3\\lib\\site-packages (from pandas) (2024.1)\n",
      "Requirement already satisfied: tzdata>=2022.7 in c:\\users\\manju\\anaconda3\\lib\\site-packages (from pandas) (2023.3)\n",
      "Requirement already satisfied: six>=1.5 in c:\\users\\manju\\anaconda3\\lib\\site-packages (from python-dateutil>=2.8.2->pandas) (1.16.0)\n",
      "Note: you may need to restart the kernel to use updated packages.\n"
     ]
    }
   ],
   "source": [
    "pip install pandas"
   ]
  },
  {
   "cell_type": "code",
   "execution_count": 8,
   "id": "ac0e2e86-4a69-42c9-a97e-c5a1d4945006",
   "metadata": {},
   "outputs": [],
   "source": [
    "import pandas as pd\n",
    "import numpy as np"
   ]
  },
  {
   "cell_type": "markdown",
   "id": "eade10cc-9585-4197-b5cb-aeb1728665f1",
   "metadata": {},
   "source": [
    "## Series"
   ]
  },
  {
   "cell_type": "code",
   "execution_count": null,
   "id": "bac418c2-7384-4ad5-a79a-fcc4253f0de5",
   "metadata": {},
   "outputs": [],
   "source": []
  },
  {
   "cell_type": "code",
   "execution_count": 11,
   "id": "728b4f56-d12e-418b-a535-e7873fe2d39f",
   "metadata": {},
   "outputs": [],
   "source": [
    "#Series\n",
    "pd_series1 = pd.Series([2,4,3,6,2,7,84,4])"
   ]
  },
  {
   "cell_type": "code",
   "execution_count": 13,
   "id": "648f80d6-cece-49b0-b38e-879397433357",
   "metadata": {},
   "outputs": [
    {
     "data": {
      "text/plain": [
       "0     2\n",
       "1     4\n",
       "2     3\n",
       "3     6\n",
       "4     2\n",
       "5     7\n",
       "6    84\n",
       "7     4\n",
       "dtype: int64"
      ]
     },
     "execution_count": 13,
     "metadata": {},
     "output_type": "execute_result"
    }
   ],
   "source": [
    "pd_series1"
   ]
  },
  {
   "cell_type": "code",
   "execution_count": 19,
   "id": "f54df7b8-e3d7-411b-b26f-dcdceb53d2fb",
   "metadata": {},
   "outputs": [],
   "source": [
    "pd_series2 = pd.Series(np.array([3,2,6,4,9,7]))"
   ]
  },
  {
   "cell_type": "code",
   "execution_count": 21,
   "id": "613cb4e7-6e0a-487b-9cda-51fbd4d2dfe5",
   "metadata": {},
   "outputs": [
    {
     "data": {
      "text/plain": [
       "0    3\n",
       "1    2\n",
       "2    6\n",
       "3    4\n",
       "4    9\n",
       "5    7\n",
       "dtype: int32"
      ]
     },
     "execution_count": 21,
     "metadata": {},
     "output_type": "execute_result"
    }
   ],
   "source": [
    "pd_series2"
   ]
  },
  {
   "cell_type": "code",
   "execution_count": 25,
   "id": "2c2c0ff2-c35b-4df5-86d1-34da928189cf",
   "metadata": {},
   "outputs": [
    {
     "data": {
      "text/plain": [
       "1     3\n",
       "4     2\n",
       "7     6\n",
       "10    4\n",
       "13    9\n",
       "16    7\n",
       "dtype: int32"
      ]
     },
     "execution_count": 25,
     "metadata": {},
     "output_type": "execute_result"
    }
   ],
   "source": [
    "pd_series3 = pd.Series(np.array([3,2,6,4,9,7]) , index = np.arange(1,17, 3))\n",
    "pd_series3"
   ]
  },
  {
   "cell_type": "code",
   "execution_count": 31,
   "id": "0b5bb6dc-7836-4840-b593-8a64550fe5cf",
   "metadata": {},
   "outputs": [
    {
     "data": {
      "text/plain": [
       "5    3\n",
       "4    2\n",
       "7    6\n",
       "7    4\n",
       "3    9\n",
       "9    7\n",
       "dtype: int32"
      ]
     },
     "execution_count": 31,
     "metadata": {},
     "output_type": "execute_result"
    }
   ],
   "source": [
    "pd_series4 = pd.Series(np.array([3,2,6,4,9,7]) , index = [5,4,7,7,3,9])\n",
    "pd_series4"
   ]
  },
  {
   "cell_type": "code",
   "execution_count": null,
   "id": "9ce3127c-ed48-4b58-b0e7-fb7c30e5f0a7",
   "metadata": {},
   "outputs": [],
   "source": []
  },
  {
   "cell_type": "code",
   "execution_count": 33,
   "id": "c562d149-a517-4145-8af5-a0171cadabd7",
   "metadata": {},
   "outputs": [
    {
     "data": {
      "text/plain": [
       "dict"
      ]
     },
     "execution_count": 33,
     "metadata": {},
     "output_type": "execute_result"
    }
   ],
   "source": [
    "student = {\n",
    "    'name' : 'mks',\n",
    "    'age' : 21,\n",
    "    'class' : '1stsem'\n",
    "}\n",
    "type(student)"
   ]
  },
  {
   "cell_type": "code",
   "execution_count": 35,
   "id": "ca5448b9-db40-4b1b-8d63-9f536cd4cef6",
   "metadata": {},
   "outputs": [
    {
     "data": {
      "text/plain": [
       "name        mks\n",
       "age          21\n",
       "class    1stsem\n",
       "dtype: object"
      ]
     },
     "execution_count": 35,
     "metadata": {},
     "output_type": "execute_result"
    }
   ],
   "source": [
    "pd_series5 = pd.Series(student)\n",
    "pd_series5"
   ]
  },
  {
   "cell_type": "code",
   "execution_count": 37,
   "id": "5d8b1ca8-35a8-40b5-b81a-031bd2e8d7f4",
   "metadata": {},
   "outputs": [
    {
     "data": {
      "text/plain": [
       "dict"
      ]
     },
     "execution_count": 37,
     "metadata": {},
     "output_type": "execute_result"
    }
   ],
   "source": [
    "mydict = {\n",
    "    'a' : [1,2,3,4],\n",
    "    'b' : [4,5],\n",
    "    'c' : (6,4,5),\n",
    "    'd' : {2,5,7}\n",
    "}\n",
    "type(mydict)"
   ]
  },
  {
   "cell_type": "code",
   "execution_count": 39,
   "id": "33f399be-63d3-4a5b-92a8-c3bd53cbf610",
   "metadata": {},
   "outputs": [
    {
     "data": {
      "text/plain": [
       "a    [1, 2, 3, 4]\n",
       "b          [4, 5]\n",
       "c       (6, 4, 5)\n",
       "d       {2, 5, 7}\n",
       "dtype: object"
      ]
     },
     "execution_count": 39,
     "metadata": {},
     "output_type": "execute_result"
    }
   ],
   "source": [
    "pd_series6 = pd.Series(mydict)\n",
    "pd_series6"
   ]
  },
  {
   "cell_type": "code",
   "execution_count": 41,
   "id": "d787ecd5-1735-4aa5-9786-6f30cb5f2f00",
   "metadata": {},
   "outputs": [
    {
     "data": {
      "text/plain": [
       "5    3\n",
       "4    2\n",
       "7    6\n",
       "7    4\n",
       "3    9\n",
       "9    7\n",
       "dtype: int32"
      ]
     },
     "execution_count": 41,
     "metadata": {},
     "output_type": "execute_result"
    }
   ],
   "source": [
    "pd_series4"
   ]
  },
  {
   "cell_type": "markdown",
   "id": "a202d1e1-e49c-42ce-8a3c-8fb1530f712a",
   "metadata": {},
   "source": [
    "### Accessing series elements"
   ]
  },
  {
   "cell_type": "code",
   "execution_count": 43,
   "id": "6875fd1e-0379-482c-bd3a-1a1df71f11c9",
   "metadata": {},
   "outputs": [
    {
     "data": {
      "text/plain": [
       "7    6\n",
       "7    4\n",
       "dtype: int32"
      ]
     },
     "execution_count": 43,
     "metadata": {},
     "output_type": "execute_result"
    }
   ],
   "source": [
    "pd_series4[2:4]"
   ]
  },
  {
   "cell_type": "code",
   "execution_count": 49,
   "id": "c5fe223e-5bd2-4235-81e4-a9d6196d1a43",
   "metadata": {},
   "outputs": [
    {
     "data": {
      "text/plain": [
       "4    2\n",
       "7    4\n",
       "9    7\n",
       "dtype: int32"
      ]
     },
     "execution_count": 49,
     "metadata": {},
     "output_type": "execute_result"
    }
   ],
   "source": [
    "pd_series4[1:6:2]"
   ]
  },
  {
   "cell_type": "code",
   "execution_count": 55,
   "id": "b1712a68-0a77-42ca-891b-e3203f246aa9",
   "metadata": {},
   "outputs": [
    {
     "data": {
      "text/plain": [
       "7    6\n",
       "7    4\n",
       "3    9\n",
       "9    7\n",
       "dtype: int32"
      ]
     },
     "execution_count": 55,
     "metadata": {},
     "output_type": "execute_result"
    }
   ],
   "source": [
    "pd_series4[-4:]"
   ]
  },
  {
   "cell_type": "code",
   "execution_count": 57,
   "id": "77760073-2d2d-4ea0-b738-a385b96d35e9",
   "metadata": {},
   "outputs": [
    {
     "data": {
      "text/plain": [
       "a    [1, 2, 3, 4]\n",
       "b          [4, 5]\n",
       "c       (6, 4, 5)\n",
       "d       {2, 5, 7}\n",
       "dtype: object"
      ]
     },
     "execution_count": 57,
     "metadata": {},
     "output_type": "execute_result"
    }
   ],
   "source": [
    "pd_series6"
   ]
  },
  {
   "cell_type": "code",
   "execution_count": 61,
   "id": "e583d379-48ee-4b9e-b6cf-acf040f67909",
   "metadata": {},
   "outputs": [
    {
     "data": {
      "text/plain": [
       "{2, 5, 7}"
      ]
     },
     "execution_count": 61,
     "metadata": {},
     "output_type": "execute_result"
    }
   ],
   "source": [
    "pd_series6['d']"
   ]
  },
  {
   "cell_type": "code",
   "execution_count": 63,
   "id": "ec53cbb8-8dcf-4373-90d9-03ed598ce485",
   "metadata": {},
   "outputs": [
    {
     "data": {
      "text/plain": [
       "5    3\n",
       "4    2\n",
       "7    6\n",
       "7    4\n",
       "3    9\n",
       "9    7\n",
       "dtype: int32"
      ]
     },
     "execution_count": 63,
     "metadata": {},
     "output_type": "execute_result"
    }
   ],
   "source": [
    "pd_series4"
   ]
  },
  {
   "cell_type": "code",
   "execution_count": 73,
   "id": "fefb23d6-8401-4a64-8193-b9039109c0bb",
   "metadata": {},
   "outputs": [
    {
     "data": {
      "text/plain": [
       "3    9\n",
       "9    7\n",
       "dtype: int32"
      ]
     },
     "execution_count": 73,
     "metadata": {},
     "output_type": "execute_result"
    }
   ],
   "source": [
    "pd_series4[4:7]"
   ]
  },
  {
   "cell_type": "code",
   "execution_count": 75,
   "id": "7471d5b7-dc18-4959-916f-78690020ebd9",
   "metadata": {},
   "outputs": [
    {
     "data": {
      "text/plain": [
       "b       [4, 5]\n",
       "c    (6, 4, 5)\n",
       "d    {2, 5, 7}\n",
       "dtype: object"
      ]
     },
     "execution_count": 75,
     "metadata": {},
     "output_type": "execute_result"
    }
   ],
   "source": [
    "pd_series6['b':'d']"
   ]
  },
  {
   "cell_type": "code",
   "execution_count": 77,
   "id": "dab229a4-79bf-4cb7-aaa6-673281a4822c",
   "metadata": {},
   "outputs": [
    {
     "data": {
      "text/plain": [
       "a    [1, 2, 3, 4]\n",
       "b          [4, 5]\n",
       "c       (6, 4, 5)\n",
       "d       {2, 5, 7}\n",
       "dtype: object"
      ]
     },
     "execution_count": 77,
     "metadata": {},
     "output_type": "execute_result"
    }
   ],
   "source": [
    "pd_series6"
   ]
  },
  {
   "cell_type": "code",
   "execution_count": 81,
   "id": "633f24a1-a6f0-4dc5-9653-64c4521f62ce",
   "metadata": {},
   "outputs": [
    {
     "data": {
      "text/plain": [
       "a    [1, 2, 3, 4]\n",
       "d       {2, 5, 7}\n",
       "dtype: object"
      ]
     },
     "execution_count": 81,
     "metadata": {},
     "output_type": "execute_result"
    }
   ],
   "source": [
    "pd_series6[['a','d']]"
   ]
  },
  {
   "cell_type": "code",
   "execution_count": 83,
   "id": "cfcca821-585e-4c89-998b-72bcd8db6534",
   "metadata": {},
   "outputs": [
    {
     "data": {
      "text/plain": [
       "5    3\n",
       "4    2\n",
       "7    6\n",
       "7    4\n",
       "3    9\n",
       "9    7\n",
       "dtype: int32"
      ]
     },
     "execution_count": 83,
     "metadata": {},
     "output_type": "execute_result"
    }
   ],
   "source": [
    "pd_series4"
   ]
  },
  {
   "cell_type": "code",
   "execution_count": 85,
   "id": "384b5c2c-fb60-4843-b80c-e714144b88f3",
   "metadata": {},
   "outputs": [
    {
     "data": {
      "text/plain": [
       "7    6\n",
       "3    9\n",
       "9    7\n",
       "dtype: int32"
      ]
     },
     "execution_count": 85,
     "metadata": {},
     "output_type": "execute_result"
    }
   ],
   "source": [
    "pd_series4[pd_series4>5]"
   ]
  },
  {
   "cell_type": "code",
   "execution_count": 87,
   "id": "e8903b27-9f8e-4e78-882d-6d4b0a336e7b",
   "metadata": {},
   "outputs": [
    {
     "data": {
      "text/plain": [
       "a    [1, 2, 3, 4]\n",
       "b          [4, 5]\n",
       "c       (6, 4, 5)\n",
       "d       {2, 5, 7}\n",
       "dtype: object"
      ]
     },
     "execution_count": 87,
     "metadata": {},
     "output_type": "execute_result"
    }
   ],
   "source": [
    "pd_series6"
   ]
  },
  {
   "cell_type": "code",
   "execution_count": 93,
   "id": "09e93ab1-858d-4a43-904f-02f2b85c2242",
   "metadata": {},
   "outputs": [
    {
     "data": {
      "text/plain": [
       "5    3\n",
       "4    2\n",
       "7    6\n",
       "7    4\n",
       "3    9\n",
       "9    7\n",
       "dtype: int32"
      ]
     },
     "execution_count": 93,
     "metadata": {},
     "output_type": "execute_result"
    }
   ],
   "source": [
    "pd_series4"
   ]
  },
  {
   "cell_type": "markdown",
   "id": "029973e9-72e8-413d-9842-566bd3a3f590",
   "metadata": {},
   "source": [
    "### Operations on series"
   ]
  },
  {
   "cell_type": "code",
   "execution_count": 95,
   "id": "dbcc74d5-2f0b-4380-8751-66dbfa5c8f1d",
   "metadata": {},
   "outputs": [
    {
     "data": {
      "text/plain": [
       "5     6\n",
       "4     4\n",
       "7    12\n",
       "7     8\n",
       "3    18\n",
       "9    14\n",
       "dtype: int32"
      ]
     },
     "execution_count": 95,
     "metadata": {},
     "output_type": "execute_result"
    }
   ],
   "source": [
    "pd_series4 * 2"
   ]
  },
  {
   "cell_type": "code",
   "execution_count": 97,
   "id": "25e66500-bc1d-459f-b46a-367cc7e0e446",
   "metadata": {},
   "outputs": [
    {
     "data": {
      "text/plain": [
       "5    3\n",
       "4    2\n",
       "7    6\n",
       "7    4\n",
       "3    9\n",
       "9    7\n",
       "dtype: int32"
      ]
     },
     "execution_count": 97,
     "metadata": {},
     "output_type": "execute_result"
    }
   ],
   "source": [
    "pd_series4"
   ]
  },
  {
   "cell_type": "code",
   "execution_count": 111,
   "id": "1adf07e6-7985-47d6-b0f7-2d6dbb7cbdb7",
   "metadata": {},
   "outputs": [
    {
     "data": {
      "text/plain": [
       "0    1\n",
       "1    2\n",
       "2    3\n",
       "3    4\n",
       "4    5\n",
       "5    6\n",
       "dtype: int32"
      ]
     },
     "execution_count": 111,
     "metadata": {},
     "output_type": "execute_result"
    }
   ],
   "source": [
    "pd_series7 = pd.Series(np.array([1,2,3,4,5,6]))\n",
    "pd_series7\n",
    "pd_series8 = pd.Series(np.array([1,2,3,4,5,6]))\n",
    "pd_series8\n",
    "pd_series9 = pd.Series(np.array([1,2,3,4,5,6]))\n",
    "pd_series9"
   ]
  },
  {
   "cell_type": "code",
   "execution_count": 113,
   "id": "1e2d5023-9207-4702-9040-2c4a55b9ebeb",
   "metadata": {},
   "outputs": [
    {
     "data": {
      "text/plain": [
       "0     3\n",
       "1     6\n",
       "2     9\n",
       "3    12\n",
       "4    15\n",
       "5    18\n",
       "dtype: int32"
      ]
     },
     "execution_count": 113,
     "metadata": {},
     "output_type": "execute_result"
    }
   ],
   "source": [
    "pd_series8 + pd_series7 + pd_series9"
   ]
  },
  {
   "cell_type": "markdown",
   "id": "489bbb2f-b9d2-4795-b495-66659a54c995",
   "metadata": {},
   "source": [
    "### Ranking in the series"
   ]
  },
  {
   "cell_type": "code",
   "execution_count": null,
   "id": "b9df6ad4-d048-400d-aed5-7a4ff3fbee11",
   "metadata": {},
   "outputs": [],
   "source": []
  },
  {
   "cell_type": "code",
   "execution_count": 10,
   "id": "c84e3164-6f0d-4850-b4ce-fb378e11b1d9",
   "metadata": {},
   "outputs": [
    {
     "data": {
      "text/plain": [
       "0     234\n",
       "1    3454\n",
       "2     256\n",
       "3     575\n",
       "4    1332\n",
       "5     678\n",
       "dtype: int32"
      ]
     },
     "execution_count": 10,
     "metadata": {},
     "output_type": "execute_result"
    }
   ],
   "source": [
    "pd_series41 = pd.Series(np.array([234,3454,256,575,1332,678]))\n",
    "pd_series41"
   ]
  },
  {
   "cell_type": "code",
   "execution_count": 12,
   "id": "e9bc7929-3e8b-45ec-a13b-44ff76b2ca81",
   "metadata": {},
   "outputs": [
    {
     "data": {
      "text/plain": [
       "0    1.0\n",
       "1    6.0\n",
       "2    2.0\n",
       "3    3.0\n",
       "4    5.0\n",
       "5    4.0\n",
       "dtype: float64"
      ]
     },
     "execution_count": 12,
     "metadata": {},
     "output_type": "execute_result"
    }
   ],
   "source": [
    "pd_series41.rank()"
   ]
  },
  {
   "cell_type": "code",
   "execution_count": null,
   "id": "6a3dd461-2ea2-4e34-92a6-d2c7b94fa8e5",
   "metadata": {},
   "outputs": [],
   "source": []
  },
  {
   "cell_type": "markdown",
   "id": "ff4911bb-a30f-41a3-993c-35a0ccbc229a",
   "metadata": {},
   "source": [
    "### Sorting series"
   ]
  },
  {
   "cell_type": "code",
   "execution_count": 16,
   "id": "dde2f594-e961-44a3-875b-d2208a7cfa28",
   "metadata": {},
   "outputs": [
    {
     "data": {
      "text/plain": [
       "0     234\n",
       "1    3454\n",
       "2     256\n",
       "3     575\n",
       "4    1332\n",
       "5     678\n",
       "dtype: int32"
      ]
     },
     "execution_count": 16,
     "metadata": {},
     "output_type": "execute_result"
    }
   ],
   "source": [
    "pd_series41"
   ]
  },
  {
   "cell_type": "code",
   "execution_count": 22,
   "id": "63465b32-153a-4644-b972-acb58e1c6e3a",
   "metadata": {},
   "outputs": [],
   "source": [
    "pd_series42 = pd_series41.sort_values(ascending = True)"
   ]
  },
  {
   "cell_type": "code",
   "execution_count": 24,
   "id": "e14918b9-06e6-403d-aebf-22c0553f8ec3",
   "metadata": {},
   "outputs": [
    {
     "data": {
      "text/plain": [
       "0     234\n",
       "2     256\n",
       "3     575\n",
       "5     678\n",
       "4    1332\n",
       "1    3454\n",
       "dtype: int32"
      ]
     },
     "execution_count": 24,
     "metadata": {},
     "output_type": "execute_result"
    }
   ],
   "source": [
    "pd_series42"
   ]
  },
  {
   "cell_type": "code",
   "execution_count": 26,
   "id": "52da81a2-d6cd-4a6a-a90c-03777fbcf8f2",
   "metadata": {},
   "outputs": [
    {
     "data": {
      "text/plain": [
       "0     234\n",
       "1    3454\n",
       "2     256\n",
       "3     575\n",
       "4    1332\n",
       "5     678\n",
       "dtype: int32"
      ]
     },
     "execution_count": 26,
     "metadata": {},
     "output_type": "execute_result"
    }
   ],
   "source": [
    "pd_series41"
   ]
  },
  {
   "cell_type": "code",
   "execution_count": 28,
   "id": "d6f65e9c-22ff-4b79-8ac9-25aa865d786a",
   "metadata": {},
   "outputs": [],
   "source": [
    "pd_series43 = pd_series41.sort_values(ascending = False)"
   ]
  },
  {
   "cell_type": "code",
   "execution_count": 32,
   "id": "bd81b731-ae63-48e6-87b1-0ad4a91cb52e",
   "metadata": {},
   "outputs": [
    {
     "data": {
      "text/plain": [
       "1    3454\n",
       "4    1332\n",
       "5     678\n",
       "3     575\n",
       "2     256\n",
       "0     234\n",
       "dtype: int32"
      ]
     },
     "execution_count": 32,
     "metadata": {},
     "output_type": "execute_result"
    }
   ],
   "source": [
    "pd_series43"
   ]
  },
  {
   "cell_type": "code",
   "execution_count": 34,
   "id": "12286b56-8900-498c-9cc7-da0c094da982",
   "metadata": {},
   "outputs": [
    {
     "data": {
      "text/plain": [
       "0     234\n",
       "1    3454\n",
       "2     256\n",
       "3     575\n",
       "4    1332\n",
       "5     678\n",
       "dtype: int32"
      ]
     },
     "execution_count": 34,
     "metadata": {},
     "output_type": "execute_result"
    }
   ],
   "source": [
    "pd_series41"
   ]
  },
  {
   "cell_type": "code",
   "execution_count": null,
   "id": "ef70ab31-1ca7-4c89-bc1a-b00b6dbf8179",
   "metadata": {},
   "outputs": [],
   "source": [
    "pd_series41"
   ]
  },
  {
   "cell_type": "code",
   "execution_count": 36,
   "id": "04f4acea-98f3-434a-ba8d-cf5743c464bd",
   "metadata": {},
   "outputs": [
    {
     "data": {
      "text/plain": [
       "5     678\n",
       "4    1332\n",
       "3     575\n",
       "2     256\n",
       "1    3454\n",
       "0     234\n",
       "dtype: int32"
      ]
     },
     "execution_count": 36,
     "metadata": {},
     "output_type": "execute_result"
    }
   ],
   "source": [
    " pd_series41.sort_index(ascending = False)"
   ]
  },
  {
   "cell_type": "code",
   "execution_count": null,
   "id": "6eff9857-5396-4096-ae62-63d80a649379",
   "metadata": {},
   "outputs": [],
   "source": []
  },
  {
   "cell_type": "markdown",
   "id": "d75c6f24-e68a-4687-aa31-89a6ab9f4fa5",
   "metadata": {},
   "source": [
    "### isnull / notnull"
   ]
  },
  {
   "cell_type": "code",
   "execution_count": 40,
   "id": "bb79567a-1dd3-4fa8-8b23-a0429abc76f5",
   "metadata": {},
   "outputs": [],
   "source": [
    "pd_series51 = pd.Series(np.array([234,3454, np.nan,575,1332,678]))"
   ]
  },
  {
   "cell_type": "code",
   "execution_count": 42,
   "id": "853d7016-6f34-4b7a-a2fb-ad188b30ef8f",
   "metadata": {},
   "outputs": [
    {
     "data": {
      "text/plain": [
       "0     234.0\n",
       "1    3454.0\n",
       "2       NaN\n",
       "3     575.0\n",
       "4    1332.0\n",
       "5     678.0\n",
       "dtype: float64"
      ]
     },
     "execution_count": 42,
     "metadata": {},
     "output_type": "execute_result"
    }
   ],
   "source": [
    "pd_series51"
   ]
  },
  {
   "cell_type": "code",
   "execution_count": 44,
   "id": "0518b30d-6441-419c-8e13-b39e10ac0cf3",
   "metadata": {},
   "outputs": [
    {
     "data": {
      "text/plain": [
       "0    False\n",
       "1    False\n",
       "2     True\n",
       "3    False\n",
       "4    False\n",
       "5    False\n",
       "dtype: bool"
      ]
     },
     "execution_count": 44,
     "metadata": {},
     "output_type": "execute_result"
    }
   ],
   "source": [
    "pd_series51.isnull()"
   ]
  },
  {
   "cell_type": "code",
   "execution_count": 47,
   "id": "62f8afdc-f287-4ff8-9b18-5d17f8edd10f",
   "metadata": {},
   "outputs": [
    {
     "data": {
      "text/plain": [
       "0     True\n",
       "1     True\n",
       "2    False\n",
       "3     True\n",
       "4     True\n",
       "5     True\n",
       "dtype: bool"
      ]
     },
     "execution_count": 47,
     "metadata": {},
     "output_type": "execute_result"
    }
   ],
   "source": [
    "pd_series51.notnull()"
   ]
  },
  {
   "cell_type": "code",
   "execution_count": null,
   "id": "79738227-71cf-4c2a-8364-f6940e076fc9",
   "metadata": {},
   "outputs": [],
   "source": []
  },
  {
   "cell_type": "markdown",
   "id": "fe2187b7-6304-4641-8bde-ec63888b25a9",
   "metadata": {},
   "source": [
    "## Data Frame"
   ]
  },
  {
   "cell_type": "markdown",
   "id": "2ec6efbc-adba-4dac-a1d6-964772d86f99",
   "metadata": {},
   "source": [
    "### Reading data tables from external files"
   ]
  },
  {
   "cell_type": "code",
   "execution_count": 2,
   "id": "b1c32afc-a08d-47d6-98f0-142275a6e01b",
   "metadata": {},
   "outputs": [
    {
     "data": {
      "application/javascript": [
       "\n",
       "        if (window._pyforest_update_imports_cell) { window._pyforest_update_imports_cell('import pandas as pd'); }\n",
       "    "
      ],
      "text/plain": [
       "<IPython.core.display.Javascript object>"
      ]
     },
     "metadata": {},
     "output_type": "display_data"
    }
   ],
   "source": [
    "df1 = pd.read_csv(\"lds0.csv\")"
   ]
  },
  {
   "cell_type": "code",
   "execution_count": 4,
   "id": "de890970-db8b-4d06-b82d-d7feaa6db278",
   "metadata": {},
   "outputs": [
    {
     "data": {
      "text/html": [
       "<div>\n",
       "<style scoped>\n",
       "    .dataframe tbody tr th:only-of-type {\n",
       "        vertical-align: middle;\n",
       "    }\n",
       "\n",
       "    .dataframe tbody tr th {\n",
       "        vertical-align: top;\n",
       "    }\n",
       "\n",
       "    .dataframe thead th {\n",
       "        text-align: right;\n",
       "    }\n",
       "</style>\n",
       "<table border=\"1\" class=\"dataframe\">\n",
       "  <thead>\n",
       "    <tr style=\"text-align: right;\">\n",
       "      <th></th>\n",
       "      <th>Vol</th>\n",
       "      <th>Rev</th>\n",
       "      <th>Exp</th>\n",
       "      <th>Sector</th>\n",
       "      <th>EmpCnt</th>\n",
       "      <th>HQ</th>\n",
       "      <th>MNC</th>\n",
       "      <th>StockID</th>\n",
       "      <th>GST</th>\n",
       "      <th>Started</th>\n",
       "      <th>Listed Date</th>\n",
       "    </tr>\n",
       "  </thead>\n",
       "  <tbody>\n",
       "    <tr>\n",
       "      <th>0</th>\n",
       "      <td>Deccan_Sporting</td>\n",
       "      <td>931</td>\n",
       "      <td>839.None</td>\n",
       "      <td>615</td>\n",
       "      <td>Pvt</td>\n",
       "      <td>NaN</td>\n",
       "      <td>Hyd</td>\n",
       "      <td>1</td>\n",
       "      <td>SPRT</td>\n",
       "      <td>Services</td>\n",
       "      <td>Mar-43</td>\n",
       "    </tr>\n",
       "    <tr>\n",
       "      <th>1</th>\n",
       "      <td>Kolkata_FMCG</td>\n",
       "      <td>925</td>\n",
       "      <td>NaN</td>\n",
       "      <td>676</td>\n",
       "      <td>NaN</td>\n",
       "      <td>1379.0</td>\n",
       "      <td>Kol</td>\n",
       "      <td>0</td>\n",
       "      <td>KFMC</td>\n",
       "      <td>Goods</td>\n",
       "      <td>Jan-20</td>\n",
       "    </tr>\n",
       "    <tr>\n",
       "      <th>2</th>\n",
       "      <td>NCR_Leagles</td>\n",
       "      <td>931</td>\n",
       "      <td>NaN</td>\n",
       "      <td>605</td>\n",
       "      <td>NaN</td>\n",
       "      <td>1935.0</td>\n",
       "      <td>NCR</td>\n",
       "      <td>0</td>\n",
       "      <td>NCRL</td>\n",
       "      <td>Services</td>\n",
       "      <td>Feb-60</td>\n",
       "    </tr>\n",
       "    <tr>\n",
       "      <th>3</th>\n",
       "      <td>Bangalore_Systems</td>\n",
       "      <td>900</td>\n",
       "      <td>NaN</td>\n",
       "      <td>650</td>\n",
       "      <td>Gov</td>\n",
       "      <td>1361.0</td>\n",
       "      <td>Blr</td>\n",
       "      <td>0</td>\n",
       "      <td>BSYS</td>\n",
       "      <td>Services</td>\n",
       "      <td>Apr-50</td>\n",
       "    </tr>\n",
       "    <tr>\n",
       "      <th>4</th>\n",
       "      <td>Chennai_Chemicals</td>\n",
       "      <td>966</td>\n",
       "      <td>863.2</td>\n",
       "      <td>608</td>\n",
       "      <td>Pub</td>\n",
       "      <td>1656.0</td>\n",
       "      <td>Che</td>\n",
       "      <td>1</td>\n",
       "      <td>CHEM</td>\n",
       "      <td>Goods</td>\n",
       "      <td>Aug-28</td>\n",
       "    </tr>\n",
       "    <tr>\n",
       "      <th>5</th>\n",
       "      <td>Indi_Services</td>\n",
       "      <td>954</td>\n",
       "      <td>733</td>\n",
       "      <td>609</td>\n",
       "      <td>Gov</td>\n",
       "      <td>NaN</td>\n",
       "      <td>NCR</td>\n",
       "      <td>0</td>\n",
       "      <td>INDI</td>\n",
       "      <td>Services</td>\n",
       "      <td>Mar-20</td>\n",
       "    </tr>\n",
       "    <tr>\n",
       "      <th>6</th>\n",
       "      <td>Bangalore_Breweries</td>\n",
       "      <td>966</td>\n",
       "      <td>NaN</td>\n",
       "      <td>895</td>\n",
       "      <td>NaN</td>\n",
       "      <td>119.0</td>\n",
       "      <td>Blr</td>\n",
       "      <td>1</td>\n",
       "      <td>BREW</td>\n",
       "      <td>Goods</td>\n",
       "      <td>Oct-71</td>\n",
       "    </tr>\n",
       "    <tr>\n",
       "      <th>7</th>\n",
       "      <td>NaN</td>\n",
       "      <td>899</td>\n",
       "      <td>NaN</td>\n",
       "      <td>674</td>\n",
       "      <td>Pub</td>\n",
       "      <td>NaN</td>\n",
       "      <td>Mum</td>\n",
       "      <td>0</td>\n",
       "      <td>BFIN</td>\n",
       "      <td>Services</td>\n",
       "      <td>Apr-25</td>\n",
       "    </tr>\n",
       "    <tr>\n",
       "      <th>8</th>\n",
       "      <td>Chennai_Shipping</td>\n",
       "      <td>992</td>\n",
       "      <td>821</td>\n",
       "      <td>665</td>\n",
       "      <td>NaN</td>\n",
       "      <td>NaN</td>\n",
       "      <td>Che</td>\n",
       "      <td>1</td>\n",
       "      <td>SHIP</td>\n",
       "      <td>Goods</td>\n",
       "      <td>Nov-30</td>\n",
       "    </tr>\n",
       "    <tr>\n",
       "      <th>9</th>\n",
       "      <td>Eastern_Estates</td>\n",
       "      <td>945</td>\n",
       "      <td>834.23</td>\n",
       "      <td>789</td>\n",
       "      <td>Pvt</td>\n",
       "      <td>1873.0</td>\n",
       "      <td>NaN</td>\n",
       "      <td>1</td>\n",
       "      <td>EEST</td>\n",
       "      <td>Goods</td>\n",
       "      <td>Jan-94</td>\n",
       "    </tr>\n",
       "    <tr>\n",
       "      <th>10</th>\n",
       "      <td>Indi_Services</td>\n",
       "      <td>954</td>\n",
       "      <td>733</td>\n",
       "      <td>609</td>\n",
       "      <td>Gov</td>\n",
       "      <td>NaN</td>\n",
       "      <td>NCR</td>\n",
       "      <td>0</td>\n",
       "      <td>INDI</td>\n",
       "      <td>Services</td>\n",
       "      <td>Mar-20</td>\n",
       "    </tr>\n",
       "  </tbody>\n",
       "</table>\n",
       "</div>"
      ],
      "text/plain": [
       "                    Vol  Rev       Exp  Sector EmpCnt      HQ  MNC  StockID  \\\n",
       "0       Deccan_Sporting  931  839.None     615    Pvt     NaN  Hyd        1   \n",
       "1          Kolkata_FMCG  925       NaN     676    NaN  1379.0  Kol        0   \n",
       "2           NCR_Leagles  931       NaN     605    NaN  1935.0  NCR        0   \n",
       "3     Bangalore_Systems  900       NaN     650    Gov  1361.0  Blr        0   \n",
       "4     Chennai_Chemicals  966     863.2     608    Pub  1656.0  Che        1   \n",
       "5         Indi_Services  954       733     609    Gov     NaN  NCR        0   \n",
       "6   Bangalore_Breweries  966       NaN     895    NaN   119.0  Blr        1   \n",
       "7                   NaN  899       NaN     674    Pub     NaN  Mum        0   \n",
       "8      Chennai_Shipping  992       821     665    NaN     NaN  Che        1   \n",
       "9       Eastern_Estates  945    834.23     789    Pvt  1873.0  NaN        1   \n",
       "10        Indi_Services  954       733     609    Gov     NaN  NCR        0   \n",
       "\n",
       "     GST   Started Listed Date  \n",
       "0   SPRT  Services      Mar-43  \n",
       "1   KFMC     Goods      Jan-20  \n",
       "2   NCRL  Services      Feb-60  \n",
       "3   BSYS  Services      Apr-50  \n",
       "4   CHEM     Goods      Aug-28  \n",
       "5   INDI  Services      Mar-20  \n",
       "6   BREW     Goods      Oct-71  \n",
       "7   BFIN  Services      Apr-25  \n",
       "8   SHIP     Goods      Nov-30  \n",
       "9   EEST     Goods      Jan-94  \n",
       "10  INDI  Services      Mar-20  "
      ]
     },
     "execution_count": 4,
     "metadata": {},
     "output_type": "execute_result"
    }
   ],
   "source": [
    "df1"
   ]
  },
  {
   "cell_type": "code",
   "execution_count": null,
   "id": "6092045b-2293-44fa-b3c8-e9b97cace9c5",
   "metadata": {},
   "outputs": [],
   "source": [
    "pd.read_excel()"
   ]
  },
  {
   "cell_type": "code",
   "execution_count": 14,
   "id": "c2f17b07-ba8d-4674-afa9-f9cfbf08f13b",
   "metadata": {},
   "outputs": [
    {
     "data": {
      "application/javascript": [
       "\n",
       "        if (window._pyforest_update_imports_cell) { window._pyforest_update_imports_cell('import pandas as pd'); }\n",
       "    "
      ],
      "text/plain": [
       "<IPython.core.display.Javascript object>"
      ]
     },
     "metadata": {},
     "output_type": "display_data"
    },
    {
     "name": "stdout",
     "output_type": "stream",
     "text": [
      "        Date    City  Temperature  Humidity\n",
      "0  15/1/2019  Shimla           11        67\n",
      "1  15/2/2019  Shimla           12        65\n",
      "2  15/3/2019  Shimla           11        57\n",
      "3  15/1/2019  Shimla           11        67\n",
      "4  15/1/2019    Pune           29        34\n"
     ]
    }
   ],
   "source": [
    "import zipfile\n",
    "with zipfile.ZipFile('lds33.zip') as z:\n",
    "    with z.open('lds33.csv') as f :\n",
    "        df2 = pd.read_csv(f, header = 0)\n",
    "        print(df2.head())"
   ]
  },
  {
   "cell_type": "code",
   "execution_count": null,
   "id": "fc4610d4-fe3f-4d37-a917-7ac7f0d6926c",
   "metadata": {},
   "outputs": [],
   "source": [
    "pd.read_csv(\"somename.txt\", sep=\"\\t\")"
   ]
  },
  {
   "cell_type": "code",
   "execution_count": null,
   "id": "afe2051f-107d-412c-93ac-27d3d6443483",
   "metadata": {},
   "outputs": [],
   "source": [
    "pd.read_json(\"somename.json\")"
   ]
  },
  {
   "cell_type": "code",
   "execution_count": null,
   "id": "8eb573ab-02dc-4e4c-a604-23293dc1dae9",
   "metadata": {},
   "outputs": [],
   "source": [
    "pd.read_html(\"somename.html\")"
   ]
  },
  {
   "cell_type": "code",
   "execution_count": null,
   "id": "6c4b2da4-d7ac-464e-bed1-acb1dfcfecfb",
   "metadata": {},
   "outputs": [],
   "source": []
  },
  {
   "cell_type": "markdown",
   "id": "323c206d-ab07-4442-bd8f-d42a1f2aaaa0",
   "metadata": {},
   "source": [
    "### Know more about data frame"
   ]
  },
  {
   "cell_type": "code",
   "execution_count": 18,
   "id": "2c73ea32-3067-499f-a439-e9ebca51ea98",
   "metadata": {},
   "outputs": [
    {
     "data": {
      "text/html": [
       "<div>\n",
       "<style scoped>\n",
       "    .dataframe tbody tr th:only-of-type {\n",
       "        vertical-align: middle;\n",
       "    }\n",
       "\n",
       "    .dataframe tbody tr th {\n",
       "        vertical-align: top;\n",
       "    }\n",
       "\n",
       "    .dataframe thead th {\n",
       "        text-align: right;\n",
       "    }\n",
       "</style>\n",
       "<table border=\"1\" class=\"dataframe\">\n",
       "  <thead>\n",
       "    <tr style=\"text-align: right;\">\n",
       "      <th></th>\n",
       "      <th>Vol</th>\n",
       "      <th>Rev</th>\n",
       "      <th>Exp</th>\n",
       "      <th>Sector</th>\n",
       "      <th>EmpCnt</th>\n",
       "      <th>HQ</th>\n",
       "      <th>MNC</th>\n",
       "      <th>StockID</th>\n",
       "      <th>GST</th>\n",
       "      <th>Started</th>\n",
       "      <th>Listed Date</th>\n",
       "    </tr>\n",
       "  </thead>\n",
       "  <tbody>\n",
       "    <tr>\n",
       "      <th>0</th>\n",
       "      <td>Deccan_Sporting</td>\n",
       "      <td>931</td>\n",
       "      <td>839.None</td>\n",
       "      <td>615</td>\n",
       "      <td>Pvt</td>\n",
       "      <td>NaN</td>\n",
       "      <td>Hyd</td>\n",
       "      <td>1</td>\n",
       "      <td>SPRT</td>\n",
       "      <td>Services</td>\n",
       "      <td>Mar-43</td>\n",
       "    </tr>\n",
       "    <tr>\n",
       "      <th>1</th>\n",
       "      <td>Kolkata_FMCG</td>\n",
       "      <td>925</td>\n",
       "      <td>NaN</td>\n",
       "      <td>676</td>\n",
       "      <td>NaN</td>\n",
       "      <td>1379.0</td>\n",
       "      <td>Kol</td>\n",
       "      <td>0</td>\n",
       "      <td>KFMC</td>\n",
       "      <td>Goods</td>\n",
       "      <td>Jan-20</td>\n",
       "    </tr>\n",
       "    <tr>\n",
       "      <th>2</th>\n",
       "      <td>NCR_Leagles</td>\n",
       "      <td>931</td>\n",
       "      <td>NaN</td>\n",
       "      <td>605</td>\n",
       "      <td>NaN</td>\n",
       "      <td>1935.0</td>\n",
       "      <td>NCR</td>\n",
       "      <td>0</td>\n",
       "      <td>NCRL</td>\n",
       "      <td>Services</td>\n",
       "      <td>Feb-60</td>\n",
       "    </tr>\n",
       "    <tr>\n",
       "      <th>3</th>\n",
       "      <td>Bangalore_Systems</td>\n",
       "      <td>900</td>\n",
       "      <td>NaN</td>\n",
       "      <td>650</td>\n",
       "      <td>Gov</td>\n",
       "      <td>1361.0</td>\n",
       "      <td>Blr</td>\n",
       "      <td>0</td>\n",
       "      <td>BSYS</td>\n",
       "      <td>Services</td>\n",
       "      <td>Apr-50</td>\n",
       "    </tr>\n",
       "    <tr>\n",
       "      <th>4</th>\n",
       "      <td>Chennai_Chemicals</td>\n",
       "      <td>966</td>\n",
       "      <td>863.2</td>\n",
       "      <td>608</td>\n",
       "      <td>Pub</td>\n",
       "      <td>1656.0</td>\n",
       "      <td>Che</td>\n",
       "      <td>1</td>\n",
       "      <td>CHEM</td>\n",
       "      <td>Goods</td>\n",
       "      <td>Aug-28</td>\n",
       "    </tr>\n",
       "    <tr>\n",
       "      <th>5</th>\n",
       "      <td>Indi_Services</td>\n",
       "      <td>954</td>\n",
       "      <td>733</td>\n",
       "      <td>609</td>\n",
       "      <td>Gov</td>\n",
       "      <td>NaN</td>\n",
       "      <td>NCR</td>\n",
       "      <td>0</td>\n",
       "      <td>INDI</td>\n",
       "      <td>Services</td>\n",
       "      <td>Mar-20</td>\n",
       "    </tr>\n",
       "    <tr>\n",
       "      <th>6</th>\n",
       "      <td>Bangalore_Breweries</td>\n",
       "      <td>966</td>\n",
       "      <td>NaN</td>\n",
       "      <td>895</td>\n",
       "      <td>NaN</td>\n",
       "      <td>119.0</td>\n",
       "      <td>Blr</td>\n",
       "      <td>1</td>\n",
       "      <td>BREW</td>\n",
       "      <td>Goods</td>\n",
       "      <td>Oct-71</td>\n",
       "    </tr>\n",
       "    <tr>\n",
       "      <th>7</th>\n",
       "      <td>NaN</td>\n",
       "      <td>899</td>\n",
       "      <td>NaN</td>\n",
       "      <td>674</td>\n",
       "      <td>Pub</td>\n",
       "      <td>NaN</td>\n",
       "      <td>Mum</td>\n",
       "      <td>0</td>\n",
       "      <td>BFIN</td>\n",
       "      <td>Services</td>\n",
       "      <td>Apr-25</td>\n",
       "    </tr>\n",
       "    <tr>\n",
       "      <th>8</th>\n",
       "      <td>Chennai_Shipping</td>\n",
       "      <td>992</td>\n",
       "      <td>821</td>\n",
       "      <td>665</td>\n",
       "      <td>NaN</td>\n",
       "      <td>NaN</td>\n",
       "      <td>Che</td>\n",
       "      <td>1</td>\n",
       "      <td>SHIP</td>\n",
       "      <td>Goods</td>\n",
       "      <td>Nov-30</td>\n",
       "    </tr>\n",
       "    <tr>\n",
       "      <th>9</th>\n",
       "      <td>Eastern_Estates</td>\n",
       "      <td>945</td>\n",
       "      <td>834.23</td>\n",
       "      <td>789</td>\n",
       "      <td>Pvt</td>\n",
       "      <td>1873.0</td>\n",
       "      <td>NaN</td>\n",
       "      <td>1</td>\n",
       "      <td>EEST</td>\n",
       "      <td>Goods</td>\n",
       "      <td>Jan-94</td>\n",
       "    </tr>\n",
       "    <tr>\n",
       "      <th>10</th>\n",
       "      <td>Indi_Services</td>\n",
       "      <td>954</td>\n",
       "      <td>733</td>\n",
       "      <td>609</td>\n",
       "      <td>Gov</td>\n",
       "      <td>NaN</td>\n",
       "      <td>NCR</td>\n",
       "      <td>0</td>\n",
       "      <td>INDI</td>\n",
       "      <td>Services</td>\n",
       "      <td>Mar-20</td>\n",
       "    </tr>\n",
       "  </tbody>\n",
       "</table>\n",
       "</div>"
      ],
      "text/plain": [
       "                    Vol  Rev       Exp  Sector EmpCnt      HQ  MNC  StockID  \\\n",
       "0       Deccan_Sporting  931  839.None     615    Pvt     NaN  Hyd        1   \n",
       "1          Kolkata_FMCG  925       NaN     676    NaN  1379.0  Kol        0   \n",
       "2           NCR_Leagles  931       NaN     605    NaN  1935.0  NCR        0   \n",
       "3     Bangalore_Systems  900       NaN     650    Gov  1361.0  Blr        0   \n",
       "4     Chennai_Chemicals  966     863.2     608    Pub  1656.0  Che        1   \n",
       "5         Indi_Services  954       733     609    Gov     NaN  NCR        0   \n",
       "6   Bangalore_Breweries  966       NaN     895    NaN   119.0  Blr        1   \n",
       "7                   NaN  899       NaN     674    Pub     NaN  Mum        0   \n",
       "8      Chennai_Shipping  992       821     665    NaN     NaN  Che        1   \n",
       "9       Eastern_Estates  945    834.23     789    Pvt  1873.0  NaN        1   \n",
       "10        Indi_Services  954       733     609    Gov     NaN  NCR        0   \n",
       "\n",
       "     GST   Started Listed Date  \n",
       "0   SPRT  Services      Mar-43  \n",
       "1   KFMC     Goods      Jan-20  \n",
       "2   NCRL  Services      Feb-60  \n",
       "3   BSYS  Services      Apr-50  \n",
       "4   CHEM     Goods      Aug-28  \n",
       "5   INDI  Services      Mar-20  \n",
       "6   BREW     Goods      Oct-71  \n",
       "7   BFIN  Services      Apr-25  \n",
       "8   SHIP     Goods      Nov-30  \n",
       "9   EEST     Goods      Jan-94  \n",
       "10  INDI  Services      Mar-20  "
      ]
     },
     "execution_count": 18,
     "metadata": {},
     "output_type": "execute_result"
    }
   ],
   "source": [
    "df1"
   ]
  },
  {
   "cell_type": "code",
   "execution_count": 20,
   "id": "910056cb-ab65-4e3d-8031-d81e1c7b2f93",
   "metadata": {},
   "outputs": [
    {
     "data": {
      "text/html": [
       "<div>\n",
       "<style scoped>\n",
       "    .dataframe tbody tr th:only-of-type {\n",
       "        vertical-align: middle;\n",
       "    }\n",
       "\n",
       "    .dataframe tbody tr th {\n",
       "        vertical-align: top;\n",
       "    }\n",
       "\n",
       "    .dataframe thead th {\n",
       "        text-align: right;\n",
       "    }\n",
       "</style>\n",
       "<table border=\"1\" class=\"dataframe\">\n",
       "  <thead>\n",
       "    <tr style=\"text-align: right;\">\n",
       "      <th></th>\n",
       "      <th>Vol</th>\n",
       "      <th>Rev</th>\n",
       "      <th>Exp</th>\n",
       "      <th>Sector</th>\n",
       "      <th>EmpCnt</th>\n",
       "      <th>HQ</th>\n",
       "      <th>MNC</th>\n",
       "      <th>StockID</th>\n",
       "      <th>GST</th>\n",
       "      <th>Started</th>\n",
       "      <th>Listed Date</th>\n",
       "    </tr>\n",
       "  </thead>\n",
       "  <tbody>\n",
       "    <tr>\n",
       "      <th>0</th>\n",
       "      <td>Deccan_Sporting</td>\n",
       "      <td>931</td>\n",
       "      <td>839.None</td>\n",
       "      <td>615</td>\n",
       "      <td>Pvt</td>\n",
       "      <td>NaN</td>\n",
       "      <td>Hyd</td>\n",
       "      <td>1</td>\n",
       "      <td>SPRT</td>\n",
       "      <td>Services</td>\n",
       "      <td>Mar-43</td>\n",
       "    </tr>\n",
       "    <tr>\n",
       "      <th>1</th>\n",
       "      <td>Kolkata_FMCG</td>\n",
       "      <td>925</td>\n",
       "      <td>NaN</td>\n",
       "      <td>676</td>\n",
       "      <td>NaN</td>\n",
       "      <td>1379.0</td>\n",
       "      <td>Kol</td>\n",
       "      <td>0</td>\n",
       "      <td>KFMC</td>\n",
       "      <td>Goods</td>\n",
       "      <td>Jan-20</td>\n",
       "    </tr>\n",
       "    <tr>\n",
       "      <th>2</th>\n",
       "      <td>NCR_Leagles</td>\n",
       "      <td>931</td>\n",
       "      <td>NaN</td>\n",
       "      <td>605</td>\n",
       "      <td>NaN</td>\n",
       "      <td>1935.0</td>\n",
       "      <td>NCR</td>\n",
       "      <td>0</td>\n",
       "      <td>NCRL</td>\n",
       "      <td>Services</td>\n",
       "      <td>Feb-60</td>\n",
       "    </tr>\n",
       "    <tr>\n",
       "      <th>3</th>\n",
       "      <td>Bangalore_Systems</td>\n",
       "      <td>900</td>\n",
       "      <td>NaN</td>\n",
       "      <td>650</td>\n",
       "      <td>Gov</td>\n",
       "      <td>1361.0</td>\n",
       "      <td>Blr</td>\n",
       "      <td>0</td>\n",
       "      <td>BSYS</td>\n",
       "      <td>Services</td>\n",
       "      <td>Apr-50</td>\n",
       "    </tr>\n",
       "    <tr>\n",
       "      <th>4</th>\n",
       "      <td>Chennai_Chemicals</td>\n",
       "      <td>966</td>\n",
       "      <td>863.2</td>\n",
       "      <td>608</td>\n",
       "      <td>Pub</td>\n",
       "      <td>1656.0</td>\n",
       "      <td>Che</td>\n",
       "      <td>1</td>\n",
       "      <td>CHEM</td>\n",
       "      <td>Goods</td>\n",
       "      <td>Aug-28</td>\n",
       "    </tr>\n",
       "  </tbody>\n",
       "</table>\n",
       "</div>"
      ],
      "text/plain": [
       "                 Vol  Rev       Exp  Sector EmpCnt      HQ  MNC  StockID  \\\n",
       "0    Deccan_Sporting  931  839.None     615    Pvt     NaN  Hyd        1   \n",
       "1       Kolkata_FMCG  925       NaN     676    NaN  1379.0  Kol        0   \n",
       "2        NCR_Leagles  931       NaN     605    NaN  1935.0  NCR        0   \n",
       "3  Bangalore_Systems  900       NaN     650    Gov  1361.0  Blr        0   \n",
       "4  Chennai_Chemicals  966     863.2     608    Pub  1656.0  Che        1   \n",
       "\n",
       "    GST   Started Listed Date  \n",
       "0  SPRT  Services      Mar-43  \n",
       "1  KFMC     Goods      Jan-20  \n",
       "2  NCRL  Services      Feb-60  \n",
       "3  BSYS  Services      Apr-50  \n",
       "4  CHEM     Goods      Aug-28  "
      ]
     },
     "execution_count": 20,
     "metadata": {},
     "output_type": "execute_result"
    }
   ],
   "source": [
    "df1.head()"
   ]
  },
  {
   "cell_type": "code",
   "execution_count": 22,
   "id": "acf0bb11-122c-46bd-b20c-ab0911950945",
   "metadata": {},
   "outputs": [
    {
     "data": {
      "text/html": [
       "<div>\n",
       "<style scoped>\n",
       "    .dataframe tbody tr th:only-of-type {\n",
       "        vertical-align: middle;\n",
       "    }\n",
       "\n",
       "    .dataframe tbody tr th {\n",
       "        vertical-align: top;\n",
       "    }\n",
       "\n",
       "    .dataframe thead th {\n",
       "        text-align: right;\n",
       "    }\n",
       "</style>\n",
       "<table border=\"1\" class=\"dataframe\">\n",
       "  <thead>\n",
       "    <tr style=\"text-align: right;\">\n",
       "      <th></th>\n",
       "      <th>Vol</th>\n",
       "      <th>Rev</th>\n",
       "      <th>Exp</th>\n",
       "      <th>Sector</th>\n",
       "      <th>EmpCnt</th>\n",
       "      <th>HQ</th>\n",
       "      <th>MNC</th>\n",
       "      <th>StockID</th>\n",
       "      <th>GST</th>\n",
       "      <th>Started</th>\n",
       "      <th>Listed Date</th>\n",
       "    </tr>\n",
       "  </thead>\n",
       "  <tbody>\n",
       "    <tr>\n",
       "      <th>6</th>\n",
       "      <td>Bangalore_Breweries</td>\n",
       "      <td>966</td>\n",
       "      <td>NaN</td>\n",
       "      <td>895</td>\n",
       "      <td>NaN</td>\n",
       "      <td>119.0</td>\n",
       "      <td>Blr</td>\n",
       "      <td>1</td>\n",
       "      <td>BREW</td>\n",
       "      <td>Goods</td>\n",
       "      <td>Oct-71</td>\n",
       "    </tr>\n",
       "    <tr>\n",
       "      <th>7</th>\n",
       "      <td>NaN</td>\n",
       "      <td>899</td>\n",
       "      <td>NaN</td>\n",
       "      <td>674</td>\n",
       "      <td>Pub</td>\n",
       "      <td>NaN</td>\n",
       "      <td>Mum</td>\n",
       "      <td>0</td>\n",
       "      <td>BFIN</td>\n",
       "      <td>Services</td>\n",
       "      <td>Apr-25</td>\n",
       "    </tr>\n",
       "    <tr>\n",
       "      <th>8</th>\n",
       "      <td>Chennai_Shipping</td>\n",
       "      <td>992</td>\n",
       "      <td>821</td>\n",
       "      <td>665</td>\n",
       "      <td>NaN</td>\n",
       "      <td>NaN</td>\n",
       "      <td>Che</td>\n",
       "      <td>1</td>\n",
       "      <td>SHIP</td>\n",
       "      <td>Goods</td>\n",
       "      <td>Nov-30</td>\n",
       "    </tr>\n",
       "    <tr>\n",
       "      <th>9</th>\n",
       "      <td>Eastern_Estates</td>\n",
       "      <td>945</td>\n",
       "      <td>834.23</td>\n",
       "      <td>789</td>\n",
       "      <td>Pvt</td>\n",
       "      <td>1873.0</td>\n",
       "      <td>NaN</td>\n",
       "      <td>1</td>\n",
       "      <td>EEST</td>\n",
       "      <td>Goods</td>\n",
       "      <td>Jan-94</td>\n",
       "    </tr>\n",
       "    <tr>\n",
       "      <th>10</th>\n",
       "      <td>Indi_Services</td>\n",
       "      <td>954</td>\n",
       "      <td>733</td>\n",
       "      <td>609</td>\n",
       "      <td>Gov</td>\n",
       "      <td>NaN</td>\n",
       "      <td>NCR</td>\n",
       "      <td>0</td>\n",
       "      <td>INDI</td>\n",
       "      <td>Services</td>\n",
       "      <td>Mar-20</td>\n",
       "    </tr>\n",
       "  </tbody>\n",
       "</table>\n",
       "</div>"
      ],
      "text/plain": [
       "                    Vol  Rev     Exp  Sector EmpCnt      HQ  MNC  StockID  \\\n",
       "6   Bangalore_Breweries  966     NaN     895    NaN   119.0  Blr        1   \n",
       "7                   NaN  899     NaN     674    Pub     NaN  Mum        0   \n",
       "8      Chennai_Shipping  992     821     665    NaN     NaN  Che        1   \n",
       "9       Eastern_Estates  945  834.23     789    Pvt  1873.0  NaN        1   \n",
       "10        Indi_Services  954     733     609    Gov     NaN  NCR        0   \n",
       "\n",
       "     GST   Started Listed Date  \n",
       "6   BREW     Goods      Oct-71  \n",
       "7   BFIN  Services      Apr-25  \n",
       "8   SHIP     Goods      Nov-30  \n",
       "9   EEST     Goods      Jan-94  \n",
       "10  INDI  Services      Mar-20  "
      ]
     },
     "execution_count": 22,
     "metadata": {},
     "output_type": "execute_result"
    }
   ],
   "source": [
    "df1.tail()"
   ]
  },
  {
   "cell_type": "code",
   "execution_count": 24,
   "id": "56e47020-aee2-4415-9f30-3afe4bdb4cda",
   "metadata": {},
   "outputs": [],
   "source": [
    "dft = df1.tail()"
   ]
  },
  {
   "cell_type": "code",
   "execution_count": 28,
   "id": "cc72cdd2-bc16-47be-b465-c156f2613692",
   "metadata": {},
   "outputs": [
    {
     "data": {
      "text/plain": [
       "(11, 11)"
      ]
     },
     "execution_count": 28,
     "metadata": {},
     "output_type": "execute_result"
    }
   ],
   "source": [
    "df1.shape"
   ]
  },
  {
   "cell_type": "code",
   "execution_count": 30,
   "id": "40729334-fdd5-48c5-acf5-e5848d7e2279",
   "metadata": {},
   "outputs": [
    {
     "data": {
      "text/plain": [
       "(5, 11)"
      ]
     },
     "execution_count": 30,
     "metadata": {},
     "output_type": "execute_result"
    }
   ],
   "source": [
    "dft.shape"
   ]
  },
  {
   "cell_type": "code",
   "execution_count": 32,
   "id": "06dad0ba-c10f-4544-9a0b-e75fd893839e",
   "metadata": {},
   "outputs": [
    {
     "data": {
      "text/plain": [
       "Vol             object\n",
       "Rev              int64\n",
       "Exp             object\n",
       "Sector           int64\n",
       "EmpCnt          object\n",
       "HQ             float64\n",
       "MNC             object\n",
       "StockID          int64\n",
       "GST             object\n",
       "Started         object\n",
       "Listed Date     object\n",
       "dtype: object"
      ]
     },
     "execution_count": 32,
     "metadata": {},
     "output_type": "execute_result"
    }
   ],
   "source": [
    "df1.dtypes"
   ]
  },
  {
   "cell_type": "code",
   "execution_count": 34,
   "id": "0ef8eeb0-691b-413f-abc4-10fe3a09b7b1",
   "metadata": {},
   "outputs": [
    {
     "name": "stdout",
     "output_type": "stream",
     "text": [
      "<class 'pandas.core.frame.DataFrame'>\n",
      "RangeIndex: 11 entries, 0 to 10\n",
      "Data columns (total 11 columns):\n",
      " #   Column       Non-Null Count  Dtype  \n",
      "---  ------       --------------  -----  \n",
      " 0   Vol          10 non-null     object \n",
      " 1   Rev          11 non-null     int64  \n",
      " 2   Exp          6 non-null      object \n",
      " 3   Sector       11 non-null     int64  \n",
      " 4   EmpCnt       7 non-null      object \n",
      " 5   HQ           6 non-null      float64\n",
      " 6   MNC          10 non-null     object \n",
      " 7   StockID      11 non-null     int64  \n",
      " 8   GST          11 non-null     object \n",
      " 9   Started      11 non-null     object \n",
      " 10  Listed Date  11 non-null     object \n",
      "dtypes: float64(1), int64(3), object(7)\n",
      "memory usage: 1.1+ KB\n"
     ]
    }
   ],
   "source": [
    "df1.info()"
   ]
  },
  {
   "cell_type": "code",
   "execution_count": 36,
   "id": "2eed711b-3d51-4843-89c7-8bb780546d9f",
   "metadata": {},
   "outputs": [
    {
     "data": {
      "text/html": [
       "<div>\n",
       "<style scoped>\n",
       "    .dataframe tbody tr th:only-of-type {\n",
       "        vertical-align: middle;\n",
       "    }\n",
       "\n",
       "    .dataframe tbody tr th {\n",
       "        vertical-align: top;\n",
       "    }\n",
       "\n",
       "    .dataframe thead th {\n",
       "        text-align: right;\n",
       "    }\n",
       "</style>\n",
       "<table border=\"1\" class=\"dataframe\">\n",
       "  <thead>\n",
       "    <tr style=\"text-align: right;\">\n",
       "      <th></th>\n",
       "      <th>Vol</th>\n",
       "      <th>Rev</th>\n",
       "      <th>Exp</th>\n",
       "      <th>Sector</th>\n",
       "      <th>EmpCnt</th>\n",
       "      <th>HQ</th>\n",
       "      <th>MNC</th>\n",
       "      <th>StockID</th>\n",
       "      <th>GST</th>\n",
       "      <th>Started</th>\n",
       "      <th>Listed Date</th>\n",
       "    </tr>\n",
       "  </thead>\n",
       "  <tbody>\n",
       "    <tr>\n",
       "      <th>0</th>\n",
       "      <td>Deccan_Sporting</td>\n",
       "      <td>931</td>\n",
       "      <td>839.None</td>\n",
       "      <td>615</td>\n",
       "      <td>Pvt</td>\n",
       "      <td>NaN</td>\n",
       "      <td>Hyd</td>\n",
       "      <td>1</td>\n",
       "      <td>SPRT</td>\n",
       "      <td>Services</td>\n",
       "      <td>Mar-43</td>\n",
       "    </tr>\n",
       "    <tr>\n",
       "      <th>1</th>\n",
       "      <td>Kolkata_FMCG</td>\n",
       "      <td>925</td>\n",
       "      <td>NaN</td>\n",
       "      <td>676</td>\n",
       "      <td>NaN</td>\n",
       "      <td>1379.0</td>\n",
       "      <td>Kol</td>\n",
       "      <td>0</td>\n",
       "      <td>KFMC</td>\n",
       "      <td>Goods</td>\n",
       "      <td>Jan-20</td>\n",
       "    </tr>\n",
       "    <tr>\n",
       "      <th>2</th>\n",
       "      <td>NCR_Leagles</td>\n",
       "      <td>931</td>\n",
       "      <td>NaN</td>\n",
       "      <td>605</td>\n",
       "      <td>NaN</td>\n",
       "      <td>1935.0</td>\n",
       "      <td>NCR</td>\n",
       "      <td>0</td>\n",
       "      <td>NCRL</td>\n",
       "      <td>Services</td>\n",
       "      <td>Feb-60</td>\n",
       "    </tr>\n",
       "    <tr>\n",
       "      <th>3</th>\n",
       "      <td>Bangalore_Systems</td>\n",
       "      <td>900</td>\n",
       "      <td>NaN</td>\n",
       "      <td>650</td>\n",
       "      <td>Gov</td>\n",
       "      <td>1361.0</td>\n",
       "      <td>Blr</td>\n",
       "      <td>0</td>\n",
       "      <td>BSYS</td>\n",
       "      <td>Services</td>\n",
       "      <td>Apr-50</td>\n",
       "    </tr>\n",
       "    <tr>\n",
       "      <th>4</th>\n",
       "      <td>Chennai_Chemicals</td>\n",
       "      <td>966</td>\n",
       "      <td>863.2</td>\n",
       "      <td>608</td>\n",
       "      <td>Pub</td>\n",
       "      <td>1656.0</td>\n",
       "      <td>Che</td>\n",
       "      <td>1</td>\n",
       "      <td>CHEM</td>\n",
       "      <td>Goods</td>\n",
       "      <td>Aug-28</td>\n",
       "    </tr>\n",
       "    <tr>\n",
       "      <th>5</th>\n",
       "      <td>Indi_Services</td>\n",
       "      <td>954</td>\n",
       "      <td>733</td>\n",
       "      <td>609</td>\n",
       "      <td>Gov</td>\n",
       "      <td>NaN</td>\n",
       "      <td>NCR</td>\n",
       "      <td>0</td>\n",
       "      <td>INDI</td>\n",
       "      <td>Services</td>\n",
       "      <td>Mar-20</td>\n",
       "    </tr>\n",
       "    <tr>\n",
       "      <th>6</th>\n",
       "      <td>Bangalore_Breweries</td>\n",
       "      <td>966</td>\n",
       "      <td>NaN</td>\n",
       "      <td>895</td>\n",
       "      <td>NaN</td>\n",
       "      <td>119.0</td>\n",
       "      <td>Blr</td>\n",
       "      <td>1</td>\n",
       "      <td>BREW</td>\n",
       "      <td>Goods</td>\n",
       "      <td>Oct-71</td>\n",
       "    </tr>\n",
       "    <tr>\n",
       "      <th>7</th>\n",
       "      <td>NaN</td>\n",
       "      <td>899</td>\n",
       "      <td>NaN</td>\n",
       "      <td>674</td>\n",
       "      <td>Pub</td>\n",
       "      <td>NaN</td>\n",
       "      <td>Mum</td>\n",
       "      <td>0</td>\n",
       "      <td>BFIN</td>\n",
       "      <td>Services</td>\n",
       "      <td>Apr-25</td>\n",
       "    </tr>\n",
       "    <tr>\n",
       "      <th>8</th>\n",
       "      <td>Chennai_Shipping</td>\n",
       "      <td>992</td>\n",
       "      <td>821</td>\n",
       "      <td>665</td>\n",
       "      <td>NaN</td>\n",
       "      <td>NaN</td>\n",
       "      <td>Che</td>\n",
       "      <td>1</td>\n",
       "      <td>SHIP</td>\n",
       "      <td>Goods</td>\n",
       "      <td>Nov-30</td>\n",
       "    </tr>\n",
       "    <tr>\n",
       "      <th>9</th>\n",
       "      <td>Eastern_Estates</td>\n",
       "      <td>945</td>\n",
       "      <td>834.23</td>\n",
       "      <td>789</td>\n",
       "      <td>Pvt</td>\n",
       "      <td>1873.0</td>\n",
       "      <td>NaN</td>\n",
       "      <td>1</td>\n",
       "      <td>EEST</td>\n",
       "      <td>Goods</td>\n",
       "      <td>Jan-94</td>\n",
       "    </tr>\n",
       "    <tr>\n",
       "      <th>10</th>\n",
       "      <td>Indi_Services</td>\n",
       "      <td>954</td>\n",
       "      <td>733</td>\n",
       "      <td>609</td>\n",
       "      <td>Gov</td>\n",
       "      <td>NaN</td>\n",
       "      <td>NCR</td>\n",
       "      <td>0</td>\n",
       "      <td>INDI</td>\n",
       "      <td>Services</td>\n",
       "      <td>Mar-20</td>\n",
       "    </tr>\n",
       "  </tbody>\n",
       "</table>\n",
       "</div>"
      ],
      "text/plain": [
       "                    Vol  Rev       Exp  Sector EmpCnt      HQ  MNC  StockID  \\\n",
       "0       Deccan_Sporting  931  839.None     615    Pvt     NaN  Hyd        1   \n",
       "1          Kolkata_FMCG  925       NaN     676    NaN  1379.0  Kol        0   \n",
       "2           NCR_Leagles  931       NaN     605    NaN  1935.0  NCR        0   \n",
       "3     Bangalore_Systems  900       NaN     650    Gov  1361.0  Blr        0   \n",
       "4     Chennai_Chemicals  966     863.2     608    Pub  1656.0  Che        1   \n",
       "5         Indi_Services  954       733     609    Gov     NaN  NCR        0   \n",
       "6   Bangalore_Breweries  966       NaN     895    NaN   119.0  Blr        1   \n",
       "7                   NaN  899       NaN     674    Pub     NaN  Mum        0   \n",
       "8      Chennai_Shipping  992       821     665    NaN     NaN  Che        1   \n",
       "9       Eastern_Estates  945    834.23     789    Pvt  1873.0  NaN        1   \n",
       "10        Indi_Services  954       733     609    Gov     NaN  NCR        0   \n",
       "\n",
       "     GST   Started Listed Date  \n",
       "0   SPRT  Services      Mar-43  \n",
       "1   KFMC     Goods      Jan-20  \n",
       "2   NCRL  Services      Feb-60  \n",
       "3   BSYS  Services      Apr-50  \n",
       "4   CHEM     Goods      Aug-28  \n",
       "5   INDI  Services      Mar-20  \n",
       "6   BREW     Goods      Oct-71  \n",
       "7   BFIN  Services      Apr-25  \n",
       "8   SHIP     Goods      Nov-30  \n",
       "9   EEST     Goods      Jan-94  \n",
       "10  INDI  Services      Mar-20  "
      ]
     },
     "execution_count": 36,
     "metadata": {},
     "output_type": "execute_result"
    }
   ],
   "source": [
    "df1"
   ]
  },
  {
   "cell_type": "code",
   "execution_count": null,
   "id": "677c365b-5010-4bbf-ab47-aaf658653ee5",
   "metadata": {},
   "outputs": [],
   "source": []
  },
  {
   "cell_type": "markdown",
   "id": "c6be1362-f39e-4644-8a6b-0c74a1d3b691",
   "metadata": {},
   "source": [
    "### Creating a new data frame"
   ]
  },
  {
   "cell_type": "code",
   "execution_count": 40,
   "id": "39a09684-6ac7-4140-97c9-30d922fede37",
   "metadata": {},
   "outputs": [],
   "source": [
    "list1 = ['mks', 'pratcices', 'pandas', 'for', 'ds']"
   ]
  },
  {
   "cell_type": "code",
   "execution_count": 42,
   "id": "839fd7cf-794e-403b-8c0b-20dd7ecaf896",
   "metadata": {},
   "outputs": [
    {
     "data": {
      "text/plain": [
       "['mks', 'pratcices', 'pandas', 'for', 'ds']"
      ]
     },
     "execution_count": 42,
     "metadata": {},
     "output_type": "execute_result"
    }
   ],
   "source": [
    "list1"
   ]
  },
  {
   "cell_type": "code",
   "execution_count": 44,
   "id": "a7e58424-9436-4fcc-aa31-f1a6bab5c7b4",
   "metadata": {},
   "outputs": [
    {
     "data": {
      "application/javascript": [
       "\n",
       "        if (window._pyforest_update_imports_cell) { window._pyforest_update_imports_cell('import pandas as pd'); }\n",
       "    "
      ],
      "text/plain": [
       "<IPython.core.display.Javascript object>"
      ]
     },
     "metadata": {},
     "output_type": "display_data"
    }
   ],
   "source": [
    "df11 = pd.DataFrame(list1)"
   ]
  },
  {
   "cell_type": "code",
   "execution_count": 46,
   "id": "be2570b9-9c69-4995-801c-f48885201063",
   "metadata": {},
   "outputs": [
    {
     "data": {
      "text/html": [
       "<div>\n",
       "<style scoped>\n",
       "    .dataframe tbody tr th:only-of-type {\n",
       "        vertical-align: middle;\n",
       "    }\n",
       "\n",
       "    .dataframe tbody tr th {\n",
       "        vertical-align: top;\n",
       "    }\n",
       "\n",
       "    .dataframe thead th {\n",
       "        text-align: right;\n",
       "    }\n",
       "</style>\n",
       "<table border=\"1\" class=\"dataframe\">\n",
       "  <thead>\n",
       "    <tr style=\"text-align: right;\">\n",
       "      <th></th>\n",
       "      <th>0</th>\n",
       "    </tr>\n",
       "  </thead>\n",
       "  <tbody>\n",
       "    <tr>\n",
       "      <th>0</th>\n",
       "      <td>mks</td>\n",
       "    </tr>\n",
       "    <tr>\n",
       "      <th>1</th>\n",
       "      <td>pratcices</td>\n",
       "    </tr>\n",
       "    <tr>\n",
       "      <th>2</th>\n",
       "      <td>pandas</td>\n",
       "    </tr>\n",
       "    <tr>\n",
       "      <th>3</th>\n",
       "      <td>for</td>\n",
       "    </tr>\n",
       "    <tr>\n",
       "      <th>4</th>\n",
       "      <td>ds</td>\n",
       "    </tr>\n",
       "  </tbody>\n",
       "</table>\n",
       "</div>"
      ],
      "text/plain": [
       "           0\n",
       "0        mks\n",
       "1  pratcices\n",
       "2     pandas\n",
       "3        for\n",
       "4         ds"
      ]
     },
     "execution_count": 46,
     "metadata": {},
     "output_type": "execute_result"
    }
   ],
   "source": [
    "df11"
   ]
  },
  {
   "cell_type": "code",
   "execution_count": 48,
   "id": "4bdf8690-a6c3-4457-bcb2-2357509da228",
   "metadata": {},
   "outputs": [],
   "source": [
    "list2 = [['mks', 1000], ['pratcices',1231], ['pandas',242433], ['for',342534], ['ds',564]]"
   ]
  },
  {
   "cell_type": "code",
   "execution_count": 50,
   "id": "8a8d4504-adfb-48cb-b255-c7166993c378",
   "metadata": {},
   "outputs": [
    {
     "data": {
      "application/javascript": [
       "\n",
       "        if (window._pyforest_update_imports_cell) { window._pyforest_update_imports_cell('import pandas as pd'); }\n",
       "    "
      ],
      "text/plain": [
       "<IPython.core.display.Javascript object>"
      ]
     },
     "metadata": {},
     "output_type": "display_data"
    }
   ],
   "source": [
    "df12 = pd.DataFrame(list2)"
   ]
  },
  {
   "cell_type": "code",
   "execution_count": 52,
   "id": "ad2714cc-649c-4587-9fb5-cfe5edfd6d84",
   "metadata": {},
   "outputs": [
    {
     "data": {
      "text/html": [
       "<div>\n",
       "<style scoped>\n",
       "    .dataframe tbody tr th:only-of-type {\n",
       "        vertical-align: middle;\n",
       "    }\n",
       "\n",
       "    .dataframe tbody tr th {\n",
       "        vertical-align: top;\n",
       "    }\n",
       "\n",
       "    .dataframe thead th {\n",
       "        text-align: right;\n",
       "    }\n",
       "</style>\n",
       "<table border=\"1\" class=\"dataframe\">\n",
       "  <thead>\n",
       "    <tr style=\"text-align: right;\">\n",
       "      <th></th>\n",
       "      <th>0</th>\n",
       "      <th>1</th>\n",
       "    </tr>\n",
       "  </thead>\n",
       "  <tbody>\n",
       "    <tr>\n",
       "      <th>0</th>\n",
       "      <td>mks</td>\n",
       "      <td>1000</td>\n",
       "    </tr>\n",
       "    <tr>\n",
       "      <th>1</th>\n",
       "      <td>pratcices</td>\n",
       "      <td>1231</td>\n",
       "    </tr>\n",
       "    <tr>\n",
       "      <th>2</th>\n",
       "      <td>pandas</td>\n",
       "      <td>242433</td>\n",
       "    </tr>\n",
       "    <tr>\n",
       "      <th>3</th>\n",
       "      <td>for</td>\n",
       "      <td>342534</td>\n",
       "    </tr>\n",
       "    <tr>\n",
       "      <th>4</th>\n",
       "      <td>ds</td>\n",
       "      <td>564</td>\n",
       "    </tr>\n",
       "  </tbody>\n",
       "</table>\n",
       "</div>"
      ],
      "text/plain": [
       "           0       1\n",
       "0        mks    1000\n",
       "1  pratcices    1231\n",
       "2     pandas  242433\n",
       "3        for  342534\n",
       "4         ds     564"
      ]
     },
     "execution_count": 52,
     "metadata": {},
     "output_type": "execute_result"
    }
   ],
   "source": [
    "df12"
   ]
  },
  {
   "cell_type": "code",
   "execution_count": 54,
   "id": "d400234d-5e51-4129-a573-443bc822dfeb",
   "metadata": {},
   "outputs": [
    {
     "data": {
      "application/javascript": [
       "\n",
       "        if (window._pyforest_update_imports_cell) { window._pyforest_update_imports_cell('import pandas as pd'); }\n",
       "    "
      ],
      "text/plain": [
       "<IPython.core.display.Javascript object>"
      ]
     },
     "metadata": {},
     "output_type": "display_data"
    }
   ],
   "source": [
    "df13 = pd.DataFrame(list2, columns=['words', 'numericals'])"
   ]
  },
  {
   "cell_type": "code",
   "execution_count": 56,
   "id": "45733963-abbf-41d6-ae0b-421ced72f349",
   "metadata": {},
   "outputs": [
    {
     "data": {
      "text/html": [
       "<div>\n",
       "<style scoped>\n",
       "    .dataframe tbody tr th:only-of-type {\n",
       "        vertical-align: middle;\n",
       "    }\n",
       "\n",
       "    .dataframe tbody tr th {\n",
       "        vertical-align: top;\n",
       "    }\n",
       "\n",
       "    .dataframe thead th {\n",
       "        text-align: right;\n",
       "    }\n",
       "</style>\n",
       "<table border=\"1\" class=\"dataframe\">\n",
       "  <thead>\n",
       "    <tr style=\"text-align: right;\">\n",
       "      <th></th>\n",
       "      <th>words</th>\n",
       "      <th>numericals</th>\n",
       "    </tr>\n",
       "  </thead>\n",
       "  <tbody>\n",
       "    <tr>\n",
       "      <th>0</th>\n",
       "      <td>mks</td>\n",
       "      <td>1000</td>\n",
       "    </tr>\n",
       "    <tr>\n",
       "      <th>1</th>\n",
       "      <td>pratcices</td>\n",
       "      <td>1231</td>\n",
       "    </tr>\n",
       "    <tr>\n",
       "      <th>2</th>\n",
       "      <td>pandas</td>\n",
       "      <td>242433</td>\n",
       "    </tr>\n",
       "    <tr>\n",
       "      <th>3</th>\n",
       "      <td>for</td>\n",
       "      <td>342534</td>\n",
       "    </tr>\n",
       "    <tr>\n",
       "      <th>4</th>\n",
       "      <td>ds</td>\n",
       "      <td>564</td>\n",
       "    </tr>\n",
       "  </tbody>\n",
       "</table>\n",
       "</div>"
      ],
      "text/plain": [
       "       words  numericals\n",
       "0        mks        1000\n",
       "1  pratcices        1231\n",
       "2     pandas      242433\n",
       "3        for      342534\n",
       "4         ds         564"
      ]
     },
     "execution_count": 56,
     "metadata": {},
     "output_type": "execute_result"
    }
   ],
   "source": [
    "df13"
   ]
  },
  {
   "cell_type": "code",
   "execution_count": 58,
   "id": "4f5bdde4-f9a8-4fd4-98f8-1d7ca980989a",
   "metadata": {},
   "outputs": [],
   "source": [
    "dict1 = {\n",
    "    'name' : ['fnh','gfbgf','dgbdfb','dsf','wdewsd'],\n",
    "    'age' : [34,43,23,54,45]\n",
    "}"
   ]
  },
  {
   "cell_type": "code",
   "execution_count": 60,
   "id": "d8f4b607-74d4-4d43-a054-afd6aadd6559",
   "metadata": {},
   "outputs": [
    {
     "data": {
      "text/plain": [
       "{'name': ['fnh', 'gfbgf', 'dgbdfb', 'dsf', 'wdewsd'],\n",
       " 'age': [34, 43, 23, 54, 45]}"
      ]
     },
     "execution_count": 60,
     "metadata": {},
     "output_type": "execute_result"
    }
   ],
   "source": [
    "dict1"
   ]
  },
  {
   "cell_type": "code",
   "execution_count": 62,
   "id": "04c3e5d8-8a69-4003-b884-ebd562557178",
   "metadata": {},
   "outputs": [
    {
     "data": {
      "application/javascript": [
       "\n",
       "        if (window._pyforest_update_imports_cell) { window._pyforest_update_imports_cell('import pandas as pd'); }\n",
       "    "
      ],
      "text/plain": [
       "<IPython.core.display.Javascript object>"
      ]
     },
     "metadata": {},
     "output_type": "display_data"
    }
   ],
   "source": [
    "df14 = pd.DataFrame(dict1)"
   ]
  },
  {
   "cell_type": "code",
   "execution_count": 64,
   "id": "d2bb73bc-3c7f-4a05-b0be-e7fad74c85b3",
   "metadata": {},
   "outputs": [
    {
     "data": {
      "text/html": [
       "<div>\n",
       "<style scoped>\n",
       "    .dataframe tbody tr th:only-of-type {\n",
       "        vertical-align: middle;\n",
       "    }\n",
       "\n",
       "    .dataframe tbody tr th {\n",
       "        vertical-align: top;\n",
       "    }\n",
       "\n",
       "    .dataframe thead th {\n",
       "        text-align: right;\n",
       "    }\n",
       "</style>\n",
       "<table border=\"1\" class=\"dataframe\">\n",
       "  <thead>\n",
       "    <tr style=\"text-align: right;\">\n",
       "      <th></th>\n",
       "      <th>name</th>\n",
       "      <th>age</th>\n",
       "    </tr>\n",
       "  </thead>\n",
       "  <tbody>\n",
       "    <tr>\n",
       "      <th>0</th>\n",
       "      <td>fnh</td>\n",
       "      <td>34</td>\n",
       "    </tr>\n",
       "    <tr>\n",
       "      <th>1</th>\n",
       "      <td>gfbgf</td>\n",
       "      <td>43</td>\n",
       "    </tr>\n",
       "    <tr>\n",
       "      <th>2</th>\n",
       "      <td>dgbdfb</td>\n",
       "      <td>23</td>\n",
       "    </tr>\n",
       "    <tr>\n",
       "      <th>3</th>\n",
       "      <td>dsf</td>\n",
       "      <td>54</td>\n",
       "    </tr>\n",
       "    <tr>\n",
       "      <th>4</th>\n",
       "      <td>wdewsd</td>\n",
       "      <td>45</td>\n",
       "    </tr>\n",
       "  </tbody>\n",
       "</table>\n",
       "</div>"
      ],
      "text/plain": [
       "     name  age\n",
       "0     fnh   34\n",
       "1   gfbgf   43\n",
       "2  dgbdfb   23\n",
       "3     dsf   54\n",
       "4  wdewsd   45"
      ]
     },
     "execution_count": 64,
     "metadata": {},
     "output_type": "execute_result"
    }
   ],
   "source": [
    "df14"
   ]
  },
  {
   "cell_type": "code",
   "execution_count": 66,
   "id": "e94916c3-4844-41c4-90b1-93e47771db6e",
   "metadata": {},
   "outputs": [
    {
     "data": {
      "application/javascript": [
       "\n",
       "        if (window._pyforest_update_imports_cell) { window._pyforest_update_imports_cell('import pandas as pd'); }\n",
       "    "
      ],
      "text/plain": [
       "<IPython.core.display.Javascript object>"
      ]
     },
     "metadata": {},
     "output_type": "display_data"
    }
   ],
   "source": [
    "df15 = pd.DataFrame(dict1, index=['a','b','c','d','e'])"
   ]
  },
  {
   "cell_type": "code",
   "execution_count": 68,
   "id": "a304431f-0f30-4d44-999c-78df10862e2e",
   "metadata": {},
   "outputs": [
    {
     "data": {
      "text/html": [
       "<div>\n",
       "<style scoped>\n",
       "    .dataframe tbody tr th:only-of-type {\n",
       "        vertical-align: middle;\n",
       "    }\n",
       "\n",
       "    .dataframe tbody tr th {\n",
       "        vertical-align: top;\n",
       "    }\n",
       "\n",
       "    .dataframe thead th {\n",
       "        text-align: right;\n",
       "    }\n",
       "</style>\n",
       "<table border=\"1\" class=\"dataframe\">\n",
       "  <thead>\n",
       "    <tr style=\"text-align: right;\">\n",
       "      <th></th>\n",
       "      <th>name</th>\n",
       "      <th>age</th>\n",
       "    </tr>\n",
       "  </thead>\n",
       "  <tbody>\n",
       "    <tr>\n",
       "      <th>a</th>\n",
       "      <td>fnh</td>\n",
       "      <td>34</td>\n",
       "    </tr>\n",
       "    <tr>\n",
       "      <th>b</th>\n",
       "      <td>gfbgf</td>\n",
       "      <td>43</td>\n",
       "    </tr>\n",
       "    <tr>\n",
       "      <th>c</th>\n",
       "      <td>dgbdfb</td>\n",
       "      <td>23</td>\n",
       "    </tr>\n",
       "    <tr>\n",
       "      <th>d</th>\n",
       "      <td>dsf</td>\n",
       "      <td>54</td>\n",
       "    </tr>\n",
       "    <tr>\n",
       "      <th>e</th>\n",
       "      <td>wdewsd</td>\n",
       "      <td>45</td>\n",
       "    </tr>\n",
       "  </tbody>\n",
       "</table>\n",
       "</div>"
      ],
      "text/plain": [
       "     name  age\n",
       "a     fnh   34\n",
       "b   gfbgf   43\n",
       "c  dgbdfb   23\n",
       "d     dsf   54\n",
       "e  wdewsd   45"
      ]
     },
     "execution_count": 68,
     "metadata": {},
     "output_type": "execute_result"
    }
   ],
   "source": [
    "df15"
   ]
  },
  {
   "cell_type": "code",
   "execution_count": null,
   "id": "7bc922aa-9255-4585-bb82-c856da336f9f",
   "metadata": {},
   "outputs": [],
   "source": [
    "# list of dictionaries"
   ]
  },
  {
   "cell_type": "code",
   "execution_count": 85,
   "id": "6a040b2e-a0a4-4159-aef6-2d1cedff4f28",
   "metadata": {},
   "outputs": [],
   "source": [
    "listOfdict = [\n",
    "    {\n",
    "        'A' : 23213,\n",
    "        'B' : 23423,\n",
    "        'C' : 567567\n",
    "    },\n",
    "    {\n",
    "        'A' : 4564,\n",
    "        'B' : 6467,\n",
    "        'C' : 45656\n",
    "    },\n",
    "    {\n",
    "        'A' : 75557,\n",
    "        'B' : 5755\n",
    "    }\n",
    "]"
   ]
  },
  {
   "cell_type": "code",
   "execution_count": 87,
   "id": "b32d716e-f731-4a33-878a-158eab05ce48",
   "metadata": {},
   "outputs": [
    {
     "data": {
      "application/javascript": [
       "\n",
       "        if (window._pyforest_update_imports_cell) { window._pyforest_update_imports_cell('import pandas as pd'); }\n",
       "    "
      ],
      "text/plain": [
       "<IPython.core.display.Javascript object>"
      ]
     },
     "metadata": {},
     "output_type": "display_data"
    }
   ],
   "source": [
    "df16 = pd.DataFrame(listOfdict)"
   ]
  },
  {
   "cell_type": "code",
   "execution_count": 89,
   "id": "f1cda113-aa66-43ed-a6ab-1b91c7238c34",
   "metadata": {},
   "outputs": [
    {
     "data": {
      "text/html": [
       "<div>\n",
       "<style scoped>\n",
       "    .dataframe tbody tr th:only-of-type {\n",
       "        vertical-align: middle;\n",
       "    }\n",
       "\n",
       "    .dataframe tbody tr th {\n",
       "        vertical-align: top;\n",
       "    }\n",
       "\n",
       "    .dataframe thead th {\n",
       "        text-align: right;\n",
       "    }\n",
       "</style>\n",
       "<table border=\"1\" class=\"dataframe\">\n",
       "  <thead>\n",
       "    <tr style=\"text-align: right;\">\n",
       "      <th></th>\n",
       "      <th>A</th>\n",
       "      <th>B</th>\n",
       "      <th>C</th>\n",
       "    </tr>\n",
       "  </thead>\n",
       "  <tbody>\n",
       "    <tr>\n",
       "      <th>0</th>\n",
       "      <td>23213</td>\n",
       "      <td>23423</td>\n",
       "      <td>567567.0</td>\n",
       "    </tr>\n",
       "    <tr>\n",
       "      <th>1</th>\n",
       "      <td>4564</td>\n",
       "      <td>6467</td>\n",
       "      <td>45656.0</td>\n",
       "    </tr>\n",
       "    <tr>\n",
       "      <th>2</th>\n",
       "      <td>75557</td>\n",
       "      <td>5755</td>\n",
       "      <td>NaN</td>\n",
       "    </tr>\n",
       "  </tbody>\n",
       "</table>\n",
       "</div>"
      ],
      "text/plain": [
       "       A      B         C\n",
       "0  23213  23423  567567.0\n",
       "1   4564   6467   45656.0\n",
       "2  75557   5755       NaN"
      ]
     },
     "execution_count": 89,
     "metadata": {},
     "output_type": "execute_result"
    }
   ],
   "source": [
    "df16"
   ]
  },
  {
   "cell_type": "code",
   "execution_count": null,
   "id": "be341a4b-d4cb-4505-8f76-9d371c1c1a0b",
   "metadata": {},
   "outputs": [],
   "source": []
  },
  {
   "cell_type": "code",
   "execution_count": null,
   "id": "38f5c7a7-de49-4237-b496-d54370966b6d",
   "metadata": {},
   "outputs": [],
   "source": []
  },
  {
   "cell_type": "markdown",
   "id": "74da0cc2-4e96-4e58-aef0-8988001d4b47",
   "metadata": {},
   "source": [
    "### Dealing with rows and columns"
   ]
  },
  {
   "cell_type": "code",
   "execution_count": 93,
   "id": "81d56121-c21e-4323-b18a-a38a8fa2841f",
   "metadata": {},
   "outputs": [
    {
     "data": {
      "application/javascript": [
       "\n",
       "        if (window._pyforest_update_imports_cell) { window._pyforest_update_imports_cell('import pandas as pd'); }\n",
       "    "
      ],
      "text/plain": [
       "<IPython.core.display.Javascript object>"
      ]
     },
     "metadata": {},
     "output_type": "display_data"
    },
    {
     "data": {
      "text/html": [
       "<div>\n",
       "<style scoped>\n",
       "    .dataframe tbody tr th:only-of-type {\n",
       "        vertical-align: middle;\n",
       "    }\n",
       "\n",
       "    .dataframe tbody tr th {\n",
       "        vertical-align: top;\n",
       "    }\n",
       "\n",
       "    .dataframe thead th {\n",
       "        text-align: right;\n",
       "    }\n",
       "</style>\n",
       "<table border=\"1\" class=\"dataframe\">\n",
       "  <thead>\n",
       "    <tr style=\"text-align: right;\">\n",
       "      <th></th>\n",
       "      <th>Vol</th>\n",
       "      <th>Rev</th>\n",
       "      <th>Exp</th>\n",
       "      <th>Sector</th>\n",
       "      <th>EmpCnt</th>\n",
       "      <th>HQ</th>\n",
       "      <th>MNC</th>\n",
       "      <th>StockID</th>\n",
       "      <th>GST</th>\n",
       "      <th>Started</th>\n",
       "      <th>Listed Date</th>\n",
       "    </tr>\n",
       "  </thead>\n",
       "  <tbody>\n",
       "    <tr>\n",
       "      <th>0</th>\n",
       "      <td>Deccan_Sporting</td>\n",
       "      <td>931</td>\n",
       "      <td>839.None</td>\n",
       "      <td>615</td>\n",
       "      <td>Pvt</td>\n",
       "      <td>NaN</td>\n",
       "      <td>Hyd</td>\n",
       "      <td>1</td>\n",
       "      <td>SPRT</td>\n",
       "      <td>Services</td>\n",
       "      <td>Mar-43</td>\n",
       "    </tr>\n",
       "    <tr>\n",
       "      <th>1</th>\n",
       "      <td>Kolkata_FMCG</td>\n",
       "      <td>925</td>\n",
       "      <td>NaN</td>\n",
       "      <td>676</td>\n",
       "      <td>NaN</td>\n",
       "      <td>1379.0</td>\n",
       "      <td>Kol</td>\n",
       "      <td>0</td>\n",
       "      <td>KFMC</td>\n",
       "      <td>Goods</td>\n",
       "      <td>Jan-20</td>\n",
       "    </tr>\n",
       "    <tr>\n",
       "      <th>2</th>\n",
       "      <td>NCR_Leagles</td>\n",
       "      <td>931</td>\n",
       "      <td>NaN</td>\n",
       "      <td>605</td>\n",
       "      <td>NaN</td>\n",
       "      <td>1935.0</td>\n",
       "      <td>NCR</td>\n",
       "      <td>0</td>\n",
       "      <td>NCRL</td>\n",
       "      <td>Services</td>\n",
       "      <td>Feb-60</td>\n",
       "    </tr>\n",
       "    <tr>\n",
       "      <th>3</th>\n",
       "      <td>Bangalore_Systems</td>\n",
       "      <td>900</td>\n",
       "      <td>NaN</td>\n",
       "      <td>650</td>\n",
       "      <td>Gov</td>\n",
       "      <td>1361.0</td>\n",
       "      <td>Blr</td>\n",
       "      <td>0</td>\n",
       "      <td>BSYS</td>\n",
       "      <td>Services</td>\n",
       "      <td>Apr-50</td>\n",
       "    </tr>\n",
       "    <tr>\n",
       "      <th>4</th>\n",
       "      <td>Chennai_Chemicals</td>\n",
       "      <td>966</td>\n",
       "      <td>863.2</td>\n",
       "      <td>608</td>\n",
       "      <td>Pub</td>\n",
       "      <td>1656.0</td>\n",
       "      <td>Che</td>\n",
       "      <td>1</td>\n",
       "      <td>CHEM</td>\n",
       "      <td>Goods</td>\n",
       "      <td>Aug-28</td>\n",
       "    </tr>\n",
       "    <tr>\n",
       "      <th>5</th>\n",
       "      <td>Indi_Services</td>\n",
       "      <td>954</td>\n",
       "      <td>733</td>\n",
       "      <td>609</td>\n",
       "      <td>Gov</td>\n",
       "      <td>NaN</td>\n",
       "      <td>NCR</td>\n",
       "      <td>0</td>\n",
       "      <td>INDI</td>\n",
       "      <td>Services</td>\n",
       "      <td>Mar-20</td>\n",
       "    </tr>\n",
       "    <tr>\n",
       "      <th>6</th>\n",
       "      <td>Bangalore_Breweries</td>\n",
       "      <td>966</td>\n",
       "      <td>NaN</td>\n",
       "      <td>895</td>\n",
       "      <td>NaN</td>\n",
       "      <td>119.0</td>\n",
       "      <td>Blr</td>\n",
       "      <td>1</td>\n",
       "      <td>BREW</td>\n",
       "      <td>Goods</td>\n",
       "      <td>Oct-71</td>\n",
       "    </tr>\n",
       "    <tr>\n",
       "      <th>7</th>\n",
       "      <td>NaN</td>\n",
       "      <td>899</td>\n",
       "      <td>NaN</td>\n",
       "      <td>674</td>\n",
       "      <td>Pub</td>\n",
       "      <td>NaN</td>\n",
       "      <td>Mum</td>\n",
       "      <td>0</td>\n",
       "      <td>BFIN</td>\n",
       "      <td>Services</td>\n",
       "      <td>Apr-25</td>\n",
       "    </tr>\n",
       "    <tr>\n",
       "      <th>8</th>\n",
       "      <td>Chennai_Shipping</td>\n",
       "      <td>992</td>\n",
       "      <td>821</td>\n",
       "      <td>665</td>\n",
       "      <td>NaN</td>\n",
       "      <td>NaN</td>\n",
       "      <td>Che</td>\n",
       "      <td>1</td>\n",
       "      <td>SHIP</td>\n",
       "      <td>Goods</td>\n",
       "      <td>Nov-30</td>\n",
       "    </tr>\n",
       "    <tr>\n",
       "      <th>9</th>\n",
       "      <td>Eastern_Estates</td>\n",
       "      <td>945</td>\n",
       "      <td>834.23</td>\n",
       "      <td>789</td>\n",
       "      <td>Pvt</td>\n",
       "      <td>1873.0</td>\n",
       "      <td>NaN</td>\n",
       "      <td>1</td>\n",
       "      <td>EEST</td>\n",
       "      <td>Goods</td>\n",
       "      <td>Jan-94</td>\n",
       "    </tr>\n",
       "    <tr>\n",
       "      <th>10</th>\n",
       "      <td>Indi_Services</td>\n",
       "      <td>954</td>\n",
       "      <td>733</td>\n",
       "      <td>609</td>\n",
       "      <td>Gov</td>\n",
       "      <td>NaN</td>\n",
       "      <td>NCR</td>\n",
       "      <td>0</td>\n",
       "      <td>INDI</td>\n",
       "      <td>Services</td>\n",
       "      <td>Mar-20</td>\n",
       "    </tr>\n",
       "  </tbody>\n",
       "</table>\n",
       "</div>"
      ],
      "text/plain": [
       "                    Vol  Rev       Exp  Sector EmpCnt      HQ  MNC  StockID  \\\n",
       "0       Deccan_Sporting  931  839.None     615    Pvt     NaN  Hyd        1   \n",
       "1          Kolkata_FMCG  925       NaN     676    NaN  1379.0  Kol        0   \n",
       "2           NCR_Leagles  931       NaN     605    NaN  1935.0  NCR        0   \n",
       "3     Bangalore_Systems  900       NaN     650    Gov  1361.0  Blr        0   \n",
       "4     Chennai_Chemicals  966     863.2     608    Pub  1656.0  Che        1   \n",
       "5         Indi_Services  954       733     609    Gov     NaN  NCR        0   \n",
       "6   Bangalore_Breweries  966       NaN     895    NaN   119.0  Blr        1   \n",
       "7                   NaN  899       NaN     674    Pub     NaN  Mum        0   \n",
       "8      Chennai_Shipping  992       821     665    NaN     NaN  Che        1   \n",
       "9       Eastern_Estates  945    834.23     789    Pvt  1873.0  NaN        1   \n",
       "10        Indi_Services  954       733     609    Gov     NaN  NCR        0   \n",
       "\n",
       "     GST   Started Listed Date  \n",
       "0   SPRT  Services      Mar-43  \n",
       "1   KFMC     Goods      Jan-20  \n",
       "2   NCRL  Services      Feb-60  \n",
       "3   BSYS  Services      Apr-50  \n",
       "4   CHEM     Goods      Aug-28  \n",
       "5   INDI  Services      Mar-20  \n",
       "6   BREW     Goods      Oct-71  \n",
       "7   BFIN  Services      Apr-25  \n",
       "8   SHIP     Goods      Nov-30  \n",
       "9   EEST     Goods      Jan-94  \n",
       "10  INDI  Services      Mar-20  "
      ]
     },
     "execution_count": 93,
     "metadata": {},
     "output_type": "execute_result"
    }
   ],
   "source": [
    "df1 = pd.read_csv(\"lds0.csv\")\n",
    "df1"
   ]
  },
  {
   "cell_type": "code",
   "execution_count": 98,
   "id": "8bc51334-3c68-4aa2-8de1-46c13ece8ee4",
   "metadata": {},
   "outputs": [
    {
     "data": {
      "text/plain": [
       "'Blr'"
      ]
     },
     "execution_count": 98,
     "metadata": {},
     "output_type": "execute_result"
    }
   ],
   "source": [
    "df1.iloc[3]['MNC']"
   ]
  },
  {
   "cell_type": "code",
   "execution_count": 108,
   "id": "3a5d00e2-69cc-42d0-b94d-ca33ad4ad74f",
   "metadata": {},
   "outputs": [
    {
     "data": {
      "text/html": [
       "<div>\n",
       "<style scoped>\n",
       "    .dataframe tbody tr th:only-of-type {\n",
       "        vertical-align: middle;\n",
       "    }\n",
       "\n",
       "    .dataframe tbody tr th {\n",
       "        vertical-align: top;\n",
       "    }\n",
       "\n",
       "    .dataframe thead th {\n",
       "        text-align: right;\n",
       "    }\n",
       "</style>\n",
       "<table border=\"1\" class=\"dataframe\">\n",
       "  <thead>\n",
       "    <tr style=\"text-align: right;\">\n",
       "      <th></th>\n",
       "      <th>Vol</th>\n",
       "      <th>Rev</th>\n",
       "      <th>Exp</th>\n",
       "      <th>Sector</th>\n",
       "      <th>EmpCnt</th>\n",
       "      <th>HQ</th>\n",
       "      <th>MNC</th>\n",
       "      <th>StockID</th>\n",
       "      <th>GST</th>\n",
       "      <th>Started</th>\n",
       "      <th>Listed Date</th>\n",
       "    </tr>\n",
       "  </thead>\n",
       "  <tbody>\n",
       "    <tr>\n",
       "      <th>3</th>\n",
       "      <td>Bangalore_Systems</td>\n",
       "      <td>900</td>\n",
       "      <td>NaN</td>\n",
       "      <td>650</td>\n",
       "      <td>Gov</td>\n",
       "      <td>1361.0</td>\n",
       "      <td>Blr</td>\n",
       "      <td>0</td>\n",
       "      <td>BSYS</td>\n",
       "      <td>Services</td>\n",
       "      <td>Apr-50</td>\n",
       "    </tr>\n",
       "    <tr>\n",
       "      <th>5</th>\n",
       "      <td>Indi_Services</td>\n",
       "      <td>954</td>\n",
       "      <td>733</td>\n",
       "      <td>609</td>\n",
       "      <td>Gov</td>\n",
       "      <td>NaN</td>\n",
       "      <td>NCR</td>\n",
       "      <td>0</td>\n",
       "      <td>INDI</td>\n",
       "      <td>Services</td>\n",
       "      <td>Mar-20</td>\n",
       "    </tr>\n",
       "  </tbody>\n",
       "</table>\n",
       "</div>"
      ],
      "text/plain": [
       "                 Vol  Rev  Exp  Sector EmpCnt      HQ  MNC  StockID   GST  \\\n",
       "3  Bangalore_Systems  900  NaN     650    Gov  1361.0  Blr        0  BSYS   \n",
       "5      Indi_Services  954  733     609    Gov     NaN  NCR        0  INDI   \n",
       "\n",
       "    Started Listed Date  \n",
       "3  Services      Apr-50  \n",
       "5  Services      Mar-20  "
      ]
     },
     "execution_count": 108,
     "metadata": {},
     "output_type": "execute_result"
    }
   ],
   "source": [
    "df1.iloc[3:7:2]"
   ]
  },
  {
   "cell_type": "code",
   "execution_count": 114,
   "id": "b9f5d31e-6898-44e2-a6de-12153756f86b",
   "metadata": {},
   "outputs": [
    {
     "data": {
      "text/html": [
       "<div>\n",
       "<style scoped>\n",
       "    .dataframe tbody tr th:only-of-type {\n",
       "        vertical-align: middle;\n",
       "    }\n",
       "\n",
       "    .dataframe tbody tr th {\n",
       "        vertical-align: top;\n",
       "    }\n",
       "\n",
       "    .dataframe thead th {\n",
       "        text-align: right;\n",
       "    }\n",
       "</style>\n",
       "<table border=\"1\" class=\"dataframe\">\n",
       "  <thead>\n",
       "    <tr style=\"text-align: right;\">\n",
       "      <th></th>\n",
       "      <th>Vol</th>\n",
       "      <th>Rev</th>\n",
       "      <th>Exp</th>\n",
       "      <th>Sector</th>\n",
       "      <th>EmpCnt</th>\n",
       "      <th>HQ</th>\n",
       "      <th>MNC</th>\n",
       "      <th>StockID</th>\n",
       "      <th>GST</th>\n",
       "      <th>Started</th>\n",
       "      <th>Listed Date</th>\n",
       "    </tr>\n",
       "  </thead>\n",
       "  <tbody>\n",
       "    <tr>\n",
       "      <th>3</th>\n",
       "      <td>Bangalore_Systems</td>\n",
       "      <td>900</td>\n",
       "      <td>NaN</td>\n",
       "      <td>650</td>\n",
       "      <td>Gov</td>\n",
       "      <td>1361.0</td>\n",
       "      <td>Blr</td>\n",
       "      <td>0</td>\n",
       "      <td>BSYS</td>\n",
       "      <td>Services</td>\n",
       "      <td>Apr-50</td>\n",
       "    </tr>\n",
       "    <tr>\n",
       "      <th>7</th>\n",
       "      <td>NaN</td>\n",
       "      <td>899</td>\n",
       "      <td>NaN</td>\n",
       "      <td>674</td>\n",
       "      <td>Pub</td>\n",
       "      <td>NaN</td>\n",
       "      <td>Mum</td>\n",
       "      <td>0</td>\n",
       "      <td>BFIN</td>\n",
       "      <td>Services</td>\n",
       "      <td>Apr-25</td>\n",
       "    </tr>\n",
       "  </tbody>\n",
       "</table>\n",
       "</div>"
      ],
      "text/plain": [
       "                 Vol  Rev  Exp  Sector EmpCnt      HQ  MNC  StockID   GST  \\\n",
       "3  Bangalore_Systems  900  NaN     650    Gov  1361.0  Blr        0  BSYS   \n",
       "7                NaN  899  NaN     674    Pub     NaN  Mum        0  BFIN   \n",
       "\n",
       "    Started Listed Date  \n",
       "3  Services      Apr-50  \n",
       "7  Services      Apr-25  "
      ]
     },
     "execution_count": 114,
     "metadata": {},
     "output_type": "execute_result"
    }
   ],
   "source": [
    "df1.iloc[[3,7]]"
   ]
  },
  {
   "cell_type": "code",
   "execution_count": 116,
   "id": "b87b6763-1040-4925-8fbf-c9f56d6522d2",
   "metadata": {},
   "outputs": [
    {
     "data": {
      "text/html": [
       "<div>\n",
       "<style scoped>\n",
       "    .dataframe tbody tr th:only-of-type {\n",
       "        vertical-align: middle;\n",
       "    }\n",
       "\n",
       "    .dataframe tbody tr th {\n",
       "        vertical-align: top;\n",
       "    }\n",
       "\n",
       "    .dataframe thead th {\n",
       "        text-align: right;\n",
       "    }\n",
       "</style>\n",
       "<table border=\"1\" class=\"dataframe\">\n",
       "  <thead>\n",
       "    <tr style=\"text-align: right;\">\n",
       "      <th></th>\n",
       "      <th>Vol</th>\n",
       "      <th>Rev</th>\n",
       "      <th>Exp</th>\n",
       "      <th>Sector</th>\n",
       "      <th>EmpCnt</th>\n",
       "      <th>HQ</th>\n",
       "      <th>MNC</th>\n",
       "      <th>StockID</th>\n",
       "      <th>GST</th>\n",
       "      <th>Started</th>\n",
       "      <th>Listed Date</th>\n",
       "    </tr>\n",
       "  </thead>\n",
       "  <tbody>\n",
       "    <tr>\n",
       "      <th>3</th>\n",
       "      <td>Bangalore_Systems</td>\n",
       "      <td>900</td>\n",
       "      <td>NaN</td>\n",
       "      <td>650</td>\n",
       "      <td>Gov</td>\n",
       "      <td>1361.0</td>\n",
       "      <td>Blr</td>\n",
       "      <td>0</td>\n",
       "      <td>BSYS</td>\n",
       "      <td>Services</td>\n",
       "      <td>Apr-50</td>\n",
       "    </tr>\n",
       "    <tr>\n",
       "      <th>7</th>\n",
       "      <td>NaN</td>\n",
       "      <td>899</td>\n",
       "      <td>NaN</td>\n",
       "      <td>674</td>\n",
       "      <td>Pub</td>\n",
       "      <td>NaN</td>\n",
       "      <td>Mum</td>\n",
       "      <td>0</td>\n",
       "      <td>BFIN</td>\n",
       "      <td>Services</td>\n",
       "      <td>Apr-25</td>\n",
       "    </tr>\n",
       "  </tbody>\n",
       "</table>\n",
       "</div>"
      ],
      "text/plain": [
       "                 Vol  Rev  Exp  Sector EmpCnt      HQ  MNC  StockID   GST  \\\n",
       "3  Bangalore_Systems  900  NaN     650    Gov  1361.0  Blr        0  BSYS   \n",
       "7                NaN  899  NaN     674    Pub     NaN  Mum        0  BFIN   \n",
       "\n",
       "    Started Listed Date  \n",
       "3  Services      Apr-50  \n",
       "7  Services      Apr-25  "
      ]
     },
     "execution_count": 116,
     "metadata": {},
     "output_type": "execute_result"
    }
   ],
   "source": [
    "df1.loc[[3,7]]"
   ]
  },
  {
   "cell_type": "code",
   "execution_count": 118,
   "id": "4d38d742-66b0-4d46-a0bd-a44e103a0546",
   "metadata": {},
   "outputs": [
    {
     "data": {
      "text/html": [
       "<div>\n",
       "<style scoped>\n",
       "    .dataframe tbody tr th:only-of-type {\n",
       "        vertical-align: middle;\n",
       "    }\n",
       "\n",
       "    .dataframe tbody tr th {\n",
       "        vertical-align: top;\n",
       "    }\n",
       "\n",
       "    .dataframe thead th {\n",
       "        text-align: right;\n",
       "    }\n",
       "</style>\n",
       "<table border=\"1\" class=\"dataframe\">\n",
       "  <thead>\n",
       "    <tr style=\"text-align: right;\">\n",
       "      <th></th>\n",
       "      <th>A</th>\n",
       "      <th>B</th>\n",
       "      <th>C</th>\n",
       "    </tr>\n",
       "  </thead>\n",
       "  <tbody>\n",
       "    <tr>\n",
       "      <th>0</th>\n",
       "      <td>23213</td>\n",
       "      <td>23423</td>\n",
       "      <td>567567.0</td>\n",
       "    </tr>\n",
       "    <tr>\n",
       "      <th>1</th>\n",
       "      <td>4564</td>\n",
       "      <td>6467</td>\n",
       "      <td>45656.0</td>\n",
       "    </tr>\n",
       "    <tr>\n",
       "      <th>2</th>\n",
       "      <td>75557</td>\n",
       "      <td>5755</td>\n",
       "      <td>NaN</td>\n",
       "    </tr>\n",
       "  </tbody>\n",
       "</table>\n",
       "</div>"
      ],
      "text/plain": [
       "       A      B         C\n",
       "0  23213  23423  567567.0\n",
       "1   4564   6467   45656.0\n",
       "2  75557   5755       NaN"
      ]
     },
     "execution_count": 118,
     "metadata": {},
     "output_type": "execute_result"
    }
   ],
   "source": [
    "df16"
   ]
  },
  {
   "cell_type": "code",
   "execution_count": 120,
   "id": "e0d89965-80a0-48d4-a8e7-035a796a4512",
   "metadata": {},
   "outputs": [
    {
     "data": {
      "text/html": [
       "<div>\n",
       "<style scoped>\n",
       "    .dataframe tbody tr th:only-of-type {\n",
       "        vertical-align: middle;\n",
       "    }\n",
       "\n",
       "    .dataframe tbody tr th {\n",
       "        vertical-align: top;\n",
       "    }\n",
       "\n",
       "    .dataframe thead th {\n",
       "        text-align: right;\n",
       "    }\n",
       "</style>\n",
       "<table border=\"1\" class=\"dataframe\">\n",
       "  <thead>\n",
       "    <tr style=\"text-align: right;\">\n",
       "      <th></th>\n",
       "      <th>Vol</th>\n",
       "      <th>Rev</th>\n",
       "      <th>Exp</th>\n",
       "      <th>Sector</th>\n",
       "      <th>EmpCnt</th>\n",
       "      <th>HQ</th>\n",
       "      <th>MNC</th>\n",
       "      <th>StockID</th>\n",
       "      <th>GST</th>\n",
       "      <th>Started</th>\n",
       "      <th>Listed Date</th>\n",
       "    </tr>\n",
       "  </thead>\n",
       "  <tbody>\n",
       "    <tr>\n",
       "      <th>0</th>\n",
       "      <td>Deccan_Sporting</td>\n",
       "      <td>931</td>\n",
       "      <td>839.None</td>\n",
       "      <td>615</td>\n",
       "      <td>Pvt</td>\n",
       "      <td>NaN</td>\n",
       "      <td>Hyd</td>\n",
       "      <td>1</td>\n",
       "      <td>SPRT</td>\n",
       "      <td>Services</td>\n",
       "      <td>Mar-43</td>\n",
       "    </tr>\n",
       "    <tr>\n",
       "      <th>1</th>\n",
       "      <td>Kolkata_FMCG</td>\n",
       "      <td>925</td>\n",
       "      <td>NaN</td>\n",
       "      <td>676</td>\n",
       "      <td>NaN</td>\n",
       "      <td>1379.0</td>\n",
       "      <td>Kol</td>\n",
       "      <td>0</td>\n",
       "      <td>KFMC</td>\n",
       "      <td>Goods</td>\n",
       "      <td>Jan-20</td>\n",
       "    </tr>\n",
       "    <tr>\n",
       "      <th>2</th>\n",
       "      <td>NCR_Leagles</td>\n",
       "      <td>931</td>\n",
       "      <td>NaN</td>\n",
       "      <td>605</td>\n",
       "      <td>NaN</td>\n",
       "      <td>1935.0</td>\n",
       "      <td>NCR</td>\n",
       "      <td>0</td>\n",
       "      <td>NCRL</td>\n",
       "      <td>Services</td>\n",
       "      <td>Feb-60</td>\n",
       "    </tr>\n",
       "    <tr>\n",
       "      <th>3</th>\n",
       "      <td>Bangalore_Systems</td>\n",
       "      <td>900</td>\n",
       "      <td>NaN</td>\n",
       "      <td>650</td>\n",
       "      <td>Gov</td>\n",
       "      <td>1361.0</td>\n",
       "      <td>Blr</td>\n",
       "      <td>0</td>\n",
       "      <td>BSYS</td>\n",
       "      <td>Services</td>\n",
       "      <td>Apr-50</td>\n",
       "    </tr>\n",
       "    <tr>\n",
       "      <th>4</th>\n",
       "      <td>Chennai_Chemicals</td>\n",
       "      <td>966</td>\n",
       "      <td>863.2</td>\n",
       "      <td>608</td>\n",
       "      <td>Pub</td>\n",
       "      <td>1656.0</td>\n",
       "      <td>Che</td>\n",
       "      <td>1</td>\n",
       "      <td>CHEM</td>\n",
       "      <td>Goods</td>\n",
       "      <td>Aug-28</td>\n",
       "    </tr>\n",
       "    <tr>\n",
       "      <th>5</th>\n",
       "      <td>Indi_Services</td>\n",
       "      <td>954</td>\n",
       "      <td>733</td>\n",
       "      <td>609</td>\n",
       "      <td>Gov</td>\n",
       "      <td>NaN</td>\n",
       "      <td>NCR</td>\n",
       "      <td>0</td>\n",
       "      <td>INDI</td>\n",
       "      <td>Services</td>\n",
       "      <td>Mar-20</td>\n",
       "    </tr>\n",
       "    <tr>\n",
       "      <th>6</th>\n",
       "      <td>Bangalore_Breweries</td>\n",
       "      <td>966</td>\n",
       "      <td>NaN</td>\n",
       "      <td>895</td>\n",
       "      <td>NaN</td>\n",
       "      <td>119.0</td>\n",
       "      <td>Blr</td>\n",
       "      <td>1</td>\n",
       "      <td>BREW</td>\n",
       "      <td>Goods</td>\n",
       "      <td>Oct-71</td>\n",
       "    </tr>\n",
       "    <tr>\n",
       "      <th>7</th>\n",
       "      <td>NaN</td>\n",
       "      <td>899</td>\n",
       "      <td>NaN</td>\n",
       "      <td>674</td>\n",
       "      <td>Pub</td>\n",
       "      <td>NaN</td>\n",
       "      <td>Mum</td>\n",
       "      <td>0</td>\n",
       "      <td>BFIN</td>\n",
       "      <td>Services</td>\n",
       "      <td>Apr-25</td>\n",
       "    </tr>\n",
       "    <tr>\n",
       "      <th>8</th>\n",
       "      <td>Chennai_Shipping</td>\n",
       "      <td>992</td>\n",
       "      <td>821</td>\n",
       "      <td>665</td>\n",
       "      <td>NaN</td>\n",
       "      <td>NaN</td>\n",
       "      <td>Che</td>\n",
       "      <td>1</td>\n",
       "      <td>SHIP</td>\n",
       "      <td>Goods</td>\n",
       "      <td>Nov-30</td>\n",
       "    </tr>\n",
       "    <tr>\n",
       "      <th>9</th>\n",
       "      <td>Eastern_Estates</td>\n",
       "      <td>945</td>\n",
       "      <td>834.23</td>\n",
       "      <td>789</td>\n",
       "      <td>Pvt</td>\n",
       "      <td>1873.0</td>\n",
       "      <td>NaN</td>\n",
       "      <td>1</td>\n",
       "      <td>EEST</td>\n",
       "      <td>Goods</td>\n",
       "      <td>Jan-94</td>\n",
       "    </tr>\n",
       "    <tr>\n",
       "      <th>10</th>\n",
       "      <td>Indi_Services</td>\n",
       "      <td>954</td>\n",
       "      <td>733</td>\n",
       "      <td>609</td>\n",
       "      <td>Gov</td>\n",
       "      <td>NaN</td>\n",
       "      <td>NCR</td>\n",
       "      <td>0</td>\n",
       "      <td>INDI</td>\n",
       "      <td>Services</td>\n",
       "      <td>Mar-20</td>\n",
       "    </tr>\n",
       "  </tbody>\n",
       "</table>\n",
       "</div>"
      ],
      "text/plain": [
       "                    Vol  Rev       Exp  Sector EmpCnt      HQ  MNC  StockID  \\\n",
       "0       Deccan_Sporting  931  839.None     615    Pvt     NaN  Hyd        1   \n",
       "1          Kolkata_FMCG  925       NaN     676    NaN  1379.0  Kol        0   \n",
       "2           NCR_Leagles  931       NaN     605    NaN  1935.0  NCR        0   \n",
       "3     Bangalore_Systems  900       NaN     650    Gov  1361.0  Blr        0   \n",
       "4     Chennai_Chemicals  966     863.2     608    Pub  1656.0  Che        1   \n",
       "5         Indi_Services  954       733     609    Gov     NaN  NCR        0   \n",
       "6   Bangalore_Breweries  966       NaN     895    NaN   119.0  Blr        1   \n",
       "7                   NaN  899       NaN     674    Pub     NaN  Mum        0   \n",
       "8      Chennai_Shipping  992       821     665    NaN     NaN  Che        1   \n",
       "9       Eastern_Estates  945    834.23     789    Pvt  1873.0  NaN        1   \n",
       "10        Indi_Services  954       733     609    Gov     NaN  NCR        0   \n",
       "\n",
       "     GST   Started Listed Date  \n",
       "0   SPRT  Services      Mar-43  \n",
       "1   KFMC     Goods      Jan-20  \n",
       "2   NCRL  Services      Feb-60  \n",
       "3   BSYS  Services      Apr-50  \n",
       "4   CHEM     Goods      Aug-28  \n",
       "5   INDI  Services      Mar-20  \n",
       "6   BREW     Goods      Oct-71  \n",
       "7   BFIN  Services      Apr-25  \n",
       "8   SHIP     Goods      Nov-30  \n",
       "9   EEST     Goods      Jan-94  \n",
       "10  INDI  Services      Mar-20  "
      ]
     },
     "execution_count": 120,
     "metadata": {},
     "output_type": "execute_result"
    }
   ],
   "source": [
    "df1"
   ]
  },
  {
   "cell_type": "code",
   "execution_count": 126,
   "id": "1bdb1613-7955-469b-8567-8ca0595c0414",
   "metadata": {},
   "outputs": [
    {
     "data": {
      "text/html": [
       "<div>\n",
       "<style scoped>\n",
       "    .dataframe tbody tr th:only-of-type {\n",
       "        vertical-align: middle;\n",
       "    }\n",
       "\n",
       "    .dataframe tbody tr th {\n",
       "        vertical-align: top;\n",
       "    }\n",
       "\n",
       "    .dataframe thead th {\n",
       "        text-align: right;\n",
       "    }\n",
       "</style>\n",
       "<table border=\"1\" class=\"dataframe\">\n",
       "  <thead>\n",
       "    <tr style=\"text-align: right;\">\n",
       "      <th></th>\n",
       "      <th>Rev</th>\n",
       "      <th>Sector</th>\n",
       "    </tr>\n",
       "  </thead>\n",
       "  <tbody>\n",
       "    <tr>\n",
       "      <th>3</th>\n",
       "      <td>900</td>\n",
       "      <td>650</td>\n",
       "    </tr>\n",
       "    <tr>\n",
       "      <th>6</th>\n",
       "      <td>966</td>\n",
       "      <td>895</td>\n",
       "    </tr>\n",
       "  </tbody>\n",
       "</table>\n",
       "</div>"
      ],
      "text/plain": [
       "   Rev  Sector\n",
       "3  900     650\n",
       "6  966     895"
      ]
     },
     "execution_count": 126,
     "metadata": {},
     "output_type": "execute_result"
    }
   ],
   "source": [
    "df1.loc[[3,6],['Rev','Sector']]"
   ]
  },
  {
   "cell_type": "code",
   "execution_count": 136,
   "id": "bb7fc214-30e7-4f9c-a603-c95affa4b155",
   "metadata": {},
   "outputs": [
    {
     "data": {
      "text/html": [
       "<div>\n",
       "<style scoped>\n",
       "    .dataframe tbody tr th:only-of-type {\n",
       "        vertical-align: middle;\n",
       "    }\n",
       "\n",
       "    .dataframe tbody tr th {\n",
       "        vertical-align: top;\n",
       "    }\n",
       "\n",
       "    .dataframe thead th {\n",
       "        text-align: right;\n",
       "    }\n",
       "</style>\n",
       "<table border=\"1\" class=\"dataframe\">\n",
       "  <thead>\n",
       "    <tr style=\"text-align: right;\">\n",
       "      <th></th>\n",
       "      <th>Rev</th>\n",
       "      <th>HQ</th>\n",
       "    </tr>\n",
       "  </thead>\n",
       "  <tbody>\n",
       "    <tr>\n",
       "      <th>0</th>\n",
       "      <td>931</td>\n",
       "      <td>NaN</td>\n",
       "    </tr>\n",
       "    <tr>\n",
       "      <th>1</th>\n",
       "      <td>925</td>\n",
       "      <td>1379.0</td>\n",
       "    </tr>\n",
       "    <tr>\n",
       "      <th>2</th>\n",
       "      <td>931</td>\n",
       "      <td>1935.0</td>\n",
       "    </tr>\n",
       "    <tr>\n",
       "      <th>3</th>\n",
       "      <td>900</td>\n",
       "      <td>1361.0</td>\n",
       "    </tr>\n",
       "    <tr>\n",
       "      <th>4</th>\n",
       "      <td>966</td>\n",
       "      <td>1656.0</td>\n",
       "    </tr>\n",
       "    <tr>\n",
       "      <th>5</th>\n",
       "      <td>954</td>\n",
       "      <td>NaN</td>\n",
       "    </tr>\n",
       "    <tr>\n",
       "      <th>6</th>\n",
       "      <td>966</td>\n",
       "      <td>119.0</td>\n",
       "    </tr>\n",
       "    <tr>\n",
       "      <th>7</th>\n",
       "      <td>899</td>\n",
       "      <td>NaN</td>\n",
       "    </tr>\n",
       "    <tr>\n",
       "      <th>8</th>\n",
       "      <td>992</td>\n",
       "      <td>NaN</td>\n",
       "    </tr>\n",
       "    <tr>\n",
       "      <th>9</th>\n",
       "      <td>945</td>\n",
       "      <td>1873.0</td>\n",
       "    </tr>\n",
       "    <tr>\n",
       "      <th>10</th>\n",
       "      <td>954</td>\n",
       "      <td>NaN</td>\n",
       "    </tr>\n",
       "  </tbody>\n",
       "</table>\n",
       "</div>"
      ],
      "text/plain": [
       "    Rev      HQ\n",
       "0   931     NaN\n",
       "1   925  1379.0\n",
       "2   931  1935.0\n",
       "3   900  1361.0\n",
       "4   966  1656.0\n",
       "5   954     NaN\n",
       "6   966   119.0\n",
       "7   899     NaN\n",
       "8   992     NaN\n",
       "9   945  1873.0\n",
       "10  954     NaN"
      ]
     },
     "execution_count": 136,
     "metadata": {},
     "output_type": "execute_result"
    }
   ],
   "source": [
    "df1[['Rev','HQ']]"
   ]
  },
  {
   "cell_type": "code",
   "execution_count": null,
   "id": "12998a72-878c-40f0-a34d-b26ae86ef553",
   "metadata": {},
   "outputs": [],
   "source": []
  },
  {
   "cell_type": "markdown",
   "id": "3cb73518-49af-4e90-b1f2-c0caa4fc5b69",
   "metadata": {},
   "source": [
    "### Sorting data frame"
   ]
  },
  {
   "cell_type": "code",
   "execution_count": 139,
   "id": "d62a788a-4cdf-4b0e-acb1-7a55fd48b8df",
   "metadata": {},
   "outputs": [
    {
     "data": {
      "text/html": [
       "<div>\n",
       "<style scoped>\n",
       "    .dataframe tbody tr th:only-of-type {\n",
       "        vertical-align: middle;\n",
       "    }\n",
       "\n",
       "    .dataframe tbody tr th {\n",
       "        vertical-align: top;\n",
       "    }\n",
       "\n",
       "    .dataframe thead th {\n",
       "        text-align: right;\n",
       "    }\n",
       "</style>\n",
       "<table border=\"1\" class=\"dataframe\">\n",
       "  <thead>\n",
       "    <tr style=\"text-align: right;\">\n",
       "      <th></th>\n",
       "      <th>Vol</th>\n",
       "      <th>Rev</th>\n",
       "      <th>Exp</th>\n",
       "      <th>Sector</th>\n",
       "      <th>EmpCnt</th>\n",
       "      <th>HQ</th>\n",
       "      <th>MNC</th>\n",
       "      <th>StockID</th>\n",
       "      <th>GST</th>\n",
       "      <th>Started</th>\n",
       "      <th>Listed Date</th>\n",
       "    </tr>\n",
       "  </thead>\n",
       "  <tbody>\n",
       "    <tr>\n",
       "      <th>7</th>\n",
       "      <td>NaN</td>\n",
       "      <td>899</td>\n",
       "      <td>NaN</td>\n",
       "      <td>674</td>\n",
       "      <td>Pub</td>\n",
       "      <td>NaN</td>\n",
       "      <td>Mum</td>\n",
       "      <td>0</td>\n",
       "      <td>BFIN</td>\n",
       "      <td>Services</td>\n",
       "      <td>Apr-25</td>\n",
       "    </tr>\n",
       "    <tr>\n",
       "      <th>3</th>\n",
       "      <td>Bangalore_Systems</td>\n",
       "      <td>900</td>\n",
       "      <td>NaN</td>\n",
       "      <td>650</td>\n",
       "      <td>Gov</td>\n",
       "      <td>1361.0</td>\n",
       "      <td>Blr</td>\n",
       "      <td>0</td>\n",
       "      <td>BSYS</td>\n",
       "      <td>Services</td>\n",
       "      <td>Apr-50</td>\n",
       "    </tr>\n",
       "    <tr>\n",
       "      <th>1</th>\n",
       "      <td>Kolkata_FMCG</td>\n",
       "      <td>925</td>\n",
       "      <td>NaN</td>\n",
       "      <td>676</td>\n",
       "      <td>NaN</td>\n",
       "      <td>1379.0</td>\n",
       "      <td>Kol</td>\n",
       "      <td>0</td>\n",
       "      <td>KFMC</td>\n",
       "      <td>Goods</td>\n",
       "      <td>Jan-20</td>\n",
       "    </tr>\n",
       "    <tr>\n",
       "      <th>0</th>\n",
       "      <td>Deccan_Sporting</td>\n",
       "      <td>931</td>\n",
       "      <td>839.None</td>\n",
       "      <td>615</td>\n",
       "      <td>Pvt</td>\n",
       "      <td>NaN</td>\n",
       "      <td>Hyd</td>\n",
       "      <td>1</td>\n",
       "      <td>SPRT</td>\n",
       "      <td>Services</td>\n",
       "      <td>Mar-43</td>\n",
       "    </tr>\n",
       "    <tr>\n",
       "      <th>2</th>\n",
       "      <td>NCR_Leagles</td>\n",
       "      <td>931</td>\n",
       "      <td>NaN</td>\n",
       "      <td>605</td>\n",
       "      <td>NaN</td>\n",
       "      <td>1935.0</td>\n",
       "      <td>NCR</td>\n",
       "      <td>0</td>\n",
       "      <td>NCRL</td>\n",
       "      <td>Services</td>\n",
       "      <td>Feb-60</td>\n",
       "    </tr>\n",
       "    <tr>\n",
       "      <th>9</th>\n",
       "      <td>Eastern_Estates</td>\n",
       "      <td>945</td>\n",
       "      <td>834.23</td>\n",
       "      <td>789</td>\n",
       "      <td>Pvt</td>\n",
       "      <td>1873.0</td>\n",
       "      <td>NaN</td>\n",
       "      <td>1</td>\n",
       "      <td>EEST</td>\n",
       "      <td>Goods</td>\n",
       "      <td>Jan-94</td>\n",
       "    </tr>\n",
       "    <tr>\n",
       "      <th>5</th>\n",
       "      <td>Indi_Services</td>\n",
       "      <td>954</td>\n",
       "      <td>733</td>\n",
       "      <td>609</td>\n",
       "      <td>Gov</td>\n",
       "      <td>NaN</td>\n",
       "      <td>NCR</td>\n",
       "      <td>0</td>\n",
       "      <td>INDI</td>\n",
       "      <td>Services</td>\n",
       "      <td>Mar-20</td>\n",
       "    </tr>\n",
       "    <tr>\n",
       "      <th>10</th>\n",
       "      <td>Indi_Services</td>\n",
       "      <td>954</td>\n",
       "      <td>733</td>\n",
       "      <td>609</td>\n",
       "      <td>Gov</td>\n",
       "      <td>NaN</td>\n",
       "      <td>NCR</td>\n",
       "      <td>0</td>\n",
       "      <td>INDI</td>\n",
       "      <td>Services</td>\n",
       "      <td>Mar-20</td>\n",
       "    </tr>\n",
       "    <tr>\n",
       "      <th>4</th>\n",
       "      <td>Chennai_Chemicals</td>\n",
       "      <td>966</td>\n",
       "      <td>863.2</td>\n",
       "      <td>608</td>\n",
       "      <td>Pub</td>\n",
       "      <td>1656.0</td>\n",
       "      <td>Che</td>\n",
       "      <td>1</td>\n",
       "      <td>CHEM</td>\n",
       "      <td>Goods</td>\n",
       "      <td>Aug-28</td>\n",
       "    </tr>\n",
       "    <tr>\n",
       "      <th>6</th>\n",
       "      <td>Bangalore_Breweries</td>\n",
       "      <td>966</td>\n",
       "      <td>NaN</td>\n",
       "      <td>895</td>\n",
       "      <td>NaN</td>\n",
       "      <td>119.0</td>\n",
       "      <td>Blr</td>\n",
       "      <td>1</td>\n",
       "      <td>BREW</td>\n",
       "      <td>Goods</td>\n",
       "      <td>Oct-71</td>\n",
       "    </tr>\n",
       "    <tr>\n",
       "      <th>8</th>\n",
       "      <td>Chennai_Shipping</td>\n",
       "      <td>992</td>\n",
       "      <td>821</td>\n",
       "      <td>665</td>\n",
       "      <td>NaN</td>\n",
       "      <td>NaN</td>\n",
       "      <td>Che</td>\n",
       "      <td>1</td>\n",
       "      <td>SHIP</td>\n",
       "      <td>Goods</td>\n",
       "      <td>Nov-30</td>\n",
       "    </tr>\n",
       "  </tbody>\n",
       "</table>\n",
       "</div>"
      ],
      "text/plain": [
       "                    Vol  Rev       Exp  Sector EmpCnt      HQ  MNC  StockID  \\\n",
       "7                   NaN  899       NaN     674    Pub     NaN  Mum        0   \n",
       "3     Bangalore_Systems  900       NaN     650    Gov  1361.0  Blr        0   \n",
       "1          Kolkata_FMCG  925       NaN     676    NaN  1379.0  Kol        0   \n",
       "0       Deccan_Sporting  931  839.None     615    Pvt     NaN  Hyd        1   \n",
       "2           NCR_Leagles  931       NaN     605    NaN  1935.0  NCR        0   \n",
       "9       Eastern_Estates  945    834.23     789    Pvt  1873.0  NaN        1   \n",
       "5         Indi_Services  954       733     609    Gov     NaN  NCR        0   \n",
       "10        Indi_Services  954       733     609    Gov     NaN  NCR        0   \n",
       "4     Chennai_Chemicals  966     863.2     608    Pub  1656.0  Che        1   \n",
       "6   Bangalore_Breweries  966       NaN     895    NaN   119.0  Blr        1   \n",
       "8      Chennai_Shipping  992       821     665    NaN     NaN  Che        1   \n",
       "\n",
       "     GST   Started Listed Date  \n",
       "7   BFIN  Services      Apr-25  \n",
       "3   BSYS  Services      Apr-50  \n",
       "1   KFMC     Goods      Jan-20  \n",
       "0   SPRT  Services      Mar-43  \n",
       "2   NCRL  Services      Feb-60  \n",
       "9   EEST     Goods      Jan-94  \n",
       "5   INDI  Services      Mar-20  \n",
       "10  INDI  Services      Mar-20  \n",
       "4   CHEM     Goods      Aug-28  \n",
       "6   BREW     Goods      Oct-71  \n",
       "8   SHIP     Goods      Nov-30  "
      ]
     },
     "execution_count": 139,
     "metadata": {},
     "output_type": "execute_result"
    }
   ],
   "source": [
    "df1.sort_values('Rev')"
   ]
  },
  {
   "cell_type": "code",
   "execution_count": 141,
   "id": "3cf9a059-6757-43df-b7f5-98557eea68a8",
   "metadata": {},
   "outputs": [
    {
     "data": {
      "text/html": [
       "<div>\n",
       "<style scoped>\n",
       "    .dataframe tbody tr th:only-of-type {\n",
       "        vertical-align: middle;\n",
       "    }\n",
       "\n",
       "    .dataframe tbody tr th {\n",
       "        vertical-align: top;\n",
       "    }\n",
       "\n",
       "    .dataframe thead th {\n",
       "        text-align: right;\n",
       "    }\n",
       "</style>\n",
       "<table border=\"1\" class=\"dataframe\">\n",
       "  <thead>\n",
       "    <tr style=\"text-align: right;\">\n",
       "      <th></th>\n",
       "      <th>Vol</th>\n",
       "      <th>Rev</th>\n",
       "      <th>Exp</th>\n",
       "      <th>Sector</th>\n",
       "      <th>EmpCnt</th>\n",
       "      <th>HQ</th>\n",
       "      <th>MNC</th>\n",
       "      <th>StockID</th>\n",
       "      <th>GST</th>\n",
       "      <th>Started</th>\n",
       "      <th>Listed Date</th>\n",
       "    </tr>\n",
       "  </thead>\n",
       "  <tbody>\n",
       "    <tr>\n",
       "      <th>8</th>\n",
       "      <td>Chennai_Shipping</td>\n",
       "      <td>992</td>\n",
       "      <td>821</td>\n",
       "      <td>665</td>\n",
       "      <td>NaN</td>\n",
       "      <td>NaN</td>\n",
       "      <td>Che</td>\n",
       "      <td>1</td>\n",
       "      <td>SHIP</td>\n",
       "      <td>Goods</td>\n",
       "      <td>Nov-30</td>\n",
       "    </tr>\n",
       "    <tr>\n",
       "      <th>4</th>\n",
       "      <td>Chennai_Chemicals</td>\n",
       "      <td>966</td>\n",
       "      <td>863.2</td>\n",
       "      <td>608</td>\n",
       "      <td>Pub</td>\n",
       "      <td>1656.0</td>\n",
       "      <td>Che</td>\n",
       "      <td>1</td>\n",
       "      <td>CHEM</td>\n",
       "      <td>Goods</td>\n",
       "      <td>Aug-28</td>\n",
       "    </tr>\n",
       "    <tr>\n",
       "      <th>6</th>\n",
       "      <td>Bangalore_Breweries</td>\n",
       "      <td>966</td>\n",
       "      <td>NaN</td>\n",
       "      <td>895</td>\n",
       "      <td>NaN</td>\n",
       "      <td>119.0</td>\n",
       "      <td>Blr</td>\n",
       "      <td>1</td>\n",
       "      <td>BREW</td>\n",
       "      <td>Goods</td>\n",
       "      <td>Oct-71</td>\n",
       "    </tr>\n",
       "    <tr>\n",
       "      <th>5</th>\n",
       "      <td>Indi_Services</td>\n",
       "      <td>954</td>\n",
       "      <td>733</td>\n",
       "      <td>609</td>\n",
       "      <td>Gov</td>\n",
       "      <td>NaN</td>\n",
       "      <td>NCR</td>\n",
       "      <td>0</td>\n",
       "      <td>INDI</td>\n",
       "      <td>Services</td>\n",
       "      <td>Mar-20</td>\n",
       "    </tr>\n",
       "    <tr>\n",
       "      <th>10</th>\n",
       "      <td>Indi_Services</td>\n",
       "      <td>954</td>\n",
       "      <td>733</td>\n",
       "      <td>609</td>\n",
       "      <td>Gov</td>\n",
       "      <td>NaN</td>\n",
       "      <td>NCR</td>\n",
       "      <td>0</td>\n",
       "      <td>INDI</td>\n",
       "      <td>Services</td>\n",
       "      <td>Mar-20</td>\n",
       "    </tr>\n",
       "    <tr>\n",
       "      <th>9</th>\n",
       "      <td>Eastern_Estates</td>\n",
       "      <td>945</td>\n",
       "      <td>834.23</td>\n",
       "      <td>789</td>\n",
       "      <td>Pvt</td>\n",
       "      <td>1873.0</td>\n",
       "      <td>NaN</td>\n",
       "      <td>1</td>\n",
       "      <td>EEST</td>\n",
       "      <td>Goods</td>\n",
       "      <td>Jan-94</td>\n",
       "    </tr>\n",
       "    <tr>\n",
       "      <th>0</th>\n",
       "      <td>Deccan_Sporting</td>\n",
       "      <td>931</td>\n",
       "      <td>839.None</td>\n",
       "      <td>615</td>\n",
       "      <td>Pvt</td>\n",
       "      <td>NaN</td>\n",
       "      <td>Hyd</td>\n",
       "      <td>1</td>\n",
       "      <td>SPRT</td>\n",
       "      <td>Services</td>\n",
       "      <td>Mar-43</td>\n",
       "    </tr>\n",
       "    <tr>\n",
       "      <th>2</th>\n",
       "      <td>NCR_Leagles</td>\n",
       "      <td>931</td>\n",
       "      <td>NaN</td>\n",
       "      <td>605</td>\n",
       "      <td>NaN</td>\n",
       "      <td>1935.0</td>\n",
       "      <td>NCR</td>\n",
       "      <td>0</td>\n",
       "      <td>NCRL</td>\n",
       "      <td>Services</td>\n",
       "      <td>Feb-60</td>\n",
       "    </tr>\n",
       "    <tr>\n",
       "      <th>1</th>\n",
       "      <td>Kolkata_FMCG</td>\n",
       "      <td>925</td>\n",
       "      <td>NaN</td>\n",
       "      <td>676</td>\n",
       "      <td>NaN</td>\n",
       "      <td>1379.0</td>\n",
       "      <td>Kol</td>\n",
       "      <td>0</td>\n",
       "      <td>KFMC</td>\n",
       "      <td>Goods</td>\n",
       "      <td>Jan-20</td>\n",
       "    </tr>\n",
       "    <tr>\n",
       "      <th>3</th>\n",
       "      <td>Bangalore_Systems</td>\n",
       "      <td>900</td>\n",
       "      <td>NaN</td>\n",
       "      <td>650</td>\n",
       "      <td>Gov</td>\n",
       "      <td>1361.0</td>\n",
       "      <td>Blr</td>\n",
       "      <td>0</td>\n",
       "      <td>BSYS</td>\n",
       "      <td>Services</td>\n",
       "      <td>Apr-50</td>\n",
       "    </tr>\n",
       "    <tr>\n",
       "      <th>7</th>\n",
       "      <td>NaN</td>\n",
       "      <td>899</td>\n",
       "      <td>NaN</td>\n",
       "      <td>674</td>\n",
       "      <td>Pub</td>\n",
       "      <td>NaN</td>\n",
       "      <td>Mum</td>\n",
       "      <td>0</td>\n",
       "      <td>BFIN</td>\n",
       "      <td>Services</td>\n",
       "      <td>Apr-25</td>\n",
       "    </tr>\n",
       "  </tbody>\n",
       "</table>\n",
       "</div>"
      ],
      "text/plain": [
       "                    Vol  Rev       Exp  Sector EmpCnt      HQ  MNC  StockID  \\\n",
       "8      Chennai_Shipping  992       821     665    NaN     NaN  Che        1   \n",
       "4     Chennai_Chemicals  966     863.2     608    Pub  1656.0  Che        1   \n",
       "6   Bangalore_Breweries  966       NaN     895    NaN   119.0  Blr        1   \n",
       "5         Indi_Services  954       733     609    Gov     NaN  NCR        0   \n",
       "10        Indi_Services  954       733     609    Gov     NaN  NCR        0   \n",
       "9       Eastern_Estates  945    834.23     789    Pvt  1873.0  NaN        1   \n",
       "0       Deccan_Sporting  931  839.None     615    Pvt     NaN  Hyd        1   \n",
       "2           NCR_Leagles  931       NaN     605    NaN  1935.0  NCR        0   \n",
       "1          Kolkata_FMCG  925       NaN     676    NaN  1379.0  Kol        0   \n",
       "3     Bangalore_Systems  900       NaN     650    Gov  1361.0  Blr        0   \n",
       "7                   NaN  899       NaN     674    Pub     NaN  Mum        0   \n",
       "\n",
       "     GST   Started Listed Date  \n",
       "8   SHIP     Goods      Nov-30  \n",
       "4   CHEM     Goods      Aug-28  \n",
       "6   BREW     Goods      Oct-71  \n",
       "5   INDI  Services      Mar-20  \n",
       "10  INDI  Services      Mar-20  \n",
       "9   EEST     Goods      Jan-94  \n",
       "0   SPRT  Services      Mar-43  \n",
       "2   NCRL  Services      Feb-60  \n",
       "1   KFMC     Goods      Jan-20  \n",
       "3   BSYS  Services      Apr-50  \n",
       "7   BFIN  Services      Apr-25  "
      ]
     },
     "execution_count": 141,
     "metadata": {},
     "output_type": "execute_result"
    }
   ],
   "source": [
    "df1.sort_values('Rev', ascending = False)"
   ]
  },
  {
   "cell_type": "code",
   "execution_count": 143,
   "id": "8c451c4f-958c-4ccd-a0ab-f51e9fa027a2",
   "metadata": {},
   "outputs": [
    {
     "data": {
      "text/html": [
       "<div>\n",
       "<style scoped>\n",
       "    .dataframe tbody tr th:only-of-type {\n",
       "        vertical-align: middle;\n",
       "    }\n",
       "\n",
       "    .dataframe tbody tr th {\n",
       "        vertical-align: top;\n",
       "    }\n",
       "\n",
       "    .dataframe thead th {\n",
       "        text-align: right;\n",
       "    }\n",
       "</style>\n",
       "<table border=\"1\" class=\"dataframe\">\n",
       "  <thead>\n",
       "    <tr style=\"text-align: right;\">\n",
       "      <th></th>\n",
       "      <th>Vol</th>\n",
       "      <th>Rev</th>\n",
       "      <th>Exp</th>\n",
       "      <th>Sector</th>\n",
       "      <th>EmpCnt</th>\n",
       "      <th>HQ</th>\n",
       "      <th>MNC</th>\n",
       "      <th>StockID</th>\n",
       "      <th>GST</th>\n",
       "      <th>Started</th>\n",
       "      <th>Listed Date</th>\n",
       "    </tr>\n",
       "  </thead>\n",
       "  <tbody>\n",
       "    <tr>\n",
       "      <th>7</th>\n",
       "      <td>NaN</td>\n",
       "      <td>899</td>\n",
       "      <td>NaN</td>\n",
       "      <td>674</td>\n",
       "      <td>Pub</td>\n",
       "      <td>NaN</td>\n",
       "      <td>Mum</td>\n",
       "      <td>0</td>\n",
       "      <td>BFIN</td>\n",
       "      <td>Services</td>\n",
       "      <td>Apr-25</td>\n",
       "    </tr>\n",
       "    <tr>\n",
       "      <th>3</th>\n",
       "      <td>Bangalore_Systems</td>\n",
       "      <td>900</td>\n",
       "      <td>NaN</td>\n",
       "      <td>650</td>\n",
       "      <td>Gov</td>\n",
       "      <td>1361.0</td>\n",
       "      <td>Blr</td>\n",
       "      <td>0</td>\n",
       "      <td>BSYS</td>\n",
       "      <td>Services</td>\n",
       "      <td>Apr-50</td>\n",
       "    </tr>\n",
       "    <tr>\n",
       "      <th>1</th>\n",
       "      <td>Kolkata_FMCG</td>\n",
       "      <td>925</td>\n",
       "      <td>NaN</td>\n",
       "      <td>676</td>\n",
       "      <td>NaN</td>\n",
       "      <td>1379.0</td>\n",
       "      <td>Kol</td>\n",
       "      <td>0</td>\n",
       "      <td>KFMC</td>\n",
       "      <td>Goods</td>\n",
       "      <td>Jan-20</td>\n",
       "    </tr>\n",
       "    <tr>\n",
       "      <th>0</th>\n",
       "      <td>Deccan_Sporting</td>\n",
       "      <td>931</td>\n",
       "      <td>839.None</td>\n",
       "      <td>615</td>\n",
       "      <td>Pvt</td>\n",
       "      <td>NaN</td>\n",
       "      <td>Hyd</td>\n",
       "      <td>1</td>\n",
       "      <td>SPRT</td>\n",
       "      <td>Services</td>\n",
       "      <td>Mar-43</td>\n",
       "    </tr>\n",
       "    <tr>\n",
       "      <th>2</th>\n",
       "      <td>NCR_Leagles</td>\n",
       "      <td>931</td>\n",
       "      <td>NaN</td>\n",
       "      <td>605</td>\n",
       "      <td>NaN</td>\n",
       "      <td>1935.0</td>\n",
       "      <td>NCR</td>\n",
       "      <td>0</td>\n",
       "      <td>NCRL</td>\n",
       "      <td>Services</td>\n",
       "      <td>Feb-60</td>\n",
       "    </tr>\n",
       "    <tr>\n",
       "      <th>9</th>\n",
       "      <td>Eastern_Estates</td>\n",
       "      <td>945</td>\n",
       "      <td>834.23</td>\n",
       "      <td>789</td>\n",
       "      <td>Pvt</td>\n",
       "      <td>1873.0</td>\n",
       "      <td>NaN</td>\n",
       "      <td>1</td>\n",
       "      <td>EEST</td>\n",
       "      <td>Goods</td>\n",
       "      <td>Jan-94</td>\n",
       "    </tr>\n",
       "    <tr>\n",
       "      <th>5</th>\n",
       "      <td>Indi_Services</td>\n",
       "      <td>954</td>\n",
       "      <td>733</td>\n",
       "      <td>609</td>\n",
       "      <td>Gov</td>\n",
       "      <td>NaN</td>\n",
       "      <td>NCR</td>\n",
       "      <td>0</td>\n",
       "      <td>INDI</td>\n",
       "      <td>Services</td>\n",
       "      <td>Mar-20</td>\n",
       "    </tr>\n",
       "    <tr>\n",
       "      <th>10</th>\n",
       "      <td>Indi_Services</td>\n",
       "      <td>954</td>\n",
       "      <td>733</td>\n",
       "      <td>609</td>\n",
       "      <td>Gov</td>\n",
       "      <td>NaN</td>\n",
       "      <td>NCR</td>\n",
       "      <td>0</td>\n",
       "      <td>INDI</td>\n",
       "      <td>Services</td>\n",
       "      <td>Mar-20</td>\n",
       "    </tr>\n",
       "    <tr>\n",
       "      <th>4</th>\n",
       "      <td>Chennai_Chemicals</td>\n",
       "      <td>966</td>\n",
       "      <td>863.2</td>\n",
       "      <td>608</td>\n",
       "      <td>Pub</td>\n",
       "      <td>1656.0</td>\n",
       "      <td>Che</td>\n",
       "      <td>1</td>\n",
       "      <td>CHEM</td>\n",
       "      <td>Goods</td>\n",
       "      <td>Aug-28</td>\n",
       "    </tr>\n",
       "    <tr>\n",
       "      <th>6</th>\n",
       "      <td>Bangalore_Breweries</td>\n",
       "      <td>966</td>\n",
       "      <td>NaN</td>\n",
       "      <td>895</td>\n",
       "      <td>NaN</td>\n",
       "      <td>119.0</td>\n",
       "      <td>Blr</td>\n",
       "      <td>1</td>\n",
       "      <td>BREW</td>\n",
       "      <td>Goods</td>\n",
       "      <td>Oct-71</td>\n",
       "    </tr>\n",
       "    <tr>\n",
       "      <th>8</th>\n",
       "      <td>Chennai_Shipping</td>\n",
       "      <td>992</td>\n",
       "      <td>821</td>\n",
       "      <td>665</td>\n",
       "      <td>NaN</td>\n",
       "      <td>NaN</td>\n",
       "      <td>Che</td>\n",
       "      <td>1</td>\n",
       "      <td>SHIP</td>\n",
       "      <td>Goods</td>\n",
       "      <td>Nov-30</td>\n",
       "    </tr>\n",
       "  </tbody>\n",
       "</table>\n",
       "</div>"
      ],
      "text/plain": [
       "                    Vol  Rev       Exp  Sector EmpCnt      HQ  MNC  StockID  \\\n",
       "7                   NaN  899       NaN     674    Pub     NaN  Mum        0   \n",
       "3     Bangalore_Systems  900       NaN     650    Gov  1361.0  Blr        0   \n",
       "1          Kolkata_FMCG  925       NaN     676    NaN  1379.0  Kol        0   \n",
       "0       Deccan_Sporting  931  839.None     615    Pvt     NaN  Hyd        1   \n",
       "2           NCR_Leagles  931       NaN     605    NaN  1935.0  NCR        0   \n",
       "9       Eastern_Estates  945    834.23     789    Pvt  1873.0  NaN        1   \n",
       "5         Indi_Services  954       733     609    Gov     NaN  NCR        0   \n",
       "10        Indi_Services  954       733     609    Gov     NaN  NCR        0   \n",
       "4     Chennai_Chemicals  966     863.2     608    Pub  1656.0  Che        1   \n",
       "6   Bangalore_Breweries  966       NaN     895    NaN   119.0  Blr        1   \n",
       "8      Chennai_Shipping  992       821     665    NaN     NaN  Che        1   \n",
       "\n",
       "     GST   Started Listed Date  \n",
       "7   BFIN  Services      Apr-25  \n",
       "3   BSYS  Services      Apr-50  \n",
       "1   KFMC     Goods      Jan-20  \n",
       "0   SPRT  Services      Mar-43  \n",
       "2   NCRL  Services      Feb-60  \n",
       "9   EEST     Goods      Jan-94  \n",
       "5   INDI  Services      Mar-20  \n",
       "10  INDI  Services      Mar-20  \n",
       "4   CHEM     Goods      Aug-28  \n",
       "6   BREW     Goods      Oct-71  \n",
       "8   SHIP     Goods      Nov-30  "
      ]
     },
     "execution_count": 143,
     "metadata": {},
     "output_type": "execute_result"
    }
   ],
   "source": [
    "df1.sort_values('Rev')"
   ]
  },
  {
   "cell_type": "code",
   "execution_count": 145,
   "id": "eb8a33a7-c2a1-4c23-933e-8b18e4ca05a8",
   "metadata": {},
   "outputs": [
    {
     "data": {
      "text/html": [
       "<div>\n",
       "<style scoped>\n",
       "    .dataframe tbody tr th:only-of-type {\n",
       "        vertical-align: middle;\n",
       "    }\n",
       "\n",
       "    .dataframe tbody tr th {\n",
       "        vertical-align: top;\n",
       "    }\n",
       "\n",
       "    .dataframe thead th {\n",
       "        text-align: right;\n",
       "    }\n",
       "</style>\n",
       "<table border=\"1\" class=\"dataframe\">\n",
       "  <thead>\n",
       "    <tr style=\"text-align: right;\">\n",
       "      <th></th>\n",
       "      <th>Vol</th>\n",
       "      <th>Rev</th>\n",
       "      <th>Exp</th>\n",
       "      <th>Sector</th>\n",
       "      <th>EmpCnt</th>\n",
       "      <th>HQ</th>\n",
       "      <th>MNC</th>\n",
       "      <th>StockID</th>\n",
       "      <th>GST</th>\n",
       "      <th>Started</th>\n",
       "      <th>Listed Date</th>\n",
       "    </tr>\n",
       "  </thead>\n",
       "  <tbody>\n",
       "    <tr>\n",
       "      <th>7</th>\n",
       "      <td>NaN</td>\n",
       "      <td>899</td>\n",
       "      <td>NaN</td>\n",
       "      <td>674</td>\n",
       "      <td>Pub</td>\n",
       "      <td>NaN</td>\n",
       "      <td>Mum</td>\n",
       "      <td>0</td>\n",
       "      <td>BFIN</td>\n",
       "      <td>Services</td>\n",
       "      <td>Apr-25</td>\n",
       "    </tr>\n",
       "    <tr>\n",
       "      <th>3</th>\n",
       "      <td>Bangalore_Systems</td>\n",
       "      <td>900</td>\n",
       "      <td>NaN</td>\n",
       "      <td>650</td>\n",
       "      <td>Gov</td>\n",
       "      <td>1361.0</td>\n",
       "      <td>Blr</td>\n",
       "      <td>0</td>\n",
       "      <td>BSYS</td>\n",
       "      <td>Services</td>\n",
       "      <td>Apr-50</td>\n",
       "    </tr>\n",
       "    <tr>\n",
       "      <th>1</th>\n",
       "      <td>Kolkata_FMCG</td>\n",
       "      <td>925</td>\n",
       "      <td>NaN</td>\n",
       "      <td>676</td>\n",
       "      <td>NaN</td>\n",
       "      <td>1379.0</td>\n",
       "      <td>Kol</td>\n",
       "      <td>0</td>\n",
       "      <td>KFMC</td>\n",
       "      <td>Goods</td>\n",
       "      <td>Jan-20</td>\n",
       "    </tr>\n",
       "    <tr>\n",
       "      <th>2</th>\n",
       "      <td>NCR_Leagles</td>\n",
       "      <td>931</td>\n",
       "      <td>NaN</td>\n",
       "      <td>605</td>\n",
       "      <td>NaN</td>\n",
       "      <td>1935.0</td>\n",
       "      <td>NCR</td>\n",
       "      <td>0</td>\n",
       "      <td>NCRL</td>\n",
       "      <td>Services</td>\n",
       "      <td>Feb-60</td>\n",
       "    </tr>\n",
       "    <tr>\n",
       "      <th>0</th>\n",
       "      <td>Deccan_Sporting</td>\n",
       "      <td>931</td>\n",
       "      <td>839.None</td>\n",
       "      <td>615</td>\n",
       "      <td>Pvt</td>\n",
       "      <td>NaN</td>\n",
       "      <td>Hyd</td>\n",
       "      <td>1</td>\n",
       "      <td>SPRT</td>\n",
       "      <td>Services</td>\n",
       "      <td>Mar-43</td>\n",
       "    </tr>\n",
       "    <tr>\n",
       "      <th>9</th>\n",
       "      <td>Eastern_Estates</td>\n",
       "      <td>945</td>\n",
       "      <td>834.23</td>\n",
       "      <td>789</td>\n",
       "      <td>Pvt</td>\n",
       "      <td>1873.0</td>\n",
       "      <td>NaN</td>\n",
       "      <td>1</td>\n",
       "      <td>EEST</td>\n",
       "      <td>Goods</td>\n",
       "      <td>Jan-94</td>\n",
       "    </tr>\n",
       "    <tr>\n",
       "      <th>5</th>\n",
       "      <td>Indi_Services</td>\n",
       "      <td>954</td>\n",
       "      <td>733</td>\n",
       "      <td>609</td>\n",
       "      <td>Gov</td>\n",
       "      <td>NaN</td>\n",
       "      <td>NCR</td>\n",
       "      <td>0</td>\n",
       "      <td>INDI</td>\n",
       "      <td>Services</td>\n",
       "      <td>Mar-20</td>\n",
       "    </tr>\n",
       "    <tr>\n",
       "      <th>10</th>\n",
       "      <td>Indi_Services</td>\n",
       "      <td>954</td>\n",
       "      <td>733</td>\n",
       "      <td>609</td>\n",
       "      <td>Gov</td>\n",
       "      <td>NaN</td>\n",
       "      <td>NCR</td>\n",
       "      <td>0</td>\n",
       "      <td>INDI</td>\n",
       "      <td>Services</td>\n",
       "      <td>Mar-20</td>\n",
       "    </tr>\n",
       "    <tr>\n",
       "      <th>4</th>\n",
       "      <td>Chennai_Chemicals</td>\n",
       "      <td>966</td>\n",
       "      <td>863.2</td>\n",
       "      <td>608</td>\n",
       "      <td>Pub</td>\n",
       "      <td>1656.0</td>\n",
       "      <td>Che</td>\n",
       "      <td>1</td>\n",
       "      <td>CHEM</td>\n",
       "      <td>Goods</td>\n",
       "      <td>Aug-28</td>\n",
       "    </tr>\n",
       "    <tr>\n",
       "      <th>6</th>\n",
       "      <td>Bangalore_Breweries</td>\n",
       "      <td>966</td>\n",
       "      <td>NaN</td>\n",
       "      <td>895</td>\n",
       "      <td>NaN</td>\n",
       "      <td>119.0</td>\n",
       "      <td>Blr</td>\n",
       "      <td>1</td>\n",
       "      <td>BREW</td>\n",
       "      <td>Goods</td>\n",
       "      <td>Oct-71</td>\n",
       "    </tr>\n",
       "    <tr>\n",
       "      <th>8</th>\n",
       "      <td>Chennai_Shipping</td>\n",
       "      <td>992</td>\n",
       "      <td>821</td>\n",
       "      <td>665</td>\n",
       "      <td>NaN</td>\n",
       "      <td>NaN</td>\n",
       "      <td>Che</td>\n",
       "      <td>1</td>\n",
       "      <td>SHIP</td>\n",
       "      <td>Goods</td>\n",
       "      <td>Nov-30</td>\n",
       "    </tr>\n",
       "  </tbody>\n",
       "</table>\n",
       "</div>"
      ],
      "text/plain": [
       "                    Vol  Rev       Exp  Sector EmpCnt      HQ  MNC  StockID  \\\n",
       "7                   NaN  899       NaN     674    Pub     NaN  Mum        0   \n",
       "3     Bangalore_Systems  900       NaN     650    Gov  1361.0  Blr        0   \n",
       "1          Kolkata_FMCG  925       NaN     676    NaN  1379.0  Kol        0   \n",
       "2           NCR_Leagles  931       NaN     605    NaN  1935.0  NCR        0   \n",
       "0       Deccan_Sporting  931  839.None     615    Pvt     NaN  Hyd        1   \n",
       "9       Eastern_Estates  945    834.23     789    Pvt  1873.0  NaN        1   \n",
       "5         Indi_Services  954       733     609    Gov     NaN  NCR        0   \n",
       "10        Indi_Services  954       733     609    Gov     NaN  NCR        0   \n",
       "4     Chennai_Chemicals  966     863.2     608    Pub  1656.0  Che        1   \n",
       "6   Bangalore_Breweries  966       NaN     895    NaN   119.0  Blr        1   \n",
       "8      Chennai_Shipping  992       821     665    NaN     NaN  Che        1   \n",
       "\n",
       "     GST   Started Listed Date  \n",
       "7   BFIN  Services      Apr-25  \n",
       "3   BSYS  Services      Apr-50  \n",
       "1   KFMC     Goods      Jan-20  \n",
       "2   NCRL  Services      Feb-60  \n",
       "0   SPRT  Services      Mar-43  \n",
       "9   EEST     Goods      Jan-94  \n",
       "5   INDI  Services      Mar-20  \n",
       "10  INDI  Services      Mar-20  \n",
       "4   CHEM     Goods      Aug-28  \n",
       "6   BREW     Goods      Oct-71  \n",
       "8   SHIP     Goods      Nov-30  "
      ]
     },
     "execution_count": 145,
     "metadata": {},
     "output_type": "execute_result"
    }
   ],
   "source": [
    "df1.sort_values(['Rev', 'Sector'])"
   ]
  },
  {
   "cell_type": "code",
   "execution_count": 147,
   "id": "cc5e9ecf-43e4-4f94-8440-8d1d1194882f",
   "metadata": {},
   "outputs": [
    {
     "data": {
      "text/html": [
       "<div>\n",
       "<style scoped>\n",
       "    .dataframe tbody tr th:only-of-type {\n",
       "        vertical-align: middle;\n",
       "    }\n",
       "\n",
       "    .dataframe tbody tr th {\n",
       "        vertical-align: top;\n",
       "    }\n",
       "\n",
       "    .dataframe thead th {\n",
       "        text-align: right;\n",
       "    }\n",
       "</style>\n",
       "<table border=\"1\" class=\"dataframe\">\n",
       "  <thead>\n",
       "    <tr style=\"text-align: right;\">\n",
       "      <th></th>\n",
       "      <th>Vol</th>\n",
       "      <th>Rev</th>\n",
       "      <th>Exp</th>\n",
       "      <th>Sector</th>\n",
       "      <th>EmpCnt</th>\n",
       "      <th>HQ</th>\n",
       "      <th>MNC</th>\n",
       "      <th>StockID</th>\n",
       "      <th>GST</th>\n",
       "      <th>Started</th>\n",
       "      <th>Listed Date</th>\n",
       "    </tr>\n",
       "  </thead>\n",
       "  <tbody>\n",
       "    <tr>\n",
       "      <th>8</th>\n",
       "      <td>Chennai_Shipping</td>\n",
       "      <td>992</td>\n",
       "      <td>821</td>\n",
       "      <td>665</td>\n",
       "      <td>NaN</td>\n",
       "      <td>NaN</td>\n",
       "      <td>Che</td>\n",
       "      <td>1</td>\n",
       "      <td>SHIP</td>\n",
       "      <td>Goods</td>\n",
       "      <td>Nov-30</td>\n",
       "    </tr>\n",
       "    <tr>\n",
       "      <th>6</th>\n",
       "      <td>Bangalore_Breweries</td>\n",
       "      <td>966</td>\n",
       "      <td>NaN</td>\n",
       "      <td>895</td>\n",
       "      <td>NaN</td>\n",
       "      <td>119.0</td>\n",
       "      <td>Blr</td>\n",
       "      <td>1</td>\n",
       "      <td>BREW</td>\n",
       "      <td>Goods</td>\n",
       "      <td>Oct-71</td>\n",
       "    </tr>\n",
       "    <tr>\n",
       "      <th>4</th>\n",
       "      <td>Chennai_Chemicals</td>\n",
       "      <td>966</td>\n",
       "      <td>863.2</td>\n",
       "      <td>608</td>\n",
       "      <td>Pub</td>\n",
       "      <td>1656.0</td>\n",
       "      <td>Che</td>\n",
       "      <td>1</td>\n",
       "      <td>CHEM</td>\n",
       "      <td>Goods</td>\n",
       "      <td>Aug-28</td>\n",
       "    </tr>\n",
       "    <tr>\n",
       "      <th>5</th>\n",
       "      <td>Indi_Services</td>\n",
       "      <td>954</td>\n",
       "      <td>733</td>\n",
       "      <td>609</td>\n",
       "      <td>Gov</td>\n",
       "      <td>NaN</td>\n",
       "      <td>NCR</td>\n",
       "      <td>0</td>\n",
       "      <td>INDI</td>\n",
       "      <td>Services</td>\n",
       "      <td>Mar-20</td>\n",
       "    </tr>\n",
       "    <tr>\n",
       "      <th>10</th>\n",
       "      <td>Indi_Services</td>\n",
       "      <td>954</td>\n",
       "      <td>733</td>\n",
       "      <td>609</td>\n",
       "      <td>Gov</td>\n",
       "      <td>NaN</td>\n",
       "      <td>NCR</td>\n",
       "      <td>0</td>\n",
       "      <td>INDI</td>\n",
       "      <td>Services</td>\n",
       "      <td>Mar-20</td>\n",
       "    </tr>\n",
       "    <tr>\n",
       "      <th>9</th>\n",
       "      <td>Eastern_Estates</td>\n",
       "      <td>945</td>\n",
       "      <td>834.23</td>\n",
       "      <td>789</td>\n",
       "      <td>Pvt</td>\n",
       "      <td>1873.0</td>\n",
       "      <td>NaN</td>\n",
       "      <td>1</td>\n",
       "      <td>EEST</td>\n",
       "      <td>Goods</td>\n",
       "      <td>Jan-94</td>\n",
       "    </tr>\n",
       "    <tr>\n",
       "      <th>0</th>\n",
       "      <td>Deccan_Sporting</td>\n",
       "      <td>931</td>\n",
       "      <td>839.None</td>\n",
       "      <td>615</td>\n",
       "      <td>Pvt</td>\n",
       "      <td>NaN</td>\n",
       "      <td>Hyd</td>\n",
       "      <td>1</td>\n",
       "      <td>SPRT</td>\n",
       "      <td>Services</td>\n",
       "      <td>Mar-43</td>\n",
       "    </tr>\n",
       "    <tr>\n",
       "      <th>2</th>\n",
       "      <td>NCR_Leagles</td>\n",
       "      <td>931</td>\n",
       "      <td>NaN</td>\n",
       "      <td>605</td>\n",
       "      <td>NaN</td>\n",
       "      <td>1935.0</td>\n",
       "      <td>NCR</td>\n",
       "      <td>0</td>\n",
       "      <td>NCRL</td>\n",
       "      <td>Services</td>\n",
       "      <td>Feb-60</td>\n",
       "    </tr>\n",
       "    <tr>\n",
       "      <th>1</th>\n",
       "      <td>Kolkata_FMCG</td>\n",
       "      <td>925</td>\n",
       "      <td>NaN</td>\n",
       "      <td>676</td>\n",
       "      <td>NaN</td>\n",
       "      <td>1379.0</td>\n",
       "      <td>Kol</td>\n",
       "      <td>0</td>\n",
       "      <td>KFMC</td>\n",
       "      <td>Goods</td>\n",
       "      <td>Jan-20</td>\n",
       "    </tr>\n",
       "    <tr>\n",
       "      <th>3</th>\n",
       "      <td>Bangalore_Systems</td>\n",
       "      <td>900</td>\n",
       "      <td>NaN</td>\n",
       "      <td>650</td>\n",
       "      <td>Gov</td>\n",
       "      <td>1361.0</td>\n",
       "      <td>Blr</td>\n",
       "      <td>0</td>\n",
       "      <td>BSYS</td>\n",
       "      <td>Services</td>\n",
       "      <td>Apr-50</td>\n",
       "    </tr>\n",
       "    <tr>\n",
       "      <th>7</th>\n",
       "      <td>NaN</td>\n",
       "      <td>899</td>\n",
       "      <td>NaN</td>\n",
       "      <td>674</td>\n",
       "      <td>Pub</td>\n",
       "      <td>NaN</td>\n",
       "      <td>Mum</td>\n",
       "      <td>0</td>\n",
       "      <td>BFIN</td>\n",
       "      <td>Services</td>\n",
       "      <td>Apr-25</td>\n",
       "    </tr>\n",
       "  </tbody>\n",
       "</table>\n",
       "</div>"
      ],
      "text/plain": [
       "                    Vol  Rev       Exp  Sector EmpCnt      HQ  MNC  StockID  \\\n",
       "8      Chennai_Shipping  992       821     665    NaN     NaN  Che        1   \n",
       "6   Bangalore_Breweries  966       NaN     895    NaN   119.0  Blr        1   \n",
       "4     Chennai_Chemicals  966     863.2     608    Pub  1656.0  Che        1   \n",
       "5         Indi_Services  954       733     609    Gov     NaN  NCR        0   \n",
       "10        Indi_Services  954       733     609    Gov     NaN  NCR        0   \n",
       "9       Eastern_Estates  945    834.23     789    Pvt  1873.0  NaN        1   \n",
       "0       Deccan_Sporting  931  839.None     615    Pvt     NaN  Hyd        1   \n",
       "2           NCR_Leagles  931       NaN     605    NaN  1935.0  NCR        0   \n",
       "1          Kolkata_FMCG  925       NaN     676    NaN  1379.0  Kol        0   \n",
       "3     Bangalore_Systems  900       NaN     650    Gov  1361.0  Blr        0   \n",
       "7                   NaN  899       NaN     674    Pub     NaN  Mum        0   \n",
       "\n",
       "     GST   Started Listed Date  \n",
       "8   SHIP     Goods      Nov-30  \n",
       "6   BREW     Goods      Oct-71  \n",
       "4   CHEM     Goods      Aug-28  \n",
       "5   INDI  Services      Mar-20  \n",
       "10  INDI  Services      Mar-20  \n",
       "9   EEST     Goods      Jan-94  \n",
       "0   SPRT  Services      Mar-43  \n",
       "2   NCRL  Services      Feb-60  \n",
       "1   KFMC     Goods      Jan-20  \n",
       "3   BSYS  Services      Apr-50  \n",
       "7   BFIN  Services      Apr-25  "
      ]
     },
     "execution_count": 147,
     "metadata": {},
     "output_type": "execute_result"
    }
   ],
   "source": [
    "df1.sort_values(['Rev', 'Sector'], ascending = False)"
   ]
  },
  {
   "cell_type": "code",
   "execution_count": null,
   "id": "2168c0bd-c36e-4cb4-ae70-731e4a4ab4e6",
   "metadata": {},
   "outputs": [],
   "source": []
  },
  {
   "cell_type": "markdown",
   "id": "627ff981-0972-4d0e-92dd-a6523a29d864",
   "metadata": {},
   "source": [
    "### rank function in DF"
   ]
  },
  {
   "cell_type": "code",
   "execution_count": 150,
   "id": "0918b3ac-ff3f-42dc-ad02-74e7205b4449",
   "metadata": {},
   "outputs": [
    {
     "data": {
      "text/html": [
       "<div>\n",
       "<style scoped>\n",
       "    .dataframe tbody tr th:only-of-type {\n",
       "        vertical-align: middle;\n",
       "    }\n",
       "\n",
       "    .dataframe tbody tr th {\n",
       "        vertical-align: top;\n",
       "    }\n",
       "\n",
       "    .dataframe thead th {\n",
       "        text-align: right;\n",
       "    }\n",
       "</style>\n",
       "<table border=\"1\" class=\"dataframe\">\n",
       "  <thead>\n",
       "    <tr style=\"text-align: right;\">\n",
       "      <th></th>\n",
       "      <th>Vol</th>\n",
       "      <th>Rev</th>\n",
       "      <th>Exp</th>\n",
       "      <th>Sector</th>\n",
       "      <th>EmpCnt</th>\n",
       "      <th>HQ</th>\n",
       "      <th>MNC</th>\n",
       "      <th>StockID</th>\n",
       "      <th>GST</th>\n",
       "      <th>Started</th>\n",
       "      <th>Listed Date</th>\n",
       "    </tr>\n",
       "  </thead>\n",
       "  <tbody>\n",
       "    <tr>\n",
       "      <th>0</th>\n",
       "      <td>Deccan_Sporting</td>\n",
       "      <td>931</td>\n",
       "      <td>839.None</td>\n",
       "      <td>615</td>\n",
       "      <td>Pvt</td>\n",
       "      <td>NaN</td>\n",
       "      <td>Hyd</td>\n",
       "      <td>1</td>\n",
       "      <td>SPRT</td>\n",
       "      <td>Services</td>\n",
       "      <td>Mar-43</td>\n",
       "    </tr>\n",
       "    <tr>\n",
       "      <th>1</th>\n",
       "      <td>Kolkata_FMCG</td>\n",
       "      <td>925</td>\n",
       "      <td>NaN</td>\n",
       "      <td>676</td>\n",
       "      <td>NaN</td>\n",
       "      <td>1379.0</td>\n",
       "      <td>Kol</td>\n",
       "      <td>0</td>\n",
       "      <td>KFMC</td>\n",
       "      <td>Goods</td>\n",
       "      <td>Jan-20</td>\n",
       "    </tr>\n",
       "    <tr>\n",
       "      <th>2</th>\n",
       "      <td>NCR_Leagles</td>\n",
       "      <td>931</td>\n",
       "      <td>NaN</td>\n",
       "      <td>605</td>\n",
       "      <td>NaN</td>\n",
       "      <td>1935.0</td>\n",
       "      <td>NCR</td>\n",
       "      <td>0</td>\n",
       "      <td>NCRL</td>\n",
       "      <td>Services</td>\n",
       "      <td>Feb-60</td>\n",
       "    </tr>\n",
       "    <tr>\n",
       "      <th>3</th>\n",
       "      <td>Bangalore_Systems</td>\n",
       "      <td>900</td>\n",
       "      <td>NaN</td>\n",
       "      <td>650</td>\n",
       "      <td>Gov</td>\n",
       "      <td>1361.0</td>\n",
       "      <td>Blr</td>\n",
       "      <td>0</td>\n",
       "      <td>BSYS</td>\n",
       "      <td>Services</td>\n",
       "      <td>Apr-50</td>\n",
       "    </tr>\n",
       "    <tr>\n",
       "      <th>4</th>\n",
       "      <td>Chennai_Chemicals</td>\n",
       "      <td>966</td>\n",
       "      <td>863.2</td>\n",
       "      <td>608</td>\n",
       "      <td>Pub</td>\n",
       "      <td>1656.0</td>\n",
       "      <td>Che</td>\n",
       "      <td>1</td>\n",
       "      <td>CHEM</td>\n",
       "      <td>Goods</td>\n",
       "      <td>Aug-28</td>\n",
       "    </tr>\n",
       "    <tr>\n",
       "      <th>5</th>\n",
       "      <td>Indi_Services</td>\n",
       "      <td>954</td>\n",
       "      <td>733</td>\n",
       "      <td>609</td>\n",
       "      <td>Gov</td>\n",
       "      <td>NaN</td>\n",
       "      <td>NCR</td>\n",
       "      <td>0</td>\n",
       "      <td>INDI</td>\n",
       "      <td>Services</td>\n",
       "      <td>Mar-20</td>\n",
       "    </tr>\n",
       "    <tr>\n",
       "      <th>6</th>\n",
       "      <td>Bangalore_Breweries</td>\n",
       "      <td>966</td>\n",
       "      <td>NaN</td>\n",
       "      <td>895</td>\n",
       "      <td>NaN</td>\n",
       "      <td>119.0</td>\n",
       "      <td>Blr</td>\n",
       "      <td>1</td>\n",
       "      <td>BREW</td>\n",
       "      <td>Goods</td>\n",
       "      <td>Oct-71</td>\n",
       "    </tr>\n",
       "    <tr>\n",
       "      <th>7</th>\n",
       "      <td>NaN</td>\n",
       "      <td>899</td>\n",
       "      <td>NaN</td>\n",
       "      <td>674</td>\n",
       "      <td>Pub</td>\n",
       "      <td>NaN</td>\n",
       "      <td>Mum</td>\n",
       "      <td>0</td>\n",
       "      <td>BFIN</td>\n",
       "      <td>Services</td>\n",
       "      <td>Apr-25</td>\n",
       "    </tr>\n",
       "    <tr>\n",
       "      <th>8</th>\n",
       "      <td>Chennai_Shipping</td>\n",
       "      <td>992</td>\n",
       "      <td>821</td>\n",
       "      <td>665</td>\n",
       "      <td>NaN</td>\n",
       "      <td>NaN</td>\n",
       "      <td>Che</td>\n",
       "      <td>1</td>\n",
       "      <td>SHIP</td>\n",
       "      <td>Goods</td>\n",
       "      <td>Nov-30</td>\n",
       "    </tr>\n",
       "    <tr>\n",
       "      <th>9</th>\n",
       "      <td>Eastern_Estates</td>\n",
       "      <td>945</td>\n",
       "      <td>834.23</td>\n",
       "      <td>789</td>\n",
       "      <td>Pvt</td>\n",
       "      <td>1873.0</td>\n",
       "      <td>NaN</td>\n",
       "      <td>1</td>\n",
       "      <td>EEST</td>\n",
       "      <td>Goods</td>\n",
       "      <td>Jan-94</td>\n",
       "    </tr>\n",
       "    <tr>\n",
       "      <th>10</th>\n",
       "      <td>Indi_Services</td>\n",
       "      <td>954</td>\n",
       "      <td>733</td>\n",
       "      <td>609</td>\n",
       "      <td>Gov</td>\n",
       "      <td>NaN</td>\n",
       "      <td>NCR</td>\n",
       "      <td>0</td>\n",
       "      <td>INDI</td>\n",
       "      <td>Services</td>\n",
       "      <td>Mar-20</td>\n",
       "    </tr>\n",
       "  </tbody>\n",
       "</table>\n",
       "</div>"
      ],
      "text/plain": [
       "                    Vol  Rev       Exp  Sector EmpCnt      HQ  MNC  StockID  \\\n",
       "0       Deccan_Sporting  931  839.None     615    Pvt     NaN  Hyd        1   \n",
       "1          Kolkata_FMCG  925       NaN     676    NaN  1379.0  Kol        0   \n",
       "2           NCR_Leagles  931       NaN     605    NaN  1935.0  NCR        0   \n",
       "3     Bangalore_Systems  900       NaN     650    Gov  1361.0  Blr        0   \n",
       "4     Chennai_Chemicals  966     863.2     608    Pub  1656.0  Che        1   \n",
       "5         Indi_Services  954       733     609    Gov     NaN  NCR        0   \n",
       "6   Bangalore_Breweries  966       NaN     895    NaN   119.0  Blr        1   \n",
       "7                   NaN  899       NaN     674    Pub     NaN  Mum        0   \n",
       "8      Chennai_Shipping  992       821     665    NaN     NaN  Che        1   \n",
       "9       Eastern_Estates  945    834.23     789    Pvt  1873.0  NaN        1   \n",
       "10        Indi_Services  954       733     609    Gov     NaN  NCR        0   \n",
       "\n",
       "     GST   Started Listed Date  \n",
       "0   SPRT  Services      Mar-43  \n",
       "1   KFMC     Goods      Jan-20  \n",
       "2   NCRL  Services      Feb-60  \n",
       "3   BSYS  Services      Apr-50  \n",
       "4   CHEM     Goods      Aug-28  \n",
       "5   INDI  Services      Mar-20  \n",
       "6   BREW     Goods      Oct-71  \n",
       "7   BFIN  Services      Apr-25  \n",
       "8   SHIP     Goods      Nov-30  \n",
       "9   EEST     Goods      Jan-94  \n",
       "10  INDI  Services      Mar-20  "
      ]
     },
     "execution_count": 150,
     "metadata": {},
     "output_type": "execute_result"
    }
   ],
   "source": [
    "df1"
   ]
  },
  {
   "cell_type": "code",
   "execution_count": 156,
   "id": "44eb7cb5-215d-4395-bf04-a2b8fcc3bd7f",
   "metadata": {},
   "outputs": [
    {
     "data": {
      "text/plain": [
       "0      5.0\n",
       "1      9.0\n",
       "2      1.0\n",
       "3      6.0\n",
       "4      2.0\n",
       "5      3.5\n",
       "6     11.0\n",
       "7      8.0\n",
       "8      7.0\n",
       "9     10.0\n",
       "10     3.5\n",
       "Name: Sector, dtype: float64"
      ]
     },
     "execution_count": 156,
     "metadata": {},
     "output_type": "execute_result"
    }
   ],
   "source": [
    "df1['Sector'].rank()"
   ]
  },
  {
   "cell_type": "code",
   "execution_count": 158,
   "id": "1ce5ce12-5e44-44b3-9ea0-d84c0d005f4f",
   "metadata": {},
   "outputs": [
    {
     "data": {
      "text/plain": [
       "0      7.0\n",
       "1      3.0\n",
       "2     11.0\n",
       "3      6.0\n",
       "4     10.0\n",
       "5      8.5\n",
       "6      1.0\n",
       "7      4.0\n",
       "8      5.0\n",
       "9      2.0\n",
       "10     8.5\n",
       "Name: Sector, dtype: float64"
      ]
     },
     "execution_count": 158,
     "metadata": {},
     "output_type": "execute_result"
    }
   ],
   "source": [
    "df1['Sector'].rank(ascending = False)"
   ]
  },
  {
   "cell_type": "code",
   "execution_count": null,
   "id": "b57bcf0f-40fd-4236-aaf8-9a9a0be099c4",
   "metadata": {},
   "outputs": [],
   "source": []
  },
  {
   "cell_type": "code",
   "execution_count": 160,
   "id": "184d881a-7f91-4435-a422-f68b044ca777",
   "metadata": {},
   "outputs": [
    {
     "data": {
      "text/html": [
       "<div>\n",
       "<style scoped>\n",
       "    .dataframe tbody tr th:only-of-type {\n",
       "        vertical-align: middle;\n",
       "    }\n",
       "\n",
       "    .dataframe tbody tr th {\n",
       "        vertical-align: top;\n",
       "    }\n",
       "\n",
       "    .dataframe thead th {\n",
       "        text-align: right;\n",
       "    }\n",
       "</style>\n",
       "<table border=\"1\" class=\"dataframe\">\n",
       "  <thead>\n",
       "    <tr style=\"text-align: right;\">\n",
       "      <th></th>\n",
       "      <th>Vol</th>\n",
       "      <th>Rev</th>\n",
       "      <th>Exp</th>\n",
       "      <th>Sector</th>\n",
       "      <th>EmpCnt</th>\n",
       "      <th>HQ</th>\n",
       "      <th>MNC</th>\n",
       "      <th>StockID</th>\n",
       "      <th>GST</th>\n",
       "      <th>Started</th>\n",
       "      <th>Listed Date</th>\n",
       "    </tr>\n",
       "  </thead>\n",
       "  <tbody>\n",
       "    <tr>\n",
       "      <th>0</th>\n",
       "      <td>Deccan_Sporting</td>\n",
       "      <td>931</td>\n",
       "      <td>839.None</td>\n",
       "      <td>615</td>\n",
       "      <td>Pvt</td>\n",
       "      <td>NaN</td>\n",
       "      <td>Hyd</td>\n",
       "      <td>1</td>\n",
       "      <td>SPRT</td>\n",
       "      <td>Services</td>\n",
       "      <td>Mar-43</td>\n",
       "    </tr>\n",
       "    <tr>\n",
       "      <th>1</th>\n",
       "      <td>Kolkata_FMCG</td>\n",
       "      <td>925</td>\n",
       "      <td>NaN</td>\n",
       "      <td>676</td>\n",
       "      <td>NaN</td>\n",
       "      <td>1379.0</td>\n",
       "      <td>Kol</td>\n",
       "      <td>0</td>\n",
       "      <td>KFMC</td>\n",
       "      <td>Goods</td>\n",
       "      <td>Jan-20</td>\n",
       "    </tr>\n",
       "    <tr>\n",
       "      <th>2</th>\n",
       "      <td>NCR_Leagles</td>\n",
       "      <td>931</td>\n",
       "      <td>NaN</td>\n",
       "      <td>605</td>\n",
       "      <td>NaN</td>\n",
       "      <td>1935.0</td>\n",
       "      <td>NCR</td>\n",
       "      <td>0</td>\n",
       "      <td>NCRL</td>\n",
       "      <td>Services</td>\n",
       "      <td>Feb-60</td>\n",
       "    </tr>\n",
       "    <tr>\n",
       "      <th>3</th>\n",
       "      <td>Bangalore_Systems</td>\n",
       "      <td>900</td>\n",
       "      <td>NaN</td>\n",
       "      <td>650</td>\n",
       "      <td>Gov</td>\n",
       "      <td>1361.0</td>\n",
       "      <td>Blr</td>\n",
       "      <td>0</td>\n",
       "      <td>BSYS</td>\n",
       "      <td>Services</td>\n",
       "      <td>Apr-50</td>\n",
       "    </tr>\n",
       "    <tr>\n",
       "      <th>4</th>\n",
       "      <td>Chennai_Chemicals</td>\n",
       "      <td>966</td>\n",
       "      <td>863.2</td>\n",
       "      <td>608</td>\n",
       "      <td>Pub</td>\n",
       "      <td>1656.0</td>\n",
       "      <td>Che</td>\n",
       "      <td>1</td>\n",
       "      <td>CHEM</td>\n",
       "      <td>Goods</td>\n",
       "      <td>Aug-28</td>\n",
       "    </tr>\n",
       "    <tr>\n",
       "      <th>5</th>\n",
       "      <td>Indi_Services</td>\n",
       "      <td>954</td>\n",
       "      <td>733</td>\n",
       "      <td>609</td>\n",
       "      <td>Gov</td>\n",
       "      <td>NaN</td>\n",
       "      <td>NCR</td>\n",
       "      <td>0</td>\n",
       "      <td>INDI</td>\n",
       "      <td>Services</td>\n",
       "      <td>Mar-20</td>\n",
       "    </tr>\n",
       "    <tr>\n",
       "      <th>6</th>\n",
       "      <td>Bangalore_Breweries</td>\n",
       "      <td>966</td>\n",
       "      <td>NaN</td>\n",
       "      <td>895</td>\n",
       "      <td>NaN</td>\n",
       "      <td>119.0</td>\n",
       "      <td>Blr</td>\n",
       "      <td>1</td>\n",
       "      <td>BREW</td>\n",
       "      <td>Goods</td>\n",
       "      <td>Oct-71</td>\n",
       "    </tr>\n",
       "    <tr>\n",
       "      <th>7</th>\n",
       "      <td>NaN</td>\n",
       "      <td>899</td>\n",
       "      <td>NaN</td>\n",
       "      <td>674</td>\n",
       "      <td>Pub</td>\n",
       "      <td>NaN</td>\n",
       "      <td>Mum</td>\n",
       "      <td>0</td>\n",
       "      <td>BFIN</td>\n",
       "      <td>Services</td>\n",
       "      <td>Apr-25</td>\n",
       "    </tr>\n",
       "    <tr>\n",
       "      <th>8</th>\n",
       "      <td>Chennai_Shipping</td>\n",
       "      <td>992</td>\n",
       "      <td>821</td>\n",
       "      <td>665</td>\n",
       "      <td>NaN</td>\n",
       "      <td>NaN</td>\n",
       "      <td>Che</td>\n",
       "      <td>1</td>\n",
       "      <td>SHIP</td>\n",
       "      <td>Goods</td>\n",
       "      <td>Nov-30</td>\n",
       "    </tr>\n",
       "    <tr>\n",
       "      <th>9</th>\n",
       "      <td>Eastern_Estates</td>\n",
       "      <td>945</td>\n",
       "      <td>834.23</td>\n",
       "      <td>789</td>\n",
       "      <td>Pvt</td>\n",
       "      <td>1873.0</td>\n",
       "      <td>NaN</td>\n",
       "      <td>1</td>\n",
       "      <td>EEST</td>\n",
       "      <td>Goods</td>\n",
       "      <td>Jan-94</td>\n",
       "    </tr>\n",
       "    <tr>\n",
       "      <th>10</th>\n",
       "      <td>Indi_Services</td>\n",
       "      <td>954</td>\n",
       "      <td>733</td>\n",
       "      <td>609</td>\n",
       "      <td>Gov</td>\n",
       "      <td>NaN</td>\n",
       "      <td>NCR</td>\n",
       "      <td>0</td>\n",
       "      <td>INDI</td>\n",
       "      <td>Services</td>\n",
       "      <td>Mar-20</td>\n",
       "    </tr>\n",
       "  </tbody>\n",
       "</table>\n",
       "</div>"
      ],
      "text/plain": [
       "                    Vol  Rev       Exp  Sector EmpCnt      HQ  MNC  StockID  \\\n",
       "0       Deccan_Sporting  931  839.None     615    Pvt     NaN  Hyd        1   \n",
       "1          Kolkata_FMCG  925       NaN     676    NaN  1379.0  Kol        0   \n",
       "2           NCR_Leagles  931       NaN     605    NaN  1935.0  NCR        0   \n",
       "3     Bangalore_Systems  900       NaN     650    Gov  1361.0  Blr        0   \n",
       "4     Chennai_Chemicals  966     863.2     608    Pub  1656.0  Che        1   \n",
       "5         Indi_Services  954       733     609    Gov     NaN  NCR        0   \n",
       "6   Bangalore_Breweries  966       NaN     895    NaN   119.0  Blr        1   \n",
       "7                   NaN  899       NaN     674    Pub     NaN  Mum        0   \n",
       "8      Chennai_Shipping  992       821     665    NaN     NaN  Che        1   \n",
       "9       Eastern_Estates  945    834.23     789    Pvt  1873.0  NaN        1   \n",
       "10        Indi_Services  954       733     609    Gov     NaN  NCR        0   \n",
       "\n",
       "     GST   Started Listed Date  \n",
       "0   SPRT  Services      Mar-43  \n",
       "1   KFMC     Goods      Jan-20  \n",
       "2   NCRL  Services      Feb-60  \n",
       "3   BSYS  Services      Apr-50  \n",
       "4   CHEM     Goods      Aug-28  \n",
       "5   INDI  Services      Mar-20  \n",
       "6   BREW     Goods      Oct-71  \n",
       "7   BFIN  Services      Apr-25  \n",
       "8   SHIP     Goods      Nov-30  \n",
       "9   EEST     Goods      Jan-94  \n",
       "10  INDI  Services      Mar-20  "
      ]
     },
     "execution_count": 160,
     "metadata": {},
     "output_type": "execute_result"
    }
   ],
   "source": [
    "df1"
   ]
  },
  {
   "cell_type": "code",
   "execution_count": 164,
   "id": "a745b9ce-844d-489d-908a-e6e14802c237",
   "metadata": {},
   "outputs": [
    {
     "data": {
      "text/plain": [
       "0      4.0\n",
       "1      3.0\n",
       "2      4.0\n",
       "3      2.0\n",
       "4      9.0\n",
       "5      7.0\n",
       "6      9.0\n",
       "7      1.0\n",
       "8     11.0\n",
       "9      6.0\n",
       "10     7.0\n",
       "Name: Rev, dtype: float64"
      ]
     },
     "execution_count": 164,
     "metadata": {},
     "output_type": "execute_result"
    }
   ],
   "source": [
    "df1['Rev'].rank(method = 'min')"
   ]
  },
  {
   "cell_type": "code",
   "execution_count": 166,
   "id": "36f454e5-6122-4b04-b79d-6720b4b8fda3",
   "metadata": {},
   "outputs": [
    {
     "data": {
      "text/plain": [
       "0      5.0\n",
       "1      3.0\n",
       "2      5.0\n",
       "3      2.0\n",
       "4     10.0\n",
       "5      8.0\n",
       "6     10.0\n",
       "7      1.0\n",
       "8     11.0\n",
       "9      6.0\n",
       "10     8.0\n",
       "Name: Rev, dtype: float64"
      ]
     },
     "execution_count": 166,
     "metadata": {},
     "output_type": "execute_result"
    }
   ],
   "source": [
    "df1['Rev'].rank(method = 'max')"
   ]
  },
  {
   "cell_type": "code",
   "execution_count": 168,
   "id": "c6bd05f0-096e-49df-8ab4-7184c9f513f5",
   "metadata": {},
   "outputs": [
    {
     "data": {
      "text/plain": [
       "0     4.0\n",
       "1     3.0\n",
       "2     4.0\n",
       "3     2.0\n",
       "4     7.0\n",
       "5     6.0\n",
       "6     7.0\n",
       "7     1.0\n",
       "8     8.0\n",
       "9     5.0\n",
       "10    6.0\n",
       "Name: Rev, dtype: float64"
      ]
     },
     "execution_count": 168,
     "metadata": {},
     "output_type": "execute_result"
    }
   ],
   "source": [
    "df1['Rev'].rank(method = 'dense')"
   ]
  },
  {
   "cell_type": "code",
   "execution_count": null,
   "id": "2fb5f399-b24f-4afb-a4da-f023bb1f21da",
   "metadata": {},
   "outputs": [],
   "source": []
  },
  {
   "cell_type": "code",
   "execution_count": null,
   "id": "5b39a425-e880-47d4-b704-9b6b68fe71a1",
   "metadata": {},
   "outputs": [],
   "source": []
  },
  {
   "cell_type": "code",
   "execution_count": null,
   "id": "7dd582bf-e97d-4d54-afa2-1e7c41b56e73",
   "metadata": {},
   "outputs": [],
   "source": []
  },
  {
   "cell_type": "code",
   "execution_count": null,
   "id": "0440c580-9714-4eb8-abb0-fde043f43a4d",
   "metadata": {},
   "outputs": [],
   "source": []
  },
  {
   "cell_type": "code",
   "execution_count": null,
   "id": "f12c179c-aeda-4968-b267-d72253d0c6fa",
   "metadata": {},
   "outputs": [],
   "source": []
  },
  {
   "cell_type": "code",
   "execution_count": null,
   "id": "1e4fcc9e-49fa-47b9-96e9-3f6a2c32f1cf",
   "metadata": {},
   "outputs": [],
   "source": []
  },
  {
   "cell_type": "code",
   "execution_count": null,
   "id": "9dd57dbc-1606-436d-9127-8a77a3bb8ad8",
   "metadata": {},
   "outputs": [],
   "source": []
  },
  {
   "cell_type": "code",
   "execution_count": null,
   "id": "2991e269-38ff-44eb-96fa-0887bb93b9b4",
   "metadata": {},
   "outputs": [],
   "source": []
  },
  {
   "cell_type": "code",
   "execution_count": null,
   "id": "bd06edb0-b676-4f7a-941b-7990a3d8a740",
   "metadata": {},
   "outputs": [],
   "source": []
  },
  {
   "cell_type": "code",
   "execution_count": null,
   "id": "e23037e8-91aa-408f-abd8-cd8c6563b057",
   "metadata": {},
   "outputs": [],
   "source": []
  },
  {
   "cell_type": "code",
   "execution_count": null,
   "id": "965091a8-6215-49f8-8b6e-6a21a08a8ed0",
   "metadata": {},
   "outputs": [],
   "source": []
  },
  {
   "cell_type": "code",
   "execution_count": null,
   "id": "8f638152-b934-4941-b8fd-4202b84b2a97",
   "metadata": {},
   "outputs": [],
   "source": []
  },
  {
   "cell_type": "code",
   "execution_count": null,
   "id": "78eb5daf-b162-4dbb-a947-79561532851a",
   "metadata": {},
   "outputs": [],
   "source": []
  },
  {
   "cell_type": "code",
   "execution_count": null,
   "id": "0517f544-6c47-488d-8bcb-b18e75cf5b69",
   "metadata": {},
   "outputs": [],
   "source": []
  },
  {
   "cell_type": "code",
   "execution_count": null,
   "id": "a6f41e1c-a56f-42ad-be95-363a01555e66",
   "metadata": {},
   "outputs": [],
   "source": []
  },
  {
   "cell_type": "code",
   "execution_count": null,
   "id": "0152cad4-b49c-4cef-97ba-fd019cdf6f51",
   "metadata": {},
   "outputs": [],
   "source": []
  },
  {
   "cell_type": "code",
   "execution_count": null,
   "id": "96a71b06-fb23-4457-ae00-91b96ba3a2cd",
   "metadata": {},
   "outputs": [],
   "source": []
  },
  {
   "cell_type": "code",
   "execution_count": null,
   "id": "0e8fdace-16e0-4ca9-9b66-1ef2e53fb379",
   "metadata": {},
   "outputs": [],
   "source": []
  },
  {
   "cell_type": "code",
   "execution_count": null,
   "id": "f65c947c-7e10-457c-83b8-830335133865",
   "metadata": {},
   "outputs": [],
   "source": []
  },
  {
   "cell_type": "code",
   "execution_count": null,
   "id": "e7daa2f0-0723-4b74-8d8d-dca108cc1872",
   "metadata": {},
   "outputs": [],
   "source": []
  },
  {
   "cell_type": "code",
   "execution_count": null,
   "id": "82913773-ece1-41e7-9277-9abae12ce1cb",
   "metadata": {},
   "outputs": [],
   "source": []
  },
  {
   "cell_type": "code",
   "execution_count": null,
   "id": "fbca5df4-4891-4913-8a78-20b8171b27d0",
   "metadata": {},
   "outputs": [],
   "source": []
  },
  {
   "cell_type": "code",
   "execution_count": null,
   "id": "3dfee14a-647a-4695-b7de-4e5a9d344cb2",
   "metadata": {},
   "outputs": [],
   "source": []
  },
  {
   "cell_type": "code",
   "execution_count": null,
   "id": "b8621985-2d42-4f4c-b336-a9b7502ec7e1",
   "metadata": {},
   "outputs": [],
   "source": []
  },
  {
   "cell_type": "code",
   "execution_count": null,
   "id": "6f6d483e-3efa-47e0-b9dc-a87d8e12aca4",
   "metadata": {},
   "outputs": [],
   "source": []
  },
  {
   "cell_type": "code",
   "execution_count": null,
   "id": "f459a716-fa83-42c7-9fba-ed1890e36806",
   "metadata": {},
   "outputs": [],
   "source": []
  },
  {
   "cell_type": "code",
   "execution_count": null,
   "id": "7159de21-673a-4044-9a67-4e4bbed9e378",
   "metadata": {},
   "outputs": [],
   "source": []
  },
  {
   "cell_type": "code",
   "execution_count": null,
   "id": "3eef73d6-28ea-4546-9350-d1037e2383dd",
   "metadata": {},
   "outputs": [],
   "source": []
  }
 ],
 "metadata": {
  "kernelspec": {
   "display_name": "Python 3 (ipykernel)",
   "language": "python",
   "name": "python3"
  },
  "language_info": {
   "codemirror_mode": {
    "name": "ipython",
    "version": 3
   },
   "file_extension": ".py",
   "mimetype": "text/x-python",
   "name": "python",
   "nbconvert_exporter": "python",
   "pygments_lexer": "ipython3",
   "version": "3.12.4"
  }
 },
 "nbformat": 4,
 "nbformat_minor": 5
}
