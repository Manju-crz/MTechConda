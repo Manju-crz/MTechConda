{
 "cells": [
  {
   "cell_type": "code",
   "execution_count": 1,
   "id": "e694ef5e-9087-423d-8112-9e444a939033",
   "metadata": {},
   "outputs": [
    {
     "name": "stdout",
     "output_type": "stream",
     "text": [
      "sad\n"
     ]
    }
   ],
   "source": [
    "print(\"sad\")"
   ]
  },
  {
   "cell_type": "code",
   "execution_count": 7,
   "id": "8b2b9142-50ce-4393-8493-f0341659b354",
   "metadata": {},
   "outputs": [],
   "source": [
    "a = 20\n",
    "b = 10\n",
    "r1 = a/b\n",
    "r2 = a//b"
   ]
  },
  {
   "cell_type": "code",
   "execution_count": 9,
   "id": "8cd10803-3959-427d-a758-34e2f978648d",
   "metadata": {},
   "outputs": [
    {
     "data": {
      "text/plain": [
       "float"
      ]
     },
     "execution_count": 9,
     "metadata": {},
     "output_type": "execute_result"
    }
   ],
   "source": [
    "type(r1)"
   ]
  },
  {
   "cell_type": "code",
   "execution_count": 11,
   "id": "48c8b26a-5a75-452b-b057-4e12199e1807",
   "metadata": {},
   "outputs": [
    {
     "data": {
      "text/plain": [
       "int"
      ]
     },
     "execution_count": 11,
     "metadata": {},
     "output_type": "execute_result"
    }
   ],
   "source": [
    "type(r2)"
   ]
  },
  {
   "cell_type": "code",
   "execution_count": 13,
   "id": "74daeb4c-18d1-4365-a203-9f269d999218",
   "metadata": {},
   "outputs": [
    {
     "data": {
      "text/plain": [
       "dict_items([('name', 'manju'), ('age', 37), ('designation', 'se')])"
      ]
     },
     "execution_count": 13,
     "metadata": {},
     "output_type": "execute_result"
    }
   ],
   "source": [
    "dict = {\n",
    "    \"name\" : \"manju\",\n",
    "    \"age\" : 37,\n",
    "    \"designation\" : \"se\"\n",
    "}\n",
    "\n",
    "dict.items()"
   ]
  },
  {
   "cell_type": "code",
   "execution_count": 15,
   "id": "7705fb22-1b91-4f07-b974-b2e68ddb7e4d",
   "metadata": {},
   "outputs": [
    {
     "name": "stdout",
     "output_type": "stream",
     "text": [
      "key is  name\n",
      "value is  manju\n",
      "key is  age\n",
      "value is  37\n",
      "key is  designation\n",
      "value is  se\n"
     ]
    }
   ],
   "source": [
    "for key , value in dict.items() :\n",
    "    print(\"key is \", key)\n",
    "    print(\"value is \", value)"
   ]
  },
  {
   "cell_type": "code",
   "execution_count": 19,
   "id": "01dfb508-8493-4417-9a63-5ffa63a86a9a",
   "metadata": {},
   "outputs": [
    {
     "data": {
      "text/plain": [
       "dict"
      ]
     },
     "execution_count": 19,
     "metadata": {},
     "output_type": "execute_result"
    }
   ],
   "source": [
    "dict1 = {}\n",
    "type(dict1)"
   ]
  },
  {
   "cell_type": "code",
   "execution_count": 21,
   "id": "3abbcc0e-435c-4d56-a306-f778373fa15a",
   "metadata": {},
   "outputs": [
    {
     "data": {
      "text/plain": [
       "set"
      ]
     },
     "execution_count": 21,
     "metadata": {},
     "output_type": "execute_result"
    }
   ],
   "source": [
    "myset = set()\n",
    "type(myset)"
   ]
  },
  {
   "cell_type": "code",
   "execution_count": null,
   "id": "66e19971-b032-4d91-ab16-3d93e4c524d7",
   "metadata": {},
   "outputs": [],
   "source": []
  },
  {
   "cell_type": "code",
   "execution_count": 5,
   "id": "ddda7b58-a03c-43ce-843f-5f3f8e0a1dec",
   "metadata": {},
   "outputs": [
    {
     "name": "stdout",
     "output_type": "stream",
     "text": [
      "global\n"
     ]
    }
   ],
   "source": [
    "x = \"global\"\n",
    "def inside_func():\n",
    "    print(x)\n",
    "inside_func()"
   ]
  },
  {
   "cell_type": "code",
   "execution_count": null,
   "id": "0157cfab-e7c8-4241-bb27-b7078b056f9c",
   "metadata": {},
   "outputs": [],
   "source": []
  },
  {
   "cell_type": "code",
   "execution_count": 11,
   "id": "a15b97b8-fec5-487f-9656-6ca72eed8bd7",
   "metadata": {},
   "outputs": [
    {
     "data": {
      "text/plain": [
       "[4, 6, 4, 108, 134, 8]"
      ]
     },
     "execution_count": 11,
     "metadata": {},
     "output_type": "execute_result"
    }
   ],
   "source": [
    "list1 = [2,3,2,54,67,4]\n",
    "lmd1 = map(lambda x : x*2, list1)\n",
    "list(lmd1)"
   ]
  },
  {
   "cell_type": "code",
   "execution_count": null,
   "id": "722aaff1-9034-4ed5-bca7-45617dff5df1",
   "metadata": {},
   "outputs": [],
   "source": [
    "list1 = [2,3,2,54,67,4]\n",
    "lmd1 = map(lambda x : x*2, list1)\n",
    "list(lmd1)"
   ]
  },
  {
   "cell_type": "code",
   "execution_count": 25,
   "id": "fbdbc30a-a067-48cb-8892-926389e7adbf",
   "metadata": {},
   "outputs": [],
   "source": [
    "dict1 = {\n",
    "    \"name\" : \"manju\",\n",
    "    \"age\" : 37,\n",
    "    \"designation\" : \"se\"\n",
    "}\n",
    "d1 = map(lambda x : x, dict1)\n",
    "list2 = list(d1)"
   ]
  },
  {
   "cell_type": "code",
   "execution_count": 31,
   "id": "df7dd18a-853e-45f6-83b1-7b73111b3efc",
   "metadata": {},
   "outputs": [
    {
     "data": {
      "text/plain": [
       "[4, 6, 4, 108, 134, 8]"
      ]
     },
     "execution_count": 31,
     "metadata": {},
     "output_type": "execute_result"
    }
   ],
   "source": [
    "tp1 = (2,3,2,54,67,4)\n",
    "m2 = map(lambda x : x * 2 , tp1)\n",
    "list(m2)"
   ]
  },
  {
   "cell_type": "code",
   "execution_count": 41,
   "id": "19953934-ecfc-4c2c-8146-d2a10f9caa73",
   "metadata": {},
   "outputs": [
    {
     "data": {
      "text/plain": [
       "[2, 2, 54, 4]"
      ]
     },
     "execution_count": 41,
     "metadata": {},
     "output_type": "execute_result"
    }
   ],
   "source": [
    "f1 = filter(lambda x : x%2==0 , tp1)\n",
    "list(f1)"
   ]
  },
  {
   "cell_type": "code",
   "execution_count": 43,
   "id": "904979b4-cf36-4af3-851f-a3209d5c4f14",
   "metadata": {},
   "outputs": [],
   "source": [
    "from functools import reduce"
   ]
  },
  {
   "cell_type": "code",
   "execution_count": 51,
   "id": "3e762021-fa85-4481-b826-181a73c60942",
   "metadata": {},
   "outputs": [
    {
     "data": {
      "text/plain": [
       "10"
      ]
     },
     "execution_count": 51,
     "metadata": {},
     "output_type": "execute_result"
    }
   ],
   "source": [
    "tp2 = (1,2,3,4)\n",
    "r1 = reduce(lambda x,y : x+y, tp2)\n",
    "r1"
   ]
  },
  {
   "cell_type": "code",
   "execution_count": 53,
   "id": "f73436dc-34be-4844-866d-a18967345f24",
   "metadata": {},
   "outputs": [],
   "source": [
    "from itertools import accumulate\n",
    "a1 = accumulate(tp2, lambda x,y : x+y)"
   ]
  },
  {
   "cell_type": "code",
   "execution_count": 57,
   "id": "e3f1c47a-05a1-48bc-a209-e4cab429e3fa",
   "metadata": {},
   "outputs": [
    {
     "data": {
      "text/plain": [
       "[1, 3, 6, 10]"
      ]
     },
     "execution_count": 57,
     "metadata": {},
     "output_type": "execute_result"
    }
   ],
   "source": [
    "list(a1)"
   ]
  },
  {
   "cell_type": "code",
   "execution_count": null,
   "id": "a0ecdc30-053a-4dfd-b882-4beb2f1a9686",
   "metadata": {},
   "outputs": [],
   "source": []
  },
  {
   "cell_type": "code",
   "execution_count": null,
   "id": "cc598de4-aa4b-4c02-a997-482b23f1682c",
   "metadata": {},
   "outputs": [],
   "source": []
  },
  {
   "cell_type": "code",
   "execution_count": null,
   "id": "a53fe391-5bdf-4414-8aff-125ac0927f94",
   "metadata": {},
   "outputs": [],
   "source": []
  },
  {
   "cell_type": "code",
   "execution_count": null,
   "id": "50f683e1-3fa4-44ab-8295-c0f3bff8a06f",
   "metadata": {},
   "outputs": [],
   "source": []
  },
  {
   "cell_type": "code",
   "execution_count": null,
   "id": "1ab035fa-ec29-445b-ae94-f794a96bcc5e",
   "metadata": {},
   "outputs": [],
   "source": []
  },
  {
   "cell_type": "code",
   "execution_count": null,
   "id": "c93d1c3d-4665-47b0-9589-bab540674d67",
   "metadata": {},
   "outputs": [],
   "source": []
  },
  {
   "cell_type": "code",
   "execution_count": null,
   "id": "37eeedda-2a64-4b7c-a5b7-cf95885d2c57",
   "metadata": {},
   "outputs": [],
   "source": []
  },
  {
   "cell_type": "code",
   "execution_count": null,
   "id": "f51a590d-2fa5-414b-8141-498028954003",
   "metadata": {},
   "outputs": [],
   "source": []
  },
  {
   "cell_type": "code",
   "execution_count": null,
   "id": "e4fd5b47-d4b1-4e58-b388-b5633871bd84",
   "metadata": {},
   "outputs": [],
   "source": []
  },
  {
   "cell_type": "code",
   "execution_count": null,
   "id": "1ea790f2-c83b-4f1b-ab7c-28c4e7241e56",
   "metadata": {},
   "outputs": [],
   "source": []
  },
  {
   "cell_type": "code",
   "execution_count": null,
   "id": "8206ec4d-f582-4f72-98f6-b6fac487881a",
   "metadata": {},
   "outputs": [],
   "source": []
  },
  {
   "cell_type": "code",
   "execution_count": null,
   "id": "0692cbd0-d075-481e-9216-353639b5e03e",
   "metadata": {},
   "outputs": [],
   "source": []
  },
  {
   "cell_type": "code",
   "execution_count": null,
   "id": "b77755ca-7b80-4b94-8d23-608652e45d45",
   "metadata": {},
   "outputs": [],
   "source": []
  },
  {
   "cell_type": "code",
   "execution_count": null,
   "id": "db68d46e-4625-4d04-9049-d1c4eb38a6f2",
   "metadata": {},
   "outputs": [],
   "source": []
  },
  {
   "cell_type": "code",
   "execution_count": null,
   "id": "3e30aa7e-258a-4fd4-b776-6db1f09d89cf",
   "metadata": {},
   "outputs": [],
   "source": []
  },
  {
   "cell_type": "code",
   "execution_count": null,
   "id": "49409af8-1e68-4abc-b408-ef28f6035f1d",
   "metadata": {},
   "outputs": [],
   "source": []
  },
  {
   "cell_type": "code",
   "execution_count": null,
   "id": "ef9df21f-80a2-4242-bb30-c82aafb513d7",
   "metadata": {},
   "outputs": [],
   "source": []
  },
  {
   "cell_type": "code",
   "execution_count": null,
   "id": "6170b2d3-3f14-4ff9-94b9-2cc7bd49b280",
   "metadata": {},
   "outputs": [],
   "source": []
  },
  {
   "cell_type": "code",
   "execution_count": null,
   "id": "1000ce21-ae2f-4985-be68-60f25e8b5601",
   "metadata": {},
   "outputs": [],
   "source": []
  },
  {
   "cell_type": "code",
   "execution_count": null,
   "id": "0346072e-03ec-4e21-8be6-6e42e3ec82ac",
   "metadata": {},
   "outputs": [],
   "source": []
  }
 ],
 "metadata": {
  "kernelspec": {
   "display_name": "Python 3 (ipykernel)",
   "language": "python",
   "name": "python3"
  },
  "language_info": {
   "codemirror_mode": {
    "name": "ipython",
    "version": 3
   },
   "file_extension": ".py",
   "mimetype": "text/x-python",
   "name": "python",
   "nbconvert_exporter": "python",
   "pygments_lexer": "ipython3",
   "version": "3.12.4"
  }
 },
 "nbformat": 4,
 "nbformat_minor": 5
}
