{
 "cells": [
  {
   "cell_type": "code",
   "execution_count": 75,
   "id": "5a171d80-d78c-4240-a5c6-f32404f5f031",
   "metadata": {},
   "outputs": [],
   "source": [
    "import numpy as np\n",
    "from scipy.signal import convolve2d "
   ]
  },
  {
   "cell_type": "code",
   "execution_count": 5,
   "id": "e38646e2-24c9-43fd-91e3-936b28903f28",
   "metadata": {},
   "outputs": [
    {
     "name": "stdout",
     "output_type": "stream",
     "text": [
      "theta_radians is  1.5707963267948966\n",
      "cos(90) = 6.123233995736766e-17\n"
     ]
    }
   ],
   "source": [
    "\n",
    "# Given theta in degrees\n",
    "theta = 90\n",
    "\n",
    "# Convert degrees to radians\n",
    "theta_radians = np.radians(theta)\n",
    "print(\"theta_radians is \", theta_radians)\n",
    "\n",
    "# Compute cosine value\n",
    "cos_theta = np.cos(theta_radians)\n",
    "\n",
    "print(f\"cos({theta}) = {cos_theta}\")"
   ]
  },
  {
   "cell_type": "code",
   "execution_count": 7,
   "id": "18d5d1ec-3ab0-43c4-9269-04571f4f9a24",
   "metadata": {},
   "outputs": [
    {
     "name": "stdout",
     "output_type": "stream",
     "text": [
      "cos(90) = 6.123233995736766e-17\n"
     ]
    }
   ],
   "source": [
    "theta = 90\n",
    "cos_theta = np.cos(np.radians(theta))  # Convert degrees to radians before using np.cos\n",
    "print(f\"cos({theta}) = {cos_theta}\")"
   ]
  },
  {
   "cell_type": "code",
   "execution_count": 15,
   "id": "b5d49d75-c24f-44df-a34d-7d5045eb1362",
   "metadata": {},
   "outputs": [
    {
     "name": "stdout",
     "output_type": "stream",
     "text": [
      "The sum of vectors a and b is: 32\n"
     ]
    }
   ],
   "source": [
    "# Given vectors\n",
    "a = np.array([1, 2, 3])\n",
    "b = np.array([4, 5, 6])\n",
    "\n",
    "# Vector addition\n",
    "result = np.dot(a,b)\n",
    "\n",
    "print(f\"The sum of vectors a and b is: {result}\")"
   ]
  },
  {
   "cell_type": "code",
   "execution_count": 17,
   "id": "b5cf69aa-d180-4f71-825c-e9e22f713ed6",
   "metadata": {},
   "outputs": [
    {
     "name": "stdout",
     "output_type": "stream",
     "text": [
      "The cross of vectors a and b is: [-3  6 -3]\n"
     ]
    }
   ],
   "source": [
    "result = np.cross(a,b)\n",
    "print(f\"The cross of vectors a and b is: {result}\")"
   ]
  },
  {
   "cell_type": "code",
   "execution_count": null,
   "id": "557cd04a-1623-4d64-90cb-91e9251888ed",
   "metadata": {},
   "outputs": [],
   "source": []
  },
  {
   "cell_type": "code",
   "execution_count": 37,
   "id": "2f228205-3b67-404d-99ea-c9a19d9b7674",
   "metadata": {},
   "outputs": [
    {
     "data": {
      "text/plain": [
       "array([[[2, 3, 1],\n",
       "        [4, 5, 6],\n",
       "        [7, 8, 9]]])"
      ]
     },
     "execution_count": 37,
     "metadata": {},
     "output_type": "execute_result"
    }
   ],
   "source": [
    "matrix = [[2, 3, 1], [4, 5, 6], [7, 8, 9]]\n",
    "matrix = np.array([matrix])\n",
    "matrix"
   ]
  },
  {
   "cell_type": "code",
   "execution_count": 39,
   "id": "a573a66a-eb9b-47d8-83bb-e3fbba7e0ab1",
   "metadata": {},
   "outputs": [],
   "source": [
    "inv_matrix = np.linalg.inv(matrix)"
   ]
  },
  {
   "cell_type": "code",
   "execution_count": 41,
   "id": "17d82fa1-4201-4f54-94e7-4e7207c66875",
   "metadata": {},
   "outputs": [
    {
     "data": {
      "text/plain": [
       "array([[[-0.3333, -2.1111,  1.4444],\n",
       "        [ 0.6667,  1.2222, -0.8889],\n",
       "        [-0.3333,  0.5556, -0.2222]]])"
      ]
     },
     "execution_count": 41,
     "metadata": {},
     "output_type": "execute_result"
    }
   ],
   "source": [
    "np.round(inv_matrix, 4)"
   ]
  },
  {
   "cell_type": "code",
   "execution_count": 43,
   "id": "2e1e1aa7-a4ef-4df3-b6e2-05dfddc7529c",
   "metadata": {},
   "outputs": [
    {
     "data": {
      "text/plain": [
       "array([[-1.,  1.,  0.]])"
      ]
     },
     "execution_count": 43,
     "metadata": {},
     "output_type": "execute_result"
    }
   ],
   "source": [
    "contracted_tensor = np.einsum('ijk->ij', inv_matrix)\n",
    "contracted_tensor"
   ]
  },
  {
   "cell_type": "code",
   "execution_count": null,
   "id": "8367955a-ef2a-4e65-adc4-9b44e57050b6",
   "metadata": {},
   "outputs": [],
   "source": []
  },
  {
   "cell_type": "code",
   "execution_count": 51,
   "id": "b3c2c87c-40d9-495e-9753-25d4a62c8eba",
   "metadata": {},
   "outputs": [
    {
     "name": "stdout",
     "output_type": "stream",
     "text": [
      "Eigenvalues of the given matrix:\n",
      "[3. 2.]\n"
     ]
    }
   ],
   "source": [
    "def compute_eigenvalues(matrix):\n",
    "    matrix = np.array(matrix, dtype=np.float64)\n",
    "    eigenvalues = np.linalg.eigvals(matrix)\n",
    "    return eigenvalues\n",
    "\n",
    "# Example matrix\n",
    "matrix = [[4, -2], \n",
    "          [1, 1]]\n",
    "\n",
    "# Compute eigenvalues\n",
    "eigenvalues = compute_eigenvalues(matrix)\n",
    "print(\"Eigenvalues of the given matrix:\")\n",
    "print(eigenvalues)"
   ]
  },
  {
   "cell_type": "code",
   "execution_count": 53,
   "id": "d9b4fa00-6a8b-4034-a810-b157f4546787",
   "metadata": {},
   "outputs": [
    {
     "name": "stdout",
     "output_type": "stream",
     "text": [
      "Eigenvalues of the given matrix:\n",
      "[3. 2.]\n",
      "\n",
      "Eigenvectors of the given matrix:\n",
      "[[0.89442719 0.70710678]\n",
      " [0.4472136  0.70710678]]\n"
     ]
    }
   ],
   "source": [
    "eigenvalues, eigenvectors = np.linalg.eig(matrix)\n",
    "print(\"Eigenvalues of the given matrix:\")\n",
    "print(eigenvalues)\n",
    "\n",
    "print(\"\\nEigenvectors of the given matrix:\")\n",
    "print(eigenvectors)"
   ]
  },
  {
   "cell_type": "code",
   "execution_count": null,
   "id": "de6f4a9f-921a-41b7-8b93-389da34f2b34",
   "metadata": {},
   "outputs": [],
   "source": []
  },
  {
   "cell_type": "code",
   "execution_count": 65,
   "id": "13be6e14-3074-475a-b389-d136acd46359",
   "metadata": {},
   "outputs": [
    {
     "data": {
      "text/plain": [
       "array([[100.  ,  46.25],\n",
       "       [ 46.25,  23.7 ]])"
      ]
     },
     "execution_count": 65,
     "metadata": {},
     "output_type": "execute_result"
    }
   ],
   "source": [
    "weight = [120, 125, 125, 135, 145]\n",
    "height = [61, 60, 64, 67, 72]\n",
    "sample = np.array([weight, height])\n",
    "np.cov(sample, bias = False)"
   ]
  },
  {
   "cell_type": "code",
   "execution_count": null,
   "id": "2afb2189-4929-4e78-8db4-6ac16bae7996",
   "metadata": {},
   "outputs": [],
   "source": []
  },
  {
   "cell_type": "code",
   "execution_count": null,
   "id": "5592cc3f-cdfb-4679-881a-8f02a3e7ef7a",
   "metadata": {},
   "outputs": [],
   "source": []
  },
  {
   "cell_type": "code",
   "execution_count": 91,
   "id": "27b7d99f-25a6-43c6-9fb1-47979fbcacee",
   "metadata": {},
   "outputs": [
    {
     "data": {
      "text/plain": [
       "array([[0, 0],\n",
       "       [0, 0]])"
      ]
     },
     "execution_count": 91,
     "metadata": {},
     "output_type": "execute_result"
    }
   ],
   "source": [
    "\n",
    "input_matrix = np.array([[1,2,3], [4,5,6], [7,8,9]])\n",
    "kernel = np.array([[1,-1], [-1,1]])\n",
    "result = convolve2d(input_matrix, kernel, mode='valid')\n",
    "result"
   ]
  },
  {
   "cell_type": "code",
   "execution_count": null,
   "id": "225f1a9e-0498-4610-909d-84f755246451",
   "metadata": {},
   "outputs": [],
   "source": []
  },
  {
   "cell_type": "code",
   "execution_count": 98,
   "id": "c393a6e8-092b-4b29-bd1f-059962921d2d",
   "metadata": {},
   "outputs": [],
   "source": [
    "x = np.array([1, 2, 3, 4, 5])\n",
    "y = np.array([2, 4, 6, 8, 10])\n",
    "\n",
    "# Compute covariance matrix\n",
    "cov_matrix = np.cov(x, y)"
   ]
  },
  {
   "cell_type": "code",
   "execution_count": 100,
   "id": "cc775908-9478-4eda-ac18-0cb591f4f799",
   "metadata": {},
   "outputs": [
    {
     "data": {
      "text/plain": [
       "array([[ 2.5,  5. ],\n",
       "       [ 5. , 10. ]])"
      ]
     },
     "execution_count": 100,
     "metadata": {},
     "output_type": "execute_result"
    }
   ],
   "source": [
    "cov_matrix"
   ]
  },
  {
   "cell_type": "code",
   "execution_count": null,
   "id": "53c307f3-e7a4-4e73-837b-2771a058bf53",
   "metadata": {},
   "outputs": [],
   "source": []
  },
  {
   "cell_type": "code",
   "execution_count": null,
   "id": "0f8a3ec1-5bd9-44ee-9fb4-330574798a4c",
   "metadata": {},
   "outputs": [],
   "source": []
  },
  {
   "cell_type": "code",
   "execution_count": 105,
   "id": "eb1fa678-6234-49ed-b0e4-ebba4a3e9ebd",
   "metadata": {},
   "outputs": [],
   "source": [
    "arr1 = np.array([[1,2,3],[4,5,6],[7,8,9]])"
   ]
  },
  {
   "cell_type": "code",
   "execution_count": 109,
   "id": "ee0d06e4-8b07-4ffa-962e-69091ea57bb9",
   "metadata": {},
   "outputs": [],
   "source": [
    "u, s, vt = np.linalg.svd(arr1)"
   ]
  },
  {
   "cell_type": "code",
   "execution_count": 111,
   "id": "13ec04d6-b4e9-4fba-bf78-f1fceaac962e",
   "metadata": {},
   "outputs": [
    {
     "data": {
      "text/plain": [
       "array([[-0.21483724,  0.88723069,  0.40824829],\n",
       "       [-0.52058739,  0.24964395, -0.81649658],\n",
       "       [-0.82633754, -0.38794278,  0.40824829]])"
      ]
     },
     "execution_count": 111,
     "metadata": {},
     "output_type": "execute_result"
    }
   ],
   "source": [
    "u"
   ]
  },
  {
   "cell_type": "code",
   "execution_count": 119,
   "id": "87becd5e-dee2-4c4e-8366-c77544073dd6",
   "metadata": {},
   "outputs": [],
   "source": [
    "s = np.round(s, 4)"
   ]
  },
  {
   "cell_type": "code",
   "execution_count": 121,
   "id": "8ca7d8d3-ddb9-40b4-98b6-5fc3af91ee48",
   "metadata": {},
   "outputs": [
    {
     "data": {
      "text/plain": [
       "array([16.8481,  1.0684,  0.    ])"
      ]
     },
     "execution_count": 121,
     "metadata": {},
     "output_type": "execute_result"
    }
   ],
   "source": [
    "s"
   ]
  },
  {
   "cell_type": "code",
   "execution_count": 115,
   "id": "999a469a-eb39-4eab-94ee-75cf8df35a7e",
   "metadata": {},
   "outputs": [
    {
     "data": {
      "text/plain": [
       "array([[-0.47967118, -0.57236779, -0.66506441],\n",
       "       [-0.77669099, -0.07568647,  0.62531805],\n",
       "       [-0.40824829,  0.81649658, -0.40824829]])"
      ]
     },
     "execution_count": 115,
     "metadata": {},
     "output_type": "execute_result"
    }
   ],
   "source": [
    "vt"
   ]
  },
  {
   "cell_type": "code",
   "execution_count": null,
   "id": "c0423d23-db56-4eac-88b3-f04b43b2868f",
   "metadata": {},
   "outputs": [],
   "source": []
  },
  {
   "cell_type": "code",
   "execution_count": null,
   "id": "ac78c607-0df9-47dc-abf4-d543c259960e",
   "metadata": {},
   "outputs": [],
   "source": []
  },
  {
   "cell_type": "code",
   "execution_count": 123,
   "id": "fda4bb67-4edd-40bb-ba9f-0c0eab6526fb",
   "metadata": {},
   "outputs": [],
   "source": [
    "import sympy as sp"
   ]
  },
  {
   "cell_type": "code",
   "execution_count": 125,
   "id": "968eeaaa-c9c2-4d3d-8d3e-d2bd9c62d28c",
   "metadata": {},
   "outputs": [],
   "source": [
    "x, y = sp.symbols('x y')"
   ]
  },
  {
   "cell_type": "code",
   "execution_count": 127,
   "id": "07b26aa5-5c0f-408d-9dce-85af18856d85",
   "metadata": {},
   "outputs": [],
   "source": [
    "f1 = x**2 + y**2"
   ]
  },
  {
   "cell_type": "code",
   "execution_count": 131,
   "id": "18d26d30-5388-4af7-afa3-b7f0f067434f",
   "metadata": {},
   "outputs": [
    {
     "data": {
      "text/latex": [
       "$\\displaystyle 2 x$"
      ],
      "text/plain": [
       "2*x"
      ]
     },
     "execution_count": 131,
     "metadata": {},
     "output_type": "execute_result"
    }
   ],
   "source": [
    "sp.diff(f1, x)"
   ]
  },
  {
   "cell_type": "code",
   "execution_count": 133,
   "id": "d653a714-f0b4-4b4b-9582-fa883d3ff5e5",
   "metadata": {},
   "outputs": [
    {
     "data": {
      "text/latex": [
       "$\\displaystyle 2 y$"
      ],
      "text/plain": [
       "2*y"
      ]
     },
     "execution_count": 133,
     "metadata": {},
     "output_type": "execute_result"
    }
   ],
   "source": [
    "sp.diff(f1, y)"
   ]
  },
  {
   "cell_type": "code",
   "execution_count": null,
   "id": "9bca0214-87a0-4fc7-b9b4-9eb440ad9127",
   "metadata": {},
   "outputs": [],
   "source": []
  },
  {
   "cell_type": "code",
   "execution_count": null,
   "id": "1b6321c0-c848-4ee2-b425-8ba8f063d22a",
   "metadata": {},
   "outputs": [],
   "source": []
  },
  {
   "cell_type": "code",
   "execution_count": null,
   "id": "d9559d50-9956-4be8-8821-39ea0f87caa4",
   "metadata": {},
   "outputs": [],
   "source": []
  }
 ],
 "metadata": {
  "kernelspec": {
   "display_name": "Python 3 (ipykernel)",
   "language": "python",
   "name": "python3"
  },
  "language_info": {
   "codemirror_mode": {
    "name": "ipython",
    "version": 3
   },
   "file_extension": ".py",
   "mimetype": "text/x-python",
   "name": "python",
   "nbconvert_exporter": "python",
   "pygments_lexer": "ipython3",
   "version": "3.12.4"
  }
 },
 "nbformat": 4,
 "nbformat_minor": 5
}
