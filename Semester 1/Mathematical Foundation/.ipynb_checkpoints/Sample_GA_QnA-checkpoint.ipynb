{
 "cells": [
  {
   "cell_type": "markdown",
   "id": "f18de8db-0d4f-40ca-86a6-32b9499b2b60",
   "metadata": {},
   "source": [
    "1. Calculate the following for the matrix A,B,C and D where I is 3 by 3 Identity matrix\n",
    "|A+I|; BC; AB; A2; Value of D2−5D−2I\n",
    "A=[[5 4 0],[6 7 3],[2 19 12]]\n",
    "B=[14 4 5]\n",
    "C=[1 2 3]\n",
    "D=[[1 3],[2 4]]"
   ]
  },
  {
   "cell_type": "code",
   "execution_count": 14,
   "id": "c405e302-4977-405c-966b-cd789830869c",
   "metadata": {},
   "outputs": [],
   "source": [
    "import numpy as np"
   ]
  },
  {
   "cell_type": "code",
   "execution_count": 7,
   "id": "26da8079-bfc9-48be-86e4-8f20a50c1fcb",
   "metadata": {},
   "outputs": [
    {
     "data": {
      "application/javascript": [
       "\n",
       "        if (window._pyforest_update_imports_cell) { window._pyforest_update_imports_cell('import numpy as np'); }\n",
       "    "
      ],
      "text/plain": [
       "<IPython.core.display.Javascript object>"
      ]
     },
     "metadata": {},
     "output_type": "display_data"
    },
    {
     "data": {
      "application/javascript": [
       "\n",
       "        if (window._pyforest_update_imports_cell) { window._pyforest_update_imports_cell('import numpy as np'); }\n",
       "    "
      ],
      "text/plain": [
       "<IPython.core.display.Javascript object>"
      ]
     },
     "metadata": {},
     "output_type": "display_data"
    },
    {
     "data": {
      "application/javascript": [
       "\n",
       "        if (window._pyforest_update_imports_cell) { window._pyforest_update_imports_cell('import numpy as np'); }\n",
       "    "
      ],
      "text/plain": [
       "<IPython.core.display.Javascript object>"
      ]
     },
     "metadata": {},
     "output_type": "display_data"
    },
    {
     "data": {
      "application/javascript": [
       "\n",
       "        if (window._pyforest_update_imports_cell) { window._pyforest_update_imports_cell('import numpy as np'); }\n",
       "    "
      ],
      "text/plain": [
       "<IPython.core.display.Javascript object>"
      ]
     },
     "metadata": {},
     "output_type": "display_data"
    }
   ],
   "source": [
    "A = np.array([[5, 6, 2], [4, 7, 19],[0, 3, 12]])\n",
    "B = np.array([14, 4, 5])\n",
    "C = np.array([1,2,3])\n",
    "D = np.array([[1,2],[3,4]])"
   ]
  },
  {
   "cell_type": "code",
   "execution_count": 10,
   "id": "58aebe8e-c0c6-41cb-bf4a-0da2b1ed8655",
   "metadata": {},
   "outputs": [
    {
     "data": {
      "application/javascript": [
       "\n",
       "        if (window._pyforest_update_imports_cell) { window._pyforest_update_imports_cell('import numpy as np'); }\n",
       "    "
      ],
      "text/plain": [
       "<IPython.core.display.Javascript object>"
      ]
     },
     "metadata": {},
     "output_type": "display_data"
    },
    {
     "data": {
      "application/javascript": [
       "\n",
       "        if (window._pyforest_update_imports_cell) { window._pyforest_update_imports_cell('import numpy as np'); }\n",
       "    "
      ],
      "text/plain": [
       "<IPython.core.display.Javascript object>"
      ]
     },
     "metadata": {},
     "output_type": "display_data"
    }
   ],
   "source": [
    "I= np.identity(3)\n",
    "I2= np.identity(2)"
   ]
  },
  {
   "cell_type": "code",
   "execution_count": 12,
   "id": "38197a73-39f5-43ac-b1ec-42f6be56a5b1",
   "metadata": {},
   "outputs": [
    {
     "data": {
      "application/javascript": [
       "\n",
       "        if (window._pyforest_update_imports_cell) { window._pyforest_update_imports_cell('import numpy as np'); }\n",
       "    "
      ],
      "text/plain": [
       "<IPython.core.display.Javascript object>"
      ]
     },
     "metadata": {},
     "output_type": "display_data"
    },
    {
     "name": "stdout",
     "output_type": "stream",
     "text": [
      "|A+I|= : -5.999999999999998\n"
     ]
    }
   ],
   "source": [
    "det= np.linalg.det(A+I)     \n",
    "print(\"|A+I|= :\" , det)"
   ]
  },
  {
   "cell_type": "code",
   "execution_count": 16,
   "id": "868df273-c421-4d04-9346-ecae2d18de97",
   "metadata": {},
   "outputs": [
    {
     "name": "stdout",
     "output_type": "stream",
     "text": [
      "BC is : 37\n"
     ]
    }
   ],
   "source": [
    "BC= np.dot(B,C)\n",
    "print(\"BC is :\" , BC)"
   ]
  },
  {
   "cell_type": "code",
   "execution_count": 18,
   "id": "5f74f961-4b2b-48d3-84d3-5677a8190bb6",
   "metadata": {},
   "outputs": [
    {
     "name": "stdout",
     "output_type": "stream",
     "text": [
      "The Multiplication of  A and B is : [104 179  72]\n"
     ]
    }
   ],
   "source": [
    "M= np.dot(A,B)\n",
    "print(\"The Multiplication of  A and B is :\" , M)"
   ]
  },
  {
   "cell_type": "code",
   "execution_count": 20,
   "id": "acbc8eb7-c7b2-4001-a094-722c40b20926",
   "metadata": {},
   "outputs": [
    {
     "name": "stdout",
     "output_type": "stream",
     "text": [
      "The A square is : [[ 49  78 148]\n",
      " [ 48 130 369]\n",
      " [ 12  57 201]]\n"
     ]
    }
   ],
   "source": [
    "P= np.dot(A,A)\n",
    "print(\"The A square is :\" , P)"
   ]
  },
  {
   "cell_type": "code",
   "execution_count": 22,
   "id": "ef5de96d-1c32-4f74-a190-c7a2b92d1b96",
   "metadata": {},
   "outputs": [
    {
     "name": "stdout",
     "output_type": "stream",
     "text": [
      "D^2-5D-2I= [[0. 0.]\n",
      " [0. 0.]]\n"
     ]
    }
   ],
   "source": [
    "print('D^2-5D-2I=',np.dot(D,D)-5*D-2*I2)"
   ]
  },
  {
   "cell_type": "code",
   "execution_count": null,
   "id": "d891dbc4-ba0d-4471-b009-9bf8a852471f",
   "metadata": {},
   "outputs": [],
   "source": []
  },
  {
   "cell_type": "code",
   "execution_count": null,
   "id": "23cfdd93-664a-4182-9241-b66de6d512bb",
   "metadata": {},
   "outputs": [],
   "source": []
  }
 ],
 "metadata": {
  "kernelspec": {
   "display_name": "Python 3 (ipykernel)",
   "language": "python",
   "name": "python3"
  },
  "language_info": {
   "codemirror_mode": {
    "name": "ipython",
    "version": 3
   },
   "file_extension": ".py",
   "mimetype": "text/x-python",
   "name": "python",
   "nbconvert_exporter": "python",
   "pygments_lexer": "ipython3",
   "version": "3.12.4"
  }
 },
 "nbformat": 4,
 "nbformat_minor": 5
}
