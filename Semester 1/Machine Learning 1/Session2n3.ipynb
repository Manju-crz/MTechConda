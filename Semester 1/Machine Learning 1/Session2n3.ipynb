{
 "cells": [
  {
   "cell_type": "code",
   "execution_count": 3,
   "id": "5bbef683-3d73-4879-b23e-717321a11352",
   "metadata": {},
   "outputs": [],
   "source": [
    "import pandas as pd\n",
    "import numpy as np\n",
    "import matplotlib.pyplot as plt\n",
    "import seaborn as sb\n",
    "import warnings\n",
    "warnings.filterwarnings(\"ignore\")"
   ]
  },
  {
   "cell_type": "code",
   "execution_count": 4,
   "id": "3b186c24-8c6e-4a06-9745-eeda3460837f",
   "metadata": {},
   "outputs": [],
   "source": [
    "data = pd.DataFrame(\n",
    "    {'Milege' : [15,14, 17, 7, 10, 7 , 20,21,18,11,7.9, 8.6, 12.3, 17.1, 19.4],\n",
    "     'Premium' : [392.5, 46.2, 15.7, 422.2, 119.4, 170.9, 56.9, 77.5, 21.4, 65.3, 250, 220, 217.5, 140.88, 97.25]\n",
    "    }\n",
    ")"
   ]
  },
  {
   "cell_type": "code",
   "execution_count": 5,
   "id": "ae806fbc-5f04-484f-ad30-ba97de8286be",
   "metadata": {},
   "outputs": [
    {
     "data": {
      "text/html": [
       "<div>\n",
       "<style scoped>\n",
       "    .dataframe tbody tr th:only-of-type {\n",
       "        vertical-align: middle;\n",
       "    }\n",
       "\n",
       "    .dataframe tbody tr th {\n",
       "        vertical-align: top;\n",
       "    }\n",
       "\n",
       "    .dataframe thead th {\n",
       "        text-align: right;\n",
       "    }\n",
       "</style>\n",
       "<table border=\"1\" class=\"dataframe\">\n",
       "  <thead>\n",
       "    <tr style=\"text-align: right;\">\n",
       "      <th></th>\n",
       "      <th>Milege</th>\n",
       "      <th>Premium</th>\n",
       "    </tr>\n",
       "  </thead>\n",
       "  <tbody>\n",
       "    <tr>\n",
       "      <th>0</th>\n",
       "      <td>15.0</td>\n",
       "      <td>392.50</td>\n",
       "    </tr>\n",
       "    <tr>\n",
       "      <th>1</th>\n",
       "      <td>14.0</td>\n",
       "      <td>46.20</td>\n",
       "    </tr>\n",
       "    <tr>\n",
       "      <th>2</th>\n",
       "      <td>17.0</td>\n",
       "      <td>15.70</td>\n",
       "    </tr>\n",
       "    <tr>\n",
       "      <th>3</th>\n",
       "      <td>7.0</td>\n",
       "      <td>422.20</td>\n",
       "    </tr>\n",
       "    <tr>\n",
       "      <th>4</th>\n",
       "      <td>10.0</td>\n",
       "      <td>119.40</td>\n",
       "    </tr>\n",
       "    <tr>\n",
       "      <th>5</th>\n",
       "      <td>7.0</td>\n",
       "      <td>170.90</td>\n",
       "    </tr>\n",
       "    <tr>\n",
       "      <th>6</th>\n",
       "      <td>20.0</td>\n",
       "      <td>56.90</td>\n",
       "    </tr>\n",
       "    <tr>\n",
       "      <th>7</th>\n",
       "      <td>21.0</td>\n",
       "      <td>77.50</td>\n",
       "    </tr>\n",
       "    <tr>\n",
       "      <th>8</th>\n",
       "      <td>18.0</td>\n",
       "      <td>21.40</td>\n",
       "    </tr>\n",
       "    <tr>\n",
       "      <th>9</th>\n",
       "      <td>11.0</td>\n",
       "      <td>65.30</td>\n",
       "    </tr>\n",
       "    <tr>\n",
       "      <th>10</th>\n",
       "      <td>7.9</td>\n",
       "      <td>250.00</td>\n",
       "    </tr>\n",
       "    <tr>\n",
       "      <th>11</th>\n",
       "      <td>8.6</td>\n",
       "      <td>220.00</td>\n",
       "    </tr>\n",
       "    <tr>\n",
       "      <th>12</th>\n",
       "      <td>12.3</td>\n",
       "      <td>217.50</td>\n",
       "    </tr>\n",
       "    <tr>\n",
       "      <th>13</th>\n",
       "      <td>17.1</td>\n",
       "      <td>140.88</td>\n",
       "    </tr>\n",
       "    <tr>\n",
       "      <th>14</th>\n",
       "      <td>19.4</td>\n",
       "      <td>97.25</td>\n",
       "    </tr>\n",
       "  </tbody>\n",
       "</table>\n",
       "</div>"
      ],
      "text/plain": [
       "    Milege  Premium\n",
       "0     15.0   392.50\n",
       "1     14.0    46.20\n",
       "2     17.0    15.70\n",
       "3      7.0   422.20\n",
       "4     10.0   119.40\n",
       "5      7.0   170.90\n",
       "6     20.0    56.90\n",
       "7     21.0    77.50\n",
       "8     18.0    21.40\n",
       "9     11.0    65.30\n",
       "10     7.9   250.00\n",
       "11     8.6   220.00\n",
       "12    12.3   217.50\n",
       "13    17.1   140.88\n",
       "14    19.4    97.25"
      ]
     },
     "execution_count": 5,
     "metadata": {},
     "output_type": "execute_result"
    }
   ],
   "source": [
    "data"
   ]
  },
  {
   "cell_type": "code",
   "execution_count": 6,
   "id": "d85b35fe-969e-468a-a80d-d81407f9ecf4",
   "metadata": {},
   "outputs": [
    {
     "data": {
      "text/plain": [
       "[<matplotlib.lines.Line2D at 0x235a75d2ed0>]"
      ]
     },
     "execution_count": 6,
     "metadata": {},
     "output_type": "execute_result"
    },
    {
     "data": {
      "image/png": "[encoded data removed]",
      "text/plain": [
       "<Figure size 640x480 with 1 Axes>"
      ]
     },
     "metadata": {},
     "output_type": "display_data"
    }
   ],
   "source": [
    "plt.plot(data['Milege'], data['Premium'],'*')"
   ]
  },
  {
   "cell_type": "code",
   "execution_count": 7,
   "id": "958d9973-4725-4472-a500-8efeec73ace8",
   "metadata": {},
   "outputs": [
    {
     "data": {
      "text/html": [
       "<div>\n",
       "<style scoped>\n",
       "    .dataframe tbody tr th:only-of-type {\n",
       "        vertical-align: middle;\n",
       "    }\n",
       "\n",
       "    .dataframe tbody tr th {\n",
       "        vertical-align: top;\n",
       "    }\n",
       "\n",
       "    .dataframe thead th {\n",
       "        text-align: right;\n",
       "    }\n",
       "</style>\n",
       "<table border=\"1\" class=\"dataframe\">\n",
       "  <thead>\n",
       "    <tr style=\"text-align: right;\">\n",
       "      <th></th>\n",
       "      <th>Milege</th>\n",
       "      <th>Premium</th>\n",
       "    </tr>\n",
       "  </thead>\n",
       "  <tbody>\n",
       "    <tr>\n",
       "      <th>Milege</th>\n",
       "      <td>1.000000</td>\n",
       "      <td>-0.552464</td>\n",
       "    </tr>\n",
       "    <tr>\n",
       "      <th>Premium</th>\n",
       "      <td>-0.552464</td>\n",
       "      <td>1.000000</td>\n",
       "    </tr>\n",
       "  </tbody>\n",
       "</table>\n",
       "</div>"
      ],
      "text/plain": [
       "           Milege   Premium\n",
       "Milege   1.000000 -0.552464\n",
       "Premium -0.552464  1.000000"
      ]
     },
     "execution_count": 7,
     "metadata": {},
     "output_type": "execute_result"
    }
   ],
   "source": [
    "data.corr()"
   ]
  },
  {
   "cell_type": "code",
   "execution_count": 8,
   "id": "f74b01c0-a82d-4584-9029-01ef8c8bc007",
   "metadata": {},
   "outputs": [],
   "source": [
    "x=data['Milege']\n",
    "y = data['Premium']"
   ]
  },
  {
   "cell_type": "code",
   "execution_count": 9,
   "id": "f03b9355-e189-4759-b8ae-ae3b6b180a60",
   "metadata": {},
   "outputs": [],
   "source": [
    "b1 = np.sum((x-x.mean()) * (y-y.mean())) / np.sum((x-x.mean())**2)"
   ]
  },
  {
   "cell_type": "code",
   "execution_count": 10,
   "id": "04fa29d5-5a8d-4a6c-a84b-e3d2e84d95e1",
   "metadata": {},
   "outputs": [
    {
     "data": {
      "text/plain": [
       "-14.129881018565644"
      ]
     },
     "execution_count": 10,
     "metadata": {},
     "output_type": "execute_result"
    }
   ],
   "source": [
    "b1"
   ]
  },
  {
   "cell_type": "code",
   "execution_count": 11,
   "id": "062a6e45-6b6d-4806-9dc9-b32c1a4c2275",
   "metadata": {},
   "outputs": [],
   "source": [
    "b0=y.mean()-b1*x.mean()"
   ]
  },
  {
   "cell_type": "code",
   "execution_count": 12,
   "id": "e27f5960-d033-4884-a1fe-89ce3de21f1e",
   "metadata": {},
   "outputs": [
    {
     "data": {
      "text/plain": [
       "347.6329715407685"
      ]
     },
     "execution_count": 12,
     "metadata": {},
     "output_type": "execute_result"
    }
   ],
   "source": [
    "b0"
   ]
  },
  {
   "cell_type": "code",
   "execution_count": null,
   "id": "88f4c5b8-adbd-40f1-af7c-269df0538dfb",
   "metadata": {},
   "outputs": [],
   "source": []
  },
  {
   "cell_type": "markdown",
   "id": "808041ee-10a8-4fcd-a140-1b9948096bea",
   "metadata": {},
   "source": [
    "# Session 3"
   ]
  },
  {
   "cell_type": "code",
   "execution_count": 32,
   "id": "3a542268-082b-4a29-8a54-48eb34fc8f71",
   "metadata": {},
   "outputs": [],
   "source": [
    "#Error\n",
    "ypred = b1*data['Milege']+b0\n",
    "yact = data['Premium']"
   ]
  },
  {
   "cell_type": "code",
   "execution_count": 36,
   "id": "4a149798-59ff-40df-850f-f0f11b6cf657",
   "metadata": {},
   "outputs": [
    {
     "data": {
      "text/plain": [
       "154777.6920847789"
      ]
     },
     "execution_count": 36,
     "metadata": {},
     "output_type": "execute_result"
    }
   ],
   "source": [
    "sse = np.sum((yact-ypred)**2)\n",
    "sse"
   ]
  },
  {
   "cell_type": "code",
   "execution_count": 38,
   "id": "03898941-4171-401d-953f-4b7e8fc3a316",
   "metadata": {},
   "outputs": [
    {
     "data": {
      "text/plain": [
       "10318.512805651926"
      ]
     },
     "execution_count": 38,
     "metadata": {},
     "output_type": "execute_result"
    }
   ],
   "source": [
    "mse = sse/len(data)\n",
    "mse"
   ]
  },
  {
   "cell_type": "code",
   "execution_count": 40,
   "id": "36cc6b0b-dac4-4ffa-ba8d-a2215f6022b6",
   "metadata": {},
   "outputs": [
    {
     "data": {
      "text/plain": [
       "101.58008075234005"
      ]
     },
     "execution_count": 40,
     "metadata": {},
     "output_type": "execute_result"
    }
   ],
   "source": [
    "rmse = np.sqrt(mse)\n",
    "rmse"
   ]
  },
  {
   "cell_type": "markdown",
   "id": "6e417b8a-1442-4016-b8db-6b8e1c6c60ae",
   "metadata": {},
   "source": [
    "### Measures of Variance"
   ]
  },
  {
   "cell_type": "code",
   "execution_count": 43,
   "id": "b55f920a-25c7-489c-af7d-e7c3f3a67370",
   "metadata": {},
   "outputs": [
    {
     "data": {
      "text/plain": [
       "67993.4763552211"
      ]
     },
     "execution_count": 43,
     "metadata": {},
     "output_type": "execute_result"
    }
   ],
   "source": [
    "ssr = np.sum((y.mean()-ypred)**2)\n",
    "ssr"
   ]
  },
  {
   "cell_type": "code",
   "execution_count": 45,
   "id": "af984b5c-d3e5-49d3-a266-ba1878557d1f",
   "metadata": {},
   "outputs": [
    {
     "data": {
      "text/plain": [
       "222771.16843999998"
      ]
     },
     "execution_count": 45,
     "metadata": {},
     "output_type": "execute_result"
    }
   ],
   "source": [
    "sst = np.sum((y.mean()-yact)**2)\n",
    "sst"
   ]
  },
  {
   "cell_type": "code",
   "execution_count": 49,
   "id": "7d55274a-1ccd-43c3-906b-9ef5917c8088",
   "metadata": {},
   "outputs": [
    {
     "data": {
      "text/plain": [
       "0.3052166796599359"
      ]
     },
     "execution_count": 49,
     "metadata": {},
     "output_type": "execute_result"
    }
   ],
   "source": [
    "rsqr = ssr/sst\n",
    "rsqr"
   ]
  },
  {
   "cell_type": "code",
   "execution_count": 59,
   "id": "390b1d35-9413-437d-a854-1c1202eebead",
   "metadata": {},
   "outputs": [],
   "source": [
    "import statsmodels.api as sm"
   ]
  },
  {
   "cell_type": "code",
   "execution_count": 65,
   "id": "9fcf51fc-7e94-4a9b-b23f-5ff5076bbb1f",
   "metadata": {},
   "outputs": [],
   "source": [
    "xc = sm.add_constant(x)"
   ]
  },
  {
   "cell_type": "code",
   "execution_count": 67,
   "id": "5105b21b-f0f7-4602-8f17-7b62b54c0185",
   "metadata": {},
   "outputs": [
    {
     "data": {
      "text/html": [
       "<div>\n",
       "<style scoped>\n",
       "    .dataframe tbody tr th:only-of-type {\n",
       "        vertical-align: middle;\n",
       "    }\n",
       "\n",
       "    .dataframe tbody tr th {\n",
       "        vertical-align: top;\n",
       "    }\n",
       "\n",
       "    .dataframe thead th {\n",
       "        text-align: right;\n",
       "    }\n",
       "</style>\n",
       "<table border=\"1\" class=\"dataframe\">\n",
       "  <thead>\n",
       "    <tr style=\"text-align: right;\">\n",
       "      <th></th>\n",
       "      <th>const</th>\n",
       "      <th>Milege</th>\n",
       "    </tr>\n",
       "  </thead>\n",
       "  <tbody>\n",
       "    <tr>\n",
       "      <th>0</th>\n",
       "      <td>1.0</td>\n",
       "      <td>15.0</td>\n",
       "    </tr>\n",
       "    <tr>\n",
       "      <th>1</th>\n",
       "      <td>1.0</td>\n",
       "      <td>14.0</td>\n",
       "    </tr>\n",
       "    <tr>\n",
       "      <th>2</th>\n",
       "      <td>1.0</td>\n",
       "      <td>17.0</td>\n",
       "    </tr>\n",
       "    <tr>\n",
       "      <th>3</th>\n",
       "      <td>1.0</td>\n",
       "      <td>7.0</td>\n",
       "    </tr>\n",
       "    <tr>\n",
       "      <th>4</th>\n",
       "      <td>1.0</td>\n",
       "      <td>10.0</td>\n",
       "    </tr>\n",
       "    <tr>\n",
       "      <th>5</th>\n",
       "      <td>1.0</td>\n",
       "      <td>7.0</td>\n",
       "    </tr>\n",
       "    <tr>\n",
       "      <th>6</th>\n",
       "      <td>1.0</td>\n",
       "      <td>20.0</td>\n",
       "    </tr>\n",
       "    <tr>\n",
       "      <th>7</th>\n",
       "      <td>1.0</td>\n",
       "      <td>21.0</td>\n",
       "    </tr>\n",
       "    <tr>\n",
       "      <th>8</th>\n",
       "      <td>1.0</td>\n",
       "      <td>18.0</td>\n",
       "    </tr>\n",
       "    <tr>\n",
       "      <th>9</th>\n",
       "      <td>1.0</td>\n",
       "      <td>11.0</td>\n",
       "    </tr>\n",
       "    <tr>\n",
       "      <th>10</th>\n",
       "      <td>1.0</td>\n",
       "      <td>7.9</td>\n",
       "    </tr>\n",
       "    <tr>\n",
       "      <th>11</th>\n",
       "      <td>1.0</td>\n",
       "      <td>8.6</td>\n",
       "    </tr>\n",
       "    <tr>\n",
       "      <th>12</th>\n",
       "      <td>1.0</td>\n",
       "      <td>12.3</td>\n",
       "    </tr>\n",
       "    <tr>\n",
       "      <th>13</th>\n",
       "      <td>1.0</td>\n",
       "      <td>17.1</td>\n",
       "    </tr>\n",
       "    <tr>\n",
       "      <th>14</th>\n",
       "      <td>1.0</td>\n",
       "      <td>19.4</td>\n",
       "    </tr>\n",
       "  </tbody>\n",
       "</table>\n",
       "</div>"
      ],
      "text/plain": [
       "    const  Milege\n",
       "0     1.0    15.0\n",
       "1     1.0    14.0\n",
       "2     1.0    17.0\n",
       "3     1.0     7.0\n",
       "4     1.0    10.0\n",
       "5     1.0     7.0\n",
       "6     1.0    20.0\n",
       "7     1.0    21.0\n",
       "8     1.0    18.0\n",
       "9     1.0    11.0\n",
       "10    1.0     7.9\n",
       "11    1.0     8.6\n",
       "12    1.0    12.3\n",
       "13    1.0    17.1\n",
       "14    1.0    19.4"
      ]
     },
     "execution_count": 67,
     "metadata": {},
     "output_type": "execute_result"
    }
   ],
   "source": [
    "xc"
   ]
  },
  {
   "cell_type": "code",
   "execution_count": 69,
   "id": "6b11a670-ef81-4d00-9975-161df3ce7086",
   "metadata": {},
   "outputs": [],
   "source": [
    "mod = sm.OLS(y,xc)"
   ]
  },
  {
   "cell_type": "code",
   "execution_count": 73,
   "id": "63ce6c99-69ca-4cf2-9a5d-18cc7bed2c7c",
   "metadata": {},
   "outputs": [],
   "source": [
    "ols_mod = mod.fit()"
   ]
  },
  {
   "cell_type": "code",
   "execution_count": 77,
   "id": "bad6f0f3-856a-45bd-819b-e2d267c9561e",
   "metadata": {},
   "outputs": [
    {
     "data": {
      "text/html": [
       "<table class=\"simpletable\">\n",
       "<caption>OLS Regression Results</caption>\n",
       "<tr>\n",
       "  <th>Dep. Variable:</th>         <td>Premium</td>     <th>  R-squared:         </th> <td>   0.305</td>\n",
       "</tr>\n",
       "<tr>\n",
       "  <th>Model:</th>                   <td>OLS</td>       <th>  Adj. R-squared:    </th> <td>   0.252</td>\n",
       "</tr>\n",
       "<tr>\n",
       "  <th>Method:</th>             <td>Least Squares</td>  <th>  F-statistic:       </th> <td>   5.711</td>\n",
       "</tr>\n",
       "<tr>\n",
       "  <th>Date:</th>             <td>Sat, 23 Nov 2024</td> <th>  Prob (F-statistic):</th>  <td>0.0327</td> \n",
       "</tr>\n",
       "<tr>\n",
       "  <th>Time:</th>                 <td>10:10:28</td>     <th>  Log-Likelihood:    </th> <td> -90.597</td>\n",
       "</tr>\n",
       "<tr>\n",
       "  <th>No. Observations:</th>      <td>    15</td>      <th>  AIC:               </th> <td>   185.2</td>\n",
       "</tr>\n",
       "<tr>\n",
       "  <th>Df Residuals:</th>          <td>    13</td>      <th>  BIC:               </th> <td>   186.6</td>\n",
       "</tr>\n",
       "<tr>\n",
       "  <th>Df Model:</th>              <td>     1</td>      <th>                     </th>     <td> </td>   \n",
       "</tr>\n",
       "<tr>\n",
       "  <th>Covariance Type:</th>      <td>nonrobust</td>    <th>                     </th>     <td> </td>   \n",
       "</tr>\n",
       "</table>\n",
       "<table class=\"simpletable\">\n",
       "<tr>\n",
       "     <td></td>       <th>coef</th>     <th>std err</th>      <th>t</th>      <th>P>|t|</th>  <th>[0.025</th>    <th>0.975]</th>  \n",
       "</tr>\n",
       "<tr>\n",
       "  <th>const</th>  <td>  347.6330</td> <td>   85.689</td> <td>    4.057</td> <td> 0.001</td> <td>  162.512</td> <td>  532.753</td>\n",
       "</tr>\n",
       "<tr>\n",
       "  <th>Milege</th> <td>  -14.1299</td> <td>    5.913</td> <td>   -2.390</td> <td> 0.033</td> <td>  -26.904</td> <td>   -1.356</td>\n",
       "</tr>\n",
       "</table>\n",
       "<table class=\"simpletable\">\n",
       "<tr>\n",
       "  <th>Omnibus:</th>       <td> 5.842</td> <th>  Durbin-Watson:     </th> <td>   2.003</td>\n",
       "</tr>\n",
       "<tr>\n",
       "  <th>Prob(Omnibus):</th> <td> 0.054</td> <th>  Jarque-Bera (JB):  </th> <td>   3.148</td>\n",
       "</tr>\n",
       "<tr>\n",
       "  <th>Skew:</th>          <td> 1.074</td> <th>  Prob(JB):          </th> <td>   0.207</td>\n",
       "</tr>\n",
       "<tr>\n",
       "  <th>Kurtosis:</th>      <td> 3.649</td> <th>  Cond. No.          </th> <td>    44.3</td>\n",
       "</tr>\n",
       "</table><br/><br/>Notes:<br/>[1] Standard Errors assume that the covariance matrix of the errors is correctly specified."
      ],
      "text/latex": [
       "\\begin{center}\n",
       "\\begin{tabular}{lclc}\n",
       "\\toprule\n",
       "\\textbf{Dep. Variable:}    &     Premium      & \\textbf{  R-squared:         } &     0.305   \\\\\n",
       "\\textbf{Model:}            &       OLS        & \\textbf{  Adj. R-squared:    } &     0.252   \\\\\n",
       "\\textbf{Method:}           &  Least Squares   & \\textbf{  F-statistic:       } &     5.711   \\\\\n",
       "\\textbf{Date:}             & Sat, 23 Nov 2024 & \\textbf{  Prob (F-statistic):} &   0.0327    \\\\\n",
       "\\textbf{Time:}             &     10:10:28     & \\textbf{  Log-Likelihood:    } &   -90.597   \\\\\n",
       "\\textbf{No. Observations:} &          15      & \\textbf{  AIC:               } &     185.2   \\\\\n",
       "\\textbf{Df Residuals:}     &          13      & \\textbf{  BIC:               } &     186.6   \\\\\n",
       "\\textbf{Df Model:}         &           1      & \\textbf{                     } &             \\\\\n",
       "\\textbf{Covariance Type:}  &    nonrobust     & \\textbf{                     } &             \\\\\n",
       "\\bottomrule\n",
       "\\end{tabular}\n",
       "\\begin{tabular}{lcccccc}\n",
       "                & \\textbf{coef} & \\textbf{std err} & \\textbf{t} & \\textbf{P$> |$t$|$} & \\textbf{[0.025} & \\textbf{0.975]}  \\\\\n",
       "\\midrule\n",
       "\\textbf{const}  &     347.6330  &       85.689     &     4.057  &         0.001        &      162.512    &      532.753     \\\\\n",
       "\\textbf{Milege} &     -14.1299  &        5.913     &    -2.390  &         0.033        &      -26.904    &       -1.356     \\\\\n",
       "\\bottomrule\n",
       "\\end{tabular}\n",
       "\\begin{tabular}{lclc}\n",
       "\\textbf{Omnibus:}       &  5.842 & \\textbf{  Durbin-Watson:     } &    2.003  \\\\\n",
       "\\textbf{Prob(Omnibus):} &  0.054 & \\textbf{  Jarque-Bera (JB):  } &    3.148  \\\\\n",
       "\\textbf{Skew:}          &  1.074 & \\textbf{  Prob(JB):          } &    0.207  \\\\\n",
       "\\textbf{Kurtosis:}      &  3.649 & \\textbf{  Cond. No.          } &     44.3  \\\\\n",
       "\\bottomrule\n",
       "\\end{tabular}\n",
       "%\\caption{OLS Regression Results}\n",
       "\\end{center}\n",
       "\n",
       "Notes: \\newline\n",
       " [1] Standard Errors assume that the covariance matrix of the errors is correctly specified."
      ],
      "text/plain": [
       "<class 'statsmodels.iolib.summary.Summary'>\n",
       "\"\"\"\n",
       "                            OLS Regression Results                            \n",
       "==============================================================================\n",
       "Dep. Variable:                Premium   R-squared:                       0.305\n",
       "Model:                            OLS   Adj. R-squared:                  0.252\n",
       "Method:                 Least Squares   F-statistic:                     5.711\n",
       "Date:                Sat, 23 Nov 2024   Prob (F-statistic):             0.0327\n",
       "Time:                        10:10:28   Log-Likelihood:                -90.597\n",
       "No. Observations:                  15   AIC:                             185.2\n",
       "Df Residuals:                      13   BIC:                             186.6\n",
       "Df Model:                           1                                         \n",
       "Covariance Type:            nonrobust                                         \n",
       "==============================================================================\n",
       "                 coef    std err          t      P>|t|      [0.025      0.975]\n",
       "------------------------------------------------------------------------------\n",
       "const        347.6330     85.689      4.057      0.001     162.512     532.753\n",
       "Milege       -14.1299      5.913     -2.390      0.033     -26.904      -1.356\n",
       "==============================================================================\n",
       "Omnibus:                        5.842   Durbin-Watson:                   2.003\n",
       "Prob(Omnibus):                  0.054   Jarque-Bera (JB):                3.148\n",
       "Skew:                           1.074   Prob(JB):                        0.207\n",
       "Kurtosis:                       3.649   Cond. No.                         44.3\n",
       "==============================================================================\n",
       "\n",
       "Notes:\n",
       "[1] Standard Errors assume that the covariance matrix of the errors is correctly specified.\n",
       "\"\"\""
      ]
     },
     "execution_count": 77,
     "metadata": {},
     "output_type": "execute_result"
    }
   ],
   "source": [
    "ols_mod.summary()"
   ]
  },
  {
   "cell_type": "code",
   "execution_count": null,
   "id": "2bc68022-9373-477f-a325-1fa44f35a907",
   "metadata": {},
   "outputs": [],
   "source": []
  },
  {
   "cell_type": "code",
   "execution_count": null,
   "id": "d69c3720-bc00-4ccd-b671-1561a6719d49",
   "metadata": {},
   "outputs": [],
   "source": []
  },
  {
   "cell_type": "code",
   "execution_count": null,
   "id": "72406ff4-05b3-4b89-9736-fbdc7e31bdb1",
   "metadata": {},
   "outputs": [],
   "source": []
  },
  {
   "cell_type": "code",
   "execution_count": null,
   "id": "8111997d-08b6-4b42-988c-5438ceb3a2f4",
   "metadata": {},
   "outputs": [],
   "source": []
  },
  {
   "cell_type": "code",
   "execution_count": null,
   "id": "7a2cbd09-d3a9-4767-a204-690da7c5beba",
   "metadata": {},
   "outputs": [],
   "source": []
  },
  {
   "cell_type": "code",
   "execution_count": null,
   "id": "1e03e978-d042-437d-8110-75b8b531e5e9",
   "metadata": {},
   "outputs": [],
   "source": []
  },
  {
   "cell_type": "code",
   "execution_count": null,
   "id": "4f2b2196-05c7-4b7d-8f7a-8034b78df163",
   "metadata": {},
   "outputs": [],
   "source": []
  },
  {
   "cell_type": "code",
   "execution_count": null,
   "id": "dcb48f6a-6f65-456d-93eb-41cb81634c88",
   "metadata": {},
   "outputs": [],
   "source": []
  },
  {
   "cell_type": "code",
   "execution_count": null,
   "id": "339e8479-f02f-421b-9b14-c6820da35634",
   "metadata": {},
   "outputs": [],
   "source": []
  },
  {
   "cell_type": "code",
   "execution_count": null,
   "id": "9ce82ec6-7352-4402-bb21-8e105cd6025f",
   "metadata": {},
   "outputs": [],
   "source": []
  },
  {
   "cell_type": "code",
   "execution_count": null,
   "id": "4987ff2a-e2d7-4cec-ab77-bcb9b61f9494",
   "metadata": {},
   "outputs": [],
   "source": []
  },
  {
   "cell_type": "code",
   "execution_count": null,
   "id": "b637dfca-75eb-47c3-bfdc-8683f2c33656",
   "metadata": {},
   "outputs": [],
   "source": []
  },
  {
   "cell_type": "code",
   "execution_count": null,
   "id": "6f3eea70-f23f-4444-bd9c-6af2b4165b8f",
   "metadata": {},
   "outputs": [],
   "source": []
  },
  {
   "cell_type": "code",
   "execution_count": null,
   "id": "67d27d6c-d9a1-48de-a459-bff0b48b9712",
   "metadata": {},
   "outputs": [],
   "source": []
  },
  {
   "cell_type": "code",
   "execution_count": null,
   "id": "80a964e1-6e38-4326-a842-184eaeaf0ca8",
   "metadata": {},
   "outputs": [],
   "source": []
  },
  {
   "cell_type": "code",
   "execution_count": null,
   "id": "faab5b8d-95ff-4d33-a26b-df5d5eb42640",
   "metadata": {},
   "outputs": [],
   "source": []
  }
 ],
 "metadata": {
  "kernelspec": {
   "display_name": "Python 3 (ipykernel)",
   "language": "python",
   "name": "python3"
  },
  "language_info": {
   "codemirror_mode": {
    "name": "ipython",
    "version": 3
   },
   "file_extension": ".py",
   "mimetype": "text/x-python",
   "name": "python",
   "nbconvert_exporter": "python",
   "pygments_lexer": "ipython3",
   "version": "3.12.4"
  }
 },
 "nbformat": 4,
 "nbformat_minor": 5
}
