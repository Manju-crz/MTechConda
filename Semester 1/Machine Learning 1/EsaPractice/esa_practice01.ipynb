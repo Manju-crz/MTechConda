{
 "cells": [
  {
   "cell_type": "code",
   "execution_count": 641,
   "id": "a651fa82-dceb-47fa-9323-b1dd6ee8ff02",
   "metadata": {},
   "outputs": [],
   "source": [
    "import pandas as pd\n",
    "import numpy as np"
   ]
  },
  {
   "cell_type": "code",
   "execution_count": 642,
   "id": "dfb0710a-035b-41b3-b4a1-73bd13ac5b95",
   "metadata": {},
   "outputs": [],
   "source": [
    "df = pd.read_csv(\"Most Streamed Spotify Songs 2024.csv\", encoding=\"ISO-8859-1\")"
   ]
  },
  {
   "cell_type": "code",
   "execution_count": 643,
   "id": "d3b75608-5169-4a4c-a824-12b8ddffd20a",
   "metadata": {},
   "outputs": [],
   "source": [
    "df_dt = df.dtypes"
   ]
  },
  {
   "cell_type": "code",
   "execution_count": 644,
   "id": "90ed9c36-1fdc-4db2-9609-d176fcf9ca78",
   "metadata": {},
   "outputs": [
    {
     "data": {
      "text/plain": [
       "pandas.core.series.Series"
      ]
     },
     "execution_count": 644,
     "metadata": {},
     "output_type": "execute_result"
    }
   ],
   "source": [
    "type(df_dt)"
   ]
  },
  {
   "cell_type": "code",
   "execution_count": 645,
   "id": "3be05a82-da43-45f4-a20d-f6cb6f647a3f",
   "metadata": {},
   "outputs": [],
   "source": [
    "mis_val = df.isnull().sum()"
   ]
  },
  {
   "cell_type": "code",
   "execution_count": 646,
   "id": "826ff827-2906-4571-85b1-4969fbe11122",
   "metadata": {},
   "outputs": [
    {
     "data": {
      "text/plain": [
       "Track                            0\n",
       "Album Name                       0\n",
       "Artist                           1\n",
       "Release Date                     0\n",
       "ISRC                             0\n",
       "All Time Rank                    0\n",
       "Track Score                      0\n",
       "Spotify Streams                 43\n",
       "Spotify Playlist Count          29\n",
       "Spotify Playlist Reach          31\n",
       "Spotify Popularity             367\n",
       "YouTube Views                  143\n",
       "YouTube Likes                  146\n",
       "TikTok Posts                   521\n",
       "TikTok Likes                   449\n",
       "TikTok Views                   450\n",
       "YouTube Playlist Reach         521\n",
       "Apple Music Playlist Count     251\n",
       "AirPlay Spins                  222\n",
       "SiriusXM Spins                1036\n",
       "Deezer Playlist Count          471\n",
       "Deezer Playlist Reach          475\n",
       "Amazon Playlist Count          551\n",
       "Pandora Streams                530\n",
       "Pandora Track Stations         612\n",
       "Soundcloud Streams            1520\n",
       "Shazam Counts                  247\n",
       "TIDAL Popularity              1959\n",
       "Explicit Track                   0\n",
       "dtype: int64"
      ]
     },
     "execution_count": 646,
     "metadata": {},
     "output_type": "execute_result"
    }
   ],
   "source": [
    "mis_val"
   ]
  },
  {
   "cell_type": "code",
   "execution_count": 647,
   "id": "d57c7e1d-8026-402a-807d-14096a79c6a5",
   "metadata": {},
   "outputs": [
    {
     "data": {
      "text/plain": [
       "pandas.core.series.Series"
      ]
     },
     "execution_count": 647,
     "metadata": {},
     "output_type": "execute_result"
    }
   ],
   "source": [
    "type(mis_val)"
   ]
  },
  {
   "cell_type": "code",
   "execution_count": 648,
   "id": "1e0d554a-8ef3-4aa4-a6ea-5ca033177157",
   "metadata": {},
   "outputs": [
    {
     "data": {
      "text/plain": [
       "1"
      ]
     },
     "execution_count": 648,
     "metadata": {},
     "output_type": "execute_result"
    }
   ],
   "source": [
    "mis_val.iloc[2]"
   ]
  },
  {
   "cell_type": "code",
   "execution_count": 649,
   "id": "aebec7db-43eb-4328-916d-489b3bdadfb5",
   "metadata": {},
   "outputs": [],
   "source": [
    "cols = df.columns"
   ]
  },
  {
   "cell_type": "code",
   "execution_count": 650,
   "id": "8b061620-f17a-47b2-aa11-4559260a38ca",
   "metadata": {},
   "outputs": [
    {
     "data": {
      "text/plain": [
       "pandas.core.indexes.base.Index"
      ]
     },
     "execution_count": 650,
     "metadata": {},
     "output_type": "execute_result"
    }
   ],
   "source": [
    "type(cols)"
   ]
  },
  {
   "cell_type": "code",
   "execution_count": 651,
   "id": "b7fabfa8-61b0-41df-a89c-55739822fe69",
   "metadata": {},
   "outputs": [],
   "source": [
    "unique_vals = df.Artist.unique()\n",
    "unique_cnts = df['Artist'].value_counts()"
   ]
  },
  {
   "cell_type": "code",
   "execution_count": 652,
   "id": "399f23f1-b2b3-44b5-b64c-720792e2b548",
   "metadata": {},
   "outputs": [
    {
     "data": {
      "text/plain": [
       "22"
      ]
     },
     "execution_count": 652,
     "metadata": {},
     "output_type": "execute_result"
    }
   ],
   "source": [
    "unique_cnts['Drake']"
   ]
  },
  {
   "cell_type": "code",
   "execution_count": 653,
   "id": "49cf4fd1-1529-4965-bc5e-2a5d4b94211c",
   "metadata": {},
   "outputs": [],
   "source": [
    "unique_vals = df['Artist'].unique()"
   ]
  },
  {
   "cell_type": "code",
   "execution_count": 654,
   "id": "be33d3b8-fc58-4c52-928b-70844e287dc0",
   "metadata": {},
   "outputs": [],
   "source": [
    "#for i in unique_vals:\n",
    " #   print(i)"
   ]
  },
  {
   "cell_type": "code",
   "execution_count": 655,
   "id": "e7a6409d-4e08-4997-8cd1-5d9656532167",
   "metadata": {},
   "outputs": [],
   "source": [
    "df['Artist'] = df['Artist'].replace(to_replace='ýý$', value = np.NaN)\n",
    "unique_vals = df['Artist'].unique()"
   ]
  },
  {
   "cell_type": "code",
   "execution_count": 656,
   "id": "a02f450e-2bd4-48df-90a4-9e524d3e6b0d",
   "metadata": {},
   "outputs": [
    {
     "data": {
      "text/plain": [
       "1175.4"
      ]
     },
     "execution_count": 656,
     "metadata": {},
     "output_type": "execute_result"
    }
   ],
   "source": [
    "(60*1959)/100"
   ]
  },
  {
   "cell_type": "code",
   "execution_count": 657,
   "id": "4896ada7-a569-4c6b-ae31-1b1373ce3f23",
   "metadata": {},
   "outputs": [
    {
     "data": {
      "text/plain": [
       "Soundcloud Streams    1520\n",
       "TIDAL Popularity      1959\n",
       "dtype: int64"
      ]
     },
     "execution_count": 657,
     "metadata": {},
     "output_type": "execute_result"
    }
   ],
   "source": [
    "df.isnull().sum()[df.isnull().sum() > 1176]"
   ]
  },
  {
   "cell_type": "code",
   "execution_count": 658,
   "id": "9c53802a-f507-498b-8212-b50408feba45",
   "metadata": {},
   "outputs": [],
   "source": [
    "df.drop(columns=['Soundcloud Streams', 'TIDAL Popularity'], inplace = True)"
   ]
  },
  {
   "cell_type": "code",
   "execution_count": 659,
   "id": "5e6507a1-d400-41c7-8e45-144824e1b0ef",
   "metadata": {},
   "outputs": [
    {
     "data": {
      "text/plain": [
       "Series([], dtype: int64)"
      ]
     },
     "execution_count": 659,
     "metadata": {},
     "output_type": "execute_result"
    }
   ],
   "source": [
    "df.isnull().sum()[df.isnull().sum() > 1176]"
   ]
  },
  {
   "cell_type": "code",
   "execution_count": 660,
   "id": "d339f08a-ec0e-43b8-99a9-1954110ae480",
   "metadata": {},
   "outputs": [
    {
     "data": {
      "text/plain": [
       "Artist                           2\n",
       "Spotify Streams                 43\n",
       "Spotify Playlist Count          29\n",
       "Spotify Playlist Reach          31\n",
       "Spotify Popularity             367\n",
       "YouTube Views                  143\n",
       "YouTube Likes                  146\n",
       "TikTok Posts                   521\n",
       "TikTok Likes                   449\n",
       "TikTok Views                   450\n",
       "YouTube Playlist Reach         521\n",
       "Apple Music Playlist Count     251\n",
       "AirPlay Spins                  222\n",
       "SiriusXM Spins                1036\n",
       "Deezer Playlist Count          471\n",
       "Deezer Playlist Reach          475\n",
       "Amazon Playlist Count          551\n",
       "Pandora Streams                530\n",
       "Pandora Track Stations         612\n",
       "Shazam Counts                  247\n",
       "dtype: int64"
      ]
     },
     "execution_count": 660,
     "metadata": {},
     "output_type": "execute_result"
    }
   ],
   "source": [
    "df.isnull().sum()[df.isnull().sum() > 0]"
   ]
  },
  {
   "cell_type": "code",
   "execution_count": 661,
   "id": "b6418346-86cf-4eb4-a400-72a50b478d00",
   "metadata": {},
   "outputs": [
    {
     "data": {
      "text/plain": [
       "Artist\n",
       "Taylor Swift          30\n",
       "Drake                 22\n",
       "Bad Bunny             19\n",
       "KAROL G               13\n",
       "Juice WRLD            11\n",
       "                      ..\n",
       "NLO                    1\n",
       "Twenty One Pilots      1\n",
       "Jagananna Connects     1\n",
       "Curtis Waters          1\n",
       "Arcï¿½ï¿½              1\n",
       "Name: count, Length: 1200, dtype: int64"
      ]
     },
     "execution_count": 661,
     "metadata": {},
     "output_type": "execute_result"
    }
   ],
   "source": [
    "df['Artist'].value_counts()"
   ]
  },
  {
   "cell_type": "code",
   "execution_count": 662,
   "id": "af6a6a03-038e-40c9-9b9a-cec34763f30c",
   "metadata": {},
   "outputs": [],
   "source": [
    "df['Artist'] = df['Artist'].replace(to_replace=np.NaN, value = 'Taylor Swift')"
   ]
  },
  {
   "cell_type": "code",
   "execution_count": 663,
   "id": "2d7f3834-16c2-440b-893d-56a42b697b64",
   "metadata": {},
   "outputs": [
    {
     "data": {
      "text/plain": [
       "Artist\n",
       "Taylor Swift          32\n",
       "Drake                 22\n",
       "Bad Bunny             19\n",
       "KAROL G               13\n",
       "Juice WRLD            11\n",
       "                      ..\n",
       "NLO                    1\n",
       "Twenty One Pilots      1\n",
       "Jagananna Connects     1\n",
       "Curtis Waters          1\n",
       "Arcï¿½ï¿½              1\n",
       "Name: count, Length: 1200, dtype: int64"
      ]
     },
     "execution_count": 663,
     "metadata": {},
     "output_type": "execute_result"
    }
   ],
   "source": [
    "df['Artist'].value_counts()"
   ]
  },
  {
   "cell_type": "code",
   "execution_count": 664,
   "id": "48e2025b-3dbf-44f0-84a3-ff97296d9a83",
   "metadata": {},
   "outputs": [],
   "source": [
    "sp_mean = df['Spotify Popularity'].mean()"
   ]
  },
  {
   "cell_type": "code",
   "execution_count": 665,
   "id": "1340ebd5-ef96-4d4f-b7a4-a1cef6b3789b",
   "metadata": {},
   "outputs": [
    {
     "data": {
      "text/plain": [
       "60.253768844221106"
      ]
     },
     "execution_count": 665,
     "metadata": {},
     "output_type": "execute_result"
    }
   ],
   "source": [
    "sp_mean"
   ]
  },
  {
   "cell_type": "code",
   "execution_count": 666,
   "id": "be012760-2ab8-4cb0-b53d-1135dff68d12",
   "metadata": {},
   "outputs": [],
   "source": [
    "df['Spotify Popularity'] = df['Spotify Popularity'].fillna(sp_mean)"
   ]
  },
  {
   "cell_type": "code",
   "execution_count": 667,
   "id": "ac2f2c1b-1eaf-4e70-a9da-4d6e137d550e",
   "metadata": {},
   "outputs": [
    {
     "data": {
      "text/plain": [
       "Spotify Streams                 43\n",
       "Spotify Playlist Count          29\n",
       "Spotify Playlist Reach          31\n",
       "YouTube Views                  143\n",
       "YouTube Likes                  146\n",
       "TikTok Posts                   521\n",
       "TikTok Likes                   449\n",
       "TikTok Views                   450\n",
       "YouTube Playlist Reach         521\n",
       "Apple Music Playlist Count     251\n",
       "AirPlay Spins                  222\n",
       "SiriusXM Spins                1036\n",
       "Deezer Playlist Count          471\n",
       "Deezer Playlist Reach          475\n",
       "Amazon Playlist Count          551\n",
       "Pandora Streams                530\n",
       "Pandora Track Stations         612\n",
       "Shazam Counts                  247\n",
       "dtype: int64"
      ]
     },
     "execution_count": 667,
     "metadata": {},
     "output_type": "execute_result"
    }
   ],
   "source": [
    "df.isnull().sum()[df.isnull().sum() > 0]"
   ]
  },
  {
   "cell_type": "code",
   "execution_count": 668,
   "id": "8f01a061-a669-472a-bb27-c96681637022",
   "metadata": {},
   "outputs": [
    {
     "data": {
      "text/plain": [
       "809    True\n",
       "dtype: bool"
      ]
     },
     "execution_count": 668,
     "metadata": {},
     "output_type": "execute_result"
    }
   ],
   "source": [
    "df.duplicated()[df.duplicated() == True]"
   ]
  },
  {
   "cell_type": "code",
   "execution_count": 669,
   "id": "b9b81626-af97-4cda-a0b1-53f000bc9d7b",
   "metadata": {},
   "outputs": [
    {
     "name": "stdout",
     "output_type": "stream",
     "text": [
      "<class 'pandas.core.frame.DataFrame'>\n",
      "RangeIndex: 1959 entries, 0 to 1958\n",
      "Data columns (total 27 columns):\n",
      " #   Column                      Non-Null Count  Dtype  \n",
      "---  ------                      --------------  -----  \n",
      " 0   Track                       1959 non-null   object \n",
      " 1   Album Name                  1959 non-null   object \n",
      " 2   Artist                      1959 non-null   object \n",
      " 3   Release Date                1959 non-null   object \n",
      " 4   ISRC                        1959 non-null   object \n",
      " 5   All Time Rank               1959 non-null   object \n",
      " 6   Track Score                 1959 non-null   float64\n",
      " 7   Spotify Streams             1916 non-null   object \n",
      " 8   Spotify Playlist Count      1930 non-null   object \n",
      " 9   Spotify Playlist Reach      1928 non-null   object \n",
      " 10  Spotify Popularity          1959 non-null   float64\n",
      " 11  YouTube Views               1816 non-null   object \n",
      " 12  YouTube Likes               1813 non-null   object \n",
      " 13  TikTok Posts                1438 non-null   object \n",
      " 14  TikTok Likes                1510 non-null   object \n",
      " 15  TikTok Views                1509 non-null   object \n",
      " 16  YouTube Playlist Reach      1438 non-null   object \n",
      " 17  Apple Music Playlist Count  1708 non-null   float64\n",
      " 18  AirPlay Spins               1737 non-null   object \n",
      " 19  SiriusXM Spins              923 non-null    object \n",
      " 20  Deezer Playlist Count       1488 non-null   float64\n",
      " 21  Deezer Playlist Reach       1484 non-null   object \n",
      " 22  Amazon Playlist Count       1408 non-null   float64\n",
      " 23  Pandora Streams             1429 non-null   object \n",
      " 24  Pandora Track Stations      1347 non-null   object \n",
      " 25  Shazam Counts               1712 non-null   object \n",
      " 26  Explicit Track              1959 non-null   int64  \n",
      "dtypes: float64(5), int64(1), object(21)\n",
      "memory usage: 413.4+ KB\n"
     ]
    }
   ],
   "source": [
    "df.info()"
   ]
  },
  {
   "cell_type": "code",
   "execution_count": null,
   "id": "84931ce5-b7dc-48c5-95f0-47be2fd4941c",
   "metadata": {},
   "outputs": [],
   "source": []
  },
  {
   "cell_type": "code",
   "execution_count": 670,
   "id": "37a16000-f441-40e5-a8e1-59e84dad7052",
   "metadata": {},
   "outputs": [
    {
     "data": {
      "image/png": "[encoded data removed]",
      "text/plain": [
       "<Figure size 640x480 with 1 Axes>"
      ]
     },
     "metadata": {},
     "output_type": "display_data"
    }
   ],
   "source": [
    "\n",
    "sns.boxplot(df, x = 'Amazon Playlist Count')\n",
    "plt.show()\n",
    "\n"
   ]
  },
  {
   "cell_type": "code",
   "execution_count": 671,
   "id": "552437fd-a7ab-41ee-8d26-cd8fa182f1f9",
   "metadata": {},
   "outputs": [],
   "source": [
    "md = df['Amazon Playlist Count'].mode()"
   ]
  },
  {
   "cell_type": "code",
   "execution_count": 672,
   "id": "9772a9f9-7d93-4512-9306-e5e47307ef58",
   "metadata": {},
   "outputs": [
    {
     "data": {
      "text/plain": [
       "1.0"
      ]
     },
     "execution_count": 672,
     "metadata": {},
     "output_type": "execute_result"
    }
   ],
   "source": [
    "md[0]"
   ]
  },
  {
   "cell_type": "code",
   "execution_count": 673,
   "id": "b66e9024-4f79-419d-87f3-2a3fdfe50886",
   "metadata": {},
   "outputs": [
    {
     "data": {
      "text/plain": [
       "Amazon Playlist Count\n",
       "1.0      82\n",
       "2.0      75\n",
       "8.0      71\n",
       "3.0      66\n",
       "6.0      65\n",
       "         ..\n",
       "72.0      1\n",
       "63.0      1\n",
       "86.0      1\n",
       "111.0     1\n",
       "97.0      1\n",
       "Name: count, Length: 87, dtype: int64"
      ]
     },
     "execution_count": 673,
     "metadata": {},
     "output_type": "execute_result"
    }
   ],
   "source": [
    "df['Amazon Playlist Count'].value_counts()"
   ]
  },
  {
   "cell_type": "code",
   "execution_count": 674,
   "id": "3dfd4fd1-ed28-47b3-a618-edba0b9e87fd",
   "metadata": {},
   "outputs": [],
   "source": [
    "df['Amazon Playlist Count'] = df['Amazon Playlist Count'].fillna(md[0])"
   ]
  },
  {
   "cell_type": "code",
   "execution_count": 675,
   "id": "6064e7b0-6afc-492b-bfe0-f90d5f0adc9e",
   "metadata": {},
   "outputs": [
    {
     "data": {
      "text/plain": [
       "Amazon Playlist Count\n",
       "1.0      633\n",
       "2.0       75\n",
       "8.0       71\n",
       "3.0       66\n",
       "6.0       65\n",
       "        ... \n",
       "72.0       1\n",
       "63.0       1\n",
       "86.0       1\n",
       "111.0      1\n",
       "97.0       1\n",
       "Name: count, Length: 87, dtype: int64"
      ]
     },
     "execution_count": 675,
     "metadata": {},
     "output_type": "execute_result"
    }
   ],
   "source": [
    "df['Amazon Playlist Count'].value_counts()"
   ]
  },
  {
   "cell_type": "code",
   "execution_count": null,
   "id": "e414a4e6-0f31-47fb-a609-db79db3c9293",
   "metadata": {},
   "outputs": [],
   "source": []
  },
  {
   "cell_type": "code",
   "execution_count": null,
   "id": "8cdded65-b109-42ad-9a35-1d74684039d0",
   "metadata": {},
   "outputs": [],
   "source": []
  },
  {
   "cell_type": "code",
   "execution_count": null,
   "id": "573eced6-319a-4acf-afeb-d3b8a07c70e2",
   "metadata": {},
   "outputs": [],
   "source": []
  },
  {
   "cell_type": "code",
   "execution_count": null,
   "id": "027378aa-6e42-4a1c-9863-55a5cadd9d40",
   "metadata": {},
   "outputs": [],
   "source": []
  },
  {
   "cell_type": "code",
   "execution_count": null,
   "id": "84c6173b-4773-4303-91c7-50d70801f061",
   "metadata": {},
   "outputs": [],
   "source": []
  },
  {
   "cell_type": "code",
   "execution_count": null,
   "id": "22382191-ec2f-4ed5-bc41-7b57abeed246",
   "metadata": {},
   "outputs": [],
   "source": []
  },
  {
   "cell_type": "code",
   "execution_count": null,
   "id": "8da743bc-a404-4b76-84f6-79845145037f",
   "metadata": {},
   "outputs": [],
   "source": []
  },
  {
   "cell_type": "code",
   "execution_count": null,
   "id": "80f23337-d1a3-4c57-8e12-485784f7d4c7",
   "metadata": {},
   "outputs": [],
   "source": []
  },
  {
   "cell_type": "code",
   "execution_count": null,
   "id": "9f153d3b-214d-4296-a2d7-dc9f3d3ef671",
   "metadata": {},
   "outputs": [],
   "source": []
  },
  {
   "cell_type": "code",
   "execution_count": null,
   "id": "3331eabd-cf14-431b-94d8-3e3add244e45",
   "metadata": {},
   "outputs": [],
   "source": []
  },
  {
   "cell_type": "code",
   "execution_count": null,
   "id": "7d88d8e2-efd5-4545-bc42-b139a9af8c6c",
   "metadata": {},
   "outputs": [],
   "source": []
  },
  {
   "cell_type": "code",
   "execution_count": null,
   "id": "6dc024d7-106f-4e0c-a9a7-0ed1858a10b1",
   "metadata": {},
   "outputs": [],
   "source": []
  },
  {
   "cell_type": "code",
   "execution_count": null,
   "id": "6cf15b20-0f49-42ed-b8db-4824eb3f527d",
   "metadata": {},
   "outputs": [],
   "source": []
  },
  {
   "cell_type": "code",
   "execution_count": null,
   "id": "518c590d-6c4b-46ef-a1da-b35b66406964",
   "metadata": {},
   "outputs": [],
   "source": []
  },
  {
   "cell_type": "code",
   "execution_count": null,
   "id": "cf4262d6-3fe4-4eda-afbe-4b04eb40b14f",
   "metadata": {},
   "outputs": [],
   "source": []
  },
  {
   "cell_type": "code",
   "execution_count": null,
   "id": "a485baa1-bb0d-40bb-aaca-d2b5bccc64a8",
   "metadata": {},
   "outputs": [],
   "source": []
  },
  {
   "cell_type": "code",
   "execution_count": null,
   "id": "af7eeb70-a377-4a71-bbfd-5b39c9d553fb",
   "metadata": {},
   "outputs": [],
   "source": []
  },
  {
   "cell_type": "code",
   "execution_count": null,
   "id": "1f1eca42-84b7-42c2-9da8-57337bdc6d54",
   "metadata": {},
   "outputs": [],
   "source": []
  },
  {
   "cell_type": "code",
   "execution_count": null,
   "id": "dfeb7b2d-681e-49dd-813e-8faee768d2fc",
   "metadata": {},
   "outputs": [],
   "source": []
  },
  {
   "cell_type": "code",
   "execution_count": null,
   "id": "383af750-72a3-4602-8009-86bb6a35e885",
   "metadata": {},
   "outputs": [],
   "source": []
  },
  {
   "cell_type": "code",
   "execution_count": null,
   "id": "00c561e5-e196-4e88-81dd-6ebd3975c345",
   "metadata": {},
   "outputs": [],
   "source": []
  },
  {
   "cell_type": "code",
   "execution_count": null,
   "id": "507fa3cf-9336-40be-8658-e2190dd6315c",
   "metadata": {},
   "outputs": [],
   "source": []
  },
  {
   "cell_type": "code",
   "execution_count": null,
   "id": "7b7a8489-2707-45a4-9dff-c1f1d3c0f66b",
   "metadata": {},
   "outputs": [],
   "source": []
  },
  {
   "cell_type": "code",
   "execution_count": null,
   "id": "23c59a44-1389-4319-a5df-65b4921ddd3b",
   "metadata": {},
   "outputs": [],
   "source": []
  },
  {
   "cell_type": "code",
   "execution_count": null,
   "id": "80ad61a2-2cd2-4e29-899d-1d20f9384b83",
   "metadata": {},
   "outputs": [],
   "source": []
  },
  {
   "cell_type": "code",
   "execution_count": null,
   "id": "c64a1518-0040-4516-b3ee-8061b1c10f23",
   "metadata": {},
   "outputs": [],
   "source": []
  },
  {
   "cell_type": "code",
   "execution_count": null,
   "id": "2e1c1a9d-33aa-48ed-95d1-ebd8ca02724f",
   "metadata": {},
   "outputs": [],
   "source": []
  },
  {
   "cell_type": "code",
   "execution_count": null,
   "id": "469ed57d-ab50-4e96-a254-9acfb12274dd",
   "metadata": {},
   "outputs": [],
   "source": []
  },
  {
   "cell_type": "code",
   "execution_count": null,
   "id": "fb4d6265-8ebc-4bfc-abab-4552742f0d47",
   "metadata": {},
   "outputs": [],
   "source": []
  },
  {
   "cell_type": "code",
   "execution_count": null,
   "id": "e8d62241-5715-4013-b318-2857058329a8",
   "metadata": {},
   "outputs": [],
   "source": []
  },
  {
   "cell_type": "code",
   "execution_count": null,
   "id": "838d88e4-45cc-46f7-9305-3454827d1f9e",
   "metadata": {},
   "outputs": [],
   "source": []
  },
  {
   "cell_type": "code",
   "execution_count": null,
   "id": "0a0f8ed4-2008-4e38-8297-a377849e9221",
   "metadata": {},
   "outputs": [],
   "source": []
  },
  {
   "cell_type": "code",
   "execution_count": 676,
   "id": "d20ac7b0-7c76-48d4-aa39-5024a39fe402",
   "metadata": {},
   "outputs": [],
   "source": [
    "import matplotlib.pyplot as plt\n",
    "import seaborn as sns"
   ]
  },
  {
   "cell_type": "code",
   "execution_count": 677,
   "id": "60cbb926-6d62-4e9c-a502-73eb41a57955",
   "metadata": {},
   "outputs": [
    {
     "data": {
      "text/plain": [
       "<Axes: >"
      ]
     },
     "execution_count": 677,
     "metadata": {},
     "output_type": "execute_result"
    },
    {
     "data": {
      "image/png": "[encoded data removed]",
      "text/plain": [
       "<Figure size 640x480 with 1 Axes>"
      ]
     },
     "metadata": {},
     "output_type": "display_data"
    }
   ],
   "source": [
    "sns.heatmap(df.isnull(), cbar = False)"
   ]
  },
  {
   "cell_type": "code",
   "execution_count": null,
   "id": "9c0b2137-6eac-437d-b8fa-05f8a6250220",
   "metadata": {},
   "outputs": [],
   "source": []
  },
  {
   "cell_type": "code",
   "execution_count": null,
   "id": "90165306-81c9-4635-87eb-736552c5f11f",
   "metadata": {},
   "outputs": [],
   "source": []
  },
  {
   "cell_type": "code",
   "execution_count": null,
   "id": "17cc8ae8-e2d0-4aa1-82d9-a1caad08e15b",
   "metadata": {},
   "outputs": [],
   "source": []
  },
  {
   "cell_type": "code",
   "execution_count": null,
   "id": "cc26356f-8a1a-4924-a370-f4493f679f44",
   "metadata": {},
   "outputs": [],
   "source": []
  },
  {
   "cell_type": "code",
   "execution_count": null,
   "id": "93f8101e-af97-4ea6-b095-704e3b21eca6",
   "metadata": {},
   "outputs": [],
   "source": []
  },
  {
   "cell_type": "code",
   "execution_count": null,
   "id": "bf575c59-0422-470e-9af9-22cbd56ca800",
   "metadata": {},
   "outputs": [],
   "source": []
  },
  {
   "cell_type": "code",
   "execution_count": null,
   "id": "1710c498-2093-4eb3-9eb8-4c241428e9ca",
   "metadata": {},
   "outputs": [],
   "source": []
  },
  {
   "cell_type": "code",
   "execution_count": null,
   "id": "8bcdaf23-fe2b-4b3a-a3f1-176ed358e45f",
   "metadata": {},
   "outputs": [],
   "source": []
  },
  {
   "cell_type": "code",
   "execution_count": null,
   "id": "358ef60a-089c-4e27-a829-3ff6665e401f",
   "metadata": {},
   "outputs": [],
   "source": []
  },
  {
   "cell_type": "code",
   "execution_count": null,
   "id": "c148ada8-fe6a-47bb-99dc-c044e43eb567",
   "metadata": {},
   "outputs": [],
   "source": []
  },
  {
   "cell_type": "code",
   "execution_count": null,
   "id": "fd4a8876-decf-47c4-a58f-49c721f53f3b",
   "metadata": {},
   "outputs": [],
   "source": []
  },
  {
   "cell_type": "code",
   "execution_count": null,
   "id": "4ffd6007-e633-4263-bb11-9bb7ca81e6cd",
   "metadata": {},
   "outputs": [],
   "source": []
  },
  {
   "cell_type": "code",
   "execution_count": null,
   "id": "28491702-524a-45fd-8a77-90914b1e655d",
   "metadata": {},
   "outputs": [],
   "source": []
  },
  {
   "cell_type": "code",
   "execution_count": null,
   "id": "28022632-84eb-451a-9d0d-23845836dbc0",
   "metadata": {},
   "outputs": [],
   "source": []
  },
  {
   "cell_type": "code",
   "execution_count": null,
   "id": "45a104d4-7869-446a-9a9c-5105402a0a88",
   "metadata": {},
   "outputs": [],
   "source": []
  },
  {
   "cell_type": "code",
   "execution_count": null,
   "id": "f873131f-8f82-4c61-a347-a7033e945b48",
   "metadata": {},
   "outputs": [],
   "source": []
  },
  {
   "cell_type": "code",
   "execution_count": null,
   "id": "22d14b5f-9b8e-4c21-863c-0c6eb3aaf403",
   "metadata": {},
   "outputs": [],
   "source": []
  },
  {
   "cell_type": "code",
   "execution_count": null,
   "id": "94d18cd1-6837-4b09-9b7d-e6ac6196bda6",
   "metadata": {},
   "outputs": [],
   "source": []
  },
  {
   "cell_type": "code",
   "execution_count": null,
   "id": "e627fc0b-0638-453d-835b-eb52c60d01dc",
   "metadata": {},
   "outputs": [],
   "source": []
  },
  {
   "cell_type": "code",
   "execution_count": null,
   "id": "fed5478d-d2aa-46ac-989c-dc5458bda578",
   "metadata": {},
   "outputs": [],
   "source": []
  },
  {
   "cell_type": "code",
   "execution_count": null,
   "id": "37e778a0-2b60-4738-9539-d6af0f5dbcfd",
   "metadata": {},
   "outputs": [],
   "source": []
  },
  {
   "cell_type": "code",
   "execution_count": null,
   "id": "df068add-f0af-4c26-b8e2-ae344e443369",
   "metadata": {},
   "outputs": [],
   "source": []
  },
  {
   "cell_type": "code",
   "execution_count": null,
   "id": "b1105158-1db7-4738-bb13-6ff8a7316230",
   "metadata": {},
   "outputs": [],
   "source": []
  },
  {
   "cell_type": "code",
   "execution_count": null,
   "id": "87624750-acd5-42a8-8e95-954f0162e440",
   "metadata": {},
   "outputs": [],
   "source": []
  },
  {
   "cell_type": "code",
   "execution_count": null,
   "id": "d72c45d8-1f46-4c32-a8d0-ac7fed308434",
   "metadata": {},
   "outputs": [],
   "source": []
  },
  {
   "cell_type": "code",
   "execution_count": null,
   "id": "d81f681a-4320-4621-80f2-84f5e081b63b",
   "metadata": {},
   "outputs": [],
   "source": []
  },
  {
   "cell_type": "code",
   "execution_count": null,
   "id": "8cf1db14-631e-4754-b4aa-77a016cad2e7",
   "metadata": {},
   "outputs": [],
   "source": []
  },
  {
   "cell_type": "code",
   "execution_count": null,
   "id": "524fa871-f899-4bef-b43e-9da8b02cd420",
   "metadata": {},
   "outputs": [],
   "source": []
  },
  {
   "cell_type": "code",
   "execution_count": null,
   "id": "bd5c3310-8060-4ccb-8cad-af7dd6367af2",
   "metadata": {},
   "outputs": [],
   "source": []
  },
  {
   "cell_type": "code",
   "execution_count": null,
   "id": "dcd4026d-d911-4da9-91fb-5982fc9a7c12",
   "metadata": {},
   "outputs": [],
   "source": []
  },
  {
   "cell_type": "code",
   "execution_count": null,
   "id": "c7f19b56-d2e5-486c-8456-58915d0bb17b",
   "metadata": {},
   "outputs": [],
   "source": []
  },
  {
   "cell_type": "code",
   "execution_count": null,
   "id": "d5f30fd4-3438-4bbc-8fcc-eb3f7756ee6c",
   "metadata": {},
   "outputs": [],
   "source": []
  },
  {
   "cell_type": "code",
   "execution_count": null,
   "id": "07c90d4d-6eda-40d5-a599-f50f625152c2",
   "metadata": {},
   "outputs": [],
   "source": []
  },
  {
   "cell_type": "code",
   "execution_count": null,
   "id": "34faad76-a28f-4ad9-a61f-c6a63196ecf4",
   "metadata": {},
   "outputs": [],
   "source": []
  },
  {
   "cell_type": "code",
   "execution_count": null,
   "id": "016e8604-8f34-4144-bb56-c595c3b7f2bf",
   "metadata": {},
   "outputs": [],
   "source": []
  },
  {
   "cell_type": "code",
   "execution_count": null,
   "id": "e29ade54-38a7-49bb-81cf-dc7222be824f",
   "metadata": {},
   "outputs": [],
   "source": []
  },
  {
   "cell_type": "code",
   "execution_count": null,
   "id": "67380fbe-1d1a-440b-9888-33a524ab551e",
   "metadata": {},
   "outputs": [],
   "source": []
  },
  {
   "cell_type": "code",
   "execution_count": null,
   "id": "0e45c0f3-3d87-42ca-b4d4-ec094f99801f",
   "metadata": {},
   "outputs": [],
   "source": []
  },
  {
   "cell_type": "code",
   "execution_count": null,
   "id": "7e050049-9cbf-4cb2-904b-dc0962ee5a72",
   "metadata": {},
   "outputs": [],
   "source": []
  },
  {
   "cell_type": "code",
   "execution_count": null,
   "id": "fd29babc-430e-4fc8-b842-15853f5d8900",
   "metadata": {},
   "outputs": [],
   "source": []
  },
  {
   "cell_type": "code",
   "execution_count": null,
   "id": "511c3e64-ea43-4c7b-9829-1affd5b4dcfd",
   "metadata": {},
   "outputs": [],
   "source": []
  },
  {
   "cell_type": "code",
   "execution_count": null,
   "id": "9e82b81a-2e11-46a6-b60d-d4f83a706f4a",
   "metadata": {},
   "outputs": [],
   "source": []
  },
  {
   "cell_type": "code",
   "execution_count": null,
   "id": "6dddaf62-5b07-46cf-a414-093003b800ae",
   "metadata": {},
   "outputs": [],
   "source": []
  },
  {
   "cell_type": "code",
   "execution_count": null,
   "id": "3b8580fd-d69c-42ca-991a-9fa5998ebb78",
   "metadata": {},
   "outputs": [],
   "source": []
  },
  {
   "cell_type": "code",
   "execution_count": null,
   "id": "809d03d5-3a0b-4448-9494-39655eaa414d",
   "metadata": {},
   "outputs": [],
   "source": []
  },
  {
   "cell_type": "code",
   "execution_count": null,
   "id": "9e0b9bf2-edd2-4870-aa2d-6c5b59094689",
   "metadata": {},
   "outputs": [],
   "source": []
  },
  {
   "cell_type": "code",
   "execution_count": null,
   "id": "0fa3150e-03f9-4445-9265-a618dc85840b",
   "metadata": {},
   "outputs": [],
   "source": []
  },
  {
   "cell_type": "code",
   "execution_count": null,
   "id": "3b9df890-a878-4135-9194-9d9974a05824",
   "metadata": {},
   "outputs": [],
   "source": []
  },
  {
   "cell_type": "code",
   "execution_count": null,
   "id": "e055d462-4249-4fe0-9e96-1270f3126cf4",
   "metadata": {},
   "outputs": [],
   "source": []
  },
  {
   "cell_type": "code",
   "execution_count": null,
   "id": "862ba4dc-a259-4474-900f-31d8d1deb8e4",
   "metadata": {},
   "outputs": [],
   "source": []
  },
  {
   "cell_type": "code",
   "execution_count": null,
   "id": "869a2c38-05e5-44f3-aad4-3c080621d0d3",
   "metadata": {},
   "outputs": [],
   "source": []
  },
  {
   "cell_type": "code",
   "execution_count": null,
   "id": "68bcf1ec-9a52-42ac-823e-c55db76ba38a",
   "metadata": {},
   "outputs": [],
   "source": []
  },
  {
   "cell_type": "code",
   "execution_count": null,
   "id": "4695a02d-04da-4618-b9bf-408e4de71ec3",
   "metadata": {},
   "outputs": [],
   "source": []
  },
  {
   "cell_type": "code",
   "execution_count": null,
   "id": "c94064ed-d0d5-4e9f-87eb-9e45d3696208",
   "metadata": {},
   "outputs": [],
   "source": []
  },
  {
   "cell_type": "code",
   "execution_count": null,
   "id": "ce85a71c-a6e0-465e-a693-6b4b61a093a6",
   "metadata": {},
   "outputs": [],
   "source": []
  },
  {
   "cell_type": "code",
   "execution_count": null,
   "id": "b0eabdcb-afdd-4e19-ac5c-89e2fbc05ded",
   "metadata": {},
   "outputs": [],
   "source": []
  },
  {
   "cell_type": "code",
   "execution_count": null,
   "id": "80837081-f302-47df-81cd-ba94dcf1a32b",
   "metadata": {},
   "outputs": [],
   "source": []
  },
  {
   "cell_type": "code",
   "execution_count": null,
   "id": "b0a451a6-184d-4c58-927c-5677eade703f",
   "metadata": {},
   "outputs": [],
   "source": []
  },
  {
   "cell_type": "code",
   "execution_count": null,
   "id": "960c4597-ead3-427b-9735-047b354a126a",
   "metadata": {},
   "outputs": [],
   "source": []
  }
 ],
 "metadata": {
  "kernelspec": {
   "display_name": "Python 3 (ipykernel)",
   "language": "python",
   "name": "python3"
  },
  "language_info": {
   "codemirror_mode": {
    "name": "ipython",
    "version": 3
   },
   "file_extension": ".py",
   "mimetype": "text/x-python",
   "name": "python",
   "nbconvert_exporter": "python",
   "pygments_lexer": "ipython3",
   "version": "3.12.4"
  }
 },
 "nbformat": 4,
 "nbformat_minor": 5
}
