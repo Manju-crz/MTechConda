{
 "cells": [
  {
   "cell_type": "markdown",
   "id": "689a3f50-d604-4f3d-96c8-72f0f4989134",
   "metadata": {
    "jp-MarkdownHeadingCollapsed": true
   },
   "source": [
    "### Import Required Libraries"
   ]
  },
  {
   "cell_type": "code",
   "execution_count": 6,
   "id": "f368e2dd-84c9-49b3-95ea-f8baba1f0c87",
   "metadata": {},
   "outputs": [],
   "source": [
    "import pandas as pd\n",
    "import numpy as np\n",
    "from sklearn.model_selection import train_test_split, GridSearchCV\n",
    "from sklearn.preprocessing import LabelEncoder, StandardScaler\n",
    "from sklearn.ensemble import RandomForestRegressor\n",
    "from sklearn.metrics import mean_squared_error\n",
    "import re\n",
    "import joblib"
   ]
  },
  {
   "cell_type": "code",
   "execution_count": null,
   "id": "595d1a5c-6cf8-47c6-81f8-f7ea1c8c5a5e",
   "metadata": {},
   "outputs": [],
   "source": []
  },
  {
   "cell_type": "markdown",
   "id": "d2e664c1-dfd4-4f07-8f50-dfd3937959b3",
   "metadata": {},
   "source": [
    "### Data Preprocessing of train.csv"
   ]
  },
  {
   "cell_type": "code",
   "execution_count": 96,
   "id": "8893db72-6835-4c48-9bbc-02754db854a9",
   "metadata": {},
   "outputs": [
    {
     "name": "stdout",
     "output_type": "stream",
     "text": [
      "<class 'pandas.core.frame.DataFrame'>\n",
      "RangeIndex: 10656 entries, 0 to 10655\n",
      "Data columns (total 10 columns):\n",
      " #   Column        Non-Null Count  Dtype  \n",
      "---  ------        --------------  -----  \n",
      " 0   ID            10656 non-null  int64  \n",
      " 1   area_type     10656 non-null  object \n",
      " 2   availability  10656 non-null  object \n",
      " 3   location      10655 non-null  object \n",
      " 4   size          10642 non-null  object \n",
      " 5   society       6228 non-null   object \n",
      " 6   total_sqft    10656 non-null  object \n",
      " 7   bath          10591 non-null  float64\n",
      " 8   balcony       10152 non-null  float64\n",
      " 9   price         10656 non-null  float64\n",
      "dtypes: float64(3), int64(1), object(6)\n",
      "memory usage: 832.6+ KB\n",
      "None\n"
     ]
    },
    {
     "data": {
      "text/html": [
       "<div>\n",
       "<style scoped>\n",
       "    .dataframe tbody tr th:only-of-type {\n",
       "        vertical-align: middle;\n",
       "    }\n",
       "\n",
       "    .dataframe tbody tr th {\n",
       "        vertical-align: top;\n",
       "    }\n",
       "\n",
       "    .dataframe thead th {\n",
       "        text-align: right;\n",
       "    }\n",
       "</style>\n",
       "<table border=\"1\" class=\"dataframe\">\n",
       "  <thead>\n",
       "    <tr style=\"text-align: right;\">\n",
       "      <th></th>\n",
       "      <th>ID</th>\n",
       "      <th>area_type</th>\n",
       "      <th>availability</th>\n",
       "      <th>location</th>\n",
       "      <th>size</th>\n",
       "      <th>society</th>\n",
       "      <th>total_sqft</th>\n",
       "      <th>bath</th>\n",
       "      <th>balcony</th>\n",
       "      <th>price</th>\n",
       "    </tr>\n",
       "  </thead>\n",
       "  <tbody>\n",
       "    <tr>\n",
       "      <th>0</th>\n",
       "      <td>0</td>\n",
       "      <td>Super built-up  Area</td>\n",
       "      <td>19-Dec</td>\n",
       "      <td>Electronic City Phase II</td>\n",
       "      <td>2 BHK</td>\n",
       "      <td>Coomee</td>\n",
       "      <td>1056</td>\n",
       "      <td>2.0</td>\n",
       "      <td>1.0</td>\n",
       "      <td>39.07</td>\n",
       "    </tr>\n",
       "    <tr>\n",
       "      <th>1</th>\n",
       "      <td>1</td>\n",
       "      <td>Plot  Area</td>\n",
       "      <td>Ready To Move</td>\n",
       "      <td>Chikka Tirupathi</td>\n",
       "      <td>4 Bedroom</td>\n",
       "      <td>Theanmp</td>\n",
       "      <td>2600</td>\n",
       "      <td>5.0</td>\n",
       "      <td>3.0</td>\n",
       "      <td>120.00</td>\n",
       "    </tr>\n",
       "    <tr>\n",
       "      <th>2</th>\n",
       "      <td>2</td>\n",
       "      <td>Built-up  Area</td>\n",
       "      <td>Ready To Move</td>\n",
       "      <td>Uttarahalli</td>\n",
       "      <td>3 BHK</td>\n",
       "      <td>NaN</td>\n",
       "      <td>1440</td>\n",
       "      <td>2.0</td>\n",
       "      <td>3.0</td>\n",
       "      <td>62.00</td>\n",
       "    </tr>\n",
       "  </tbody>\n",
       "</table>\n",
       "</div>"
      ],
      "text/plain": [
       "   ID             area_type   availability                  location  \\\n",
       "0   0  Super built-up  Area         19-Dec  Electronic City Phase II   \n",
       "1   1            Plot  Area  Ready To Move          Chikka Tirupathi   \n",
       "2   2        Built-up  Area  Ready To Move               Uttarahalli   \n",
       "\n",
       "        size  society total_sqft  bath  balcony   price  \n",
       "0      2 BHK  Coomee        1056   2.0      1.0   39.07  \n",
       "1  4 Bedroom  Theanmp       2600   5.0      3.0  120.00  \n",
       "2      3 BHK      NaN       1440   2.0      3.0   62.00  "
      ]
     },
     "execution_count": 96,
     "metadata": {},
     "output_type": "execute_result"
    }
   ],
   "source": [
    "trained_data = pd.read_csv(\"train.csv\")\n",
    "print(trained_data.info())\n",
    "trained_data.head(3)"
   ]
  },
  {
   "cell_type": "code",
   "execution_count": 98,
   "id": "358dc6be-134e-420f-b312-c45a3a9a3e88",
   "metadata": {},
   "outputs": [
    {
     "name": "stdout",
     "output_type": "stream",
     "text": [
      "ID                 0\n",
      "area_type          0\n",
      "availability       0\n",
      "location           1\n",
      "size              14\n",
      "society         4428\n",
      "total_sqft         0\n",
      "bath              65\n",
      "balcony          504\n",
      "price              0\n",
      "dtype: int64\n"
     ]
    }
   ],
   "source": [
    "missing_count = trained_data.isnull().sum()\n",
    "print(missing_count)"
   ]
  },
  {
   "cell_type": "code",
   "execution_count": 100,
   "id": "4a273296-8994-47ce-9d87-afa0ea36884f",
   "metadata": {},
   "outputs": [
    {
     "data": {
      "text/plain": [
       "array(['2 BHK', '4 BHK', '3 BHK', '6 BHK', '1 BHK', '1 RK', '8 BHK',\n",
       "       '7 BHK', '5 BHK', '11 BHK', '9 BHK', '27 BHK', '10 BHK', '19 BHK',\n",
       "       '16 BHK', '43 BHK', '14 BHK', '12 BHK', '13 BHK'], dtype=object)"
      ]
     },
     "execution_count": 100,
     "metadata": {},
     "output_type": "execute_result"
    }
   ],
   "source": [
    "trained_data = trained_data.dropna(subset=['location'])\n",
    "trained_data = trained_data.dropna(subset=['size'])\n",
    "trained_data['size'] = trained_data['size'].str.replace('Bedroom', 'BHK')\n",
    "trained_data['size'].unique()"
   ]
  },
  {
   "cell_type": "code",
   "execution_count": 102,
   "id": "8bd801d3-a5d3-4e59-b9bd-dc674d237d63",
   "metadata": {},
   "outputs": [],
   "source": [
    "trained_data = trained_data.drop('society', axis=1)"
   ]
  },
  {
   "cell_type": "code",
   "execution_count": 104,
   "id": "d2372f21-8135-4447-902f-bf815649860f",
   "metadata": {},
   "outputs": [
    {
     "name": "stdout",
     "output_type": "stream",
     "text": [
      "['1056' '2600' '1440' ... '2495' '3075' '1426']\n"
     ]
    }
   ],
   "source": [
    "unique_total_sqft = trained_data['total_sqft'].unique()\n",
    "print(unique_total_sqft)"
   ]
  },
  {
   "cell_type": "code",
   "execution_count": 106,
   "id": "7a859095-c5d1-4a9d-ab95-4296482aa247",
   "metadata": {},
   "outputs": [
    {
     "name": "stdout",
     "output_type": "stream",
     "text": [
      "30          2100 - 2850\n",
      "44              1330.74\n",
      "56          3010 - 3410\n",
      "81          2957 - 3450\n",
      "122         3067 - 8156\n",
      "              ...      \n",
      "10488         1.25Acres\n",
      "10491    86.72Sq. Meter\n",
      "10541         381 - 535\n",
      "10569       1230 - 1490\n",
      "10620       3630 - 3800\n",
      "Name: total_sqft, Length: 263, dtype: object\n",
      "263\n"
     ]
    }
   ],
   "source": [
    "non_integer_values = trained_data[trained_data['total_sqft'].apply(lambda x: not str(x).isdigit())]\n",
    "print(non_integer_values['total_sqft'])\n",
    "print(non_integer_values.shape[0])"
   ]
  },
  {
   "cell_type": "code",
   "execution_count": null,
   "id": "937bfd7d-4685-4ec1-aa1d-2dbb4fc6be19",
   "metadata": {},
   "outputs": [],
   "source": []
  },
  {
   "cell_type": "code",
   "execution_count": 108,
   "id": "783badc4-7c63-49ba-994a-d7fc2650ab25",
   "metadata": {},
   "outputs": [],
   "source": [
    "# If there is any value with something like 1230 - 1490; then replace with a mid-value of the same\n",
    "# also, convert from all other unit types to sqr feet\n",
    "def process_total_sqft(value):\n",
    "    value = str(value.strip().lower().replace(\" \", \"\"))\n",
    "    if '-' in value:\n",
    "        # Split the string at the hyphen, strip spaces, and calculate the average\n",
    "        parts = value.split('-')\n",
    "        part1 = float(parts[0].strip())  # Trim spaces and convert to float\n",
    "        part2 = float(parts[1].strip())  # Trim spaces and convert to float\n",
    "        avg_value = (part1 + part2) / 2\n",
    "        return str(avg_value)\n",
    "    elif value.endswith(\".0\"):\n",
    "        return value[:-2]\n",
    "    elif (value.endswith(\"acres\") or value.endswith(\"acre\") or value.endswith(\"acr\") or value.endswith(\"acrs\")):\n",
    "        value = value.replace(\"acres\", \"\").replace(\"acre\", \"\").replace(\"acr\", \"\").replace(\"acrs\", \"\")\n",
    "        return str(float(value) * 43560)\n",
    "    elif (value.endswith(\"sq.meter\") or value.endswith(\"sq.mtr\") or value.endswith(\"sqmeter\") or value.endswith(\"sqmtr\")):\n",
    "        value = value.replace(\"sq.meter\", \"\").replace(\"sq.mtr\", \"\").replace(\"sqmeter\", \"\").replace(\"sqmtr\", \"\")\n",
    "        return str(float(value) * 10.7639)\n",
    "    elif (value.endswith(\"perch\") or value.endswith(\"prch\")):\n",
    "        value = value.replace(\"perch\", \"\").replace(\"prch\", \"\")\n",
    "        return str(float(value) * 272.25)\n",
    "    elif (value.endswith(\"sq.yards\") or value.endswith(\"sq.yard\") or value.endswith(\"sqyrd\") or value.endswith(\"sqyrds\")):\n",
    "        value = value.replace(\"sq.yards\", \"\").replace(\"sq.yard\", \"\").replace(\"sqyrd\", \"\").replace(\"sqyrds\", \"\")\n",
    "        return str(float(value) * 9)\n",
    "    elif (value.endswith(\"cents\") or value.endswith(\"cent\") or value.endswith(\"cnts\") or value.endswith(\"cnt\")):\n",
    "        value = value.replace(\"cents\", \"\").replace(\"cent\", \"\").replace(\"cnts\", \"\").replace(\"cnt\", \"\")\n",
    "        return str(float(value) * 435.6)\n",
    "    elif (value.endswith(\"gunthas\") or value.endswith(\"guntha\") or value.endswith(\"guntas\") or value.endswith(\"gunta\")):\n",
    "        value = value.replace(\"gunthas\", \"\").replace(\"guntha\", \"\").replace(\"guntas\", \"\").replace(\"gunta\", \"\")\n",
    "        return str(float(value) * 1089)\n",
    "    elif (value.endswith(\"grounds\") or value.endswith(\"ground\") or value.endswith(\"grnds\") or value.endswith(\"grnd\")):\n",
    "        value = value.replace(\"grounds\", \"\").replace(\"ground\", \"\").replace(\"grnds\", \"\").replace(\"grnd\", \"\")\n",
    "        return str(float(value) * 2400)\n",
    "    else:\n",
    "        return value\n",
    "\n",
    "# Apply the function to the 'total_sqft' column\n",
    "trained_data['total_sqft'] = trained_data['total_sqft'].apply(process_total_sqft)\n",
    "trained_data['total_sqft'] = trained_data['total_sqft'].apply(process_total_sqft)\n",
    "trained_data['total_sqft'] = trained_data['total_sqft'].astype(float).round().astype(int)"
   ]
  },
  {
   "cell_type": "code",
   "execution_count": 110,
   "id": "73fc5711-0fe3-4d32-986a-4fa891738adf",
   "metadata": {},
   "outputs": [
    {
     "name": "stdout",
     "output_type": "stream",
     "text": [
      "['Super built-up  Area' 'Plot  Area' 'Built-up  Area' 'Carpet  Area']\n"
     ]
    }
   ],
   "source": [
    "unique_total_sqft = trained_data['area_type'].unique()\n",
    "print(unique_total_sqft)"
   ]
  },
  {
   "cell_type": "code",
   "execution_count": null,
   "id": "1ee22d5c-5cac-4960-a620-1ecb118cc9f0",
   "metadata": {},
   "outputs": [],
   "source": []
  },
  {
   "cell_type": "code",
   "execution_count": 112,
   "id": "a9f437bb-0df0-4d39-9acf-ef015bccd5fb",
   "metadata": {},
   "outputs": [],
   "source": [
    "grouped_size_data = trained_data.groupby('size').size()\n",
    "filtered_bath_data = trained_data[trained_data['bath'].notnull()]\n",
    "grouped_avg_bath = filtered_bath_data.groupby('size')['bath'].mean().astype(float).round().astype(int)\n",
    "\n",
    "# Replace blank values in 'bath' with grouped average\n",
    "def fill_blank_bath(row):\n",
    "    if pd.isnull(row['bath']):  # Check if 'bath' is null\n",
    "        return grouped_avg_bath.get(row['size'], row['bath'])  # Get the average for the group or keep as is\n",
    "    return row['bath']\n",
    "trained_data['bath'] = trained_data.apply(fill_blank_bath, axis=1)\n"
   ]
  },
  {
   "cell_type": "code",
   "execution_count": null,
   "id": "473c3e5c-273e-44e7-bc9d-e0fdbd7f0685",
   "metadata": {},
   "outputs": [],
   "source": []
  },
  {
   "cell_type": "code",
   "execution_count": 114,
   "id": "da3ef534-d642-46f6-a543-f1c48f4d4f11",
   "metadata": {},
   "outputs": [],
   "source": [
    "\n",
    "grouped_balcony_data = trained_data.groupby('balcony').size()\n",
    "filtered_balcony_data = trained_data[trained_data['balcony'].notnull()]\n",
    "grouped_avg_balcony = filtered_balcony_data.groupby('size')['balcony'].mean().astype(float).round().astype(int)\n",
    "\n",
    "# Replace blank values in 'bath' with grouped average\n",
    "def fill_blank_balcony(row):\n",
    "    if pd.isnull(row['balcony']):  # Check if 'bath' is null\n",
    "        return grouped_avg_balcony.get(row['size'], row['balcony'])  # Get the average for the group or keep as is\n",
    "    return row['balcony']\n",
    "trained_data['balcony'] = trained_data.apply(fill_blank_balcony, axis=1)\n",
    "average_balcony = round(trained_data['balcony'].mean())\n",
    "trained_data['balcony'] = trained_data['balcony'].fillna(average_balcony)"
   ]
  },
  {
   "cell_type": "code",
   "execution_count": 116,
   "id": "909bcffd-6837-4fb9-800d-1f1406305ee2",
   "metadata": {},
   "outputs": [
    {
     "name": "stdout",
     "output_type": "stream",
     "text": [
      "ID              0\n",
      "area_type       0\n",
      "availability    0\n",
      "location        0\n",
      "size            0\n",
      "total_sqft      0\n",
      "bath            0\n",
      "balcony         0\n",
      "price           0\n",
      "dtype: int64\n"
     ]
    }
   ],
   "source": [
    "missing_count = trained_data.isnull().sum()\n",
    "print(missing_count)"
   ]
  },
  {
   "cell_type": "code",
   "execution_count": null,
   "id": "a88735fe-2090-4cfb-b8e5-deb05e1eaa0d",
   "metadata": {},
   "outputs": [],
   "source": []
  },
  {
   "cell_type": "markdown",
   "id": "3b95227e-6670-4184-a5a4-100038cbe32d",
   "metadata": {},
   "source": [
    "### Merge Primary and Secondary data sets to train_data and process"
   ]
  },
  {
   "cell_type": "code",
   "execution_count": null,
   "id": "7e6b8db0-de57-4624-9bce-ef27106efa5f",
   "metadata": {},
   "outputs": [],
   "source": []
  },
  {
   "cell_type": "code",
   "execution_count": 118,
   "id": "8c242cc0-b1c7-46de-97d2-c81e26d2daf9",
   "metadata": {},
   "outputs": [],
   "source": [
    "dist_data = pd.read_csv('dist_from_city_centre.csv')\n",
    "rent_data = pd.read_csv('avg_rent.csv')"
   ]
  },
  {
   "cell_type": "code",
   "execution_count": 120,
   "id": "3f77d9ed-c25d-40ea-b87b-9d281bd02283",
   "metadata": {},
   "outputs": [
    {
     "data": {
      "text/html": [
       "<div>\n",
       "<style scoped>\n",
       "    .dataframe tbody tr th:only-of-type {\n",
       "        vertical-align: middle;\n",
       "    }\n",
       "\n",
       "    .dataframe tbody tr th {\n",
       "        vertical-align: top;\n",
       "    }\n",
       "\n",
       "    .dataframe thead th {\n",
       "        text-align: right;\n",
       "    }\n",
       "</style>\n",
       "<table border=\"1\" class=\"dataframe\">\n",
       "  <thead>\n",
       "    <tr style=\"text-align: right;\">\n",
       "      <th></th>\n",
       "      <th>location</th>\n",
       "      <th>dist_from_city</th>\n",
       "    </tr>\n",
       "  </thead>\n",
       "  <tbody>\n",
       "    <tr>\n",
       "      <th>0</th>\n",
       "      <td>Whitefield</td>\n",
       "      <td>17.3</td>\n",
       "    </tr>\n",
       "    <tr>\n",
       "      <th>1</th>\n",
       "      <td>Sarjapur  Road</td>\n",
       "      <td>17.2</td>\n",
       "    </tr>\n",
       "    <tr>\n",
       "      <th>2</th>\n",
       "      <td>Electronic City</td>\n",
       "      <td>18.1</td>\n",
       "    </tr>\n",
       "  </tbody>\n",
       "</table>\n",
       "</div>"
      ],
      "text/plain": [
       "          location  dist_from_city\n",
       "0       Whitefield            17.3\n",
       "1   Sarjapur  Road            17.2\n",
       "2  Electronic City            18.1"
      ]
     },
     "execution_count": 120,
     "metadata": {},
     "output_type": "execute_result"
    }
   ],
   "source": [
    "dist_data.head(3)"
   ]
  },
  {
   "cell_type": "code",
   "execution_count": 122,
   "id": "498e6a31-853e-4df5-b2dc-a85cd9cc309f",
   "metadata": {},
   "outputs": [
    {
     "data": {
      "text/html": [
       "<div>\n",
       "<style scoped>\n",
       "    .dataframe tbody tr th:only-of-type {\n",
       "        vertical-align: middle;\n",
       "    }\n",
       "\n",
       "    .dataframe tbody tr th {\n",
       "        vertical-align: top;\n",
       "    }\n",
       "\n",
       "    .dataframe thead th {\n",
       "        text-align: right;\n",
       "    }\n",
       "</style>\n",
       "<table border=\"1\" class=\"dataframe\">\n",
       "  <thead>\n",
       "    <tr style=\"text-align: right;\">\n",
       "      <th></th>\n",
       "      <th>location</th>\n",
       "      <th>avg_2bhk_rent</th>\n",
       "    </tr>\n",
       "  </thead>\n",
       "  <tbody>\n",
       "    <tr>\n",
       "      <th>0</th>\n",
       "      <td>Krishnarajapura</td>\n",
       "      <td>11954</td>\n",
       "    </tr>\n",
       "    <tr>\n",
       "      <th>1</th>\n",
       "      <td>Sarjapur</td>\n",
       "      <td>45000</td>\n",
       "    </tr>\n",
       "    <tr>\n",
       "      <th>2</th>\n",
       "      <td>Whitefield Hope Farm Junction</td>\n",
       "      <td>26370</td>\n",
       "    </tr>\n",
       "  </tbody>\n",
       "</table>\n",
       "</div>"
      ],
      "text/plain": [
       "                        location  avg_2bhk_rent\n",
       "0                Krishnarajapura          11954\n",
       "1                       Sarjapur          45000\n",
       "2  Whitefield Hope Farm Junction          26370"
      ]
     },
     "execution_count": 122,
     "metadata": {},
     "output_type": "execute_result"
    }
   ],
   "source": [
    "rent_data.head(3)"
   ]
  },
  {
   "cell_type": "code",
   "execution_count": 124,
   "id": "89b09406-ee26-45fa-a73c-3d23916e57d1",
   "metadata": {},
   "outputs": [
    {
     "data": {
      "text/html": [
       "<div>\n",
       "<style scoped>\n",
       "    .dataframe tbody tr th:only-of-type {\n",
       "        vertical-align: middle;\n",
       "    }\n",
       "\n",
       "    .dataframe tbody tr th {\n",
       "        vertical-align: top;\n",
       "    }\n",
       "\n",
       "    .dataframe thead th {\n",
       "        text-align: right;\n",
       "    }\n",
       "</style>\n",
       "<table border=\"1\" class=\"dataframe\">\n",
       "  <thead>\n",
       "    <tr style=\"text-align: right;\">\n",
       "      <th></th>\n",
       "      <th>ID</th>\n",
       "      <th>area_type</th>\n",
       "      <th>availability</th>\n",
       "      <th>location</th>\n",
       "      <th>size</th>\n",
       "      <th>total_sqft</th>\n",
       "      <th>bath</th>\n",
       "      <th>balcony</th>\n",
       "      <th>price</th>\n",
       "      <th>dist_from_city</th>\n",
       "      <th>avg_2bhk_rent</th>\n",
       "    </tr>\n",
       "  </thead>\n",
       "  <tbody>\n",
       "    <tr>\n",
       "      <th>0</th>\n",
       "      <td>0</td>\n",
       "      <td>Super built-up  Area</td>\n",
       "      <td>19-Dec</td>\n",
       "      <td>Electronic City Phase II</td>\n",
       "      <td>2 BHK</td>\n",
       "      <td>1056</td>\n",
       "      <td>2.0</td>\n",
       "      <td>1.0</td>\n",
       "      <td>39.07</td>\n",
       "      <td>19.3</td>\n",
       "      <td>11500.0</td>\n",
       "    </tr>\n",
       "    <tr>\n",
       "      <th>1</th>\n",
       "      <td>1</td>\n",
       "      <td>Plot  Area</td>\n",
       "      <td>Ready To Move</td>\n",
       "      <td>Chikka Tirupathi</td>\n",
       "      <td>4 BHK</td>\n",
       "      <td>2600</td>\n",
       "      <td>5.0</td>\n",
       "      <td>3.0</td>\n",
       "      <td>120.00</td>\n",
       "      <td>34.6</td>\n",
       "      <td>NaN</td>\n",
       "    </tr>\n",
       "    <tr>\n",
       "      <th>2</th>\n",
       "      <td>2</td>\n",
       "      <td>Built-up  Area</td>\n",
       "      <td>Ready To Move</td>\n",
       "      <td>Uttarahalli</td>\n",
       "      <td>3 BHK</td>\n",
       "      <td>1440</td>\n",
       "      <td>2.0</td>\n",
       "      <td>3.0</td>\n",
       "      <td>62.00</td>\n",
       "      <td>12.9</td>\n",
       "      <td>19750.0</td>\n",
       "    </tr>\n",
       "  </tbody>\n",
       "</table>\n",
       "</div>"
      ],
      "text/plain": [
       "   ID             area_type   availability                  location   size  \\\n",
       "0   0  Super built-up  Area         19-Dec  Electronic City Phase II  2 BHK   \n",
       "1   1            Plot  Area  Ready To Move          Chikka Tirupathi  4 BHK   \n",
       "2   2        Built-up  Area  Ready To Move               Uttarahalli  3 BHK   \n",
       "\n",
       "   total_sqft  bath  balcony   price  dist_from_city  avg_2bhk_rent  \n",
       "0        1056   2.0      1.0   39.07            19.3        11500.0  \n",
       "1        2600   5.0      3.0  120.00            34.6            NaN  \n",
       "2        1440   2.0      3.0   62.00            12.9        19750.0  "
      ]
     },
     "execution_count": 124,
     "metadata": {},
     "output_type": "execute_result"
    }
   ],
   "source": [
    "train_data = trained_data.merge(dist_data, on='location', how='left')\n",
    "train_data = train_data.merge(rent_data, on='location', how='left')\n",
    "train_data.head(3)"
   ]
  },
  {
   "cell_type": "code",
   "execution_count": null,
   "id": "50b5255b-c5ec-44f7-b162-811e6c8489c9",
   "metadata": {},
   "outputs": [],
   "source": []
  },
  {
   "cell_type": "code",
   "execution_count": 126,
   "id": "933b36e9-e38d-4956-88cd-8d2e681305fe",
   "metadata": {},
   "outputs": [
    {
     "name": "stdout",
     "output_type": "stream",
     "text": [
      "ID                   0\n",
      "area_type            0\n",
      "availability         0\n",
      "location             0\n",
      "size                 0\n",
      "total_sqft           0\n",
      "bath                 0\n",
      "balcony              0\n",
      "price                0\n",
      "dist_from_city    1023\n",
      "avg_2bhk_rent     6983\n",
      "dtype: int64\n"
     ]
    }
   ],
   "source": [
    "train_missing_count = train_data.isnull().sum()\n",
    "print(train_missing_count)"
   ]
  },
  {
   "cell_type": "code",
   "execution_count": 128,
   "id": "7405d2ae-bc06-445e-ad96-3d050e77c5a7",
   "metadata": {},
   "outputs": [],
   "source": [
    "train_data.fillna(train_data['dist_from_city'].mean(), inplace=True)\n",
    "train_data.fillna(train_data['avg_2bhk_rent'].mean(), inplace=True)"
   ]
  },
  {
   "cell_type": "code",
   "execution_count": 130,
   "id": "c71b39ff-e80a-4a22-9a0e-53aff017a9b0",
   "metadata": {},
   "outputs": [
    {
     "name": "stdout",
     "output_type": "stream",
     "text": [
      "ID                0\n",
      "area_type         0\n",
      "availability      0\n",
      "location          0\n",
      "size              0\n",
      "total_sqft        0\n",
      "bath              0\n",
      "balcony           0\n",
      "price             0\n",
      "dist_from_city    0\n",
      "avg_2bhk_rent     0\n",
      "dtype: int64\n"
     ]
    }
   ],
   "source": [
    "train_missing_count = train_data.isnull().sum()\n",
    "print(train_missing_count)"
   ]
  },
  {
   "cell_type": "code",
   "execution_count": 132,
   "id": "e158d971-da79-4c5e-9cfd-8a067e941f0d",
   "metadata": {},
   "outputs": [],
   "source": [
    "train_data['price_per_sqft'] = train_data['price'] / train_data['total_sqft']\n",
    "for column in ['area_type', 'availability', 'location', 'size']:\n",
    "    le = LabelEncoder()\n",
    "    train_data[column] = le.fit_transform(train_data[column])"
   ]
  },
  {
   "cell_type": "code",
   "execution_count": 134,
   "id": "066edd57-3b66-4e13-ae41-49a818f961e7",
   "metadata": {},
   "outputs": [],
   "source": [
    "train_data['price_per_sqft'] = train_data['price'] / train_data['total_sqft']\n",
    "train_data['rent_to_price_ratio'] = train_data['avg_2bhk_rent'] / train_data['price']\n",
    "# Separate features and target in training data\n",
    "X_train = train_data.drop(columns=['price'])\n",
    "y_train = train_data['price']"
   ]
  },
  {
   "cell_type": "code",
   "execution_count": 136,
   "id": "03cdbc26-5365-4e8a-aa7b-6c8a2f3faac3",
   "metadata": {},
   "outputs": [],
   "source": [
    "train_data.to_csv('trained.csv', index=False)"
   ]
  },
  {
   "cell_type": "markdown",
   "id": "e83ba0e0-315e-4961-8873-5ffaa954ec20",
   "metadata": {
    "jp-MarkdownHeadingCollapsed": true
   },
   "source": [
    "### Data Preprocessing of test_data"
   ]
  },
  {
   "cell_type": "code",
   "execution_count": 139,
   "id": "30986ce8-9741-475a-b982-f904c2cb5997",
   "metadata": {},
   "outputs": [
    {
     "name": "stdout",
     "output_type": "stream",
     "text": [
      "<class 'pandas.core.frame.DataFrame'>\n",
      "RangeIndex: 2664 entries, 0 to 2663\n",
      "Data columns (total 9 columns):\n",
      " #   Column        Non-Null Count  Dtype  \n",
      "---  ------        --------------  -----  \n",
      " 0   ID            2664 non-null   int64  \n",
      " 1   area_type     2664 non-null   object \n",
      " 2   availability  2664 non-null   object \n",
      " 3   location      2664 non-null   object \n",
      " 4   size          2662 non-null   object \n",
      " 5   society       1590 non-null   object \n",
      " 6   total_sqft    2664 non-null   object \n",
      " 7   bath          2656 non-null   float64\n",
      " 8   balcony       2559 non-null   float64\n",
      "dtypes: float64(2), int64(1), object(6)\n",
      "memory usage: 187.4+ KB\n",
      "None\n"
     ]
    },
    {
     "data": {
      "text/html": [
       "<div>\n",
       "<style scoped>\n",
       "    .dataframe tbody tr th:only-of-type {\n",
       "        vertical-align: middle;\n",
       "    }\n",
       "\n",
       "    .dataframe tbody tr th {\n",
       "        vertical-align: top;\n",
       "    }\n",
       "\n",
       "    .dataframe thead th {\n",
       "        text-align: right;\n",
       "    }\n",
       "</style>\n",
       "<table border=\"1\" class=\"dataframe\">\n",
       "  <thead>\n",
       "    <tr style=\"text-align: right;\">\n",
       "      <th></th>\n",
       "      <th>ID</th>\n",
       "      <th>area_type</th>\n",
       "      <th>availability</th>\n",
       "      <th>location</th>\n",
       "      <th>size</th>\n",
       "      <th>society</th>\n",
       "      <th>total_sqft</th>\n",
       "      <th>bath</th>\n",
       "      <th>balcony</th>\n",
       "    </tr>\n",
       "  </thead>\n",
       "  <tbody>\n",
       "    <tr>\n",
       "      <th>0</th>\n",
       "      <td>0</td>\n",
       "      <td>Super built-up  Area</td>\n",
       "      <td>Ready To Move</td>\n",
       "      <td>Chamrajpet</td>\n",
       "      <td>2 BHK</td>\n",
       "      <td>NaN</td>\n",
       "      <td>650</td>\n",
       "      <td>1.0</td>\n",
       "      <td>1.0</td>\n",
       "    </tr>\n",
       "    <tr>\n",
       "      <th>1</th>\n",
       "      <td>1</td>\n",
       "      <td>Super built-up  Area</td>\n",
       "      <td>Ready To Move</td>\n",
       "      <td>7th Phase JP Nagar</td>\n",
       "      <td>3 BHK</td>\n",
       "      <td>SrncyRe</td>\n",
       "      <td>1370</td>\n",
       "      <td>2.0</td>\n",
       "      <td>1.0</td>\n",
       "    </tr>\n",
       "    <tr>\n",
       "      <th>2</th>\n",
       "      <td>2</td>\n",
       "      <td>Super built-up  Area</td>\n",
       "      <td>Ready To Move</td>\n",
       "      <td>Whitefield</td>\n",
       "      <td>3 BHK</td>\n",
       "      <td>AjhalNa</td>\n",
       "      <td>1725</td>\n",
       "      <td>3.0</td>\n",
       "      <td>2.0</td>\n",
       "    </tr>\n",
       "  </tbody>\n",
       "</table>\n",
       "</div>"
      ],
      "text/plain": [
       "   ID             area_type   availability            location   size  \\\n",
       "0   0  Super built-up  Area  Ready To Move          Chamrajpet  2 BHK   \n",
       "1   1  Super built-up  Area  Ready To Move  7th Phase JP Nagar  3 BHK   \n",
       "2   2  Super built-up  Area  Ready To Move          Whitefield  3 BHK   \n",
       "\n",
       "   society total_sqft  bath  balcony  \n",
       "0      NaN        650   1.0      1.0  \n",
       "1  SrncyRe       1370   2.0      1.0  \n",
       "2  AjhalNa       1725   3.0      2.0  "
      ]
     },
     "execution_count": 139,
     "metadata": {},
     "output_type": "execute_result"
    }
   ],
   "source": [
    "test_data = pd.read_csv(\"test.csv\")\n",
    "print(test_data.info())\n",
    "test_data.head(3)"
   ]
  },
  {
   "cell_type": "code",
   "execution_count": 141,
   "id": "7d3edbef-d700-4ab2-b31d-9f084918c9eb",
   "metadata": {},
   "outputs": [
    {
     "name": "stdout",
     "output_type": "stream",
     "text": [
      "ID                 0\n",
      "area_type          0\n",
      "availability       0\n",
      "location           0\n",
      "size               2\n",
      "society         1074\n",
      "total_sqft         0\n",
      "bath               8\n",
      "balcony          105\n",
      "dtype: int64\n"
     ]
    }
   ],
   "source": [
    "missing_count = test_data.isnull().sum()\n",
    "print(missing_count)"
   ]
  },
  {
   "cell_type": "code",
   "execution_count": 143,
   "id": "bc44dd40-142f-4b41-983e-1782b3b5c328",
   "metadata": {},
   "outputs": [
    {
     "data": {
      "text/plain": [
       "array(['2 BHK', '3 BHK', '1 BHK', '4 BHK', '5 BHK', '9 BHK', '6 BHK',\n",
       "       '8 BHK', '7 BHK', '10 BHK', '18 BHK'], dtype=object)"
      ]
     },
     "execution_count": 143,
     "metadata": {},
     "output_type": "execute_result"
    }
   ],
   "source": [
    "test_data = test_data.dropna(subset=['location'])\n",
    "test_data = test_data.dropna(subset=['size'])\n",
    "test_data['size'] = test_data['size'].str.replace('Bedroom', 'BHK')\n",
    "test_data['size'].unique()"
   ]
  },
  {
   "cell_type": "code",
   "execution_count": 145,
   "id": "02e3bd2e-3c35-45ab-bc93-c81df4f9628b",
   "metadata": {},
   "outputs": [],
   "source": [
    "test_data = test_data.drop('society', axis=1)"
   ]
  },
  {
   "cell_type": "code",
   "execution_count": 34,
   "id": "4ed5c682-fbe4-421d-8b60-ed578215c920",
   "metadata": {},
   "outputs": [
    {
     "name": "stdout",
     "output_type": "stream",
     "text": [
      "['650' '1370' '1725' '1000' '1350' '3200' '1717' '700' '800' '2367' '1415'\n",
      " '1976' '883' '1445' '2082' '1140' '933' '1155' '1130' '1200' '1055'\n",
      " '1555' '1420' '2214' '658' '896.9' '4000' '1035' '2064' '1839' '488'\n",
      " '2760' '993' '1225' '900' '825' '3596' '1800' '925' '1167' '1150' '675'\n",
      " '2260' '660 - 780' '4800' '1100' '550' '1330' '1320' '1685' '2400' '1770'\n",
      " '2100' '600' '2916' '1419.59' '1400' '750' '1070' '1536' '1710'\n",
      " '1618 - 1929' '1342' '1600' '938' '1820' '2439' '1665' '1850' '1091'\n",
      " '1346' '1720' '3675' '1060' '1059' '1299' '1491' '2088' '581' '1296'\n",
      " '1125' '1275' '1095' '10000' '1135' '516' '1194' '2250' '770' '3930'\n",
      " '1355' '3000' '2569' '3758' '1116' '1707' '6000' '1240' '1300' '1700'\n",
      " '1383' '935' '2072' '2200' '615' '1639' '625' '2289' '2316' '1005' '1080'\n",
      " '910' '1110' '1142' '1626.6' '1074' '1230' '660' '1007' '1050' '1348'\n",
      " '1176' '1590' '1298' '1161' '1285' '1644' '1819' '1205' '2350' '1270'\n",
      " '1221' '840' '1339' '4303' '1315' '1250' '850' '1312' '1990' '760' '5000'\n",
      " '1614' '1500' '1182' '1053' '2000' '1940' '1075' '1260' '1702' '1189'\n",
      " '4482' '1210' '1900' '1935' '1410' '1469' '986' '1460' '1345' '980'\n",
      " '1164' '929' '1065' '1150 - 1194' '1020' '1362' '672' '1746' '1025'\n",
      " '1532' '1188' '3565' '1170' '2600' '2507' '1061' '1290' '1120' '418'\n",
      " '1333' '1691' '684 - 810' '2030' '1012' '1245' '1765' '967' '1044' '1518'\n",
      " '1798' '866.28' '3410' '1179' '3600' '2098' '1190' '1761' '1128' '1220'\n",
      " '509' '1852' '1045' '3535' '1102' '1436' '1397' '645' '2050' '1335'\n",
      " '1255' '2376' '663' '1276' '1450' '1305' '1740' '680' '1154' '1525'\n",
      " '2470' '1272' '1945' '1033' '2300' '1235' '1880' '2450' '2041' '1037'\n",
      " '1184' '1680' '1411' '3500' '1185' '1545' '1515' '1107' '1540' '710'\n",
      " '1584.01' '875' '1485' '1640' '1165' '4500' '1232' '1704' '1222' '1517'\n",
      " '1166' '870' '3019' '3800' '971' '1810' '1510 - 1670' '1560' '1650'\n",
      " '1645' '1748' '3420' '1610' '1870' '1510' '2700' '1149' '1948' '1448'\n",
      " '1242' '1268' '1101' '984' '1089' '950' '1068' '860' '1756' '8321' '1604'\n",
      " '2732' '1015' '1010' '1248.52' '410' '1656' '1451' '4395' '4600' '1340'\n",
      " '1096' '1160' '1936' '1269' '1586' '1376' '1452' '1538' '1427' '1197'\n",
      " '674' '1573' '2045' '1056' '1204' '1310' '1416' '1145' '7200' '1231'\n",
      " '1664' '972' '1750' '3155' '994' '1441' '1157' '1370.07' '1062' '1430'\n",
      " '1195' '2640' '1550 - 1590' '782' '1011' '1129' '1126' '1180' '940'\n",
      " '1933' '1082' '610' '3850' '777.4' '2500' '1864' '1115' '400' '992'\n",
      " '1735' '1009' '1470' '1527' '985' '3300' '1277' '1530' '1886' '3453'\n",
      " '1490' '3522' '1244' '623' '1034' '1191' '1719' '1752.12' '2990' '1660'\n",
      " '1365' '2546' '1392' '1162' '1476' '943' '1113' '1615' '1279' '1256'\n",
      " '1805' '1357' '1777.26' '845' '829' '1879' '1108' '1401' '1751' '1550'\n",
      " '1235 - 1410' '1175' '1407' '1027' '3730' '1737' '3484 - 3550' '1030'\n",
      " '1057' '2774' '3626' '5100' '1139.7' '2425' '1323' '740' '1920'\n",
      " '38Guntha' '1588' '1308' '3280' '2170' '1107.83' '1090' '1247' '1595'\n",
      " '1705' '2325' '1347' '1402' '2280' '1919' '1565' '1581' '2882' '1440'\n",
      " '2180' '7000' '1449' '929 - 1078' '3009' '1698' '2150 - 2225' '2051'\n",
      " '1404' '1252' '1885' '3381' '2312' '970' '1520 - 1759' '2150' '1635'\n",
      " '3425' '2950' '4450' '2390' '1690' '1386' '1732' '1390' '416' '1453'\n",
      " '1226' '784' '1168' '1776' '1634' '2800' '1133' '1559' '6652' '976'\n",
      " '2940' '1633' '1151' '2215' '1183' '1643' '1291' '1575' '1236' '2475'\n",
      " '4694' '3150' '1018' '3520' '918' '927' '2580 - 2591' '302' '525'\n",
      " '629 - 1026' '2282' '2172' '1088' '1995' '1309' '880' '1041' '1505'\n",
      " '1767' '1293' '1280' '1814' '1243' '1475' '1353' '2695' '1585' '1385'\n",
      " '60' '1203' '905' '1105' '1830' '1215 - 1495' '1980' '842' '1884' '1196'\n",
      " '2145' '1192' '1447' '1329' '1314' '1214' '1513' '6Acres' '1246' '705'\n",
      " '1495' '996' '975' '1261' '982' '1040' '1960' '1140 - 1250' '450' '4304'\n",
      " '648' '4209' '1718' '1480' '500' '1760' '2415' '644' '1251' '1731' '1206'\n",
      " '702' '1208' '1589' '560' '1426' '1171' '1465' '1580' '1473' '4040'\n",
      " '2456' '1521' '2406' '1630' '1670' '830' '9600' '2400 - 2600' '2750'\n",
      " '2137' '973' '1724' '2787' '891' '1787' '1730' '1692' '1602' '793' '3250'\n",
      " '1625' '1032' '1496' '1482' '2360' '1563' '1344' '812' '3175' '1360'\n",
      " '1835' '1141' '1356' '1052 - 1322' '1745' '2035' '633' '485' '1112'\n",
      " '2275' '1419' '2020' '1047' '865' '8840' '823' '990' '1950' '520' '1216'\n",
      " '1026' '3335' '1804' '2375' '960' '1152' '965' '1684' '1672' '1464'\n",
      " '1169' '1875' '1241' '815' '5666 - 5669' '1368' '420' '614' '1408' '1223'\n",
      " '1507' '1021' '2162.03' '6729' '1827' '1930' '1158' '1520' '620 - 934'\n",
      " '2710' '893' '5400' '1843' '1138' '1396' '1104' '1052' '2240' '2019'\n",
      " '1893' '1318' '1325' '1567' '1747' '1524' '966' '1273' '2615' '1322'\n",
      " '1755' '772' '2999.97' '1085' '1785' '1201' '1289' '1991' '1377' '2880'\n",
      " '1892' '2176' '3554' '1801' '4250' '1806' '3671' '2144' '1681' '3633'\n",
      " '1607' '1708' '1890' '1063' '1067' '1343' '2236' '2955' '1950.2'\n",
      " '712 - 938' '602' '2171.66' '720' '1790' '1783 - 1878' '120Sq. Yards'\n",
      " '708' '3122' '540' '1837' '3729' '1715' '1123' '953' '1457' '5515' '1013'\n",
      " '907' '1891' '24Sq. Meter' '2040' '930' '920' '1213' '1653' '1321' '1570'\n",
      " '1274' '1317' '2528 - 3188' '656' '1153' '2031' '1454' '1405' '2153'\n",
      " '2135' '1382' '936' '475' '1623.29' '650 - 760' '1675' '2257' '595'\n",
      " '3750' '5480' '3040' '654' '5656' '1072' '1425' '866' '1295' '3504'\n",
      " '4723' '820' '3508' '3700' '1354' '2453' '1762' '2650' '3295' '2119'\n",
      " '2505' '995' '1081' '605' '567' '1400 - 1421' '3206' '1846' '4350' '1965'\n",
      " '1894' '1443' '886' '1284' '350' '16335' '747' '1738' '2790' '1857'\n",
      " '1763' '3408' '1876' '1938' '1832' '1423' '1432' '1916' '1336' '1294'\n",
      " '4100' '4000 - 4450' '3050' '1636' '2087.01' '1844' '142.84Sq. Meter'\n",
      " '1215' '955' '884' '2559' '3734' '964' '2321' '1484' '620' '3100' '4007'\n",
      " '2409' '1541' '1224' '1676' '575' '640' '589' '300Sq. Yards' '1435'\n",
      " '1092' '1442' '497' '1768' '1094' '2875' '2340' '1655' '2024' '6200'\n",
      " '1265' '1855' '2089' '2900' '1694' '1612' '2295' '4144' '1046' '1097'\n",
      " '2160' '1297' '1375' '4750' '1594' '2777.29' '1371' '3210' '1234' '2140'\n",
      " '1584' '1583' '1115 - 1130' '1227' '1686' '1654' '1989' '754' '580'\n",
      " '1910' '1332' '2444' '3290' '1932.47' '2086' '2503' '1282' '2204 - 2362'\n",
      " '1516' '3385' '3895' '755' '1571' '1489' '911' '1535' '957' '2206' '1181'\n",
      " '1622' '1466' '876' '1659' '2485' '1313' '890' '1173' '1662'\n",
      " '1437 - 1629' '2665' '1799' '1084' '1328' '1031' '850 - 1060' '1267'\n",
      " '30400' '545' '1804 - 2273' '1367' '1701' '1016' '2292' '1616' '1022'\n",
      " '1264' '1605' '1596' '1557' '1984' '2259' '1200 - 1470' '1674' '1786'\n",
      " '1564' '1334' '7150' '1369' '1418' '1881' '5665.84' '2610' '1576' '1307'\n",
      " '2920' '1349' '440' '1198' '6688' '1331.95' '2093' '2872' '1486' '1058'\n",
      " '1975' '1648' '2265' '530' '1688' '1379' '1121' '3124' '2099' '9200'\n",
      " '8000' '814' '745' '613' '896' '250' '1178' '1508' '2395' '1667' '1903'\n",
      " '1048' '1020 - 1130' '1651' '1783' '2758' '1132' '1917' '1703' '1211'\n",
      " '1146' '877' '1477' '1380' '1133 - 1384' '3360' '2010' '510' '2111'\n",
      " '4050' '2830 - 2882' '774' '1187' '1262' '4689']\n"
     ]
    }
   ],
   "source": [
    "unique_total_sqft = test_data['total_sqft'].unique()\n",
    "print(unique_total_sqft)"
   ]
  },
  {
   "cell_type": "code",
   "execution_count": 149,
   "id": "b8770d45-c1c8-44f4-b1bc-c37b4126f8db",
   "metadata": {},
   "outputs": [
    {
     "name": "stdout",
     "output_type": "stream",
     "text": [
      "27            896.9\n",
      "50        660 - 780\n",
      "63          1419.59\n",
      "70      1618 - 1929\n",
      "138          1626.6\n",
      "           ...     \n",
      "2430        5665.84\n",
      "2467        1331.95\n",
      "2584    1020 - 1130\n",
      "2609    1133 - 1384\n",
      "2643    2830 - 2882\n",
      "Name: total_sqft, Length: 63, dtype: object\n",
      "63\n"
     ]
    }
   ],
   "source": [
    "non_integer_values = test_data[test_data['total_sqft'].apply(lambda x: not str(x).isdigit())]\n",
    "print(non_integer_values['total_sqft'])\n",
    "print(non_integer_values.shape[0])"
   ]
  },
  {
   "cell_type": "code",
   "execution_count": 151,
   "id": "11a2e35e-63b3-45ba-bc5f-a6ab6e2c8f86",
   "metadata": {},
   "outputs": [],
   "source": [
    "test_data['total_sqft'] = test_data['total_sqft'].apply(process_total_sqft)\n",
    "test_data['total_sqft'] = test_data['total_sqft'].apply(process_total_sqft)\n",
    "test_data['total_sqft'] = test_data['total_sqft'].astype(float).round().astype(int)"
   ]
  },
  {
   "cell_type": "code",
   "execution_count": 153,
   "id": "e5e6a9bb-f9a3-44ad-8527-8a9477efc4e3",
   "metadata": {},
   "outputs": [
    {
     "name": "stdout",
     "output_type": "stream",
     "text": [
      "['Super built-up  Area' 'Built-up  Area' 'Plot  Area' 'Carpet  Area']\n"
     ]
    }
   ],
   "source": [
    "unique_total_sqft = test_data['area_type'].unique()\n",
    "print(unique_total_sqft)"
   ]
  },
  {
   "cell_type": "code",
   "execution_count": 155,
   "id": "093b3a0b-9051-4616-9050-9f73c00115cf",
   "metadata": {},
   "outputs": [],
   "source": [
    "grouped_size_data = test_data.groupby('size').size()\n",
    "filtered_bath_data = test_data[test_data['bath'].notnull()]\n",
    "grouped_avg_bath = filtered_bath_data.groupby('size')['bath'].mean().astype(float).round().astype(int)\n",
    "\n",
    "# Replace blank values in 'bath' with grouped average\n",
    "def fill_blank_bath(row):\n",
    "    if pd.isnull(row['bath']):  # Check if 'bath' is null\n",
    "        return grouped_avg_bath.get(row['size'], row['bath'])  # Get the average for the group or keep as is\n",
    "    return row['bath']\n",
    "test_data['bath'] = test_data.apply(fill_blank_bath, axis=1)"
   ]
  },
  {
   "cell_type": "code",
   "execution_count": 157,
   "id": "4fd8ee47-bb56-4ea2-b4c7-4e6c8c74e722",
   "metadata": {},
   "outputs": [],
   "source": [
    "grouped_balcony_data = test_data.groupby('balcony').size()\n",
    "filtered_balcony_data = test_data[test_data['balcony'].notnull()]\n",
    "grouped_avg_balcony = filtered_balcony_data.groupby('size')['balcony'].mean().astype(float).round().astype(int)\n",
    "\n",
    "# Replace blank values in 'bath' with grouped average\n",
    "def fill_blank_balcony(row):\n",
    "    if pd.isnull(row['balcony']):  # Check if 'bath' is null\n",
    "        return grouped_avg_balcony.get(row['size'], row['balcony'])  # Get the average for the group or keep as is\n",
    "    return row['balcony']\n",
    "test_data['balcony'] = test_data.apply(fill_blank_balcony, axis=1)\n",
    "average_balcony = round(test_data['balcony'].mean())\n",
    "test_data['balcony'] = test_data['balcony'].fillna(average_balcony)"
   ]
  },
  {
   "cell_type": "code",
   "execution_count": 159,
   "id": "8e2554e9-468f-4e82-93d0-6a5eeb540cbc",
   "metadata": {},
   "outputs": [
    {
     "name": "stdout",
     "output_type": "stream",
     "text": [
      "ID              0\n",
      "area_type       0\n",
      "availability    0\n",
      "location        0\n",
      "size            0\n",
      "total_sqft      0\n",
      "bath            0\n",
      "balcony         0\n",
      "dtype: int64\n"
     ]
    }
   ],
   "source": [
    "missing_count = test_data.isnull().sum()\n",
    "print(missing_count)"
   ]
  },
  {
   "cell_type": "code",
   "execution_count": null,
   "id": "fc5c5e79-b15c-48e9-8620-355f00ae5e49",
   "metadata": {},
   "outputs": [],
   "source": []
  },
  {
   "cell_type": "markdown",
   "id": "d702c5d9-fe49-468c-9865-f098fdb7e405",
   "metadata": {
    "jp-MarkdownHeadingCollapsed": true
   },
   "source": [
    "### Merge Primary and Secondary data sets to test_data and process"
   ]
  },
  {
   "cell_type": "code",
   "execution_count": 161,
   "id": "a38ad2a6-a0cc-4ae3-9d6f-0b7427f711a6",
   "metadata": {},
   "outputs": [
    {
     "data": {
      "text/html": [
       "<div>\n",
       "<style scoped>\n",
       "    .dataframe tbody tr th:only-of-type {\n",
       "        vertical-align: middle;\n",
       "    }\n",
       "\n",
       "    .dataframe tbody tr th {\n",
       "        vertical-align: top;\n",
       "    }\n",
       "\n",
       "    .dataframe thead th {\n",
       "        text-align: right;\n",
       "    }\n",
       "</style>\n",
       "<table border=\"1\" class=\"dataframe\">\n",
       "  <thead>\n",
       "    <tr style=\"text-align: right;\">\n",
       "      <th></th>\n",
       "      <th>ID</th>\n",
       "      <th>area_type</th>\n",
       "      <th>availability</th>\n",
       "      <th>location</th>\n",
       "      <th>size</th>\n",
       "      <th>total_sqft</th>\n",
       "      <th>bath</th>\n",
       "      <th>balcony</th>\n",
       "      <th>dist_from_city</th>\n",
       "      <th>avg_2bhk_rent</th>\n",
       "    </tr>\n",
       "  </thead>\n",
       "  <tbody>\n",
       "    <tr>\n",
       "      <th>0</th>\n",
       "      <td>0</td>\n",
       "      <td>Super built-up  Area</td>\n",
       "      <td>Ready To Move</td>\n",
       "      <td>Chamrajpet</td>\n",
       "      <td>2 BHK</td>\n",
       "      <td>650</td>\n",
       "      <td>1.0</td>\n",
       "      <td>1.0</td>\n",
       "      <td>6.7</td>\n",
       "      <td>15875.0</td>\n",
       "    </tr>\n",
       "    <tr>\n",
       "      <th>1</th>\n",
       "      <td>1</td>\n",
       "      <td>Super built-up  Area</td>\n",
       "      <td>Ready To Move</td>\n",
       "      <td>7th Phase JP Nagar</td>\n",
       "      <td>3 BHK</td>\n",
       "      <td>1370</td>\n",
       "      <td>2.0</td>\n",
       "      <td>1.0</td>\n",
       "      <td>11.0</td>\n",
       "      <td>NaN</td>\n",
       "    </tr>\n",
       "    <tr>\n",
       "      <th>2</th>\n",
       "      <td>2</td>\n",
       "      <td>Super built-up  Area</td>\n",
       "      <td>Ready To Move</td>\n",
       "      <td>Whitefield</td>\n",
       "      <td>3 BHK</td>\n",
       "      <td>1725</td>\n",
       "      <td>3.0</td>\n",
       "      <td>2.0</td>\n",
       "      <td>17.3</td>\n",
       "      <td>14981.0</td>\n",
       "    </tr>\n",
       "  </tbody>\n",
       "</table>\n",
       "</div>"
      ],
      "text/plain": [
       "   ID             area_type   availability            location   size  \\\n",
       "0   0  Super built-up  Area  Ready To Move          Chamrajpet  2 BHK   \n",
       "1   1  Super built-up  Area  Ready To Move  7th Phase JP Nagar  3 BHK   \n",
       "2   2  Super built-up  Area  Ready To Move          Whitefield  3 BHK   \n",
       "\n",
       "   total_sqft  bath  balcony  dist_from_city  avg_2bhk_rent  \n",
       "0         650   1.0      1.0             6.7        15875.0  \n",
       "1        1370   2.0      1.0            11.0            NaN  \n",
       "2        1725   3.0      2.0            17.3        14981.0  "
      ]
     },
     "execution_count": 161,
     "metadata": {},
     "output_type": "execute_result"
    }
   ],
   "source": [
    "test_data = test_data.merge(dist_data, on='location', how='left')\n",
    "test_data = test_data.merge(rent_data, on='location', how='left')\n",
    "test_data.head(3)"
   ]
  },
  {
   "cell_type": "code",
   "execution_count": 163,
   "id": "7326e28b-1d2c-4965-a15f-91f53b5347a8",
   "metadata": {},
   "outputs": [
    {
     "name": "stdout",
     "output_type": "stream",
     "text": [
      "ID                   0\n",
      "area_type            0\n",
      "availability         0\n",
      "location             0\n",
      "size                 0\n",
      "total_sqft           0\n",
      "bath                 0\n",
      "balcony              0\n",
      "dist_from_city     274\n",
      "avg_2bhk_rent     1751\n",
      "dtype: int64\n"
     ]
    }
   ],
   "source": [
    "test_missing_count = test_data.isnull().sum()\n",
    "print(test_missing_count)"
   ]
  },
  {
   "cell_type": "code",
   "execution_count": 165,
   "id": "4a6e42a9-8f13-4134-a7f6-82e03ff476ea",
   "metadata": {},
   "outputs": [],
   "source": [
    "test_data.fillna(test_data['dist_from_city'].mean(), inplace=True)\n",
    "test_data.fillna(test_data['avg_2bhk_rent'].mean(), inplace=True)"
   ]
  },
  {
   "cell_type": "code",
   "execution_count": 169,
   "id": "b36e2714-3def-4fb3-b3a5-c54588202b39",
   "metadata": {},
   "outputs": [],
   "source": [
    "for column in ['area_type', 'availability', 'location', 'size']:\n",
    "        le = LabelEncoder()\n",
    "        test_data[column] = le.fit_transform(test_data[column])"
   ]
  },
  {
   "cell_type": "code",
   "execution_count": 171,
   "id": "559693a0-2e5f-4273-972e-70823e9e7dbc",
   "metadata": {},
   "outputs": [
    {
     "name": "stdout",
     "output_type": "stream",
     "text": [
      "ID                0\n",
      "area_type         0\n",
      "availability      0\n",
      "location          0\n",
      "size              0\n",
      "total_sqft        0\n",
      "bath              0\n",
      "balcony           0\n",
      "dist_from_city    0\n",
      "avg_2bhk_rent     0\n",
      "dtype: int64\n"
     ]
    }
   ],
   "source": [
    "test_missing_count = test_data.isnull().sum()\n",
    "print(test_missing_count)"
   ]
  },
  {
   "cell_type": "code",
   "execution_count": 173,
   "id": "9da97ffe-7561-4954-abbd-a8cff8a0b228",
   "metadata": {},
   "outputs": [],
   "source": [
    "X_test = test_data\n",
    "test_data['price'] = 0\n",
    "y_test = test_data['price']"
   ]
  },
  {
   "cell_type": "code",
   "execution_count": null,
   "id": "50309279-e7dd-43e8-9707-897f84ffbb5e",
   "metadata": {},
   "outputs": [],
   "source": [
    "'test2'"
   ]
  },
  {
   "cell_type": "code",
   "execution_count": 175,
   "id": "c6ee341a-cc7b-4ecd-90de-a38a8a9e641a",
   "metadata": {},
   "outputs": [],
   "source": [
    "test_data.to_csv('tested_data.csv', index=False)"
   ]
  },
  {
   "cell_type": "markdown",
   "id": "2e0cc1ea-8072-4817-a90b-4249a3e86c2a",
   "metadata": {},
   "source": [
    "### Feature engineering"
   ]
  },
  {
   "cell_type": "code",
   "execution_count": 90,
   "id": "f1f18c60-8860-4197-bcb6-d9c032a30849",
   "metadata": {},
   "outputs": [],
   "source": [
    "# Encode categorical variables for both training and test data\n",
    "scaler = StandardScaler()\n",
    "numeric_features = ['area_type', 'availability', 'location', 'size', 'total_sqft', 'bath', 'balcony', 'price', 'dist_from_city', 'avg_2bhk_rent', 'price_per_sqft', 'rent_to_price_ratio']\n",
    "X_train_scaled = scaler.fit_transform(train_data[numeric_features])"
   ]
  },
  {
   "cell_type": "code",
   "execution_count": null,
   "id": "0ba91b2f-627b-45ab-9e53-c3bb56327f26",
   "metadata": {},
   "outputs": [],
   "source": []
  },
  {
   "cell_type": "markdown",
   "id": "a6d6fe61-92a5-4a00-810e-ab262a4246b7",
   "metadata": {},
   "source": [
    "### Model selection and evaluation"
   ]
  },
  {
   "cell_type": "code",
   "execution_count": 82,
   "id": "a21f4485-5bda-41ec-90b7-4b08e60b9ffe",
   "metadata": {},
   "outputs": [
    {
     "data": {
      "text/html": [
       "<style>#sk-container-id-3 {\n",
       "  /* Definition of color scheme common for light and dark mode */\n",
       "  --sklearn-color-text: black;\n",
       "  --sklearn-color-line: gray;\n",
       "  /* Definition of color scheme for unfitted estimators */\n",
       "  --sklearn-color-unfitted-level-0: #fff5e6;\n",
       "  --sklearn-color-unfitted-level-1: #f6e4d2;\n",
       "  --sklearn-color-unfitted-level-2: #ffe0b3;\n",
       "  --sklearn-color-unfitted-level-3: chocolate;\n",
       "  /* Definition of color scheme for fitted estimators */\n",
       "  --sklearn-color-fitted-level-0: #f0f8ff;\n",
       "  --sklearn-color-fitted-level-1: #d4ebff;\n",
       "  --sklearn-color-fitted-level-2: #b3dbfd;\n",
       "  --sklearn-color-fitted-level-3: cornflowerblue;\n",
       "\n",
       "  /* Specific color for light theme */\n",
       "  --sklearn-color-text-on-default-background: var(--sg-text-color, var(--theme-code-foreground, var(--jp-content-font-color1, black)));\n",
       "  --sklearn-color-background: var(--sg-background-color, var(--theme-background, var(--jp-layout-color0, white)));\n",
       "  --sklearn-color-border-box: var(--sg-text-color, var(--theme-code-foreground, var(--jp-content-font-color1, black)));\n",
       "  --sklearn-color-icon: #696969;\n",
       "\n",
       "  @media (prefers-color-scheme: dark) {\n",
       "    /* Redefinition of color scheme for dark theme */\n",
       "    --sklearn-color-text-on-default-background: var(--sg-text-color, var(--theme-code-foreground, var(--jp-content-font-color1, white)));\n",
       "    --sklearn-color-background: var(--sg-background-color, var(--theme-background, var(--jp-layout-color0, #111)));\n",
       "    --sklearn-color-border-box: var(--sg-text-color, var(--theme-code-foreground, var(--jp-content-font-color1, white)));\n",
       "    --sklearn-color-icon: #878787;\n",
       "  }\n",
       "}\n",
       "\n",
       "#sk-container-id-3 {\n",
       "  color: var(--sklearn-color-text);\n",
       "}\n",
       "\n",
       "#sk-container-id-3 pre {\n",
       "  padding: 0;\n",
       "}\n",
       "\n",
       "#sk-container-id-3 input.sk-hidden--visually {\n",
       "  border: 0;\n",
       "  clip: rect(1px 1px 1px 1px);\n",
       "  clip: rect(1px, 1px, 1px, 1px);\n",
       "  height: 1px;\n",
       "  margin: -1px;\n",
       "  overflow: hidden;\n",
       "  padding: 0;\n",
       "  position: absolute;\n",
       "  width: 1px;\n",
       "}\n",
       "\n",
       "#sk-container-id-3 div.sk-dashed-wrapped {\n",
       "  border: 1px dashed var(--sklearn-color-line);\n",
       "  margin: 0 0.4em 0.5em 0.4em;\n",
       "  box-sizing: border-box;\n",
       "  padding-bottom: 0.4em;\n",
       "  background-color: var(--sklearn-color-background);\n",
       "}\n",
       "\n",
       "#sk-container-id-3 div.sk-container {\n",
       "  /* jupyter's `normalize.less` sets `[hidden] { display: none; }`\n",
       "     but bootstrap.min.css set `[hidden] { display: none !important; }`\n",
       "     so we also need the `!important` here to be able to override the\n",
       "     default hidden behavior on the sphinx rendered scikit-learn.org.\n",
       "     See: https://github.com/scikit-learn/scikit-learn/issues/21755 */\n",
       "  display: inline-block !important;\n",
       "  position: relative;\n",
       "}\n",
       "\n",
       "#sk-container-id-3 div.sk-text-repr-fallback {\n",
       "  display: none;\n",
       "}\n",
       "\n",
       "div.sk-parallel-item,\n",
       "div.sk-serial,\n",
       "div.sk-item {\n",
       "  /* draw centered vertical line to link estimators */\n",
       "  background-image: linear-gradient(var(--sklearn-color-text-on-default-background), var(--sklearn-color-text-on-default-background));\n",
       "  background-size: 2px 100%;\n",
       "  background-repeat: no-repeat;\n",
       "  background-position: center center;\n",
       "}\n",
       "\n",
       "/* Parallel-specific style estimator block */\n",
       "\n",
       "#sk-container-id-3 div.sk-parallel-item::after {\n",
       "  content: \"\";\n",
       "  width: 100%;\n",
       "  border-bottom: 2px solid var(--sklearn-color-text-on-default-background);\n",
       "  flex-grow: 1;\n",
       "}\n",
       "\n",
       "#sk-container-id-3 div.sk-parallel {\n",
       "  display: flex;\n",
       "  align-items: stretch;\n",
       "  justify-content: center;\n",
       "  background-color: var(--sklearn-color-background);\n",
       "  position: relative;\n",
       "}\n",
       "\n",
       "#sk-container-id-3 div.sk-parallel-item {\n",
       "  display: flex;\n",
       "  flex-direction: column;\n",
       "}\n",
       "\n",
       "#sk-container-id-3 div.sk-parallel-item:first-child::after {\n",
       "  align-self: flex-end;\n",
       "  width: 50%;\n",
       "}\n",
       "\n",
       "#sk-container-id-3 div.sk-parallel-item:last-child::after {\n",
       "  align-self: flex-start;\n",
       "  width: 50%;\n",
       "}\n",
       "\n",
       "#sk-container-id-3 div.sk-parallel-item:only-child::after {\n",
       "  width: 0;\n",
       "}\n",
       "\n",
       "/* Serial-specific style estimator block */\n",
       "\n",
       "#sk-container-id-3 div.sk-serial {\n",
       "  display: flex;\n",
       "  flex-direction: column;\n",
       "  align-items: center;\n",
       "  background-color: var(--sklearn-color-background);\n",
       "  padding-right: 1em;\n",
       "  padding-left: 1em;\n",
       "}\n",
       "\n",
       "\n",
       "/* Toggleable style: style used for estimator/Pipeline/ColumnTransformer box that is\n",
       "clickable and can be expanded/collapsed.\n",
       "- Pipeline and ColumnTransformer use this feature and define the default style\n",
       "- Estimators will overwrite some part of the style using the `sk-estimator` class\n",
       "*/\n",
       "\n",
       "/* Pipeline and ColumnTransformer style (default) */\n",
       "\n",
       "#sk-container-id-3 div.sk-toggleable {\n",
       "  /* Default theme specific background. It is overwritten whether we have a\n",
       "  specific estimator or a Pipeline/ColumnTransformer */\n",
       "  background-color: var(--sklearn-color-background);\n",
       "}\n",
       "\n",
       "/* Toggleable label */\n",
       "#sk-container-id-3 label.sk-toggleable__label {\n",
       "  cursor: pointer;\n",
       "  display: block;\n",
       "  width: 100%;\n",
       "  margin-bottom: 0;\n",
       "  padding: 0.5em;\n",
       "  box-sizing: border-box;\n",
       "  text-align: center;\n",
       "}\n",
       "\n",
       "#sk-container-id-3 label.sk-toggleable__label-arrow:before {\n",
       "  /* Arrow on the left of the label */\n",
       "  content: \"▸\";\n",
       "  float: left;\n",
       "  margin-right: 0.25em;\n",
       "  color: var(--sklearn-color-icon);\n",
       "}\n",
       "\n",
       "#sk-container-id-3 label.sk-toggleable__label-arrow:hover:before {\n",
       "  color: var(--sklearn-color-text);\n",
       "}\n",
       "\n",
       "/* Toggleable content - dropdown */\n",
       "\n",
       "#sk-container-id-3 div.sk-toggleable__content {\n",
       "  max-height: 0;\n",
       "  max-width: 0;\n",
       "  overflow: hidden;\n",
       "  text-align: left;\n",
       "  /* unfitted */\n",
       "  background-color: var(--sklearn-color-unfitted-level-0);\n",
       "}\n",
       "\n",
       "#sk-container-id-3 div.sk-toggleable__content.fitted {\n",
       "  /* fitted */\n",
       "  background-color: var(--sklearn-color-fitted-level-0);\n",
       "}\n",
       "\n",
       "#sk-container-id-3 div.sk-toggleable__content pre {\n",
       "  margin: 0.2em;\n",
       "  border-radius: 0.25em;\n",
       "  color: var(--sklearn-color-text);\n",
       "  /* unfitted */\n",
       "  background-color: var(--sklearn-color-unfitted-level-0);\n",
       "}\n",
       "\n",
       "#sk-container-id-3 div.sk-toggleable__content.fitted pre {\n",
       "  /* unfitted */\n",
       "  background-color: var(--sklearn-color-fitted-level-0);\n",
       "}\n",
       "\n",
       "#sk-container-id-3 input.sk-toggleable__control:checked~div.sk-toggleable__content {\n",
       "  /* Expand drop-down */\n",
       "  max-height: 200px;\n",
       "  max-width: 100%;\n",
       "  overflow: auto;\n",
       "}\n",
       "\n",
       "#sk-container-id-3 input.sk-toggleable__control:checked~label.sk-toggleable__label-arrow:before {\n",
       "  content: \"▾\";\n",
       "}\n",
       "\n",
       "/* Pipeline/ColumnTransformer-specific style */\n",
       "\n",
       "#sk-container-id-3 div.sk-label input.sk-toggleable__control:checked~label.sk-toggleable__label {\n",
       "  color: var(--sklearn-color-text);\n",
       "  background-color: var(--sklearn-color-unfitted-level-2);\n",
       "}\n",
       "\n",
       "#sk-container-id-3 div.sk-label.fitted input.sk-toggleable__control:checked~label.sk-toggleable__label {\n",
       "  background-color: var(--sklearn-color-fitted-level-2);\n",
       "}\n",
       "\n",
       "/* Estimator-specific style */\n",
       "\n",
       "/* Colorize estimator box */\n",
       "#sk-container-id-3 div.sk-estimator input.sk-toggleable__control:checked~label.sk-toggleable__label {\n",
       "  /* unfitted */\n",
       "  background-color: var(--sklearn-color-unfitted-level-2);\n",
       "}\n",
       "\n",
       "#sk-container-id-3 div.sk-estimator.fitted input.sk-toggleable__control:checked~label.sk-toggleable__label {\n",
       "  /* fitted */\n",
       "  background-color: var(--sklearn-color-fitted-level-2);\n",
       "}\n",
       "\n",
       "#sk-container-id-3 div.sk-label label.sk-toggleable__label,\n",
       "#sk-container-id-3 div.sk-label label {\n",
       "  /* The background is the default theme color */\n",
       "  color: var(--sklearn-color-text-on-default-background);\n",
       "}\n",
       "\n",
       "/* On hover, darken the color of the background */\n",
       "#sk-container-id-3 div.sk-label:hover label.sk-toggleable__label {\n",
       "  color: var(--sklearn-color-text);\n",
       "  background-color: var(--sklearn-color-unfitted-level-2);\n",
       "}\n",
       "\n",
       "/* Label box, darken color on hover, fitted */\n",
       "#sk-container-id-3 div.sk-label.fitted:hover label.sk-toggleable__label.fitted {\n",
       "  color: var(--sklearn-color-text);\n",
       "  background-color: var(--sklearn-color-fitted-level-2);\n",
       "}\n",
       "\n",
       "/* Estimator label */\n",
       "\n",
       "#sk-container-id-3 div.sk-label label {\n",
       "  font-family: monospace;\n",
       "  font-weight: bold;\n",
       "  display: inline-block;\n",
       "  line-height: 1.2em;\n",
       "}\n",
       "\n",
       "#sk-container-id-3 div.sk-label-container {\n",
       "  text-align: center;\n",
       "}\n",
       "\n",
       "/* Estimator-specific */\n",
       "#sk-container-id-3 div.sk-estimator {\n",
       "  font-family: monospace;\n",
       "  border: 1px dotted var(--sklearn-color-border-box);\n",
       "  border-radius: 0.25em;\n",
       "  box-sizing: border-box;\n",
       "  margin-bottom: 0.5em;\n",
       "  /* unfitted */\n",
       "  background-color: var(--sklearn-color-unfitted-level-0);\n",
       "}\n",
       "\n",
       "#sk-container-id-3 div.sk-estimator.fitted {\n",
       "  /* fitted */\n",
       "  background-color: var(--sklearn-color-fitted-level-0);\n",
       "}\n",
       "\n",
       "/* on hover */\n",
       "#sk-container-id-3 div.sk-estimator:hover {\n",
       "  /* unfitted */\n",
       "  background-color: var(--sklearn-color-unfitted-level-2);\n",
       "}\n",
       "\n",
       "#sk-container-id-3 div.sk-estimator.fitted:hover {\n",
       "  /* fitted */\n",
       "  background-color: var(--sklearn-color-fitted-level-2);\n",
       "}\n",
       "\n",
       "/* Specification for estimator info (e.g. \"i\" and \"?\") */\n",
       "\n",
       "/* Common style for \"i\" and \"?\" */\n",
       "\n",
       ".sk-estimator-doc-link,\n",
       "a:link.sk-estimator-doc-link,\n",
       "a:visited.sk-estimator-doc-link {\n",
       "  float: right;\n",
       "  font-size: smaller;\n",
       "  line-height: 1em;\n",
       "  font-family: monospace;\n",
       "  background-color: var(--sklearn-color-background);\n",
       "  border-radius: 1em;\n",
       "  height: 1em;\n",
       "  width: 1em;\n",
       "  text-decoration: none !important;\n",
       "  margin-left: 1ex;\n",
       "  /* unfitted */\n",
       "  border: var(--sklearn-color-unfitted-level-1) 1pt solid;\n",
       "  color: var(--sklearn-color-unfitted-level-1);\n",
       "}\n",
       "\n",
       ".sk-estimator-doc-link.fitted,\n",
       "a:link.sk-estimator-doc-link.fitted,\n",
       "a:visited.sk-estimator-doc-link.fitted {\n",
       "  /* fitted */\n",
       "  border: var(--sklearn-color-fitted-level-1) 1pt solid;\n",
       "  color: var(--sklearn-color-fitted-level-1);\n",
       "}\n",
       "\n",
       "/* On hover */\n",
       "div.sk-estimator:hover .sk-estimator-doc-link:hover,\n",
       ".sk-estimator-doc-link:hover,\n",
       "div.sk-label-container:hover .sk-estimator-doc-link:hover,\n",
       ".sk-estimator-doc-link:hover {\n",
       "  /* unfitted */\n",
       "  background-color: var(--sklearn-color-unfitted-level-3);\n",
       "  color: var(--sklearn-color-background);\n",
       "  text-decoration: none;\n",
       "}\n",
       "\n",
       "div.sk-estimator.fitted:hover .sk-estimator-doc-link.fitted:hover,\n",
       ".sk-estimator-doc-link.fitted:hover,\n",
       "div.sk-label-container:hover .sk-estimator-doc-link.fitted:hover,\n",
       ".sk-estimator-doc-link.fitted:hover {\n",
       "  /* fitted */\n",
       "  background-color: var(--sklearn-color-fitted-level-3);\n",
       "  color: var(--sklearn-color-background);\n",
       "  text-decoration: none;\n",
       "}\n",
       "\n",
       "/* Span, style for the box shown on hovering the info icon */\n",
       ".sk-estimator-doc-link span {\n",
       "  display: none;\n",
       "  z-index: 9999;\n",
       "  position: relative;\n",
       "  font-weight: normal;\n",
       "  right: .2ex;\n",
       "  padding: .5ex;\n",
       "  margin: .5ex;\n",
       "  width: min-content;\n",
       "  min-width: 20ex;\n",
       "  max-width: 50ex;\n",
       "  color: var(--sklearn-color-text);\n",
       "  box-shadow: 2pt 2pt 4pt #999;\n",
       "  /* unfitted */\n",
       "  background: var(--sklearn-color-unfitted-level-0);\n",
       "  border: .5pt solid var(--sklearn-color-unfitted-level-3);\n",
       "}\n",
       "\n",
       ".sk-estimator-doc-link.fitted span {\n",
       "  /* fitted */\n",
       "  background: var(--sklearn-color-fitted-level-0);\n",
       "  border: var(--sklearn-color-fitted-level-3);\n",
       "}\n",
       "\n",
       ".sk-estimator-doc-link:hover span {\n",
       "  display: block;\n",
       "}\n",
       "\n",
       "/* \"?\"-specific style due to the `<a>` HTML tag */\n",
       "\n",
       "#sk-container-id-3 a.estimator_doc_link {\n",
       "  float: right;\n",
       "  font-size: 1rem;\n",
       "  line-height: 1em;\n",
       "  font-family: monospace;\n",
       "  background-color: var(--sklearn-color-background);\n",
       "  border-radius: 1rem;\n",
       "  height: 1rem;\n",
       "  width: 1rem;\n",
       "  text-decoration: none;\n",
       "  /* unfitted */\n",
       "  color: var(--sklearn-color-unfitted-level-1);\n",
       "  border: var(--sklearn-color-unfitted-level-1) 1pt solid;\n",
       "}\n",
       "\n",
       "#sk-container-id-3 a.estimator_doc_link.fitted {\n",
       "  /* fitted */\n",
       "  border: var(--sklearn-color-fitted-level-1) 1pt solid;\n",
       "  color: var(--sklearn-color-fitted-level-1);\n",
       "}\n",
       "\n",
       "/* On hover */\n",
       "#sk-container-id-3 a.estimator_doc_link:hover {\n",
       "  /* unfitted */\n",
       "  background-color: var(--sklearn-color-unfitted-level-3);\n",
       "  color: var(--sklearn-color-background);\n",
       "  text-decoration: none;\n",
       "}\n",
       "\n",
       "#sk-container-id-3 a.estimator_doc_link.fitted:hover {\n",
       "  /* fitted */\n",
       "  background-color: var(--sklearn-color-fitted-level-3);\n",
       "}\n",
       "</style><div id=\"sk-container-id-3\" class=\"sk-top-container\"><div class=\"sk-text-repr-fallback\"><pre>RandomForestRegressor(random_state=42)</pre><b>In a Jupyter environment, please rerun this cell to show the HTML representation or trust the notebook. <br />On GitHub, the HTML representation is unable to render, please try loading this page with nbviewer.org.</b></div><div class=\"sk-container\" hidden><div class=\"sk-item\"><div class=\"sk-estimator fitted sk-toggleable\"><input class=\"sk-toggleable__control sk-hidden--visually\" id=\"sk-estimator-id-3\" type=\"checkbox\" checked><label for=\"sk-estimator-id-3\" class=\"sk-toggleable__label fitted sk-toggleable__label-arrow fitted\">&nbsp;&nbsp;RandomForestRegressor<a class=\"sk-estimator-doc-link fitted\" rel=\"noreferrer\" target=\"_blank\" href=\"https://scikit-learn.org/1.4/modules/generated/sklearn.ensemble.RandomForestRegressor.html\">?<span>Documentation for RandomForestRegressor</span></a><span class=\"sk-estimator-doc-link fitted\">i<span>Fitted</span></span></label><div class=\"sk-toggleable__content fitted\"><pre>RandomForestRegressor(random_state=42)</pre></div> </div></div></div></div>"
      ],
      "text/plain": [
       "RandomForestRegressor(random_state=42)"
      ]
     },
     "execution_count": 82,
     "metadata": {},
     "output_type": "execute_result"
    }
   ],
   "source": [
    "# Instantiate and train a Random Forest Regressor\n",
    "rf_model = RandomForestRegressor(random_state=42)\n",
    "rf_model.fit(X_train_scaled, y_train)"
   ]
  },
  {
   "cell_type": "code",
   "execution_count": null,
   "id": "82082fb1-30d8-43a9-9276-9bdf7ee08cde",
   "metadata": {},
   "outputs": [],
   "source": []
  },
  {
   "cell_type": "code",
   "execution_count": 83,
   "id": "d347b58d-cc86-47b8-961b-ddf0d15d0603",
   "metadata": {},
   "outputs": [
    {
     "name": "stdout",
     "output_type": "stream",
     "text": [
      "RMSE on test data: 177.53237631434916\n"
     ]
    }
   ],
   "source": [
    "# Predict on test data\n",
    "y_pred = rf_model.predict(X_test_scaled)\n",
    "\n",
    "# Calculate RMSE\n",
    "rmse = np.sqrt(mean_squared_error(y_test, y_pred))\n",
    "print(f\"RMSE on test data: {rmse}\")"
   ]
  },
  {
   "cell_type": "code",
   "execution_count": null,
   "id": "9185ecfc-8358-4d88-8991-ea4e1a3fafb1",
   "metadata": {},
   "outputs": [],
   "source": []
  },
  {
   "cell_type": "code",
   "execution_count": null,
   "id": "81ba4ea2-1d58-4fb3-b1ec-47f07f145006",
   "metadata": {},
   "outputs": [],
   "source": []
  },
  {
   "cell_type": "markdown",
   "id": "5b96d3bf-bcf0-41eb-948b-2b3e7f8b8b4f",
   "metadata": {
    "jp-MarkdownHeadingCollapsed": true
   },
   "source": [
    "### Hyper Parameter Tuning"
   ]
  },
  {
   "cell_type": "code",
   "execution_count": null,
   "id": "f35a3545-68cc-43b5-8efd-76f854b68752",
   "metadata": {},
   "outputs": [],
   "source": []
  },
  {
   "cell_type": "code",
   "execution_count": 92,
   "id": "04d971f1-312f-4f20-bc3c-5ded58af65ff",
   "metadata": {},
   "outputs": [
    {
     "name": "stdout",
     "output_type": "stream",
     "text": [
      "Fitting 5 folds for each of 27 candidates, totalling 135 fits\n",
      "[CV] END max_depth=10, min_samples_split=2, n_estimators=100; total time=   6.0s\n",
      "[CV] END max_depth=10, min_samples_split=2, n_estimators=100; total time=   6.0s\n",
      "[CV] END max_depth=10, min_samples_split=2, n_estimators=100; total time=   6.3s\n",
      "[CV] END max_depth=10, min_samples_split=2, n_estimators=100; total time=   6.3s\n",
      "[CV] END max_depth=10, min_samples_split=2, n_estimators=100; total time=   6.4s\n",
      "[CV] END max_depth=10, min_samples_split=2, n_estimators=200; total time=  12.9s\n",
      "[CV] END max_depth=10, min_samples_split=2, n_estimators=200; total time=  12.7s\n",
      "[CV] END max_depth=10, min_samples_split=2, n_estimators=200; total time=  12.0s\n",
      "[CV] END max_depth=10, min_samples_split=2, n_estimators=200; total time=  11.6s\n",
      "[CV] END max_depth=10, min_samples_split=2, n_estimators=200; total time=  12.2s\n",
      "[CV] END max_depth=10, min_samples_split=2, n_estimators=300; total time=  18.0s\n",
      "[CV] END max_depth=10, min_samples_split=2, n_estimators=300; total time=  17.9s\n",
      "[CV] END max_depth=10, min_samples_split=2, n_estimators=300; total time=  18.0s\n",
      "[CV] END max_depth=10, min_samples_split=2, n_estimators=300; total time=  18.0s\n",
      "[CV] END max_depth=10, min_samples_split=2, n_estimators=300; total time=  17.7s\n",
      "[CV] END max_depth=10, min_samples_split=5, n_estimators=100; total time=   5.8s\n",
      "[CV] END max_depth=10, min_samples_split=5, n_estimators=100; total time=   5.9s\n",
      "[CV] END max_depth=10, min_samples_split=5, n_estimators=100; total time=   5.7s\n",
      "[CV] END max_depth=10, min_samples_split=5, n_estimators=100; total time=   5.7s\n",
      "[CV] END max_depth=10, min_samples_split=5, n_estimators=100; total time=   6.0s\n",
      "[CV] END max_depth=10, min_samples_split=5, n_estimators=200; total time=  12.2s\n",
      "[CV] END max_depth=10, min_samples_split=5, n_estimators=200; total time=  11.7s\n",
      "[CV] END max_depth=10, min_samples_split=5, n_estimators=200; total time=  11.9s\n",
      "[CV] END max_depth=10, min_samples_split=5, n_estimators=200; total time=  12.0s\n",
      "[CV] END max_depth=10, min_samples_split=5, n_estimators=200; total time=  12.0s\n",
      "[CV] END max_depth=10, min_samples_split=5, n_estimators=300; total time=  17.9s\n",
      "[CV] END max_depth=10, min_samples_split=5, n_estimators=300; total time=  17.3s\n",
      "[CV] END max_depth=10, min_samples_split=5, n_estimators=300; total time=  17.2s\n",
      "[CV] END max_depth=10, min_samples_split=5, n_estimators=300; total time=  17.9s\n",
      "[CV] END max_depth=10, min_samples_split=5, n_estimators=300; total time=  18.4s\n",
      "[CV] END max_depth=10, min_samples_split=10, n_estimators=100; total time=   5.7s\n",
      "[CV] END max_depth=10, min_samples_split=10, n_estimators=100; total time=   6.0s\n",
      "[CV] END max_depth=10, min_samples_split=10, n_estimators=100; total time=   5.7s\n",
      "[CV] END max_depth=10, min_samples_split=10, n_estimators=100; total time=   6.0s\n",
      "[CV] END max_depth=10, min_samples_split=10, n_estimators=100; total time=   6.0s\n",
      "[CV] END max_depth=10, min_samples_split=10, n_estimators=200; total time=  12.0s\n",
      "[CV] END max_depth=10, min_samples_split=10, n_estimators=200; total time=  11.7s\n",
      "[CV] END max_depth=10, min_samples_split=10, n_estimators=200; total time=  11.9s\n",
      "[CV] END max_depth=10, min_samples_split=10, n_estimators=200; total time=  11.6s\n",
      "[CV] END max_depth=10, min_samples_split=10, n_estimators=200; total time=  12.1s\n",
      "[CV] END max_depth=10, min_samples_split=10, n_estimators=300; total time=  18.0s\n",
      "[CV] END max_depth=10, min_samples_split=10, n_estimators=300; total time=  17.9s\n",
      "[CV] END max_depth=10, min_samples_split=10, n_estimators=300; total time=  17.8s\n",
      "[CV] END max_depth=10, min_samples_split=10, n_estimators=300; total time=  17.8s\n",
      "[CV] END max_depth=10, min_samples_split=10, n_estimators=300; total time=  17.7s\n",
      "[CV] END max_depth=20, min_samples_split=2, n_estimators=100; total time=   9.0s\n",
      "[CV] END max_depth=20, min_samples_split=2, n_estimators=100; total time=   9.0s\n",
      "[CV] END max_depth=20, min_samples_split=2, n_estimators=100; total time=   8.9s\n",
      "[CV] END max_depth=20, min_samples_split=2, n_estimators=100; total time=   8.9s\n",
      "[CV] END max_depth=20, min_samples_split=2, n_estimators=100; total time=   4.8s\n",
      "[CV] END max_depth=20, min_samples_split=2, n_estimators=200; total time=  17.9s\n",
      "[CV] END max_depth=20, min_samples_split=2, n_estimators=200; total time=  17.8s\n",
      "[CV] END max_depth=20, min_samples_split=2, n_estimators=200; total time=  17.8s\n",
      "[CV] END max_depth=20, min_samples_split=2, n_estimators=200; total time=  17.8s\n",
      "[CV] END max_depth=20, min_samples_split=2, n_estimators=200; total time=  17.8s\n",
      "[CV] END max_depth=20, min_samples_split=2, n_estimators=300; total time=  26.9s\n",
      "[CV] END max_depth=20, min_samples_split=2, n_estimators=300; total time=  27.0s\n",
      "[CV] END max_depth=20, min_samples_split=2, n_estimators=300; total time=  27.4s\n",
      "[CV] END max_depth=20, min_samples_split=2, n_estimators=300; total time=  25.9s\n",
      "[CV] END max_depth=20, min_samples_split=2, n_estimators=300; total time=  26.4s\n",
      "[CV] END max_depth=20, min_samples_split=5, n_estimators=100; total time=   8.7s\n",
      "[CV] END max_depth=20, min_samples_split=5, n_estimators=100; total time=   8.6s\n",
      "[CV] END max_depth=20, min_samples_split=5, n_estimators=100; total time=   8.4s\n",
      "[CV] END max_depth=20, min_samples_split=5, n_estimators=100; total time=   8.4s\n",
      "[CV] END max_depth=20, min_samples_split=5, n_estimators=100; total time=   8.6s\n",
      "[CV] END max_depth=20, min_samples_split=5, n_estimators=200; total time=  16.9s\n",
      "[CV] END max_depth=20, min_samples_split=5, n_estimators=200; total time=  16.8s\n",
      "[CV] END max_depth=20, min_samples_split=5, n_estimators=200; total time=  16.7s\n",
      "[CV] END max_depth=20, min_samples_split=5, n_estimators=200; total time=  16.9s\n",
      "[CV] END max_depth=20, min_samples_split=5, n_estimators=200; total time=  17.1s\n",
      "[CV] END max_depth=20, min_samples_split=5, n_estimators=300; total time=  25.7s\n",
      "[CV] END max_depth=20, min_samples_split=5, n_estimators=300; total time=  25.5s\n",
      "[CV] END max_depth=20, min_samples_split=5, n_estimators=300; total time=  24.7s\n",
      "[CV] END max_depth=20, min_samples_split=5, n_estimators=300; total time=  25.4s\n",
      "[CV] END max_depth=20, min_samples_split=5, n_estimators=300; total time=  24.9s\n",
      "[CV] END max_depth=20, min_samples_split=10, n_estimators=100; total time=   7.8s\n",
      "[CV] END max_depth=20, min_samples_split=10, n_estimators=100; total time=   7.5s\n",
      "[CV] END max_depth=20, min_samples_split=10, n_estimators=100; total time=   7.6s\n",
      "[CV] END max_depth=20, min_samples_split=10, n_estimators=100; total time=   7.5s\n",
      "[CV] END max_depth=20, min_samples_split=10, n_estimators=100; total time=   7.4s\n",
      "[CV] END max_depth=20, min_samples_split=10, n_estimators=200; total time=  15.2s\n",
      "[CV] END max_depth=20, min_samples_split=10, n_estimators=200; total time=  15.5s\n",
      "[CV] END max_depth=20, min_samples_split=10, n_estimators=200; total time=  15.6s\n",
      "[CV] END max_depth=20, min_samples_split=10, n_estimators=200; total time=  15.2s\n",
      "[CV] END max_depth=20, min_samples_split=10, n_estimators=200; total time=  14.8s\n",
      "[CV] END max_depth=20, min_samples_split=10, n_estimators=300; total time=  22.4s\n",
      "[CV] END max_depth=20, min_samples_split=10, n_estimators=300; total time=  22.3s\n",
      "[CV] END max_depth=20, min_samples_split=10, n_estimators=300; total time=  22.2s\n",
      "[CV] END max_depth=20, min_samples_split=10, n_estimators=300; total time=  22.3s\n",
      "[CV] END max_depth=20, min_samples_split=10, n_estimators=300; total time=  21.9s\n",
      "[CV] END max_depth=None, min_samples_split=2, n_estimators=100; total time=   9.0s\n",
      "[CV] END max_depth=None, min_samples_split=2, n_estimators=100; total time=   8.4s\n",
      "[CV] END max_depth=None, min_samples_split=2, n_estimators=100; total time=   8.8s\n",
      "[CV] END max_depth=None, min_samples_split=2, n_estimators=100; total time=   8.4s\n",
      "[CV] END max_depth=None, min_samples_split=2, n_estimators=100; total time=   6.1s\n",
      "[CV] END max_depth=None, min_samples_split=2, n_estimators=200; total time=   7.5s\n",
      "[CV] END max_depth=None, min_samples_split=2, n_estimators=200; total time=   7.1s\n",
      "[CV] END max_depth=None, min_samples_split=2, n_estimators=200; total time=   6.9s\n",
      "[CV] END max_depth=None, min_samples_split=2, n_estimators=200; total time=   7.0s\n",
      "[CV] END max_depth=None, min_samples_split=2, n_estimators=200; total time=   6.8s\n",
      "[CV] END max_depth=None, min_samples_split=2, n_estimators=300; total time=  10.5s\n",
      "[CV] END max_depth=None, min_samples_split=2, n_estimators=300; total time=  10.4s\n",
      "[CV] END max_depth=None, min_samples_split=2, n_estimators=300; total time=  10.5s\n",
      "[CV] END max_depth=None, min_samples_split=2, n_estimators=300; total time=  10.5s\n",
      "[CV] END max_depth=None, min_samples_split=2, n_estimators=300; total time=  10.4s\n",
      "[CV] END max_depth=None, min_samples_split=5, n_estimators=100; total time=   3.3s\n",
      "[CV] END max_depth=None, min_samples_split=5, n_estimators=100; total time=   3.2s\n",
      "[CV] END max_depth=None, min_samples_split=5, n_estimators=100; total time=   3.2s\n",
      "[CV] END max_depth=None, min_samples_split=5, n_estimators=100; total time=   3.2s\n",
      "[CV] END max_depth=None, min_samples_split=5, n_estimators=100; total time=   3.2s\n",
      "[CV] END max_depth=None, min_samples_split=5, n_estimators=200; total time=   6.6s\n",
      "[CV] END max_depth=None, min_samples_split=5, n_estimators=200; total time=   6.6s\n",
      "[CV] END max_depth=None, min_samples_split=5, n_estimators=200; total time=   6.6s\n",
      "[CV] END max_depth=None, min_samples_split=5, n_estimators=200; total time=   6.5s\n",
      "[CV] END max_depth=None, min_samples_split=5, n_estimators=200; total time=   6.6s\n",
      "[CV] END max_depth=None, min_samples_split=5, n_estimators=300; total time=   9.8s\n",
      "[CV] END max_depth=None, min_samples_split=5, n_estimators=300; total time=  10.0s\n",
      "[CV] END max_depth=None, min_samples_split=5, n_estimators=300; total time=   9.9s\n",
      "[CV] END max_depth=None, min_samples_split=5, n_estimators=300; total time=  10.3s\n",
      "[CV] END max_depth=None, min_samples_split=5, n_estimators=300; total time=   9.9s\n",
      "[CV] END max_depth=None, min_samples_split=10, n_estimators=100; total time=   2.9s\n",
      "[CV] END max_depth=None, min_samples_split=10, n_estimators=100; total time=   3.0s\n",
      "[CV] END max_depth=None, min_samples_split=10, n_estimators=100; total time=   3.0s\n",
      "[CV] END max_depth=None, min_samples_split=10, n_estimators=100; total time=   3.0s\n",
      "[CV] END max_depth=None, min_samples_split=10, n_estimators=100; total time=   3.0s\n",
      "[CV] END max_depth=None, min_samples_split=10, n_estimators=200; total time=   6.0s\n",
      "[CV] END max_depth=None, min_samples_split=10, n_estimators=200; total time=   6.0s\n",
      "[CV] END max_depth=None, min_samples_split=10, n_estimators=200; total time=   6.1s\n",
      "[CV] END max_depth=None, min_samples_split=10, n_estimators=200; total time=   6.0s\n",
      "[CV] END max_depth=None, min_samples_split=10, n_estimators=200; total time=   6.1s\n",
      "[CV] END max_depth=None, min_samples_split=10, n_estimators=300; total time=   9.0s\n",
      "[CV] END max_depth=None, min_samples_split=10, n_estimators=300; total time=   9.2s\n",
      "[CV] END max_depth=None, min_samples_split=10, n_estimators=300; total time=   9.0s\n",
      "[CV] END max_depth=None, min_samples_split=10, n_estimators=300; total time=   9.1s\n",
      "[CV] END max_depth=None, min_samples_split=10, n_estimators=300; total time=   9.0s\n",
      "Optimized RMSE: 2356.840161805266\n"
     ]
    }
   ],
   "source": [
    "# Define parameter grid for Random Forest\n",
    "param_grid = {\n",
    "    'n_estimators': [100, 200, 300],\n",
    "    'max_depth': [10, 20, None],\n",
    "    'min_samples_split': [2, 5, 10]\n",
    "}\n",
    "\n",
    "# Use GridSearchCV to find the best parameters\n",
    "grid_search = GridSearchCV(estimator=rf_model, param_grid=param_grid, cv=5, scoring='neg_mean_squared_error', verbose=2)\n",
    "grid_search.fit(X_train, y_train)\n",
    "\n",
    "# Best model\n",
    "best_model = grid_search.best_estimator_\n",
    "\n",
    "# Evaluate best model\n",
    "y_pred_best = best_model.predict(X_test)\n",
    "rmse_best = np.sqrt(mean_squared_error(y_test, y_pred_best))\n",
    "print(f\"Optimized RMSE: {rmse_best}\")\n"
   ]
  },
  {
   "cell_type": "code",
   "execution_count": null,
   "id": "0444b894-af0b-478a-840c-d2c265ff567d",
   "metadata": {},
   "outputs": [],
   "source": []
  },
  {
   "cell_type": "code",
   "execution_count": null,
   "id": "65b7d13d-ef6f-4a01-ace3-eadea476bbdf",
   "metadata": {},
   "outputs": [],
   "source": []
  },
  {
   "cell_type": "markdown",
   "id": "f5e0aa2e-824b-41d4-9729-02ed8346ba17",
   "metadata": {
    "jp-MarkdownHeadingCollapsed": true
   },
   "source": [
    "### Save and load Model"
   ]
  },
  {
   "cell_type": "code",
   "execution_count": null,
   "id": "37ee257c-3fdd-4a5a-8449-7a465b84d2be",
   "metadata": {},
   "outputs": [],
   "source": [
    "# Save the best model\n",
    "joblib.dump(best_model, 'house_price_model.pkl')\n",
    "\n",
    "# Save the scaler for deployment\n",
    "joblib.dump(scaler, 'scaler.pkl')\n"
   ]
  },
  {
   "cell_type": "code",
   "execution_count": null,
   "id": "3923711e-40fd-43a4-8431-2a91c93006bf",
   "metadata": {},
   "outputs": [],
   "source": []
  },
  {
   "cell_type": "code",
   "execution_count": null,
   "id": "fee1f7d4-2057-45d5-9ed0-b4894025a445",
   "metadata": {},
   "outputs": [],
   "source": [
    "# Load the model and scaler\n",
    "loaded_model = joblib.load('house_price_model.pkl')\n",
    "loaded_scaler = joblib.load('scaler.pkl')\n",
    "\n",
    "# Predict for a new dataset\n",
    "new_data = pd.DataFrame({\n",
    "    'total_sqrt': [1200],\n",
    "    'size': [3],\n",
    "    'Distance_from_City_Center': [5],\n",
    "    'Average_Rent': [1500]\n",
    "})\n",
    "\n",
    "# Preprocess the new data\n",
    "new_data_scaled = loaded_scaler.transform(new_data)\n",
    "predicted_price = loaded_model.predict(new_data_scaled)\n",
    "print(f\"Predicted House Price: {predicted_price[0]}\")\n"
   ]
  },
  {
   "cell_type": "code",
   "execution_count": null,
   "id": "d2f8e72f-5cbc-442d-b57b-f4d01a708d46",
   "metadata": {},
   "outputs": [],
   "source": []
  },
  {
   "cell_type": "code",
   "execution_count": null,
   "id": "18df34f9-0127-4cd5-8f00-95c4bb49119a",
   "metadata": {},
   "outputs": [],
   "source": []
  },
  {
   "cell_type": "code",
   "execution_count": null,
   "id": "4250c8c3-f470-465f-8eb7-325be1c83dbb",
   "metadata": {},
   "outputs": [],
   "source": []
  },
  {
   "cell_type": "code",
   "execution_count": null,
   "id": "81b86ef0-081e-4d60-abc3-045e3cdda39a",
   "metadata": {},
   "outputs": [],
   "source": []
  },
  {
   "cell_type": "code",
   "execution_count": null,
   "id": "20373cce-b7fb-4f84-a1b0-3f6a7eb0bea8",
   "metadata": {},
   "outputs": [],
   "source": []
  },
  {
   "cell_type": "code",
   "execution_count": null,
   "id": "353673b7-1ccf-4147-92eb-dfd66f09fa04",
   "metadata": {},
   "outputs": [],
   "source": []
  },
  {
   "cell_type": "code",
   "execution_count": null,
   "id": "f987ecdb-6f01-41a0-84cb-cd16d0142d96",
   "metadata": {},
   "outputs": [],
   "source": []
  },
  {
   "cell_type": "code",
   "execution_count": null,
   "id": "e2a8a9e6-354b-48aa-b033-989c28d2b9e4",
   "metadata": {},
   "outputs": [],
   "source": []
  },
  {
   "cell_type": "code",
   "execution_count": null,
   "id": "41603cba-d3a2-4ae4-ac7e-45793439c307",
   "metadata": {},
   "outputs": [],
   "source": []
  },
  {
   "cell_type": "code",
   "execution_count": null,
   "id": "19134c84-0ce7-4db6-9765-a306c2c06bb7",
   "metadata": {},
   "outputs": [],
   "source": []
  },
  {
   "cell_type": "code",
   "execution_count": null,
   "id": "bb603cc0-ed7b-4cc8-8c15-36b975d13302",
   "metadata": {},
   "outputs": [],
   "source": []
  },
  {
   "cell_type": "code",
   "execution_count": null,
   "id": "561b06cd-c52e-4f2a-87a6-84b1998b37ec",
   "metadata": {},
   "outputs": [],
   "source": []
  },
  {
   "cell_type": "code",
   "execution_count": null,
   "id": "89b69107-a794-4b91-bff2-b1e6d8707df3",
   "metadata": {},
   "outputs": [],
   "source": []
  },
  {
   "cell_type": "code",
   "execution_count": null,
   "id": "797a545e-f207-478d-a7d0-45dc83d228ef",
   "metadata": {},
   "outputs": [],
   "source": []
  },
  {
   "cell_type": "code",
   "execution_count": null,
   "id": "610b735d-bbc5-45b1-942a-74e195344a25",
   "metadata": {},
   "outputs": [],
   "source": []
  },
  {
   "cell_type": "code",
   "execution_count": null,
   "id": "64cd6dd1-15d6-4d5d-ba28-60700ec93176",
   "metadata": {},
   "outputs": [],
   "source": []
  },
  {
   "cell_type": "code",
   "execution_count": null,
   "id": "e537b52a-79ff-4b20-90ab-1a93a1458611",
   "metadata": {},
   "outputs": [],
   "source": [
    "'test11'"
   ]
  },
  {
   "cell_type": "code",
   "execution_count": null,
   "id": "d94c4076-6293-4207-b196-60ab0343d7e6",
   "metadata": {},
   "outputs": [],
   "source": []
  },
  {
   "cell_type": "code",
   "execution_count": null,
   "id": "4b44ee45-cfd5-4206-83df-685e71de2e2a",
   "metadata": {},
   "outputs": [],
   "source": [
    "\"\"\" label_encoders = {}\n",
    "for column in ['area_type', 'availability', 'location', 'size']:\n",
    "    le = LabelEncoder()\n",
    "    trained_data[column] = le.fit_transform(trained_data[column])\n",
    "    label_encoders[column] = le\n",
    "\"\"\""
   ]
  },
  {
   "cell_type": "code",
   "execution_count": null,
   "id": "eae136b9-e94e-45e2-a996-05be3b3da882",
   "metadata": {},
   "outputs": [],
   "source": []
  },
  {
   "cell_type": "code",
   "execution_count": null,
   "id": "61419b1b-739e-4cbf-8eac-e1e304d94772",
   "metadata": {},
   "outputs": [],
   "source": []
  },
  {
   "cell_type": "code",
   "execution_count": null,
   "id": "da0d9f33-8ec1-4d83-8df1-da9682f6fa6c",
   "metadata": {},
   "outputs": [],
   "source": []
  },
  {
   "cell_type": "code",
   "execution_count": null,
   "id": "a88edd67-7b79-4809-9a64-2d33d44ac40a",
   "metadata": {},
   "outputs": [],
   "source": []
  },
  {
   "cell_type": "code",
   "execution_count": null,
   "id": "4523ab71-5795-4f94-863f-9490250cbc21",
   "metadata": {},
   "outputs": [],
   "source": []
  },
  {
   "cell_type": "code",
   "execution_count": null,
   "id": "d7d6fe57-9e15-4301-bde8-1ac08ada7847",
   "metadata": {},
   "outputs": [],
   "source": []
  },
  {
   "cell_type": "code",
   "execution_count": null,
   "id": "3df5e706-94fd-4262-b137-a96633340e56",
   "metadata": {},
   "outputs": [],
   "source": []
  },
  {
   "cell_type": "code",
   "execution_count": null,
   "id": "8d635c33-ad47-497c-9d72-2dc45103a3ca",
   "metadata": {},
   "outputs": [],
   "source": []
  },
  {
   "cell_type": "code",
   "execution_count": null,
   "id": "e1caf61a-bd05-459b-a6c8-3dc422ea561f",
   "metadata": {},
   "outputs": [],
   "source": []
  },
  {
   "cell_type": "code",
   "execution_count": null,
   "id": "a1c05ccc-5a48-4c7f-814d-53b073c81c71",
   "metadata": {},
   "outputs": [],
   "source": []
  },
  {
   "cell_type": "code",
   "execution_count": null,
   "id": "997d1051-469f-4f6e-ba27-0d19ab21e534",
   "metadata": {},
   "outputs": [],
   "source": []
  }
 ],
 "metadata": {
  "kernelspec": {
   "display_name": "Python 3 (ipykernel)",
   "language": "python",
   "name": "python3"
  },
  "language_info": {
   "codemirror_mode": {
    "name": "ipython",
    "version": 3
   },
   "file_extension": ".py",
   "mimetype": "text/x-python",
   "name": "python",
   "nbconvert_exporter": "python",
   "pygments_lexer": "ipython3",
   "version": "3.12.4"
  }
 },
 "nbformat": 4,
 "nbformat_minor": 5
}
