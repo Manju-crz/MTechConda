{
 "cells": [
  {
   "cell_type": "markdown",
   "id": "f5c4275b-5033-41a0-b85f-9c2b07f5872b",
   "metadata": {
    "jp-MarkdownHeadingCollapsed": true
   },
   "source": [
    "### Import Required Libraries"
   ]
  },
  {
   "cell_type": "code",
   "execution_count": 2,
   "id": "a0b0ab6e-33cf-4507-80a1-2a97ac8fb7f8",
   "metadata": {},
   "outputs": [],
   "source": [
    "import pandas as pd\n",
    "import numpy as np\n",
    "from sklearn.model_selection import train_test_split, GridSearchCV\n",
    "from sklearn.ensemble import RandomForestRegressor\n",
    "from sklearn.metrics import mean_squared_error\n",
    "import re\n",
    "import joblib\n",
    "from sklearn.preprocessing import OneHotEncoder\n",
    "from sklearn.metrics import mean_squared_error, mean_absolute_error, r2_score"
   ]
  },
  {
   "cell_type": "code",
   "execution_count": null,
   "id": "847fe639-e10c-4c5b-acd4-a110e09744f2",
   "metadata": {},
   "outputs": [],
   "source": []
  },
  {
   "cell_type": "markdown",
   "id": "fe51f6a1-5c6b-496d-a090-3f3803e20152",
   "metadata": {
    "jp-MarkdownHeadingCollapsed": true
   },
   "source": [
    "### Import all data files"
   ]
  },
  {
   "cell_type": "code",
   "execution_count": 4,
   "id": "1e8e97b9-854e-4ced-b6d0-53cdf9324d01",
   "metadata": {},
   "outputs": [],
   "source": [
    "train_data = pd.read_csv(\"train.csv\")\n",
    "dist_data = pd.read_csv('dist_from_city_centre.csv')\n",
    "rent_data = pd.read_csv('avg_rent.csv')\n",
    "test_data = pd.read_csv(\"test.csv\")"
   ]
  },
  {
   "cell_type": "code",
   "execution_count": 5,
   "id": "25ea88c9-9fc7-4062-a12a-85464e80e977",
   "metadata": {},
   "outputs": [
    {
     "name": "stdout",
     "output_type": "stream",
     "text": [
      "<class 'pandas.core.frame.DataFrame'>\n",
      "RangeIndex: 10656 entries, 0 to 10655\n",
      "Data columns (total 10 columns):\n",
      " #   Column        Non-Null Count  Dtype  \n",
      "---  ------        --------------  -----  \n",
      " 0   ID            10656 non-null  int64  \n",
      " 1   area_type     10656 non-null  object \n",
      " 2   availability  10656 non-null  object \n",
      " 3   location      10655 non-null  object \n",
      " 4   size          10642 non-null  object \n",
      " 5   society       6228 non-null   object \n",
      " 6   total_sqft    10656 non-null  object \n",
      " 7   bath          10591 non-null  float64\n",
      " 8   balcony       10152 non-null  float64\n",
      " 9   price         10656 non-null  float64\n",
      "dtypes: float64(3), int64(1), object(6)\n",
      "memory usage: 832.6+ KB\n"
     ]
    }
   ],
   "source": [
    "train_data.info()"
   ]
  },
  {
   "cell_type": "code",
   "execution_count": 6,
   "id": "ee37e57f-7ad7-426e-b9f8-bb9f67f6d83d",
   "metadata": {},
   "outputs": [
    {
     "data": {
      "text/html": [
       "<div>\n",
       "<style scoped>\n",
       "    .dataframe tbody tr th:only-of-type {\n",
       "        vertical-align: middle;\n",
       "    }\n",
       "\n",
       "    .dataframe tbody tr th {\n",
       "        vertical-align: top;\n",
       "    }\n",
       "\n",
       "    .dataframe thead th {\n",
       "        text-align: right;\n",
       "    }\n",
       "</style>\n",
       "<table border=\"1\" class=\"dataframe\">\n",
       "  <thead>\n",
       "    <tr style=\"text-align: right;\">\n",
       "      <th></th>\n",
       "      <th>ID</th>\n",
       "      <th>area_type</th>\n",
       "      <th>availability</th>\n",
       "      <th>location</th>\n",
       "      <th>size</th>\n",
       "      <th>society</th>\n",
       "      <th>total_sqft</th>\n",
       "      <th>bath</th>\n",
       "      <th>balcony</th>\n",
       "      <th>price</th>\n",
       "    </tr>\n",
       "  </thead>\n",
       "  <tbody>\n",
       "    <tr>\n",
       "      <th>0</th>\n",
       "      <td>0</td>\n",
       "      <td>Super built-up  Area</td>\n",
       "      <td>19-Dec</td>\n",
       "      <td>Electronic City Phase II</td>\n",
       "      <td>2 BHK</td>\n",
       "      <td>Coomee</td>\n",
       "      <td>1056</td>\n",
       "      <td>2.0</td>\n",
       "      <td>1.0</td>\n",
       "      <td>39.07</td>\n",
       "    </tr>\n",
       "    <tr>\n",
       "      <th>1</th>\n",
       "      <td>1</td>\n",
       "      <td>Plot  Area</td>\n",
       "      <td>Ready To Move</td>\n",
       "      <td>Chikka Tirupathi</td>\n",
       "      <td>4 Bedroom</td>\n",
       "      <td>Theanmp</td>\n",
       "      <td>2600</td>\n",
       "      <td>5.0</td>\n",
       "      <td>3.0</td>\n",
       "      <td>120.00</td>\n",
       "    </tr>\n",
       "    <tr>\n",
       "      <th>2</th>\n",
       "      <td>2</td>\n",
       "      <td>Built-up  Area</td>\n",
       "      <td>Ready To Move</td>\n",
       "      <td>Uttarahalli</td>\n",
       "      <td>3 BHK</td>\n",
       "      <td>NaN</td>\n",
       "      <td>1440</td>\n",
       "      <td>2.0</td>\n",
       "      <td>3.0</td>\n",
       "      <td>62.00</td>\n",
       "    </tr>\n",
       "  </tbody>\n",
       "</table>\n",
       "</div>"
      ],
      "text/plain": [
       "   ID             area_type   availability                  location  \\\n",
       "0   0  Super built-up  Area         19-Dec  Electronic City Phase II   \n",
       "1   1            Plot  Area  Ready To Move          Chikka Tirupathi   \n",
       "2   2        Built-up  Area  Ready To Move               Uttarahalli   \n",
       "\n",
       "        size  society total_sqft  bath  balcony   price  \n",
       "0      2 BHK  Coomee        1056   2.0      1.0   39.07  \n",
       "1  4 Bedroom  Theanmp       2600   5.0      3.0  120.00  \n",
       "2      3 BHK      NaN       1440   2.0      3.0   62.00  "
      ]
     },
     "execution_count": 6,
     "metadata": {},
     "output_type": "execute_result"
    }
   ],
   "source": [
    "train_data.head(3)"
   ]
  },
  {
   "cell_type": "code",
   "execution_count": 7,
   "id": "0b10e53c-2c9f-47fb-8c74-c354d456c032",
   "metadata": {},
   "outputs": [
    {
     "name": "stdout",
     "output_type": "stream",
     "text": [
      "<class 'pandas.core.frame.DataFrame'>\n",
      "RangeIndex: 500 entries, 0 to 499\n",
      "Data columns (total 2 columns):\n",
      " #   Column          Non-Null Count  Dtype  \n",
      "---  ------          --------------  -----  \n",
      " 0   location        500 non-null    object \n",
      " 1   dist_from_city  500 non-null    float64\n",
      "dtypes: float64(1), object(1)\n",
      "memory usage: 7.9+ KB\n"
     ]
    }
   ],
   "source": [
    "dist_data.info()"
   ]
  },
  {
   "cell_type": "code",
   "execution_count": 8,
   "id": "d4b970f5-6ebd-401e-b450-44742aad2039",
   "metadata": {},
   "outputs": [
    {
     "data": {
      "text/html": [
       "<div>\n",
       "<style scoped>\n",
       "    .dataframe tbody tr th:only-of-type {\n",
       "        vertical-align: middle;\n",
       "    }\n",
       "\n",
       "    .dataframe tbody tr th {\n",
       "        vertical-align: top;\n",
       "    }\n",
       "\n",
       "    .dataframe thead th {\n",
       "        text-align: right;\n",
       "    }\n",
       "</style>\n",
       "<table border=\"1\" class=\"dataframe\">\n",
       "  <thead>\n",
       "    <tr style=\"text-align: right;\">\n",
       "      <th></th>\n",
       "      <th>location</th>\n",
       "      <th>dist_from_city</th>\n",
       "    </tr>\n",
       "  </thead>\n",
       "  <tbody>\n",
       "    <tr>\n",
       "      <th>0</th>\n",
       "      <td>Whitefield</td>\n",
       "      <td>17.3</td>\n",
       "    </tr>\n",
       "    <tr>\n",
       "      <th>1</th>\n",
       "      <td>Sarjapur  Road</td>\n",
       "      <td>17.2</td>\n",
       "    </tr>\n",
       "    <tr>\n",
       "      <th>2</th>\n",
       "      <td>Electronic City</td>\n",
       "      <td>18.1</td>\n",
       "    </tr>\n",
       "  </tbody>\n",
       "</table>\n",
       "</div>"
      ],
      "text/plain": [
       "          location  dist_from_city\n",
       "0       Whitefield            17.3\n",
       "1   Sarjapur  Road            17.2\n",
       "2  Electronic City            18.1"
      ]
     },
     "execution_count": 8,
     "metadata": {},
     "output_type": "execute_result"
    }
   ],
   "source": [
    "dist_data.head(3)"
   ]
  },
  {
   "cell_type": "code",
   "execution_count": 9,
   "id": "6cbef5f4-159c-4b67-adf0-06ecd76a7a52",
   "metadata": {},
   "outputs": [
    {
     "name": "stdout",
     "output_type": "stream",
     "text": [
      "<class 'pandas.core.frame.DataFrame'>\n",
      "RangeIndex: 157 entries, 0 to 156\n",
      "Data columns (total 2 columns):\n",
      " #   Column         Non-Null Count  Dtype \n",
      "---  ------         --------------  ----- \n",
      " 0   location       157 non-null    object\n",
      " 1   avg_2bhk_rent  157 non-null    int64 \n",
      "dtypes: int64(1), object(1)\n",
      "memory usage: 2.6+ KB\n"
     ]
    }
   ],
   "source": [
    "rent_data.info()"
   ]
  },
  {
   "cell_type": "code",
   "execution_count": 10,
   "id": "bf68875a-405c-424a-a9b6-670c63947115",
   "metadata": {},
   "outputs": [
    {
     "data": {
      "text/html": [
       "<div>\n",
       "<style scoped>\n",
       "    .dataframe tbody tr th:only-of-type {\n",
       "        vertical-align: middle;\n",
       "    }\n",
       "\n",
       "    .dataframe tbody tr th {\n",
       "        vertical-align: top;\n",
       "    }\n",
       "\n",
       "    .dataframe thead th {\n",
       "        text-align: right;\n",
       "    }\n",
       "</style>\n",
       "<table border=\"1\" class=\"dataframe\">\n",
       "  <thead>\n",
       "    <tr style=\"text-align: right;\">\n",
       "      <th></th>\n",
       "      <th>location</th>\n",
       "      <th>avg_2bhk_rent</th>\n",
       "    </tr>\n",
       "  </thead>\n",
       "  <tbody>\n",
       "    <tr>\n",
       "      <th>0</th>\n",
       "      <td>Krishnarajapura</td>\n",
       "      <td>11954</td>\n",
       "    </tr>\n",
       "    <tr>\n",
       "      <th>1</th>\n",
       "      <td>Sarjapur</td>\n",
       "      <td>45000</td>\n",
       "    </tr>\n",
       "    <tr>\n",
       "      <th>2</th>\n",
       "      <td>Whitefield Hope Farm Junction</td>\n",
       "      <td>26370</td>\n",
       "    </tr>\n",
       "    <tr>\n",
       "      <th>3</th>\n",
       "      <td>Devanahalli</td>\n",
       "      <td>17302</td>\n",
       "    </tr>\n",
       "    <tr>\n",
       "      <th>4</th>\n",
       "      <td>Whitefield</td>\n",
       "      <td>14981</td>\n",
       "    </tr>\n",
       "  </tbody>\n",
       "</table>\n",
       "</div>"
      ],
      "text/plain": [
       "                        location  avg_2bhk_rent\n",
       "0                Krishnarajapura          11954\n",
       "1                       Sarjapur          45000\n",
       "2  Whitefield Hope Farm Junction          26370\n",
       "3                    Devanahalli          17302\n",
       "4                     Whitefield          14981"
      ]
     },
     "execution_count": 10,
     "metadata": {},
     "output_type": "execute_result"
    }
   ],
   "source": [
    "rent_data.head()"
   ]
  },
  {
   "cell_type": "code",
   "execution_count": 11,
   "id": "8d2e27cd-868d-4f12-be6c-04c0962e90f6",
   "metadata": {},
   "outputs": [
    {
     "name": "stdout",
     "output_type": "stream",
     "text": [
      "<class 'pandas.core.frame.DataFrame'>\n",
      "RangeIndex: 2664 entries, 0 to 2663\n",
      "Data columns (total 9 columns):\n",
      " #   Column        Non-Null Count  Dtype  \n",
      "---  ------        --------------  -----  \n",
      " 0   ID            2664 non-null   int64  \n",
      " 1   area_type     2664 non-null   object \n",
      " 2   availability  2664 non-null   object \n",
      " 3   location      2664 non-null   object \n",
      " 4   size          2662 non-null   object \n",
      " 5   society       1590 non-null   object \n",
      " 6   total_sqft    2664 non-null   object \n",
      " 7   bath          2656 non-null   float64\n",
      " 8   balcony       2559 non-null   float64\n",
      "dtypes: float64(2), int64(1), object(6)\n",
      "memory usage: 187.4+ KB\n"
     ]
    }
   ],
   "source": [
    "test_data.info()"
   ]
  },
  {
   "cell_type": "code",
   "execution_count": 12,
   "id": "26a36f11-281b-43f2-960a-5da55764d19b",
   "metadata": {},
   "outputs": [
    {
     "data": {
      "text/html": [
       "<div>\n",
       "<style scoped>\n",
       "    .dataframe tbody tr th:only-of-type {\n",
       "        vertical-align: middle;\n",
       "    }\n",
       "\n",
       "    .dataframe tbody tr th {\n",
       "        vertical-align: top;\n",
       "    }\n",
       "\n",
       "    .dataframe thead th {\n",
       "        text-align: right;\n",
       "    }\n",
       "</style>\n",
       "<table border=\"1\" class=\"dataframe\">\n",
       "  <thead>\n",
       "    <tr style=\"text-align: right;\">\n",
       "      <th></th>\n",
       "      <th>ID</th>\n",
       "      <th>area_type</th>\n",
       "      <th>availability</th>\n",
       "      <th>location</th>\n",
       "      <th>size</th>\n",
       "      <th>society</th>\n",
       "      <th>total_sqft</th>\n",
       "      <th>bath</th>\n",
       "      <th>balcony</th>\n",
       "    </tr>\n",
       "  </thead>\n",
       "  <tbody>\n",
       "    <tr>\n",
       "      <th>0</th>\n",
       "      <td>0</td>\n",
       "      <td>Super built-up  Area</td>\n",
       "      <td>Ready To Move</td>\n",
       "      <td>Chamrajpet</td>\n",
       "      <td>2 BHK</td>\n",
       "      <td>NaN</td>\n",
       "      <td>650</td>\n",
       "      <td>1.0</td>\n",
       "      <td>1.0</td>\n",
       "    </tr>\n",
       "    <tr>\n",
       "      <th>1</th>\n",
       "      <td>1</td>\n",
       "      <td>Super built-up  Area</td>\n",
       "      <td>Ready To Move</td>\n",
       "      <td>7th Phase JP Nagar</td>\n",
       "      <td>3 BHK</td>\n",
       "      <td>SrncyRe</td>\n",
       "      <td>1370</td>\n",
       "      <td>2.0</td>\n",
       "      <td>1.0</td>\n",
       "    </tr>\n",
       "    <tr>\n",
       "      <th>2</th>\n",
       "      <td>2</td>\n",
       "      <td>Super built-up  Area</td>\n",
       "      <td>Ready To Move</td>\n",
       "      <td>Whitefield</td>\n",
       "      <td>3 BHK</td>\n",
       "      <td>AjhalNa</td>\n",
       "      <td>1725</td>\n",
       "      <td>3.0</td>\n",
       "      <td>2.0</td>\n",
       "    </tr>\n",
       "    <tr>\n",
       "      <th>3</th>\n",
       "      <td>3</td>\n",
       "      <td>Built-up  Area</td>\n",
       "      <td>Ready To Move</td>\n",
       "      <td>Jalahalli</td>\n",
       "      <td>2 BHK</td>\n",
       "      <td>NaN</td>\n",
       "      <td>1000</td>\n",
       "      <td>2.0</td>\n",
       "      <td>0.0</td>\n",
       "    </tr>\n",
       "    <tr>\n",
       "      <th>4</th>\n",
       "      <td>4</td>\n",
       "      <td>Plot  Area</td>\n",
       "      <td>Ready To Move</td>\n",
       "      <td>TC Palaya</td>\n",
       "      <td>1 Bedroom</td>\n",
       "      <td>NaN</td>\n",
       "      <td>1350</td>\n",
       "      <td>1.0</td>\n",
       "      <td>0.0</td>\n",
       "    </tr>\n",
       "  </tbody>\n",
       "</table>\n",
       "</div>"
      ],
      "text/plain": [
       "   ID             area_type   availability            location       size  \\\n",
       "0   0  Super built-up  Area  Ready To Move          Chamrajpet      2 BHK   \n",
       "1   1  Super built-up  Area  Ready To Move  7th Phase JP Nagar      3 BHK   \n",
       "2   2  Super built-up  Area  Ready To Move          Whitefield      3 BHK   \n",
       "3   3        Built-up  Area  Ready To Move           Jalahalli      2 BHK   \n",
       "4   4            Plot  Area  Ready To Move           TC Palaya  1 Bedroom   \n",
       "\n",
       "   society total_sqft  bath  balcony  \n",
       "0      NaN        650   1.0      1.0  \n",
       "1  SrncyRe       1370   2.0      1.0  \n",
       "2  AjhalNa       1725   3.0      2.0  \n",
       "3      NaN       1000   2.0      0.0  \n",
       "4      NaN       1350   1.0      0.0  "
      ]
     },
     "execution_count": 12,
     "metadata": {},
     "output_type": "execute_result"
    }
   ],
   "source": [
    "test_data.head()"
   ]
  },
  {
   "cell_type": "code",
   "execution_count": null,
   "id": "0fb0315c-ef12-4459-8c0b-b67726e62030",
   "metadata": {},
   "outputs": [],
   "source": []
  },
  {
   "cell_type": "markdown",
   "id": "4fe76305-d7b0-4e3d-af42-3a3c97b109a9",
   "metadata": {},
   "source": [
    "### Common Data Processing functions"
   ]
  },
  {
   "cell_type": "code",
   "execution_count": 14,
   "id": "e1f062e8-6577-48e5-80fa-c9fad3b4071a",
   "metadata": {},
   "outputs": [],
   "source": [
    "# Delete non-preferable rows and columns\n",
    "def remove_NonPreferable_Rows_Columns(data) :\n",
    "    #data = data.dropna(subset=['location'])\n",
    "    #data = data.dropna(subset=['size'])\n",
    "    data['size'] = data['size'].fillna('Unknown')\n",
    "    data['location'] = data['location'].fillna('Unknown')\n",
    "    #data = data.drop('society', axis=1)\n",
    "    data['society'] = data['society'].fillna('Unknown')\n",
    "    return data"
   ]
  },
  {
   "cell_type": "code",
   "execution_count": 15,
   "id": "9e5a9596-21d4-4927-b97f-af54fbb2294c",
   "metadata": {},
   "outputs": [],
   "source": [
    "# Convert the 'size' values to uniform in nature\n",
    "def convert_Size_Uniformely(data) :\n",
    "    data['size'] = data['size'].str.replace('Bedroom', 'BHK')\n",
    "    return data"
   ]
  },
  {
   "cell_type": "code",
   "execution_count": 16,
   "id": "55efb6d7-93ec-462c-98a7-9502b1a0ef5f",
   "metadata": {},
   "outputs": [],
   "source": [
    "def process_total_sqft(value):\n",
    "    value = str(value.strip().lower().replace(\" \", \"\"))\n",
    "    if '-' in value:\n",
    "        # Split the string at the hyphen, strip spaces, and calculate the average\n",
    "        parts = value.split('-')\n",
    "        part1 = float(parts[0].strip())  # Trim spaces and convert to float\n",
    "        part2 = float(parts[1].strip())  # Trim spaces and convert to float\n",
    "        avg_value = (part1 + part2) / 2\n",
    "        return str(avg_value)\n",
    "    elif value.endswith(\".0\"):\n",
    "        return value[:-2]\n",
    "    elif (value.endswith(\"acres\") or value.endswith(\"acre\") or value.endswith(\"acr\") or value.endswith(\"acrs\")):\n",
    "        value = value.replace(\"acres\", \"\").replace(\"acre\", \"\").replace(\"acr\", \"\").replace(\"acrs\", \"\")\n",
    "        return str(float(value) * 43560)\n",
    "    elif (value.endswith(\"sq.meter\") or value.endswith(\"sq.mtr\") or value.endswith(\"sqmeter\") or value.endswith(\"sqmtr\")):\n",
    "        value = value.replace(\"sq.meter\", \"\").replace(\"sq.mtr\", \"\").replace(\"sqmeter\", \"\").replace(\"sqmtr\", \"\")\n",
    "        return str(float(value) * 10.7639)\n",
    "    elif (value.endswith(\"perch\") or value.endswith(\"prch\")):\n",
    "        value = value.replace(\"perch\", \"\").replace(\"prch\", \"\")\n",
    "        return str(float(value) * 272.25)\n",
    "    elif (value.endswith(\"sq.yards\") or value.endswith(\"sq.yard\") or value.endswith(\"sqyrd\") or value.endswith(\"sqyrds\")):\n",
    "        value = value.replace(\"sq.yards\", \"\").replace(\"sq.yard\", \"\").replace(\"sqyrd\", \"\").replace(\"sqyrds\", \"\")\n",
    "        return str(float(value) * 9)\n",
    "    elif (value.endswith(\"cents\") or value.endswith(\"cent\") or value.endswith(\"cnts\") or value.endswith(\"cnt\")):\n",
    "        value = value.replace(\"cents\", \"\").replace(\"cent\", \"\").replace(\"cnts\", \"\").replace(\"cnt\", \"\")\n",
    "        return str(float(value) * 435.6)\n",
    "    elif (value.endswith(\"gunthas\") or value.endswith(\"guntha\") or value.endswith(\"guntas\") or value.endswith(\"gunta\")):\n",
    "        value = value.replace(\"gunthas\", \"\").replace(\"guntha\", \"\").replace(\"guntas\", \"\").replace(\"gunta\", \"\")\n",
    "        return str(float(value) * 1089)\n",
    "    elif (value.endswith(\"grounds\") or value.endswith(\"ground\") or value.endswith(\"grnds\") or value.endswith(\"grnd\")):\n",
    "        value = value.replace(\"grounds\", \"\").replace(\"ground\", \"\").replace(\"grnds\", \"\").replace(\"grnd\", \"\")\n",
    "        return str(float(value) * 2400)\n",
    "    else:\n",
    "        return value"
   ]
  },
  {
   "cell_type": "code",
   "execution_count": 17,
   "id": "fd775091-4fa9-4208-ab8d-492fc8ea8977",
   "metadata": {},
   "outputs": [],
   "source": [
    "def convert_uniform_totalSqrt(data) :\n",
    "    non_integer_values = data[data['total_sqft'].apply(lambda x: not str(x).isdigit())]\n",
    "    data['total_sqft'] = data['total_sqft'].apply(process_total_sqft)\n",
    "    data['total_sqft'] = data['total_sqft'].apply(process_total_sqft)\n",
    "    data['total_sqft'] = data['total_sqft'].astype(float).round().astype(int)\n",
    "    return data"
   ]
  },
  {
   "cell_type": "code",
   "execution_count": 18,
   "id": "57bf0b32-51a6-44f7-8f15-a5e36ffd9bab",
   "metadata": {},
   "outputs": [],
   "source": [
    "# Catgeories based on total square feet\n",
    "def generate_sqft_cat_column(data) :\n",
    "    data['total_sqft_category'] = pd.cut(\n",
    "        data['total_sqft'], \n",
    "        bins=[0, 49, 100, 500, 1000, 5000, 10000, 15000, 25000, 50000, 100000, 200000, 500000, 1000000, 2000000, 5000000, 10000000, 20000000],\n",
    "        labels=[1, 2, 3, 4, 5, 6, 7, 8, 9, 10, 11, 12, 13, 14, 15, 16, 17],\n",
    "        include_lowest=True\n",
    "    )\n",
    "    data['total_sqft_category'] = data['total_sqft_category'].astype(int)\n",
    "    return data"
   ]
  },
  {
   "cell_type": "code",
   "execution_count": 19,
   "id": "fb948c4c-a423-4b80-b840-64e3dc7940fe",
   "metadata": {},
   "outputs": [],
   "source": [
    "def avg_null_bath_values(data):\n",
    "    if isinstance(data.index, pd.MultiIndex):\n",
    "        data.reset_index(inplace=True)\n",
    "    grouped = data.groupby(['area_type', 'total_sqft_category', 'size'])\n",
    "    data['bath'] = grouped['bath'].transform(lambda x: x.fillna(x.mean()))\n",
    "    print(data['bath'].isnull().sum())\n",
    "    grouped = data.groupby(['area_type', 'total_sqft_category'])\n",
    "    data['bath'] = grouped['bath'].transform(lambda x: x.fillna(x.mean()))\n",
    "    data['bath'] = data['bath'].astype(float).round().astype(int)\n",
    "    return data;"
   ]
  },
  {
   "cell_type": "code",
   "execution_count": 20,
   "id": "70bfa5e1-c1e5-4452-921a-b9b36a192d50",
   "metadata": {},
   "outputs": [],
   "source": [
    "def avg_null_balcony_values(data):\n",
    "    if isinstance(data.index, pd.MultiIndex):\n",
    "        data.reset_index(inplace=True)\n",
    "    grouped = data.groupby(['area_type', 'total_sqft_category', 'size'])\n",
    "    data['balcony'] = grouped['balcony'].transform(lambda x: x.fillna(x.mean()))\n",
    "    print(data['balcony'].isnull().sum())\n",
    "    data['balcony'] = data['balcony'].astype(float).round()\n",
    "\n",
    "    if isinstance(data.index, pd.MultiIndex):\n",
    "        data.reset_index(inplace=True)\n",
    "    grouped = data.groupby(['area_type', 'total_sqft_category'])\n",
    "    data['balcony'] = grouped['balcony'].transform(lambda x: x.fillna(x.mean()))\n",
    "    print(data['balcony'].isnull().sum())\n",
    "    data['balcony'] = data['balcony'].astype(float).round()\n",
    "\n",
    "    if isinstance(data.index, pd.MultiIndex):\n",
    "        data.reset_index(inplace=True)\n",
    "    grouped = data.groupby(['area_type', 'size'])\n",
    "    data['balcony'] = grouped['balcony'].transform(lambda x: x.fillna(x.mean()))\n",
    "    print(data['balcony'].isnull().sum())\n",
    "    data['balcony'] = data['balcony'].astype(float).round()\n",
    "    \n",
    "    return data;"
   ]
  },
  {
   "cell_type": "code",
   "execution_count": 21,
   "id": "ab2ef002-e26d-4dfc-bd8b-1a4b97596fec",
   "metadata": {},
   "outputs": [],
   "source": [
    "def treat_society(value):\n",
    "    return \"unknown\" if pd.isnull(value) else str(value.lower().strip())"
   ]
  },
  {
   "cell_type": "code",
   "execution_count": null,
   "id": "7febb8c8-a567-49a2-8bd0-a16a0e226d23",
   "metadata": {},
   "outputs": [],
   "source": []
  },
  {
   "cell_type": "markdown",
   "id": "8f9272bd-b4a7-4951-bb35-e2e98503470c",
   "metadata": {},
   "source": [
    "### Data pre processing- Stage 1: train.csv and test.csv"
   ]
  },
  {
   "cell_type": "code",
   "execution_count": 23,
   "id": "98e107bb-277d-4ac9-9e4d-37662eee4e91",
   "metadata": {},
   "outputs": [
    {
     "name": "stdout",
     "output_type": "stream",
     "text": [
      "14\n",
      "30\n",
      "1\n",
      "0\n"
     ]
    }
   ],
   "source": [
    "processed_train_data = remove_NonPreferable_Rows_Columns(train_data)\n",
    "processed_train_data = convert_Size_Uniformely(processed_train_data)\n",
    "processed_train_data = convert_uniform_totalSqrt(processed_train_data)\n",
    "processed_train_data = generate_sqft_cat_column(processed_train_data)\n",
    "processed_train_data = avg_null_bath_values(processed_train_data)\n",
    "processed_train_data = avg_null_balcony_values(processed_train_data)\n",
    "processed_train_data['location'] = processed_train_data['location'].apply(treat_society)\n",
    "processed_train_data.head(3)\n",
    "processed_train_data.to_csv(\"processed_train_data_stg1.csv\", index=False)"
   ]
  },
  {
   "cell_type": "code",
   "execution_count": 24,
   "id": "7096036d-5fe1-4584-ab8e-bb81f8235cc9",
   "metadata": {},
   "outputs": [
    {
     "name": "stdout",
     "output_type": "stream",
     "text": [
      "2\n",
      "7\n",
      "0\n",
      "0\n"
     ]
    }
   ],
   "source": [
    "processed_test_data = remove_NonPreferable_Rows_Columns(test_data)\n",
    "processed_test_data = convert_Size_Uniformely(processed_test_data)\n",
    "processed_test_data = convert_uniform_totalSqrt(processed_test_data)\n",
    "processed_test_data = generate_sqft_cat_column(processed_test_data)\n",
    "processed_test_data = avg_null_bath_values(processed_test_data)\n",
    "processed_test_data = avg_null_balcony_values(processed_test_data)\n",
    "processed_test_data['society'] = processed_test_data['society'].apply(treat_society)\n",
    "processed_test_data.head(3)\n",
    "processed_test_data.to_csv(\"processed_test_data_stg1.csv\", index=False)"
   ]
  },
  {
   "cell_type": "code",
   "execution_count": 25,
   "id": "f75941ea-7d44-43ea-b26d-e949c337c3ca",
   "metadata": {},
   "outputs": [
    {
     "name": "stdout",
     "output_type": "stream",
     "text": [
      "ID                     0\n",
      "area_type              0\n",
      "availability           0\n",
      "location               0\n",
      "size                   0\n",
      "society                0\n",
      "total_sqft             0\n",
      "bath                   0\n",
      "balcony                0\n",
      "price                  0\n",
      "total_sqft_category    0\n",
      "dtype: int64\n"
     ]
    }
   ],
   "source": [
    "missing_count = processed_train_data.isnull().sum()\n",
    "print(missing_count)"
   ]
  },
  {
   "cell_type": "code",
   "execution_count": 26,
   "id": "9b57be00-b756-40c5-8185-831ce8bb3ffc",
   "metadata": {},
   "outputs": [
    {
     "name": "stdout",
     "output_type": "stream",
     "text": [
      "ID                     0\n",
      "area_type              0\n",
      "availability           0\n",
      "location               0\n",
      "size                   0\n",
      "society                0\n",
      "total_sqft             0\n",
      "bath                   0\n",
      "balcony                0\n",
      "total_sqft_category    0\n",
      "dtype: int64\n"
     ]
    }
   ],
   "source": [
    "missing_count = processed_test_data.isnull().sum()\n",
    "print(missing_count)"
   ]
  },
  {
   "cell_type": "code",
   "execution_count": null,
   "id": "666ff211-becf-4150-bc9b-5e21497795fc",
   "metadata": {},
   "outputs": [],
   "source": []
  },
  {
   "cell_type": "markdown",
   "id": "4eac45c6-e9f3-46b2-8b58-e940aaec27f3",
   "metadata": {},
   "source": [
    "### Data pre processing- Stage 2: Merge Primary and Secondary data sets and process"
   ]
  },
  {
   "cell_type": "code",
   "execution_count": null,
   "id": "4cabba16-cd24-4497-a19d-548f78cd73de",
   "metadata": {},
   "outputs": [],
   "source": []
  },
  {
   "cell_type": "code",
   "execution_count": 28,
   "id": "f1d595ee-9bbe-41d0-81d0-614157d0c739",
   "metadata": {},
   "outputs": [],
   "source": [
    "# Catgeories based on total square feet\n",
    "def generate_distance_cat_column(data) :\n",
    "    data['dist_from_city_cat'] = pd.cut(\n",
    "        data['dist_from_city'], \n",
    "        bins=[0, 2, 5, 8, 13, 20, 30, 50, 70, 100, 200, 500, 1000, 2000, 5000, 10000, 20000, 50000],\n",
    "        labels=[1, 2, 3, 4, 5, 6, 7, 8, 9, 10, 11, 12, 13, 14, 15, 16, 17],\n",
    "        include_lowest=True\n",
    "    )\n",
    "    data['dist_from_city_cat'] = data['dist_from_city_cat'].astype(int)\n",
    "    return data"
   ]
  },
  {
   "cell_type": "code",
   "execution_count": 29,
   "id": "a2db82ad-773c-438f-95f1-1bbbe0f20984",
   "metadata": {},
   "outputs": [],
   "source": [
    "def fill_null_avg_2bhk_rent(data):\n",
    "    def first_level(data) :\n",
    "        if isinstance(data.index, pd.MultiIndex):\n",
    "            data.reset_index(inplace=True)\n",
    "        grouped = data.groupby(['dist_from_city_cat'])\n",
    "        data['avg_2bhk_rent'] = grouped['avg_2bhk_rent'].transform(lambda x: x.fillna(x.mean()))\n",
    "        data['avg_2bhk_rent'] = data['avg_2bhk_rent'].astype(float).round()\n",
    "        return data;\n",
    "    data = first_level(data)\n",
    "    data['avg_2bhk_rent'] = data['avg_2bhk_rent'].fillna(data['avg_2bhk_rent'].mean())\n",
    "    return data"
   ]
  },
  {
   "cell_type": "code",
   "execution_count": 30,
   "id": "809be4eb-a275-4c0a-9f22-5f7e56a09228",
   "metadata": {},
   "outputs": [
    {
     "data": {
      "text/html": [
       "<div>\n",
       "<style scoped>\n",
       "    .dataframe tbody tr th:only-of-type {\n",
       "        vertical-align: middle;\n",
       "    }\n",
       "\n",
       "    .dataframe tbody tr th {\n",
       "        vertical-align: top;\n",
       "    }\n",
       "\n",
       "    .dataframe thead th {\n",
       "        text-align: right;\n",
       "    }\n",
       "</style>\n",
       "<table border=\"1\" class=\"dataframe\">\n",
       "  <thead>\n",
       "    <tr style=\"text-align: right;\">\n",
       "      <th></th>\n",
       "      <th>ID</th>\n",
       "      <th>area_type</th>\n",
       "      <th>availability</th>\n",
       "      <th>location</th>\n",
       "      <th>size</th>\n",
       "      <th>society</th>\n",
       "      <th>total_sqft</th>\n",
       "      <th>bath</th>\n",
       "      <th>balcony</th>\n",
       "      <th>price</th>\n",
       "      <th>total_sqft_category</th>\n",
       "      <th>dist_from_city</th>\n",
       "      <th>avg_2bhk_rent</th>\n",
       "    </tr>\n",
       "  </thead>\n",
       "  <tbody>\n",
       "    <tr>\n",
       "      <th>0</th>\n",
       "      <td>0</td>\n",
       "      <td>Super built-up  Area</td>\n",
       "      <td>19-Dec</td>\n",
       "      <td>electronic city phase ii</td>\n",
       "      <td>2 BHK</td>\n",
       "      <td>Coomee</td>\n",
       "      <td>1056</td>\n",
       "      <td>2</td>\n",
       "      <td>1.0</td>\n",
       "      <td>39.07</td>\n",
       "      <td>5</td>\n",
       "      <td>NaN</td>\n",
       "      <td>NaN</td>\n",
       "    </tr>\n",
       "    <tr>\n",
       "      <th>1</th>\n",
       "      <td>1</td>\n",
       "      <td>Plot  Area</td>\n",
       "      <td>Ready To Move</td>\n",
       "      <td>chikka tirupathi</td>\n",
       "      <td>4 BHK</td>\n",
       "      <td>Theanmp</td>\n",
       "      <td>2600</td>\n",
       "      <td>5</td>\n",
       "      <td>3.0</td>\n",
       "      <td>120.00</td>\n",
       "      <td>5</td>\n",
       "      <td>NaN</td>\n",
       "      <td>NaN</td>\n",
       "    </tr>\n",
       "    <tr>\n",
       "      <th>2</th>\n",
       "      <td>2</td>\n",
       "      <td>Built-up  Area</td>\n",
       "      <td>Ready To Move</td>\n",
       "      <td>uttarahalli</td>\n",
       "      <td>3 BHK</td>\n",
       "      <td>Unknown</td>\n",
       "      <td>1440</td>\n",
       "      <td>2</td>\n",
       "      <td>3.0</td>\n",
       "      <td>62.00</td>\n",
       "      <td>5</td>\n",
       "      <td>NaN</td>\n",
       "      <td>NaN</td>\n",
       "    </tr>\n",
       "  </tbody>\n",
       "</table>\n",
       "</div>"
      ],
      "text/plain": [
       "   ID             area_type   availability                  location   size  \\\n",
       "0   0  Super built-up  Area         19-Dec  electronic city phase ii  2 BHK   \n",
       "1   1            Plot  Area  Ready To Move          chikka tirupathi  4 BHK   \n",
       "2   2        Built-up  Area  Ready To Move               uttarahalli  3 BHK   \n",
       "\n",
       "   society  total_sqft  bath  balcony   price  total_sqft_category  \\\n",
       "0  Coomee         1056     2      1.0   39.07                    5   \n",
       "1  Theanmp        2600     5      3.0  120.00                    5   \n",
       "2  Unknown        1440     2      3.0   62.00                    5   \n",
       "\n",
       "   dist_from_city  avg_2bhk_rent  \n",
       "0             NaN            NaN  \n",
       "1             NaN            NaN  \n",
       "2             NaN            NaN  "
      ]
     },
     "execution_count": 30,
     "metadata": {},
     "output_type": "execute_result"
    }
   ],
   "source": [
    "processed_train_data = processed_train_data.merge(dist_data, on='location', how='left')\n",
    "processed_train_data = processed_train_data.merge(rent_data, on='location', how='left')\n",
    "processed_train_data.head(3)"
   ]
  },
  {
   "cell_type": "code",
   "execution_count": 31,
   "id": "1e9fc4cc-0fc1-42bd-aabd-6ed7c0bc8790",
   "metadata": {},
   "outputs": [
    {
     "data": {
      "text/html": [
       "<div>\n",
       "<style scoped>\n",
       "    .dataframe tbody tr th:only-of-type {\n",
       "        vertical-align: middle;\n",
       "    }\n",
       "\n",
       "    .dataframe tbody tr th {\n",
       "        vertical-align: top;\n",
       "    }\n",
       "\n",
       "    .dataframe thead th {\n",
       "        text-align: right;\n",
       "    }\n",
       "</style>\n",
       "<table border=\"1\" class=\"dataframe\">\n",
       "  <thead>\n",
       "    <tr style=\"text-align: right;\">\n",
       "      <th></th>\n",
       "      <th>ID</th>\n",
       "      <th>area_type</th>\n",
       "      <th>availability</th>\n",
       "      <th>location</th>\n",
       "      <th>size</th>\n",
       "      <th>society</th>\n",
       "      <th>total_sqft</th>\n",
       "      <th>bath</th>\n",
       "      <th>balcony</th>\n",
       "      <th>price</th>\n",
       "      <th>total_sqft_category</th>\n",
       "      <th>dist_from_city</th>\n",
       "      <th>avg_2bhk_rent</th>\n",
       "      <th>dist_from_city_cat</th>\n",
       "    </tr>\n",
       "  </thead>\n",
       "  <tbody>\n",
       "    <tr>\n",
       "      <th>0</th>\n",
       "      <td>0</td>\n",
       "      <td>Super built-up  Area</td>\n",
       "      <td>19-Dec</td>\n",
       "      <td>electronic city phase ii</td>\n",
       "      <td>2 BHK</td>\n",
       "      <td>Coomee</td>\n",
       "      <td>1056</td>\n",
       "      <td>2</td>\n",
       "      <td>1.0</td>\n",
       "      <td>39.07</td>\n",
       "      <td>5</td>\n",
       "      <td>12.2</td>\n",
       "      <td>13244.0</td>\n",
       "      <td>4</td>\n",
       "    </tr>\n",
       "    <tr>\n",
       "      <th>1</th>\n",
       "      <td>1</td>\n",
       "      <td>Plot  Area</td>\n",
       "      <td>Ready To Move</td>\n",
       "      <td>chikka tirupathi</td>\n",
       "      <td>4 BHK</td>\n",
       "      <td>Theanmp</td>\n",
       "      <td>2600</td>\n",
       "      <td>5</td>\n",
       "      <td>3.0</td>\n",
       "      <td>120.00</td>\n",
       "      <td>5</td>\n",
       "      <td>12.2</td>\n",
       "      <td>13244.0</td>\n",
       "      <td>4</td>\n",
       "    </tr>\n",
       "    <tr>\n",
       "      <th>2</th>\n",
       "      <td>2</td>\n",
       "      <td>Built-up  Area</td>\n",
       "      <td>Ready To Move</td>\n",
       "      <td>uttarahalli</td>\n",
       "      <td>3 BHK</td>\n",
       "      <td>Unknown</td>\n",
       "      <td>1440</td>\n",
       "      <td>2</td>\n",
       "      <td>3.0</td>\n",
       "      <td>62.00</td>\n",
       "      <td>5</td>\n",
       "      <td>12.2</td>\n",
       "      <td>13244.0</td>\n",
       "      <td>4</td>\n",
       "    </tr>\n",
       "  </tbody>\n",
       "</table>\n",
       "</div>"
      ],
      "text/plain": [
       "   ID             area_type   availability                  location   size  \\\n",
       "0   0  Super built-up  Area         19-Dec  electronic city phase ii  2 BHK   \n",
       "1   1            Plot  Area  Ready To Move          chikka tirupathi  4 BHK   \n",
       "2   2        Built-up  Area  Ready To Move               uttarahalli  3 BHK   \n",
       "\n",
       "   society  total_sqft  bath  balcony   price  total_sqft_category  \\\n",
       "0  Coomee         1056     2      1.0   39.07                    5   \n",
       "1  Theanmp        2600     5      3.0  120.00                    5   \n",
       "2  Unknown        1440     2      3.0   62.00                    5   \n",
       "\n",
       "   dist_from_city  avg_2bhk_rent  dist_from_city_cat  \n",
       "0            12.2        13244.0                   4  \n",
       "1            12.2        13244.0                   4  \n",
       "2            12.2        13244.0                   4  "
      ]
     },
     "execution_count": 31,
     "metadata": {},
     "output_type": "execute_result"
    }
   ],
   "source": [
    "processed_train_data['dist_from_city'] = processed_train_data['dist_from_city'].fillna(processed_train_data['dist_from_city'].mean())\n",
    "processed_train_data = generate_distance_cat_column(processed_train_data)\n",
    "processed_train_data = fill_null_avg_2bhk_rent(processed_train_data)\n",
    "processed_train_data.head(3)"
   ]
  },
  {
   "cell_type": "code",
   "execution_count": null,
   "id": "c6b2d8f4-c1f8-4f2a-a82f-fde1c014e252",
   "metadata": {},
   "outputs": [],
   "source": []
  },
  {
   "cell_type": "code",
   "execution_count": null,
   "id": "f897f20d-ea5f-434c-80b2-734c5244cec8",
   "metadata": {},
   "outputs": [],
   "source": []
  },
  {
   "cell_type": "code",
   "execution_count": 32,
   "id": "531dd652-b482-48d6-95fc-5fc085607a1b",
   "metadata": {},
   "outputs": [
    {
     "data": {
      "text/html": [
       "<div>\n",
       "<style scoped>\n",
       "    .dataframe tbody tr th:only-of-type {\n",
       "        vertical-align: middle;\n",
       "    }\n",
       "\n",
       "    .dataframe tbody tr th {\n",
       "        vertical-align: top;\n",
       "    }\n",
       "\n",
       "    .dataframe thead th {\n",
       "        text-align: right;\n",
       "    }\n",
       "</style>\n",
       "<table border=\"1\" class=\"dataframe\">\n",
       "  <thead>\n",
       "    <tr style=\"text-align: right;\">\n",
       "      <th></th>\n",
       "      <th>ID</th>\n",
       "      <th>area_type</th>\n",
       "      <th>availability</th>\n",
       "      <th>location</th>\n",
       "      <th>size</th>\n",
       "      <th>society</th>\n",
       "      <th>total_sqft</th>\n",
       "      <th>bath</th>\n",
       "      <th>balcony</th>\n",
       "      <th>total_sqft_category</th>\n",
       "      <th>dist_from_city</th>\n",
       "      <th>avg_2bhk_rent</th>\n",
       "    </tr>\n",
       "  </thead>\n",
       "  <tbody>\n",
       "    <tr>\n",
       "      <th>0</th>\n",
       "      <td>0</td>\n",
       "      <td>Super built-up  Area</td>\n",
       "      <td>Ready To Move</td>\n",
       "      <td>Chamrajpet</td>\n",
       "      <td>2 BHK</td>\n",
       "      <td>unknown</td>\n",
       "      <td>650</td>\n",
       "      <td>1</td>\n",
       "      <td>1.0</td>\n",
       "      <td>4</td>\n",
       "      <td>6.7</td>\n",
       "      <td>15875.0</td>\n",
       "    </tr>\n",
       "    <tr>\n",
       "      <th>1</th>\n",
       "      <td>1</td>\n",
       "      <td>Super built-up  Area</td>\n",
       "      <td>Ready To Move</td>\n",
       "      <td>7th Phase JP Nagar</td>\n",
       "      <td>3 BHK</td>\n",
       "      <td>srncyre</td>\n",
       "      <td>1370</td>\n",
       "      <td>2</td>\n",
       "      <td>1.0</td>\n",
       "      <td>5</td>\n",
       "      <td>11.0</td>\n",
       "      <td>NaN</td>\n",
       "    </tr>\n",
       "    <tr>\n",
       "      <th>2</th>\n",
       "      <td>2</td>\n",
       "      <td>Super built-up  Area</td>\n",
       "      <td>Ready To Move</td>\n",
       "      <td>Whitefield</td>\n",
       "      <td>3 BHK</td>\n",
       "      <td>ajhalna</td>\n",
       "      <td>1725</td>\n",
       "      <td>3</td>\n",
       "      <td>2.0</td>\n",
       "      <td>5</td>\n",
       "      <td>17.3</td>\n",
       "      <td>14981.0</td>\n",
       "    </tr>\n",
       "  </tbody>\n",
       "</table>\n",
       "</div>"
      ],
      "text/plain": [
       "   ID             area_type   availability            location   size  \\\n",
       "0   0  Super built-up  Area  Ready To Move          Chamrajpet  2 BHK   \n",
       "1   1  Super built-up  Area  Ready To Move  7th Phase JP Nagar  3 BHK   \n",
       "2   2  Super built-up  Area  Ready To Move          Whitefield  3 BHK   \n",
       "\n",
       "   society  total_sqft  bath  balcony  total_sqft_category  dist_from_city  \\\n",
       "0  unknown         650     1      1.0                    4             6.7   \n",
       "1  srncyre        1370     2      1.0                    5            11.0   \n",
       "2  ajhalna        1725     3      2.0                    5            17.3   \n",
       "\n",
       "   avg_2bhk_rent  \n",
       "0        15875.0  \n",
       "1            NaN  \n",
       "2        14981.0  "
      ]
     },
     "execution_count": 32,
     "metadata": {},
     "output_type": "execute_result"
    }
   ],
   "source": [
    "processed_test_data = processed_test_data.merge(dist_data, on='location', how='left')\n",
    "processed_test_data = processed_test_data.merge(rent_data, on='location', how='left')\n",
    "processed_test_data.head(3)"
   ]
  },
  {
   "cell_type": "code",
   "execution_count": 33,
   "id": "ade17c34-729e-4781-9035-2422c2abe23f",
   "metadata": {},
   "outputs": [
    {
     "data": {
      "text/html": [
       "<div>\n",
       "<style scoped>\n",
       "    .dataframe tbody tr th:only-of-type {\n",
       "        vertical-align: middle;\n",
       "    }\n",
       "\n",
       "    .dataframe tbody tr th {\n",
       "        vertical-align: top;\n",
       "    }\n",
       "\n",
       "    .dataframe thead th {\n",
       "        text-align: right;\n",
       "    }\n",
       "</style>\n",
       "<table border=\"1\" class=\"dataframe\">\n",
       "  <thead>\n",
       "    <tr style=\"text-align: right;\">\n",
       "      <th></th>\n",
       "      <th>ID</th>\n",
       "      <th>area_type</th>\n",
       "      <th>availability</th>\n",
       "      <th>location</th>\n",
       "      <th>size</th>\n",
       "      <th>society</th>\n",
       "      <th>total_sqft</th>\n",
       "      <th>bath</th>\n",
       "      <th>balcony</th>\n",
       "      <th>total_sqft_category</th>\n",
       "      <th>dist_from_city</th>\n",
       "      <th>avg_2bhk_rent</th>\n",
       "      <th>dist_from_city_cat</th>\n",
       "    </tr>\n",
       "  </thead>\n",
       "  <tbody>\n",
       "    <tr>\n",
       "      <th>0</th>\n",
       "      <td>0</td>\n",
       "      <td>Super built-up  Area</td>\n",
       "      <td>Ready To Move</td>\n",
       "      <td>Chamrajpet</td>\n",
       "      <td>2 BHK</td>\n",
       "      <td>unknown</td>\n",
       "      <td>650</td>\n",
       "      <td>1</td>\n",
       "      <td>1.0</td>\n",
       "      <td>4</td>\n",
       "      <td>6.7</td>\n",
       "      <td>15875.0</td>\n",
       "      <td>3</td>\n",
       "    </tr>\n",
       "    <tr>\n",
       "      <th>1</th>\n",
       "      <td>1</td>\n",
       "      <td>Super built-up  Area</td>\n",
       "      <td>Ready To Move</td>\n",
       "      <td>7th Phase JP Nagar</td>\n",
       "      <td>3 BHK</td>\n",
       "      <td>srncyre</td>\n",
       "      <td>1370</td>\n",
       "      <td>2</td>\n",
       "      <td>1.0</td>\n",
       "      <td>5</td>\n",
       "      <td>11.0</td>\n",
       "      <td>15727.0</td>\n",
       "      <td>4</td>\n",
       "    </tr>\n",
       "    <tr>\n",
       "      <th>2</th>\n",
       "      <td>2</td>\n",
       "      <td>Super built-up  Area</td>\n",
       "      <td>Ready To Move</td>\n",
       "      <td>Whitefield</td>\n",
       "      <td>3 BHK</td>\n",
       "      <td>ajhalna</td>\n",
       "      <td>1725</td>\n",
       "      <td>3</td>\n",
       "      <td>2.0</td>\n",
       "      <td>5</td>\n",
       "      <td>17.3</td>\n",
       "      <td>14981.0</td>\n",
       "      <td>5</td>\n",
       "    </tr>\n",
       "  </tbody>\n",
       "</table>\n",
       "</div>"
      ],
      "text/plain": [
       "   ID             area_type   availability            location   size  \\\n",
       "0   0  Super built-up  Area  Ready To Move          Chamrajpet  2 BHK   \n",
       "1   1  Super built-up  Area  Ready To Move  7th Phase JP Nagar  3 BHK   \n",
       "2   2  Super built-up  Area  Ready To Move          Whitefield  3 BHK   \n",
       "\n",
       "   society  total_sqft  bath  balcony  total_sqft_category  dist_from_city  \\\n",
       "0  unknown         650     1      1.0                    4             6.7   \n",
       "1  srncyre        1370     2      1.0                    5            11.0   \n",
       "2  ajhalna        1725     3      2.0                    5            17.3   \n",
       "\n",
       "   avg_2bhk_rent  dist_from_city_cat  \n",
       "0        15875.0                   3  \n",
       "1        15727.0                   4  \n",
       "2        14981.0                   5  "
      ]
     },
     "execution_count": 33,
     "metadata": {},
     "output_type": "execute_result"
    }
   ],
   "source": [
    "processed_test_data['dist_from_city'] = processed_test_data['dist_from_city'].fillna(processed_test_data['dist_from_city'].mean())\n",
    "processed_test_data = generate_distance_cat_column(processed_test_data)\n",
    "processed_test_data = fill_null_avg_2bhk_rent(processed_test_data)\n",
    "processed_test_data.head(3)"
   ]
  },
  {
   "cell_type": "code",
   "execution_count": 34,
   "id": "f7bb6051-3d1a-4d69-bead-77793c7a7515",
   "metadata": {},
   "outputs": [],
   "source": [
    "processed_train_data.to_csv(\"processed_train_data_stg2.csv\", index=False)\n",
    "processed_test_data.to_csv(\"processed_test_data_stg2.csv\", index=False)"
   ]
  },
  {
   "cell_type": "code",
   "execution_count": null,
   "id": "27a9c63e-6a37-4532-90d2-58e4a27b4178",
   "metadata": {},
   "outputs": [],
   "source": []
  },
  {
   "cell_type": "code",
   "execution_count": 35,
   "id": "7659c19c-36d6-454f-8dbb-79d8c4cfa3e5",
   "metadata": {},
   "outputs": [
    {
     "name": "stdout",
     "output_type": "stream",
     "text": [
      "ID                     0\n",
      "area_type              0\n",
      "availability           0\n",
      "location               0\n",
      "size                   0\n",
      "society                0\n",
      "total_sqft             0\n",
      "bath                   0\n",
      "balcony                0\n",
      "price                  0\n",
      "total_sqft_category    0\n",
      "dist_from_city         0\n",
      "avg_2bhk_rent          0\n",
      "dist_from_city_cat     0\n",
      "dtype: int64\n"
     ]
    }
   ],
   "source": [
    "missing_count = processed_train_data.isnull().sum()\n",
    "print(missing_count)"
   ]
  },
  {
   "cell_type": "code",
   "execution_count": 36,
   "id": "796ff5d2-bff9-45c4-9745-65c9d6bef1f9",
   "metadata": {},
   "outputs": [
    {
     "name": "stdout",
     "output_type": "stream",
     "text": [
      "ID                     0\n",
      "area_type              0\n",
      "availability           0\n",
      "location               0\n",
      "size                   0\n",
      "society                0\n",
      "total_sqft             0\n",
      "bath                   0\n",
      "balcony                0\n",
      "price                  0\n",
      "total_sqft_category    0\n",
      "dist_from_city         0\n",
      "avg_2bhk_rent          0\n",
      "dist_from_city_cat     0\n",
      "dtype: int64\n"
     ]
    }
   ],
   "source": [
    "missing_count = processed_train_data.isnull().sum()\n",
    "print(missing_count)"
   ]
  },
  {
   "cell_type": "code",
   "execution_count": null,
   "id": "01cad0d6-1b72-43e0-98ac-8a379c61f2ed",
   "metadata": {},
   "outputs": [],
   "source": []
  },
  {
   "cell_type": "markdown",
   "id": "e1af535e-e038-4153-adfe-5899a298efeb",
   "metadata": {},
   "source": [
    "### Data pre processing- Stage 3: Further Data encoding"
   ]
  },
  {
   "cell_type": "code",
   "execution_count": null,
   "id": "0b4ce7f9-b950-45ac-8710-52bb7afbe554",
   "metadata": {},
   "outputs": [],
   "source": []
  },
  {
   "cell_type": "code",
   "execution_count": 38,
   "id": "6783c3dc-6b9c-4311-972c-fb969fa86a49",
   "metadata": {},
   "outputs": [],
   "source": [
    "def availability_generalize(value):\n",
    "    value = str(value)\n",
    "    if '-' in value:\n",
    "        return value.split('-')[1].strip().lower()\n",
    "    if 'ready to move' in value:\n",
    "        return \"ready to move in\"\n",
    "    return value.strip().lower()"
   ]
  },
  {
   "cell_type": "code",
   "execution_count": 39,
   "id": "84c5aa2c-0203-4d4c-b298-cf810eaf0e3f",
   "metadata": {},
   "outputs": [],
   "source": [
    "processed_train_data['availability'] = processed_train_data['availability'].apply(availability_generalize)\n",
    "processed_test_data['availability'] = processed_test_data['availability'].apply(availability_generalize)"
   ]
  },
  {
   "cell_type": "code",
   "execution_count": 40,
   "id": "b31aec29-6f04-4c4e-b6c0-2caafb782507",
   "metadata": {},
   "outputs": [
    {
     "name": "stdout",
     "output_type": "stream",
     "text": [
      "<class 'pandas.core.frame.DataFrame'>\n",
      "RangeIndex: 10656 entries, 0 to 10655\n",
      "Data columns (total 14 columns):\n",
      " #   Column               Non-Null Count  Dtype  \n",
      "---  ------               --------------  -----  \n",
      " 0   ID                   10656 non-null  int64  \n",
      " 1   area_type            10656 non-null  object \n",
      " 2   availability         10656 non-null  object \n",
      " 3   location             10656 non-null  object \n",
      " 4   size                 10656 non-null  object \n",
      " 5   society              10656 non-null  object \n",
      " 6   total_sqft           10656 non-null  int32  \n",
      " 7   bath                 10656 non-null  int32  \n",
      " 8   balcony              10656 non-null  float64\n",
      " 9   price                10656 non-null  float64\n",
      " 10  total_sqft_category  10656 non-null  int32  \n",
      " 11  dist_from_city       10656 non-null  float64\n",
      " 12  avg_2bhk_rent        10656 non-null  float64\n",
      " 13  dist_from_city_cat   10656 non-null  int32  \n",
      "dtypes: float64(4), int32(4), int64(1), object(5)\n",
      "memory usage: 999.1+ KB\n"
     ]
    }
   ],
   "source": [
    "processed_train_data.info()"
   ]
  },
  {
   "cell_type": "code",
   "execution_count": 131,
   "id": "cce18a96-12a6-4259-89cc-29cad1ab9d8b",
   "metadata": {},
   "outputs": [
    {
     "name": "stdout",
     "output_type": "stream",
     "text": [
      "<class 'pandas.core.frame.DataFrame'>\n",
      "RangeIndex: 2664 entries, 0 to 2663\n",
      "Columns: 1227 entries, ID to size_Unknown\n",
      "dtypes: float64(1221), int32(5), int64(1)\n",
      "memory usage: 24.9 MB\n"
     ]
    }
   ],
   "source": [
    "processed_test_data.info()"
   ]
  },
  {
   "cell_type": "code",
   "execution_count": null,
   "id": "a2459778-5730-4f27-abf0-c64cf12a84a4",
   "metadata": {},
   "outputs": [],
   "source": [
    "le = LabelEncoder()\n",
    "processed_train_data['society'] = le.fit_transform(processed_train_data['society'])\n",
    "processed_test_data['society'] = le.fit_transform(processed_test_data['society'])"
   ]
  },
  {
   "cell_type": "code",
   "execution_count": 42,
   "id": "4543b3b6-2459-40dc-a1b3-9a03332379e8",
   "metadata": {},
   "outputs": [],
   "source": [
    "#categorical_columns = processed_train_data.select_dtypes(include=['object']).columns\n",
    "categorical_columns = ['area_type', 'availability', 'location', 'size']\n",
    "categorical_columns = [col for col in categorical_columns if col in processed_train_data.columns and col in processed_test_data.columns]\n",
    "\n",
    "ohe = OneHotEncoder(handle_unknown='ignore', sparse_output=False)\n",
    "ohe.fit(processed_train_data[categorical_columns])\n",
    "\n",
    "train_encoded = ohe.transform(processed_train_data[categorical_columns])\n",
    "test_encoded = ohe.transform(processed_test_data[categorical_columns])\n",
    "\n",
    "feature_names = ohe.get_feature_names_out(categorical_columns)\n",
    "\n",
    "train_encoded_df = pd.DataFrame(train_encoded, columns=feature_names)\n",
    "test_encoded_df = pd.DataFrame(test_encoded, columns=feature_names)\n",
    "\n",
    "processed_train_data = processed_train_data.drop(columns=categorical_columns).reset_index(drop=True)\n",
    "processed_test_data = processed_test_data.drop(columns=categorical_columns).reset_index(drop=True)\n",
    "processed_train_data = pd.concat([processed_train_data, train_encoded_df], axis=1)\n",
    "processed_test_data = pd.concat([processed_test_data, test_encoded_df], axis=1)"
   ]
  },
  {
   "cell_type": "code",
   "execution_count": 43,
   "id": "b151731c-a08a-4b6f-9b34-0915cb69b4f4",
   "metadata": {},
   "outputs": [],
   "source": [
    "processed_train_data.to_csv(\"processed_train_data_stg3.csv\", index=False)\n",
    "processed_test_data.to_csv(\"processed_test_data_stg3.csv\", index=False)"
   ]
  },
  {
   "cell_type": "code",
   "execution_count": 44,
   "id": "b58a4649-4997-4904-9ce9-ba8c14563ad6",
   "metadata": {},
   "outputs": [
    {
     "data": {
      "text/html": [
       "<div>\n",
       "<style scoped>\n",
       "    .dataframe tbody tr th:only-of-type {\n",
       "        vertical-align: middle;\n",
       "    }\n",
       "\n",
       "    .dataframe tbody tr th {\n",
       "        vertical-align: top;\n",
       "    }\n",
       "\n",
       "    .dataframe thead th {\n",
       "        text-align: right;\n",
       "    }\n",
       "</style>\n",
       "<table border=\"1\" class=\"dataframe\">\n",
       "  <thead>\n",
       "    <tr style=\"text-align: right;\">\n",
       "      <th></th>\n",
       "      <th>ID</th>\n",
       "      <th>society</th>\n",
       "      <th>total_sqft</th>\n",
       "      <th>bath</th>\n",
       "      <th>balcony</th>\n",
       "      <th>total_sqft_category</th>\n",
       "      <th>dist_from_city</th>\n",
       "      <th>avg_2bhk_rent</th>\n",
       "      <th>dist_from_city_cat</th>\n",
       "      <th>area_type_Built-up  Area</th>\n",
       "      <th>...</th>\n",
       "      <th>size_27 BHK</th>\n",
       "      <th>size_3 BHK</th>\n",
       "      <th>size_4 BHK</th>\n",
       "      <th>size_43 BHK</th>\n",
       "      <th>size_5 BHK</th>\n",
       "      <th>size_6 BHK</th>\n",
       "      <th>size_7 BHK</th>\n",
       "      <th>size_8 BHK</th>\n",
       "      <th>size_9 BHK</th>\n",
       "      <th>size_Unknown</th>\n",
       "    </tr>\n",
       "  </thead>\n",
       "  <tbody>\n",
       "    <tr>\n",
       "      <th>0</th>\n",
       "      <td>0</td>\n",
       "      <td>unknown</td>\n",
       "      <td>650</td>\n",
       "      <td>1</td>\n",
       "      <td>1.0</td>\n",
       "      <td>4</td>\n",
       "      <td>6.7</td>\n",
       "      <td>15875.0</td>\n",
       "      <td>3</td>\n",
       "      <td>0.0</td>\n",
       "      <td>...</td>\n",
       "      <td>0.0</td>\n",
       "      <td>0.0</td>\n",
       "      <td>0.0</td>\n",
       "      <td>0.0</td>\n",
       "      <td>0.0</td>\n",
       "      <td>0.0</td>\n",
       "      <td>0.0</td>\n",
       "      <td>0.0</td>\n",
       "      <td>0.0</td>\n",
       "      <td>0.0</td>\n",
       "    </tr>\n",
       "    <tr>\n",
       "      <th>1</th>\n",
       "      <td>1</td>\n",
       "      <td>srncyre</td>\n",
       "      <td>1370</td>\n",
       "      <td>2</td>\n",
       "      <td>1.0</td>\n",
       "      <td>5</td>\n",
       "      <td>11.0</td>\n",
       "      <td>15727.0</td>\n",
       "      <td>4</td>\n",
       "      <td>0.0</td>\n",
       "      <td>...</td>\n",
       "      <td>0.0</td>\n",
       "      <td>1.0</td>\n",
       "      <td>0.0</td>\n",
       "      <td>0.0</td>\n",
       "      <td>0.0</td>\n",
       "      <td>0.0</td>\n",
       "      <td>0.0</td>\n",
       "      <td>0.0</td>\n",
       "      <td>0.0</td>\n",
       "      <td>0.0</td>\n",
       "    </tr>\n",
       "    <tr>\n",
       "      <th>2</th>\n",
       "      <td>2</td>\n",
       "      <td>ajhalna</td>\n",
       "      <td>1725</td>\n",
       "      <td>3</td>\n",
       "      <td>2.0</td>\n",
       "      <td>5</td>\n",
       "      <td>17.3</td>\n",
       "      <td>14981.0</td>\n",
       "      <td>5</td>\n",
       "      <td>0.0</td>\n",
       "      <td>...</td>\n",
       "      <td>0.0</td>\n",
       "      <td>1.0</td>\n",
       "      <td>0.0</td>\n",
       "      <td>0.0</td>\n",
       "      <td>0.0</td>\n",
       "      <td>0.0</td>\n",
       "      <td>0.0</td>\n",
       "      <td>0.0</td>\n",
       "      <td>0.0</td>\n",
       "      <td>0.0</td>\n",
       "    </tr>\n",
       "  </tbody>\n",
       "</table>\n",
       "<p>3 rows × 1227 columns</p>\n",
       "</div>"
      ],
      "text/plain": [
       "   ID  society  total_sqft  bath  balcony  total_sqft_category  \\\n",
       "0   0  unknown         650     1      1.0                    4   \n",
       "1   1  srncyre        1370     2      1.0                    5   \n",
       "2   2  ajhalna        1725     3      2.0                    5   \n",
       "\n",
       "   dist_from_city  avg_2bhk_rent  dist_from_city_cat  \\\n",
       "0             6.7        15875.0                   3   \n",
       "1            11.0        15727.0                   4   \n",
       "2            17.3        14981.0                   5   \n",
       "\n",
       "   area_type_Built-up  Area  ...  size_27 BHK  size_3 BHK  size_4 BHK  \\\n",
       "0                       0.0  ...          0.0         0.0         0.0   \n",
       "1                       0.0  ...          0.0         1.0         0.0   \n",
       "2                       0.0  ...          0.0         1.0         0.0   \n",
       "\n",
       "   size_43 BHK  size_5 BHK  size_6 BHK  size_7 BHK  size_8 BHK  size_9 BHK  \\\n",
       "0          0.0         0.0         0.0         0.0         0.0         0.0   \n",
       "1          0.0         0.0         0.0         0.0         0.0         0.0   \n",
       "2          0.0         0.0         0.0         0.0         0.0         0.0   \n",
       "\n",
       "   size_Unknown  \n",
       "0           0.0  \n",
       "1           0.0  \n",
       "2           0.0  \n",
       "\n",
       "[3 rows x 1227 columns]"
      ]
     },
     "execution_count": 44,
     "metadata": {},
     "output_type": "execute_result"
    }
   ],
   "source": [
    "processed_test_data.head(3)"
   ]
  },
  {
   "cell_type": "code",
   "execution_count": 45,
   "id": "0bb4881f-d9db-4812-a42b-c863fd801064",
   "metadata": {},
   "outputs": [
    {
     "data": {
      "application/javascript": [
       "\n",
       "        if (window._pyforest_update_imports_cell) { window._pyforest_update_imports_cell('from sklearn.preprocessing import LabelEncoder'); }\n",
       "    "
      ],
      "text/plain": [
       "<IPython.core.display.Javascript object>"
      ]
     },
     "metadata": {},
     "output_type": "display_data"
    }
   ],
   "source": []
  },
  {
   "cell_type": "markdown",
   "id": "8c0a879d-4a68-4a24-95b5-86e185c0ccbc",
   "metadata": {},
   "source": [
    "### Model Building"
   ]
  },
  {
   "cell_type": "code",
   "execution_count": null,
   "id": "bd072c1f-17c0-4a42-b553-6b0ac84e491b",
   "metadata": {},
   "outputs": [],
   "source": []
  },
  {
   "cell_type": "code",
   "execution_count": 47,
   "id": "fe3042d8-2f47-483d-828e-e39d7e91c94b",
   "metadata": {
    "scrolled": true
   },
   "outputs": [],
   "source": [
    "y = processed_train_data['price']\n",
    "X = processed_train_data.drop(['ID', 'price'], axis=1)"
   ]
  },
  {
   "cell_type": "code",
   "execution_count": null,
   "id": "bf9040e5-ff47-4284-baaf-bf8b24110803",
   "metadata": {},
   "outputs": [],
   "source": []
  },
  {
   "cell_type": "code",
   "execution_count": null,
   "id": "f83fabe0-2fca-4ae3-94a3-10fee3553e63",
   "metadata": {},
   "outputs": [],
   "source": []
  },
  {
   "cell_type": "code",
   "execution_count": null,
   "id": "83a1308d-2a47-4863-8360-4ef3030871d4",
   "metadata": {},
   "outputs": [],
   "source": []
  },
  {
   "cell_type": "code",
   "execution_count": null,
   "id": "07ae33fd-84cc-4582-857c-6186ee0785fb",
   "metadata": {},
   "outputs": [],
   "source": []
  },
  {
   "cell_type": "code",
   "execution_count": null,
   "id": "cb24c005-2191-46ea-8544-00295a4efeb4",
   "metadata": {},
   "outputs": [],
   "source": []
  },
  {
   "cell_type": "code",
   "execution_count": null,
   "id": "e638e6d1-5a7c-45d6-9885-4de6ccade660",
   "metadata": {},
   "outputs": [],
   "source": []
  },
  {
   "cell_type": "code",
   "execution_count": null,
   "id": "fb395ed0-e172-4baa-aef1-337ac582a88e",
   "metadata": {},
   "outputs": [],
   "source": []
  },
  {
   "cell_type": "markdown",
   "id": "3857f4bd-4f44-4ee3-98b9-e81bc47bd2ef",
   "metadata": {},
   "source": [
    "### Model Validation and tuning"
   ]
  },
  {
   "cell_type": "code",
   "execution_count": 49,
   "id": "a1360aef-eaa1-4645-b032-d2a8e75401e1",
   "metadata": {},
   "outputs": [],
   "source": [
    "from sklearn.model_selection import train_test_split\n",
    "\n",
    "# Split data into training and temporary sets (70% train, 30% temp)\n",
    "X_train, X_temp, y_train, y_temp = train_test_split(X, y, test_size=0.3, random_state=42)\n",
    "\n",
    "# Further split the temporary set into validation (20%) and test sets (80%)\n",
    "X_val, X_test, y_val, y_test = train_test_split(X_temp, y_temp, test_size=0.8, random_state=42)"
   ]
  },
  {
   "cell_type": "code",
   "execution_count": 50,
   "id": "5b525891-110d-464e-b784-1dd51be1b1d5",
   "metadata": {},
   "outputs": [
    {
     "data": {
      "application/javascript": [
       "\n",
       "        if (window._pyforest_update_imports_cell) { window._pyforest_update_imports_cell('from sklearn.preprocessing import LabelEncoder\\nfrom sklearn.linear_model import LinearRegression'); }\n",
       "    "
      ],
      "text/plain": [
       "<IPython.core.display.Javascript object>"
      ]
     },
     "metadata": {},
     "output_type": "display_data"
    }
   ],
   "source": [
    "param_grid = {'fit_intercept': [True, False]}\n",
    "\n",
    "# Create a linear regression model object\n",
    "model = LinearRegression()\n",
    "\n",
    "# Create a GridSearchCV object for hyperparameter tuning\n",
    "grid_search = GridSearchCV(estimator=model, param_grid=param_grid, cv=5, scoring='neg_mean_squared_error')\n",
    "\n",
    "# Fit the GridSearchCV object to the training data\n",
    "grid_search.fit(X_train, y_train)\n",
    "\n",
    "# Get the best hyperparameters\n",
    "best_params = grid_search.best_params_\n",
    "\n",
    "# Get the best model\n",
    "best_model = grid_search.best_estimator_"
   ]
  },
  {
   "cell_type": "code",
   "execution_count": 51,
   "id": "e09e25ff-f491-4da0-ab7a-fa5404a7f733",
   "metadata": {},
   "outputs": [
    {
     "name": "stdout",
     "output_type": "stream",
     "text": [
      "Validation MSE: 99597829691949.73\n",
      "Validation RMSE: 9979871.226220794\n",
      "Validation MAE: 673967.7717964548\n",
      "Validation R-squared: -6172044432.552353\n"
     ]
    }
   ],
   "source": [
    "# Evaluate the best model on the validation set\n",
    "y_pred_val = best_model.predict(X_val)\n",
    "mse_val = mean_squared_error(y_val, y_pred_val)\n",
    "rmse_val = np.sqrt(mse_val)\n",
    "mae_val = mean_absolute_error(y_val, y_pred_val)\n",
    "r2_val = r2_score(y_val, y_pred_val)\n",
    "\n",
    "# Print validation set performance metrics\n",
    "print(f\"Validation MSE: {mse_val}\")\n",
    "print(f\"Validation RMSE: {rmse_val}\")\n",
    "print(f\"Validation MAE: {mae_val}\")\n",
    "print(f\"Validation R-squared: {r2_val}\")"
   ]
  },
  {
   "cell_type": "code",
   "execution_count": 52,
   "id": "c8ef81d2-8e83-4e2a-adee-553802247a77",
   "metadata": {},
   "outputs": [
    {
     "name": "stdout",
     "output_type": "stream",
     "text": [
      "Test MSE: 72554769920318.22\n",
      "Test RMSE: 8517908.776238345\n",
      "Test MAE: 450523.1667061683\n",
      "Test R-squared: -3840364405.072635\n"
     ]
    }
   ],
   "source": [
    "# Evaluate the best model on the unseen test set\n",
    "y_pred_test = best_model.predict(X_test)\n",
    "mse_test = mean_squared_error(y_test, y_pred_test)\n",
    "rmse_test = np.sqrt(mse_test)\n",
    "mae_test = mean_absolute_error(y_test, y_pred_test)\n",
    "r2_test = r2_score(y_test, y_pred_test)\n",
    "\n",
    "# Print test set performance metrics\n",
    "print(f\"Test MSE: {mse_test}\")\n",
    "print(f\"Test RMSE: {rmse_test}\")\n",
    "print(f\"Test MAE: {mae_test}\")\n",
    "print(f\"Test R-squared: {r2_test}\")"
   ]
  },
  {
   "cell_type": "code",
   "execution_count": null,
   "id": "21093f1a-735d-4a52-820c-c480593e8ff0",
   "metadata": {},
   "outputs": [],
   "source": []
  },
  {
   "cell_type": "code",
   "execution_count": 53,
   "id": "4a5b5099-a8e7-4c91-81f3-253c57dce28d",
   "metadata": {},
   "outputs": [
    {
     "data": {
      "application/javascript": [
       "\n",
       "        if (window._pyforest_update_imports_cell) { window._pyforest_update_imports_cell('from sklearn.preprocessing import LabelEncoder\\nfrom sklearn.linear_model import LinearRegression'); }\n",
       "    "
      ],
      "text/plain": [
       "<IPython.core.display.Javascript object>"
      ]
     },
     "metadata": {},
     "output_type": "display_data"
    }
   ],
   "source": [
    "# Extract features from test data (no target column)\n",
    "X_test = processed_test_data.drop(['ID'], axis=1)\n",
    "\n",
    "# Create and fit the model\n",
    "model = LinearRegression()\n",
    "model.fit(X_train, y_train)\n",
    "\n",
    "# Make predictions on the test data\n",
    "y_pred = model.predict(X_test)\n",
    "\n",
    "# Save the predictions (you can save this to a file)\n",
    "predictions_df = pd.DataFrame({'Predicted_Value': y_pred}) \n",
    "predictions_df.to_csv(\"predictions.csv\", index=False) "
   ]
  },
  {
   "cell_type": "code",
   "execution_count": null,
   "id": "c3cef8b8-94ae-47eb-83b3-6dc26d5f55ef",
   "metadata": {},
   "outputs": [],
   "source": []
  },
  {
   "cell_type": "code",
   "execution_count": null,
   "id": "0b9e61a0-89c1-4fdc-af0c-4d80da286176",
   "metadata": {},
   "outputs": [],
   "source": []
  },
  {
   "cell_type": "code",
   "execution_count": null,
   "id": "a757a49d-ced5-4748-bced-245c0c3f4616",
   "metadata": {},
   "outputs": [],
   "source": []
  },
  {
   "cell_type": "code",
   "execution_count": null,
   "id": "c95561e7-cdd6-43ab-acbe-a8d2e15ffea0",
   "metadata": {},
   "outputs": [],
   "source": []
  },
  {
   "cell_type": "code",
   "execution_count": null,
   "id": "215fe8f0-0d85-4fdf-9ecc-68bfbbf0f33c",
   "metadata": {},
   "outputs": [],
   "source": []
  },
  {
   "cell_type": "code",
   "execution_count": null,
   "id": "25274d2d-9a07-4448-8f8c-05e0e904b247",
   "metadata": {},
   "outputs": [],
   "source": []
  },
  {
   "cell_type": "code",
   "execution_count": null,
   "id": "4c78bf0e-c779-4462-ac2d-c1640aaca0d0",
   "metadata": {},
   "outputs": [],
   "source": []
  },
  {
   "cell_type": "code",
   "execution_count": 54,
   "id": "f0d0d271-09b4-4dd6-b012-d8156d4e889c",
   "metadata": {},
   "outputs": [
    {
     "data": {
      "text/plain": [
       "'test2'"
      ]
     },
     "execution_count": 54,
     "metadata": {},
     "output_type": "execute_result"
    }
   ],
   "source": [
    "'test2'"
   ]
  },
  {
   "cell_type": "code",
   "execution_count": null,
   "id": "6043bfcd-5071-49ad-a1f1-a7b1de6f4b9c",
   "metadata": {},
   "outputs": [],
   "source": []
  },
  {
   "cell_type": "code",
   "execution_count": null,
   "id": "49f25cb9-2cdf-4d35-a0e6-0b8f50ca14bf",
   "metadata": {},
   "outputs": [],
   "source": []
  },
  {
   "cell_type": "code",
   "execution_count": null,
   "id": "f5697a07-bbb2-4ac6-861b-ae3d61970f21",
   "metadata": {},
   "outputs": [],
   "source": []
  },
  {
   "cell_type": "code",
   "execution_count": null,
   "id": "6769cf47-bd7a-4268-9b28-0c0d114a1190",
   "metadata": {},
   "outputs": [],
   "source": []
  }
 ],
 "metadata": {
  "kernelspec": {
   "display_name": "Python 3 (ipykernel)",
   "language": "python",
   "name": "python3"
  },
  "language_info": {
   "codemirror_mode": {
    "name": "ipython",
    "version": 3
   },
   "file_extension": ".py",
   "mimetype": "text/x-python",
   "name": "python",
   "nbconvert_exporter": "python",
   "pygments_lexer": "ipython3",
   "version": "3.12.4"
  }
 },
 "nbformat": 4,
 "nbformat_minor": 5
}
