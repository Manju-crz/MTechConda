{
 "cells": [
  {
   "cell_type": "markdown",
   "id": "27df0411-a0dc-4b4e-86a2-d379a8d50363",
   "metadata": {},
   "source": [
    "### Step 1: Import Required Libraries"
   ]
  },
  {
   "cell_type": "code",
   "execution_count": null,
   "id": "a67e8641-8119-4daf-9190-90c0f7d473f5",
   "metadata": {},
   "outputs": [],
   "source": [
    "import pandas as pd\n",
    "import numpy as np\n",
    "from sklearn.model_selection import train_test_split, GridSearchCV\n",
    "from sklearn.ensemble import RandomForestRegressor\n",
    "from sklearn.metrics import mean_squared_error\n",
    "from sklearn.preprocessing import StandardScaler\n",
    "import joblib"
   ]
  },
  {
   "cell_type": "code",
   "execution_count": null,
   "id": "9747c28e-d148-4db6-9468-c0415d76b70c",
   "metadata": {},
   "outputs": [],
   "source": []
  },
  {
   "cell_type": "markdown",
   "id": "a786432f-fd8d-40ad-9de5-b9fdd104e5bf",
   "metadata": {},
   "source": [
    "### Step 2: Load and Explore Datasets"
   ]
  },
  {
   "cell_type": "code",
   "execution_count": null,
   "id": "924a91e0-f95d-4a26-aa7e-6bb93d6748f8",
   "metadata": {},
   "outputs": [],
   "source": [
    "# Load training and test datasets\n",
    "trained_data = pd.read_excel('/mnt/data/Processed2.xlsx')\n",
    "test_data = pd.read_csv('/path/to/test.csv')  # Replace with the actual path\n",
    "dist_data = pd.read_csv('/mnt/data/dist_from_city_centre.csv')\n",
    "rent_data = pd.read_csv('/mnt/data/avg_rent.csv')\n",
    "\n",
    "# Preview datasets\n",
    "print(trained_data.head())\n",
    "print(test_data.head())\n",
    "print(dist_data.head())\n",
    "print(rent_data.head())\n",
    "\n",
    "# Merge secondary datasets with training data\n",
    "train_data = trained_data.merge(dist_data, on='property_id', how='left')\n",
    "train_data = train_data.merge(rent_data, on='property_id', how='left')\n",
    "\n",
    "# Merge secondary datasets with test data\n",
    "test_data = test_data.merge(dist_data, on='property_id', how='left')\n",
    "test_data = test_data.merge(rent_data, on='property_id', how='left')\n"
   ]
  },
  {
   "cell_type": "code",
   "execution_count": null,
   "id": "a10256d7-5496-422c-a816-5e1056fcf39a",
   "metadata": {},
   "outputs": [],
   "source": []
  },
  {
   "cell_type": "markdown",
   "id": "fc39f083-caa1-432a-bb61-6e985335f5d9",
   "metadata": {},
   "source": [
    "### Step 3: Data Preprocessing"
   ]
  },
  {
   "cell_type": "code",
   "execution_count": null,
   "id": "70078698-f5f3-41cf-b55b-2d9fb587d752",
   "metadata": {},
   "outputs": [],
   "source": [
    "# Preprocess training data\n",
    "train_data.fillna(train_data.mean(), inplace=True)\n",
    "train_data['price_per_sqft'] = train_data['Price'] / train_data['Area']\n",
    "train_data['rent_to_price_ratio'] = train_data['Average_Rent'] / train_data['Price']\n",
    "train_data.drop(columns=['property_id'], inplace=True)\n",
    "\n",
    "# Separate features and target in training data\n",
    "X_train = train_data.drop(columns=['Price'])\n",
    "y_train = train_data['Price']\n",
    "\n",
    "# Preprocess test data\n",
    "test_data.fillna(test_data.mean(), inplace=True)\n",
    "test_data['price_per_sqft'] = test_data['Price'] / test_data['Area']\n",
    "test_data['rent_to_price_ratio'] = test_data['Average_Rent'] / test_data['Price']\n",
    "test_ids = test_data['property_id']  # Save property IDs if needed for submission\n",
    "X_test = test_data.drop(columns=['Price', 'property_id'])\n",
    "y_test = test_data['Price']\n",
    "\n",
    "# Encode categorical variables for both training and test data\n",
    "X_train = pd.get_dummies(X_train, drop_first=True)\n",
    "X_test = pd.get_dummies(X_test, drop_first=True)\n",
    "\n",
    "# Align columns in training and test data\n",
    "X_test = X_test.reindex(columns=X_train.columns, fill_value=0)\n",
    "\n",
    "# Scale features\n",
    "scaler = StandardScaler()\n",
    "X_train_scaled = scaler.fit_transform(X_train)\n",
    "X_test_scaled = scaler.transform(X_test)\n"
   ]
  },
  {
   "cell_type": "code",
   "execution_count": null,
   "id": "944fb2a1-9805-4716-b1c9-edc45aff6311",
   "metadata": {},
   "outputs": [],
   "source": []
  },
  {
   "cell_type": "markdown",
   "id": "0e170172-50fe-4578-8bb5-b47e67a5510e",
   "metadata": {},
   "source": [
    "### Step 4: Model Selection"
   ]
  },
  {
   "cell_type": "code",
   "execution_count": null,
   "id": "0d31b2be-58df-410a-9e53-9eb9eb1f656f",
   "metadata": {},
   "outputs": [],
   "source": [
    "# Instantiate and train a Random Forest Regressor\n",
    "rf_model = RandomForestRegressor(random_state=42)\n",
    "rf_model.fit(X_train_scaled, y_train)\n"
   ]
  },
  {
   "cell_type": "code",
   "execution_count": null,
   "id": "06bec3e4-e181-41b3-ac59-8d10be7b6806",
   "metadata": {},
   "outputs": [],
   "source": []
  },
  {
   "cell_type": "markdown",
   "id": "e8103bf1-b34a-4866-9630-51a80928b0b6",
   "metadata": {},
   "source": [
    "### Step 5: Evaluate the Model"
   ]
  },
  {
   "cell_type": "code",
   "execution_count": null,
   "id": "d204616d-a0af-4c9c-be3a-0730e2666fc7",
   "metadata": {},
   "outputs": [],
   "source": [
    "# Predict on test data\n",
    "y_pred = rf_model.predict(X_test_scaled)\n",
    "\n",
    "# Calculate RMSE\n",
    "rmse = np.sqrt(mean_squared_error(y_test, y_pred))\n",
    "print(f\"RMSE on test data: {rmse}\")\n"
   ]
  },
  {
   "cell_type": "code",
   "execution_count": null,
   "id": "817907b3-2c62-40fa-9c3b-c9363adaf54b",
   "metadata": {},
   "outputs": [],
   "source": []
  },
  {
   "cell_type": "markdown",
   "id": "d8593ed8-70e2-45fc-b53f-fb552624ee5f",
   "metadata": {},
   "source": [
    "### Step 6: Hyperparameter Tuning"
   ]
  },
  {
   "cell_type": "code",
   "execution_count": null,
   "id": "25f495da-06d5-4d4b-81e0-0d45624f3919",
   "metadata": {},
   "outputs": [],
   "source": [
    "# Define parameter grid for Random Forest\n",
    "param_grid = {\n",
    "    'n_estimators': [100, 200, 300],\n",
    "    'max_depth': [10, 20, None],\n",
    "    'min_samples_split': [2, 5, 10]\n",
    "}\n",
    "\n",
    "# Use GridSearchCV to find the best parameters\n",
    "grid_search = GridSearchCV(estimator=rf_model, param_grid=param_grid, cv=5, scoring='neg_mean_squared_error', verbose=2)\n",
    "grid_search.fit(X_train, y_train)\n",
    "\n",
    "# Best model\n",
    "best_model = grid_search.best_estimator_\n",
    "\n",
    "# Evaluate best model\n",
    "y_pred_best = best_model.predict(X_test)\n",
    "rmse_best = np.sqrt(mean_squared_error(y_test, y_pred_best))\n",
    "print(f\"Optimized RMSE: {rmse_best}\")\n"
   ]
  },
  {
   "cell_type": "code",
   "execution_count": null,
   "id": "25ec1c86-6d26-47eb-9d52-27be5f84e66c",
   "metadata": {},
   "outputs": [],
   "source": []
  },
  {
   "cell_type": "markdown",
   "id": "d0f41db6-c3fe-4b3e-b769-d1750aa6adec",
   "metadata": {},
   "source": [
    "### Step 7: Save the Model"
   ]
  },
  {
   "cell_type": "code",
   "execution_count": null,
   "id": "aba5562f-7c8e-436b-a27c-a0be7991cd9d",
   "metadata": {},
   "outputs": [],
   "source": [
    "# Save the best model\n",
    "joblib.dump(best_model, 'house_price_model.pkl')\n",
    "\n",
    "# Save the scaler for deployment\n",
    "joblib.dump(scaler, 'scaler.pkl')\n"
   ]
  },
  {
   "cell_type": "code",
   "execution_count": null,
   "id": "2e872d96-2b8f-4313-8411-79424cffc59d",
   "metadata": {},
   "outputs": [],
   "source": []
  },
  {
   "cell_type": "code",
   "execution_count": null,
   "id": "563b3f5e-c8a8-4cd2-a0f8-0ff7564685d9",
   "metadata": {},
   "outputs": [],
   "source": [
    "### Step 8: Load and Use the Model for Predictions"
   ]
  },
  {
   "cell_type": "code",
   "execution_count": null,
   "id": "20f8f8bf-f225-4c5f-ad09-ebfe8696d331",
   "metadata": {},
   "outputs": [],
   "source": [
    "# Load the model and scaler\n",
    "loaded_model = joblib.load('house_price_model.pkl')\n",
    "loaded_scaler = joblib.load('scaler.pkl')\n",
    "\n",
    "# Predict for a new dataset\n",
    "new_data = pd.DataFrame({\n",
    "    'Area': [1200],\n",
    "    'Bedrooms': [3],\n",
    "    'Distance_from_City_Center': [5],\n",
    "    'Average_Rent': [1500]\n",
    "})\n",
    "\n",
    "# Preprocess the new data\n",
    "new_data_scaled = loaded_scaler.transform(new_data)\n",
    "predicted_price = loaded_model.predict(new_data_scaled)\n",
    "print(f\"Predicted House Price: {predicted_price[0]}\")\n"
   ]
  },
  {
   "cell_type": "code",
   "execution_count": null,
   "id": "e8aa223b-2c8b-4e00-8d03-55f960038634",
   "metadata": {},
   "outputs": [],
   "source": []
  },
  {
   "cell_type": "code",
   "execution_count": null,
   "id": "83225ea8-8d95-40cc-abb1-91bfafbab7b2",
   "metadata": {},
   "outputs": [],
   "source": []
  }
 ],
 "metadata": {
  "kernelspec": {
   "display_name": "Python 3 (ipykernel)",
   "language": "python",
   "name": "python3"
  },
  "language_info": {
   "codemirror_mode": {
    "name": "ipython",
    "version": 3
   },
   "file_extension": ".py",
   "mimetype": "text/x-python",
   "name": "python",
   "nbconvert_exporter": "python",
   "pygments_lexer": "ipython3",
   "version": "3.12.4"
  }
 },
 "nbformat": 4,
 "nbformat_minor": 5
}
