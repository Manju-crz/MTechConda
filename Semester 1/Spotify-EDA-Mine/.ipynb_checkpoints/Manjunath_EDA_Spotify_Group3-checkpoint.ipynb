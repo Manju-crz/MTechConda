{
 "cells": [
  {
   "cell_type": "markdown",
   "id": "4ff520b6-86d7-40cd-9f7b-8ed9da8a3d13",
   "metadata": {},
   "source": [
    "# 1. Select Dataset"
   ]
  },
  {
   "cell_type": "markdown",
   "id": "9c8bf774-ff29-40af-a027-298c0c2502a0",
   "metadata": {},
   "source": [
    "###### Selected the dataset Most Streamed Soptify Songs of 2024, and the set is available to download from the below link:\n",
    "###### https://www.kaggle.com/datasets/nelgiriyewithana/most-streamed-spotify-songs-2024\n",
    "###### Ensured the dataset is sufficiently large and has a variety of features (columns) to analyze.\n",
    "###### It totally has 4600 rows and 29 columns"
   ]
  },
  {
   "cell_type": "markdown",
   "id": "f077d5b6-64f7-4c07-b1dc-78a39a5252f1",
   "metadata": {},
   "source": [
    "# 2. Project Setup"
   ]
  },
  {
   "cell_type": "markdown",
   "id": "a1653b55-dfd8-4769-972f-8871a5054e57",
   "metadata": {},
   "source": [
    "###### Created a directory \"Spotify-EDA\", and havign all the required files within it only!\n",
    "###### Used a Jupyter Notebook for my analysis, and the named the notebook file \"EDA_Spotify_Group3.ipynb\", which is being referred currently\n",
    "###### Also having a ReadME.md file inside the directory \"Spotify-EDA\""
   ]
  },
  {
   "cell_type": "markdown",
   "id": "580e1942-237b-4c81-8db4-fc1b63d7d388",
   "metadata": {},
   "source": [
    "# 3. Data Import and Cleaning"
   ]
  },
  {
   "cell_type": "markdown",
   "id": "b88f8da1-d482-4d3a-b58c-8982ca336011",
   "metadata": {},
   "source": [
    "#### i. Import the necessary libraries:"
   ]
  },
  {
   "cell_type": "code",
   "execution_count": 4,
   "id": "989d500e-e1ea-408c-b525-62273176820e",
   "metadata": {},
   "outputs": [
    {
     "data": {
      "text/html": [
       "        <script type=\"text/javascript\">\n",
       "        window.PlotlyConfig = {MathJaxConfig: 'local'};\n",
       "        if (window.MathJax && window.MathJax.Hub && window.MathJax.Hub.Config) {window.MathJax.Hub.Config({SVG: {font: \"STIX-Web\"}});}\n",
       "        if (typeof require !== 'undefined') {\n",
       "        require.undef(\"plotly\");\n",
       "        requirejs.config({\n",
       "            paths: {\n",
       "                'plotly': ['https://cdn.plot.ly/plotly-2.32.0.min']\n",
       "            }\n",
       "        });\n",
       "        require(['plotly'], function(Plotly) {\n",
       "            window._Plotly = Plotly;\n",
       "        });\n",
       "        }\n",
       "        </script>\n",
       "        "
      ]
     },
     "metadata": {},
     "output_type": "display_data"
    }
   ],
   "source": [
    "# Importing necessary libraries:\n",
    "import pandas as pd  # For data manipulation and analysis\n",
    "import numpy as np  # For numerical operations and array handling\n",
    "import matplotlib.pyplot as plt  # For creating static, animated, and interactive visualizations\n",
    "import seaborn as sns  # For statistical data visualization based on matplotlib\n",
    "import plotly  # Plotly to connect to the Plotly CDN for additional resources if needed.\n",
    "plotly.offline.init_notebook_mode(connected = True)"
   ]
  },
  {
   "cell_type": "markdown",
   "id": "de2e579d-b64c-4aa9-bcba-578b29a5f443",
   "metadata": {},
   "source": [
    "#### ii. Load the dataset into the pandas data frame"
   ]
  },
  {
   "cell_type": "code",
   "execution_count": 6,
   "id": "86881ca8-3392-428e-95d1-cea07f5dbf9c",
   "metadata": {},
   "outputs": [
    {
     "name": "stdout",
     "output_type": "stream",
     "text": [
      "Current folder path: C:\\Users\\manju\\Documents\\Spotify-EDA\n"
     ]
    }
   ],
   "source": [
    "# Import the os module for interacting with the operating system\n",
    "import os\n",
    "# Get the current working directory and store it in a variable\n",
    "current_folder_path = os.getcwd()\n",
    "print(\"Current folder path:\", current_folder_path)"
   ]
  },
  {
   "cell_type": "code",
   "execution_count": 10,
   "id": "7044b51c-2c1b-4f4f-bc6c-24e222d6d617",
   "metadata": {},
   "outputs": [
    {
     "name": "stdout",
     "output_type": "stream",
     "text": [
      "Full file path: C:\\Users\\manju\\Documents\\Spotify-EDA\\Most Streamed Spotify Songs 2024.csv\n"
     ]
    }
   ],
   "source": [
    "# Define the name of the file to be used\n",
    "file_name = \"Most Streamed Spotify Songs 2024.csv\"\n",
    "# Create the full file path by joining the current folder path with the file name\n",
    "full_file_path = os.path.join(current_folder_path, file_name)\n",
    "print(\"Full file path:\", full_file_path)"
   ]
  },
  {
   "cell_type": "code",
   "execution_count": 12,
   "id": "87e12526-b966-4629-aac0-45e64d956aa2",
   "metadata": {},
   "outputs": [
    {
     "name": "stdout",
     "output_type": "stream",
     "text": [
      "Spotify data frame information:\n",
      "<class 'pandas.core.frame.DataFrame'>\n",
      "RangeIndex: 4600 entries, 0 to 4599\n",
      "Data columns (total 29 columns):\n",
      " #   Column                      Non-Null Count  Dtype  \n",
      "---  ------                      --------------  -----  \n",
      " 0   Track                       4600 non-null   object \n",
      " 1   Album Name                  4600 non-null   object \n",
      " 2   Artist                      4595 non-null   object \n",
      " 3   Release Date                4600 non-null   object \n",
      " 4   ISRC                        4600 non-null   object \n",
      " 5   All Time Rank               4600 non-null   object \n",
      " 6   Track Score                 4600 non-null   float64\n",
      " 7   Spotify Streams             4487 non-null   object \n",
      " 8   Spotify Playlist Count      4530 non-null   object \n",
      " 9   Spotify Playlist Reach      4528 non-null   object \n",
      " 10  Spotify Popularity          3796 non-null   float64\n",
      " 11  YouTube Views               4292 non-null   object \n",
      " 12  YouTube Likes               4285 non-null   object \n",
      " 13  TikTok Posts                3427 non-null   object \n",
      " 14  TikTok Likes                3620 non-null   object \n",
      " 15  TikTok Views                3619 non-null   object \n",
      " 16  YouTube Playlist Reach      3591 non-null   object \n",
      " 17  Apple Music Playlist Count  4039 non-null   float64\n",
      " 18  AirPlay Spins               4102 non-null   object \n",
      " 19  SiriusXM Spins              2477 non-null   object \n",
      " 20  Deezer Playlist Count       3679 non-null   float64\n",
      " 21  Deezer Playlist Reach       3672 non-null   object \n",
      " 22  Amazon Playlist Count       3545 non-null   float64\n",
      " 23  Pandora Streams             3494 non-null   object \n",
      " 24  Pandora Track Stations      3332 non-null   object \n",
      " 25  Soundcloud Streams          1267 non-null   object \n",
      " 26  Shazam Counts               4023 non-null   object \n",
      " 27  TIDAL Popularity            0 non-null      float64\n",
      " 28  Explicit Track              4600 non-null   int64  \n",
      "dtypes: float64(6), int64(1), object(22)\n",
      "memory usage: 1.0+ MB\n"
     ]
    }
   ],
   "source": [
    "# Read the CSV file from the specified path into a pandas DataFrame\n",
    "spotify_data = pd.read_csv(full_file_path, encoding='ISO-8859-1')\n",
    "print(\"Spotify data frame information:\")\n",
    "spotify_data.info()"
   ]
  },
  {
   "cell_type": "markdown",
   "id": "2e30634d-b25a-4a5b-82a0-5d8fbcc430db",
   "metadata": {},
   "source": [
    "#### iii. Perform initial data inspection:"
   ]
  },
  {
   "cell_type": "code",
   "execution_count": 14,
   "id": "60b23c9f-2a9d-4a85-b0ff-5f2b731bf5bd",
   "metadata": {},
   "outputs": [
    {
     "name": "stdout",
     "output_type": "stream",
     "text": [
      "Spotify data shape is:\n"
     ]
    },
    {
     "data": {
      "text/plain": [
       "(4600, 29)"
      ]
     },
     "execution_count": 14,
     "metadata": {},
     "output_type": "execute_result"
    }
   ],
   "source": [
    "# shape of the data\n",
    "data_shape = spotify_data.shape\n",
    "print(\"Spotify data shape is:\")\n",
    "data_shape"
   ]
  },
  {
   "cell_type": "code",
   "execution_count": 16,
   "id": "048a2b26-258b-40ad-a031-43342776edbc",
   "metadata": {},
   "outputs": [
    {
     "name": "stdout",
     "output_type": "stream",
     "text": [
      "Spotify data_types:\n"
     ]
    },
    {
     "data": {
      "text/plain": [
       "Track                          object\n",
       "Album Name                     object\n",
       "Artist                         object\n",
       "Release Date                   object\n",
       "ISRC                           object\n",
       "All Time Rank                  object\n",
       "Track Score                   float64\n",
       "Spotify Streams                object\n",
       "Spotify Playlist Count         object\n",
       "Spotify Playlist Reach         object\n",
       "Spotify Popularity            float64\n",
       "YouTube Views                  object\n",
       "YouTube Likes                  object\n",
       "TikTok Posts                   object\n",
       "TikTok Likes                   object\n",
       "TikTok Views                   object\n",
       "YouTube Playlist Reach         object\n",
       "Apple Music Playlist Count    float64\n",
       "AirPlay Spins                  object\n",
       "SiriusXM Spins                 object\n",
       "Deezer Playlist Count         float64\n",
       "Deezer Playlist Reach          object\n",
       "Amazon Playlist Count         float64\n",
       "Pandora Streams                object\n",
       "Pandora Track Stations         object\n",
       "Soundcloud Streams             object\n",
       "Shazam Counts                  object\n",
       "TIDAL Popularity              float64\n",
       "Explicit Track                  int64\n",
       "dtype: object"
      ]
     },
     "execution_count": 16,
     "metadata": {},
     "output_type": "execute_result"
    }
   ],
   "source": [
    "# Check the data types\n",
    "data_types = spotify_data.dtypes\n",
    "print(\"Spotify data_types:\")\n",
    "data_types"
   ]
  },
  {
   "cell_type": "code",
   "execution_count": 28,
   "id": "6a911615-7252-40ba-8e7a-70755e10ebc7",
   "metadata": {},
   "outputs": [
    {
     "name": "stdout",
     "output_type": "stream",
     "text": [
      "Numeric columns' statistics:\n",
      "\n"
     ]
    },
    {
     "data": {
      "text/html": [
       "<div>\n",
       "<style scoped>\n",
       "    .dataframe tbody tr th:only-of-type {\n",
       "        vertical-align: middle;\n",
       "    }\n",
       "\n",
       "    .dataframe tbody tr th {\n",
       "        vertical-align: top;\n",
       "    }\n",
       "\n",
       "    .dataframe thead th {\n",
       "        text-align: right;\n",
       "    }\n",
       "</style>\n",
       "<table border=\"1\" class=\"dataframe\">\n",
       "  <thead>\n",
       "    <tr style=\"text-align: right;\">\n",
       "      <th></th>\n",
       "      <th>Track Score</th>\n",
       "      <th>Spotify Popularity</th>\n",
       "      <th>Apple Music Playlist Count</th>\n",
       "      <th>Deezer Playlist Count</th>\n",
       "      <th>Amazon Playlist Count</th>\n",
       "      <th>TIDAL Popularity</th>\n",
       "      <th>Explicit Track</th>\n",
       "    </tr>\n",
       "  </thead>\n",
       "  <tbody>\n",
       "    <tr>\n",
       "      <th>count</th>\n",
       "      <td>4600.000000</td>\n",
       "      <td>3796.000000</td>\n",
       "      <td>4039.00000</td>\n",
       "      <td>3679.000000</td>\n",
       "      <td>3545.000000</td>\n",
       "      <td>0.0</td>\n",
       "      <td>4600.000000</td>\n",
       "    </tr>\n",
       "    <tr>\n",
       "      <th>mean</th>\n",
       "      <td>41.844043</td>\n",
       "      <td>63.501581</td>\n",
       "      <td>54.60312</td>\n",
       "      <td>32.310954</td>\n",
       "      <td>25.348942</td>\n",
       "      <td>NaN</td>\n",
       "      <td>0.358913</td>\n",
       "    </tr>\n",
       "    <tr>\n",
       "      <th>std</th>\n",
       "      <td>38.543766</td>\n",
       "      <td>16.186438</td>\n",
       "      <td>71.61227</td>\n",
       "      <td>54.274538</td>\n",
       "      <td>25.989826</td>\n",
       "      <td>NaN</td>\n",
       "      <td>0.479734</td>\n",
       "    </tr>\n",
       "    <tr>\n",
       "      <th>min</th>\n",
       "      <td>19.400000</td>\n",
       "      <td>1.000000</td>\n",
       "      <td>1.00000</td>\n",
       "      <td>1.000000</td>\n",
       "      <td>1.000000</td>\n",
       "      <td>NaN</td>\n",
       "      <td>0.000000</td>\n",
       "    </tr>\n",
       "    <tr>\n",
       "      <th>25%</th>\n",
       "      <td>23.300000</td>\n",
       "      <td>61.000000</td>\n",
       "      <td>10.00000</td>\n",
       "      <td>5.000000</td>\n",
       "      <td>8.000000</td>\n",
       "      <td>NaN</td>\n",
       "      <td>0.000000</td>\n",
       "    </tr>\n",
       "    <tr>\n",
       "      <th>50%</th>\n",
       "      <td>29.900000</td>\n",
       "      <td>67.000000</td>\n",
       "      <td>28.00000</td>\n",
       "      <td>15.000000</td>\n",
       "      <td>17.000000</td>\n",
       "      <td>NaN</td>\n",
       "      <td>0.000000</td>\n",
       "    </tr>\n",
       "    <tr>\n",
       "      <th>75%</th>\n",
       "      <td>44.425000</td>\n",
       "      <td>73.000000</td>\n",
       "      <td>70.00000</td>\n",
       "      <td>37.000000</td>\n",
       "      <td>34.000000</td>\n",
       "      <td>NaN</td>\n",
       "      <td>1.000000</td>\n",
       "    </tr>\n",
       "    <tr>\n",
       "      <th>max</th>\n",
       "      <td>725.400000</td>\n",
       "      <td>96.000000</td>\n",
       "      <td>859.00000</td>\n",
       "      <td>632.000000</td>\n",
       "      <td>210.000000</td>\n",
       "      <td>NaN</td>\n",
       "      <td>1.000000</td>\n",
       "    </tr>\n",
       "  </tbody>\n",
       "</table>\n",
       "</div>"
      ],
      "text/plain": [
       "       Track Score  Spotify Popularity  Apple Music Playlist Count  \\\n",
       "count  4600.000000         3796.000000                  4039.00000   \n",
       "mean     41.844043           63.501581                    54.60312   \n",
       "std      38.543766           16.186438                    71.61227   \n",
       "min      19.400000            1.000000                     1.00000   \n",
       "25%      23.300000           61.000000                    10.00000   \n",
       "50%      29.900000           67.000000                    28.00000   \n",
       "75%      44.425000           73.000000                    70.00000   \n",
       "max     725.400000           96.000000                   859.00000   \n",
       "\n",
       "       Deezer Playlist Count  Amazon Playlist Count  TIDAL Popularity  \\\n",
       "count            3679.000000            3545.000000               0.0   \n",
       "mean               32.310954              25.348942               NaN   \n",
       "std                54.274538              25.989826               NaN   \n",
       "min                 1.000000               1.000000               NaN   \n",
       "25%                 5.000000               8.000000               NaN   \n",
       "50%                15.000000              17.000000               NaN   \n",
       "75%                37.000000              34.000000               NaN   \n",
       "max               632.000000             210.000000               NaN   \n",
       "\n",
       "       Explicit Track  \n",
       "count     4600.000000  \n",
       "mean         0.358913  \n",
       "std          0.479734  \n",
       "min          0.000000  \n",
       "25%          0.000000  \n",
       "50%          0.000000  \n",
       "75%          1.000000  \n",
       "max          1.000000  "
      ]
     },
     "execution_count": 28,
     "metadata": {},
     "output_type": "execute_result"
    }
   ],
   "source": [
    "# Check the summary statistics of numeric columns\n",
    "numeric_stat = spotify_data.describe()\n",
    "print(\"Numeric columns' statistics:\\n\")\n",
    "numeric_stat"
   ]
  },
  {
   "cell_type": "code",
   "execution_count": 34,
   "id": "cfd692c2-35fa-4f22-85f4-48f8a8aef2fb",
   "metadata": {},
   "outputs": [
    {
     "name": "stdout",
     "output_type": "stream",
     "text": [
      "Object columns Statistics:\n"
     ]
    },
    {
     "data": {
      "text/html": [
       "<div>\n",
       "<style scoped>\n",
       "    .dataframe tbody tr th:only-of-type {\n",
       "        vertical-align: middle;\n",
       "    }\n",
       "\n",
       "    .dataframe tbody tr th {\n",
       "        vertical-align: top;\n",
       "    }\n",
       "\n",
       "    .dataframe thead th {\n",
       "        text-align: right;\n",
       "    }\n",
       "</style>\n",
       "<table border=\"1\" class=\"dataframe\">\n",
       "  <thead>\n",
       "    <tr style=\"text-align: right;\">\n",
       "      <th></th>\n",
       "      <th>Track</th>\n",
       "      <th>Album Name</th>\n",
       "      <th>Artist</th>\n",
       "      <th>Release Date</th>\n",
       "      <th>ISRC</th>\n",
       "      <th>All Time Rank</th>\n",
       "      <th>Spotify Streams</th>\n",
       "      <th>Spotify Playlist Count</th>\n",
       "      <th>Spotify Playlist Reach</th>\n",
       "      <th>YouTube Views</th>\n",
       "      <th>...</th>\n",
       "      <th>TikTok Likes</th>\n",
       "      <th>TikTok Views</th>\n",
       "      <th>YouTube Playlist Reach</th>\n",
       "      <th>AirPlay Spins</th>\n",
       "      <th>SiriusXM Spins</th>\n",
       "      <th>Deezer Playlist Reach</th>\n",
       "      <th>Pandora Streams</th>\n",
       "      <th>Pandora Track Stations</th>\n",
       "      <th>Soundcloud Streams</th>\n",
       "      <th>Shazam Counts</th>\n",
       "    </tr>\n",
       "  </thead>\n",
       "  <tbody>\n",
       "    <tr>\n",
       "      <th>count</th>\n",
       "      <td>4600</td>\n",
       "      <td>4600</td>\n",
       "      <td>4595</td>\n",
       "      <td>4600</td>\n",
       "      <td>4600</td>\n",
       "      <td>4600</td>\n",
       "      <td>4487</td>\n",
       "      <td>4530</td>\n",
       "      <td>4528</td>\n",
       "      <td>4292</td>\n",
       "      <td>...</td>\n",
       "      <td>3620</td>\n",
       "      <td>3619</td>\n",
       "      <td>3591</td>\n",
       "      <td>4102</td>\n",
       "      <td>2477</td>\n",
       "      <td>3672</td>\n",
       "      <td>3494</td>\n",
       "      <td>3332</td>\n",
       "      <td>1267</td>\n",
       "      <td>4023</td>\n",
       "    </tr>\n",
       "    <tr>\n",
       "      <th>unique</th>\n",
       "      <td>4370</td>\n",
       "      <td>4005</td>\n",
       "      <td>1999</td>\n",
       "      <td>1562</td>\n",
       "      <td>4598</td>\n",
       "      <td>4577</td>\n",
       "      <td>4425</td>\n",
       "      <td>4207</td>\n",
       "      <td>4478</td>\n",
       "      <td>4290</td>\n",
       "      <td>...</td>\n",
       "      <td>3615</td>\n",
       "      <td>3616</td>\n",
       "      <td>3458</td>\n",
       "      <td>3267</td>\n",
       "      <td>689</td>\n",
       "      <td>3558</td>\n",
       "      <td>3491</td>\n",
       "      <td>2975</td>\n",
       "      <td>1265</td>\n",
       "      <td>4002</td>\n",
       "    </tr>\n",
       "    <tr>\n",
       "      <th>top</th>\n",
       "      <td>Danza Kuduro - Cover</td>\n",
       "      <td>Un Verano Sin Ti</td>\n",
       "      <td>Drake</td>\n",
       "      <td>1/1/2012</td>\n",
       "      <td>USWL11700269</td>\n",
       "      <td>3,441</td>\n",
       "      <td>1,655,575,417</td>\n",
       "      <td>1</td>\n",
       "      <td>3</td>\n",
       "      <td>30,913,276</td>\n",
       "      <td>...</td>\n",
       "      <td>14,000</td>\n",
       "      <td>158,504,854</td>\n",
       "      <td>381,728</td>\n",
       "      <td>1</td>\n",
       "      <td>1</td>\n",
       "      <td>1,097</td>\n",
       "      <td>56,972,562</td>\n",
       "      <td>9</td>\n",
       "      <td>27</td>\n",
       "      <td>1</td>\n",
       "    </tr>\n",
       "    <tr>\n",
       "      <th>freq</th>\n",
       "      <td>13</td>\n",
       "      <td>20</td>\n",
       "      <td>63</td>\n",
       "      <td>38</td>\n",
       "      <td>2</td>\n",
       "      <td>2</td>\n",
       "      <td>4</td>\n",
       "      <td>46</td>\n",
       "      <td>8</td>\n",
       "      <td>2</td>\n",
       "      <td>...</td>\n",
       "      <td>2</td>\n",
       "      <td>2</td>\n",
       "      <td>13</td>\n",
       "      <td>69</td>\n",
       "      <td>54</td>\n",
       "      <td>17</td>\n",
       "      <td>2</td>\n",
       "      <td>6</td>\n",
       "      <td>2</td>\n",
       "      <td>5</td>\n",
       "    </tr>\n",
       "  </tbody>\n",
       "</table>\n",
       "<p>4 rows × 22 columns</p>\n",
       "</div>"
      ],
      "text/plain": [
       "                       Track        Album Name Artist Release Date  \\\n",
       "count                   4600              4600   4595         4600   \n",
       "unique                  4370              4005   1999         1562   \n",
       "top     Danza Kuduro - Cover  Un Verano Sin Ti  Drake     1/1/2012   \n",
       "freq                      13                20     63           38   \n",
       "\n",
       "                ISRC All Time Rank Spotify Streams Spotify Playlist Count  \\\n",
       "count           4600          4600            4487                   4530   \n",
       "unique          4598          4577            4425                   4207   \n",
       "top     USWL11700269         3,441   1,655,575,417                      1   \n",
       "freq               2             2               4                     46   \n",
       "\n",
       "       Spotify Playlist Reach YouTube Views  ... TikTok Likes TikTok Views  \\\n",
       "count                    4528          4292  ...         3620         3619   \n",
       "unique                   4478          4290  ...         3615         3616   \n",
       "top                         3    30,913,276  ...       14,000  158,504,854   \n",
       "freq                        8             2  ...            2            2   \n",
       "\n",
       "       YouTube Playlist Reach AirPlay Spins SiriusXM Spins  \\\n",
       "count                    3591          4102           2477   \n",
       "unique                   3458          3267            689   \n",
       "top                   381,728             1              1   \n",
       "freq                       13            69             54   \n",
       "\n",
       "       Deezer Playlist Reach Pandora Streams Pandora Track Stations  \\\n",
       "count                   3672            3494                   3332   \n",
       "unique                  3558            3491                   2975   \n",
       "top                    1,097      56,972,562                      9   \n",
       "freq                      17               2                      6   \n",
       "\n",
       "       Soundcloud Streams Shazam Counts  \n",
       "count                1267          4023  \n",
       "unique               1265          4002  \n",
       "top                    27             1  \n",
       "freq                    2             5  \n",
       "\n",
       "[4 rows x 22 columns]"
      ]
     },
     "execution_count": 34,
     "metadata": {},
     "output_type": "execute_result"
    }
   ],
   "source": [
    "# Check the summary statistics of object columns\n",
    "object_stat = spotify_data.describe(include=['object'])\n",
    "print(\"Object columns Statistics:\")\n",
    "object_stat"
   ]
  },
  {
   "cell_type": "markdown",
   "id": "bf2375c1-1acf-4a47-971b-2bd8c5c691f3",
   "metadata": {},
   "source": [
    "#### iv. Identify and handle missing values"
   ]
  },
  {
   "cell_type": "markdown",
   "id": "7004c5a8-007f-4824-a028-19049b4e3b8f",
   "metadata": {},
   "source": [
    "##### > Check for missing values"
   ]
  },
  {
   "cell_type": "code",
   "execution_count": 36,
   "id": "35f3cc5b-153b-4eb7-86cb-44f8fc3a583b",
   "metadata": {},
   "outputs": [
    {
     "name": "stdout",
     "output_type": "stream",
     "text": [
      "missing_values\n",
      "\n",
      "Track                            0\n",
      "Album Name                       0\n",
      "Artist                           5\n",
      "Release Date                     0\n",
      "ISRC                             0\n",
      "All Time Rank                    0\n",
      "Track Score                      0\n",
      "Spotify Streams                113\n",
      "Spotify Playlist Count          70\n",
      "Spotify Playlist Reach          72\n",
      "Spotify Popularity             804\n",
      "YouTube Views                  308\n",
      "YouTube Likes                  315\n",
      "TikTok Posts                  1173\n",
      "TikTok Likes                   980\n",
      "TikTok Views                   981\n",
      "YouTube Playlist Reach        1009\n",
      "Apple Music Playlist Count     561\n",
      "AirPlay Spins                  498\n",
      "SiriusXM Spins                2123\n",
      "Deezer Playlist Count          921\n",
      "Deezer Playlist Reach          928\n",
      "Amazon Playlist Count         1055\n",
      "Pandora Streams               1106\n",
      "Pandora Track Stations        1268\n",
      "Soundcloud Streams            3333\n",
      "Shazam Counts                  577\n",
      "TIDAL Popularity              4600\n",
      "Explicit Track                   0\n",
      "dtype: int64\n"
     ]
    }
   ],
   "source": [
    "# Check for missing values\n",
    "missing_values = spotify_data.isnull().sum()\n",
    "print(\"missing_values\\n\")\n",
    "print(missing_values)"
   ]
  },
  {
   "cell_type": "markdown",
   "id": "f308e377-df0f-4300-b957-3d338771deea",
   "metadata": {},
   "source": [
    "##### > Drop rows which are missing with basic data"
   ]
  },
  {
   "cell_type": "code",
   "execution_count": 53,
   "id": "c84e1f13-5ce4-4cc9-9734-7d5cd80aa94e",
   "metadata": {},
   "outputs": [
    {
     "data": {
      "text/plain": [
       "(4600, 29)"
      ]
     },
     "execution_count": 53,
     "metadata": {},
     "output_type": "execute_result"
    }
   ],
   "source": [
    "spotify_data.shape"
   ]
  },
  {
   "cell_type": "code",
   "execution_count": 70,
   "id": "a756f79c-062a-4563-a097-b49180a4b720",
   "metadata": {},
   "outputs": [
    {
     "data": {
      "text/plain": [
       "(4600, 27)"
      ]
     },
     "execution_count": 70,
     "metadata": {},
     "output_type": "execute_result"
    }
   ],
   "source": [
    "# Remove rows from the DataFrame where all 'Track', 'Album Name' and 'Artist' columns have missing values\n",
    "spotify_data_filtered_rows = spotify_data.dropna(subset=['Track', 'Album Name', 'Artist'], how='all')\n",
    "spotify_data_filtered_rows.shape"
   ]
  },
  {
   "cell_type": "code",
   "execution_count": 72,
   "id": "56cfacd1-87e4-44c8-8a29-6a5112ee67bb",
   "metadata": {},
   "outputs": [
    {
     "data": {
      "text/plain": [
       "(4600, 27)"
      ]
     },
     "execution_count": 72,
     "metadata": {},
     "output_type": "execute_result"
    }
   ],
   "source": [
    "# Check for rows where all values in the 'Track' and 'Album Name' columns are missing\n",
    "condition1 = spotify_data_filtered_rows[['Track', 'Album Name']].isnull().all(axis=1)\n",
    "\n",
    "# Check for rows where all values in the 'Track' and 'Artist' columns are missing\n",
    "condition2 = spotify_data_filtered_rows[['Track', 'Artist']].isnull().all(axis=1)\n",
    "\n",
    "# Combine the conditions to identify rows where any of the above conditions are met\n",
    "combined_condition = condition1 | condition2\n",
    "\n",
    "# Filter out rows that meet any of the combined conditions to create a cleaned DataFrame\n",
    "spotify_data_filtered_columns = spotify_data_filtered_rows[~combined_condition]\n",
    "spotify_data_filtered_columns.shape"
   ]
  },
  {
   "cell_type": "markdown",
   "id": "5e2e63e4-d842-4db9-b1ef-b1f1f849fd8d",
   "metadata": {},
   "source": [
    "##### > Drop the columns which are missing with most of its row data"
   ]
  },
  {
   "cell_type": "code",
   "execution_count": 74,
   "id": "b9d4f3d1-6076-41d3-b19d-ff3a8654d911",
   "metadata": {},
   "outputs": [
    {
     "name": "stdout",
     "output_type": "stream",
     "text": [
      "columns_to_drop is:  Index([], dtype='object')\n"
     ]
    },
    {
     "data": {
      "text/plain": [
       "(4600, 27)"
      ]
     },
     "execution_count": 74,
     "metadata": {},
     "output_type": "execute_result"
    }
   ],
   "source": [
    "# Calculate the percentage of missing values for each column\n",
    "missing_percentage = spotify_data_filtered_columns.isnull().mean()\n",
    "# Define a threshold for dropping columns (e.g., 50%)\n",
    "threshold = 0.5\n",
    "# Identify columns where missing percentage exceeds the threshold\n",
    "columns_to_drop = missing_percentage[missing_percentage > threshold].index\n",
    "print(\"columns_to_drop is: \", columns_to_drop)\n",
    "# Drop the identified columns\n",
    "spotify_data_filtered_columns = spotify_data_filtered_columns.drop(columns=columns_to_drop)\n",
    "spotify_data_filtered_columns.shape"
   ]
  },
  {
   "cell_type": "markdown",
   "id": "c176b50b-3254-48ff-bfa5-4cbddc00c794",
   "metadata": {},
   "source": [
    "##### > Get the count of missing values in each column"
   ]
  },
  {
   "cell_type": "code",
   "execution_count": 78,
   "id": "a07c4a8d-35f3-43ca-b6b1-ca3239f3924f",
   "metadata": {},
   "outputs": [
    {
     "name": "stdout",
     "output_type": "stream",
     "text": [
      "                            Missing Values Data Type\n",
      "Artist                                   5    object\n",
      "Spotify Streams                        113    object\n",
      "Spotify Playlist Count                  70    object\n",
      "Spotify Playlist Reach                  72    object\n",
      "Spotify Popularity                     804   float64\n",
      "YouTube Views                          308    object\n",
      "YouTube Likes                          315    object\n",
      "TikTok Posts                          1173    object\n",
      "TikTok Likes                           980    object\n",
      "TikTok Views                           981    object\n",
      "YouTube Playlist Reach                1009    object\n",
      "Apple Music Playlist Count             561   float64\n",
      "AirPlay Spins                          498    object\n",
      "SiriusXM Spins                        2123    object\n",
      "Deezer Playlist Count                  921   float64\n",
      "Deezer Playlist Reach                  928    object\n",
      "Amazon Playlist Count                 1055   float64\n",
      "Pandora Streams                       1106    object\n",
      "Pandora Track Stations                1268    object\n",
      "Shazam Counts                          577    object\n"
     ]
    }
   ],
   "source": [
    "# Get the count of missing values in each column\n",
    "missing_values = spotify_data_filtered_columns.isnull().sum()\n",
    "# Filter columns with missing values\n",
    "missing_values = missing_values[missing_values > 0]\n",
    "# Get data types of columns with missing values\n",
    "missing_data_types = spotify_data_filtered_columns.dtypes[missing_values.index]\n",
    "\n",
    "# Combine missing values count and data types into a DataFrame\n",
    "missing_info = pd.DataFrame({\n",
    "    'Missing Values': missing_values,\n",
    "    'Data Type': missing_data_types\n",
    "})\n",
    "# Display the DataFrame with missing values and their data types\n",
    "print(missing_info)"
   ]
  },
  {
   "cell_type": "markdown",
   "id": "7c99fbb1-8de8-4d11-87a5-fb7a4a71b371",
   "metadata": {},
   "source": [
    "##### Define default values for missing fields based on data types"
   ]
  },
  {
   "cell_type": "code",
   "execution_count": 80,
   "id": "cbfb01ab-4629-4451-baf8-d2d376ebd303",
   "metadata": {},
   "outputs": [
    {
     "name": "stdout",
     "output_type": "stream",
     "text": [
      "Track                         0\n",
      "Album Name                    0\n",
      "Artist                        0\n",
      "Release Date                  0\n",
      "ISRC                          0\n",
      "All Time Rank                 0\n",
      "Track Score                   0\n",
      "Spotify Streams               0\n",
      "Spotify Playlist Count        0\n",
      "Spotify Playlist Reach        0\n",
      "Spotify Popularity            0\n",
      "YouTube Views                 0\n",
      "YouTube Likes                 0\n",
      "TikTok Posts                  0\n",
      "TikTok Likes                  0\n",
      "TikTok Views                  0\n",
      "YouTube Playlist Reach        0\n",
      "Apple Music Playlist Count    0\n",
      "AirPlay Spins                 0\n",
      "SiriusXM Spins                0\n",
      "Deezer Playlist Count         0\n",
      "Deezer Playlist Reach         0\n",
      "Amazon Playlist Count         0\n",
      "Pandora Streams               0\n",
      "Pandora Track Stations        0\n",
      "Shazam Counts                 0\n",
      "Explicit Track                0\n",
      "dtype: int64\n"
     ]
    },
    {
     "data": {
      "text/plain": [
       "(4600, 27)"
      ]
     },
     "execution_count": 80,
     "metadata": {},
     "output_type": "execute_result"
    }
   ],
   "source": [
    "# Define default values for missing fields based on data types\n",
    "default_values = {\n",
    "    'Artist': 'Unknown',  # String columns can be filled with a placeholder\n",
    "    'Spotify Streams': 0,  # Numeric columns can be filled with 0 or another appropriate value\n",
    "    'Spotify Playlist Count': 0,\n",
    "    'Spotify Playlist Reach': 0,\n",
    "    'Spotify Popularity': 0,\n",
    "    'YouTube Views': 0,\n",
    "    'YouTube Likes': 0,\n",
    "    'TikTok Posts': 0,\n",
    "    'TikTok Likes': 0,\n",
    "    'TikTok Views': 0,\n",
    "    'YouTube Playlist Reach': 0,\n",
    "    'Apple Music Playlist Count': 0,\n",
    "    'AirPlay Spins': 0,\n",
    "    'SiriusXM Spins': 0,\n",
    "    'Deezer Playlist Count': 0,\n",
    "    'Deezer Playlist Reach': 0,\n",
    "    'Amazon Playlist Count': 0,\n",
    "    'Pandora Streams': 0,\n",
    "    'Pandora Track Stations': 0,\n",
    "    'Shazam Counts': 0\n",
    "}\n",
    "\n",
    "# Fill missing values with the default values\n",
    "spotify_filled_data = spotify_data_filtered_columns.fillna(default_values)\n",
    "\n",
    "# Verify that there are no missing values left\n",
    "print(spotify_filled_data.isnull().sum())\n",
    "spotify_filled_data.shape"
   ]
  },
  {
   "cell_type": "markdown",
   "id": "52e3c268-4176-4ec8-9384-8240ad6ddc2f",
   "metadata": {},
   "source": [
    "#### v. Remove duplicate rows"
   ]
  },
  {
   "cell_type": "code",
   "execution_count": 82,
   "id": "89503992-e906-4cd2-9569-8c18926a72c9",
   "metadata": {},
   "outputs": [
    {
     "data": {
      "text/plain": [
       "(4559, 27)"
      ]
     },
     "execution_count": 82,
     "metadata": {},
     "output_type": "execute_result"
    }
   ],
   "source": [
    "spotify_filled_data = spotify_filled_data.drop_duplicates()\n",
    "# Remove duplicate rows based on two specified columns\n",
    "spotify_filled_data = spotify_filled_data.drop_duplicates(subset=['Track', 'Album Name', 'Artist'], keep='first')\n",
    "spotify_filled_data.shape"
   ]
  },
  {
   "cell_type": "code",
   "execution_count": null,
   "id": "1499a6fc-9dfb-4dbd-a30a-f2ae93e13540",
   "metadata": {},
   "outputs": [],
   "source": []
  },
  {
   "cell_type": "markdown",
   "id": "8d6fa45c-ab33-4c96-96ff-46e74bb723db",
   "metadata": {},
   "source": [
    "#### vi. Convert the data format"
   ]
  },
  {
   "cell_type": "code",
   "execution_count": 217,
   "id": "5bc4c08c-f565-46ef-960c-90f68f16f23a",
   "metadata": {},
   "outputs": [
    {
     "name": "stdout",
     "output_type": "stream",
     "text": [
      "<class 'pandas.core.frame.DataFrame'>\n",
      "RangeIndex: 4600 entries, 0 to 4599\n",
      "Data columns (total 27 columns):\n",
      " #   Column                      Non-Null Count  Dtype  \n",
      "---  ------                      --------------  -----  \n",
      " 0   Track                       4600 non-null   object \n",
      " 1   Album Name                  4600 non-null   object \n",
      " 2   Artist                      4600 non-null   object \n",
      " 3   Release Date                4600 non-null   object \n",
      " 4   ISRC                        4600 non-null   object \n",
      " 5   All Time Rank               4600 non-null   object \n",
      " 6   Track Score                 4600 non-null   float64\n",
      " 7   Spotify Streams             4600 non-null   object \n",
      " 8   Spotify Playlist Count      4600 non-null   object \n",
      " 9   Spotify Playlist Reach      4600 non-null   object \n",
      " 10  Spotify Popularity          4600 non-null   float64\n",
      " 11  YouTube Views               4600 non-null   object \n",
      " 12  YouTube Likes               4600 non-null   object \n",
      " 13  TikTok Posts                4600 non-null   object \n",
      " 14  TikTok Likes                4600 non-null   object \n",
      " 15  TikTok Views                4600 non-null   object \n",
      " 16  YouTube Playlist Reach      4600 non-null   object \n",
      " 17  Apple Music Playlist Count  4600 non-null   float64\n",
      " 18  AirPlay Spins               4600 non-null   object \n",
      " 19  SiriusXM Spins              4600 non-null   object \n",
      " 20  Deezer Playlist Count       4600 non-null   float64\n",
      " 21  Deezer Playlist Reach       4600 non-null   object \n",
      " 22  Amazon Playlist Count       4600 non-null   float64\n",
      " 23  Pandora Streams             4600 non-null   object \n",
      " 24  Pandora Track Stations      4600 non-null   object \n",
      " 25  Shazam Counts               4600 non-null   object \n",
      " 26  Explicit Track              4600 non-null   int64  \n",
      "dtypes: float64(5), int64(1), object(21)\n",
      "memory usage: 970.4+ KB\n"
     ]
    }
   ],
   "source": [
    "spotify_filled_data.info()"
   ]
  },
  {
   "cell_type": "code",
   "execution_count": 84,
   "id": "aa1ddde0-d980-4450-8f38-44638a15baaa",
   "metadata": {},
   "outputs": [
    {
     "name": "stdout",
     "output_type": "stream",
     "text": [
      "Track                                 object\n",
      "Album Name                            object\n",
      "Artist                                object\n",
      "Release Date                  datetime64[ns]\n",
      "ISRC                                  object\n",
      "All Time Rank                          Int64\n",
      "Track Score                          float64\n",
      "Spotify Streams                        Int64\n",
      "Spotify Playlist Count                 Int64\n",
      "Spotify Playlist Reach                 Int64\n",
      "Spotify Popularity                   float64\n",
      "YouTube Views                          Int64\n",
      "YouTube Likes                          Int64\n",
      "TikTok Posts                           Int64\n",
      "TikTok Likes                           Int64\n",
      "TikTok Views                           Int64\n",
      "YouTube Playlist Reach                 Int64\n",
      "Apple Music Playlist Count           float64\n",
      "AirPlay Spins                          Int64\n",
      "SiriusXM Spins                         Int64\n",
      "Deezer Playlist Count                float64\n",
      "Deezer Playlist Reach                  Int64\n",
      "Amazon Playlist Count                float64\n",
      "Pandora Streams                        Int64\n",
      "Pandora Track Stations                 Int64\n",
      "Shazam Counts                          Int64\n",
      "Explicit Track                         int64\n",
      "dtype: object\n"
     ]
    }
   ],
   "source": [
    "columns_to_convert = [\n",
    "    'All Time Rank', 'Spotify Streams', 'Spotify Playlist Count', 'Spotify Playlist Reach',\n",
    "    'YouTube Views', 'YouTube Likes', 'TikTok Posts', 'TikTok Likes', 'TikTok Views',\n",
    "    'YouTube Playlist Reach', 'AirPlay Spins', 'SiriusXM Spins', 'Deezer Playlist Reach',\n",
    "    'Pandora Streams', 'Pandora Track Stations', 'Shazam Counts'\n",
    "]\n",
    "\n",
    "# Remove commas and convert to numeric\n",
    "#for column in columns_to_convert:\n",
    "#    spotify_filled_data[column] = pd.to_numeric(spotify_filled_data[column].str.replace(',', ''), errors='coerce').astype('Int64')\n",
    "\n",
    "for column in columns_to_convert:\n",
    "    # Remove commas and convert to numeric, but first replace empty strings with NaN to handle them separately\n",
    "    spotify_filled_data[column] = pd.to_numeric(\n",
    "        spotify_filled_data[column].str.replace(',', '').replace('', 'NaN'),\n",
    "        errors='coerce'\n",
    "    ).fillna(0).astype('Int64')\n",
    "\n",
    "# Convert the 'Release Date' column to datetime format\n",
    "spotify_filled_data['Release Date'] = pd.to_datetime(spotify_filled_data['Release Date'], errors='coerce')\n",
    "\n",
    "# Display the updated data types\n",
    "print(spotify_filled_data.dtypes)"
   ]
  },
  {
   "cell_type": "code",
   "execution_count": null,
   "id": "5f5b297c-422c-4144-a4db-d42455875afe",
   "metadata": {},
   "outputs": [],
   "source": []
  },
  {
   "cell_type": "markdown",
   "id": "79fe4557-95b0-48a1-b8bf-089845f45ff7",
   "metadata": {},
   "source": [
    "#  4. Exploratory Data Analysis (EDA)"
   ]
  },
  {
   "cell_type": "code",
   "execution_count": null,
   "id": "1ee495e7-c0df-4aa4-ba2c-57ee65d1792d",
   "metadata": {},
   "outputs": [],
   "source": []
  },
  {
   "cell_type": "code",
   "execution_count": null,
   "id": "26567bd7-4e79-4e2e-96a2-bbdef875459f",
   "metadata": {},
   "outputs": [],
   "source": []
  },
  {
   "cell_type": "code",
   "execution_count": null,
   "id": "9958939c-3647-40ea-9623-3944eb9dd1a3",
   "metadata": {},
   "outputs": [],
   "source": []
  },
  {
   "cell_type": "code",
   "execution_count": null,
   "id": "86156921-a996-44fa-80cb-6b885158697a",
   "metadata": {},
   "outputs": [],
   "source": []
  },
  {
   "cell_type": "code",
   "execution_count": null,
   "id": "56b119da-bbb9-478f-832e-1251aa09cbd0",
   "metadata": {},
   "outputs": [],
   "source": []
  },
  {
   "cell_type": "code",
   "execution_count": null,
   "id": "a3f6f13f-983f-41f7-bcac-359e84c10a4f",
   "metadata": {},
   "outputs": [],
   "source": []
  },
  {
   "cell_type": "markdown",
   "id": "cb21caee-b80e-4aa5-8052-41cc658b2d0c",
   "metadata": {
    "jp-MarkdownHeadingCollapsed": true
   },
   "source": [
    "# 5. Advanced Python Techniques"
   ]
  },
  {
   "cell_type": "code",
   "execution_count": null,
   "id": "05e6bc78-cc24-47dc-8644-e2904e7070e9",
   "metadata": {},
   "outputs": [],
   "source": []
  },
  {
   "cell_type": "code",
   "execution_count": null,
   "id": "4b61dd04-e461-4e47-a915-4fd5e5f60920",
   "metadata": {},
   "outputs": [],
   "source": []
  },
  {
   "cell_type": "code",
   "execution_count": null,
   "id": "cffddd7f-e02e-4ad5-9bb5-1e1b5f5b5f35",
   "metadata": {},
   "outputs": [],
   "source": []
  },
  {
   "cell_type": "code",
   "execution_count": null,
   "id": "b4bb6b33-987f-454c-ac42-871e85702a54",
   "metadata": {},
   "outputs": [],
   "source": []
  },
  {
   "cell_type": "code",
   "execution_count": null,
   "id": "bb12196a-7a36-4ecb-94c4-95c5aa029691",
   "metadata": {},
   "outputs": [],
   "source": []
  },
  {
   "cell_type": "markdown",
   "id": "cacbf54e-9f10-42aa-aa8d-ae8d47fbc20c",
   "metadata": {
    "jp-MarkdownHeadingCollapsed": true
   },
   "source": [
    "# 6. Insights and Conclusions"
   ]
  },
  {
   "cell_type": "code",
   "execution_count": null,
   "id": "bf63cd6f-543c-480f-b206-a69abd1bfb9d",
   "metadata": {},
   "outputs": [],
   "source": []
  },
  {
   "cell_type": "code",
   "execution_count": null,
   "id": "f9478050-df47-4708-ab82-11127f2abb33",
   "metadata": {},
   "outputs": [],
   "source": []
  },
  {
   "cell_type": "code",
   "execution_count": null,
   "id": "28cee5c7-59c4-41f9-badc-5cd2cb0ae017",
   "metadata": {},
   "outputs": [],
   "source": []
  },
  {
   "cell_type": "code",
   "execution_count": null,
   "id": "ea21bef7-7020-4652-a9a0-736877ee625c",
   "metadata": {},
   "outputs": [],
   "source": []
  },
  {
   "cell_type": "code",
   "execution_count": null,
   "id": "937f2c74-fa0d-400c-81ca-21f1cb1bf8de",
   "metadata": {},
   "outputs": [],
   "source": []
  },
  {
   "cell_type": "code",
   "execution_count": null,
   "id": "20856402-318b-4cdf-8a74-98c2f199ee41",
   "metadata": {},
   "outputs": [],
   "source": []
  },
  {
   "cell_type": "markdown",
   "id": "86f048b2-4489-4062-968d-65663a1fa78a",
   "metadata": {},
   "source": [
    "# 7. Documentation and Presentation"
   ]
  },
  {
   "cell_type": "code",
   "execution_count": 86,
   "id": "821a28e8-15e9-4de6-b83a-345e871ce221",
   "metadata": {},
   "outputs": [],
   "source": [
    "spotify_filled_data.to_csv(os.path.join(current_folder_path, \"CleanedUp Most Streamed Spotify Songs 2024.csv\"), index=False)"
   ]
  },
  {
   "cell_type": "code",
   "execution_count": null,
   "id": "45a4472d-358c-4d0b-bb7c-11587c97535a",
   "metadata": {},
   "outputs": [],
   "source": []
  },
  {
   "cell_type": "code",
   "execution_count": null,
   "id": "3966beac-4aaf-4c9b-b97e-723a10080b79",
   "metadata": {},
   "outputs": [],
   "source": []
  },
  {
   "cell_type": "code",
   "execution_count": null,
   "id": "fe14a602-6a49-4913-b950-3324e2fb0910",
   "metadata": {},
   "outputs": [],
   "source": []
  }
 ],
 "metadata": {
  "kernelspec": {
   "display_name": "Python 3 (ipykernel)",
   "language": "python",
   "name": "python3"
  },
  "language_info": {
   "codemirror_mode": {
    "name": "ipython",
    "version": 3
   },
   "file_extension": ".py",
   "mimetype": "text/x-python",
   "name": "python",
   "nbconvert_exporter": "python",
   "pygments_lexer": "ipython3",
   "version": "3.12.4"
  }
 },
 "nbformat": 4,
 "nbformat_minor": 5
}
