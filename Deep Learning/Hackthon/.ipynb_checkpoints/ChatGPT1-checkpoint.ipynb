{
 "cells": [
  {
   "cell_type": "code",
   "execution_count": 8,
   "id": "c3d61a61-ebbb-4023-9c65-80bb3eaa9217",
   "metadata": {},
   "outputs": [],
   "source": [
    "#!pip install tensorflow\n"
   ]
  },
  {
   "cell_type": "code",
   "execution_count": 14,
   "id": "e03d18c8-2e12-40d9-b63a-8af22fad8c94",
   "metadata": {},
   "outputs": [],
   "source": [
    "import os\n",
    "import pandas as pd\n",
    "import tensorflow as tf\n",
    "from sklearn.model_selection import train_test_split\n",
    "from tensorflow.keras.preprocessing.image import ImageDataGenerator\n",
    "from tensorflow.keras import layers, models\n",
    "from tensorflow.keras.applications import EfficientNetB0"
   ]
  },
  {
   "cell_type": "code",
   "execution_count": 31,
   "id": "f9a26e15-14cc-4d7e-9e35-f50dcb41a389",
   "metadata": {},
   "outputs": [],
   "source": [
    "BASE_TRAIN_DIR = 'dataset' \n",
    "BASE_TEST_DIR = 'test'\n",
    "TRAIN_CSV_PATH = 'train.csv'\n",
    "TEST_CSV_PATH = 'test.csv'\n",
    "SUBMISSION_FILE = 'submission.csv'"
   ]
  },
  {
   "cell_type": "code",
   "execution_count": 12,
   "id": "9373b84d-a74d-427a-a594-973f616d26ad",
   "metadata": {},
   "outputs": [],
   "source": []
  },
  {
   "cell_type": "code",
   "execution_count": 32,
   "id": "07cdbd2c-59f2-4d3e-90e8-899a8e2091a5",
   "metadata": {},
   "outputs": [],
   "source": [
    "IMG_SIZE = (224, 224)\n",
    "BATCH_SIZE = 32\n",
    "EPOCHS = 10\n",
    "FINE_TUNE_EPOCHS = 5"
   ]
  },
  {
   "cell_type": "code",
   "execution_count": 33,
   "id": "bc89d4f6-d8e0-40e1-a217-9d68b01f4f04",
   "metadata": {},
   "outputs": [],
   "source": [
    "df = pd.read_csv(TRAIN_CSV_PATH)\n",
    "\n",
    "def map_path(row):\n",
    "    label_folder = 'training_fake' if row['label'] == 0 else 'training_real'\n",
    "    return os.path.join(label_folder, f\"{row['file_id']}.jpg\")\n",
    "\n",
    "df['file_path'] = df.apply(map_path, axis=1)\n",
    "df['label_str'] = df['label'].astype(str)"
   ]
  },
  {
   "cell_type": "code",
   "execution_count": null,
   "id": "31c6a7fe-352d-4bbb-ac1e-7a31c952351d",
   "metadata": {},
   "outputs": [],
   "source": []
  },
  {
   "cell_type": "code",
   "execution_count": 34,
   "id": "a92156bf-5348-48d4-8bdb-6d162fba7905",
   "metadata": {},
   "outputs": [],
   "source": [
    "train_df, val_df = train_test_split(df, test_size=0.2, stratify=df['label'], random_state=42)"
   ]
  },
  {
   "cell_type": "code",
   "execution_count": 35,
   "id": "e93a48c7-bd22-4686-bb0f-7871c128c77b",
   "metadata": {},
   "outputs": [],
   "source": [
    "train_datagen = ImageDataGenerator(\n",
    "    rescale=1./255,\n",
    "    horizontal_flip=True,\n",
    "    rotation_range=20,\n",
    "    zoom_range=0.2,\n",
    "    width_shift_range=0.1,\n",
    "    height_shift_range=0.1\n",
    ")\n",
    "val_datagen = ImageDataGenerator(rescale=1./255)"
   ]
  },
  {
   "cell_type": "code",
   "execution_count": null,
   "id": "45bca96c-1d1d-47a6-bbd7-6462bc94773a",
   "metadata": {},
   "outputs": [],
   "source": []
  },
  {
   "cell_type": "code",
   "execution_count": 36,
   "id": "86a4b2c9-b585-4043-a7ef-151b4d953cb2",
   "metadata": {},
   "outputs": [
    {
     "name": "stdout",
     "output_type": "stream",
     "text": [
      "Found 1367 validated image filenames belonging to 2 classes.\n",
      "Found 342 validated image filenames belonging to 2 classes.\n"
     ]
    }
   ],
   "source": [
    "train_gen = train_datagen.flow_from_dataframe(\n",
    "    train_df,\n",
    "    directory=BASE_TRAIN_DIR,\n",
    "    x_col='file_path',\n",
    "    y_col='label_str',\n",
    "    target_size=IMG_SIZE,\n",
    "    batch_size=BATCH_SIZE,\n",
    "    class_mode='binary'\n",
    ")\n",
    "val_gen = val_datagen.flow_from_dataframe(\n",
    "    val_df,\n",
    "    directory=BASE_TRAIN_DIR,\n",
    "    x_col='file_path',\n",
    "    y_col='label_str',\n",
    "    target_size=IMG_SIZE,\n",
    "    batch_size=BATCH_SIZE,\n",
    "    class_mode='binary'\n",
    ")"
   ]
  },
  {
   "cell_type": "code",
   "execution_count": null,
   "id": "0940cf2e-0118-4fe7-990c-0751485e3d18",
   "metadata": {},
   "outputs": [],
   "source": []
  },
  {
   "cell_type": "code",
   "execution_count": null,
   "id": "1edc25d4-94cc-422f-a5e1-d32364c324ec",
   "metadata": {},
   "outputs": [],
   "source": []
  },
  {
   "cell_type": "code",
   "execution_count": null,
   "id": "435bc95a-f498-408c-bbcd-a66af4124369",
   "metadata": {},
   "outputs": [],
   "source": []
  },
  {
   "cell_type": "code",
   "execution_count": null,
   "id": "bd4281e0-977c-4d85-b988-ca6cfc5f6b47",
   "metadata": {},
   "outputs": [],
   "source": []
  },
  {
   "cell_type": "code",
   "execution_count": null,
   "id": "2c30c409-03c9-46d7-ac99-b0197ee00a27",
   "metadata": {},
   "outputs": [],
   "source": []
  }
 ],
 "metadata": {
  "kernelspec": {
   "display_name": "Python 3 (ipykernel)",
   "language": "python",
   "name": "python3"
  },
  "language_info": {
   "codemirror_mode": {
    "name": "ipython",
    "version": 3
   },
   "file_extension": ".py",
   "mimetype": "text/x-python",
   "name": "python",
   "nbconvert_exporter": "python",
   "pygments_lexer": "ipython3",
   "version": "3.12.7"
  }
 },
 "nbformat": 4,
 "nbformat_minor": 5
}
