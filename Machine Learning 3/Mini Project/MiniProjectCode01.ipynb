{
 "cells": [
  {
   "cell_type": "markdown",
   "id": "8a8703a0-50e3-4606-8b44-7ec18a7558a6",
   "metadata": {},
   "source": [
    "#### 1. Import Libraries : Import necessary Python libraries for data manipulation, visualization, and clustering"
   ]
  },
  {
   "cell_type": "code",
   "execution_count": 25,
   "id": "1d6ee79d-4bfb-403c-b2ce-49c80d715156",
   "metadata": {},
   "outputs": [],
   "source": [
    "import pandas as pd\n",
    "import numpy as np\n",
    "import seaborn as sns\n",
    "import matplotlib.pyplot as plt\n",
    "%matplotlib inline\n",
    "import warnings\n",
    "warnings.filterwarnings('ignore')\n",
    "from sklearn.preprocessing import MinMaxScaler"
   ]
  },
  {
   "cell_type": "markdown",
   "id": "ba99e106-3052-4637-a1ef-1931de77c367",
   "metadata": {},
   "source": [
    "#### 2. Load Data : Load the dataset into a pandas DataFrame.\n",
    "#### 3. Data Dictionary : Load a data dictionary that describes the dataset"
   ]
  },
  {
   "cell_type": "code",
   "execution_count": 2,
   "id": "0e5360c6-3d97-4f93-83e3-2cb5135862c6",
   "metadata": {},
   "outputs": [],
   "source": [
    "data = pd.read_csv('ML3 data.csv')\n",
    "cd = pd.read_excel('Data_Description.xlsx')"
   ]
  },
  {
   "cell_type": "code",
   "execution_count": 3,
   "id": "3d253952-2153-4fd1-8ea5-726657ef4441",
   "metadata": {},
   "outputs": [
    {
     "data": {
      "text/html": [
       "<div>\n",
       "<style scoped>\n",
       "    .dataframe tbody tr th:only-of-type {\n",
       "        vertical-align: middle;\n",
       "    }\n",
       "\n",
       "    .dataframe tbody tr th {\n",
       "        vertical-align: top;\n",
       "    }\n",
       "\n",
       "    .dataframe thead th {\n",
       "        text-align: right;\n",
       "    }\n",
       "</style>\n",
       "<table border=\"1\" class=\"dataframe\">\n",
       "  <thead>\n",
       "    <tr style=\"text-align: right;\">\n",
       "      <th></th>\n",
       "      <th>SEQN</th>\n",
       "      <th>SDDSRVYR</th>\n",
       "      <th>RIDSTATR</th>\n",
       "      <th>RIAGENDR</th>\n",
       "      <th>RIDAGEYR</th>\n",
       "      <th>RIDAGEMN</th>\n",
       "      <th>RIDRETH1</th>\n",
       "      <th>RIDRETH3</th>\n",
       "      <th>RIDEXMON</th>\n",
       "      <th>RIDEXAGM</th>\n",
       "      <th>...</th>\n",
       "      <th>ar16</th>\n",
       "      <th>ar17</th>\n",
       "      <th>ar18</th>\n",
       "      <th>ar19</th>\n",
       "      <th>ar20</th>\n",
       "      <th>ar21</th>\n",
       "      <th>ar22</th>\n",
       "      <th>ar23</th>\n",
       "      <th>ar24</th>\n",
       "      <th>ar25</th>\n",
       "    </tr>\n",
       "  </thead>\n",
       "  <tbody>\n",
       "    <tr>\n",
       "      <th>0</th>\n",
       "      <td>73557</td>\n",
       "      <td>8</td>\n",
       "      <td>2</td>\n",
       "      <td>1</td>\n",
       "      <td>69</td>\n",
       "      <td>NaN</td>\n",
       "      <td>4</td>\n",
       "      <td>4</td>\n",
       "      <td>1</td>\n",
       "      <td>NaN</td>\n",
       "      <td>...</td>\n",
       "      <td>1.470207</td>\n",
       "      <td>4.864849</td>\n",
       "      <td>3.636711</td>\n",
       "      <td>-9.174492</td>\n",
       "      <td>-9.353410</td>\n",
       "      <td>5.153847</td>\n",
       "      <td>1.294983</td>\n",
       "      <td>-1.015693</td>\n",
       "      <td>-8.671692</td>\n",
       "      <td>5.423061</td>\n",
       "    </tr>\n",
       "    <tr>\n",
       "      <th>1</th>\n",
       "      <td>73558</td>\n",
       "      <td>8</td>\n",
       "      <td>2</td>\n",
       "      <td>1</td>\n",
       "      <td>54</td>\n",
       "      <td>NaN</td>\n",
       "      <td>3</td>\n",
       "      <td>3</td>\n",
       "      <td>1</td>\n",
       "      <td>NaN</td>\n",
       "      <td>...</td>\n",
       "      <td>-7.363791</td>\n",
       "      <td>-2.566326</td>\n",
       "      <td>0.776046</td>\n",
       "      <td>-2.951925</td>\n",
       "      <td>-0.538597</td>\n",
       "      <td>3.770290</td>\n",
       "      <td>6.711471</td>\n",
       "      <td>3.521875</td>\n",
       "      <td>-1.765809</td>\n",
       "      <td>-5.383746</td>\n",
       "    </tr>\n",
       "  </tbody>\n",
       "</table>\n",
       "<p>2 rows × 662 columns</p>\n",
       "</div>"
      ],
      "text/plain": [
       "    SEQN  SDDSRVYR  RIDSTATR  RIAGENDR  RIDAGEYR  RIDAGEMN  RIDRETH1  \\\n",
       "0  73557         8         2         1        69       NaN         4   \n",
       "1  73558         8         2         1        54       NaN         3   \n",
       "\n",
       "   RIDRETH3  RIDEXMON  RIDEXAGM  ...      ar16      ar17      ar18      ar19  \\\n",
       "0         4         1       NaN  ...  1.470207  4.864849  3.636711 -9.174492   \n",
       "1         3         1       NaN  ... -7.363791 -2.566326  0.776046 -2.951925   \n",
       "\n",
       "       ar20      ar21      ar22      ar23      ar24      ar25  \n",
       "0 -9.353410  5.153847  1.294983 -1.015693 -8.671692  5.423061  \n",
       "1 -0.538597  3.770290  6.711471  3.521875 -1.765809 -5.383746  \n",
       "\n",
       "[2 rows x 662 columns]"
      ]
     },
     "execution_count": 3,
     "metadata": {},
     "output_type": "execute_result"
    }
   ],
   "source": [
    "data.head(2)"
   ]
  },
  {
   "cell_type": "code",
   "execution_count": 4,
   "id": "eb79668f-f5f6-43ef-9543-2e64c1dbb617",
   "metadata": {},
   "outputs": [
    {
     "data": {
      "text/html": [
       "<div>\n",
       "<style scoped>\n",
       "    .dataframe tbody tr th:only-of-type {\n",
       "        vertical-align: middle;\n",
       "    }\n",
       "\n",
       "    .dataframe tbody tr th {\n",
       "        vertical-align: top;\n",
       "    }\n",
       "\n",
       "    .dataframe thead th {\n",
       "        text-align: right;\n",
       "    }\n",
       "</style>\n",
       "<table border=\"1\" class=\"dataframe\">\n",
       "  <thead>\n",
       "    <tr style=\"text-align: right;\">\n",
       "      <th></th>\n",
       "      <th>Variable Name</th>\n",
       "      <th>Variable Description</th>\n",
       "      <th>Data File Name</th>\n",
       "      <th>Data File Description</th>\n",
       "      <th>Begin Year</th>\n",
       "      <th>EndYear</th>\n",
       "      <th>Component</th>\n",
       "      <th>Use Constraints</th>\n",
       "    </tr>\n",
       "  </thead>\n",
       "  <tbody>\n",
       "    <tr>\n",
       "      <th>0</th>\n",
       "      <td>SEQN</td>\n",
       "      <td>Respondent sequence number.</td>\n",
       "      <td>DEMO_H</td>\n",
       "      <td>Demographic Variables and Sample Weights</td>\n",
       "      <td>2013</td>\n",
       "      <td>2014</td>\n",
       "      <td>Demographics</td>\n",
       "      <td>NaN</td>\n",
       "    </tr>\n",
       "    <tr>\n",
       "      <th>1</th>\n",
       "      <td>SDDSRVYR</td>\n",
       "      <td>Data release cycle</td>\n",
       "      <td>DEMO_H</td>\n",
       "      <td>Demographic Variables and Sample Weights</td>\n",
       "      <td>2013</td>\n",
       "      <td>2014</td>\n",
       "      <td>Demographics</td>\n",
       "      <td>NaN</td>\n",
       "    </tr>\n",
       "  </tbody>\n",
       "</table>\n",
       "</div>"
      ],
      "text/plain": [
       "  Variable Name         Variable Description Data File Name  \\\n",
       "0          SEQN  Respondent sequence number.         DEMO_H   \n",
       "1      SDDSRVYR           Data release cycle         DEMO_H   \n",
       "\n",
       "                      Data File Description  Begin Year  EndYear  \\\n",
       "0  Demographic Variables and Sample Weights        2013     2014   \n",
       "1  Demographic Variables and Sample Weights        2013     2014   \n",
       "\n",
       "      Component  Use Constraints  \n",
       "0  Demographics              NaN  \n",
       "1  Demographics              NaN  "
      ]
     },
     "execution_count": 4,
     "metadata": {},
     "output_type": "execute_result"
    }
   ],
   "source": [
    "cd.head(2)"
   ]
  },
  {
   "cell_type": "markdown",
   "id": "7b433638-cc2c-4f25-be25-c1e1ab78c660",
   "metadata": {},
   "source": [
    "#### 4. Initial Data Exploration : Check the shape of the DataFrame and the number of missing values."
   ]
  },
  {
   "cell_type": "code",
   "execution_count": 5,
   "id": "b7860b37-d8a2-4f0f-a7d4-d98a4bde1c19",
   "metadata": {},
   "outputs": [
    {
     "data": {
      "text/plain": [
       "array(['Demographics', 'Dietary', 'Laboratory'], dtype=object)"
      ]
     },
     "execution_count": 5,
     "metadata": {},
     "output_type": "execute_result"
    }
   ],
   "source": [
    "cd['Component'].unique()"
   ]
  },
  {
   "cell_type": "code",
   "execution_count": 6,
   "id": "034850f5-8cf0-4abe-a454-7265df0f1fc4",
   "metadata": {},
   "outputs": [],
   "source": [
    "dieteryColumns = cd[cd['Component'] == 'Dietary'][\"Variable Name\"]"
   ]
  },
  {
   "cell_type": "code",
   "execution_count": 7,
   "id": "c0ffe0cc-3d00-4c7b-8d05-4c37516d3dd6",
   "metadata": {},
   "outputs": [
    {
     "name": "stdout",
     "output_type": "stream",
     "text": [
      "<class 'pandas.core.frame.DataFrame'>\n",
      "RangeIndex: 9813 entries, 0 to 9812\n",
      "Columns: 662 entries, SEQN to ar25\n",
      "dtypes: float64(641), int64(21)\n",
      "memory usage: 49.6 MB\n",
      "None\n"
     ]
    }
   ],
   "source": [
    "print(data.info())"
   ]
  },
  {
   "cell_type": "markdown",
   "id": "d53854c3-0948-4abb-8707-792080df0bda",
   "metadata": {},
   "source": [
    "#### 5. Data Cleaning : Fill missing values in dietary columns with zeros based on the assumption that they are question answers."
   ]
  },
  {
   "cell_type": "code",
   "execution_count": 8,
   "id": "78286701-2de9-4ee7-84d8-81fa20e38768",
   "metadata": {},
   "outputs": [],
   "source": [
    "for col in dieteryColumns :\n",
    "    #print(data[col].isnull().sum())\n",
    "    data[col].fillna(0, inplace = True)"
   ]
  },
  {
   "cell_type": "markdown",
   "id": "ed901bd8-e02f-49a3-8023-17bbc130e6ce",
   "metadata": {},
   "source": [
    "#### 6. Demographic Data Cleaning : Fill missing values in demographic columns with zeros."
   ]
  },
  {
   "cell_type": "code",
   "execution_count": 9,
   "id": "387329f4-5eb7-4463-8825-4bf062f24ada",
   "metadata": {},
   "outputs": [],
   "source": [
    "demographicsColumns = cd[cd['Component'] == 'Demographics'][\"Variable Name\"]\n",
    "for col in demographicsColumns :\n",
    "    data[col].fillna(0, inplace = True)"
   ]
  },
  {
   "cell_type": "markdown",
   "id": "bc4838ee-0383-4018-9bc3-4aaf0caa059c",
   "metadata": {},
   "source": [
    "#### 7. Laboratory Data Cleaning : Fill missing values in laboratory columns with zeros."
   ]
  },
  {
   "cell_type": "code",
   "execution_count": 10,
   "id": "e5db4526-ed5e-40a3-8c9f-07ead427eb6a",
   "metadata": {},
   "outputs": [],
   "source": [
    "labColumns = cd[cd['Component'] == 'Laboratory'][\"Variable Name\"]\n",
    "for col in labColumns :\n",
    "    data[col].fillna(0, inplace = True)"
   ]
  },
  {
   "cell_type": "markdown",
   "id": "9786e345-2f06-4976-9c3e-73f391950480",
   "metadata": {},
   "source": [
    "#### 8. Final Missing Value Handling : Fill any remaining missing values in the dataset with zeros."
   ]
  },
  {
   "cell_type": "code",
   "execution_count": 11,
   "id": "8e622058-34bb-4b0e-8a22-d0610d3cc830",
   "metadata": {},
   "outputs": [],
   "source": [
    "data.fillna(0, inplace = True)"
   ]
  },
  {
   "cell_type": "markdown",
   "id": "93f548e6-02fb-4db2-9ed2-42311329e6dc",
   "metadata": {},
   "source": [
    "#### 9. Feature Selection : Select numerical features for clustering and drop non-essential columns."
   ]
  },
  {
   "cell_type": "code",
   "execution_count": 12,
   "id": "ee21c008-2990-434d-8eb5-7fe924be491a",
   "metadata": {},
   "outputs": [
    {
     "data": {
      "text/html": [
       "<div>\n",
       "<style scoped>\n",
       "    .dataframe tbody tr th:only-of-type {\n",
       "        vertical-align: middle;\n",
       "    }\n",
       "\n",
       "    .dataframe tbody tr th {\n",
       "        vertical-align: top;\n",
       "    }\n",
       "\n",
       "    .dataframe thead th {\n",
       "        text-align: right;\n",
       "    }\n",
       "</style>\n",
       "<table border=\"1\" class=\"dataframe\">\n",
       "  <thead>\n",
       "    <tr style=\"text-align: right;\">\n",
       "      <th></th>\n",
       "      <th>Variable Name</th>\n",
       "      <th>Variable Description</th>\n",
       "      <th>Data File Name</th>\n",
       "      <th>Data File Description</th>\n",
       "      <th>Begin Year</th>\n",
       "      <th>EndYear</th>\n",
       "      <th>Component</th>\n",
       "      <th>Use Constraints</th>\n",
       "    </tr>\n",
       "  </thead>\n",
       "  <tbody>\n",
       "  </tbody>\n",
       "</table>\n",
       "</div>"
      ],
      "text/plain": [
       "Empty DataFrame\n",
       "Columns: [Variable Name, Variable Description, Data File Name, Data File Description, Begin Year, EndYear, Component, Use Constraints]\n",
       "Index: []"
      ]
     },
     "execution_count": 12,
     "metadata": {},
     "output_type": "execute_result"
    }
   ],
   "source": [
    "cd[cd['Component'] != 'Dietary'][cd['Component'] != 'Demographics'][cd['Component'] != 'Laboratory']"
   ]
  },
  {
   "cell_type": "code",
   "execution_count": 13,
   "id": "265bfd2d-c72a-4a11-aefb-35b93d2372ff",
   "metadata": {},
   "outputs": [
    {
     "name": "stdout",
     "output_type": "stream",
     "text": [
      "(9813, 662)\n",
      "(636, 8)\n"
     ]
    }
   ],
   "source": [
    "print(data.shape)\n",
    "print(cd.shape)"
   ]
  },
  {
   "cell_type": "code",
   "execution_count": 14,
   "id": "84018d21-ec36-4f21-a744-a51fe7a792c4",
   "metadata": {},
   "outputs": [
    {
     "name": "stdout",
     "output_type": "stream",
     "text": [
      "47       WTDRD1\n",
      "48       WTDR2D\n",
      "49     DR1DRSTZ\n",
      "50     DR1EXMER\n",
      "51        DRABF\n",
      "         ...   \n",
      "631    URDUURLC\n",
      "632     URXPREG\n",
      "633      URXUAS\n",
      "634      LBDB12\n",
      "635    LBDB12SI\n",
      "Name: Variable Name, Length: 636, dtype: object\n"
     ]
    }
   ],
   "source": [
    "reqColumns = pd.concat([dieteryColumns, demographicsColumns, labColumns], axis=0)\n",
    "print(reqColumns)"
   ]
  },
  {
   "cell_type": "code",
   "execution_count": 18,
   "id": "473bdd48-871d-4e22-a1ee-b7ccffdee539",
   "metadata": {},
   "outputs": [],
   "source": [
    "features = reqColumns.dropna().astype(str).str.strip().tolist()\n",
    "features = [col for col in features if col in data.columns]\n",
    "new_data = data.drop(columns=features)"
   ]
  },
  {
   "cell_type": "code",
   "execution_count": 19,
   "id": "263e5f27-39d9-4784-8bfd-7dbb45c87e6d",
   "metadata": {},
   "outputs": [
    {
     "data": {
      "text/html": [
       "<div>\n",
       "<style scoped>\n",
       "    .dataframe tbody tr th:only-of-type {\n",
       "        vertical-align: middle;\n",
       "    }\n",
       "\n",
       "    .dataframe tbody tr th {\n",
       "        vertical-align: top;\n",
       "    }\n",
       "\n",
       "    .dataframe thead th {\n",
       "        text-align: right;\n",
       "    }\n",
       "</style>\n",
       "<table border=\"1\" class=\"dataframe\">\n",
       "  <thead>\n",
       "    <tr style=\"text-align: right;\">\n",
       "      <th></th>\n",
       "      <th>URXUCR.x</th>\n",
       "      <th>WTSAF2YR.x</th>\n",
       "      <th>WTSA2YR.x</th>\n",
       "      <th>URXUCR.y</th>\n",
       "      <th>WTSB2YR.x</th>\n",
       "      <th>PHAFSTHR.x</th>\n",
       "      <th>PHAFSTMN.x</th>\n",
       "      <th>LBDRPCR.x</th>\n",
       "      <th>LBDRHP.x</th>\n",
       "      <th>LBDRLP.x</th>\n",
       "      <th>...</th>\n",
       "      <th>ar16</th>\n",
       "      <th>ar17</th>\n",
       "      <th>ar18</th>\n",
       "      <th>ar19</th>\n",
       "      <th>ar20</th>\n",
       "      <th>ar21</th>\n",
       "      <th>ar22</th>\n",
       "      <th>ar23</th>\n",
       "      <th>ar24</th>\n",
       "      <th>ar25</th>\n",
       "    </tr>\n",
       "  </thead>\n",
       "  <tbody>\n",
       "    <tr>\n",
       "      <th>0</th>\n",
       "      <td>39.0</td>\n",
       "      <td>0.0</td>\n",
       "      <td>0.0</td>\n",
       "      <td>0.0</td>\n",
       "      <td>0.0</td>\n",
       "      <td>3.0</td>\n",
       "      <td>47.0</td>\n",
       "      <td>0.0</td>\n",
       "      <td>0.0</td>\n",
       "      <td>0.0</td>\n",
       "      <td>...</td>\n",
       "      <td>1.470207</td>\n",
       "      <td>4.864849</td>\n",
       "      <td>3.636711</td>\n",
       "      <td>-9.174492</td>\n",
       "      <td>-9.353410</td>\n",
       "      <td>5.153847</td>\n",
       "      <td>1.294983</td>\n",
       "      <td>-1.015693</td>\n",
       "      <td>-8.671692</td>\n",
       "      <td>5.423061</td>\n",
       "    </tr>\n",
       "    <tr>\n",
       "      <th>1</th>\n",
       "      <td>50.0</td>\n",
       "      <td>0.0</td>\n",
       "      <td>0.0</td>\n",
       "      <td>0.0</td>\n",
       "      <td>0.0</td>\n",
       "      <td>3.0</td>\n",
       "      <td>14.0</td>\n",
       "      <td>1.0</td>\n",
       "      <td>1.0</td>\n",
       "      <td>1.0</td>\n",
       "      <td>...</td>\n",
       "      <td>-7.363791</td>\n",
       "      <td>-2.566326</td>\n",
       "      <td>0.776046</td>\n",
       "      <td>-2.951925</td>\n",
       "      <td>-0.538597</td>\n",
       "      <td>3.770290</td>\n",
       "      <td>6.711471</td>\n",
       "      <td>3.521875</td>\n",
       "      <td>-1.765809</td>\n",
       "      <td>-5.383746</td>\n",
       "    </tr>\n",
       "  </tbody>\n",
       "</table>\n",
       "<p>2 rows × 120 columns</p>\n",
       "</div>"
      ],
      "text/plain": [
       "   URXUCR.x  WTSAF2YR.x  WTSA2YR.x  URXUCR.y  WTSB2YR.x  PHAFSTHR.x  \\\n",
       "0      39.0         0.0        0.0       0.0        0.0         3.0   \n",
       "1      50.0         0.0        0.0       0.0        0.0         3.0   \n",
       "\n",
       "   PHAFSTMN.x  LBDRPCR.x  LBDRHP.x  LBDRLP.x  ...      ar16      ar17  \\\n",
       "0        47.0        0.0       0.0       0.0  ...  1.470207  4.864849   \n",
       "1        14.0        1.0       1.0       1.0  ... -7.363791 -2.566326   \n",
       "\n",
       "       ar18      ar19      ar20      ar21      ar22      ar23      ar24  \\\n",
       "0  3.636711 -9.174492 -9.353410  5.153847  1.294983 -1.015693 -8.671692   \n",
       "1  0.776046 -2.951925 -0.538597  3.770290  6.711471  3.521875 -1.765809   \n",
       "\n",
       "       ar25  \n",
       "0  5.423061  \n",
       "1 -5.383746  \n",
       "\n",
       "[2 rows x 120 columns]"
      ]
     },
     "execution_count": 19,
     "metadata": {},
     "output_type": "execute_result"
    }
   ],
   "source": [
    "new_data.head(2)"
   ]
  },
  {
   "cell_type": "code",
   "execution_count": 20,
   "id": "ecd550b9-84dd-4991-888e-9f514224cf17",
   "metadata": {},
   "outputs": [],
   "source": [
    "data = data[features]"
   ]
  },
  {
   "cell_type": "code",
   "execution_count": 21,
   "id": "a8a95885-e610-4db7-b8ed-7bad0080f27e",
   "metadata": {},
   "outputs": [
    {
     "name": "stdout",
     "output_type": "stream",
     "text": [
      "(9813, 636)\n",
      "(636, 8)\n"
     ]
    }
   ],
   "source": [
    "print(data.shape)"
   ]
  },
  {
   "cell_type": "markdown",
   "id": "e5eff8c3-9577-41df-859f-1bdbfd745047",
   "metadata": {},
   "source": [
    "#### 10. Data Transformation : Scale the numerical features using MinMaxScaler"
   ]
  },
  {
   "cell_type": "code",
   "execution_count": 26,
   "id": "50666168-da1c-4732-be1c-b2ac22a41db3",
   "metadata": {},
   "outputs": [],
   "source": [
    "scaler = MinMaxScaler()\n",
    "data_scaled = scaler.fit_transform(data)"
   ]
  },
  {
   "cell_type": "code",
   "execution_count": null,
   "id": "8b657379-8517-484f-ae2f-129f876b67d7",
   "metadata": {},
   "outputs": [],
   "source": []
  },
  {
   "cell_type": "code",
   "execution_count": null,
   "id": "51e4afb7-37de-482f-b462-f2e9754492a5",
   "metadata": {},
   "outputs": [],
   "source": []
  },
  {
   "cell_type": "code",
   "execution_count": null,
   "id": "76cafd3b-1f68-4dcc-8c6d-fbd5fe925126",
   "metadata": {},
   "outputs": [],
   "source": []
  },
  {
   "cell_type": "code",
   "execution_count": null,
   "id": "49d7fed9-5384-4018-b234-17b85dfa3dd5",
   "metadata": {},
   "outputs": [],
   "source": []
  },
  {
   "cell_type": "code",
   "execution_count": null,
   "id": "05712d0b-a393-4bc4-8e30-75dc66f09370",
   "metadata": {},
   "outputs": [],
   "source": []
  },
  {
   "cell_type": "code",
   "execution_count": null,
   "id": "1c8e05ac-fcf5-4f2a-b77e-fffd0e35b716",
   "metadata": {},
   "outputs": [],
   "source": []
  },
  {
   "cell_type": "code",
   "execution_count": null,
   "id": "792fa7ca-fb06-4f9f-ab0f-7c71ed2ccea2",
   "metadata": {},
   "outputs": [],
   "source": []
  },
  {
   "cell_type": "code",
   "execution_count": null,
   "id": "59a9c0d8-26e6-4196-8e5b-f4c1489e009b",
   "metadata": {},
   "outputs": [],
   "source": []
  },
  {
   "cell_type": "code",
   "execution_count": null,
   "id": "18df8fdb-89eb-4c21-aafb-1b938649b7b9",
   "metadata": {},
   "outputs": [],
   "source": []
  },
  {
   "cell_type": "code",
   "execution_count": null,
   "id": "192912c7-fb33-4cee-bf2a-fa3cee252c6a",
   "metadata": {},
   "outputs": [],
   "source": []
  },
  {
   "cell_type": "code",
   "execution_count": null,
   "id": "0ffed161-d868-4cec-9645-61fee116db50",
   "metadata": {},
   "outputs": [],
   "source": []
  },
  {
   "cell_type": "code",
   "execution_count": null,
   "id": "5a0c61e1-3361-4901-96f4-afe16fe3039b",
   "metadata": {},
   "outputs": [],
   "source": []
  },
  {
   "cell_type": "code",
   "execution_count": null,
   "id": "a916f5c4-d2b9-466c-85bb-8773b57b0821",
   "metadata": {},
   "outputs": [],
   "source": []
  },
  {
   "cell_type": "code",
   "execution_count": null,
   "id": "0f834bec-41c0-4b3f-b63b-d2aa0451ef34",
   "metadata": {},
   "outputs": [],
   "source": []
  },
  {
   "cell_type": "code",
   "execution_count": null,
   "id": "bdbf0f34-734f-404f-83b7-fee86d2f7cdf",
   "metadata": {},
   "outputs": [],
   "source": []
  },
  {
   "cell_type": "code",
   "execution_count": null,
   "id": "bedbae15-05be-42e1-bd35-45f1875f6714",
   "metadata": {},
   "outputs": [],
   "source": []
  },
  {
   "cell_type": "code",
   "execution_count": null,
   "id": "d57e7622-5f76-4f02-85ee-ba1329aac055",
   "metadata": {},
   "outputs": [],
   "source": []
  },
  {
   "cell_type": "code",
   "execution_count": null,
   "id": "5b741dea-9a41-4557-a8e4-cffd6c4f02f0",
   "metadata": {},
   "outputs": [],
   "source": []
  },
  {
   "cell_type": "code",
   "execution_count": null,
   "id": "98d19596-7169-4409-ae38-1134e98428d3",
   "metadata": {},
   "outputs": [],
   "source": []
  },
  {
   "cell_type": "code",
   "execution_count": null,
   "id": "54d4afe6-4e13-47ed-9fc8-a4a0d05325d2",
   "metadata": {},
   "outputs": [],
   "source": []
  },
  {
   "cell_type": "code",
   "execution_count": null,
   "id": "1cd80830-a331-4006-af64-2f63d7e1162a",
   "metadata": {},
   "outputs": [],
   "source": []
  },
  {
   "cell_type": "code",
   "execution_count": null,
   "id": "3543b9d6-089d-47fd-8d57-944f7d224d1e",
   "metadata": {},
   "outputs": [],
   "source": []
  },
  {
   "cell_type": "code",
   "execution_count": null,
   "id": "ceb2fd1f-1fe2-4ea5-b3d6-16be5b1b3cff",
   "metadata": {},
   "outputs": [],
   "source": []
  },
  {
   "cell_type": "code",
   "execution_count": null,
   "id": "8dffed62-bae1-4434-9067-8b1466d3be0e",
   "metadata": {},
   "outputs": [],
   "source": []
  },
  {
   "cell_type": "code",
   "execution_count": null,
   "id": "cc142261-5a67-4431-ac04-0ec8ad4ba206",
   "metadata": {},
   "outputs": [],
   "source": []
  },
  {
   "cell_type": "code",
   "execution_count": null,
   "id": "48aea1a0-a2db-4230-bc26-e308a1541b30",
   "metadata": {},
   "outputs": [],
   "source": []
  },
  {
   "cell_type": "code",
   "execution_count": null,
   "id": "e11ae6c8-8a83-43a5-ad1b-30b3bcbdf7c5",
   "metadata": {},
   "outputs": [],
   "source": []
  },
  {
   "cell_type": "code",
   "execution_count": null,
   "id": "592af867-f6c0-4405-91af-c27175797637",
   "metadata": {},
   "outputs": [],
   "source": []
  },
  {
   "cell_type": "code",
   "execution_count": null,
   "id": "6e651f44-dece-4997-8665-f6aaf21d666a",
   "metadata": {},
   "outputs": [],
   "source": []
  },
  {
   "cell_type": "code",
   "execution_count": null,
   "id": "14da62b4-d18e-4afa-b32f-b6201e58af37",
   "metadata": {},
   "outputs": [],
   "source": []
  },
  {
   "cell_type": "code",
   "execution_count": null,
   "id": "cb9a2acf-23f8-4142-801a-df2e3e71de9e",
   "metadata": {},
   "outputs": [],
   "source": []
  },
  {
   "cell_type": "code",
   "execution_count": null,
   "id": "dbb4abc9-2bae-4240-833d-51934343392a",
   "metadata": {},
   "outputs": [],
   "source": []
  },
  {
   "cell_type": "code",
   "execution_count": null,
   "id": "0c5527fe-5b52-4790-b78e-37ebae126914",
   "metadata": {},
   "outputs": [],
   "source": []
  },
  {
   "cell_type": "code",
   "execution_count": null,
   "id": "18ddcebd-91c8-4c76-8f04-047a4b42826d",
   "metadata": {},
   "outputs": [],
   "source": []
  },
  {
   "cell_type": "code",
   "execution_count": null,
   "id": "dde4300b-46fe-4896-b015-de7c0038a3d4",
   "metadata": {},
   "outputs": [],
   "source": []
  },
  {
   "cell_type": "code",
   "execution_count": null,
   "id": "723b7bef-036c-4a5d-906b-26f80c7c7f85",
   "metadata": {},
   "outputs": [],
   "source": []
  },
  {
   "cell_type": "code",
   "execution_count": null,
   "id": "e25ff546-ccd8-47f7-9fa9-96095b85c3aa",
   "metadata": {},
   "outputs": [],
   "source": []
  },
  {
   "cell_type": "code",
   "execution_count": null,
   "id": "2b106cf9-9339-441b-9334-d7619dc98bf2",
   "metadata": {},
   "outputs": [],
   "source": []
  },
  {
   "cell_type": "code",
   "execution_count": null,
   "id": "2a17ca54-1f99-4377-95b3-542a0ec94e11",
   "metadata": {},
   "outputs": [],
   "source": []
  },
  {
   "cell_type": "code",
   "execution_count": null,
   "id": "c9562d4e-c2a0-4a0a-9daf-72c9d6ce7423",
   "metadata": {},
   "outputs": [],
   "source": []
  },
  {
   "cell_type": "code",
   "execution_count": null,
   "id": "7db8bf70-9d43-4faa-871e-70d7718e6688",
   "metadata": {},
   "outputs": [],
   "source": []
  }
 ],
 "metadata": {
  "kernelspec": {
   "display_name": "Python 3 (ipykernel)",
   "language": "python",
   "name": "python3"
  },
  "language_info": {
   "codemirror_mode": {
    "name": "ipython",
    "version": 3
   },
   "file_extension": ".py",
   "mimetype": "text/x-python",
   "name": "python",
   "nbconvert_exporter": "python",
   "pygments_lexer": "ipython3",
   "version": "3.12.7"
  }
 },
 "nbformat": 4,
 "nbformat_minor": 5
}
