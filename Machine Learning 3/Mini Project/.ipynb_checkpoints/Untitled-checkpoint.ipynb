{
 "cells": [
  {
   "cell_type": "code",
   "execution_count": null,
   "id": "f6b059ea-6ef4-43a9-bdd6-1ac9ce09b8b8",
   "metadata": {},
   "outputs": [],
   "source": [
    "highly_corr_cols_to_delete = [\n",
    "    \"RIDRETH3\",\n",
    "    \"SIAPROXY\",\n",
    "    \"URXPREG\",\n",
    "    \"MIALANG\",\n",
    "    \"MIAINTRP\",\n",
    "    \"DMDFMSIZ\",\n",
    "    \"WTMEC2YR\",\n",
    "    \"INDFMIN2\",\n",
    "    \"DRABF\"\n",
    "]"
   ]
  }
 ],
 "metadata": {
  "kernelspec": {
   "display_name": "Python 3 (ipykernel)",
   "language": "python",
   "name": "python3"
  },
  "language_info": {
   "codemirror_mode": {
    "name": "ipython",
    "version": 3
   },
   "file_extension": ".py",
   "mimetype": "text/x-python",
   "name": "python",
   "nbconvert_exporter": "python",
   "pygments_lexer": "ipython3",
   "version": "3.12.7"
  }
 },
 "nbformat": 4,
 "nbformat_minor": 5
}
