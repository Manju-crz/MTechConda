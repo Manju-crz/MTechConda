{
 "cells": [
  {
   "cell_type": "code",
   "execution_count": 19,
   "id": "59f01d0f-2751-493b-a84d-240bc2f08458",
   "metadata": {},
   "outputs": [],
   "source": [
    "# Import required libraries\n",
    "import pandas as pd\n",
    "from sklearn.model_selection import train_test_split\n",
    "from sklearn.preprocessing import LabelEncoder\n",
    "from sklearn.ensemble import RandomForestClassifier\n",
    "from sklearn.metrics import accuracy_score"
   ]
  },
  {
   "cell_type": "code",
   "execution_count": 20,
   "id": "bb9bef73-604d-4c9a-991b-7d13c024c5e2",
   "metadata": {},
   "outputs": [],
   "source": [
    "train_data = pd.read_csv('Train_Dataset.csv')\n",
    "test_data = pd.read_csv('Test_Dataset.csv')\n",
    "test_employee_ids = test_data['EmployeeID']"
   ]
  },
  {
   "cell_type": "markdown",
   "id": "88405076-ea3f-4df9-b175-b7d8e07c15f7",
   "metadata": {
    "jp-MarkdownHeadingCollapsed": true
   },
   "source": [
    "## Understanding the data"
   ]
  },
  {
   "cell_type": "code",
   "execution_count": 61,
   "id": "3bf112b2-48df-458d-8222-5d58f1e38403",
   "metadata": {},
   "outputs": [
    {
     "data": {
      "text/html": [
       "<div>\n",
       "<style scoped>\n",
       "    .dataframe tbody tr th:only-of-type {\n",
       "        vertical-align: middle;\n",
       "    }\n",
       "\n",
       "    .dataframe tbody tr th {\n",
       "        vertical-align: top;\n",
       "    }\n",
       "\n",
       "    .dataframe thead th {\n",
       "        text-align: right;\n",
       "    }\n",
       "</style>\n",
       "<table border=\"1\" class=\"dataframe\">\n",
       "  <thead>\n",
       "    <tr style=\"text-align: right;\">\n",
       "      <th></th>\n",
       "      <th>Age</th>\n",
       "      <th>TravelProfile</th>\n",
       "      <th>Department</th>\n",
       "      <th>HomeToWork</th>\n",
       "      <th>EducationField</th>\n",
       "      <th>Gender</th>\n",
       "      <th>HourlnWeek</th>\n",
       "      <th>Involvement</th>\n",
       "      <th>WorkLifeBalance</th>\n",
       "      <th>Designation</th>\n",
       "      <th>JobSatisfaction</th>\n",
       "      <th>ESOPs</th>\n",
       "      <th>NumCompaniesWorked</th>\n",
       "      <th>OverTime</th>\n",
       "      <th>SalaryHikelastYear</th>\n",
       "      <th>WorkExperience</th>\n",
       "      <th>LastPromotion</th>\n",
       "      <th>CurrentProfile</th>\n",
       "      <th>MaritalStatus</th>\n",
       "      <th>MonthlyIncome</th>\n",
       "    </tr>\n",
       "  </thead>\n",
       "  <tbody>\n",
       "    <tr>\n",
       "      <th>0</th>\n",
       "      <td>35.0</td>\n",
       "      <td>Rarely</td>\n",
       "      <td>Analytics</td>\n",
       "      <td>5.0</td>\n",
       "      <td>CA</td>\n",
       "      <td>Male</td>\n",
       "      <td>69.0</td>\n",
       "      <td>1.0</td>\n",
       "      <td>1.0</td>\n",
       "      <td>Executive</td>\n",
       "      <td>1.0</td>\n",
       "      <td>1.0</td>\n",
       "      <td>1.0</td>\n",
       "      <td>1.0</td>\n",
       "      <td>20.0</td>\n",
       "      <td>7.0</td>\n",
       "      <td>2.0</td>\n",
       "      <td>NaN</td>\n",
       "      <td>M</td>\n",
       "      <td>18932.0</td>\n",
       "    </tr>\n",
       "    <tr>\n",
       "      <th>1</th>\n",
       "      <td>32.0</td>\n",
       "      <td>Yes</td>\n",
       "      <td>Sales</td>\n",
       "      <td>5.0</td>\n",
       "      <td>Statistics</td>\n",
       "      <td>Female</td>\n",
       "      <td>62.0</td>\n",
       "      <td>4.0</td>\n",
       "      <td>3.0</td>\n",
       "      <td>Executive</td>\n",
       "      <td>2.0</td>\n",
       "      <td>0.0</td>\n",
       "      <td>8.0</td>\n",
       "      <td>0.0</td>\n",
       "      <td>20.0</td>\n",
       "      <td>4.0</td>\n",
       "      <td>1.0</td>\n",
       "      <td>NaN</td>\n",
       "      <td>Single</td>\n",
       "      <td>18785.0</td>\n",
       "    </tr>\n",
       "    <tr>\n",
       "      <th>2</th>\n",
       "      <td>31.0</td>\n",
       "      <td>Rarely</td>\n",
       "      <td>Analytics</td>\n",
       "      <td>5.0</td>\n",
       "      <td>Statistics</td>\n",
       "      <td>F</td>\n",
       "      <td>45.0</td>\n",
       "      <td>5.0</td>\n",
       "      <td>3.0</td>\n",
       "      <td>Manager</td>\n",
       "      <td>2.0</td>\n",
       "      <td>1.0</td>\n",
       "      <td>3.0</td>\n",
       "      <td>0.0</td>\n",
       "      <td>26.0</td>\n",
       "      <td>12.0</td>\n",
       "      <td>1.0</td>\n",
       "      <td>3.0</td>\n",
       "      <td>Single</td>\n",
       "      <td>22091.0</td>\n",
       "    </tr>\n",
       "    <tr>\n",
       "      <th>3</th>\n",
       "      <td>34.0</td>\n",
       "      <td>Yes</td>\n",
       "      <td>Sales</td>\n",
       "      <td>10.0</td>\n",
       "      <td>Statistics</td>\n",
       "      <td>Female</td>\n",
       "      <td>32.0</td>\n",
       "      <td>3.0</td>\n",
       "      <td>2.0</td>\n",
       "      <td>Manager</td>\n",
       "      <td>4.0</td>\n",
       "      <td>1.0</td>\n",
       "      <td>1.0</td>\n",
       "      <td>0.0</td>\n",
       "      <td>23.0</td>\n",
       "      <td>5.0</td>\n",
       "      <td>1.0</td>\n",
       "      <td>3.0</td>\n",
       "      <td>Divorsed</td>\n",
       "      <td>20302.0</td>\n",
       "    </tr>\n",
       "    <tr>\n",
       "      <th>4</th>\n",
       "      <td>37.0</td>\n",
       "      <td>No</td>\n",
       "      <td>Analytics</td>\n",
       "      <td>27.0</td>\n",
       "      <td>Statistics</td>\n",
       "      <td>Female</td>\n",
       "      <td>49.0</td>\n",
       "      <td>3.0</td>\n",
       "      <td>4.0</td>\n",
       "      <td>Manager</td>\n",
       "      <td>4.0</td>\n",
       "      <td>1.0</td>\n",
       "      <td>8.0</td>\n",
       "      <td>0.0</td>\n",
       "      <td>21.0</td>\n",
       "      <td>12.0</td>\n",
       "      <td>1.0</td>\n",
       "      <td>9.0</td>\n",
       "      <td>Divorsed</td>\n",
       "      <td>21674.0</td>\n",
       "    </tr>\n",
       "  </tbody>\n",
       "</table>\n",
       "</div>"
      ],
      "text/plain": [
       "    Age TravelProfile Department  HomeToWork EducationField  Gender  \\\n",
       "0  35.0        Rarely  Analytics         5.0             CA    Male   \n",
       "1  32.0           Yes      Sales         5.0     Statistics  Female   \n",
       "2  31.0        Rarely  Analytics         5.0     Statistics       F   \n",
       "3  34.0           Yes      Sales        10.0     Statistics  Female   \n",
       "4  37.0            No  Analytics        27.0     Statistics  Female   \n",
       "\n",
       "   HourlnWeek  Involvement  WorkLifeBalance Designation  JobSatisfaction  \\\n",
       "0        69.0          1.0              1.0   Executive              1.0   \n",
       "1        62.0          4.0              3.0   Executive              2.0   \n",
       "2        45.0          5.0              3.0     Manager              2.0   \n",
       "3        32.0          3.0              2.0     Manager              4.0   \n",
       "4        49.0          3.0              4.0     Manager              4.0   \n",
       "\n",
       "   ESOPs  NumCompaniesWorked  OverTime  SalaryHikelastYear  WorkExperience  \\\n",
       "0    1.0                 1.0       1.0                20.0             7.0   \n",
       "1    0.0                 8.0       0.0                20.0             4.0   \n",
       "2    1.0                 3.0       0.0                26.0            12.0   \n",
       "3    1.0                 1.0       0.0                23.0             5.0   \n",
       "4    1.0                 8.0       0.0                21.0            12.0   \n",
       "\n",
       "   LastPromotion  CurrentProfile MaritalStatus  MonthlyIncome  \n",
       "0            2.0             NaN             M        18932.0  \n",
       "1            1.0             NaN        Single        18785.0  \n",
       "2            1.0             3.0        Single        22091.0  \n",
       "3            1.0             3.0      Divorsed        20302.0  \n",
       "4            1.0             9.0      Divorsed        21674.0  "
      ]
     },
     "execution_count": 61,
     "metadata": {},
     "output_type": "execute_result"
    }
   ],
   "source": [
    "train_data.head()"
   ]
  },
  {
   "cell_type": "code",
   "execution_count": 63,
   "id": "fcd72fc2-73b2-4b29-afe3-93ded912c909",
   "metadata": {},
   "outputs": [
    {
     "data": {
      "text/html": [
       "<div>\n",
       "<style scoped>\n",
       "    .dataframe tbody tr th:only-of-type {\n",
       "        vertical-align: middle;\n",
       "    }\n",
       "\n",
       "    .dataframe tbody tr th {\n",
       "        vertical-align: top;\n",
       "    }\n",
       "\n",
       "    .dataframe thead th {\n",
       "        text-align: right;\n",
       "    }\n",
       "</style>\n",
       "<table border=\"1\" class=\"dataframe\">\n",
       "  <thead>\n",
       "    <tr style=\"text-align: right;\">\n",
       "      <th></th>\n",
       "      <th>Age</th>\n",
       "      <th>TravelProfile</th>\n",
       "      <th>Department</th>\n",
       "      <th>HomeToWork</th>\n",
       "      <th>EducationField</th>\n",
       "      <th>Gender</th>\n",
       "      <th>HourlnWeek</th>\n",
       "      <th>Involvement</th>\n",
       "      <th>WorkLifeBalance</th>\n",
       "      <th>Designation</th>\n",
       "      <th>JobSatisfaction</th>\n",
       "      <th>ESOPs</th>\n",
       "      <th>NumCompaniesWorked</th>\n",
       "      <th>OverTime</th>\n",
       "      <th>SalaryHikelastYear</th>\n",
       "      <th>WorkExperience</th>\n",
       "      <th>LastPromotion</th>\n",
       "      <th>CurrentProfile</th>\n",
       "      <th>MaritalStatus</th>\n",
       "      <th>MonthlyIncome</th>\n",
       "    </tr>\n",
       "  </thead>\n",
       "  <tbody>\n",
       "    <tr>\n",
       "      <th>0</th>\n",
       "      <td>18.0</td>\n",
       "      <td>No</td>\n",
       "      <td>NaN</td>\n",
       "      <td>9.0</td>\n",
       "      <td>CA</td>\n",
       "      <td>Male</td>\n",
       "      <td>80.0</td>\n",
       "      <td>3</td>\n",
       "      <td>2</td>\n",
       "      <td>Executive</td>\n",
       "      <td>3</td>\n",
       "      <td>1</td>\n",
       "      <td>1</td>\n",
       "      <td>0</td>\n",
       "      <td>17.0</td>\n",
       "      <td>0.0</td>\n",
       "      <td>0.0</td>\n",
       "      <td>0.0</td>\n",
       "      <td>Single</td>\n",
       "      <td>16904.0</td>\n",
       "    </tr>\n",
       "    <tr>\n",
       "      <th>1</th>\n",
       "      <td>20.0</td>\n",
       "      <td>Rarely</td>\n",
       "      <td>Analytics</td>\n",
       "      <td>28.0</td>\n",
       "      <td>Statistics</td>\n",
       "      <td>Female</td>\n",
       "      <td>59.0</td>\n",
       "      <td>1</td>\n",
       "      <td>3</td>\n",
       "      <td>Executive</td>\n",
       "      <td>1</td>\n",
       "      <td>1</td>\n",
       "      <td>2</td>\n",
       "      <td>1</td>\n",
       "      <td>18.0</td>\n",
       "      <td>2.0</td>\n",
       "      <td>1.0</td>\n",
       "      <td>NaN</td>\n",
       "      <td>Single</td>\n",
       "      <td>18994.0</td>\n",
       "    </tr>\n",
       "    <tr>\n",
       "      <th>2</th>\n",
       "      <td>50.0</td>\n",
       "      <td>Rarely</td>\n",
       "      <td>Analytics</td>\n",
       "      <td>19.0</td>\n",
       "      <td>CA</td>\n",
       "      <td>Female</td>\n",
       "      <td>76.0</td>\n",
       "      <td>3</td>\n",
       "      <td>3</td>\n",
       "      <td>Executive</td>\n",
       "      <td>5</td>\n",
       "      <td>0</td>\n",
       "      <td>5</td>\n",
       "      <td>1</td>\n",
       "      <td>22.0</td>\n",
       "      <td>18.0</td>\n",
       "      <td>3.0</td>\n",
       "      <td>3.0</td>\n",
       "      <td>M</td>\n",
       "      <td>18587.0</td>\n",
       "    </tr>\n",
       "    <tr>\n",
       "      <th>3</th>\n",
       "      <td>32.0</td>\n",
       "      <td>Rarely</td>\n",
       "      <td>Sales</td>\n",
       "      <td>23.0</td>\n",
       "      <td>Statistics</td>\n",
       "      <td>Female</td>\n",
       "      <td>73.0</td>\n",
       "      <td>5</td>\n",
       "      <td>2</td>\n",
       "      <td>Manager</td>\n",
       "      <td>3</td>\n",
       "      <td>0</td>\n",
       "      <td>4</td>\n",
       "      <td>1</td>\n",
       "      <td>17.0</td>\n",
       "      <td>5.0</td>\n",
       "      <td>3.0</td>\n",
       "      <td>3.0</td>\n",
       "      <td>Married</td>\n",
       "      <td>20559.0</td>\n",
       "    </tr>\n",
       "    <tr>\n",
       "      <th>4</th>\n",
       "      <td>39.0</td>\n",
       "      <td>Rarely</td>\n",
       "      <td>Analytics</td>\n",
       "      <td>7.0</td>\n",
       "      <td>CA</td>\n",
       "      <td>Male</td>\n",
       "      <td>42.0</td>\n",
       "      <td>4</td>\n",
       "      <td>1</td>\n",
       "      <td>Senior Manager</td>\n",
       "      <td>5</td>\n",
       "      <td>1</td>\n",
       "      <td>4</td>\n",
       "      <td>0</td>\n",
       "      <td>20.0</td>\n",
       "      <td>9.0</td>\n",
       "      <td>1.0</td>\n",
       "      <td>7.0</td>\n",
       "      <td>Married</td>\n",
       "      <td>24991.0</td>\n",
       "    </tr>\n",
       "  </tbody>\n",
       "</table>\n",
       "</div>"
      ],
      "text/plain": [
       "    Age TravelProfile Department  HomeToWork EducationField  Gender  \\\n",
       "0  18.0            No        NaN         9.0             CA    Male   \n",
       "1  20.0        Rarely  Analytics        28.0     Statistics  Female   \n",
       "2  50.0        Rarely  Analytics        19.0             CA  Female   \n",
       "3  32.0        Rarely      Sales        23.0     Statistics  Female   \n",
       "4  39.0        Rarely  Analytics         7.0             CA    Male   \n",
       "\n",
       "   HourlnWeek  Involvement  WorkLifeBalance     Designation  JobSatisfaction  \\\n",
       "0        80.0            3                2       Executive                3   \n",
       "1        59.0            1                3       Executive                1   \n",
       "2        76.0            3                3       Executive                5   \n",
       "3        73.0            5                2         Manager                3   \n",
       "4        42.0            4                1  Senior Manager                5   \n",
       "\n",
       "   ESOPs  NumCompaniesWorked  OverTime  SalaryHikelastYear  WorkExperience  \\\n",
       "0      1                   1         0                17.0             0.0   \n",
       "1      1                   2         1                18.0             2.0   \n",
       "2      0                   5         1                22.0            18.0   \n",
       "3      0                   4         1                17.0             5.0   \n",
       "4      1                   4         0                20.0             9.0   \n",
       "\n",
       "   LastPromotion  CurrentProfile MaritalStatus  MonthlyIncome  \n",
       "0            0.0             0.0        Single        16904.0  \n",
       "1            1.0             NaN        Single        18994.0  \n",
       "2            3.0             3.0             M        18587.0  \n",
       "3            3.0             3.0       Married        20559.0  \n",
       "4            1.0             7.0       Married        24991.0  "
      ]
     },
     "execution_count": 63,
     "metadata": {},
     "output_type": "execute_result"
    }
   ],
   "source": [
    "test_data.head()"
   ]
  },
  {
   "cell_type": "code",
   "execution_count": 21,
   "id": "58e8a0bf-39f7-4d09-aa0c-ec73b8ed9527",
   "metadata": {},
   "outputs": [],
   "source": [
    "# Drop EmployeeID from both train and test (not useful for model training)\n",
    "train_data = train_data.drop(['EmployeeID','Attrition'], axis=1)\n",
    "test_data = test_data.drop('EmployeeID', axis=1)\n",
    "data = pd.concat([train_data, test_data], axis=0)"
   ]
  },
  {
   "cell_type": "code",
   "execution_count": 31,
   "id": "0d4ce7d6-5b80-4100-8669-2b2f94155598",
   "metadata": {},
   "outputs": [
    {
     "data": {
      "text/html": [
       "<div>\n",
       "<style scoped>\n",
       "    .dataframe tbody tr th:only-of-type {\n",
       "        vertical-align: middle;\n",
       "    }\n",
       "\n",
       "    .dataframe tbody tr th {\n",
       "        vertical-align: top;\n",
       "    }\n",
       "\n",
       "    .dataframe thead th {\n",
       "        text-align: right;\n",
       "    }\n",
       "</style>\n",
       "<table border=\"1\" class=\"dataframe\">\n",
       "  <thead>\n",
       "    <tr style=\"text-align: right;\">\n",
       "      <th></th>\n",
       "      <th>Age</th>\n",
       "      <th>TravelProfile</th>\n",
       "      <th>Department</th>\n",
       "      <th>HomeToWork</th>\n",
       "      <th>EducationField</th>\n",
       "      <th>Gender</th>\n",
       "      <th>HourlnWeek</th>\n",
       "      <th>Involvement</th>\n",
       "      <th>WorkLifeBalance</th>\n",
       "      <th>Designation</th>\n",
       "      <th>JobSatisfaction</th>\n",
       "      <th>ESOPs</th>\n",
       "      <th>NumCompaniesWorked</th>\n",
       "      <th>OverTime</th>\n",
       "      <th>SalaryHikelastYear</th>\n",
       "      <th>WorkExperience</th>\n",
       "      <th>LastPromotion</th>\n",
       "      <th>CurrentProfile</th>\n",
       "      <th>MaritalStatus</th>\n",
       "      <th>MonthlyIncome</th>\n",
       "    </tr>\n",
       "  </thead>\n",
       "  <tbody>\n",
       "    <tr>\n",
       "      <th>0</th>\n",
       "      <td>35.0</td>\n",
       "      <td>Rarely</td>\n",
       "      <td>Analytics</td>\n",
       "      <td>5.0</td>\n",
       "      <td>CA</td>\n",
       "      <td>Male</td>\n",
       "      <td>69.0</td>\n",
       "      <td>1.0</td>\n",
       "      <td>1.0</td>\n",
       "      <td>Executive</td>\n",
       "      <td>1.0</td>\n",
       "      <td>1.0</td>\n",
       "      <td>1.0</td>\n",
       "      <td>1.0</td>\n",
       "      <td>20.0</td>\n",
       "      <td>7.0</td>\n",
       "      <td>2.0</td>\n",
       "      <td>NaN</td>\n",
       "      <td>M</td>\n",
       "      <td>18932.0</td>\n",
       "    </tr>\n",
       "    <tr>\n",
       "      <th>1</th>\n",
       "      <td>32.0</td>\n",
       "      <td>Yes</td>\n",
       "      <td>Sales</td>\n",
       "      <td>5.0</td>\n",
       "      <td>Statistics</td>\n",
       "      <td>Female</td>\n",
       "      <td>62.0</td>\n",
       "      <td>4.0</td>\n",
       "      <td>3.0</td>\n",
       "      <td>Executive</td>\n",
       "      <td>2.0</td>\n",
       "      <td>0.0</td>\n",
       "      <td>8.0</td>\n",
       "      <td>0.0</td>\n",
       "      <td>20.0</td>\n",
       "      <td>4.0</td>\n",
       "      <td>1.0</td>\n",
       "      <td>NaN</td>\n",
       "      <td>Single</td>\n",
       "      <td>18785.0</td>\n",
       "    </tr>\n",
       "    <tr>\n",
       "      <th>2</th>\n",
       "      <td>31.0</td>\n",
       "      <td>Rarely</td>\n",
       "      <td>Analytics</td>\n",
       "      <td>5.0</td>\n",
       "      <td>Statistics</td>\n",
       "      <td>F</td>\n",
       "      <td>45.0</td>\n",
       "      <td>5.0</td>\n",
       "      <td>3.0</td>\n",
       "      <td>Manager</td>\n",
       "      <td>2.0</td>\n",
       "      <td>1.0</td>\n",
       "      <td>3.0</td>\n",
       "      <td>0.0</td>\n",
       "      <td>26.0</td>\n",
       "      <td>12.0</td>\n",
       "      <td>1.0</td>\n",
       "      <td>3.0</td>\n",
       "      <td>Single</td>\n",
       "      <td>22091.0</td>\n",
       "    </tr>\n",
       "    <tr>\n",
       "      <th>3</th>\n",
       "      <td>34.0</td>\n",
       "      <td>Yes</td>\n",
       "      <td>Sales</td>\n",
       "      <td>10.0</td>\n",
       "      <td>Statistics</td>\n",
       "      <td>Female</td>\n",
       "      <td>32.0</td>\n",
       "      <td>3.0</td>\n",
       "      <td>2.0</td>\n",
       "      <td>Manager</td>\n",
       "      <td>4.0</td>\n",
       "      <td>1.0</td>\n",
       "      <td>1.0</td>\n",
       "      <td>0.0</td>\n",
       "      <td>23.0</td>\n",
       "      <td>5.0</td>\n",
       "      <td>1.0</td>\n",
       "      <td>3.0</td>\n",
       "      <td>Divorsed</td>\n",
       "      <td>20302.0</td>\n",
       "    </tr>\n",
       "    <tr>\n",
       "      <th>4</th>\n",
       "      <td>37.0</td>\n",
       "      <td>No</td>\n",
       "      <td>Analytics</td>\n",
       "      <td>27.0</td>\n",
       "      <td>Statistics</td>\n",
       "      <td>Female</td>\n",
       "      <td>49.0</td>\n",
       "      <td>3.0</td>\n",
       "      <td>4.0</td>\n",
       "      <td>Manager</td>\n",
       "      <td>4.0</td>\n",
       "      <td>1.0</td>\n",
       "      <td>8.0</td>\n",
       "      <td>0.0</td>\n",
       "      <td>21.0</td>\n",
       "      <td>12.0</td>\n",
       "      <td>1.0</td>\n",
       "      <td>9.0</td>\n",
       "      <td>Divorsed</td>\n",
       "      <td>21674.0</td>\n",
       "    </tr>\n",
       "  </tbody>\n",
       "</table>\n",
       "</div>"
      ],
      "text/plain": [
       "    Age TravelProfile Department  HomeToWork EducationField  Gender  \\\n",
       "0  35.0        Rarely  Analytics         5.0             CA    Male   \n",
       "1  32.0           Yes      Sales         5.0     Statistics  Female   \n",
       "2  31.0        Rarely  Analytics         5.0     Statistics       F   \n",
       "3  34.0           Yes      Sales        10.0     Statistics  Female   \n",
       "4  37.0            No  Analytics        27.0     Statistics  Female   \n",
       "\n",
       "   HourlnWeek  Involvement  WorkLifeBalance Designation  JobSatisfaction  \\\n",
       "0        69.0          1.0              1.0   Executive              1.0   \n",
       "1        62.0          4.0              3.0   Executive              2.0   \n",
       "2        45.0          5.0              3.0     Manager              2.0   \n",
       "3        32.0          3.0              2.0     Manager              4.0   \n",
       "4        49.0          3.0              4.0     Manager              4.0   \n",
       "\n",
       "   ESOPs  NumCompaniesWorked  OverTime  SalaryHikelastYear  WorkExperience  \\\n",
       "0    1.0                 1.0       1.0                20.0             7.0   \n",
       "1    0.0                 8.0       0.0                20.0             4.0   \n",
       "2    1.0                 3.0       0.0                26.0            12.0   \n",
       "3    1.0                 1.0       0.0                23.0             5.0   \n",
       "4    1.0                 8.0       0.0                21.0            12.0   \n",
       "\n",
       "   LastPromotion  CurrentProfile MaritalStatus  MonthlyIncome  \n",
       "0            2.0             NaN             M        18932.0  \n",
       "1            1.0             NaN        Single        18785.0  \n",
       "2            1.0             3.0        Single        22091.0  \n",
       "3            1.0             3.0      Divorsed        20302.0  \n",
       "4            1.0             9.0      Divorsed        21674.0  "
      ]
     },
     "execution_count": 31,
     "metadata": {},
     "output_type": "execute_result"
    }
   ],
   "source": [
    "data.head(5)"
   ]
  },
  {
   "cell_type": "code",
   "execution_count": 73,
   "id": "7dec907b-b8e5-4952-a412-dd00f3e21dbc",
   "metadata": {},
   "outputs": [
    {
     "name": "stdout",
     "output_type": "stream",
     "text": [
      "3088\n",
      "[35. 32. 31. 34. 37. 26. 45. 24. 41. 28. 46. 33. nan 47. 51. 52. 39. 36.\n",
      " 53. 43. 20. 25. 50. 38. 57. 30. 40. 29. 42. 44. 21. 27. 48. 49. 56. 59.\n",
      " 22. 55. 18. 58. 19. 23. 54. 60. 61.]\n"
     ]
    }
   ],
   "source": [
    "print(data['Age'].isna().sum())\n",
    "print(data['Age'].unique())"
   ]
  },
  {
   "cell_type": "code",
   "execution_count": 75,
   "id": "c1d522ff-ac13-4ebd-9544-eae9d5c2f0af",
   "metadata": {},
   "outputs": [
    {
     "name": "stdout",
     "output_type": "stream",
     "text": [
      "2630\n",
      "['Rarely' 'Yes' 'No' nan]\n"
     ]
    }
   ],
   "source": [
    "print(data['TravelProfile'].isna().sum())\n",
    "print(data['TravelProfile'].unique())"
   ]
  },
  {
   "cell_type": "code",
   "execution_count": null,
   "id": "c9848bb4-dbc1-4e3b-8c6d-2b7db800c673",
   "metadata": {},
   "outputs": [],
   "source": [
    "data.shape"
   ]
  },
  {
   "cell_type": "code",
   "execution_count": 81,
   "id": "8d572d5b-2d94-4b3b-97dd-5e03822abe0e",
   "metadata": {},
   "outputs": [
    {
     "name": "stdout",
     "output_type": "stream",
     "text": [
      "\n",
      "======= Column Name =: Age\n",
      "3088\n",
      "[35. 32. 31. 34. 37. 26. 45. 24. 41. 28. 46. 33. nan 47. 51. 52. 39. 36.\n",
      " 53. 43. 20. 25. 50. 38. 57. 30. 40. 29. 42. 44. 21. 27. 48. 49. 56. 59.\n",
      " 22. 55. 18. 58. 19. 23. 54. 60. 61.]\n",
      "\n",
      "======= Column Name =: TravelProfile\n",
      "2630\n",
      "['Rarely' 'Yes' 'No' nan]\n",
      "\n",
      "======= Column Name =: Department\n",
      "2812\n",
      "['Analytics' 'Sales' 'Marketing' nan]\n",
      "\n",
      "======= Column Name =: HomeToWork\n",
      "3011\n",
      "[  5.  10.  27.  24.   1.   8.   4.  11.  nan  21.   6.  30.  23.   3.\n",
      "   7.  15.  17.  20.  13.  19.  22.  25.  18.   9.  29.  12.  26.  32.\n",
      "  16.  14.   2.  31.  28. 121.  36.  34. 123.]\n",
      "\n",
      "======= Column Name =: EducationField\n",
      "2630\n",
      "['CA' 'Statistics' 'MBA' 'Marketing Diploma' 'Engineer' 'Other' nan]\n",
      "\n",
      "======= Column Name =: Gender\n",
      "2706\n",
      "['Male' 'Female' 'F' nan]\n",
      "\n",
      "======= Column Name =: HourlnWeek\n",
      "3053\n",
      "[ 69.  62.  45.  32.  49.  43.  48.  58.  65.  57.  59.  42.  71.  80.\n",
      "  54.  63.  60.  61.  68.  35.  78.  74.  40.  41.  75.  34.  nan  72.\n",
      "  52.  77.  66.  39.  67.  70.  37.  53.  64.  79.  44.  55.  56.  73.\n",
      "  76.  51.  33.  30.  36.  31.  50.  46.  81.  38.  82.  47.  12.  99.\n",
      "  89.  87.  10.  23. 101.  25.  14. 110.]\n",
      "\n",
      "======= Column Name =: Involvement\n",
      "2630\n",
      "[ 1.  4.  5.  3.  2. nan]\n",
      "\n",
      "======= Column Name =: WorkLifeBalance\n",
      "2630\n",
      "[ 1.  3.  2.  4.  5. nan]\n",
      "\n",
      "======= Column Name =: Designation\n",
      "2698\n",
      "['Executive' 'Manager' 'Senior Manager' 'AVP' 'VP' nan]\n",
      "\n",
      "======= Column Name =: JobSatisfaction\n",
      "2630\n",
      "[ 1.  2.  4.  5.  3. nan]\n",
      "\n",
      "======= Column Name =: ESOPs\n",
      "2630\n",
      "[ 1.  0. nan]\n",
      "\n",
      "======= Column Name =: NumCompaniesWorked\n",
      "2630\n",
      "[ 1.  8.  3.  9.  2.  6.  4.  0.  5.  7. 10. 19. 18. 21. nan 20.]\n",
      "\n",
      "======= Column Name =: OverTime\n",
      "2630\n",
      "[ 1.  0. nan]\n",
      "\n",
      "======= Column Name =: SalaryHikelastYear\n",
      "2893\n",
      "[20. 26. 23. 21. 19. 17. 24. 22. 18. 16. 27. nan 25. 29. 28. 30. 31.]\n",
      "\n",
      "======= Column Name =: WorkExperience\n",
      "2939\n",
      "[ 7.  4. 12.  5. 11. 10. 17. 16. 14.  8. 15.  6. 20.  2.  9. 18. 13. 31.\n",
      " nan  1. 22.  3. 25. 23. 19. 21. 34. 26. 28. 24. 27. 38.  0. 40. 35. 30.\n",
      " 33. 32. 29. 37. 36. 39. 41.]\n",
      "\n",
      "======= Column Name =: LastPromotion\n",
      "2757\n",
      "[ 2.  1.  0.  3.  5.  8.  6.  4.  7.  9. nan 11. 12. 10. 15. 16. 13. 14.]\n",
      "\n",
      "======= Column Name =: CurrentProfile\n",
      "3075\n",
      "[nan  3.  9.  2.  8.  4.  0.  7. 10.  1. 11.  5. 13.  6. 12. 18. 15. 17.\n",
      " 14. 16.]\n",
      "\n",
      "======= Column Name =: MaritalStatus\n",
      "2630\n",
      "['M' 'Single' 'Divorsed' 'Married' nan]\n",
      "\n",
      "======= Column Name =: MonthlyIncome\n",
      "2756\n",
      "[18932. 18785. 22091. ... 32598. 20237. 31184.]\n"
     ]
    }
   ],
   "source": [
    "for column in data.columns:\n",
    "    print(f\"\\n======= Column Name =: {column}\")\n",
    "    print(data[column].isna().sum())\n",
    "    print(data[column].unique())"
   ]
  },
  {
   "cell_type": "code",
   "execution_count": null,
   "id": "db0ddb66-0f50-418b-a883-fe0686230e89",
   "metadata": {},
   "outputs": [],
   "source": []
  },
  {
   "cell_type": "markdown",
   "id": "637157a8-60ff-48a3-a921-5300a87b39e5",
   "metadata": {
    "jp-MarkdownHeadingCollapsed": true
   },
   "source": [
    "## Treatment of Age Column"
   ]
  },
  {
   "cell_type": "code",
   "execution_count": null,
   "id": "51c6efc3-82a6-4852-9b18-d185d67059db",
   "metadata": {},
   "outputs": [],
   "source": []
  },
  {
   "cell_type": "code",
   "execution_count": 83,
   "id": "0f2e807b-1575-457e-aa58-5852989d24f6",
   "metadata": {},
   "outputs": [],
   "source": [
    "import matplotlib.pyplot as plt"
   ]
  },
  {
   "cell_type": "code",
   "execution_count": 87,
   "id": "57c4780a-5127-45b1-8625-b50ce5559095",
   "metadata": {},
   "outputs": [
    {
     "data": {
      "image/png": "[encoded data removed]",
      "text/plain": [
       "<Figure size 800x500 with 1 Axes>"
      ]
     },
     "metadata": {},
     "output_type": "display_data"
    }
   ],
   "source": [
    "plt.figure(figsize=(8,5))\n",
    "plt.boxplot(data['Age'].dropna())\n",
    "plt.title('Boxplot of Age')\n",
    "plt.ylabel('Age')\n",
    "plt.show()"
   ]
  },
  {
   "cell_type": "code",
   "execution_count": 91,
   "id": "7120ea4b-e31d-44eb-b645-7f42b9e7a2a1",
   "metadata": {},
   "outputs": [
    {
     "name": "stdout",
     "output_type": "stream",
     "text": [
      "Number of outliers in Age: 0\n",
      "Empty DataFrame\n",
      "Columns: [Age]\n",
      "Index: []\n"
     ]
    }
   ],
   "source": [
    "# IQR Method to detect outliers\n",
    "Q1 = data['Age'].quantile(0.25)\n",
    "Q3 = data['Age'].quantile(0.75)\n",
    "IQR = Q3 - Q1\n",
    "\n",
    "lower_bound = Q1 - 1.5 * IQR\n",
    "upper_bound = Q3 + 1.5 * IQR\n",
    "\n",
    "outliers = data[(data['Age'] < lower_bound) | (data['Age'] > upper_bound)]\n",
    "print(f\"Number of outliers in Age: {outliers.shape[0]}\")\n",
    "print(outliers[['Age']])"
   ]
  },
  {
   "cell_type": "code",
   "execution_count": 100,
   "id": "be42dc30-a265-4466-8c5a-c3b9824a3f85",
   "metadata": {},
   "outputs": [],
   "source": [
    "data['Age'].fillna(data['Age'].mean(), inplace=True)"
   ]
  },
  {
   "cell_type": "code",
   "execution_count": 102,
   "id": "9ffbb189-4daa-44ee-95b1-5bd04391d099",
   "metadata": {},
   "outputs": [
    {
     "name": "stdout",
     "output_type": "stream",
     "text": [
      "0\n"
     ]
    }
   ],
   "source": [
    "print(data['Age'].isna().sum())"
   ]
  },
  {
   "cell_type": "code",
   "execution_count": null,
   "id": "107ca977-19a6-4940-b11c-4eef16aa8ad2",
   "metadata": {},
   "outputs": [],
   "source": []
  },
  {
   "cell_type": "markdown",
   "id": "cf5ea621-1a34-4b59-b200-72a3a252630c",
   "metadata": {
    "jp-MarkdownHeadingCollapsed": true
   },
   "source": [
    "## Treatment to a few more columns"
   ]
  },
  {
   "cell_type": "code",
   "execution_count": 109,
   "id": "872a9397-6ace-448c-897e-dd4210d933f2",
   "metadata": {},
   "outputs": [
    {
     "name": "stderr",
     "output_type": "stream",
     "text": [
      "C:\\Users\\manju\\AppData\\Local\\Temp\\ipykernel_2752\\221440437.py:2: FutureWarning: A value is trying to be set on a copy of a DataFrame or Series through chained assignment using an inplace method.\n",
      "The behavior will change in pandas 3.0. This inplace method will never work because the intermediate object on which we are setting values always behaves as a copy.\n",
      "\n",
      "For example, when doing 'df[col].method(value, inplace=True)', try using 'df.method({col: value}, inplace=True)' or df[col] = df[col].method(value) instead, to perform the operation inplace on the original object.\n",
      "\n",
      "\n",
      "  data['Department'].fillna('Others', inplace=True)\n"
     ]
    }
   ],
   "source": [
    "data['TravelProfile'].fillna('Unknown', inplace=True)\n",
    "data['Department'].fillna('Others', inplace=True)"
   ]
  },
  {
   "cell_type": "code",
   "execution_count": 113,
   "id": "c2d733c0-d51e-41e0-a935-15efe2caf115",
   "metadata": {},
   "outputs": [],
   "source": [
    "data['HomeToWork'] = data['HomeToWork'].fillna(data['HomeToWork'].median())"
   ]
  },
  {
   "cell_type": "code",
   "execution_count": 115,
   "id": "13a8d253-9b91-4d5b-aa47-b2e3b84ec29a",
   "metadata": {},
   "outputs": [],
   "source": [
    "data['EducationField'] = data['EducationField'].fillna('Unknown')"
   ]
  },
  {
   "cell_type": "code",
   "execution_count": 125,
   "id": "e5c2479c-2b58-4fbd-aabb-07834696fc06",
   "metadata": {},
   "outputs": [
    {
     "name": "stderr",
     "output_type": "stream",
     "text": [
      "C:\\Users\\manju\\AppData\\Local\\Temp\\ipykernel_2752\\1472278205.py:1: FutureWarning: A value is trying to be set on a copy of a DataFrame or Series through chained assignment using an inplace method.\n",
      "The behavior will change in pandas 3.0. This inplace method will never work because the intermediate object on which we are setting values always behaves as a copy.\n",
      "\n",
      "For example, when doing 'df[col].method(value, inplace=True)', try using 'df.method({col: value}, inplace=True)' or df[col] = df[col].method(value) instead, to perform the operation inplace on the original object.\n",
      "\n",
      "\n",
      "  data['Gender'].replace('F', 'Female', inplace=True)\n"
     ]
    }
   ],
   "source": [
    "data['Gender'].replace('F', 'Female', inplace=True)\n",
    "data['Gender'] = data['Gender'].fillna('Unknown')"
   ]
  },
  {
   "cell_type": "code",
   "execution_count": 127,
   "id": "113ebfdc-4b73-4016-981e-bf99dc0a20a0",
   "metadata": {},
   "outputs": [
    {
     "name": "stdout",
     "output_type": "stream",
     "text": [
      "0\n",
      "['Male' 'Female' 'Unknown']\n"
     ]
    }
   ],
   "source": [
    "print(data['Gender'].isna().sum())\n",
    "print(data['Gender'].unique())"
   ]
  },
  {
   "cell_type": "code",
   "execution_count": 131,
   "id": "5121277e-36fa-48b0-8bff-977003e4a7f0",
   "metadata": {},
   "outputs": [],
   "source": [
    "data['HourlnWeek'] = data['HourlnWeek'].fillna(data['HourlnWeek'].median())\n",
    "data['Involvement'] = data['Involvement'].fillna(data['Involvement'].mean())\n",
    "data['WorkLifeBalance'] = data['WorkLifeBalance'].fillna(data['WorkLifeBalance'].mean())"
   ]
  },
  {
   "cell_type": "code",
   "execution_count": 133,
   "id": "64a1a32b-e75e-40ff-abf3-7e52a3a3c709",
   "metadata": {},
   "outputs": [],
   "source": [
    "data['Designation'] = data['Designation'].fillna('Unknown')\n",
    "data['JobSatisfaction'] = data['JobSatisfaction'].fillna(data['JobSatisfaction'].mode())"
   ]
  },
  {
   "cell_type": "code",
   "execution_count": null,
   "id": "c8fc578d-c611-4b17-a057-904bb61ed29f",
   "metadata": {},
   "outputs": [],
   "source": []
  },
  {
   "cell_type": "markdown",
   "id": "5614ce0b-bb2b-47af-8f9c-38dbe2c27c61",
   "metadata": {},
   "source": [
    "## Treatment to rest many columns"
   ]
  },
  {
   "cell_type": "code",
   "execution_count": 139,
   "id": "9d9421bb-19da-4ee8-ae79-96aa1d46e5ac",
   "metadata": {},
   "outputs": [],
   "source": [
    "data['ESOPs'] = data['ESOPs'].fillna(data['ESOPs'].mode())\n",
    "data['NumCompaniesWorked'] = data['NumCompaniesWorked'].fillna(data['NumCompaniesWorked'].mode())\n",
    "data['OverTime'] = data['OverTime'].fillna(data['OverTime'].mode())\n",
    "data['SalaryHikelastYear'] = data['SalaryHikelastYear'].fillna(data['SalaryHikelastYear'].mean())\n",
    "data['WorkExperience'] = data['WorkExperience'].fillna(data['WorkExperience'].mode())\n",
    "data['LastPromotion'] = data['LastPromotion'].fillna(data['LastPromotion'].mode())"
   ]
  },
  {
   "cell_type": "code",
   "execution_count": 143,
   "id": "1f32161d-7a5a-4d6e-b110-843085d56b02",
   "metadata": {},
   "outputs": [],
   "source": [
    "data['CurrentProfile'] = data['CurrentProfile'].fillna(data['CurrentProfile'].mode())"
   ]
  },
  {
   "cell_type": "code",
   "execution_count": 141,
   "id": "0a82c7db-66cb-4470-82ea-b3cd6ac7d3d0",
   "metadata": {},
   "outputs": [],
   "source": [
    "data['MaritalStatus'] = data['Gender'].replace('M', 'Married')\n",
    "data['MaritalStatus'] = data['MaritalStatus'].fillna('Unknown')"
   ]
  },
  {
   "cell_type": "code",
   "execution_count": 145,
   "id": "42aaa5d2-cb0c-4d2b-9945-9a89428ae8a6",
   "metadata": {},
   "outputs": [],
   "source": [
    "data['MonthlyIncome'] = data['MonthlyIncome'].fillna(data['MonthlyIncome'].mean())"
   ]
  },
  {
   "cell_type": "code",
   "execution_count": null,
   "id": "fb75b28f-660d-48c6-9ec1-3258bf5b14a3",
   "metadata": {},
   "outputs": [],
   "source": []
  },
  {
   "cell_type": "code",
   "execution_count": null,
   "id": "bdb0f5f2-a9b8-4569-b79e-21a6e309dc77",
   "metadata": {},
   "outputs": [],
   "source": []
  },
  {
   "cell_type": "code",
   "execution_count": null,
   "id": "42d2967b-2481-4473-a4b5-1c6fb43481a7",
   "metadata": {},
   "outputs": [],
   "source": []
  },
  {
   "cell_type": "code",
   "execution_count": null,
   "id": "5137e2fb-86c0-4f3e-b4ab-852299711b5c",
   "metadata": {},
   "outputs": [],
   "source": []
  },
  {
   "cell_type": "code",
   "execution_count": null,
   "id": "183516cc-3640-47a0-86db-b9d4f18737a6",
   "metadata": {},
   "outputs": [],
   "source": []
  },
  {
   "cell_type": "code",
   "execution_count": null,
   "id": "ef985109-6efa-4978-b8ae-3493e8bc6f55",
   "metadata": {},
   "outputs": [],
   "source": []
  },
  {
   "cell_type": "code",
   "execution_count": null,
   "id": "4e95f1e9-a465-4e35-b41e-f1c516ce5e0d",
   "metadata": {},
   "outputs": [],
   "source": []
  },
  {
   "cell_type": "code",
   "execution_count": null,
   "id": "87564eff-485b-4202-848b-f6b89f17299d",
   "metadata": {},
   "outputs": [],
   "source": []
  },
  {
   "cell_type": "code",
   "execution_count": null,
   "id": "cc683d67-31fa-4a95-ad60-0e102aa8b9de",
   "metadata": {},
   "outputs": [],
   "source": []
  },
  {
   "cell_type": "code",
   "execution_count": null,
   "id": "c5a0ba0d-86c2-4e25-a418-94113b700276",
   "metadata": {},
   "outputs": [],
   "source": []
  },
  {
   "cell_type": "code",
   "execution_count": null,
   "id": "920aa1f3-2231-447f-93ee-993adbb6af25",
   "metadata": {},
   "outputs": [],
   "source": []
  },
  {
   "cell_type": "code",
   "execution_count": null,
   "id": "b19f670f-db37-4f2b-8d74-b3962d878ef2",
   "metadata": {},
   "outputs": [],
   "source": []
  },
  {
   "cell_type": "code",
   "execution_count": null,
   "id": "6830668e-dd50-456c-9ed5-c95fc1f89243",
   "metadata": {},
   "outputs": [],
   "source": []
  },
  {
   "cell_type": "code",
   "execution_count": null,
   "id": "d4136977-5773-4045-a960-9b6652676d81",
   "metadata": {},
   "outputs": [],
   "source": []
  },
  {
   "cell_type": "code",
   "execution_count": null,
   "id": "08aaf84c-eef3-4828-b9b6-dbe751e028bb",
   "metadata": {},
   "outputs": [],
   "source": []
  },
  {
   "cell_type": "code",
   "execution_count": null,
   "id": "d5677a9b-9baa-4caa-90c4-df8c678b392e",
   "metadata": {},
   "outputs": [],
   "source": []
  },
  {
   "cell_type": "code",
   "execution_count": null,
   "id": "7fbf5ae6-b4d0-4fd5-935f-a09175fe44cf",
   "metadata": {},
   "outputs": [],
   "source": []
  },
  {
   "cell_type": "code",
   "execution_count": null,
   "id": "53b5c5a5-88b5-4290-a643-1d9558ce6f16",
   "metadata": {},
   "outputs": [],
   "source": []
  },
  {
   "cell_type": "code",
   "execution_count": null,
   "id": "76b07aa0-8b4d-4bb8-aee6-c6b8b583badf",
   "metadata": {},
   "outputs": [],
   "source": []
  },
  {
   "cell_type": "code",
   "execution_count": null,
   "id": "fe1d5780-1a4b-488d-ace0-de6d71cd1075",
   "metadata": {},
   "outputs": [],
   "source": []
  },
  {
   "cell_type": "code",
   "execution_count": null,
   "id": "42ac20e3-59ba-4d29-831f-27de8376e1f8",
   "metadata": {},
   "outputs": [],
   "source": []
  },
  {
   "cell_type": "code",
   "execution_count": null,
   "id": "db54b20d-254f-45cf-a29a-8a1a1df9ddbe",
   "metadata": {},
   "outputs": [],
   "source": []
  }
 ],
 "metadata": {
  "kernelspec": {
   "display_name": "Python 3 (ipykernel)",
   "language": "python",
   "name": "python3"
  },
  "language_info": {
   "codemirror_mode": {
    "name": "ipython",
    "version": 3
   },
   "file_extension": ".py",
   "mimetype": "text/x-python",
   "name": "python",
   "nbconvert_exporter": "python",
   "pygments_lexer": "ipython3",
   "version": "3.12.4"
  }
 },
 "nbformat": 4,
 "nbformat_minor": 5
}
