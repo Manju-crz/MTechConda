{
 "cells": [
  {
   "cell_type": "code",
   "execution_count": 487,
   "id": "59f01d0f-2751-493b-a84d-240bc2f08458",
   "metadata": {},
   "outputs": [],
   "source": [
    "# Importing necessary libraries\n",
    "import pandas as pd\n",
    "import numpy as np\n",
    "import matplotlib.pyplot as plt\n",
    "import seaborn as sns\n",
    "\n",
    "# For machine learning\n",
    "from sklearn.model_selection import train_test_split\n",
    "from sklearn.preprocessing import LabelEncoder, StandardScaler\n",
    "from sklearn.linear_model import LogisticRegression\n",
    "from sklearn.ensemble import RandomForestClassifier\n",
    "from sklearn.metrics import accuracy_score, classification_report, confusion_matrix\n"
   ]
  },
  {
   "cell_type": "code",
   "execution_count": 488,
   "id": "d24bbde7-30c3-425a-afce-ee4ccd291934",
   "metadata": {},
   "outputs": [
    {
     "name": "stdout",
     "output_type": "stream",
     "text": [
      "First 5 rows:\n",
      "   EmployeeID  Attrition   Age TravelProfile Department  HomeToWork  \\\n",
      "0   5110001.0        0.0  35.0        Rarely  Analytics         5.0   \n",
      "1   5110002.0        1.0  32.0           Yes      Sales         5.0   \n",
      "2   5110003.0        0.0  31.0        Rarely  Analytics         5.0   \n",
      "3   5110004.0        0.0  34.0           Yes      Sales        10.0   \n",
      "4   5110005.0        0.0  37.0            No  Analytics        27.0   \n",
      "\n",
      "  EducationField  Gender  HourlnWeek  Involvement  ...  JobSatisfaction ESOPs  \\\n",
      "0             CA    Male        69.0          1.0  ...              1.0   1.0   \n",
      "1     Statistics  Female        62.0          4.0  ...              2.0   0.0   \n",
      "2     Statistics       F        45.0          5.0  ...              2.0   1.0   \n",
      "3     Statistics  Female        32.0          3.0  ...              4.0   1.0   \n",
      "4     Statistics  Female        49.0          3.0  ...              4.0   1.0   \n",
      "\n",
      "   NumCompaniesWorked  OverTime  SalaryHikelastYear  WorkExperience  \\\n",
      "0                 1.0       1.0                20.0             7.0   \n",
      "1                 8.0       0.0                20.0             4.0   \n",
      "2                 3.0       0.0                26.0            12.0   \n",
      "3                 1.0       0.0                23.0             5.0   \n",
      "4                 8.0       0.0                21.0            12.0   \n",
      "\n",
      "   LastPromotion  CurrentProfile  MaritalStatus  MonthlyIncome  \n",
      "0            2.0             NaN              M        18932.0  \n",
      "1            1.0             NaN         Single        18785.0  \n",
      "2            1.0             3.0         Single        22091.0  \n",
      "3            1.0             3.0       Divorsed        20302.0  \n",
      "4            1.0             9.0       Divorsed        21674.0  \n",
      "\n",
      "[5 rows x 22 columns]\n",
      "\n",
      "Data info:\n",
      "<class 'pandas.core.frame.DataFrame'>\n",
      "RangeIndex: 7810 entries, 0 to 7809\n",
      "Data columns (total 22 columns):\n",
      " #   Column              Non-Null Count  Dtype  \n",
      "---  ------              --------------  -----  \n",
      " 0   EmployeeID          5180 non-null   float64\n",
      " 1   Attrition           5180 non-null   float64\n",
      " 2   Age                 4864 non-null   float64\n",
      " 3   TravelProfile       5180 non-null   object \n",
      " 4   Department          5056 non-null   object \n",
      " 5   HomeToWork          4925 non-null   float64\n",
      " 6   EducationField      5180 non-null   object \n",
      " 7   Gender              5134 non-null   object \n",
      " 8   HourlnWeek          4893 non-null   float64\n",
      " 9   Involvement         5180 non-null   float64\n",
      " 10  WorkLifeBalance     5180 non-null   float64\n",
      " 11  Designation         5142 non-null   object \n",
      " 12  JobSatisfaction     5180 non-null   float64\n",
      " 13  ESOPs               5180 non-null   float64\n",
      " 14  NumCompaniesWorked  5180 non-null   float64\n",
      " 15  OverTime            5180 non-null   float64\n",
      " 16  SalaryHikelastYear  5011 non-null   float64\n",
      " 17  WorkExperience      4993 non-null   float64\n",
      " 18  LastPromotion       5110 non-null   float64\n",
      " 19  CurrentProfile      4869 non-null   float64\n",
      " 20  MaritalStatus       5180 non-null   object \n",
      " 21  MonthlyIncome       5087 non-null   float64\n",
      "dtypes: float64(16), object(6)\n",
      "memory usage: 1.3+ MB\n",
      "None\n",
      "\n",
      "Data shape:\n",
      "(7810, 22)\n"
     ]
    }
   ],
   "source": [
    "# Step 1: Load the dataset\n",
    "data = pd.read_csv('Dataset.csv')\n",
    "\n",
    "# Step 2: Basic Exploration\n",
    "print(\"First 5 rows:\")\n",
    "print(data.head())\n",
    "\n",
    "print(\"\\nData info:\")\n",
    "print(data.info())\n",
    "\n",
    "print(\"\\nData shape:\")\n",
    "print(data.shape)"
   ]
  },
  {
   "cell_type": "code",
   "execution_count": 489,
   "id": "c98278f9-024e-4888-bc30-a1668443d264",
   "metadata": {},
   "outputs": [],
   "source": [
    "data = data.dropna(subset=['Attrition'])"
   ]
  },
  {
   "cell_type": "code",
   "execution_count": 490,
   "id": "008f1c9b-20a0-4574-bba2-cf71817b329e",
   "metadata": {},
   "outputs": [
    {
     "name": "stderr",
     "output_type": "stream",
     "text": [
      "C:\\Users\\manju\\AppData\\Local\\Temp\\ipykernel_14900\\1981374165.py:1: FutureWarning: A value is trying to be set on a copy of a DataFrame or Series through chained assignment using an inplace method.\n",
      "The behavior will change in pandas 3.0. This inplace method will never work because the intermediate object on which we are setting values always behaves as a copy.\n",
      "\n",
      "For example, when doing 'df[col].method(value, inplace=True)', try using 'df.method({col: value}, inplace=True)' or df[col] = df[col].method(value) instead, to perform the operation inplace on the original object.\n",
      "\n",
      "\n",
      "  data['Age'].fillna(data['Age'].mean(), inplace=True)\n"
     ]
    }
   ],
   "source": [
    "data['Age'].fillna(data['Age'].mean(), inplace=True)"
   ]
  },
  {
   "cell_type": "code",
   "execution_count": 491,
   "id": "41ee833b-938f-4f5f-876e-b21743a32256",
   "metadata": {},
   "outputs": [
    {
     "name": "stderr",
     "output_type": "stream",
     "text": [
      "C:\\Users\\manju\\AppData\\Local\\Temp\\ipykernel_14900\\2293335426.py:1: FutureWarning: A value is trying to be set on a copy of a DataFrame or Series through chained assignment using an inplace method.\n",
      "The behavior will change in pandas 3.0. This inplace method will never work because the intermediate object on which we are setting values always behaves as a copy.\n",
      "\n",
      "For example, when doing 'df[col].method(value, inplace=True)', try using 'df.method({col: value}, inplace=True)' or df[col] = df[col].method(value) instead, to perform the operation inplace on the original object.\n",
      "\n",
      "\n",
      "  data['TravelProfile'].fillna('Unknown', inplace=True)\n",
      "C:\\Users\\manju\\AppData\\Local\\Temp\\ipykernel_14900\\2293335426.py:2: FutureWarning: A value is trying to be set on a copy of a DataFrame or Series through chained assignment using an inplace method.\n",
      "The behavior will change in pandas 3.0. This inplace method will never work because the intermediate object on which we are setting values always behaves as a copy.\n",
      "\n",
      "For example, when doing 'df[col].method(value, inplace=True)', try using 'df.method({col: value}, inplace=True)' or df[col] = df[col].method(value) instead, to perform the operation inplace on the original object.\n",
      "\n",
      "\n",
      "  data['Department'].fillna('Others', inplace=True)\n"
     ]
    }
   ],
   "source": [
    "data['TravelProfile'].fillna('Unknown', inplace=True)\n",
    "data['Department'].fillna('Others', inplace=True)\n",
    "data['HomeToWork'] = data['HomeToWork'].fillna(data['HomeToWork'].median())\n",
    "data['EducationField'] = data['EducationField'].fillna('Unknown')"
   ]
  },
  {
   "cell_type": "code",
   "execution_count": 492,
   "id": "7563c8e2-b7f3-47e6-83b8-2f31ee406e6f",
   "metadata": {},
   "outputs": [
    {
     "name": "stdout",
     "output_type": "stream",
     "text": [
      "0\n",
      "['Male' 'Female' 'Unknown']\n"
     ]
    },
    {
     "name": "stderr",
     "output_type": "stream",
     "text": [
      "C:\\Users\\manju\\AppData\\Local\\Temp\\ipykernel_14900\\1673553403.py:1: FutureWarning: A value is trying to be set on a copy of a DataFrame or Series through chained assignment using an inplace method.\n",
      "The behavior will change in pandas 3.0. This inplace method will never work because the intermediate object on which we are setting values always behaves as a copy.\n",
      "\n",
      "For example, when doing 'df[col].method(value, inplace=True)', try using 'df.method({col: value}, inplace=True)' or df[col] = df[col].method(value) instead, to perform the operation inplace on the original object.\n",
      "\n",
      "\n",
      "  data['Gender'].replace('F', 'Female', inplace=True)\n"
     ]
    }
   ],
   "source": [
    "data['Gender'].replace('F', 'Female', inplace=True)\n",
    "data['Gender'] = data['Gender'].fillna('Unknown')\n",
    "print(data['Gender'].isna().sum())\n",
    "print(data['Gender'].unique())"
   ]
  },
  {
   "cell_type": "code",
   "execution_count": 493,
   "id": "d29eb33d-f223-4ee6-9318-648f8b0e01ab",
   "metadata": {},
   "outputs": [],
   "source": [
    "data['HourlnWeek'] = data['HourlnWeek'].fillna(data['HourlnWeek'].median())\n",
    "data['Involvement'] = data['Involvement'].fillna(data['Involvement'].mean())\n",
    "data['WorkLifeBalance'] = data['WorkLifeBalance'].fillna(data['WorkLifeBalance'].mean())\n",
    "data['Designation'] = data['Designation'].fillna('Unknown')\n",
    "data['JobSatisfaction'] = data['JobSatisfaction'].fillna(data['JobSatisfaction'].mode())"
   ]
  },
  {
   "cell_type": "code",
   "execution_count": null,
   "id": "8cfda3fb-6fa2-4c25-b0c7-008b04f06a0b",
   "metadata": {},
   "outputs": [],
   "source": []
  },
  {
   "cell_type": "code",
   "execution_count": null,
   "id": "51c6efc3-82a6-4852-9b18-d185d67059db",
   "metadata": {},
   "outputs": [],
   "source": []
  },
  {
   "cell_type": "code",
   "execution_count": 494,
   "id": "0f2e807b-1575-457e-aa58-5852989d24f6",
   "metadata": {},
   "outputs": [],
   "source": [
    "import matplotlib.pyplot as plt"
   ]
  },
  {
   "cell_type": "code",
   "execution_count": 495,
   "id": "57c4780a-5127-45b1-8625-b50ce5559095",
   "metadata": {},
   "outputs": [
    {
     "data": {
      "image/png": "[encoded data removed]",
      "text/plain": [
       "<Figure size 800x500 with 1 Axes>"
      ]
     },
     "metadata": {},
     "output_type": "display_data"
    }
   ],
   "source": [
    "plt.figure(figsize=(8,5))\n",
    "plt.boxplot(data['Age'].dropna())\n",
    "plt.title('Boxplot of Age')\n",
    "plt.ylabel('Age')\n",
    "plt.show()"
   ]
  },
  {
   "cell_type": "code",
   "execution_count": 496,
   "id": "7120ea4b-e31d-44eb-b645-7f42b9e7a2a1",
   "metadata": {},
   "outputs": [
    {
     "name": "stdout",
     "output_type": "stream",
     "text": [
      "Number of outliers in Age: 69\n",
      "       Age\n",
      "184   59.0\n",
      "548   59.0\n",
      "710   60.0\n",
      "796   59.0\n",
      "844   59.0\n",
      "...    ...\n",
      "4944  59.0\n",
      "4954  59.0\n",
      "5002  60.0\n",
      "5092  61.0\n",
      "5129  59.0\n",
      "\n",
      "[69 rows x 1 columns]\n"
     ]
    }
   ],
   "source": [
    "# IQR Method to detect outliers\n",
    "Q1 = data['Age'].quantile(0.25)\n",
    "Q3 = data['Age'].quantile(0.75)\n",
    "IQR = Q3 - Q1\n",
    "\n",
    "lower_bound = Q1 - 1.5 * IQR\n",
    "upper_bound = Q3 + 1.5 * IQR\n",
    "\n",
    "outliers = data[(data['Age'] < lower_bound) | (data['Age'] > upper_bound)]\n",
    "print(f\"Number of outliers in Age: {outliers.shape[0]}\")\n",
    "print(outliers[['Age']])"
   ]
  },
  {
   "cell_type": "code",
   "execution_count": 497,
   "id": "be42dc30-a265-4466-8c5a-c3b9824a3f85",
   "metadata": {},
   "outputs": [
    {
     "name": "stderr",
     "output_type": "stream",
     "text": [
      "C:\\Users\\manju\\AppData\\Local\\Temp\\ipykernel_14900\\1981374165.py:1: FutureWarning: A value is trying to be set on a copy of a DataFrame or Series through chained assignment using an inplace method.\n",
      "The behavior will change in pandas 3.0. This inplace method will never work because the intermediate object on which we are setting values always behaves as a copy.\n",
      "\n",
      "For example, when doing 'df[col].method(value, inplace=True)', try using 'df.method({col: value}, inplace=True)' or df[col] = df[col].method(value) instead, to perform the operation inplace on the original object.\n",
      "\n",
      "\n",
      "  data['Age'].fillna(data['Age'].mean(), inplace=True)\n"
     ]
    }
   ],
   "source": [
    "data['Age'].fillna(data['Age'].mean(), inplace=True)"
   ]
  },
  {
   "cell_type": "code",
   "execution_count": 498,
   "id": "9ffbb189-4daa-44ee-95b1-5bd04391d099",
   "metadata": {},
   "outputs": [
    {
     "name": "stdout",
     "output_type": "stream",
     "text": [
      "0\n"
     ]
    }
   ],
   "source": [
    "print(data['Age'].isna().sum())"
   ]
  },
  {
   "cell_type": "code",
   "execution_count": null,
   "id": "107ca977-19a6-4940-b11c-4eef16aa8ad2",
   "metadata": {},
   "outputs": [],
   "source": []
  },
  {
   "cell_type": "code",
   "execution_count": 499,
   "id": "872a9397-6ace-448c-897e-dd4210d933f2",
   "metadata": {},
   "outputs": [
    {
     "name": "stderr",
     "output_type": "stream",
     "text": [
      "C:\\Users\\manju\\AppData\\Local\\Temp\\ipykernel_14900\\221440437.py:1: FutureWarning: A value is trying to be set on a copy of a DataFrame or Series through chained assignment using an inplace method.\n",
      "The behavior will change in pandas 3.0. This inplace method will never work because the intermediate object on which we are setting values always behaves as a copy.\n",
      "\n",
      "For example, when doing 'df[col].method(value, inplace=True)', try using 'df.method({col: value}, inplace=True)' or df[col] = df[col].method(value) instead, to perform the operation inplace on the original object.\n",
      "\n",
      "\n",
      "  data['TravelProfile'].fillna('Unknown', inplace=True)\n",
      "C:\\Users\\manju\\AppData\\Local\\Temp\\ipykernel_14900\\221440437.py:2: FutureWarning: A value is trying to be set on a copy of a DataFrame or Series through chained assignment using an inplace method.\n",
      "The behavior will change in pandas 3.0. This inplace method will never work because the intermediate object on which we are setting values always behaves as a copy.\n",
      "\n",
      "For example, when doing 'df[col].method(value, inplace=True)', try using 'df.method({col: value}, inplace=True)' or df[col] = df[col].method(value) instead, to perform the operation inplace on the original object.\n",
      "\n",
      "\n",
      "  data['Department'].fillna('Others', inplace=True)\n"
     ]
    }
   ],
   "source": [
    "data['TravelProfile'].fillna('Unknown', inplace=True)\n",
    "data['Department'].fillna('Others', inplace=True)"
   ]
  },
  {
   "cell_type": "code",
   "execution_count": 500,
   "id": "c2d733c0-d51e-41e0-a935-15efe2caf115",
   "metadata": {},
   "outputs": [],
   "source": [
    "data['HomeToWork'] = data['HomeToWork'].fillna(data['HomeToWork'].median())"
   ]
  },
  {
   "cell_type": "code",
   "execution_count": 501,
   "id": "13a8d253-9b91-4d5b-aa47-b2e3b84ec29a",
   "metadata": {},
   "outputs": [],
   "source": [
    "data['EducationField'] = data['EducationField'].fillna('Unknown')"
   ]
  },
  {
   "cell_type": "code",
   "execution_count": 502,
   "id": "e5c2479c-2b58-4fbd-aabb-07834696fc06",
   "metadata": {},
   "outputs": [
    {
     "name": "stderr",
     "output_type": "stream",
     "text": [
      "C:\\Users\\manju\\AppData\\Local\\Temp\\ipykernel_14900\\1472278205.py:1: FutureWarning: A value is trying to be set on a copy of a DataFrame or Series through chained assignment using an inplace method.\n",
      "The behavior will change in pandas 3.0. This inplace method will never work because the intermediate object on which we are setting values always behaves as a copy.\n",
      "\n",
      "For example, when doing 'df[col].method(value, inplace=True)', try using 'df.method({col: value}, inplace=True)' or df[col] = df[col].method(value) instead, to perform the operation inplace on the original object.\n",
      "\n",
      "\n",
      "  data['Gender'].replace('F', 'Female', inplace=True)\n"
     ]
    }
   ],
   "source": [
    "data['Gender'].replace('F', 'Female', inplace=True)\n",
    "data['Gender'] = data['Gender'].fillna('Unknown')"
   ]
  },
  {
   "cell_type": "code",
   "execution_count": 503,
   "id": "113ebfdc-4b73-4016-981e-bf99dc0a20a0",
   "metadata": {},
   "outputs": [
    {
     "name": "stdout",
     "output_type": "stream",
     "text": [
      "0\n",
      "['Male' 'Female' 'Unknown']\n"
     ]
    }
   ],
   "source": [
    "print(data['Gender'].isna().sum())\n",
    "print(data['Gender'].unique())"
   ]
  },
  {
   "cell_type": "code",
   "execution_count": 504,
   "id": "5121277e-36fa-48b0-8bff-977003e4a7f0",
   "metadata": {},
   "outputs": [],
   "source": [
    "data['HourlnWeek'] = data['HourlnWeek'].fillna(data['HourlnWeek'].median())\n",
    "data['Involvement'] = data['Involvement'].fillna(data['Involvement'].mean())\n",
    "data['WorkLifeBalance'] = data['WorkLifeBalance'].fillna(data['WorkLifeBalance'].mean())"
   ]
  },
  {
   "cell_type": "code",
   "execution_count": 505,
   "id": "64a1a32b-e75e-40ff-abf3-7e52a3a3c709",
   "metadata": {},
   "outputs": [],
   "source": [
    "data['Designation'] = data['Designation'].fillna('Unknown')\n",
    "data['JobSatisfaction'] = data['JobSatisfaction'].fillna(data['JobSatisfaction'].mode())"
   ]
  },
  {
   "cell_type": "code",
   "execution_count": null,
   "id": "c8fc578d-c611-4b17-a057-904bb61ed29f",
   "metadata": {},
   "outputs": [],
   "source": []
  },
  {
   "cell_type": "code",
   "execution_count": 506,
   "id": "9d9421bb-19da-4ee8-ae79-96aa1d46e5ac",
   "metadata": {},
   "outputs": [],
   "source": [
    "data['ESOPs'] = data['ESOPs'].fillna(data['ESOPs'].mode())\n",
    "data['NumCompaniesWorked'] = data['NumCompaniesWorked'].fillna(data['NumCompaniesWorked'].mode())\n",
    "data['OverTime'] = data['OverTime'].fillna(data['OverTime'].mode())\n",
    "data['SalaryHikelastYear'] = data['SalaryHikelastYear'].fillna(data['SalaryHikelastYear'].mean())\n",
    "data['WorkExperience'] = data['WorkExperience'].fillna(data['WorkExperience'].mode())\n",
    "data['LastPromotion'] = data['LastPromotion'].fillna(data['LastPromotion'].mode())"
   ]
  },
  {
   "cell_type": "code",
   "execution_count": 507,
   "id": "1f32161d-7a5a-4d6e-b110-843085d56b02",
   "metadata": {},
   "outputs": [],
   "source": [
    "data['CurrentProfile'] = data['CurrentProfile'].fillna(data['CurrentProfile'].mode())"
   ]
  },
  {
   "cell_type": "code",
   "execution_count": 508,
   "id": "0a82c7db-66cb-4470-82ea-b3cd6ac7d3d0",
   "metadata": {},
   "outputs": [],
   "source": [
    "data['MaritalStatus'] = data['Gender'].replace('M', 'Married')\n",
    "data['MaritalStatus'] = data['MaritalStatus'].fillna('Unknown')"
   ]
  },
  {
   "cell_type": "code",
   "execution_count": 509,
   "id": "42aaa5d2-cb0c-4d2b-9945-9a89428ae8a6",
   "metadata": {},
   "outputs": [],
   "source": [
    "data['MonthlyIncome'] = data['MonthlyIncome'].fillna(data['MonthlyIncome'].mean())"
   ]
  },
  {
   "cell_type": "code",
   "execution_count": null,
   "id": "fb75b28f-660d-48c6-9ec1-3258bf5b14a3",
   "metadata": {},
   "outputs": [],
   "source": []
  },
  {
   "cell_type": "code",
   "execution_count": null,
   "id": "bdb0f5f2-a9b8-4569-b79e-21a6e309dc77",
   "metadata": {},
   "outputs": [],
   "source": []
  },
  {
   "cell_type": "code",
   "execution_count": null,
   "id": "42d2967b-2481-4473-a4b5-1c6fb43481a7",
   "metadata": {},
   "outputs": [],
   "source": []
  },
  {
   "cell_type": "code",
   "execution_count": null,
   "id": "5137e2fb-86c0-4f3e-b4ab-852299711b5c",
   "metadata": {},
   "outputs": [],
   "source": []
  },
  {
   "cell_type": "code",
   "execution_count": null,
   "id": "183516cc-3640-47a0-86db-b9d4f18737a6",
   "metadata": {},
   "outputs": [],
   "source": []
  },
  {
   "cell_type": "code",
   "execution_count": null,
   "id": "ef985109-6efa-4978-b8ae-3493e8bc6f55",
   "metadata": {},
   "outputs": [],
   "source": []
  },
  {
   "cell_type": "code",
   "execution_count": null,
   "id": "4e95f1e9-a465-4e35-b41e-f1c516ce5e0d",
   "metadata": {},
   "outputs": [],
   "source": []
  },
  {
   "cell_type": "code",
   "execution_count": null,
   "id": "87564eff-485b-4202-848b-f6b89f17299d",
   "metadata": {},
   "outputs": [],
   "source": []
  },
  {
   "cell_type": "code",
   "execution_count": null,
   "id": "cc683d67-31fa-4a95-ad60-0e102aa8b9de",
   "metadata": {},
   "outputs": [],
   "source": []
  },
  {
   "cell_type": "code",
   "execution_count": null,
   "id": "c5a0ba0d-86c2-4e25-a418-94113b700276",
   "metadata": {},
   "outputs": [],
   "source": []
  },
  {
   "cell_type": "code",
   "execution_count": null,
   "id": "920aa1f3-2231-447f-93ee-993adbb6af25",
   "metadata": {},
   "outputs": [],
   "source": []
  },
  {
   "cell_type": "code",
   "execution_count": null,
   "id": "b19f670f-db37-4f2b-8d74-b3962d878ef2",
   "metadata": {},
   "outputs": [],
   "source": []
  },
  {
   "cell_type": "code",
   "execution_count": null,
   "id": "6830668e-dd50-456c-9ed5-c95fc1f89243",
   "metadata": {},
   "outputs": [],
   "source": []
  },
  {
   "cell_type": "code",
   "execution_count": null,
   "id": "d4136977-5773-4045-a960-9b6652676d81",
   "metadata": {},
   "outputs": [],
   "source": []
  },
  {
   "cell_type": "code",
   "execution_count": null,
   "id": "08aaf84c-eef3-4828-b9b6-dbe751e028bb",
   "metadata": {},
   "outputs": [],
   "source": []
  },
  {
   "cell_type": "code",
   "execution_count": null,
   "id": "d5677a9b-9baa-4caa-90c4-df8c678b392e",
   "metadata": {},
   "outputs": [],
   "source": []
  },
  {
   "cell_type": "code",
   "execution_count": null,
   "id": "7fbf5ae6-b4d0-4fd5-935f-a09175fe44cf",
   "metadata": {},
   "outputs": [],
   "source": []
  },
  {
   "cell_type": "code",
   "execution_count": null,
   "id": "53b5c5a5-88b5-4290-a643-1d9558ce6f16",
   "metadata": {},
   "outputs": [],
   "source": []
  },
  {
   "cell_type": "code",
   "execution_count": null,
   "id": "76b07aa0-8b4d-4bb8-aee6-c6b8b583badf",
   "metadata": {},
   "outputs": [],
   "source": []
  },
  {
   "cell_type": "code",
   "execution_count": null,
   "id": "fe1d5780-1a4b-488d-ace0-de6d71cd1075",
   "metadata": {},
   "outputs": [],
   "source": []
  },
  {
   "cell_type": "code",
   "execution_count": null,
   "id": "42ac20e3-59ba-4d29-831f-27de8376e1f8",
   "metadata": {},
   "outputs": [],
   "source": []
  },
  {
   "cell_type": "code",
   "execution_count": null,
   "id": "db54b20d-254f-45cf-a29a-8a1a1df9ddbe",
   "metadata": {},
   "outputs": [],
   "source": []
  },
  {
   "cell_type": "code",
   "execution_count": 510,
   "id": "ce24d791-27ee-4552-b5af-52b87bff3ea1",
   "metadata": {},
   "outputs": [],
   "source": [
    "data['ESOPs'] = data['ESOPs'].fillna(data['ESOPs'].mode())\n",
    "data['NumCompaniesWorked'] = data['NumCompaniesWorked'].fillna(data['NumCompaniesWorked'].mode())\n",
    "data['OverTime'] = data['OverTime'].fillna(data['OverTime'].mode())\n",
    "data['SalaryHikelastYear'] = data['SalaryHikelastYear'].fillna(data['SalaryHikelastYear'].mean())\n",
    "data['WorkExperience'] = data['WorkExperience'].fillna(data['WorkExperience'].mode())\n",
    "data['LastPromotion'] = data['LastPromotion'].fillna(data['LastPromotion'].mode())\n"
   ]
  },
  {
   "cell_type": "code",
   "execution_count": 511,
   "id": "7c907440-6a19-40d8-8254-8f967791a5b8",
   "metadata": {},
   "outputs": [],
   "source": [
    "data['CurrentProfile'] = data['CurrentProfile'].fillna(data['CurrentProfile'].mode())\n",
    "data['MaritalStatus'] = data['Gender'].replace('M', 'Married')\n",
    "data['MaritalStatus'] = data['MaritalStatus'].fillna('Unknown')\n",
    "data['MonthlyIncome'] = data['MonthlyIncome'].fillna(data['MonthlyIncome'].mean())"
   ]
  },
  {
   "cell_type": "code",
   "execution_count": 512,
   "id": "b301d941-3b06-4940-b08d-fc0efbb9ce5e",
   "metadata": {},
   "outputs": [],
   "source": [
    "most_frequent_value = data['CurrentProfile'].mode()[0]  # Take the first mode value\n",
    "data['CurrentProfile'] = data['CurrentProfile'].fillna(most_frequent_value)\n",
    "most_frequent_value = data['LastPromotion'].mode()[0]  # Take the first mode value\n",
    "data['LastPromotion'] = data['LastPromotion'].fillna(most_frequent_value)\n",
    "most_frequent_value = data['MonthlyIncome'].mode()[0]  # Take the first mode value\n",
    "data['MonthlyIncome'] = data['MonthlyIncome'].fillna(most_frequent_value)\n",
    "most_frequent_value = data['MonthlyIncome'].mode()[0]  # Take the first mode value\n",
    "data['MonthlyIncome'] = data['MonthlyIncome'].fillna(most_frequent_value)"
   ]
  },
  {
   "cell_type": "code",
   "execution_count": 513,
   "id": "3829cebd-af3d-4634-8d3d-5922d2085037",
   "metadata": {},
   "outputs": [],
   "source": []
  },
  {
   "cell_type": "code",
   "execution_count": 514,
   "id": "086c793c-d12f-442e-8a8d-7935347704c7",
   "metadata": {},
   "outputs": [],
   "source": []
  },
  {
   "cell_type": "code",
   "execution_count": 515,
   "id": "5cc4a734-5aa1-4d97-a276-dab23f1c274a",
   "metadata": {},
   "outputs": [],
   "source": []
  },
  {
   "cell_type": "code",
   "execution_count": 516,
   "id": "35e6c16f-0246-4f8c-9500-ebfcb7c6c0cc",
   "metadata": {},
   "outputs": [
    {
     "name": "stdout",
     "output_type": "stream",
     "text": [
      "\n",
      "======= Column Name =: EmployeeID\n",
      "0\n",
      "[5110001. 5110002. 5110003. ... 5115178. 5115179. 5115180.]\n",
      "\n",
      "======= Column Name =: Attrition\n",
      "0\n",
      "[0. 1.]\n",
      "\n",
      "======= Column Name =: Age\n",
      "0\n",
      "[35.         32.         31.         34.         37.         26.\n",
      " 45.         24.         41.         28.         46.         33.\n",
      " 37.10855263 47.         51.         52.         39.         36.\n",
      " 53.         43.         20.         25.         50.         38.\n",
      " 57.         30.         40.         29.         42.         44.\n",
      " 21.         27.         48.         49.         56.         59.\n",
      " 22.         55.         18.         58.         19.         23.\n",
      " 54.         60.         61.        ]\n",
      "\n",
      "======= Column Name =: TravelProfile\n",
      "0\n",
      "['Rarely' 'Yes' 'No']\n",
      "\n",
      "======= Column Name =: Department\n",
      "0\n",
      "['Analytics' 'Sales' 'Marketing' 'Others']\n",
      "\n",
      "======= Column Name =: HomeToWork\n",
      "0\n",
      "[  5.  10.  27.  24.   1.   8.   4.  11.   9.  21.   6.  30.  23.   3.\n",
      "   7.  15.  17.  20.  13.  19.  22.  25.  18.  29.  12.  26.  32.  16.\n",
      "  14.   2.  31.  28. 121.  36.  34.]\n",
      "\n",
      "======= Column Name =: EducationField\n",
      "0\n",
      "['CA' 'Statistics' 'MBA' 'Marketing Diploma' 'Engineer' 'Other']\n",
      "\n",
      "======= Column Name =: Gender\n",
      "0\n",
      "['Male' 'Female' 'Unknown']\n",
      "\n",
      "======= Column Name =: HourlnWeek\n",
      "0\n",
      "[69. 62. 45. 32. 49. 43. 48. 58. 65. 57. 59. 42. 71. 80. 54. 63. 60. 61.\n",
      " 68. 35. 78. 74. 40. 41. 75. 34. 72. 52. 77. 66. 39. 67. 70. 37. 53. 64.\n",
      " 79. 44. 55. 56. 73. 76. 51. 33. 30. 36. 31. 50. 46. 81. 38. 82. 47. 12.\n",
      " 99. 89. 87. 10.]\n",
      "\n",
      "======= Column Name =: Involvement\n",
      "0\n",
      "[1. 4. 5. 3. 2.]\n",
      "\n",
      "======= Column Name =: WorkLifeBalance\n",
      "0\n",
      "[1. 3. 2. 4. 5.]\n",
      "\n",
      "======= Column Name =: Designation\n",
      "0\n",
      "['Executive' 'Manager' 'Senior Manager' 'AVP' 'VP' 'Unknown']\n",
      "\n",
      "======= Column Name =: JobSatisfaction\n",
      "0\n",
      "[1. 2. 4. 5. 3.]\n",
      "\n",
      "======= Column Name =: ESOPs\n",
      "0\n",
      "[1. 0.]\n",
      "\n",
      "======= Column Name =: NumCompaniesWorked\n",
      "0\n",
      "[ 1.  8.  3.  9.  2.  6.  4.  0.  5.  7. 10. 19. 18. 21.]\n",
      "\n",
      "======= Column Name =: OverTime\n",
      "0\n",
      "[1. 0.]\n",
      "\n",
      "======= Column Name =: SalaryHikelastYear\n",
      "0\n",
      "[20.         26.         23.         21.         19.         17.\n",
      " 24.         22.         18.         16.         27.         20.64937138\n",
      " 25.         29.         28.         30.         31.        ]\n",
      "\n",
      "======= Column Name =: WorkExperience\n",
      "187\n",
      "[ 7.  4. 12.  5. 11. 10. 17. 16. 14.  8. 15.  6. 20.  2.  9. 18. 13. 31.\n",
      " nan  1. 22.  3. 25. 23. 19. 21. 34. 26. 28. 24. 27. 38.  0. 40. 35. 30.\n",
      " 33. 32. 29. 37. 36. 39. 41.]\n",
      "\n",
      "======= Column Name =: LastPromotion\n",
      "0\n",
      "[ 2.  1.  0.  3.  5.  8.  6.  4.  7.  9. 11. 12. 10. 15. 16. 13. 14.]\n",
      "\n",
      "======= Column Name =: CurrentProfile\n",
      "0\n",
      "[ 3.  9.  2.  8.  4.  0.  7. 10.  1. 11.  5. 13.  6. 12. 18. 15. 17. 14.\n",
      " 16.]\n",
      "\n",
      "======= Column Name =: MaritalStatus\n",
      "0\n",
      "['Male' 'Female' 'Unknown']\n",
      "\n",
      "======= Column Name =: MonthlyIncome\n",
      "0\n",
      "[18932. 18785. 22091. ... 17328. 29577. 19302.]\n"
     ]
    }
   ],
   "source": [
    "for column in data.columns:\n",
    "    print(f\"\\n======= Column Name =: {column}\")\n",
    "    print(data[column].isna().sum())\n",
    "    print(data[column].unique())"
   ]
  },
  {
   "cell_type": "code",
   "execution_count": 517,
   "id": "79c7b9dc-6da2-4337-ab3c-1785e8b04a91",
   "metadata": {},
   "outputs": [
    {
     "data": {
      "text/plain": [
       "EmployeeID            5180\n",
       "Attrition             5180\n",
       "Age                   5180\n",
       "TravelProfile         5180\n",
       "Department            5180\n",
       "HomeToWork            5180\n",
       "EducationField        5180\n",
       "Gender                5180\n",
       "HourlnWeek            5180\n",
       "Involvement           5180\n",
       "WorkLifeBalance       5180\n",
       "Designation           5180\n",
       "JobSatisfaction       5180\n",
       "ESOPs                 5180\n",
       "NumCompaniesWorked    5180\n",
       "OverTime              5180\n",
       "SalaryHikelastYear    5180\n",
       "WorkExperience        5180\n",
       "LastPromotion         5180\n",
       "CurrentProfile        5180\n",
       "MaritalStatus         5180\n",
       "MonthlyIncome         5180\n",
       "dtype: int64"
      ]
     },
     "execution_count": 517,
     "metadata": {},
     "output_type": "execute_result"
    }
   ],
   "source": [
    "data.isnull().count()"
   ]
  },
  {
   "cell_type": "code",
   "execution_count": null,
   "id": "0fcd115e-d6b5-43de-abcb-625583e21e18",
   "metadata": {},
   "outputs": [],
   "source": []
  },
  {
   "cell_type": "code",
   "execution_count": 518,
   "id": "3006b9fa-e816-4a0b-99a2-1ae1b1cda403",
   "metadata": {},
   "outputs": [],
   "source": [
    "# Label encode categorical features\n",
    "le = LabelEncoder()\n",
    "# Identify categorical columns\n",
    "categorical_cols = data.select_dtypes(include=['object']).columns\n",
    "for col in categorical_cols:\n",
    "    data[col] = le.fit_transform(data[col])"
   ]
  },
  {
   "cell_type": "code",
   "execution_count": 519,
   "id": "25db2bf7-044b-47d8-9d95-661c52ff3166",
   "metadata": {},
   "outputs": [
    {
     "data": {
      "text/html": [
       "<div>\n",
       "<style scoped>\n",
       "    .dataframe tbody tr th:only-of-type {\n",
       "        vertical-align: middle;\n",
       "    }\n",
       "\n",
       "    .dataframe tbody tr th {\n",
       "        vertical-align: top;\n",
       "    }\n",
       "\n",
       "    .dataframe thead th {\n",
       "        text-align: right;\n",
       "    }\n",
       "</style>\n",
       "<table border=\"1\" class=\"dataframe\">\n",
       "  <thead>\n",
       "    <tr style=\"text-align: right;\">\n",
       "      <th></th>\n",
       "      <th>EmployeeID</th>\n",
       "      <th>Attrition</th>\n",
       "      <th>Age</th>\n",
       "      <th>TravelProfile</th>\n",
       "      <th>Department</th>\n",
       "      <th>HomeToWork</th>\n",
       "      <th>EducationField</th>\n",
       "      <th>Gender</th>\n",
       "      <th>HourlnWeek</th>\n",
       "      <th>Involvement</th>\n",
       "      <th>...</th>\n",
       "      <th>JobSatisfaction</th>\n",
       "      <th>ESOPs</th>\n",
       "      <th>NumCompaniesWorked</th>\n",
       "      <th>OverTime</th>\n",
       "      <th>SalaryHikelastYear</th>\n",
       "      <th>WorkExperience</th>\n",
       "      <th>LastPromotion</th>\n",
       "      <th>CurrentProfile</th>\n",
       "      <th>MaritalStatus</th>\n",
       "      <th>MonthlyIncome</th>\n",
       "    </tr>\n",
       "  </thead>\n",
       "  <tbody>\n",
       "    <tr>\n",
       "      <th>0</th>\n",
       "      <td>5110001.0</td>\n",
       "      <td>0.0</td>\n",
       "      <td>35.0</td>\n",
       "      <td>1</td>\n",
       "      <td>0</td>\n",
       "      <td>5.0</td>\n",
       "      <td>0</td>\n",
       "      <td>1</td>\n",
       "      <td>69.0</td>\n",
       "      <td>1.0</td>\n",
       "      <td>...</td>\n",
       "      <td>1.0</td>\n",
       "      <td>1.0</td>\n",
       "      <td>1.0</td>\n",
       "      <td>1.0</td>\n",
       "      <td>20.0</td>\n",
       "      <td>7.0</td>\n",
       "      <td>2.0</td>\n",
       "      <td>3.0</td>\n",
       "      <td>1</td>\n",
       "      <td>18932.0</td>\n",
       "    </tr>\n",
       "    <tr>\n",
       "      <th>1</th>\n",
       "      <td>5110002.0</td>\n",
       "      <td>1.0</td>\n",
       "      <td>32.0</td>\n",
       "      <td>2</td>\n",
       "      <td>3</td>\n",
       "      <td>5.0</td>\n",
       "      <td>5</td>\n",
       "      <td>0</td>\n",
       "      <td>62.0</td>\n",
       "      <td>4.0</td>\n",
       "      <td>...</td>\n",
       "      <td>2.0</td>\n",
       "      <td>0.0</td>\n",
       "      <td>8.0</td>\n",
       "      <td>0.0</td>\n",
       "      <td>20.0</td>\n",
       "      <td>4.0</td>\n",
       "      <td>1.0</td>\n",
       "      <td>3.0</td>\n",
       "      <td>0</td>\n",
       "      <td>18785.0</td>\n",
       "    </tr>\n",
       "    <tr>\n",
       "      <th>2</th>\n",
       "      <td>5110003.0</td>\n",
       "      <td>0.0</td>\n",
       "      <td>31.0</td>\n",
       "      <td>1</td>\n",
       "      <td>0</td>\n",
       "      <td>5.0</td>\n",
       "      <td>5</td>\n",
       "      <td>0</td>\n",
       "      <td>45.0</td>\n",
       "      <td>5.0</td>\n",
       "      <td>...</td>\n",
       "      <td>2.0</td>\n",
       "      <td>1.0</td>\n",
       "      <td>3.0</td>\n",
       "      <td>0.0</td>\n",
       "      <td>26.0</td>\n",
       "      <td>12.0</td>\n",
       "      <td>1.0</td>\n",
       "      <td>3.0</td>\n",
       "      <td>0</td>\n",
       "      <td>22091.0</td>\n",
       "    </tr>\n",
       "    <tr>\n",
       "      <th>3</th>\n",
       "      <td>5110004.0</td>\n",
       "      <td>0.0</td>\n",
       "      <td>34.0</td>\n",
       "      <td>2</td>\n",
       "      <td>3</td>\n",
       "      <td>10.0</td>\n",
       "      <td>5</td>\n",
       "      <td>0</td>\n",
       "      <td>32.0</td>\n",
       "      <td>3.0</td>\n",
       "      <td>...</td>\n",
       "      <td>4.0</td>\n",
       "      <td>1.0</td>\n",
       "      <td>1.0</td>\n",
       "      <td>0.0</td>\n",
       "      <td>23.0</td>\n",
       "      <td>5.0</td>\n",
       "      <td>1.0</td>\n",
       "      <td>3.0</td>\n",
       "      <td>0</td>\n",
       "      <td>20302.0</td>\n",
       "    </tr>\n",
       "    <tr>\n",
       "      <th>4</th>\n",
       "      <td>5110005.0</td>\n",
       "      <td>0.0</td>\n",
       "      <td>37.0</td>\n",
       "      <td>0</td>\n",
       "      <td>0</td>\n",
       "      <td>27.0</td>\n",
       "      <td>5</td>\n",
       "      <td>0</td>\n",
       "      <td>49.0</td>\n",
       "      <td>3.0</td>\n",
       "      <td>...</td>\n",
       "      <td>4.0</td>\n",
       "      <td>1.0</td>\n",
       "      <td>8.0</td>\n",
       "      <td>0.0</td>\n",
       "      <td>21.0</td>\n",
       "      <td>12.0</td>\n",
       "      <td>1.0</td>\n",
       "      <td>9.0</td>\n",
       "      <td>0</td>\n",
       "      <td>21674.0</td>\n",
       "    </tr>\n",
       "  </tbody>\n",
       "</table>\n",
       "<p>5 rows × 22 columns</p>\n",
       "</div>"
      ],
      "text/plain": [
       "   EmployeeID  Attrition   Age  TravelProfile  Department  HomeToWork  \\\n",
       "0   5110001.0        0.0  35.0              1           0         5.0   \n",
       "1   5110002.0        1.0  32.0              2           3         5.0   \n",
       "2   5110003.0        0.0  31.0              1           0         5.0   \n",
       "3   5110004.0        0.0  34.0              2           3        10.0   \n",
       "4   5110005.0        0.0  37.0              0           0        27.0   \n",
       "\n",
       "   EducationField  Gender  HourlnWeek  Involvement  ...  JobSatisfaction  \\\n",
       "0               0       1        69.0          1.0  ...              1.0   \n",
       "1               5       0        62.0          4.0  ...              2.0   \n",
       "2               5       0        45.0          5.0  ...              2.0   \n",
       "3               5       0        32.0          3.0  ...              4.0   \n",
       "4               5       0        49.0          3.0  ...              4.0   \n",
       "\n",
       "   ESOPs  NumCompaniesWorked  OverTime  SalaryHikelastYear  WorkExperience  \\\n",
       "0    1.0                 1.0       1.0                20.0             7.0   \n",
       "1    0.0                 8.0       0.0                20.0             4.0   \n",
       "2    1.0                 3.0       0.0                26.0            12.0   \n",
       "3    1.0                 1.0       0.0                23.0             5.0   \n",
       "4    1.0                 8.0       0.0                21.0            12.0   \n",
       "\n",
       "   LastPromotion  CurrentProfile  MaritalStatus  MonthlyIncome  \n",
       "0            2.0             3.0              1        18932.0  \n",
       "1            1.0             3.0              0        18785.0  \n",
       "2            1.0             3.0              0        22091.0  \n",
       "3            1.0             3.0              0        20302.0  \n",
       "4            1.0             9.0              0        21674.0  \n",
       "\n",
       "[5 rows x 22 columns]"
      ]
     },
     "execution_count": 519,
     "metadata": {},
     "output_type": "execute_result"
    }
   ],
   "source": [
    "data.head()"
   ]
  },
  {
   "cell_type": "code",
   "execution_count": 520,
   "id": "a2b8ecd3-d653-4e00-a5af-1537f3dba9bf",
   "metadata": {},
   "outputs": [],
   "source": [
    "data.dropna(inplace=True)\n",
    "y = data['Attrition']\n",
    "X = data.drop('Attrition', axis=1)\n",
    "X = X.drop('EmployeeID', axis=1)"
   ]
  },
  {
   "cell_type": "code",
   "execution_count": 521,
   "id": "6f27e0e0-bfd9-49a5-8c4a-9267bcca30d8",
   "metadata": {},
   "outputs": [
    {
     "data": {
      "text/html": [
       "<div>\n",
       "<style scoped>\n",
       "    .dataframe tbody tr th:only-of-type {\n",
       "        vertical-align: middle;\n",
       "    }\n",
       "\n",
       "    .dataframe tbody tr th {\n",
       "        vertical-align: top;\n",
       "    }\n",
       "\n",
       "    .dataframe thead th {\n",
       "        text-align: right;\n",
       "    }\n",
       "</style>\n",
       "<table border=\"1\" class=\"dataframe\">\n",
       "  <thead>\n",
       "    <tr style=\"text-align: right;\">\n",
       "      <th></th>\n",
       "      <th>Age</th>\n",
       "      <th>TravelProfile</th>\n",
       "      <th>Department</th>\n",
       "      <th>HomeToWork</th>\n",
       "      <th>EducationField</th>\n",
       "      <th>Gender</th>\n",
       "      <th>HourlnWeek</th>\n",
       "      <th>Involvement</th>\n",
       "      <th>WorkLifeBalance</th>\n",
       "      <th>Designation</th>\n",
       "      <th>JobSatisfaction</th>\n",
       "      <th>ESOPs</th>\n",
       "      <th>NumCompaniesWorked</th>\n",
       "      <th>OverTime</th>\n",
       "      <th>SalaryHikelastYear</th>\n",
       "      <th>WorkExperience</th>\n",
       "      <th>LastPromotion</th>\n",
       "      <th>CurrentProfile</th>\n",
       "      <th>MaritalStatus</th>\n",
       "      <th>MonthlyIncome</th>\n",
       "    </tr>\n",
       "  </thead>\n",
       "  <tbody>\n",
       "    <tr>\n",
       "      <th>0</th>\n",
       "      <td>35.0</td>\n",
       "      <td>1</td>\n",
       "      <td>0</td>\n",
       "      <td>5.0</td>\n",
       "      <td>0</td>\n",
       "      <td>1</td>\n",
       "      <td>69.0</td>\n",
       "      <td>1.0</td>\n",
       "      <td>1.0</td>\n",
       "      <td>1</td>\n",
       "      <td>1.0</td>\n",
       "      <td>1.0</td>\n",
       "      <td>1.0</td>\n",
       "      <td>1.0</td>\n",
       "      <td>20.0</td>\n",
       "      <td>7.0</td>\n",
       "      <td>2.0</td>\n",
       "      <td>3.0</td>\n",
       "      <td>1</td>\n",
       "      <td>18932.0</td>\n",
       "    </tr>\n",
       "    <tr>\n",
       "      <th>1</th>\n",
       "      <td>32.0</td>\n",
       "      <td>2</td>\n",
       "      <td>3</td>\n",
       "      <td>5.0</td>\n",
       "      <td>5</td>\n",
       "      <td>0</td>\n",
       "      <td>62.0</td>\n",
       "      <td>4.0</td>\n",
       "      <td>3.0</td>\n",
       "      <td>1</td>\n",
       "      <td>2.0</td>\n",
       "      <td>0.0</td>\n",
       "      <td>8.0</td>\n",
       "      <td>0.0</td>\n",
       "      <td>20.0</td>\n",
       "      <td>4.0</td>\n",
       "      <td>1.0</td>\n",
       "      <td>3.0</td>\n",
       "      <td>0</td>\n",
       "      <td>18785.0</td>\n",
       "    </tr>\n",
       "    <tr>\n",
       "      <th>2</th>\n",
       "      <td>31.0</td>\n",
       "      <td>1</td>\n",
       "      <td>0</td>\n",
       "      <td>5.0</td>\n",
       "      <td>5</td>\n",
       "      <td>0</td>\n",
       "      <td>45.0</td>\n",
       "      <td>5.0</td>\n",
       "      <td>3.0</td>\n",
       "      <td>2</td>\n",
       "      <td>2.0</td>\n",
       "      <td>1.0</td>\n",
       "      <td>3.0</td>\n",
       "      <td>0.0</td>\n",
       "      <td>26.0</td>\n",
       "      <td>12.0</td>\n",
       "      <td>1.0</td>\n",
       "      <td>3.0</td>\n",
       "      <td>0</td>\n",
       "      <td>22091.0</td>\n",
       "    </tr>\n",
       "    <tr>\n",
       "      <th>3</th>\n",
       "      <td>34.0</td>\n",
       "      <td>2</td>\n",
       "      <td>3</td>\n",
       "      <td>10.0</td>\n",
       "      <td>5</td>\n",
       "      <td>0</td>\n",
       "      <td>32.0</td>\n",
       "      <td>3.0</td>\n",
       "      <td>2.0</td>\n",
       "      <td>2</td>\n",
       "      <td>4.0</td>\n",
       "      <td>1.0</td>\n",
       "      <td>1.0</td>\n",
       "      <td>0.0</td>\n",
       "      <td>23.0</td>\n",
       "      <td>5.0</td>\n",
       "      <td>1.0</td>\n",
       "      <td>3.0</td>\n",
       "      <td>0</td>\n",
       "      <td>20302.0</td>\n",
       "    </tr>\n",
       "    <tr>\n",
       "      <th>4</th>\n",
       "      <td>37.0</td>\n",
       "      <td>0</td>\n",
       "      <td>0</td>\n",
       "      <td>27.0</td>\n",
       "      <td>5</td>\n",
       "      <td>0</td>\n",
       "      <td>49.0</td>\n",
       "      <td>3.0</td>\n",
       "      <td>4.0</td>\n",
       "      <td>2</td>\n",
       "      <td>4.0</td>\n",
       "      <td>1.0</td>\n",
       "      <td>8.0</td>\n",
       "      <td>0.0</td>\n",
       "      <td>21.0</td>\n",
       "      <td>12.0</td>\n",
       "      <td>1.0</td>\n",
       "      <td>9.0</td>\n",
       "      <td>0</td>\n",
       "      <td>21674.0</td>\n",
       "    </tr>\n",
       "  </tbody>\n",
       "</table>\n",
       "</div>"
      ],
      "text/plain": [
       "    Age  TravelProfile  Department  HomeToWork  EducationField  Gender  \\\n",
       "0  35.0              1           0         5.0               0       1   \n",
       "1  32.0              2           3         5.0               5       0   \n",
       "2  31.0              1           0         5.0               5       0   \n",
       "3  34.0              2           3        10.0               5       0   \n",
       "4  37.0              0           0        27.0               5       0   \n",
       "\n",
       "   HourlnWeek  Involvement  WorkLifeBalance  Designation  JobSatisfaction  \\\n",
       "0        69.0          1.0              1.0            1              1.0   \n",
       "1        62.0          4.0              3.0            1              2.0   \n",
       "2        45.0          5.0              3.0            2              2.0   \n",
       "3        32.0          3.0              2.0            2              4.0   \n",
       "4        49.0          3.0              4.0            2              4.0   \n",
       "\n",
       "   ESOPs  NumCompaniesWorked  OverTime  SalaryHikelastYear  WorkExperience  \\\n",
       "0    1.0                 1.0       1.0                20.0             7.0   \n",
       "1    0.0                 8.0       0.0                20.0             4.0   \n",
       "2    1.0                 3.0       0.0                26.0            12.0   \n",
       "3    1.0                 1.0       0.0                23.0             5.0   \n",
       "4    1.0                 8.0       0.0                21.0            12.0   \n",
       "\n",
       "   LastPromotion  CurrentProfile  MaritalStatus  MonthlyIncome  \n",
       "0            2.0             3.0              1        18932.0  \n",
       "1            1.0             3.0              0        18785.0  \n",
       "2            1.0             3.0              0        22091.0  \n",
       "3            1.0             3.0              0        20302.0  \n",
       "4            1.0             9.0              0        21674.0  "
      ]
     },
     "execution_count": 521,
     "metadata": {},
     "output_type": "execute_result"
    }
   ],
   "source": [
    "X.head()"
   ]
  },
  {
   "cell_type": "code",
   "execution_count": 522,
   "id": "3d1e604d-d9a1-4942-8c59-2cb79699f193",
   "metadata": {},
   "outputs": [
    {
     "data": {
      "text/plain": [
       "0    0.0\n",
       "1    1.0\n",
       "2    0.0\n",
       "3    0.0\n",
       "4    0.0\n",
       "Name: Attrition, dtype: float64"
      ]
     },
     "execution_count": 522,
     "metadata": {},
     "output_type": "execute_result"
    }
   ],
   "source": [
    "y.head()"
   ]
  },
  {
   "cell_type": "code",
   "execution_count": null,
   "id": "83a183b4-9760-41a5-9879-1412dfd3eaaf",
   "metadata": {},
   "outputs": [],
   "source": []
  },
  {
   "cell_type": "code",
   "execution_count": 523,
   "id": "346926d1-cb3f-486b-93a8-921170d11409",
   "metadata": {},
   "outputs": [],
   "source": [
    "scaler = StandardScaler()\n",
    "X_scaled = scaler.fit_transform(X)"
   ]
  },
  {
   "cell_type": "code",
   "execution_count": 524,
   "id": "86c6bc2f-3779-4f01-9d90-71b01e220d54",
   "metadata": {},
   "outputs": [],
   "source": [
    "X_train, X_test, y_train, y_test = train_test_split(X_scaled, y, test_size=0.2, random_state=42)\n",
    "X_train = pd.DataFrame(X_train)\n",
    "X_test = pd.DataFrame(X_test)\n"
   ]
  },
  {
   "cell_type": "code",
   "execution_count": null,
   "id": "7517019f-1dbd-4591-8711-754800f33c03",
   "metadata": {},
   "outputs": [],
   "source": []
  },
  {
   "cell_type": "code",
   "execution_count": 525,
   "id": "90084970-a3a7-40fc-ae39-4ad28703867c",
   "metadata": {},
   "outputs": [],
   "source": [
    "lr = LogisticRegression()\n",
    "lr.fit(X_train, y_train)\n",
    "y_pred_lr = lr.predict(X_test)"
   ]
  },
  {
   "cell_type": "code",
   "execution_count": null,
   "id": "306eef36-4bd8-44f2-b20c-26007c56b3cc",
   "metadata": {},
   "outputs": [],
   "source": []
  },
  {
   "cell_type": "code",
   "execution_count": 605,
   "id": "99b9ffe5-40cf-402e-81b9-d3089d8da0df",
   "metadata": {},
   "outputs": [
    {
     "name": "stdout",
     "output_type": "stream",
     "text": [
      "\n",
      "Logistic Regression Accuracy: 0.7958\n",
      "\n",
      "Confusion Matrix for Logistic Regression:\n",
      "[[645  60]\n",
      " [144 150]]\n"
     ]
    }
   ],
   "source": [
    "# Accuracy\n",
    "acc_lr = accuracy_score(y_test, y_pred_lr)\n",
    "print(f\"\\nLogistic Regression Accuracy: {acc_lr:.4f}\")\n",
    "\n",
    "# Confusion Matrix\n",
    "print(\"\\nConfusion Matrix for Logistic Regression:\")\n",
    "print(confusion_matrix(y_test, y_pred_lr))\n"
   ]
  },
  {
   "cell_type": "code",
   "execution_count": null,
   "id": "c5ca8047-b2ad-4077-8b54-063276427175",
   "metadata": {},
   "outputs": [],
   "source": []
  },
  {
   "cell_type": "code",
   "execution_count": null,
   "id": "bfa251bb-59f1-4a2f-9cb2-77e4bdbe0fe6",
   "metadata": {},
   "outputs": [],
   "source": []
  },
  {
   "cell_type": "code",
   "execution_count": null,
   "id": "6ea330c8-9648-485b-a8fe-9eb5be0df374",
   "metadata": {},
   "outputs": [],
   "source": []
  },
  {
   "cell_type": "code",
   "execution_count": null,
   "id": "da4058f9-f47b-4389-8639-32415a3f86e2",
   "metadata": {},
   "outputs": [],
   "source": []
  },
  {
   "cell_type": "code",
   "execution_count": null,
   "id": "40c29924-6ec4-4aec-a9b5-64e0d0629a80",
   "metadata": {},
   "outputs": [],
   "source": []
  },
  {
   "cell_type": "code",
   "execution_count": null,
   "id": "72334b83-7466-451d-b30c-5430d17b1da3",
   "metadata": {},
   "outputs": [],
   "source": []
  },
  {
   "cell_type": "code",
   "execution_count": null,
   "id": "5f40db28-ea6c-44aa-93e5-cde5a64a638b",
   "metadata": {},
   "outputs": [],
   "source": []
  },
  {
   "cell_type": "code",
   "execution_count": 637,
   "id": "64624cf0-0335-40c2-a5ce-f5288c7eff75",
   "metadata": {},
   "outputs": [
    {
     "name": "stdout",
     "output_type": "stream",
     "text": [
      "\n",
      "Random Forest Accuracy: 0.9850\n",
      "\n",
      "Confusion Matrix for Random Forest:\n",
      "[[701   4]\n",
      " [ 11 283]]\n",
      "\n",
      "Random Forest performed better!\n"
     ]
    }
   ],
   "source": [
    "rf = RandomForestClassifier(random_state=42)\n",
    "rf.fit(X_train, y_train)\n",
    "y_pred_rf = rf.predict(X_test)\n",
    "acc_rf = accuracy_score(y_test, y_pred_rf)\n",
    "print(f\"\\nRandom Forest Accuracy: {acc_rf:.4f}\")\n",
    "print(\"\\nConfusion Matrix for Random Forest:\")\n",
    "print(confusion_matrix(y_test, y_pred_rf))\n",
    "if acc_rf > acc_lr:\n",
    "    print(\"\\nRandom Forest performed better!\")\n",
    "else:\n",
    "    print(\"\\nLogistic Regression performed better or similar!\")"
   ]
  },
  {
   "cell_type": "code",
   "execution_count": null,
   "id": "7bf086ed-8d8e-4123-b7eb-60d31a129d9f",
   "metadata": {},
   "outputs": [],
   "source": []
  },
  {
   "cell_type": "code",
   "execution_count": null,
   "id": "2ab0bc0d-958f-459d-9f0b-8f420c3c1232",
   "metadata": {},
   "outputs": [],
   "source": []
  },
  {
   "cell_type": "code",
   "execution_count": null,
   "id": "6f9434f7-58aa-4eaf-9590-1e906ee1c758",
   "metadata": {},
   "outputs": [],
   "source": []
  },
  {
   "cell_type": "code",
   "execution_count": null,
   "id": "27605f03-7bf6-4aba-a0c8-414fc929f219",
   "metadata": {},
   "outputs": [],
   "source": []
  },
  {
   "cell_type": "code",
   "execution_count": null,
   "id": "c8ae1c1d-7b7a-41c2-81e0-a4b20b759b13",
   "metadata": {},
   "outputs": [],
   "source": []
  },
  {
   "cell_type": "code",
   "execution_count": 641,
   "id": "b1348998-ec53-42ec-a240-f2ca9a6f00c0",
   "metadata": {},
   "outputs": [
    {
     "name": "stdout",
     "output_type": "stream",
     "text": [
      "0\n",
      "['Male' 'Female' 'Unknown']\n"
     ]
    },
    {
     "name": "stderr",
     "output_type": "stream",
     "text": [
      "C:\\Users\\manju\\AppData\\Local\\Temp\\ipykernel_14900\\1645767702.py:3: FutureWarning: A value is trying to be set on a copy of a DataFrame or Series through chained assignment using an inplace method.\n",
      "The behavior will change in pandas 3.0. This inplace method will never work because the intermediate object on which we are setting values always behaves as a copy.\n",
      "\n",
      "For example, when doing 'df[col].method(value, inplace=True)', try using 'df.method({col: value}, inplace=True)' or df[col] = df[col].method(value) instead, to perform the operation inplace on the original object.\n",
      "\n",
      "\n",
      "  data['Age'].fillna(data['Age'].mean(), inplace=True)\n",
      "C:\\Users\\manju\\AppData\\Local\\Temp\\ipykernel_14900\\1645767702.py:4: FutureWarning: A value is trying to be set on a copy of a DataFrame or Series through chained assignment using an inplace method.\n",
      "The behavior will change in pandas 3.0. This inplace method will never work because the intermediate object on which we are setting values always behaves as a copy.\n",
      "\n",
      "For example, when doing 'df[col].method(value, inplace=True)', try using 'df.method({col: value}, inplace=True)' or df[col] = df[col].method(value) instead, to perform the operation inplace on the original object.\n",
      "\n",
      "\n",
      "  data['TravelProfile'].fillna('Unknown', inplace=True)\n",
      "C:\\Users\\manju\\AppData\\Local\\Temp\\ipykernel_14900\\1645767702.py:5: FutureWarning: A value is trying to be set on a copy of a DataFrame or Series through chained assignment using an inplace method.\n",
      "The behavior will change in pandas 3.0. This inplace method will never work because the intermediate object on which we are setting values always behaves as a copy.\n",
      "\n",
      "For example, when doing 'df[col].method(value, inplace=True)', try using 'df.method({col: value}, inplace=True)' or df[col] = df[col].method(value) instead, to perform the operation inplace on the original object.\n",
      "\n",
      "\n",
      "  data['Department'].fillna('Others', inplace=True)\n",
      "C:\\Users\\manju\\AppData\\Local\\Temp\\ipykernel_14900\\1645767702.py:8: FutureWarning: A value is trying to be set on a copy of a DataFrame or Series through chained assignment using an inplace method.\n",
      "The behavior will change in pandas 3.0. This inplace method will never work because the intermediate object on which we are setting values always behaves as a copy.\n",
      "\n",
      "For example, when doing 'df[col].method(value, inplace=True)', try using 'df.method({col: value}, inplace=True)' or df[col] = df[col].method(value) instead, to perform the operation inplace on the original object.\n",
      "\n",
      "\n",
      "  data['Gender'].replace('F', 'Female', inplace=True)\n"
     ]
    }
   ],
   "source": [
    "# Step 1: Load the dataset\n",
    "data = pd.read_csv('Test_Dataset.csv')\n",
    "data['Age'].fillna(data['Age'].mean(), inplace=True)\n",
    "data['TravelProfile'].fillna('Unknown', inplace=True)\n",
    "data['Department'].fillna('Others', inplace=True)\n",
    "data['HomeToWork'] = data['HomeToWork'].fillna(data['HomeToWork'].median())\n",
    "data['EducationField'] = data['EducationField'].fillna('Unknown')\n",
    "data['Gender'].replace('F', 'Female', inplace=True)\n",
    "data['Gender'] = data['Gender'].fillna('Unknown')\n",
    "print(data['Gender'].isna().sum())\n",
    "print(data['Gender'].unique())\n",
    "data['HourlnWeek'] = data['HourlnWeek'].fillna(data['HourlnWeek'].median())\n",
    "data['Involvement'] = data['Involvement'].fillna(data['Involvement'].mean())\n",
    "data['WorkLifeBalance'] = data['WorkLifeBalance'].fillna(data['WorkLifeBalance'].mean())\n",
    "data['Designation'] = data['Designation'].fillna('Unknown')\n",
    "data['JobSatisfaction'] = data['JobSatisfaction'].fillna(data['JobSatisfaction'].mode())\n",
    "data['ESOPs'] = data['ESOPs'].fillna(data['ESOPs'].mode())\n",
    "data['NumCompaniesWorked'] = data['NumCompaniesWorked'].fillna(data['NumCompaniesWorked'].mode())\n",
    "data['OverTime'] = data['OverTime'].fillna(data['OverTime'].mode())\n",
    "data['SalaryHikelastYear'] = data['SalaryHikelastYear'].fillna(data['SalaryHikelastYear'].mean())\n",
    "data['WorkExperience'] = data['WorkExperience'].fillna(data['WorkExperience'].mode())\n",
    "data['LastPromotion'] = data['LastPromotion'].fillna(data['LastPromotion'].mode())\n",
    "data['CurrentProfile'] = data['CurrentProfile'].fillna(data['CurrentProfile'].mode())\n",
    "data['MaritalStatus'] = data['Gender'].replace('M', 'Married')\n",
    "data['MaritalStatus'] = data['MaritalStatus'].fillna('Unknown')\n",
    "data['MonthlyIncome'] = data['MonthlyIncome'].fillna(data['MonthlyIncome'].mean())\n",
    "most_frequent_value = data['CurrentProfile'].mode()[0]  # Take the first mode value\n",
    "data['CurrentProfile'] = data['CurrentProfile'].fillna(most_frequent_value)\n",
    "most_frequent_value = data['LastPromotion'].mode()[0]  # Take the first mode value\n",
    "data['LastPromotion'] = data['LastPromotion'].fillna(most_frequent_value)\n",
    "most_frequent_value = data['MonthlyIncome'].mode()[0]  # Take the first mode value\n",
    "data['MonthlyIncome'] = data['MonthlyIncome'].fillna(most_frequent_value)\n",
    "most_frequent_value = data['MonthlyIncome'].mode()[0]  # Take the first mode value\n",
    "data['MonthlyIncome'] = data['MonthlyIncome'].fillna(most_frequent_value)\n",
    "\n",
    "# Label encode categorical features\n",
    "le = LabelEncoder()\n",
    "# Identify categorical columns\n",
    "categorical_cols = data.select_dtypes(include=['object']).columns\n",
    "for col in categorical_cols:\n",
    "    data[col] = le.fit_transform(data[col])\n",
    "    data.dropna(inplace=True)\n",
    "\n",
    "employees = data['EmployeeID']\n",
    "X = data.drop('EmployeeID', axis=1)\n",
    "scaler = StandardScaler()\n",
    "X_scaled = scaler.fit_transform(X)\n"
   ]
  },
  {
   "cell_type": "code",
   "execution_count": null,
   "id": "cbab4d48-c5b1-4254-854f-27730b860817",
   "metadata": {},
   "outputs": [],
   "source": []
  },
  {
   "cell_type": "code",
   "execution_count": null,
   "id": "e7d6cf3c-d7af-43c1-9724-47a5c17d964a",
   "metadata": {},
   "outputs": [],
   "source": [
    "y_pred_rf = rf.predict(X_scaled)"
   ]
  },
  {
   "cell_type": "code",
   "execution_count": 639,
   "id": "8139224a-eeb7-4a64-80cf-09919d7016b1",
   "metadata": {},
   "outputs": [
    {
     "data": {
      "text/plain": [
       "array([0., 1., 0., 0., 0., 1., 0., 0., 0., 0., 0., 0., 1., 0., 1., 0., 0.,\n",
       "       1., 0., 0., 1., 0., 0., 1., 0., 0., 0., 1., 0., 1., 1., 0., 0., 0.,\n",
       "       1., 0., 1., 0., 0., 0., 0., 0., 1., 0., 0., 0., 0., 0., 0., 0., 1.,\n",
       "       0., 0., 1., 0., 0., 0., 0., 1., 0., 0., 0., 0., 0., 0., 0., 1., 0.,\n",
       "       0., 0., 0., 1., 1., 0., 0., 0., 0., 1., 1., 1., 0., 1., 0., 1., 0.,\n",
       "       0., 0., 1., 1., 0., 1., 0., 0., 0., 0., 1., 0., 1., 0., 0., 0., 1.,\n",
       "       0., 0., 0., 0., 0., 1., 1., 0., 0., 1., 0., 1., 1., 0., 0., 1., 0.,\n",
       "       0., 1., 1., 0., 0., 1., 1., 0., 1., 0., 0., 0., 1., 0., 0., 1., 1.,\n",
       "       0., 0., 0., 1., 0., 0., 0., 0., 0., 0., 0., 0., 0., 1., 0., 1., 0.,\n",
       "       1., 0., 0., 0., 1., 0., 0., 0., 1., 1., 0., 0., 0., 0., 0., 0., 0.,\n",
       "       0., 0., 0., 0., 1., 0., 0., 1., 0., 1., 0., 0., 0., 1., 1., 0., 0.,\n",
       "       0., 0., 0., 0., 0., 1., 0., 0., 1., 1., 0., 0., 0., 0., 0., 0., 0.,\n",
       "       1., 0., 1., 0., 0., 0., 0., 1., 1., 1., 1., 0., 0., 0., 1., 0., 1.,\n",
       "       0., 0., 1., 0., 0., 1., 0., 0., 0., 0., 0., 0., 0., 1., 1., 0., 0.,\n",
       "       1., 0., 0., 0., 0., 0., 0., 0., 0., 0., 0., 1., 0., 1., 0., 1., 0.,\n",
       "       0., 0., 0., 0., 0., 1., 0., 1., 1., 1., 1., 1., 0., 1., 0., 0., 1.,\n",
       "       0., 1., 1., 1., 1., 1., 0., 1., 1., 0., 0., 0., 0., 0., 0., 0., 0.,\n",
       "       0., 0., 0., 0., 0., 0., 0., 0., 1., 1., 1., 0., 0., 0., 0., 0., 0.,\n",
       "       1., 1., 0., 0., 0., 0., 1., 0., 1., 0., 0., 1., 0., 0., 0., 0., 0.,\n",
       "       1., 0., 1., 0., 0., 0., 0., 0., 0., 0., 0., 0., 0., 0., 0., 0., 1.,\n",
       "       0., 0., 0., 0., 0., 0., 1., 0., 1., 0., 0., 0., 0., 0., 0., 0., 0.,\n",
       "       0., 1., 0., 1., 0., 0., 0., 0., 0., 0., 0., 0., 0., 1., 0., 0., 0.,\n",
       "       0., 0., 0., 0., 0., 0., 1., 0., 1., 0., 1., 1., 1., 1., 0., 0., 0.,\n",
       "       0., 0., 0., 0., 1., 0., 0., 1., 1., 0., 0., 0., 1., 1., 0., 0., 1.,\n",
       "       0., 0., 1., 0., 1., 1., 0., 0., 0., 0., 0., 0., 1., 0., 0., 0., 0.,\n",
       "       0., 1., 0., 0., 0., 1., 1., 0., 1., 0., 0., 0., 1., 0., 0., 0., 1.,\n",
       "       1., 0., 0., 0., 0., 0., 0., 0., 0., 0., 0., 1., 0., 0., 1., 0., 0.,\n",
       "       0., 0., 0., 0., 0., 0., 0., 1., 0., 0., 1., 0., 0., 0., 0., 1., 0.,\n",
       "       0., 1., 0., 1., 0., 0., 0., 0., 0., 0., 0., 0., 0., 0., 0., 0., 0.,\n",
       "       1., 0., 0., 0., 0., 1., 1., 0., 0., 0., 1., 0., 0., 0., 0., 0., 1.,\n",
       "       0., 0., 1., 0., 0., 0., 0., 0., 1., 1., 1., 1., 1., 0., 0., 0., 0.,\n",
       "       0., 0., 0., 0., 0., 0., 0., 0., 1., 0., 0., 0., 0., 1., 0., 0., 1.,\n",
       "       0., 1., 1., 0., 0., 0., 0., 0., 1., 0., 0., 1., 0., 0., 0., 1., 0.,\n",
       "       0., 0., 0., 0., 0., 0., 0., 0., 1., 0., 1., 0., 0., 0., 0., 0., 0.,\n",
       "       0., 0., 0., 1., 0., 1., 0., 0., 0., 0., 1., 0., 1., 0., 0., 0., 1.,\n",
       "       0., 0., 1., 0., 1., 0., 1., 0., 1., 0., 0., 0., 0., 0., 0., 0., 0.,\n",
       "       1., 1., 0., 1., 0., 0., 0., 1., 0., 1., 1., 0., 0., 0., 0., 0., 0.,\n",
       "       1., 0., 0., 0., 0., 0., 1., 1., 1., 0., 1., 1., 1., 1., 0., 0., 0.,\n",
       "       0., 0., 0., 0., 1., 0., 0., 0., 0., 0., 0., 0., 1., 0., 0., 1., 1.,\n",
       "       0., 0., 1., 0., 1., 0., 0., 0., 1., 1., 0., 0., 1., 0., 0., 1., 0.,\n",
       "       0., 0., 0., 0., 0., 1., 0., 1., 0., 0., 0., 0., 0., 0., 0., 0., 1.,\n",
       "       0., 0., 0., 1., 0., 0., 0., 0., 0., 0., 0., 0., 0., 0., 1., 1., 0.,\n",
       "       0., 1., 0., 0., 0., 0., 0., 1., 0., 1., 0., 0., 1., 0., 1., 1., 1.,\n",
       "       1., 0., 0., 0., 1., 0., 0., 0., 0., 0., 0., 0., 0., 0., 0., 1., 1.,\n",
       "       0., 0., 0., 1., 0., 0., 0., 0., 1., 1., 0., 1., 1., 0., 0., 0., 0.,\n",
       "       1., 1., 1., 0., 1., 0., 1., 0., 0., 1., 0., 1., 0., 0., 1., 0., 0.,\n",
       "       0., 0., 0., 1., 0., 1., 1., 1., 0., 0., 1., 1., 1., 1., 0., 0., 1.,\n",
       "       0., 0., 0., 0., 0., 1., 0., 0., 1., 1., 1., 1., 0., 0., 1., 0., 0.,\n",
       "       1., 1., 0., 0., 0., 0., 0., 1., 0., 0., 1., 0., 0., 0., 1., 0., 0.,\n",
       "       1., 0., 1., 1., 1., 0., 1., 1., 0., 0., 0., 0., 1., 0., 0., 0., 1.,\n",
       "       0., 0., 1., 0., 0., 0., 1., 0., 1., 1., 0., 0., 0., 1., 1., 0., 0.,\n",
       "       0., 0., 0., 0., 0., 0., 0., 0., 0., 0., 0., 0., 0., 0., 0., 0., 1.,\n",
       "       0., 0., 0., 0., 1., 0., 1., 0., 0., 0., 1., 0., 0., 0., 0., 1., 0.,\n",
       "       0., 0., 0., 0., 0., 0., 0., 0., 0., 0., 0., 0., 1., 1., 1., 1., 1.,\n",
       "       0., 0., 0., 1., 0., 0., 0., 0., 1., 0., 0., 1., 0., 0., 0., 0., 1.,\n",
       "       1., 1., 0., 0., 0., 0., 1., 0., 1., 0., 1., 1., 0., 0., 0., 1., 0.,\n",
       "       0., 0., 0., 0., 0., 0., 0., 1., 0., 0., 0., 1., 0., 1., 0., 0., 0.,\n",
       "       1., 1., 0., 1., 1., 1., 0., 0., 0., 0., 0., 0., 0., 0., 0., 0., 0.,\n",
       "       0., 0., 1., 1., 0., 0., 1., 0., 0., 0., 0., 1., 0.])"
      ]
     },
     "execution_count": 639,
     "metadata": {},
     "output_type": "execute_result"
    }
   ],
   "source": [
    "y_pred_rf"
   ]
  },
  {
   "cell_type": "code",
   "execution_count": 647,
   "id": "269fa954-3adc-43a2-9c39-0a4399d3aa6c",
   "metadata": {},
   "outputs": [
    {
     "ename": "ValueError",
     "evalue": "array length 999 does not match index length 2508",
     "output_type": "error",
     "traceback": [
      "\u001b[1;31m---------------------------------------------------------------------------\u001b[0m",
      "\u001b[1;31mValueError\u001b[0m                                Traceback (most recent call last)",
      "Cell \u001b[1;32mIn[647], line 5\u001b[0m\n\u001b[0;32m      1\u001b[0m my_dict \u001b[38;5;241m=\u001b[39m {\n\u001b[0;32m      2\u001b[0m     \u001b[38;5;124m\"\u001b[39m\u001b[38;5;124mEmployeeID\u001b[39m\u001b[38;5;124m\"\u001b[39m : employees,\n\u001b[0;32m      3\u001b[0m     \u001b[38;5;124m\"\u001b[39m\u001b[38;5;124mAttrition\u001b[39m\u001b[38;5;124m\"\u001b[39m : y_pred_rf\n\u001b[0;32m      4\u001b[0m }\n\u001b[1;32m----> 5\u001b[0m df \u001b[38;5;241m=\u001b[39m pd\u001b[38;5;241m.\u001b[39mDataFrame(my_dict)\n\u001b[0;32m      6\u001b[0m df\u001b[38;5;241m.\u001b[39mto_csv(\u001b[38;5;124m'\u001b[39m\u001b[38;5;124moutput.csv\u001b[39m\u001b[38;5;124m'\u001b[39m, index\u001b[38;5;241m=\u001b[39m\u001b[38;5;28;01mFalse\u001b[39;00m)\n",
      "File \u001b[1;32m~\\anaconda3\\Lib\\site-packages\\pandas\\core\\frame.py:778\u001b[0m, in \u001b[0;36mDataFrame.__init__\u001b[1;34m(self, data, index, columns, dtype, copy)\u001b[0m\n\u001b[0;32m    772\u001b[0m     mgr \u001b[38;5;241m=\u001b[39m \u001b[38;5;28mself\u001b[39m\u001b[38;5;241m.\u001b[39m_init_mgr(\n\u001b[0;32m    773\u001b[0m         data, axes\u001b[38;5;241m=\u001b[39m{\u001b[38;5;124m\"\u001b[39m\u001b[38;5;124mindex\u001b[39m\u001b[38;5;124m\"\u001b[39m: index, \u001b[38;5;124m\"\u001b[39m\u001b[38;5;124mcolumns\u001b[39m\u001b[38;5;124m\"\u001b[39m: columns}, dtype\u001b[38;5;241m=\u001b[39mdtype, copy\u001b[38;5;241m=\u001b[39mcopy\n\u001b[0;32m    774\u001b[0m     )\n\u001b[0;32m    776\u001b[0m \u001b[38;5;28;01melif\u001b[39;00m \u001b[38;5;28misinstance\u001b[39m(data, \u001b[38;5;28mdict\u001b[39m):\n\u001b[0;32m    777\u001b[0m     \u001b[38;5;66;03m# GH#38939 de facto copy defaults to False only in non-dict cases\u001b[39;00m\n\u001b[1;32m--> 778\u001b[0m     mgr \u001b[38;5;241m=\u001b[39m dict_to_mgr(data, index, columns, dtype\u001b[38;5;241m=\u001b[39mdtype, copy\u001b[38;5;241m=\u001b[39mcopy, typ\u001b[38;5;241m=\u001b[39mmanager)\n\u001b[0;32m    779\u001b[0m \u001b[38;5;28;01melif\u001b[39;00m \u001b[38;5;28misinstance\u001b[39m(data, ma\u001b[38;5;241m.\u001b[39mMaskedArray):\n\u001b[0;32m    780\u001b[0m     \u001b[38;5;28;01mfrom\u001b[39;00m \u001b[38;5;21;01mnumpy\u001b[39;00m\u001b[38;5;21;01m.\u001b[39;00m\u001b[38;5;21;01mma\u001b[39;00m \u001b[38;5;28;01mimport\u001b[39;00m mrecords\n",
      "File \u001b[1;32m~\\anaconda3\\Lib\\site-packages\\pandas\\core\\internals\\construction.py:503\u001b[0m, in \u001b[0;36mdict_to_mgr\u001b[1;34m(data, index, columns, dtype, typ, copy)\u001b[0m\n\u001b[0;32m    499\u001b[0m     \u001b[38;5;28;01melse\u001b[39;00m:\n\u001b[0;32m    500\u001b[0m         \u001b[38;5;66;03m# dtype check to exclude e.g. range objects, scalars\u001b[39;00m\n\u001b[0;32m    501\u001b[0m         arrays \u001b[38;5;241m=\u001b[39m [x\u001b[38;5;241m.\u001b[39mcopy() \u001b[38;5;28;01mif\u001b[39;00m \u001b[38;5;28mhasattr\u001b[39m(x, \u001b[38;5;124m\"\u001b[39m\u001b[38;5;124mdtype\u001b[39m\u001b[38;5;124m\"\u001b[39m) \u001b[38;5;28;01melse\u001b[39;00m x \u001b[38;5;28;01mfor\u001b[39;00m x \u001b[38;5;129;01min\u001b[39;00m arrays]\n\u001b[1;32m--> 503\u001b[0m \u001b[38;5;28;01mreturn\u001b[39;00m arrays_to_mgr(arrays, columns, index, dtype\u001b[38;5;241m=\u001b[39mdtype, typ\u001b[38;5;241m=\u001b[39mtyp, consolidate\u001b[38;5;241m=\u001b[39mcopy)\n",
      "File \u001b[1;32m~\\anaconda3\\Lib\\site-packages\\pandas\\core\\internals\\construction.py:114\u001b[0m, in \u001b[0;36marrays_to_mgr\u001b[1;34m(arrays, columns, index, dtype, verify_integrity, typ, consolidate)\u001b[0m\n\u001b[0;32m    111\u001b[0m \u001b[38;5;28;01mif\u001b[39;00m verify_integrity:\n\u001b[0;32m    112\u001b[0m     \u001b[38;5;66;03m# figure out the index, if necessary\u001b[39;00m\n\u001b[0;32m    113\u001b[0m     \u001b[38;5;28;01mif\u001b[39;00m index \u001b[38;5;129;01mis\u001b[39;00m \u001b[38;5;28;01mNone\u001b[39;00m:\n\u001b[1;32m--> 114\u001b[0m         index \u001b[38;5;241m=\u001b[39m _extract_index(arrays)\n\u001b[0;32m    115\u001b[0m     \u001b[38;5;28;01melse\u001b[39;00m:\n\u001b[0;32m    116\u001b[0m         index \u001b[38;5;241m=\u001b[39m ensure_index(index)\n",
      "File \u001b[1;32m~\\anaconda3\\Lib\\site-packages\\pandas\\core\\internals\\construction.py:690\u001b[0m, in \u001b[0;36m_extract_index\u001b[1;34m(data)\u001b[0m\n\u001b[0;32m    685\u001b[0m     \u001b[38;5;28;01mif\u001b[39;00m lengths[\u001b[38;5;241m0\u001b[39m] \u001b[38;5;241m!=\u001b[39m \u001b[38;5;28mlen\u001b[39m(index):\n\u001b[0;32m    686\u001b[0m         msg \u001b[38;5;241m=\u001b[39m (\n\u001b[0;32m    687\u001b[0m             \u001b[38;5;124mf\u001b[39m\u001b[38;5;124m\"\u001b[39m\u001b[38;5;124marray length \u001b[39m\u001b[38;5;132;01m{\u001b[39;00mlengths[\u001b[38;5;241m0\u001b[39m]\u001b[38;5;132;01m}\u001b[39;00m\u001b[38;5;124m does not match index \u001b[39m\u001b[38;5;124m\"\u001b[39m\n\u001b[0;32m    688\u001b[0m             \u001b[38;5;124mf\u001b[39m\u001b[38;5;124m\"\u001b[39m\u001b[38;5;124mlength \u001b[39m\u001b[38;5;132;01m{\u001b[39;00m\u001b[38;5;28mlen\u001b[39m(index)\u001b[38;5;132;01m}\u001b[39;00m\u001b[38;5;124m\"\u001b[39m\n\u001b[0;32m    689\u001b[0m         )\n\u001b[1;32m--> 690\u001b[0m         \u001b[38;5;28;01mraise\u001b[39;00m \u001b[38;5;167;01mValueError\u001b[39;00m(msg)\n\u001b[0;32m    691\u001b[0m \u001b[38;5;28;01melse\u001b[39;00m:\n\u001b[0;32m    692\u001b[0m     index \u001b[38;5;241m=\u001b[39m default_index(lengths[\u001b[38;5;241m0\u001b[39m])\n",
      "\u001b[1;31mValueError\u001b[0m: array length 999 does not match index length 2508"
     ]
    }
   ],
   "source": [
    "my_dict = {\n",
    "    \"EmployeeID\" : employees,\n",
    "    \"Attrition\" : y_pred_rf\n",
    "}\n",
    "df = pd.DataFrame(my_dict)\n",
    "df.to_csv('output.csv', index=False)"
   ]
  },
  {
   "cell_type": "code",
   "execution_count": null,
   "id": "33d5cdb2-b1c1-4a38-83f0-7a4548d8787f",
   "metadata": {},
   "outputs": [],
   "source": []
  },
  {
   "cell_type": "code",
   "execution_count": null,
   "id": "0d1fcce4-234b-4510-9b7f-704591d5b5b2",
   "metadata": {},
   "outputs": [],
   "source": []
  },
  {
   "cell_type": "code",
   "execution_count": 643,
   "id": "7ead0a21-54d9-45d4-9e82-c403fefa202a",
   "metadata": {},
   "outputs": [
    {
     "data": {
      "text/plain": [
       "0       6110001\n",
       "1       6110002\n",
       "2       6110003\n",
       "3       6110004\n",
       "4       6110005\n",
       "         ...   \n",
       "2625    6112626\n",
       "2626    6112627\n",
       "2627    6112628\n",
       "2628    6112629\n",
       "2629    6112630\n",
       "Name: EmployeeID, Length: 2508, dtype: int64"
      ]
     },
     "execution_count": 643,
     "metadata": {},
     "output_type": "execute_result"
    }
   ],
   "source": [
    "employees"
   ]
  },
  {
   "cell_type": "code",
   "execution_count": null,
   "id": "6eebb082-4aa4-4604-b8a7-c9edbf839e09",
   "metadata": {},
   "outputs": [],
   "source": []
  },
  {
   "cell_type": "code",
   "execution_count": null,
   "id": "4f2d815f-7882-413e-a582-d46474678d14",
   "metadata": {},
   "outputs": [],
   "source": []
  },
  {
   "cell_type": "code",
   "execution_count": null,
   "id": "94e497e4-8101-4504-968e-386b56627d3e",
   "metadata": {},
   "outputs": [],
   "source": []
  },
  {
   "cell_type": "code",
   "execution_count": null,
   "id": "eecd9b21-b424-4a6f-8e5c-73d420a4bbad",
   "metadata": {},
   "outputs": [],
   "source": []
  },
  {
   "cell_type": "code",
   "execution_count": null,
   "id": "4c5a4437-a00f-4bd6-a755-ce319db81d41",
   "metadata": {},
   "outputs": [],
   "source": []
  },
  {
   "cell_type": "code",
   "execution_count": null,
   "id": "f44aff01-6060-46fb-9a11-f226b8d3ea65",
   "metadata": {},
   "outputs": [],
   "source": []
  },
  {
   "cell_type": "code",
   "execution_count": null,
   "id": "93d3a4f5-63fb-4564-acf4-5cbfe5935690",
   "metadata": {},
   "outputs": [],
   "source": []
  },
  {
   "cell_type": "code",
   "execution_count": null,
   "id": "2b041f9d-528d-493e-8e55-2a47d3ee9da5",
   "metadata": {},
   "outputs": [],
   "source": []
  },
  {
   "cell_type": "code",
   "execution_count": null,
   "id": "e33e9ed5-683d-4e9c-81ff-94424741b015",
   "metadata": {},
   "outputs": [],
   "source": []
  }
 ],
 "metadata": {
  "kernelspec": {
   "display_name": "Python 3 (ipykernel)",
   "language": "python",
   "name": "python3"
  },
  "language_info": {
   "codemirror_mode": {
    "name": "ipython",
    "version": 3
   },
   "file_extension": ".py",
   "mimetype": "text/x-python",
   "name": "python",
   "nbconvert_exporter": "python",
   "pygments_lexer": "ipython3",
   "version": "3.12.4"
  }
 },
 "nbformat": 4,
 "nbformat_minor": 5
}
