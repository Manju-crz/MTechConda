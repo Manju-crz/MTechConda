{
 "cells": [
  {
   "cell_type": "code",
   "execution_count": 2,
   "id": "1e397c98-d574-4dcc-9942-f73e9eb4de80",
   "metadata": {},
   "outputs": [],
   "source": [
    "import pandas as pd\n",
    "import numpy as np\n",
    "import matplotlib.pyplot as plt\n",
    "import seaborn as sns"
   ]
  },
  {
   "cell_type": "code",
   "execution_count": 3,
   "id": "4afa1d16-bb2d-4f50-86f5-bb7662dfd7f5",
   "metadata": {},
   "outputs": [
    {
     "data": {
      "text/plain": [
       "7.38905609893065"
      ]
     },
     "execution_count": 3,
     "metadata": {},
     "output_type": "execute_result"
    }
   ],
   "source": [
    "np.exp(2)"
   ]
  },
  {
   "cell_type": "code",
   "execution_count": 4,
   "id": "97b84491-2b4e-4d9c-8d27-96bb3f880fb3",
   "metadata": {},
   "outputs": [
    {
     "data": {
      "text/plain": [
       "0.1353352832366127"
      ]
     },
     "execution_count": 4,
     "metadata": {},
     "output_type": "execute_result"
    }
   ],
   "source": [
    "np.exp(-2)"
   ]
  },
  {
   "cell_type": "code",
   "execution_count": 5,
   "id": "67472ccb-af67-4fa4-8a33-30b401f0fb79",
   "metadata": {},
   "outputs": [],
   "source": [
    "data = pd.DataFrame({'W':[62,58,70,75,92,55,90,97], 'HD':[0,0,0,1,1,0,1,1]  })"
   ]
  },
  {
   "cell_type": "code",
   "execution_count": 6,
   "id": "5f80953b-8ee0-4eea-a2bc-db971a516916",
   "metadata": {},
   "outputs": [
    {
     "data": {
      "text/html": [
       "<div>\n",
       "<style scoped>\n",
       "    .dataframe tbody tr th:only-of-type {\n",
       "        vertical-align: middle;\n",
       "    }\n",
       "\n",
       "    .dataframe tbody tr th {\n",
       "        vertical-align: top;\n",
       "    }\n",
       "\n",
       "    .dataframe thead th {\n",
       "        text-align: right;\n",
       "    }\n",
       "</style>\n",
       "<table border=\"1\" class=\"dataframe\">\n",
       "  <thead>\n",
       "    <tr style=\"text-align: right;\">\n",
       "      <th></th>\n",
       "      <th>W</th>\n",
       "      <th>HD</th>\n",
       "    </tr>\n",
       "  </thead>\n",
       "  <tbody>\n",
       "    <tr>\n",
       "      <th>0</th>\n",
       "      <td>62</td>\n",
       "      <td>0</td>\n",
       "    </tr>\n",
       "    <tr>\n",
       "      <th>1</th>\n",
       "      <td>58</td>\n",
       "      <td>0</td>\n",
       "    </tr>\n",
       "    <tr>\n",
       "      <th>2</th>\n",
       "      <td>70</td>\n",
       "      <td>0</td>\n",
       "    </tr>\n",
       "    <tr>\n",
       "      <th>3</th>\n",
       "      <td>75</td>\n",
       "      <td>1</td>\n",
       "    </tr>\n",
       "    <tr>\n",
       "      <th>4</th>\n",
       "      <td>92</td>\n",
       "      <td>1</td>\n",
       "    </tr>\n",
       "    <tr>\n",
       "      <th>5</th>\n",
       "      <td>55</td>\n",
       "      <td>0</td>\n",
       "    </tr>\n",
       "    <tr>\n",
       "      <th>6</th>\n",
       "      <td>90</td>\n",
       "      <td>1</td>\n",
       "    </tr>\n",
       "    <tr>\n",
       "      <th>7</th>\n",
       "      <td>97</td>\n",
       "      <td>1</td>\n",
       "    </tr>\n",
       "  </tbody>\n",
       "</table>\n",
       "</div>"
      ],
      "text/plain": [
       "    W  HD\n",
       "0  62   0\n",
       "1  58   0\n",
       "2  70   0\n",
       "3  75   1\n",
       "4  92   1\n",
       "5  55   0\n",
       "6  90   1\n",
       "7  97   1"
      ]
     },
     "execution_count": 6,
     "metadata": {},
     "output_type": "execute_result"
    }
   ],
   "source": [
    "data"
   ]
  },
  {
   "cell_type": "code",
   "execution_count": 7,
   "id": "a0eb0b34-4976-4b1f-92b8-0f1cebc66be3",
   "metadata": {},
   "outputs": [
    {
     "data": {
      "text/plain": [
       "<matplotlib.collections.PathCollection at 0x263d6341ee0>"
      ]
     },
     "execution_count": 7,
     "metadata": {},
     "output_type": "execute_result"
    },
    {
     "data": {
      "image/png": "[encoded data removed]",
      "text/plain": [
       "<Figure size 640x480 with 1 Axes>"
      ]
     },
     "metadata": {},
     "output_type": "display_data"
    }
   ],
   "source": [
    "plt.scatter(data['W'], data['HD'], c=data['HD'])"
   ]
  },
  {
   "cell_type": "code",
   "execution_count": 8,
   "id": "f03d0b25-7762-45a9-a93d-732d9fde09e5",
   "metadata": {},
   "outputs": [
    {
     "data": {
      "text/plain": [
       "0.028975875589818567"
      ]
     },
     "execution_count": 8,
     "metadata": {},
     "output_type": "execute_result"
    }
   ],
   "source": [
    "# linear regression way to calculate beta\n",
    "x = data['W']\n",
    "y = data['HD']\n",
    "b1 = np.sum((x-x.mean()) * (y-y.mean()) ) / np.sum((x-x.mean()) ** 2)\n",
    "b1"
   ]
  },
  {
   "cell_type": "code",
   "execution_count": 9,
   "id": "e80b6ad4-85fc-489d-972f-d353e6d5cad1",
   "metadata": {},
   "outputs": [
    {
     "data": {
      "text/plain": [
       "-1.6695686847876652"
      ]
     },
     "execution_count": 9,
     "metadata": {},
     "output_type": "execute_result"
    }
   ],
   "source": [
    "# linear regression way to calculate beta\n",
    "b0 = y.mean() - b1*x.mean()\n",
    "b0"
   ]
  },
  {
   "cell_type": "code",
   "execution_count": 10,
   "id": "7fd4061f-c056-4351-93ab-a395e2120be8",
   "metadata": {},
   "outputs": [],
   "source": [
    "yreg = b1*x + b0"
   ]
  },
  {
   "cell_type": "code",
   "execution_count": 11,
   "id": "e69dba80-b1fa-4d3d-be64-848c6bd8338e",
   "metadata": {},
   "outputs": [
    {
     "data": {
      "text/plain": [
       "0    0.126936\n",
       "1    0.011032\n",
       "2    0.358743\n",
       "3    0.503622\n",
       "4    0.996212\n",
       "5   -0.075896\n",
       "6    0.938260\n",
       "7    1.141091\n",
       "Name: W, dtype: float64"
      ]
     },
     "execution_count": 11,
     "metadata": {},
     "output_type": "execute_result"
    }
   ],
   "source": [
    "yreg"
   ]
  },
  {
   "cell_type": "code",
   "execution_count": 12,
   "id": "daf9c11b-1e65-41bd-ad2f-f5deb2887ce3",
   "metadata": {},
   "outputs": [
    {
     "data": {
      "image/png": "[encoded data removed]",
      "text/plain": [
       "<Figure size 640x480 with 1 Axes>"
      ]
     },
     "metadata": {},
     "output_type": "display_data"
    }
   ],
   "source": [
    "plt.scatter(data['W'], data['HD'], c=data['HD'])\n",
    "plt.plot(x,yreg)\n",
    "plt.show()"
   ]
  },
  {
   "cell_type": "code",
   "execution_count": 13,
   "id": "4a5adb67-ff0f-420c-a8c0-dab87dc4e97e",
   "metadata": {},
   "outputs": [
    {
     "data": {
      "text/plain": [
       "0    0.531691\n",
       "1    0.502758\n",
       "2    0.588736\n",
       "3    0.623310\n",
       "4    0.730313\n",
       "5    0.481035\n",
       "6    0.718748\n",
       "7    0.757880\n",
       "Name: W, dtype: float64"
      ]
     },
     "execution_count": 13,
     "metadata": {},
     "output_type": "execute_result"
    }
   ],
   "source": [
    "pvalue = np.exp(yreg) / (1+np.exp(yreg))\n",
    "pvalue"
   ]
  },
  {
   "cell_type": "code",
   "execution_count": 14,
   "id": "62f1cc8d-e347-41a9-ab21-6444011ad24c",
   "metadata": {},
   "outputs": [
    {
     "data": {
      "text/plain": [
       "0.6168089847214485"
      ]
     },
     "execution_count": 14,
     "metadata": {},
     "output_type": "execute_result"
    }
   ],
   "source": [
    "pmean = pvalue.mean()\n",
    "pmean # consideredd p-mean as threshold instead of 0.5"
   ]
  },
  {
   "cell_type": "code",
   "execution_count": 15,
   "id": "e6130599-ab06-436e-9244-1cad183b2320",
   "metadata": {},
   "outputs": [],
   "source": [
    "p1 = pvalue.copy()"
   ]
  },
  {
   "cell_type": "code",
   "execution_count": 16,
   "id": "df99b4e6-9e85-48ee-ab9a-9218d8306f55",
   "metadata": {},
   "outputs": [
    {
     "data": {
      "text/plain": [
       "0    0.0\n",
       "1    0.0\n",
       "2    0.0\n",
       "3    1.0\n",
       "4    1.0\n",
       "5    0.0\n",
       "6    1.0\n",
       "7    1.0\n",
       "Name: W, dtype: float64"
      ]
     },
     "execution_count": 16,
     "metadata": {},
     "output_type": "execute_result"
    }
   ],
   "source": [
    "p1[p1>=pmean]=1\n",
    "p1[p1<pmean]=0\n",
    "p1"
   ]
  },
  {
   "cell_type": "code",
   "execution_count": null,
   "id": "8da03289-2c45-481d-969d-6529acb0eb23",
   "metadata": {},
   "outputs": [],
   "source": []
  },
  {
   "cell_type": "code",
   "execution_count": 17,
   "id": "de4286e1-8711-42cf-9054-cb1feb1610b9",
   "metadata": {},
   "outputs": [
    {
     "data": {
      "image/png": "[encoded data removed]",
      "text/plain": [
       "<Figure size 640x480 with 1 Axes>"
      ]
     },
     "metadata": {},
     "output_type": "display_data"
    }
   ],
   "source": [
    "plt.scatter(data['W'], data['HD'], c=data['HD'])\n",
    "plt.plot(x,yreg)\n",
    "plt.plot(np.sort(x), np.sort(p1))\n",
    "plt.show()"
   ]
  },
  {
   "cell_type": "code",
   "execution_count": null,
   "id": "c99f8125-56d9-4af7-9d94-871bc7208e3d",
   "metadata": {},
   "outputs": [],
   "source": []
  },
  {
   "cell_type": "code",
   "execution_count": 18,
   "id": "2931da17-704d-45ac-bfee-a06d74847735",
   "metadata": {},
   "outputs": [
    {
     "data": {
      "text/plain": [
       "4.396213028330339"
      ]
     },
     "execution_count": 18,
     "metadata": {},
     "output_type": "execute_result"
    }
   ],
   "source": [
    "nll = - np.sum(y*np.log(pvalue)+(1-y)*np.log(1-pvalue))\n",
    "nll"
   ]
  },
  {
   "cell_type": "code",
   "execution_count": null,
   "id": "f86e037d-230b-46ba-9a5a-7c4a018424d8",
   "metadata": {},
   "outputs": [],
   "source": []
  },
  {
   "cell_type": "code",
   "execution_count": 19,
   "id": "47ccbb98-c40b-4430-a45e-ec6048bbcb81",
   "metadata": {},
   "outputs": [],
   "source": [
    "data = pd.read_csv('Admission_Predict.csv')"
   ]
  },
  {
   "cell_type": "code",
   "execution_count": 20,
   "id": "bee27818-4dd5-4a7d-a469-66b9046e58c8",
   "metadata": {},
   "outputs": [
    {
     "data": {
      "text/html": [
       "<div>\n",
       "<style scoped>\n",
       "    .dataframe tbody tr th:only-of-type {\n",
       "        vertical-align: middle;\n",
       "    }\n",
       "\n",
       "    .dataframe tbody tr th {\n",
       "        vertical-align: top;\n",
       "    }\n",
       "\n",
       "    .dataframe thead th {\n",
       "        text-align: right;\n",
       "    }\n",
       "</style>\n",
       "<table border=\"1\" class=\"dataframe\">\n",
       "  <thead>\n",
       "    <tr style=\"text-align: right;\">\n",
       "      <th></th>\n",
       "      <th>Serial No.</th>\n",
       "      <th>GRE Score</th>\n",
       "      <th>TOEFL Score</th>\n",
       "      <th>University Rating</th>\n",
       "      <th>SOP</th>\n",
       "      <th>LOR</th>\n",
       "      <th>CGPA</th>\n",
       "      <th>Research</th>\n",
       "      <th>Chance of Admit</th>\n",
       "    </tr>\n",
       "  </thead>\n",
       "  <tbody>\n",
       "    <tr>\n",
       "      <th>0</th>\n",
       "      <td>1</td>\n",
       "      <td>337</td>\n",
       "      <td>118</td>\n",
       "      <td>4</td>\n",
       "      <td>4.5</td>\n",
       "      <td>4.5</td>\n",
       "      <td>9.65</td>\n",
       "      <td>1</td>\n",
       "      <td>1</td>\n",
       "    </tr>\n",
       "    <tr>\n",
       "      <th>1</th>\n",
       "      <td>2</td>\n",
       "      <td>324</td>\n",
       "      <td>107</td>\n",
       "      <td>4</td>\n",
       "      <td>4.0</td>\n",
       "      <td>4.5</td>\n",
       "      <td>8.87</td>\n",
       "      <td>1</td>\n",
       "      <td>1</td>\n",
       "    </tr>\n",
       "    <tr>\n",
       "      <th>2</th>\n",
       "      <td>3</td>\n",
       "      <td>316</td>\n",
       "      <td>104</td>\n",
       "      <td>3</td>\n",
       "      <td>3.0</td>\n",
       "      <td>3.5</td>\n",
       "      <td>8.00</td>\n",
       "      <td>1</td>\n",
       "      <td>0</td>\n",
       "    </tr>\n",
       "    <tr>\n",
       "      <th>3</th>\n",
       "      <td>4</td>\n",
       "      <td>322</td>\n",
       "      <td>110</td>\n",
       "      <td>3</td>\n",
       "      <td>3.5</td>\n",
       "      <td>2.5</td>\n",
       "      <td>8.67</td>\n",
       "      <td>1</td>\n",
       "      <td>1</td>\n",
       "    </tr>\n",
       "    <tr>\n",
       "      <th>4</th>\n",
       "      <td>5</td>\n",
       "      <td>314</td>\n",
       "      <td>103</td>\n",
       "      <td>2</td>\n",
       "      <td>2.0</td>\n",
       "      <td>3.0</td>\n",
       "      <td>8.21</td>\n",
       "      <td>0</td>\n",
       "      <td>0</td>\n",
       "    </tr>\n",
       "    <tr>\n",
       "      <th>...</th>\n",
       "      <td>...</td>\n",
       "      <td>...</td>\n",
       "      <td>...</td>\n",
       "      <td>...</td>\n",
       "      <td>...</td>\n",
       "      <td>...</td>\n",
       "      <td>...</td>\n",
       "      <td>...</td>\n",
       "      <td>...</td>\n",
       "    </tr>\n",
       "    <tr>\n",
       "      <th>395</th>\n",
       "      <td>396</td>\n",
       "      <td>324</td>\n",
       "      <td>110</td>\n",
       "      <td>3</td>\n",
       "      <td>3.5</td>\n",
       "      <td>3.5</td>\n",
       "      <td>9.04</td>\n",
       "      <td>1</td>\n",
       "      <td>1</td>\n",
       "    </tr>\n",
       "    <tr>\n",
       "      <th>396</th>\n",
       "      <td>397</td>\n",
       "      <td>325</td>\n",
       "      <td>107</td>\n",
       "      <td>3</td>\n",
       "      <td>3.0</td>\n",
       "      <td>3.5</td>\n",
       "      <td>9.11</td>\n",
       "      <td>1</td>\n",
       "      <td>1</td>\n",
       "    </tr>\n",
       "    <tr>\n",
       "      <th>397</th>\n",
       "      <td>398</td>\n",
       "      <td>330</td>\n",
       "      <td>116</td>\n",
       "      <td>4</td>\n",
       "      <td>5.0</td>\n",
       "      <td>4.5</td>\n",
       "      <td>9.45</td>\n",
       "      <td>1</td>\n",
       "      <td>1</td>\n",
       "    </tr>\n",
       "    <tr>\n",
       "      <th>398</th>\n",
       "      <td>399</td>\n",
       "      <td>312</td>\n",
       "      <td>103</td>\n",
       "      <td>3</td>\n",
       "      <td>3.5</td>\n",
       "      <td>4.0</td>\n",
       "      <td>8.78</td>\n",
       "      <td>0</td>\n",
       "      <td>0</td>\n",
       "    </tr>\n",
       "    <tr>\n",
       "      <th>399</th>\n",
       "      <td>400</td>\n",
       "      <td>333</td>\n",
       "      <td>117</td>\n",
       "      <td>4</td>\n",
       "      <td>5.0</td>\n",
       "      <td>4.0</td>\n",
       "      <td>9.66</td>\n",
       "      <td>1</td>\n",
       "      <td>1</td>\n",
       "    </tr>\n",
       "  </tbody>\n",
       "</table>\n",
       "<p>400 rows × 9 columns</p>\n",
       "</div>"
      ],
      "text/plain": [
       "     Serial No.  GRE Score  TOEFL Score  University Rating  SOP  LOR  CGPA  \\\n",
       "0             1        337          118                  4  4.5  4.5  9.65   \n",
       "1             2        324          107                  4  4.0  4.5  8.87   \n",
       "2             3        316          104                  3  3.0  3.5  8.00   \n",
       "3             4        322          110                  3  3.5  2.5  8.67   \n",
       "4             5        314          103                  2  2.0  3.0  8.21   \n",
       "..          ...        ...          ...                ...  ...  ...   ...   \n",
       "395         396        324          110                  3  3.5  3.5  9.04   \n",
       "396         397        325          107                  3  3.0  3.5  9.11   \n",
       "397         398        330          116                  4  5.0  4.5  9.45   \n",
       "398         399        312          103                  3  3.5  4.0  8.78   \n",
       "399         400        333          117                  4  5.0  4.0  9.66   \n",
       "\n",
       "     Research  Chance of Admit  \n",
       "0           1                1  \n",
       "1           1                1  \n",
       "2           1                0  \n",
       "3           1                1  \n",
       "4           0                0  \n",
       "..        ...              ...  \n",
       "395         1                1  \n",
       "396         1                1  \n",
       "397         1                1  \n",
       "398         0                0  \n",
       "399         1                1  \n",
       "\n",
       "[400 rows x 9 columns]"
      ]
     },
     "execution_count": 20,
     "metadata": {},
     "output_type": "execute_result"
    }
   ],
   "source": [
    "data"
   ]
  },
  {
   "cell_type": "code",
   "execution_count": 21,
   "id": "4b42c056-43f5-4d91-a1c2-525185c400a3",
   "metadata": {},
   "outputs": [
    {
     "data": {
      "text/plain": [
       "Serial No.           0\n",
       "GRE Score            0\n",
       "TOEFL Score          0\n",
       "University Rating    0\n",
       "SOP                  0\n",
       "LOR                  0\n",
       "CGPA                 0\n",
       "Research             0\n",
       "Chance of Admit      0\n",
       "dtype: int64"
      ]
     },
     "execution_count": 21,
     "metadata": {},
     "output_type": "execute_result"
    }
   ],
   "source": [
    "data.isnull().sum()"
   ]
  },
  {
   "cell_type": "code",
   "execution_count": 22,
   "id": "41506bef-7d13-49f9-81e8-353df1be2348",
   "metadata": {},
   "outputs": [],
   "source": [
    "data = data.drop(columns=['Serial No.'], axis = 1)"
   ]
  },
  {
   "cell_type": "code",
   "execution_count": 23,
   "id": "7db5f409-8be8-4952-a375-d77358a3a9bf",
   "metadata": {},
   "outputs": [],
   "source": [
    "out = data['Chance of Admit']"
   ]
  },
  {
   "cell_type": "code",
   "execution_count": 24,
   "id": "c767e1c3-200d-485e-befe-6fe5f58a725c",
   "metadata": {},
   "outputs": [
    {
     "data": {
      "text/plain": [
       "0      1\n",
       "1      1\n",
       "2      0\n",
       "3      1\n",
       "4      0\n",
       "      ..\n",
       "395    1\n",
       "396    1\n",
       "397    1\n",
       "398    0\n",
       "399    1\n",
       "Name: Chance of Admit, Length: 400, dtype: int64"
      ]
     },
     "execution_count": 24,
     "metadata": {},
     "output_type": "execute_result"
    }
   ],
   "source": [
    "out"
   ]
  },
  {
   "cell_type": "code",
   "execution_count": 25,
   "id": "f5d469f4-550d-484c-9a4f-d443b8e8a95e",
   "metadata": {},
   "outputs": [],
   "source": [
    "inp = data.drop(columns=['Chance of Admit'])"
   ]
  },
  {
   "cell_type": "code",
   "execution_count": 26,
   "id": "f56b0004-9208-47f4-9785-c71c913ae8b1",
   "metadata": {},
   "outputs": [
    {
     "data": {
      "text/html": [
       "<div>\n",
       "<style scoped>\n",
       "    .dataframe tbody tr th:only-of-type {\n",
       "        vertical-align: middle;\n",
       "    }\n",
       "\n",
       "    .dataframe tbody tr th {\n",
       "        vertical-align: top;\n",
       "    }\n",
       "\n",
       "    .dataframe thead th {\n",
       "        text-align: right;\n",
       "    }\n",
       "</style>\n",
       "<table border=\"1\" class=\"dataframe\">\n",
       "  <thead>\n",
       "    <tr style=\"text-align: right;\">\n",
       "      <th></th>\n",
       "      <th>GRE Score</th>\n",
       "      <th>TOEFL Score</th>\n",
       "      <th>University Rating</th>\n",
       "      <th>SOP</th>\n",
       "      <th>LOR</th>\n",
       "      <th>CGPA</th>\n",
       "      <th>Research</th>\n",
       "    </tr>\n",
       "  </thead>\n",
       "  <tbody>\n",
       "    <tr>\n",
       "      <th>0</th>\n",
       "      <td>337</td>\n",
       "      <td>118</td>\n",
       "      <td>4</td>\n",
       "      <td>4.5</td>\n",
       "      <td>4.5</td>\n",
       "      <td>9.65</td>\n",
       "      <td>1</td>\n",
       "    </tr>\n",
       "    <tr>\n",
       "      <th>1</th>\n",
       "      <td>324</td>\n",
       "      <td>107</td>\n",
       "      <td>4</td>\n",
       "      <td>4.0</td>\n",
       "      <td>4.5</td>\n",
       "      <td>8.87</td>\n",
       "      <td>1</td>\n",
       "    </tr>\n",
       "    <tr>\n",
       "      <th>2</th>\n",
       "      <td>316</td>\n",
       "      <td>104</td>\n",
       "      <td>3</td>\n",
       "      <td>3.0</td>\n",
       "      <td>3.5</td>\n",
       "      <td>8.00</td>\n",
       "      <td>1</td>\n",
       "    </tr>\n",
       "    <tr>\n",
       "      <th>3</th>\n",
       "      <td>322</td>\n",
       "      <td>110</td>\n",
       "      <td>3</td>\n",
       "      <td>3.5</td>\n",
       "      <td>2.5</td>\n",
       "      <td>8.67</td>\n",
       "      <td>1</td>\n",
       "    </tr>\n",
       "    <tr>\n",
       "      <th>4</th>\n",
       "      <td>314</td>\n",
       "      <td>103</td>\n",
       "      <td>2</td>\n",
       "      <td>2.0</td>\n",
       "      <td>3.0</td>\n",
       "      <td>8.21</td>\n",
       "      <td>0</td>\n",
       "    </tr>\n",
       "  </tbody>\n",
       "</table>\n",
       "</div>"
      ],
      "text/plain": [
       "   GRE Score  TOEFL Score  University Rating  SOP  LOR  CGPA  Research\n",
       "0        337          118                  4  4.5  4.5  9.65         1\n",
       "1        324          107                  4  4.0  4.5  8.87         1\n",
       "2        316          104                  3  3.0  3.5  8.00         1\n",
       "3        322          110                  3  3.5  2.5  8.67         1\n",
       "4        314          103                  2  2.0  3.0  8.21         0"
      ]
     },
     "execution_count": 26,
     "metadata": {},
     "output_type": "execute_result"
    }
   ],
   "source": [
    "inp.head()"
   ]
  },
  {
   "cell_type": "code",
   "execution_count": 27,
   "id": "3afa98e6-6ef6-41a1-b5df-5981e6506b90",
   "metadata": {},
   "outputs": [],
   "source": [
    "from sklearn.preprocessing import StandardScaler\n",
    "sc = StandardScaler()\n",
    "inp_sc = sc.fit_transform(inp.iloc[:,:-1])\n",
    "inp_sc = pd.DataFrame(inp_sc, columns=inp.columns[:-1])"
   ]
  },
  {
   "cell_type": "code",
   "execution_count": 28,
   "id": "1e15faf1-58cf-4660-b4bb-bbc227676ed1",
   "metadata": {},
   "outputs": [
    {
     "data": {
      "text/html": [
       "<div>\n",
       "<style scoped>\n",
       "    .dataframe tbody tr th:only-of-type {\n",
       "        vertical-align: middle;\n",
       "    }\n",
       "\n",
       "    .dataframe tbody tr th {\n",
       "        vertical-align: top;\n",
       "    }\n",
       "\n",
       "    .dataframe thead th {\n",
       "        text-align: right;\n",
       "    }\n",
       "</style>\n",
       "<table border=\"1\" class=\"dataframe\">\n",
       "  <thead>\n",
       "    <tr style=\"text-align: right;\">\n",
       "      <th></th>\n",
       "      <th>GRE Score</th>\n",
       "      <th>TOEFL Score</th>\n",
       "      <th>University Rating</th>\n",
       "      <th>SOP</th>\n",
       "      <th>LOR</th>\n",
       "      <th>CGPA</th>\n",
       "    </tr>\n",
       "  </thead>\n",
       "  <tbody>\n",
       "    <tr>\n",
       "      <th>0</th>\n",
       "      <td>1.762107</td>\n",
       "      <td>1.746971</td>\n",
       "      <td>0.798829</td>\n",
       "      <td>1.093864</td>\n",
       "      <td>1.167321</td>\n",
       "      <td>1.764818</td>\n",
       "    </tr>\n",
       "    <tr>\n",
       "      <th>1</th>\n",
       "      <td>0.627656</td>\n",
       "      <td>-0.067635</td>\n",
       "      <td>0.798829</td>\n",
       "      <td>0.596653</td>\n",
       "      <td>1.167321</td>\n",
       "      <td>0.455151</td>\n",
       "    </tr>\n",
       "    <tr>\n",
       "      <th>2</th>\n",
       "      <td>-0.070467</td>\n",
       "      <td>-0.562528</td>\n",
       "      <td>-0.076600</td>\n",
       "      <td>-0.397769</td>\n",
       "      <td>0.052933</td>\n",
       "      <td>-1.005631</td>\n",
       "    </tr>\n",
       "    <tr>\n",
       "      <th>3</th>\n",
       "      <td>0.453126</td>\n",
       "      <td>0.427257</td>\n",
       "      <td>-0.076600</td>\n",
       "      <td>0.099442</td>\n",
       "      <td>-1.061454</td>\n",
       "      <td>0.119339</td>\n",
       "    </tr>\n",
       "    <tr>\n",
       "      <th>4</th>\n",
       "      <td>-0.244998</td>\n",
       "      <td>-0.727492</td>\n",
       "      <td>-0.952029</td>\n",
       "      <td>-1.392191</td>\n",
       "      <td>-0.504260</td>\n",
       "      <td>-0.653029</td>\n",
       "    </tr>\n",
       "  </tbody>\n",
       "</table>\n",
       "</div>"
      ],
      "text/plain": [
       "   GRE Score  TOEFL Score  University Rating       SOP       LOR      CGPA\n",
       "0   1.762107     1.746971           0.798829  1.093864  1.167321  1.764818\n",
       "1   0.627656    -0.067635           0.798829  0.596653  1.167321  0.455151\n",
       "2  -0.070467    -0.562528          -0.076600 -0.397769  0.052933 -1.005631\n",
       "3   0.453126     0.427257          -0.076600  0.099442 -1.061454  0.119339\n",
       "4  -0.244998    -0.727492          -0.952029 -1.392191 -0.504260 -0.653029"
      ]
     },
     "execution_count": 28,
     "metadata": {},
     "output_type": "execute_result"
    }
   ],
   "source": [
    "inp_sc.head()"
   ]
  },
  {
   "cell_type": "code",
   "execution_count": 29,
   "id": "768baf49-fff0-4096-8d5d-5e5964651f8b",
   "metadata": {},
   "outputs": [],
   "source": [
    "inp_sc['Research'] = inp['Research']"
   ]
  },
  {
   "cell_type": "code",
   "execution_count": 30,
   "id": "07468d01-cd9b-4841-95e3-bc3552b43ee1",
   "metadata": {},
   "outputs": [
    {
     "data": {
      "text/html": [
       "<div>\n",
       "<style scoped>\n",
       "    .dataframe tbody tr th:only-of-type {\n",
       "        vertical-align: middle;\n",
       "    }\n",
       "\n",
       "    .dataframe tbody tr th {\n",
       "        vertical-align: top;\n",
       "    }\n",
       "\n",
       "    .dataframe thead th {\n",
       "        text-align: right;\n",
       "    }\n",
       "</style>\n",
       "<table border=\"1\" class=\"dataframe\">\n",
       "  <thead>\n",
       "    <tr style=\"text-align: right;\">\n",
       "      <th></th>\n",
       "      <th>GRE Score</th>\n",
       "      <th>TOEFL Score</th>\n",
       "      <th>University Rating</th>\n",
       "      <th>SOP</th>\n",
       "      <th>LOR</th>\n",
       "      <th>CGPA</th>\n",
       "      <th>Research</th>\n",
       "    </tr>\n",
       "  </thead>\n",
       "  <tbody>\n",
       "    <tr>\n",
       "      <th>0</th>\n",
       "      <td>1.762107</td>\n",
       "      <td>1.746971</td>\n",
       "      <td>0.798829</td>\n",
       "      <td>1.093864</td>\n",
       "      <td>1.167321</td>\n",
       "      <td>1.764818</td>\n",
       "      <td>1</td>\n",
       "    </tr>\n",
       "    <tr>\n",
       "      <th>1</th>\n",
       "      <td>0.627656</td>\n",
       "      <td>-0.067635</td>\n",
       "      <td>0.798829</td>\n",
       "      <td>0.596653</td>\n",
       "      <td>1.167321</td>\n",
       "      <td>0.455151</td>\n",
       "      <td>1</td>\n",
       "    </tr>\n",
       "    <tr>\n",
       "      <th>2</th>\n",
       "      <td>-0.070467</td>\n",
       "      <td>-0.562528</td>\n",
       "      <td>-0.076600</td>\n",
       "      <td>-0.397769</td>\n",
       "      <td>0.052933</td>\n",
       "      <td>-1.005631</td>\n",
       "      <td>1</td>\n",
       "    </tr>\n",
       "    <tr>\n",
       "      <th>3</th>\n",
       "      <td>0.453126</td>\n",
       "      <td>0.427257</td>\n",
       "      <td>-0.076600</td>\n",
       "      <td>0.099442</td>\n",
       "      <td>-1.061454</td>\n",
       "      <td>0.119339</td>\n",
       "      <td>1</td>\n",
       "    </tr>\n",
       "    <tr>\n",
       "      <th>4</th>\n",
       "      <td>-0.244998</td>\n",
       "      <td>-0.727492</td>\n",
       "      <td>-0.952029</td>\n",
       "      <td>-1.392191</td>\n",
       "      <td>-0.504260</td>\n",
       "      <td>-0.653029</td>\n",
       "      <td>0</td>\n",
       "    </tr>\n",
       "    <tr>\n",
       "      <th>...</th>\n",
       "      <td>...</td>\n",
       "      <td>...</td>\n",
       "      <td>...</td>\n",
       "      <td>...</td>\n",
       "      <td>...</td>\n",
       "      <td>...</td>\n",
       "      <td>...</td>\n",
       "    </tr>\n",
       "    <tr>\n",
       "      <th>395</th>\n",
       "      <td>0.627656</td>\n",
       "      <td>0.427257</td>\n",
       "      <td>-0.076600</td>\n",
       "      <td>0.099442</td>\n",
       "      <td>0.052933</td>\n",
       "      <td>0.740592</td>\n",
       "      <td>1</td>\n",
       "    </tr>\n",
       "    <tr>\n",
       "      <th>396</th>\n",
       "      <td>0.714922</td>\n",
       "      <td>-0.067635</td>\n",
       "      <td>-0.076600</td>\n",
       "      <td>-0.397769</td>\n",
       "      <td>0.052933</td>\n",
       "      <td>0.858126</td>\n",
       "      <td>1</td>\n",
       "    </tr>\n",
       "    <tr>\n",
       "      <th>397</th>\n",
       "      <td>1.151249</td>\n",
       "      <td>1.417042</td>\n",
       "      <td>0.798829</td>\n",
       "      <td>1.591075</td>\n",
       "      <td>1.167321</td>\n",
       "      <td>1.429006</td>\n",
       "      <td>1</td>\n",
       "    </tr>\n",
       "    <tr>\n",
       "      <th>398</th>\n",
       "      <td>-0.419528</td>\n",
       "      <td>-0.727492</td>\n",
       "      <td>-0.076600</td>\n",
       "      <td>0.099442</td>\n",
       "      <td>0.610127</td>\n",
       "      <td>0.304036</td>\n",
       "      <td>0</td>\n",
       "    </tr>\n",
       "    <tr>\n",
       "      <th>399</th>\n",
       "      <td>1.413045</td>\n",
       "      <td>1.582006</td>\n",
       "      <td>0.798829</td>\n",
       "      <td>1.591075</td>\n",
       "      <td>0.610127</td>\n",
       "      <td>1.781609</td>\n",
       "      <td>1</td>\n",
       "    </tr>\n",
       "  </tbody>\n",
       "</table>\n",
       "<p>400 rows × 7 columns</p>\n",
       "</div>"
      ],
      "text/plain": [
       "     GRE Score  TOEFL Score  University Rating       SOP       LOR      CGPA  \\\n",
       "0     1.762107     1.746971           0.798829  1.093864  1.167321  1.764818   \n",
       "1     0.627656    -0.067635           0.798829  0.596653  1.167321  0.455151   \n",
       "2    -0.070467    -0.562528          -0.076600 -0.397769  0.052933 -1.005631   \n",
       "3     0.453126     0.427257          -0.076600  0.099442 -1.061454  0.119339   \n",
       "4    -0.244998    -0.727492          -0.952029 -1.392191 -0.504260 -0.653029   \n",
       "..         ...          ...                ...       ...       ...       ...   \n",
       "395   0.627656     0.427257          -0.076600  0.099442  0.052933  0.740592   \n",
       "396   0.714922    -0.067635          -0.076600 -0.397769  0.052933  0.858126   \n",
       "397   1.151249     1.417042           0.798829  1.591075  1.167321  1.429006   \n",
       "398  -0.419528    -0.727492          -0.076600  0.099442  0.610127  0.304036   \n",
       "399   1.413045     1.582006           0.798829  1.591075  0.610127  1.781609   \n",
       "\n",
       "     Research  \n",
       "0           1  \n",
       "1           1  \n",
       "2           1  \n",
       "3           1  \n",
       "4           0  \n",
       "..        ...  \n",
       "395         1  \n",
       "396         1  \n",
       "397         1  \n",
       "398         0  \n",
       "399         1  \n",
       "\n",
       "[400 rows x 7 columns]"
      ]
     },
     "execution_count": 30,
     "metadata": {},
     "output_type": "execute_result"
    }
   ],
   "source": [
    "inp_sc"
   ]
  },
  {
   "cell_type": "code",
   "execution_count": 31,
   "id": "dd347e14-12a0-4434-9632-296339a29735",
   "metadata": {},
   "outputs": [],
   "source": [
    "import statsmodels.api as sm"
   ]
  },
  {
   "cell_type": "code",
   "execution_count": 32,
   "id": "ddf5f310-e3f0-4491-a97d-92b0ceea4f1e",
   "metadata": {},
   "outputs": [],
   "source": [
    "vif = pd.DataFrame()"
   ]
  },
  {
   "cell_type": "code",
   "execution_count": 33,
   "id": "29af6a8b-c37c-408b-9289-41a790a083b3",
   "metadata": {},
   "outputs": [],
   "source": [
    "from statsmodels.stats.outliers_influence import variance_inflation_factor"
   ]
  },
  {
   "cell_type": "code",
   "execution_count": 34,
   "id": "a9b209e6-56b4-42a2-9e99-1d543e420bb3",
   "metadata": {},
   "outputs": [
    {
     "data": {
      "text/html": [
       "<div>\n",
       "<style scoped>\n",
       "    .dataframe tbody tr th:only-of-type {\n",
       "        vertical-align: middle;\n",
       "    }\n",
       "\n",
       "    .dataframe tbody tr th {\n",
       "        vertical-align: top;\n",
       "    }\n",
       "\n",
       "    .dataframe thead th {\n",
       "        text-align: right;\n",
       "    }\n",
       "</style>\n",
       "<table border=\"1\" class=\"dataframe\">\n",
       "  <thead>\n",
       "    <tr style=\"text-align: right;\">\n",
       "      <th></th>\n",
       "      <th>VIF</th>\n",
       "      <th>feature</th>\n",
       "    </tr>\n",
       "  </thead>\n",
       "  <tbody>\n",
       "    <tr>\n",
       "      <th>5</th>\n",
       "      <td>5.205309</td>\n",
       "      <td>CGPA</td>\n",
       "    </tr>\n",
       "    <tr>\n",
       "      <th>0</th>\n",
       "      <td>4.358514</td>\n",
       "      <td>GRE Score</td>\n",
       "    </tr>\n",
       "    <tr>\n",
       "      <th>1</th>\n",
       "      <td>4.282118</td>\n",
       "      <td>TOEFL Score</td>\n",
       "    </tr>\n",
       "    <tr>\n",
       "      <th>3</th>\n",
       "      <td>3.063188</td>\n",
       "      <td>SOP</td>\n",
       "    </tr>\n",
       "    <tr>\n",
       "      <th>2</th>\n",
       "      <td>2.918556</td>\n",
       "      <td>University Rating</td>\n",
       "    </tr>\n",
       "    <tr>\n",
       "      <th>4</th>\n",
       "      <td>2.430409</td>\n",
       "      <td>LOR</td>\n",
       "    </tr>\n",
       "    <tr>\n",
       "      <th>6</th>\n",
       "      <td>1.189484</td>\n",
       "      <td>Research</td>\n",
       "    </tr>\n",
       "  </tbody>\n",
       "</table>\n",
       "</div>"
      ],
      "text/plain": [
       "        VIF            feature\n",
       "5  5.205309               CGPA\n",
       "0  4.358514          GRE Score\n",
       "1  4.282118        TOEFL Score\n",
       "3  3.063188                SOP\n",
       "2  2.918556  University Rating\n",
       "4  2.430409                LOR\n",
       "6  1.189484           Research"
      ]
     },
     "execution_count": 34,
     "metadata": {},
     "output_type": "execute_result"
    }
   ],
   "source": [
    "vif['VIF'] = [variance_inflation_factor(inp_sc.values, i) for i in range(inp_sc.shape[1])]\n",
    "vif['feature'] = inp_sc.columns\n",
    "vif.sort_values('VIF', ascending=False)"
   ]
  },
  {
   "cell_type": "code",
   "execution_count": 35,
   "id": "a47a33d1-4802-45b7-8056-f9705bee4885",
   "metadata": {},
   "outputs": [],
   "source": [
    "from sklearn.model_selection import train_test_split\n",
    "xtrain, xtest, ytrain, ytest = train_test_split(inp_sc, out, test_size=0.2, random_state=40)"
   ]
  },
  {
   "cell_type": "code",
   "execution_count": 36,
   "id": "a735e351-d704-4a86-9ff1-49bbf2358b0c",
   "metadata": {},
   "outputs": [],
   "source": [
    "import statsmodels.api as sm"
   ]
  },
  {
   "cell_type": "code",
   "execution_count": 37,
   "id": "4da639de-57bc-4d75-95c6-3dfa1b1ab376",
   "metadata": {},
   "outputs": [
    {
     "name": "stdout",
     "output_type": "stream",
     "text": [
      "Optimization terminated successfully.\n",
      "         Current function value: 0.254834\n",
      "         Iterations 8\n"
     ]
    },
    {
     "data": {
      "text/html": [
       "<table class=\"simpletable\">\n",
       "<caption>Logit Regression Results</caption>\n",
       "<tr>\n",
       "  <th>Dep. Variable:</th>    <td>Chance of Admit</td> <th>  No. Observations:  </th>  <td>   320</td>  \n",
       "</tr>\n",
       "<tr>\n",
       "  <th>Model:</th>                 <td>Logit</td>      <th>  Df Residuals:      </th>  <td>   312</td>  \n",
       "</tr>\n",
       "<tr>\n",
       "  <th>Method:</th>                 <td>MLE</td>       <th>  Df Model:          </th>  <td>     7</td>  \n",
       "</tr>\n",
       "<tr>\n",
       "  <th>Date:</th>            <td>Sun, 09 Mar 2025</td> <th>  Pseudo R-squ.:     </th>  <td>0.6303</td>  \n",
       "</tr>\n",
       "<tr>\n",
       "  <th>Time:</th>                <td>09:54:01</td>     <th>  Log-Likelihood:    </th> <td> -81.547</td> \n",
       "</tr>\n",
       "<tr>\n",
       "  <th>converged:</th>             <td>True</td>       <th>  LL-Null:           </th> <td> -220.58</td> \n",
       "</tr>\n",
       "<tr>\n",
       "  <th>Covariance Type:</th>     <td>nonrobust</td>    <th>  LLR p-value:       </th> <td>2.901e-56</td>\n",
       "</tr>\n",
       "</table>\n",
       "<table class=\"simpletable\">\n",
       "<tr>\n",
       "          <td></td>             <th>coef</th>     <th>std err</th>      <th>z</th>      <th>P>|z|</th>  <th>[0.025</th>    <th>0.975]</th>  \n",
       "</tr>\n",
       "<tr>\n",
       "  <th>const</th>             <td>   -0.7696</td> <td>    0.333</td> <td>   -2.308</td> <td> 0.021</td> <td>   -1.423</td> <td>   -0.116</td>\n",
       "</tr>\n",
       "<tr>\n",
       "  <th>GRE Score</th>         <td>    0.5377</td> <td>    0.418</td> <td>    1.287</td> <td> 0.198</td> <td>   -0.281</td> <td>    1.356</td>\n",
       "</tr>\n",
       "<tr>\n",
       "  <th>TOEFL Score</th>       <td>    0.8138</td> <td>    0.390</td> <td>    2.086</td> <td> 0.037</td> <td>    0.049</td> <td>    1.579</td>\n",
       "</tr>\n",
       "<tr>\n",
       "  <th>University Rating</th> <td>    0.3793</td> <td>    0.325</td> <td>    1.167</td> <td> 0.243</td> <td>   -0.258</td> <td>    1.016</td>\n",
       "</tr>\n",
       "<tr>\n",
       "  <th>SOP</th>               <td>    0.4210</td> <td>    0.372</td> <td>    1.133</td> <td> 0.257</td> <td>   -0.308</td> <td>    1.149</td>\n",
       "</tr>\n",
       "<tr>\n",
       "  <th>LOR</th>               <td>    0.3119</td> <td>    0.303</td> <td>    1.030</td> <td> 0.303</td> <td>   -0.281</td> <td>    0.905</td>\n",
       "</tr>\n",
       "<tr>\n",
       "  <th>CGPA</th>              <td>    2.0276</td> <td>    0.476</td> <td>    4.261</td> <td> 0.000</td> <td>    1.095</td> <td>    2.960</td>\n",
       "</tr>\n",
       "<tr>\n",
       "  <th>Research</th>          <td>    0.4835</td> <td>    0.467</td> <td>    1.034</td> <td> 0.301</td> <td>   -0.433</td> <td>    1.400</td>\n",
       "</tr>\n",
       "</table>"
      ],
      "text/latex": [
       "\\begin{center}\n",
       "\\begin{tabular}{lclc}\n",
       "\\toprule\n",
       "\\textbf{Dep. Variable:}    & Chance of Admit  & \\textbf{  No. Observations:  } &      320    \\\\\n",
       "\\textbf{Model:}            &      Logit       & \\textbf{  Df Residuals:      } &      312    \\\\\n",
       "\\textbf{Method:}           &       MLE        & \\textbf{  Df Model:          } &        7    \\\\\n",
       "\\textbf{Date:}             & Sun, 09 Mar 2025 & \\textbf{  Pseudo R-squ.:     } &   0.6303    \\\\\n",
       "\\textbf{Time:}             &     09:54:01     & \\textbf{  Log-Likelihood:    } &   -81.547   \\\\\n",
       "\\textbf{converged:}        &       True       & \\textbf{  LL-Null:           } &   -220.58   \\\\\n",
       "\\textbf{Covariance Type:}  &    nonrobust     & \\textbf{  LLR p-value:       } & 2.901e-56   \\\\\n",
       "\\bottomrule\n",
       "\\end{tabular}\n",
       "\\begin{tabular}{lcccccc}\n",
       "                           & \\textbf{coef} & \\textbf{std err} & \\textbf{z} & \\textbf{P$> |$z$|$} & \\textbf{[0.025} & \\textbf{0.975]}  \\\\\n",
       "\\midrule\n",
       "\\textbf{const}             &      -0.7696  &        0.333     &    -2.308  &         0.021        &       -1.423    &       -0.116     \\\\\n",
       "\\textbf{GRE Score}         &       0.5377  &        0.418     &     1.287  &         0.198        &       -0.281    &        1.356     \\\\\n",
       "\\textbf{TOEFL Score}       &       0.8138  &        0.390     &     2.086  &         0.037        &        0.049    &        1.579     \\\\\n",
       "\\textbf{University Rating} &       0.3793  &        0.325     &     1.167  &         0.243        &       -0.258    &        1.016     \\\\\n",
       "\\textbf{SOP}               &       0.4210  &        0.372     &     1.133  &         0.257        &       -0.308    &        1.149     \\\\\n",
       "\\textbf{LOR}               &       0.3119  &        0.303     &     1.030  &         0.303        &       -0.281    &        0.905     \\\\\n",
       "\\textbf{CGPA}              &       2.0276  &        0.476     &     4.261  &         0.000        &        1.095    &        2.960     \\\\\n",
       "\\textbf{Research}          &       0.4835  &        0.467     &     1.034  &         0.301        &       -0.433    &        1.400     \\\\\n",
       "\\bottomrule\n",
       "\\end{tabular}\n",
       "%\\caption{Logit Regression Results}\n",
       "\\end{center}"
      ],
      "text/plain": [
       "<class 'statsmodels.iolib.summary.Summary'>\n",
       "\"\"\"\n",
       "                           Logit Regression Results                           \n",
       "==============================================================================\n",
       "Dep. Variable:        Chance of Admit   No. Observations:                  320\n",
       "Model:                          Logit   Df Residuals:                      312\n",
       "Method:                           MLE   Df Model:                            7\n",
       "Date:                Sun, 09 Mar 2025   Pseudo R-squ.:                  0.6303\n",
       "Time:                        09:54:01   Log-Likelihood:                -81.547\n",
       "converged:                       True   LL-Null:                       -220.58\n",
       "Covariance Type:            nonrobust   LLR p-value:                 2.901e-56\n",
       "=====================================================================================\n",
       "                        coef    std err          z      P>|z|      [0.025      0.975]\n",
       "-------------------------------------------------------------------------------------\n",
       "const                -0.7696      0.333     -2.308      0.021      -1.423      -0.116\n",
       "GRE Score             0.5377      0.418      1.287      0.198      -0.281       1.356\n",
       "TOEFL Score           0.8138      0.390      2.086      0.037       0.049       1.579\n",
       "University Rating     0.3793      0.325      1.167      0.243      -0.258       1.016\n",
       "SOP                   0.4210      0.372      1.133      0.257      -0.308       1.149\n",
       "LOR                   0.3119      0.303      1.030      0.303      -0.281       0.905\n",
       "CGPA                  2.0276      0.476      4.261      0.000       1.095       2.960\n",
       "Research              0.4835      0.467      1.034      0.301      -0.433       1.400\n",
       "=====================================================================================\n",
       "\"\"\""
      ]
     },
     "execution_count": 37,
     "metadata": {},
     "output_type": "execute_result"
    }
   ],
   "source": [
    "xtrainc = sm.add_constant(xtrain)\n",
    "mod_stat = sm.Logit(ytrain, xtrainc)\n",
    "logit_mod = mod_stat.fit()\n",
    "logit_mod.summary()"
   ]
  },
  {
   "cell_type": "code",
   "execution_count": null,
   "id": "3cd2dda5-532c-4999-a775-0db2bff7169a",
   "metadata": {},
   "outputs": [],
   "source": []
  },
  {
   "cell_type": "code",
   "execution_count": 38,
   "id": "31a357fd-f77f-469a-90a0-5b0e2d7e8eec",
   "metadata": {},
   "outputs": [
    {
     "name": "stdout",
     "output_type": "stream",
     "text": [
      "Optimization terminated successfully.\n",
      "         Current function value: 0.254834\n",
      "         Iterations 8\n",
      "Optimization terminated successfully.\n",
      "         Current function value: 0.256503\n",
      "         Iterations 8\n",
      "Optimization terminated successfully.\n",
      "         Current function value: 0.258136\n",
      "         Iterations 8\n",
      "Optimization terminated successfully.\n",
      "         Current function value: 0.260772\n",
      "         Iterations 8\n",
      "The final features through backward eliminations are :  Index(['GRE Score', 'TOEFL Score', 'SOP', 'CGPA'], dtype='object')\n"
     ]
    }
   ],
   "source": [
    "xtrain1 = xtrain.copy()\n",
    "while(len(xtrain1.columns) > 0):\n",
    "    xtrain1c = sm.add_constant(xtrain1)\n",
    "    logit_mod= sm.Logit(ytrain, xtrain1c)\n",
    "    mod_res = logit_mod.fit()\n",
    "    f = mod_res.pvalues[1:].idxmax()\n",
    "    if mod_res.pvalues[1:].max()>0.05:\n",
    "        xtrain1 = xtrain1.drop(columns=f)\n",
    "    else:\n",
    "        break\n",
    "print('The final features through backward eliminations are : ', xtrain1.columns)"
   ]
  },
  {
   "cell_type": "code",
   "execution_count": null,
   "id": "0e0c7879-2d45-4486-a1eb-f459b22e92e9",
   "metadata": {},
   "outputs": [],
   "source": []
  },
  {
   "cell_type": "markdown",
   "id": "1819c6b6-83c7-4ee0-adf1-a99257e13a5c",
   "metadata": {},
   "source": [
    "# Class 02"
   ]
  },
  {
   "cell_type": "code",
   "execution_count": null,
   "id": "8e7e5fc4-bfa8-4903-99d2-6523739c85b9",
   "metadata": {},
   "outputs": [],
   "source": []
  },
  {
   "cell_type": "code",
   "execution_count": 108,
   "id": "d0b74a4a-bbe5-4f63-8190-fe49ca9a24c1",
   "metadata": {},
   "outputs": [
    {
     "data": {
      "text/plain": [
       "const          0.582169\n",
       "GRE Score      2.168741\n",
       "TOEFL Score    2.228341\n",
       "SOP            2.242207\n",
       "CGPA           8.992565\n",
       "dtype: float64"
      ]
     },
     "execution_count": 108,
     "metadata": {},
     "output_type": "execute_result"
    }
   ],
   "source": [
    "np.exp(mod_res.params)"
   ]
  },
  {
   "cell_type": "code",
   "execution_count": 110,
   "id": "714142bc-7693-413f-af7d-be24792b760a",
   "metadata": {},
   "outputs": [
    {
     "data": {
      "text/html": [
       "<style>#sk-container-id-1 {\n",
       "  /* Definition of color scheme common for light and dark mode */\n",
       "  --sklearn-color-text: black;\n",
       "  --sklearn-color-line: gray;\n",
       "  /* Definition of color scheme for unfitted estimators */\n",
       "  --sklearn-color-unfitted-level-0: #fff5e6;\n",
       "  --sklearn-color-unfitted-level-1: #f6e4d2;\n",
       "  --sklearn-color-unfitted-level-2: #ffe0b3;\n",
       "  --sklearn-color-unfitted-level-3: chocolate;\n",
       "  /* Definition of color scheme for fitted estimators */\n",
       "  --sklearn-color-fitted-level-0: #f0f8ff;\n",
       "  --sklearn-color-fitted-level-1: #d4ebff;\n",
       "  --sklearn-color-fitted-level-2: #b3dbfd;\n",
       "  --sklearn-color-fitted-level-3: cornflowerblue;\n",
       "\n",
       "  /* Specific color for light theme */\n",
       "  --sklearn-color-text-on-default-background: var(--sg-text-color, var(--theme-code-foreground, var(--jp-content-font-color1, black)));\n",
       "  --sklearn-color-background: var(--sg-background-color, var(--theme-background, var(--jp-layout-color0, white)));\n",
       "  --sklearn-color-border-box: var(--sg-text-color, var(--theme-code-foreground, var(--jp-content-font-color1, black)));\n",
       "  --sklearn-color-icon: #696969;\n",
       "\n",
       "  @media (prefers-color-scheme: dark) {\n",
       "    /* Redefinition of color scheme for dark theme */\n",
       "    --sklearn-color-text-on-default-background: var(--sg-text-color, var(--theme-code-foreground, var(--jp-content-font-color1, white)));\n",
       "    --sklearn-color-background: var(--sg-background-color, var(--theme-background, var(--jp-layout-color0, #111)));\n",
       "    --sklearn-color-border-box: var(--sg-text-color, var(--theme-code-foreground, var(--jp-content-font-color1, white)));\n",
       "    --sklearn-color-icon: #878787;\n",
       "  }\n",
       "}\n",
       "\n",
       "#sk-container-id-1 {\n",
       "  color: var(--sklearn-color-text);\n",
       "}\n",
       "\n",
       "#sk-container-id-1 pre {\n",
       "  padding: 0;\n",
       "}\n",
       "\n",
       "#sk-container-id-1 input.sk-hidden--visually {\n",
       "  border: 0;\n",
       "  clip: rect(1px 1px 1px 1px);\n",
       "  clip: rect(1px, 1px, 1px, 1px);\n",
       "  height: 1px;\n",
       "  margin: -1px;\n",
       "  overflow: hidden;\n",
       "  padding: 0;\n",
       "  position: absolute;\n",
       "  width: 1px;\n",
       "}\n",
       "\n",
       "#sk-container-id-1 div.sk-dashed-wrapped {\n",
       "  border: 1px dashed var(--sklearn-color-line);\n",
       "  margin: 0 0.4em 0.5em 0.4em;\n",
       "  box-sizing: border-box;\n",
       "  padding-bottom: 0.4em;\n",
       "  background-color: var(--sklearn-color-background);\n",
       "}\n",
       "\n",
       "#sk-container-id-1 div.sk-container {\n",
       "  /* jupyter's `normalize.less` sets `[hidden] { display: none; }`\n",
       "     but bootstrap.min.css set `[hidden] { display: none !important; }`\n",
       "     so we also need the `!important` here to be able to override the\n",
       "     default hidden behavior on the sphinx rendered scikit-learn.org.\n",
       "     See: https://github.com/scikit-learn/scikit-learn/issues/21755 */\n",
       "  display: inline-block !important;\n",
       "  position: relative;\n",
       "}\n",
       "\n",
       "#sk-container-id-1 div.sk-text-repr-fallback {\n",
       "  display: none;\n",
       "}\n",
       "\n",
       "div.sk-parallel-item,\n",
       "div.sk-serial,\n",
       "div.sk-item {\n",
       "  /* draw centered vertical line to link estimators */\n",
       "  background-image: linear-gradient(var(--sklearn-color-text-on-default-background), var(--sklearn-color-text-on-default-background));\n",
       "  background-size: 2px 100%;\n",
       "  background-repeat: no-repeat;\n",
       "  background-position: center center;\n",
       "}\n",
       "\n",
       "/* Parallel-specific style estimator block */\n",
       "\n",
       "#sk-container-id-1 div.sk-parallel-item::after {\n",
       "  content: \"\";\n",
       "  width: 100%;\n",
       "  border-bottom: 2px solid var(--sklearn-color-text-on-default-background);\n",
       "  flex-grow: 1;\n",
       "}\n",
       "\n",
       "#sk-container-id-1 div.sk-parallel {\n",
       "  display: flex;\n",
       "  align-items: stretch;\n",
       "  justify-content: center;\n",
       "  background-color: var(--sklearn-color-background);\n",
       "  position: relative;\n",
       "}\n",
       "\n",
       "#sk-container-id-1 div.sk-parallel-item {\n",
       "  display: flex;\n",
       "  flex-direction: column;\n",
       "}\n",
       "\n",
       "#sk-container-id-1 div.sk-parallel-item:first-child::after {\n",
       "  align-self: flex-end;\n",
       "  width: 50%;\n",
       "}\n",
       "\n",
       "#sk-container-id-1 div.sk-parallel-item:last-child::after {\n",
       "  align-self: flex-start;\n",
       "  width: 50%;\n",
       "}\n",
       "\n",
       "#sk-container-id-1 div.sk-parallel-item:only-child::after {\n",
       "  width: 0;\n",
       "}\n",
       "\n",
       "/* Serial-specific style estimator block */\n",
       "\n",
       "#sk-container-id-1 div.sk-serial {\n",
       "  display: flex;\n",
       "  flex-direction: column;\n",
       "  align-items: center;\n",
       "  background-color: var(--sklearn-color-background);\n",
       "  padding-right: 1em;\n",
       "  padding-left: 1em;\n",
       "}\n",
       "\n",
       "\n",
       "/* Toggleable style: style used for estimator/Pipeline/ColumnTransformer box that is\n",
       "clickable and can be expanded/collapsed.\n",
       "- Pipeline and ColumnTransformer use this feature and define the default style\n",
       "- Estimators will overwrite some part of the style using the `sk-estimator` class\n",
       "*/\n",
       "\n",
       "/* Pipeline and ColumnTransformer style (default) */\n",
       "\n",
       "#sk-container-id-1 div.sk-toggleable {\n",
       "  /* Default theme specific background. It is overwritten whether we have a\n",
       "  specific estimator or a Pipeline/ColumnTransformer */\n",
       "  background-color: var(--sklearn-color-background);\n",
       "}\n",
       "\n",
       "/* Toggleable label */\n",
       "#sk-container-id-1 label.sk-toggleable__label {\n",
       "  cursor: pointer;\n",
       "  display: block;\n",
       "  width: 100%;\n",
       "  margin-bottom: 0;\n",
       "  padding: 0.5em;\n",
       "  box-sizing: border-box;\n",
       "  text-align: center;\n",
       "}\n",
       "\n",
       "#sk-container-id-1 label.sk-toggleable__label-arrow:before {\n",
       "  /* Arrow on the left of the label */\n",
       "  content: \"▸\";\n",
       "  float: left;\n",
       "  margin-right: 0.25em;\n",
       "  color: var(--sklearn-color-icon);\n",
       "}\n",
       "\n",
       "#sk-container-id-1 label.sk-toggleable__label-arrow:hover:before {\n",
       "  color: var(--sklearn-color-text);\n",
       "}\n",
       "\n",
       "/* Toggleable content - dropdown */\n",
       "\n",
       "#sk-container-id-1 div.sk-toggleable__content {\n",
       "  max-height: 0;\n",
       "  max-width: 0;\n",
       "  overflow: hidden;\n",
       "  text-align: left;\n",
       "  /* unfitted */\n",
       "  background-color: var(--sklearn-color-unfitted-level-0);\n",
       "}\n",
       "\n",
       "#sk-container-id-1 div.sk-toggleable__content.fitted {\n",
       "  /* fitted */\n",
       "  background-color: var(--sklearn-color-fitted-level-0);\n",
       "}\n",
       "\n",
       "#sk-container-id-1 div.sk-toggleable__content pre {\n",
       "  margin: 0.2em;\n",
       "  border-radius: 0.25em;\n",
       "  color: var(--sklearn-color-text);\n",
       "  /* unfitted */\n",
       "  background-color: var(--sklearn-color-unfitted-level-0);\n",
       "}\n",
       "\n",
       "#sk-container-id-1 div.sk-toggleable__content.fitted pre {\n",
       "  /* unfitted */\n",
       "  background-color: var(--sklearn-color-fitted-level-0);\n",
       "}\n",
       "\n",
       "#sk-container-id-1 input.sk-toggleable__control:checked~div.sk-toggleable__content {\n",
       "  /* Expand drop-down */\n",
       "  max-height: 200px;\n",
       "  max-width: 100%;\n",
       "  overflow: auto;\n",
       "}\n",
       "\n",
       "#sk-container-id-1 input.sk-toggleable__control:checked~label.sk-toggleable__label-arrow:before {\n",
       "  content: \"▾\";\n",
       "}\n",
       "\n",
       "/* Pipeline/ColumnTransformer-specific style */\n",
       "\n",
       "#sk-container-id-1 div.sk-label input.sk-toggleable__control:checked~label.sk-toggleable__label {\n",
       "  color: var(--sklearn-color-text);\n",
       "  background-color: var(--sklearn-color-unfitted-level-2);\n",
       "}\n",
       "\n",
       "#sk-container-id-1 div.sk-label.fitted input.sk-toggleable__control:checked~label.sk-toggleable__label {\n",
       "  background-color: var(--sklearn-color-fitted-level-2);\n",
       "}\n",
       "\n",
       "/* Estimator-specific style */\n",
       "\n",
       "/* Colorize estimator box */\n",
       "#sk-container-id-1 div.sk-estimator input.sk-toggleable__control:checked~label.sk-toggleable__label {\n",
       "  /* unfitted */\n",
       "  background-color: var(--sklearn-color-unfitted-level-2);\n",
       "}\n",
       "\n",
       "#sk-container-id-1 div.sk-estimator.fitted input.sk-toggleable__control:checked~label.sk-toggleable__label {\n",
       "  /* fitted */\n",
       "  background-color: var(--sklearn-color-fitted-level-2);\n",
       "}\n",
       "\n",
       "#sk-container-id-1 div.sk-label label.sk-toggleable__label,\n",
       "#sk-container-id-1 div.sk-label label {\n",
       "  /* The background is the default theme color */\n",
       "  color: var(--sklearn-color-text-on-default-background);\n",
       "}\n",
       "\n",
       "/* On hover, darken the color of the background */\n",
       "#sk-container-id-1 div.sk-label:hover label.sk-toggleable__label {\n",
       "  color: var(--sklearn-color-text);\n",
       "  background-color: var(--sklearn-color-unfitted-level-2);\n",
       "}\n",
       "\n",
       "/* Label box, darken color on hover, fitted */\n",
       "#sk-container-id-1 div.sk-label.fitted:hover label.sk-toggleable__label.fitted {\n",
       "  color: var(--sklearn-color-text);\n",
       "  background-color: var(--sklearn-color-fitted-level-2);\n",
       "}\n",
       "\n",
       "/* Estimator label */\n",
       "\n",
       "#sk-container-id-1 div.sk-label label {\n",
       "  font-family: monospace;\n",
       "  font-weight: bold;\n",
       "  display: inline-block;\n",
       "  line-height: 1.2em;\n",
       "}\n",
       "\n",
       "#sk-container-id-1 div.sk-label-container {\n",
       "  text-align: center;\n",
       "}\n",
       "\n",
       "/* Estimator-specific */\n",
       "#sk-container-id-1 div.sk-estimator {\n",
       "  font-family: monospace;\n",
       "  border: 1px dotted var(--sklearn-color-border-box);\n",
       "  border-radius: 0.25em;\n",
       "  box-sizing: border-box;\n",
       "  margin-bottom: 0.5em;\n",
       "  /* unfitted */\n",
       "  background-color: var(--sklearn-color-unfitted-level-0);\n",
       "}\n",
       "\n",
       "#sk-container-id-1 div.sk-estimator.fitted {\n",
       "  /* fitted */\n",
       "  background-color: var(--sklearn-color-fitted-level-0);\n",
       "}\n",
       "\n",
       "/* on hover */\n",
       "#sk-container-id-1 div.sk-estimator:hover {\n",
       "  /* unfitted */\n",
       "  background-color: var(--sklearn-color-unfitted-level-2);\n",
       "}\n",
       "\n",
       "#sk-container-id-1 div.sk-estimator.fitted:hover {\n",
       "  /* fitted */\n",
       "  background-color: var(--sklearn-color-fitted-level-2);\n",
       "}\n",
       "\n",
       "/* Specification for estimator info (e.g. \"i\" and \"?\") */\n",
       "\n",
       "/* Common style for \"i\" and \"?\" */\n",
       "\n",
       ".sk-estimator-doc-link,\n",
       "a:link.sk-estimator-doc-link,\n",
       "a:visited.sk-estimator-doc-link {\n",
       "  float: right;\n",
       "  font-size: smaller;\n",
       "  line-height: 1em;\n",
       "  font-family: monospace;\n",
       "  background-color: var(--sklearn-color-background);\n",
       "  border-radius: 1em;\n",
       "  height: 1em;\n",
       "  width: 1em;\n",
       "  text-decoration: none !important;\n",
       "  margin-left: 1ex;\n",
       "  /* unfitted */\n",
       "  border: var(--sklearn-color-unfitted-level-1) 1pt solid;\n",
       "  color: var(--sklearn-color-unfitted-level-1);\n",
       "}\n",
       "\n",
       ".sk-estimator-doc-link.fitted,\n",
       "a:link.sk-estimator-doc-link.fitted,\n",
       "a:visited.sk-estimator-doc-link.fitted {\n",
       "  /* fitted */\n",
       "  border: var(--sklearn-color-fitted-level-1) 1pt solid;\n",
       "  color: var(--sklearn-color-fitted-level-1);\n",
       "}\n",
       "\n",
       "/* On hover */\n",
       "div.sk-estimator:hover .sk-estimator-doc-link:hover,\n",
       ".sk-estimator-doc-link:hover,\n",
       "div.sk-label-container:hover .sk-estimator-doc-link:hover,\n",
       ".sk-estimator-doc-link:hover {\n",
       "  /* unfitted */\n",
       "  background-color: var(--sklearn-color-unfitted-level-3);\n",
       "  color: var(--sklearn-color-background);\n",
       "  text-decoration: none;\n",
       "}\n",
       "\n",
       "div.sk-estimator.fitted:hover .sk-estimator-doc-link.fitted:hover,\n",
       ".sk-estimator-doc-link.fitted:hover,\n",
       "div.sk-label-container:hover .sk-estimator-doc-link.fitted:hover,\n",
       ".sk-estimator-doc-link.fitted:hover {\n",
       "  /* fitted */\n",
       "  background-color: var(--sklearn-color-fitted-level-3);\n",
       "  color: var(--sklearn-color-background);\n",
       "  text-decoration: none;\n",
       "}\n",
       "\n",
       "/* Span, style for the box shown on hovering the info icon */\n",
       ".sk-estimator-doc-link span {\n",
       "  display: none;\n",
       "  z-index: 9999;\n",
       "  position: relative;\n",
       "  font-weight: normal;\n",
       "  right: .2ex;\n",
       "  padding: .5ex;\n",
       "  margin: .5ex;\n",
       "  width: min-content;\n",
       "  min-width: 20ex;\n",
       "  max-width: 50ex;\n",
       "  color: var(--sklearn-color-text);\n",
       "  box-shadow: 2pt 2pt 4pt #999;\n",
       "  /* unfitted */\n",
       "  background: var(--sklearn-color-unfitted-level-0);\n",
       "  border: .5pt solid var(--sklearn-color-unfitted-level-3);\n",
       "}\n",
       "\n",
       ".sk-estimator-doc-link.fitted span {\n",
       "  /* fitted */\n",
       "  background: var(--sklearn-color-fitted-level-0);\n",
       "  border: var(--sklearn-color-fitted-level-3);\n",
       "}\n",
       "\n",
       ".sk-estimator-doc-link:hover span {\n",
       "  display: block;\n",
       "}\n",
       "\n",
       "/* \"?\"-specific style due to the `<a>` HTML tag */\n",
       "\n",
       "#sk-container-id-1 a.estimator_doc_link {\n",
       "  float: right;\n",
       "  font-size: 1rem;\n",
       "  line-height: 1em;\n",
       "  font-family: monospace;\n",
       "  background-color: var(--sklearn-color-background);\n",
       "  border-radius: 1rem;\n",
       "  height: 1rem;\n",
       "  width: 1rem;\n",
       "  text-decoration: none;\n",
       "  /* unfitted */\n",
       "  color: var(--sklearn-color-unfitted-level-1);\n",
       "  border: var(--sklearn-color-unfitted-level-1) 1pt solid;\n",
       "}\n",
       "\n",
       "#sk-container-id-1 a.estimator_doc_link.fitted {\n",
       "  /* fitted */\n",
       "  border: var(--sklearn-color-fitted-level-1) 1pt solid;\n",
       "  color: var(--sklearn-color-fitted-level-1);\n",
       "}\n",
       "\n",
       "/* On hover */\n",
       "#sk-container-id-1 a.estimator_doc_link:hover {\n",
       "  /* unfitted */\n",
       "  background-color: var(--sklearn-color-unfitted-level-3);\n",
       "  color: var(--sklearn-color-background);\n",
       "  text-decoration: none;\n",
       "}\n",
       "\n",
       "#sk-container-id-1 a.estimator_doc_link.fitted:hover {\n",
       "  /* fitted */\n",
       "  background-color: var(--sklearn-color-fitted-level-3);\n",
       "}\n",
       "</style><div id=\"sk-container-id-1\" class=\"sk-top-container\"><div class=\"sk-text-repr-fallback\"><pre>LogisticRegression()</pre><b>In a Jupyter environment, please rerun this cell to show the HTML representation or trust the notebook. <br />On GitHub, the HTML representation is unable to render, please try loading this page with nbviewer.org.</b></div><div class=\"sk-container\" hidden><div class=\"sk-item\"><div class=\"sk-estimator fitted sk-toggleable\"><input class=\"sk-toggleable__control sk-hidden--visually\" id=\"sk-estimator-id-1\" type=\"checkbox\" checked><label for=\"sk-estimator-id-1\" class=\"sk-toggleable__label fitted sk-toggleable__label-arrow fitted\">&nbsp;&nbsp;LogisticRegression<a class=\"sk-estimator-doc-link fitted\" rel=\"noreferrer\" target=\"_blank\" href=\"https://scikit-learn.org/1.4/modules/generated/sklearn.linear_model.LogisticRegression.html\">?<span>Documentation for LogisticRegression</span></a><span class=\"sk-estimator-doc-link fitted\">i<span>Fitted</span></span></label><div class=\"sk-toggleable__content fitted\"><pre>LogisticRegression()</pre></div> </div></div></div></div>"
      ],
      "text/plain": [
       "LogisticRegression()"
      ]
     },
     "execution_count": 110,
     "metadata": {},
     "output_type": "execute_result"
    }
   ],
   "source": [
    "mod_log = LogisticRegression()\n",
    "mod_log.fit(xtrain,ytrain)"
   ]
  },
  {
   "cell_type": "code",
   "execution_count": 124,
   "id": "2b57791c-a27c-45d3-9381-968c23eab33f",
   "metadata": {},
   "outputs": [],
   "source": [
    "ypred = mod_log.predict(xtest)"
   ]
  },
  {
   "cell_type": "code",
   "execution_count": 116,
   "id": "35a564b4-a4c6-4c78-ad0a-7df69f3ecf16",
   "metadata": {},
   "outputs": [],
   "source": [
    "from sklearn.metrics import confusion_matrix"
   ]
  },
  {
   "cell_type": "code",
   "execution_count": 130,
   "id": "7d918c15-a199-4b11-9098-3f2198be5225",
   "metadata": {},
   "outputs": [],
   "source": [
    "cm = confusion_matrix(ytest, ypred)"
   ]
  },
  {
   "cell_type": "code",
   "execution_count": 136,
   "id": "a583ef5e-b9bd-4f68-820a-d254c1a2dee7",
   "metadata": {},
   "outputs": [
    {
     "data": {
      "text/plain": [
       "Chance of Admit\n",
       "0    46\n",
       "1    34\n",
       "Name: count, dtype: int64"
      ]
     },
     "execution_count": 136,
     "metadata": {},
     "output_type": "execute_result"
    }
   ],
   "source": [
    "ytest.value_counts()"
   ]
  },
  {
   "cell_type": "code",
   "execution_count": 138,
   "id": "1002cefd-68fa-4ef2-b348-b3683f0fa556",
   "metadata": {},
   "outputs": [
    {
     "data": {
      "text/plain": [
       "<Axes: >"
      ]
     },
     "execution_count": 138,
     "metadata": {},
     "output_type": "execute_result"
    },
    {
     "data": {
      "image/png": "[encoded data removed]",
      "text/plain": [
       "<Figure size 640x480 with 1 Axes>"
      ]
     },
     "metadata": {},
     "output_type": "display_data"
    }
   ],
   "source": [
    "sns.heatmap(cm,annot=True, cmap = 'coolwarm', cbar = False)"
   ]
  },
  {
   "cell_type": "code",
   "execution_count": 152,
   "id": "1300e485-c503-437b-ab2c-4ffff29084ae",
   "metadata": {},
   "outputs": [],
   "source": [
    "tp = cm[1,1]\n",
    "tn = cm[0,0]\n",
    "fp = cm[0,1]\n",
    "fn = cm[1,0]"
   ]
  },
  {
   "cell_type": "code",
   "execution_count": null,
   "id": "487120c5-26dc-49c9-86c7-6c3586e64911",
   "metadata": {},
   "outputs": [],
   "source": []
  },
  {
   "cell_type": "code",
   "execution_count": 154,
   "id": "15f84d32-f05e-4ee2-942f-31f2f35694f1",
   "metadata": {},
   "outputs": [
    {
     "data": {
      "text/plain": [
       "87.5"
      ]
     },
     "execution_count": 154,
     "metadata": {},
     "output_type": "execute_result"
    }
   ],
   "source": [
    "acc = (tp+tn)/(tp+tn+fp+fn)\n",
    "acc*100"
   ]
  },
  {
   "cell_type": "code",
   "execution_count": null,
   "id": "257475ed-6994-488d-8de6-15e45f966a47",
   "metadata": {},
   "outputs": [],
   "source": []
  },
  {
   "cell_type": "code",
   "execution_count": 156,
   "id": "afc64a69-0adc-405b-9bc7-305d16142646",
   "metadata": {},
   "outputs": [
    {
     "data": {
      "text/plain": [
       "85.29411764705883"
      ]
     },
     "execution_count": 156,
     "metadata": {},
     "output_type": "execute_result"
    }
   ],
   "source": [
    "rec = tp / (tp+fn)\n",
    "rec*100"
   ]
  },
  {
   "cell_type": "code",
   "execution_count": 158,
   "id": "f716bb96-159f-4b6c-8fa3-55196182056d",
   "metadata": {},
   "outputs": [],
   "source": [
    "prec = tp / (tp+fp)"
   ]
  },
  {
   "cell_type": "code",
   "execution_count": 162,
   "id": "c19c08b6-49e4-4043-92d7-edbf50758472",
   "metadata": {},
   "outputs": [
    {
     "data": {
      "text/plain": [
       "85.29411764705883"
      ]
     },
     "execution_count": 162,
     "metadata": {},
     "output_type": "execute_result"
    }
   ],
   "source": [
    "prec*100"
   ]
  },
  {
   "cell_type": "code",
   "execution_count": 166,
   "id": "d60e1bce-388b-4985-9ebe-bfa929f96766",
   "metadata": {},
   "outputs": [
    {
     "data": {
      "text/plain": [
       "85.29411764705883"
      ]
     },
     "execution_count": 166,
     "metadata": {},
     "output_type": "execute_result"
    }
   ],
   "source": [
    "f1_sc = (2*rec*prec)/(rec+prec)\n",
    "f1_sc*100"
   ]
  },
  {
   "cell_type": "code",
   "execution_count": null,
   "id": "0522f831-51eb-4f00-a1db-e9a6c5be3faa",
   "metadata": {},
   "outputs": [],
   "source": []
  },
  {
   "cell_type": "code",
   "execution_count": 168,
   "id": "503a1958-393e-405b-9a1f-0beb19590dbb",
   "metadata": {},
   "outputs": [],
   "source": [
    "from sklearn.metrics import accuracy_score, recall_score, precision_score, f1_score, classification_report"
   ]
  },
  {
   "cell_type": "code",
   "execution_count": 170,
   "id": "5e53d19b-adc4-4880-8a63-20477ac6b9bd",
   "metadata": {},
   "outputs": [
    {
     "name": "stdout",
     "output_type": "stream",
     "text": [
      "0.875\n",
      "0.8529411764705882\n",
      "0.8529411764705882\n",
      "0.8529411764705882\n"
     ]
    }
   ],
   "source": [
    "print(accuracy_score(ytest, y_pred))\n",
    "print(recall_score(ytest, y_pred))\n",
    "print(precision_score(ytest, y_pred))\n",
    "print(f1_score(ytest, y_pred))"
   ]
  },
  {
   "cell_type": "code",
   "execution_count": 172,
   "id": "243168d7-9a65-455c-8ecf-3b01e9d2213a",
   "metadata": {},
   "outputs": [
    {
     "name": "stdout",
     "output_type": "stream",
     "text": [
      "              precision    recall  f1-score   support\n",
      "\n",
      "           0       0.89      0.89      0.89        46\n",
      "           1       0.85      0.85      0.85        34\n",
      "\n",
      "    accuracy                           0.88        80\n",
      "   macro avg       0.87      0.87      0.87        80\n",
      "weighted avg       0.88      0.88      0.88        80\n",
      "\n"
     ]
    }
   ],
   "source": [
    "print(classification_report(ytest, y_pred))"
   ]
  },
  {
   "cell_type": "code",
   "execution_count": null,
   "id": "8b3fa2b5-ad8f-4cdf-8b66-fe80ef1006fa",
   "metadata": {},
   "outputs": [],
   "source": []
  },
  {
   "cell_type": "code",
   "execution_count": 174,
   "id": "20ce1e6c-abba-47c9-b278-aae577c27000",
   "metadata": {},
   "outputs": [],
   "source": [
    "from sklearn.metrics import roc_auc_score, roc_curve"
   ]
  },
  {
   "cell_type": "code",
   "execution_count": 178,
   "id": "ce922169-f525-4c78-a707-8d3b3e7dd523",
   "metadata": {},
   "outputs": [
    {
     "data": {
      "text/plain": [
       "array([3.05608645e-01, 2.01195224e-02, 4.17100106e-01, 5.43816368e-01,\n",
       "       8.03031567e-01, 1.29367109e-01, 9.51565986e-01, 1.09462966e-01,\n",
       "       8.85832897e-01, 1.92085499e-03, 6.30079389e-04, 3.93863447e-03,\n",
       "       9.93783286e-01, 2.33906779e-03, 8.95701790e-01, 8.26400632e-01,\n",
       "       6.94589774e-01, 7.46570484e-04, 3.82991031e-01, 1.44851263e-03,\n",
       "       6.08384001e-01, 7.36843603e-01, 1.47522098e-03, 9.51086052e-01,\n",
       "       9.76023233e-01, 8.31559176e-01, 8.11118674e-01, 2.50929491e-02,\n",
       "       9.46584052e-01, 6.36830095e-02, 5.75216408e-01, 6.04547886e-02,\n",
       "       8.21322583e-03, 4.39083973e-01, 7.57927624e-01, 3.41221040e-03,\n",
       "       8.30075903e-02, 9.84251405e-01, 8.76202501e-01, 5.08159409e-03,\n",
       "       8.50428965e-02, 8.26493988e-02, 4.48187115e-04, 8.19847460e-01,\n",
       "       1.02458148e-01, 2.96080857e-01, 8.81271260e-01, 2.66560327e-01,\n",
       "       2.05635513e-02, 8.68105563e-01, 9.73855383e-01, 2.02170479e-03,\n",
       "       2.07043504e-02, 9.57612805e-01, 5.91418454e-01, 5.16193336e-04,\n",
       "       7.73214590e-01, 3.48892802e-02, 8.13388316e-01, 4.24974513e-02,\n",
       "       9.63172233e-01, 1.50441900e-01, 1.96727876e-02, 2.72483640e-03,\n",
       "       9.60626473e-03, 9.76371450e-01, 1.32960620e-01, 2.50979264e-01,\n",
       "       1.90027658e-01, 9.34267963e-02, 8.32716776e-03, 1.96890604e-01,\n",
       "       7.32470099e-01, 8.69299065e-01, 9.91313974e-01, 9.93254354e-01,\n",
       "       6.22797804e-02, 9.99048813e-01, 1.17258802e-01, 1.43398674e-04])"
      ]
     },
     "execution_count": 178,
     "metadata": {},
     "output_type": "execute_result"
    }
   ],
   "source": [
    "yprob= mod_log.predict_proba(xtest)\n",
    "yprob1 = yprob[:,1]\n",
    "yprob1"
   ]
  },
  {
   "cell_type": "code",
   "execution_count": 180,
   "id": "dbff3ab0-8808-4fc0-bd26-08717619b3d3",
   "metadata": {},
   "outputs": [],
   "source": [
    "fpr, tpr,th = roc_curve(ytest, yprob1)"
   ]
  },
  {
   "cell_type": "code",
   "execution_count": 190,
   "id": "eb2d9baf-7feb-40d4-9c13-aae485fba954",
   "metadata": {},
   "outputs": [
    {
     "data": {
      "image/png": "[encoded data removed]",
      "text/plain": [
       "<Figure size 640x480 with 1 Axes>"
      ]
     },
     "metadata": {},
     "output_type": "display_data"
    }
   ],
   "source": [
    "plt.plot(fpr, tpr)\n",
    "plt.grid()"
   ]
  },
  {
   "cell_type": "code",
   "execution_count": 194,
   "id": "40ed1e6d-def5-4961-ac27-7a55b9bb258e",
   "metadata": {},
   "outputs": [
    {
     "data": {
      "text/plain": [
       "0.9507672634271099"
      ]
     },
     "execution_count": 194,
     "metadata": {},
     "output_type": "execute_result"
    }
   ],
   "source": [
    "roc_auc_score(ytest, yprob1)"
   ]
  },
  {
   "cell_type": "code",
   "execution_count": 196,
   "id": "b5160fd5-aa8a-4c9b-8269-32fc21e61b8d",
   "metadata": {},
   "outputs": [],
   "source": [
    "from sklearn.metrics import cohen_kappa_score"
   ]
  },
  {
   "cell_type": "code",
   "execution_count": 200,
   "id": "17732822-a46d-421b-a6d0-88752001e738",
   "metadata": {},
   "outputs": [
    {
     "data": {
      "text/plain": [
       "0.7442455242966752"
      ]
     },
     "execution_count": 200,
     "metadata": {},
     "output_type": "execute_result"
    }
   ],
   "source": [
    "cohen_kappa_score(ytest, ypred)"
   ]
  },
  {
   "cell_type": "code",
   "execution_count": 202,
   "id": "c051ca49-fc7c-40b6-880c-26d2ed8b4b8e",
   "metadata": {},
   "outputs": [
    {
     "data": {
      "text/plain": [
       "176.89388411764003"
      ]
     },
     "execution_count": 202,
     "metadata": {},
     "output_type": "execute_result"
    }
   ],
   "source": [
    "mod_res.aic # Akaike information criteria\n",
    "# After cmparing between 2 models, which is lesser one of AIC that is considered to be good one"
   ]
  },
  {
   "cell_type": "code",
   "execution_count": 206,
   "id": "eb11b7d3-fd76-4e33-9754-6cfdcac2016d",
   "metadata": {},
   "outputs": [
    {
     "data": {
      "text/plain": [
       "195.7354890966089"
      ]
     },
     "execution_count": 206,
     "metadata": {},
     "output_type": "execute_result"
    }
   ],
   "source": [
    "mod_res.bic # The bayesian information criteria\n",
    "# After cmparing between 2 models, which is lesser one of AIC that is considered to be good one"
   ]
  },
  {
   "cell_type": "code",
   "execution_count": null,
   "id": "36e93ce6-6970-479c-8cc3-7f1e51f23c1a",
   "metadata": {},
   "outputs": [],
   "source": [
    "# Here, AIC and BIC areless important compared other parameters like accuracy, precision etc"
   ]
  },
  {
   "cell_type": "code",
   "execution_count": null,
   "id": "9775b6dd-b735-4a23-a746-e6ca56a7988a",
   "metadata": {},
   "outputs": [],
   "source": []
  },
  {
   "cell_type": "markdown",
   "id": "7f4950fa-b9b7-4663-a559-9db3eb17b679",
   "metadata": {},
   "source": [
    "#### finding best threashold"
   ]
  },
  {
   "cell_type": "code",
   "execution_count": 212,
   "id": "f7271f31-e189-4a77-9b27-e9694ecb1e13",
   "metadata": {},
   "outputs": [],
   "source": [
    "th1 = [0.1,0.2,0.3,0.4,0.5,0.6,0.7,0.8,0.9]\n",
    "acc=[]\n",
    "rec=[]\n",
    "pre=[]\n",
    "f1=[]\n",
    "for i in th1:\n",
    "    ypred_th = np.zeros([len(ytest), 1])\n",
    "    ypred_th[yprob1>i]=1\n",
    "    acc.append(accuracy_score(ytest, ypred_th))\n",
    "    rec.append(recall_score(ytest, ypred_th))\n",
    "    pre.append(precision_score(ytest, ypred_th))\n",
    "    f1.append(f1_score(ytest, ypred_th))\n",
    "    "
   ]
  },
  {
   "cell_type": "code",
   "execution_count": 214,
   "id": "c5b3851c-5642-499d-a6bd-320e91bb1ce7",
   "metadata": {},
   "outputs": [
    {
     "data": {
      "text/plain": [
       "[0.7875, 0.8625, 0.875, 0.9, 0.875, 0.8875, 0.8625, 0.8375, 0.7375]"
      ]
     },
     "execution_count": 214,
     "metadata": {},
     "output_type": "execute_result"
    }
   ],
   "source": [
    "acc"
   ]
  },
  {
   "cell_type": "code",
   "execution_count": 216,
   "id": "fbf866d9-e203-4c7f-8d5d-300d345e1ce8",
   "metadata": {},
   "outputs": [
    {
     "data": {
      "text/plain": [
       "[0.9705882352941176,\n",
       " 0.9411764705882353,\n",
       " 0.9117647058823529,\n",
       " 0.9117647058823529,\n",
       " 0.8529411764705882,\n",
       " 0.8235294117647058,\n",
       " 0.7647058823529411,\n",
       " 0.6764705882352942,\n",
       " 0.38235294117647056]"
      ]
     },
     "execution_count": 216,
     "metadata": {},
     "output_type": "execute_result"
    }
   ],
   "source": [
    "rec"
   ]
  },
  {
   "cell_type": "code",
   "execution_count": 218,
   "id": "32256203-c1d1-4765-a0fc-2f56a601c053",
   "metadata": {},
   "outputs": [
    {
     "data": {
      "text/plain": [
       "[0.673469387755102,\n",
       " 0.7804878048780488,\n",
       " 0.8157894736842105,\n",
       " 0.8611111111111112,\n",
       " 0.8529411764705882,\n",
       " 0.9032258064516129,\n",
       " 0.896551724137931,\n",
       " 0.92,\n",
       " 1.0]"
      ]
     },
     "execution_count": 218,
     "metadata": {},
     "output_type": "execute_result"
    }
   ],
   "source": [
    "pre"
   ]
  },
  {
   "cell_type": "code",
   "execution_count": 228,
   "id": "d868afa8-4abb-4c8e-9e75-758690fab586",
   "metadata": {},
   "outputs": [
    {
     "data": {
      "text/html": [
       "<div>\n",
       "<style scoped>\n",
       "    .dataframe tbody tr th:only-of-type {\n",
       "        vertical-align: middle;\n",
       "    }\n",
       "\n",
       "    .dataframe tbody tr th {\n",
       "        vertical-align: top;\n",
       "    }\n",
       "\n",
       "    .dataframe thead th {\n",
       "        text-align: right;\n",
       "    }\n",
       "</style>\n",
       "<table border=\"1\" class=\"dataframe\">\n",
       "  <thead>\n",
       "    <tr style=\"text-align: right;\">\n",
       "      <th></th>\n",
       "      <th>acc</th>\n",
       "      <th>rec</th>\n",
       "      <th>pre</th>\n",
       "      <th>f1</th>\n",
       "    </tr>\n",
       "  </thead>\n",
       "  <tbody>\n",
       "    <tr>\n",
       "      <th>0</th>\n",
       "      <td>0.7875</td>\n",
       "      <td>0.970588</td>\n",
       "      <td>0.673469</td>\n",
       "      <td>0.795181</td>\n",
       "    </tr>\n",
       "    <tr>\n",
       "      <th>1</th>\n",
       "      <td>0.8625</td>\n",
       "      <td>0.941176</td>\n",
       "      <td>0.780488</td>\n",
       "      <td>0.853333</td>\n",
       "    </tr>\n",
       "    <tr>\n",
       "      <th>2</th>\n",
       "      <td>0.8750</td>\n",
       "      <td>0.911765</td>\n",
       "      <td>0.815789</td>\n",
       "      <td>0.861111</td>\n",
       "    </tr>\n",
       "    <tr>\n",
       "      <th>3</th>\n",
       "      <td>0.9000</td>\n",
       "      <td>0.911765</td>\n",
       "      <td>0.861111</td>\n",
       "      <td>0.885714</td>\n",
       "    </tr>\n",
       "    <tr>\n",
       "      <th>4</th>\n",
       "      <td>0.8750</td>\n",
       "      <td>0.852941</td>\n",
       "      <td>0.852941</td>\n",
       "      <td>0.852941</td>\n",
       "    </tr>\n",
       "    <tr>\n",
       "      <th>5</th>\n",
       "      <td>0.8875</td>\n",
       "      <td>0.823529</td>\n",
       "      <td>0.903226</td>\n",
       "      <td>0.861538</td>\n",
       "    </tr>\n",
       "    <tr>\n",
       "      <th>6</th>\n",
       "      <td>0.8625</td>\n",
       "      <td>0.764706</td>\n",
       "      <td>0.896552</td>\n",
       "      <td>0.825397</td>\n",
       "    </tr>\n",
       "    <tr>\n",
       "      <th>7</th>\n",
       "      <td>0.8375</td>\n",
       "      <td>0.676471</td>\n",
       "      <td>0.920000</td>\n",
       "      <td>0.779661</td>\n",
       "    </tr>\n",
       "    <tr>\n",
       "      <th>8</th>\n",
       "      <td>0.7375</td>\n",
       "      <td>0.382353</td>\n",
       "      <td>1.000000</td>\n",
       "      <td>0.553191</td>\n",
       "    </tr>\n",
       "  </tbody>\n",
       "</table>\n",
       "</div>"
      ],
      "text/plain": [
       "      acc       rec       pre        f1\n",
       "0  0.7875  0.970588  0.673469  0.795181\n",
       "1  0.8625  0.941176  0.780488  0.853333\n",
       "2  0.8750  0.911765  0.815789  0.861111\n",
       "3  0.9000  0.911765  0.861111  0.885714\n",
       "4  0.8750  0.852941  0.852941  0.852941\n",
       "5  0.8875  0.823529  0.903226  0.861538\n",
       "6  0.8625  0.764706  0.896552  0.825397\n",
       "7  0.8375  0.676471  0.920000  0.779661\n",
       "8  0.7375  0.382353  1.000000  0.553191"
      ]
     },
     "execution_count": 228,
     "metadata": {},
     "output_type": "execute_result"
    }
   ],
   "source": [
    "df_comp = pd.DataFrame({\n",
    "    \n",
    "    \"acc\" : acc,\n",
    "    \"rec\" : rec,\n",
    "    \"pre\" : pre,\n",
    "    \"f1\" : f1\n",
    "})\n",
    "df_comp"
   ]
  },
  {
   "cell_type": "code",
   "execution_count": 238,
   "id": "14e01539-b4c4-452d-8ac9-ab419f7e8469",
   "metadata": {},
   "outputs": [
    {
     "data": {
      "text/html": [
       "<div>\n",
       "<style scoped>\n",
       "    .dataframe tbody tr th:only-of-type {\n",
       "        vertical-align: middle;\n",
       "    }\n",
       "\n",
       "    .dataframe tbody tr th {\n",
       "        vertical-align: top;\n",
       "    }\n",
       "\n",
       "    .dataframe thead th {\n",
       "        text-align: right;\n",
       "    }\n",
       "</style>\n",
       "<table border=\"1\" class=\"dataframe\">\n",
       "  <thead>\n",
       "    <tr style=\"text-align: right;\">\n",
       "      <th></th>\n",
       "      <th>Threshold</th>\n",
       "      <th>TPR</th>\n",
       "      <th>FPR</th>\n",
       "    </tr>\n",
       "  </thead>\n",
       "  <tbody>\n",
       "    <tr>\n",
       "      <th>0</th>\n",
       "      <td>inf</td>\n",
       "      <td>0.000000</td>\n",
       "      <td>0.000000</td>\n",
       "    </tr>\n",
       "    <tr>\n",
       "      <th>1</th>\n",
       "      <td>0.999049</td>\n",
       "      <td>0.029412</td>\n",
       "      <td>0.000000</td>\n",
       "    </tr>\n",
       "    <tr>\n",
       "      <th>2</th>\n",
       "      <td>0.868106</td>\n",
       "      <td>0.558824</td>\n",
       "      <td>0.000000</td>\n",
       "    </tr>\n",
       "    <tr>\n",
       "      <th>3</th>\n",
       "      <td>0.831559</td>\n",
       "      <td>0.558824</td>\n",
       "      <td>0.021739</td>\n",
       "    </tr>\n",
       "    <tr>\n",
       "      <th>4</th>\n",
       "      <td>0.826401</td>\n",
       "      <td>0.588235</td>\n",
       "      <td>0.021739</td>\n",
       "    </tr>\n",
       "    <tr>\n",
       "      <th>5</th>\n",
       "      <td>0.819847</td>\n",
       "      <td>0.588235</td>\n",
       "      <td>0.043478</td>\n",
       "    </tr>\n",
       "    <tr>\n",
       "      <th>6</th>\n",
       "      <td>0.803032</td>\n",
       "      <td>0.676471</td>\n",
       "      <td>0.043478</td>\n",
       "    </tr>\n",
       "    <tr>\n",
       "      <th>7</th>\n",
       "      <td>0.773215</td>\n",
       "      <td>0.676471</td>\n",
       "      <td>0.065217</td>\n",
       "    </tr>\n",
       "    <tr>\n",
       "      <th>8</th>\n",
       "      <td>0.608384</td>\n",
       "      <td>0.823529</td>\n",
       "      <td>0.065217</td>\n",
       "    </tr>\n",
       "    <tr>\n",
       "      <th>9</th>\n",
       "      <td>0.575216</td>\n",
       "      <td>0.823529</td>\n",
       "      <td>0.108696</td>\n",
       "    </tr>\n",
       "    <tr>\n",
       "      <th>10</th>\n",
       "      <td>0.417100</td>\n",
       "      <td>0.911765</td>\n",
       "      <td>0.108696</td>\n",
       "    </tr>\n",
       "    <tr>\n",
       "      <th>11</th>\n",
       "      <td>0.296081</td>\n",
       "      <td>0.911765</td>\n",
       "      <td>0.173913</td>\n",
       "    </tr>\n",
       "    <tr>\n",
       "      <th>12</th>\n",
       "      <td>0.266560</td>\n",
       "      <td>0.941176</td>\n",
       "      <td>0.173913</td>\n",
       "    </tr>\n",
       "    <tr>\n",
       "      <th>13</th>\n",
       "      <td>0.132961</td>\n",
       "      <td>0.941176</td>\n",
       "      <td>0.282609</td>\n",
       "    </tr>\n",
       "    <tr>\n",
       "      <th>14</th>\n",
       "      <td>0.129367</td>\n",
       "      <td>0.970588</td>\n",
       "      <td>0.282609</td>\n",
       "    </tr>\n",
       "    <tr>\n",
       "      <th>15</th>\n",
       "      <td>0.083008</td>\n",
       "      <td>0.970588</td>\n",
       "      <td>0.413043</td>\n",
       "    </tr>\n",
       "    <tr>\n",
       "      <th>16</th>\n",
       "      <td>0.082649</td>\n",
       "      <td>1.000000</td>\n",
       "      <td>0.413043</td>\n",
       "    </tr>\n",
       "    <tr>\n",
       "      <th>17</th>\n",
       "      <td>0.000143</td>\n",
       "      <td>1.000000</td>\n",
       "      <td>1.000000</td>\n",
       "    </tr>\n",
       "  </tbody>\n",
       "</table>\n",
       "</div>"
      ],
      "text/plain": [
       "    Threshold       TPR       FPR\n",
       "0         inf  0.000000  0.000000\n",
       "1    0.999049  0.029412  0.000000\n",
       "2    0.868106  0.558824  0.000000\n",
       "3    0.831559  0.558824  0.021739\n",
       "4    0.826401  0.588235  0.021739\n",
       "5    0.819847  0.588235  0.043478\n",
       "6    0.803032  0.676471  0.043478\n",
       "7    0.773215  0.676471  0.065217\n",
       "8    0.608384  0.823529  0.065217\n",
       "9    0.575216  0.823529  0.108696\n",
       "10   0.417100  0.911765  0.108696\n",
       "11   0.296081  0.911765  0.173913\n",
       "12   0.266560  0.941176  0.173913\n",
       "13   0.132961  0.941176  0.282609\n",
       "14   0.129367  0.970588  0.282609\n",
       "15   0.083008  0.970588  0.413043\n",
       "16   0.082649  1.000000  0.413043\n",
       "17   0.000143  1.000000  1.000000"
      ]
     },
     "execution_count": 238,
     "metadata": {},
     "output_type": "execute_result"
    }
   ],
   "source": [
    "df_comp2 = pd.DataFrame({\n",
    "    'Threshold' : th,\n",
    "    'TPR' : tpr,\n",
    "    'FPR' : fpr\n",
    "})\n",
    "df_comp2"
   ]
  },
  {
   "cell_type": "code",
   "execution_count": null,
   "id": "ed9aa3a7-ed43-45d2-9c20-c916bc81160c",
   "metadata": {},
   "outputs": [],
   "source": []
  },
  {
   "cell_type": "code",
   "execution_count": null,
   "id": "9f011ab7-21a9-43fc-af43-abc19a6be913",
   "metadata": {},
   "outputs": [],
   "source": []
  },
  {
   "cell_type": "code",
   "execution_count": 240,
   "id": "0707132c-50ca-4601-a643-a095d6a8a23d",
   "metadata": {},
   "outputs": [],
   "source": [
    "df_comp2['TPR-FPR'] = df_comp2['TPR'] - df_comp2['FPR']"
   ]
  },
  {
   "cell_type": "code",
   "execution_count": 242,
   "id": "984a4415-eeb0-46b8-a1af-b955ac2e5a72",
   "metadata": {},
   "outputs": [
    {
     "data": {
      "text/html": [
       "<div>\n",
       "<style scoped>\n",
       "    .dataframe tbody tr th:only-of-type {\n",
       "        vertical-align: middle;\n",
       "    }\n",
       "\n",
       "    .dataframe tbody tr th {\n",
       "        vertical-align: top;\n",
       "    }\n",
       "\n",
       "    .dataframe thead th {\n",
       "        text-align: right;\n",
       "    }\n",
       "</style>\n",
       "<table border=\"1\" class=\"dataframe\">\n",
       "  <thead>\n",
       "    <tr style=\"text-align: right;\">\n",
       "      <th></th>\n",
       "      <th>Threshold</th>\n",
       "      <th>TPR</th>\n",
       "      <th>FPR</th>\n",
       "      <th>TPR-FPR</th>\n",
       "    </tr>\n",
       "  </thead>\n",
       "  <tbody>\n",
       "    <tr>\n",
       "      <th>0</th>\n",
       "      <td>inf</td>\n",
       "      <td>0.000000</td>\n",
       "      <td>0.000000</td>\n",
       "      <td>0.000000</td>\n",
       "    </tr>\n",
       "    <tr>\n",
       "      <th>17</th>\n",
       "      <td>0.000143</td>\n",
       "      <td>1.000000</td>\n",
       "      <td>1.000000</td>\n",
       "      <td>0.000000</td>\n",
       "    </tr>\n",
       "    <tr>\n",
       "      <th>1</th>\n",
       "      <td>0.999049</td>\n",
       "      <td>0.029412</td>\n",
       "      <td>0.000000</td>\n",
       "      <td>0.029412</td>\n",
       "    </tr>\n",
       "    <tr>\n",
       "      <th>3</th>\n",
       "      <td>0.831559</td>\n",
       "      <td>0.558824</td>\n",
       "      <td>0.021739</td>\n",
       "      <td>0.537084</td>\n",
       "    </tr>\n",
       "    <tr>\n",
       "      <th>5</th>\n",
       "      <td>0.819847</td>\n",
       "      <td>0.588235</td>\n",
       "      <td>0.043478</td>\n",
       "      <td>0.544757</td>\n",
       "    </tr>\n",
       "  </tbody>\n",
       "</table>\n",
       "</div>"
      ],
      "text/plain": [
       "    Threshold       TPR       FPR   TPR-FPR\n",
       "0         inf  0.000000  0.000000  0.000000\n",
       "17   0.000143  1.000000  1.000000  0.000000\n",
       "1    0.999049  0.029412  0.000000  0.029412\n",
       "3    0.831559  0.558824  0.021739  0.537084\n",
       "5    0.819847  0.588235  0.043478  0.544757"
      ]
     },
     "execution_count": 242,
     "metadata": {},
     "output_type": "execute_result"
    }
   ],
   "source": [
    "df_comp2.sort_values('TPR-FPR', ascending=True).head()"
   ]
  },
  {
   "cell_type": "code",
   "execution_count": null,
   "id": "4e284e1e-577e-4238-b53c-5ecb55bfcc43",
   "metadata": {},
   "outputs": [],
   "source": []
  },
  {
   "cell_type": "code",
   "execution_count": null,
   "id": "8c4746fb-daf4-4932-9bce-bf2128827e9a",
   "metadata": {},
   "outputs": [],
   "source": []
  },
  {
   "cell_type": "code",
   "execution_count": null,
   "id": "c9f66813-e1ba-437c-85ce-14e52ff1e9a1",
   "metadata": {},
   "outputs": [],
   "source": []
  },
  {
   "cell_type": "code",
   "execution_count": null,
   "id": "5183f412-a009-47a4-9140-5e7dc9ae88c8",
   "metadata": {},
   "outputs": [],
   "source": []
  },
  {
   "cell_type": "code",
   "execution_count": null,
   "id": "bca03775-28b8-45b1-95c6-c1bf8dd1416e",
   "metadata": {},
   "outputs": [],
   "source": []
  },
  {
   "cell_type": "code",
   "execution_count": null,
   "id": "1944fb45-c8bb-44eb-bf25-94955228c2dc",
   "metadata": {},
   "outputs": [],
   "source": []
  },
  {
   "cell_type": "code",
   "execution_count": null,
   "id": "e36bf908-72ba-4e3b-a8aa-238bf7f038fb",
   "metadata": {},
   "outputs": [],
   "source": []
  },
  {
   "cell_type": "code",
   "execution_count": null,
   "id": "9144bc80-c4ff-49eb-a7cb-964c3755e191",
   "metadata": {},
   "outputs": [],
   "source": []
  },
  {
   "cell_type": "code",
   "execution_count": null,
   "id": "0e3751f4-1724-4e7a-8f56-cfc521b2de5b",
   "metadata": {},
   "outputs": [],
   "source": []
  },
  {
   "cell_type": "code",
   "execution_count": null,
   "id": "7612760b-df23-4696-80f9-d6ed81aabb98",
   "metadata": {},
   "outputs": [],
   "source": []
  },
  {
   "cell_type": "code",
   "execution_count": null,
   "id": "a9e91ea4-1897-41d5-a04b-8d436df1b550",
   "metadata": {},
   "outputs": [],
   "source": []
  },
  {
   "cell_type": "code",
   "execution_count": null,
   "id": "a9bd4382-b54d-459f-afb8-bd7ae4d76a04",
   "metadata": {},
   "outputs": [],
   "source": []
  },
  {
   "cell_type": "code",
   "execution_count": null,
   "id": "1c4b3590-0c3d-4192-8ff2-64d1c22e8395",
   "metadata": {},
   "outputs": [],
   "source": []
  },
  {
   "cell_type": "code",
   "execution_count": null,
   "id": "7e252c60-8961-4060-9a3f-51d7856b3467",
   "metadata": {},
   "outputs": [],
   "source": []
  },
  {
   "cell_type": "code",
   "execution_count": null,
   "id": "188c6b77-9dc6-471d-acc8-e3eed1e56cea",
   "metadata": {},
   "outputs": [],
   "source": []
  },
  {
   "cell_type": "code",
   "execution_count": null,
   "id": "6159b917-2c08-4cc3-be88-132abcfff3b4",
   "metadata": {},
   "outputs": [],
   "source": []
  },
  {
   "cell_type": "code",
   "execution_count": null,
   "id": "4ec38a78-6976-46e1-81e3-9e5f0c014ad5",
   "metadata": {},
   "outputs": [],
   "source": []
  },
  {
   "cell_type": "code",
   "execution_count": null,
   "id": "76a2a41a-2109-4ea5-b5fb-348769dcb014",
   "metadata": {},
   "outputs": [],
   "source": []
  },
  {
   "cell_type": "code",
   "execution_count": null,
   "id": "d0345f3e-bdcd-4ff1-bc18-0ccfa7db204d",
   "metadata": {},
   "outputs": [],
   "source": []
  },
  {
   "cell_type": "code",
   "execution_count": null,
   "id": "f502832d-9be9-473c-8e51-ddb75b43ea36",
   "metadata": {},
   "outputs": [],
   "source": []
  },
  {
   "cell_type": "code",
   "execution_count": null,
   "id": "de41727a-0743-4c4d-a6ef-e01eecae1a05",
   "metadata": {},
   "outputs": [],
   "source": []
  },
  {
   "cell_type": "code",
   "execution_count": null,
   "id": "cd1dfd50-ace9-4341-ba36-c1db0c52d21c",
   "metadata": {},
   "outputs": [],
   "source": []
  },
  {
   "cell_type": "code",
   "execution_count": null,
   "id": "d222a439-ae0c-4424-bc54-52a67a5daf24",
   "metadata": {},
   "outputs": [],
   "source": []
  },
  {
   "cell_type": "code",
   "execution_count": null,
   "id": "a6b30e16-d975-416d-8082-25dcdaf4e6d1",
   "metadata": {},
   "outputs": [],
   "source": []
  }
 ],
 "metadata": {
  "kernelspec": {
   "display_name": "Python 3 (ipykernel)",
   "language": "python",
   "name": "python3"
  },
  "language_info": {
   "codemirror_mode": {
    "name": "ipython",
    "version": 3
   },
   "file_extension": ".py",
   "mimetype": "text/x-python",
   "name": "python",
   "nbconvert_exporter": "python",
   "pygments_lexer": "ipython3",
   "version": "3.12.4"
  }
 },
 "nbformat": 4,
 "nbformat_minor": 5
}
